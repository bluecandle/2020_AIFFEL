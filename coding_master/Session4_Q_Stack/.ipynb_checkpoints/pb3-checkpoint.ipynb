{
 "cells": [
  {
   "cell_type": "markdown",
   "metadata": {},
   "source": [
    "다리를 지나는 트럭\n",
    "문제 설명\n",
    "트럭 여러 대가 강을 가로지르는 일 차선 다리를 정해진 순으로 건너려 합니다. 모든 트럭이 다리를 건너려면 최소 몇 초가 걸리는지 알아내야 합니다. 트럭은 1초에 1만큼 움직이며, 다리 길이는 bridge_length이고 다리는 무게 weight까지 견딥니다.\n",
    "※ 트럭이 다리에 완전히 오르지 않은 경우, 이 트럭의 무게는 고려하지 않습니다.\n",
    "\n",
    "예를 들어, 길이가 2이고 10kg 무게를 견디는 다리가 있습니다. 무게가 [7, 4, 5, 6]kg인 트럭이 순서대로 최단 시간 안에 다리를 건너려면 다음과 같이 건너야 합니다.\n",
    "\n",
    "경과 시간\t다리를 지난 트럭\t다리를 건너는 트럭\t대기 트럭\n",
    "0\t[]\t[]\t[7,4,5,6]\n",
    "1~2\t[]\t[7]\t[4,5,6]\n",
    "3\t[7]\t[4]\t[5,6]\n",
    "4\t[7]\t[4,5]\t[6]\n",
    "5\t[7,4]\t[5]\t[6]\n",
    "6~7\t[7,4,5]\t[6]\t[]\n",
    "8\t[7,4,5,6]\t[]\t[]\n",
    "따라서, 모든 트럭이 다리를 지나려면 최소 8초가 걸립니다.\n",
    "\n",
    "solution 함수의 매개변수로 다리 길이 bridge_length, 다리가 견딜 수 있는 무게 weight, 트럭별 무게 truck_weights가 주어집니다. 이때 모든 트럭이 다리를 건너려면 최소 몇 초가 걸리는지 return 하도록 solution 함수를 완성하세요.\n",
    "\n",
    "제한 조건\n",
    "bridge_length는 1 이상 10,000 이하입니다.\n",
    "weight는 1 이상 10,000 이하입니다.\n",
    "truck_weights의 길이는 1 이상 10,000 이하입니다.\n",
    "모든 트럭의 무게는 1 이상 weight 이하입니다.\n",
    "입출력 예\n",
    "bridge_length\tweight\ttruck_weights\treturn\n",
    "2\t10\t[7,4,5,6]\t8\n",
    "100\t100\t[10]\t101\n",
    "100\t100\t[10,10,10,10,10,10,10,10,10,10]\t110\n",
    "출처\n",
    "\n",
    "※ 공지 - 2020년 4월 06일 테스트케이스가 추가되었습니다."
   ]
  },
  {
   "cell_type": "markdown",
   "metadata": {},
   "source": [
    "# 시도 1  : 실패(시간초과)"
   ]
  },
  {
   "cell_type": "code",
   "execution_count": 3,
   "metadata": {
    "ExecuteTime": {
     "end_time": "2020-08-24T01:47:10.217470Z",
     "start_time": "2020-08-24T01:47:10.204999Z"
    }
   },
   "outputs": [
    {
     "name": "stdout",
     "output_type": "stream",
     "text": [
      "8\n"
     ]
    }
   ],
   "source": [
    "def solution(bridge_length, weight, truck_weights):\n",
    "    # weight : 무게 제한\n",
    "    # truck_weights : 사실상 대기중인 트럭들\n",
    "    \n",
    "    answer = 0\n",
    "    # 다리 위에 올라와 있는 트럭을 확인하기 위함.\n",
    "    # 다리의 길이를 1칸씩 나누어 트럭이 있는 경우 무게가 있고, 아니면 무게가 없는 것으로 설정.\n",
    "    # 옷 입는 경우의 수 문제 풀 때, 옷을 안 입은 것도 하나의 경우의 수로 쳐줬듯이!\n",
    "    q_on_bridge = [0] * bridge_length\n",
    "    \n",
    "    while q_on_bridge:\n",
    "        answer +=1\n",
    "        \n",
    "        # 다리를 다 건넌 트럭은 제거\n",
    "        q_on_bridge.pop(0)\n",
    "        \n",
    "        if truck_weights:\n",
    "            temp = 0\n",
    "            for el in q_on_bridge:\n",
    "                temp +=el\n",
    "            \n",
    "            # 현재 다리 위에 올라와있는 모든 트럭들의 무게와 대기중인 트럭들 중 1번 트럭 무게 더하여 확인\n",
    "            if temp + truck_weights[0] <= weight:\n",
    "                # 무게 제한에 걸리지 않는 경우 다리에 올라오는 것으로 추가해줌\n",
    "                new = truck_weights.pop(0)\n",
    "                q_on_bridge.append(new)\n",
    "            else:\n",
    "                # 무게 제한에 걸리는 경우 새로운 트럭이 올라오지 않고, 그냥 빈 공간으로 남겨놓는다는 의미로\n",
    "                # 0을 추가해준다.\n",
    "                q_on_bridge.append(0)\n",
    "                                \n",
    "    return answer\n",
    "\n",
    "print(solution(2,10,[7,4,5,6]))"
   ]
  },
  {
   "cell_type": "markdown",
   "metadata": {},
   "source": [
    "# 시도 2 : 실패(시간초과)"
   ]
  },
  {
   "cell_type": "code",
   "execution_count": 6,
   "metadata": {
    "ExecuteTime": {
     "end_time": "2020-08-24T02:46:43.985568Z",
     "start_time": "2020-08-24T02:46:43.980902Z"
    }
   },
   "outputs": [
    {
     "name": "stdout",
     "output_type": "stream",
     "text": [
      "8\n"
     ]
    }
   ],
   "source": [
    "# deque를 사용하여 큐 구현\n",
    "from collections import deque\n",
    "def solution(bridge_length, weight, truck_weights):\n",
    "    # weight : 무게 제한\n",
    "    # truck_weights : 사실상 대기중인 트럭들\n",
    "    \n",
    "    answer = 0\n",
    "    # 다리 위에 올라와 있는 트럭을 확인하기 위함.\n",
    "    # 다리의 길이를 1칸씩 나누어 트럭이 있는 경우 무게가 있고, 아니면 무게가 없는 것으로 설정.\n",
    "    # 옷 입는 경우의 수 문제 풀 때, 옷을 안 입은 것도 하나의 경우의 수로 쳐줬듯이!\n",
    "    truck_weights = deque(truck_weights)\n",
    "    q_on_bridge = deque([0]*bridge_length)\n",
    "    \n",
    "    while q_on_bridge:\n",
    "        answer +=1\n",
    "        \n",
    "        # 다리를 다 건넌 트럭은 제거\n",
    "        q_on_bridge.popleft()\n",
    "        \n",
    "        if truck_weights:\n",
    "#             temp = 0\n",
    "#             for el in q_on_bridge:\n",
    "#                 temp +=el\n",
    "            \n",
    "            # 현재 다리 위에 올라와있는 모든 트럭들의 무게와 대기중인 트럭들 중 1번 트럭 무게 더하여 확인\n",
    "            if sum(q_on_bridge) + truck_weights[0] <= weight:\n",
    "                # 무게 제한에 걸리지 않는 경우 다리에 올라오는 것으로 추가해줌\n",
    "                new = truck_weights.popleft()\n",
    "                q_on_bridge.append(new)\n",
    "            else:\n",
    "                # 무게 제한에 걸리는 경우 새로운 트럭이 올라오지 않고, 그냥 빈 공간으로 남겨놓는다는 의미로\n",
    "                # 0을 추가해준다.\n",
    "                q_on_bridge.append(0)\n",
    "                                \n",
    "    return answer\n",
    "\n",
    "print(solution(2,10,[7,4,5,6]))"
   ]
  },
  {
   "cell_type": "code",
   "execution_count": null,
   "metadata": {},
   "outputs": [],
   "source": []
  }
 ],
 "metadata": {
  "kernelspec": {
   "display_name": "aiffel",
   "language": "python",
   "name": "aiffel"
  },
  "language_info": {
   "codemirror_mode": {
    "name": "ipython",
    "version": 3
   },
   "file_extension": ".py",
   "mimetype": "text/x-python",
   "name": "python",
   "nbconvert_exporter": "python",
   "pygments_lexer": "ipython3",
   "version": "3.7.7"
  },
  "toc": {
   "base_numbering": 1,
   "nav_menu": {},
   "number_sections": true,
   "sideBar": true,
   "skip_h1_title": false,
   "title_cell": "Table of Contents",
   "title_sidebar": "Contents",
   "toc_cell": false,
   "toc_position": {},
   "toc_section_display": true,
   "toc_window_display": false
  }
 },
 "nbformat": 4,
 "nbformat_minor": 4
}
