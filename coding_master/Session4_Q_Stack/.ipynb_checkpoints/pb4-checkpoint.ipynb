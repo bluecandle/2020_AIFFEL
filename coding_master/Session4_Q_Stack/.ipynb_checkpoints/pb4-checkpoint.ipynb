{
 "cells": [
  {
   "cell_type": "markdown",
   "metadata": {},
   "source": [
    "프린터\n",
    "문제 설명\n",
    "일반적인 프린터는 인쇄 요청이 들어온 순서대로 인쇄합니다. 그렇기 때문에 중요한 문서가 나중에 인쇄될 수 있습니다. 이런 문제를 보완하기 위해 중요도가 높은 문서를 먼저 인쇄하는 프린터를 개발했습니다. 이 새롭게 개발한 프린터는 아래와 같은 방식으로 인쇄 작업을 수행합니다.\n",
    "\n",
    "1. 인쇄 대기목록의 가장 앞에 있는 문서(J)를 대기목록에서 꺼냅니다.\n",
    "2. 나머지 인쇄 대기목록에서 J보다 중요도가 높은 문서가 한 개라도 존재하면 J를 대기목록의 가장 마지막에 넣습니다.\n",
    "3. 그렇지 않으면 J를 인쇄합니다.\n",
    "예를 들어, 4개의 문서(A, B, C, D)가 순서대로 인쇄 대기목록에 있고 중요도가 2 1 3 2 라면 C D A B 순으로 인쇄하게 됩니다.\n",
    "\n",
    "내가 인쇄를 요청한 문서가 몇 번째로 인쇄되는지 알고 싶습니다. 위의 예에서 C는 1번째로, A는 3번째로 인쇄됩니다.\n",
    "\n",
    "현재 대기목록에 있는 문서의 중요도가 순서대로 담긴 배열 priorities와 내가 인쇄를 요청한 문서가 현재 대기목록의 어떤 위치에 있는지를 알려주는 location이 매개변수로 주어질 때, 내가 인쇄를 요청한 문서가 몇 번째로 인쇄되는지 return 하도록 solution 함수를 작성해주세요.\n",
    "\n",
    "제한사항\n",
    "현재 대기목록에는 1개 이상 100개 이하의 문서가 있습니다.\n",
    "인쇄 작업의 중요도는 1~9로 표현하며 숫자가 클수록 중요하다는 뜻입니다.\n",
    "location은 0 이상 (현재 대기목록에 있는 작업 수 - 1) 이하의 값을 가지며 대기목록의 가장 앞에 있으면 0, 두 번째에 있으면 1로 표현합니다.\n",
    "입출력 예\n",
    "priorities\tlocation\treturn\n",
    "[2, 1, 3, 2]\t2\t1\n",
    "[1, 1, 9, 1, 1, 1]\t0\t5\n",
    "입출력 예 설명\n",
    "예제 #1\n",
    "\n",
    "문제에 나온 예와 같습니다.\n",
    "\n",
    "예제 #2\n",
    "\n",
    "6개의 문서(A, B, C, D, E, F)가 인쇄 대기목록에 있고 중요도가 1 1 9 1 1 1 이므로 C D E F A B 순으로 인쇄합니다."
   ]
  },
  {
   "cell_type": "markdown",
   "metadata": {},
   "source": [
    "# 시도 1"
   ]
  },
  {
   "cell_type": "code",
   "execution_count": 3,
   "metadata": {
    "ExecuteTime": {
     "end_time": "2020-08-24T03:10:56.396497Z",
     "start_time": "2020-08-24T03:10:56.391485Z"
    }
   },
   "outputs": [
    {
     "name": "stdout",
     "output_type": "stream",
     "text": [
      "1\n",
      "5\n"
     ]
    }
   ],
   "source": [
    "def solution(priorities, location):\n",
    "    # iteration 이 일어난 횟수\n",
    "    answer = 0\n",
    "    \n",
    "    # location 변수가 출력하길 원하는 작업물의 위치를 표시하는 지표로 사용된다.\n",
    "    # 즉, 한 번 작업이 진행될 때마다 1 씩 감소시키면서 앞으로 이동되는 것을 구현\n",
    "    # 0이 되는 경우를 확인 => 0이 되었다는 것은 원하는 작업물이 나올 차례임을 의미\n",
    "    # 원하는 작업물이 나올 차례이면서 동시에 현재 대기 목록 안에서 가장 높은 우선순위와 동일한 우선순위를 가지면\n",
    "    # 완료되는것!\n",
    "    \n",
    "    while True:\n",
    "        \n",
    "        max_ = max(priorities)\n",
    "        cand = priorities.pop(0)\n",
    "\n",
    "        # 가장 앞에 들어있는 작업이 가장 큰 우선순위를 가진 작업인 경우\n",
    "        if cand == max_:\n",
    "            answer+=1\n",
    "            \n",
    "            # 출력하길 원하는 작업물인 경우, 종료 및 현재까지 iteration 이 일어난 횟수를 return\n",
    "            if location == 0:\n",
    "                return answer\n",
    "            # 출력하길 원하는 작업물이 아닌 경우\n",
    "            # 위치 한 칸 이동.\n",
    "            else:\n",
    "                location -=1\n",
    "        \n",
    "        # 가장 앞에 들어있는 작업이 가장 큰 우선순위를 가진 작업이 아닌 경우\n",
    "        else :\n",
    "            # 다시 뒤로 보낸다.\n",
    "            priorities.append(cand)\n",
    "            # 근데 그 대상이 출력하길 원하는 작업물이었던 경우,\n",
    "            # 위치를 가장 마지막으로 보내준다!\n",
    "            if location == 0:\n",
    "                location = len(priorities)-1\n",
    "            # 아니라면, 다시 위치 한 칸 이동.\n",
    "            else:\n",
    "                location -=1\n",
    "\n",
    "\n",
    "print(solution([2, 1, 3, 2],2))\n",
    "print(solution([1, 1, 9, 1, 1, 1],0))"
   ]
  },
  {
   "cell_type": "code",
   "execution_count": null,
   "metadata": {},
   "outputs": [],
   "source": []
  }
 ],
 "metadata": {
  "kernelspec": {
   "display_name": "aiffel",
   "language": "python",
   "name": "aiffel"
  },
  "language_info": {
   "codemirror_mode": {
    "name": "ipython",
    "version": 3
   },
   "file_extension": ".py",
   "mimetype": "text/x-python",
   "name": "python",
   "nbconvert_exporter": "python",
   "pygments_lexer": "ipython3",
   "version": "3.7.7"
  },
  "toc": {
   "base_numbering": 1,
   "nav_menu": {},
   "number_sections": true,
   "sideBar": true,
   "skip_h1_title": false,
   "title_cell": "Table of Contents",
   "title_sidebar": "Contents",
   "toc_cell": false,
   "toc_position": {},
   "toc_section_display": true,
   "toc_window_display": false
  }
 },
 "nbformat": 4,
 "nbformat_minor": 4
}
