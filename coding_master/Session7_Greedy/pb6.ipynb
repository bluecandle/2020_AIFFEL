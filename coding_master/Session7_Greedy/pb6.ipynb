{
 "metadata": {
  "language_info": {
   "codemirror_mode": {
    "name": "ipython",
    "version": 3
   },
   "file_extension": ".py",
   "mimetype": "text/x-python",
   "name": "python",
   "nbconvert_exporter": "python",
   "pygments_lexer": "ipython3",
   "version": "3.8.3-final"
  },
  "orig_nbformat": 2,
  "kernelspec": {
   "name": "temp",
   "display_name": "temp"
  }
 },
 "nbformat": 4,
 "nbformat_minor": 2,
 "cells": [
  {
   "cell_type": "markdown",
   "metadata": {},
   "source": [
    "# 단속카메라\n",
    "\n",
    "- 고속도로를 이동하는 모든 차량이 고속도로를 이용하면서 단속용 카메라를 한 번은 만나도록 최소 갯수로 카메라 설치.\n",
    "- 진입, 진출 시점에 카메라가 설치되어 있어도 카메라를 만난것으로 간주함.\n",
    "- 진입 지점, 진출 지점은 -30,000 이상 30,000 이하\n"
   ]
  },
  {
   "cell_type": "code",
   "execution_count": 5,
   "metadata": {},
   "outputs": [],
   "source": [
    "def solution(routes):\n",
    "    answer = 0\n",
    "    \n",
    "    # 진출 시점을 기준으로 오름차순 정렬\n",
    "    routes = sorted(routes, key=lambda x : x[1])\n",
    "\n",
    "    # print(routes)\n",
    "    prev_end = -30000\n",
    "\n",
    "    # 진출 시점을 기준으로 오름차순으로 정렬된 목록에서 하나씩 뺀다 ( 진출시점이 가장 이른 순서대로 뽑힌다 )\n",
    "    for start, end in routes :\n",
    "        # 진출시점이 가장 이른 차량의 출발 시점이 이전 차량의 진출시점 이후라면, 겹치는 부분이 없다!\n",
    "        # 겹쳐지는 부분이 없을 경우 answer를 하나 증가\n",
    "        # 카메라 += 1\n",
    "        if prev_end < start :\n",
    "            answer += 1\n",
    "            prev_end = end\n",
    "\n",
    "    return answer\n",
    "\n",
    "    return answer"
   ]
  },
  {
   "cell_type": "code",
   "execution_count": 6,
   "metadata": {
    "tags": []
   },
   "outputs": [
    {
     "output_type": "execute_result",
     "data": {
      "text/plain": "2"
     },
     "metadata": {},
     "execution_count": 6
    }
   ],
   "source": [
    "solution([[-20,-15], [-14,-5], [-18,-13], [-5,-3]])"
   ]
  },
  {
   "cell_type": "code",
   "execution_count": 7,
   "metadata": {
    "tags": []
   },
   "outputs": [
    {
     "output_type": "stream",
     "name": "stdout",
     "text": "795 ns ± 7.26 ns per loop (mean ± std. dev. of 7 runs, 1000000 loops each)\n"
    }
   ],
   "source": [
    "%timeit solution([[-20,-15], [-14,-5], [-18,-13], [-5,-3]])"
   ]
  },
  {
   "cell_type": "code",
   "execution_count": null,
   "metadata": {},
   "outputs": [],
   "source": []
  }
 ]
}