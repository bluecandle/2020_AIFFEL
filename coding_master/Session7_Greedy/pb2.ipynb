{
 "metadata": {
  "language_info": {
   "codemirror_mode": {
    "name": "ipython",
    "version": 3
   },
   "file_extension": ".py",
   "mimetype": "text/x-python",
   "name": "python",
   "nbconvert_exporter": "python",
   "pygments_lexer": "ipython3",
   "version": "3.7.6-final"
  },
  "orig_nbformat": 2,
  "kernelspec": {
   "name": "python37664bitbaseconda937c10d3a26049979e32c6433c1ca253",
   "display_name": "Python 3.7.6 64-bit ('base': conda)"
  }
 },
 "nbformat": 4,
 "nbformat_minor": 2,
 "cells": [
  {
   "cell_type": "markdown",
   "metadata": {},
   "source": [
    "# 큰 수 만들기\n",
    "\n",
    "어떤 숫자에서 k개의 수를 제거했을 때 얻을 수 있는 가장 큰 굿자.\n",
    "\n",
    "number 에서 k개의 수를 제거했을 때 만들 수 있는 수 중 가장 큰 숫자를 문자열 형태로 return\n",
    "\n",
    "### 제한조건\n",
    "- number 1자리 이상, 1mil자리 이하인 숫자.\n",
    "- k는 1이상 number 자릿수 미만인 자연수\n"
   ]
  },
  {
   "cell_type": "markdown",
   "metadata": {},
   "source": [
    "# 시도 1 : 실패\n",
    "\n",
    "1. number에 들어있는 모든 수를 분리\n",
    "2. 내림차순 정렬\n",
    "3. 내림차순 정렬된 목록에서 앞에서부터 len(number)-k 개만큼 연결하여 return\n",
    "\n",
    "=> 숫자의 순서를 바꾸는 것은 안된다!"
   ]
  },
  {
   "cell_type": "code",
   "execution_count": 8,
   "metadata": {},
   "outputs": [],
   "source": [
    "def solution(number, k):\n",
    "    answer = ''\n",
    "    \n",
    "    nums = list(map(lambda x : int(x),number))\n",
    "    \n",
    "    desc_nums = sorted(nums,reverse=True)\n",
    "\n",
    "    for idx in range(len(desc_nums)-k):\n",
    "        answer+=str(desc_nums[idx])\n",
    "\n",
    "    return answer"
   ]
  },
  {
   "cell_type": "code",
   "execution_count": 7,
   "metadata": {
    "tags": []
   },
   "outputs": [
    {
     "output_type": "execute_result",
     "data": {
      "text/plain": "'94'"
     },
     "metadata": {},
     "execution_count": 7
    }
   ],
   "source": [
    "solution('1924',2)"
   ]
  },
  {
   "cell_type": "markdown",
   "metadata": {},
   "source": [
    "# 시도 2 : 테스트 케이스 11번만 통과\n",
    "\n",
    "1. number에 들어있는 모든 수를 분리\n",
    "2. 내림차순 정렬\n",
    "3. 원래 목록 0번이 내림차순 0번과 같으면 (더 클수는 없지) 포함\n",
    "4. 원래 목록 1번부터 시작.\n",
    "5. 원래 목록 idx 와 내림차순 idx-1 에 있는 숫자를 비교하여, 원래 목록에 있는 수가 더 크거나 같으면 포함.\n",
    "5. 완료된 목록이 len(number) - k 보다 크다면, 끝부터 잘라내기\n",
    "6. 완료된 목록이 len(number) - k 보다 작다면, 끝에서부터 차이나는 만큼 붙여넣기\n",
    "\n",
    "\n",
    "=> 이거 아닌거같다"
   ]
  },
  {
   "cell_type": "code",
   "execution_count": 27,
   "metadata": {},
   "outputs": [],
   "source": [
    "def solution(number, k):\n",
    "    answer = ''\n",
    "    \n",
    "    nums = list(map(lambda x : int(x),number))\n",
    "    \n",
    "    desc_nums = sorted(nums,reverse=True)\n",
    "\n",
    "    if nums[0] == desc_nums[0]:\n",
    "        answer+=str(nums[0])\n",
    "\n",
    "    for idx in range(1,len(nums)):\n",
    "        original = nums[idx]\n",
    "        desc = desc_nums[idx-1]\n",
    "\n",
    "        if original >= desc:\n",
    "            answer+=str(original)\n",
    "    \n",
    "    limit = len(nums) - k\n",
    "    diff = len(answer) - limit\n",
    "    \n",
    "    if diff > 0 :\n",
    "        answer = answer[0:(len(answer)-diff)]\n",
    "    elif diff < 0 :\n",
    "        for idx in range(diff,0):        \n",
    "            answer+= nums[idx]\n",
    "\n",
    "    return answer\n",
    "\n"
   ]
  },
  {
   "cell_type": "code",
   "execution_count": 28,
   "metadata": {},
   "outputs": [
    {
     "output_type": "execute_result",
     "data": {
      "text/plain": "'94'"
     },
     "metadata": {},
     "execution_count": 28
    }
   ],
   "source": [
    "solution('1924',2)"
   ]
  },
  {
   "cell_type": "markdown",
   "metadata": {},
   "source": [
    "# 시도 3 : 실패 (테스트 10번 시간초과)\n",
    "그리디 알고리즘 문제답게, 그냥 순서대로 비교해보는 방식으로 해보자. 단, 줄어드는 sliding window 를 사용한다.   \n",
    "iter 마다 다른 size로 구획을 나누고 그 구획 안에서 가장 큰 수를 찾는 식으로.\n",
    "\n",
    "idx 지점을 시작으로 idx+k 까지의 window를 적용하려고 하는 것이지만, 그렇게 하면 이미 포함된 값이 다시 포함될 수 있다.   \n",
    "따라서, ptr 값을 두어서 직전에 포함된 값이 어디에 있었는지 저장하고, 해당 지점에서부터 시작하도록 한다."
   ]
  },
  {
   "cell_type": "code",
   "execution_count": 71,
   "metadata": {},
   "outputs": [],
   "source": [
    "def solution(number, k):\n",
    "    answer = ''\n",
    "    \n",
    "    nums = list(map(lambda x : int(x),number))\n",
    "    _len = len(nums)\n",
    "    limit = _len-k\n",
    "    ptr = 0\n",
    "\n",
    "    for idx in range(limit):\n",
    "        _max = nums[ptr]\n",
    "        \n",
    "        for j in range(ptr,idx+k+1):\n",
    "            if _max < nums[j] :\n",
    "                _max = nums[j]\n",
    "                ptr = j\n",
    "\n",
    "        ptr+=1\n",
    "        answer+=str(_max)\n",
    "    \n",
    "    return answer\n",
    "\n"
   ]
  },
  {
   "cell_type": "code",
   "execution_count": 72,
   "metadata": {
    "tags": []
   },
   "outputs": [
    {
     "output_type": "execute_result",
     "data": {
      "text/plain": "'94'"
     },
     "metadata": {},
     "execution_count": 72
    }
   ],
   "source": [
    "solution('1924',2)"
   ]
  },
  {
   "cell_type": "code",
   "execution_count": 73,
   "metadata": {
    "tags": []
   },
   "outputs": [
    {
     "output_type": "execute_result",
     "data": {
      "text/plain": "'775841'"
     },
     "metadata": {},
     "execution_count": 73
    }
   ],
   "source": [
    "solution('4177252841',4)"
   ]
  },
  {
   "cell_type": "markdown",
   "metadata": {},
   "source": [
    "# 시도 4: 시간 줄이기 _ 실패\n",
    "다른 방법으로 접근해보자... 단순히 그냥 앞 숫자가 뒷 숫자보다 크도록 하기.   \n",
    "만약 앞 숫자가 뒷 숫자보다 작다면, delete 해버리기   \n",
    "deque 사용해서 해봤는데... 그래도 시간초과 뜬다. 오히려 string으로 하는 것보다 오래걸리는 듯!   "
   ]
  },
  {
   "cell_type": "code",
   "execution_count": 69,
   "metadata": {},
   "outputs": [],
   "source": [
    "from collections import deque\n",
    "def solution(number, k):\n",
    "    answer = ''\n",
    "\n",
    "    d = deque(number)\n",
    "    count = 0\n",
    "    while(count < k):\n",
    "        for i in range(len(d)-1):\n",
    "            char_cur = d[i]\n",
    "            char_after = d[i+1]\n",
    "\n",
    "            if char_cur == '9':\n",
    "                continue\n",
    "            if char_cur < char_after :                             \n",
    "                del d[i]\n",
    "                count+=1\n",
    "                break\n",
    "            if i == len(answer)-2:\n",
    "                del d[i+1]              \n",
    "                count+=1\n",
    "                break\n",
    "    \n",
    "    _len = len(d)\n",
    "    for i in range(_len):\n",
    "        answer+=d.popleft()\n",
    "    return answer\n",
    "\n"
   ]
  },
  {
   "cell_type": "code",
   "execution_count": 70,
   "metadata": {
    "tags": []
   },
   "outputs": [
    {
     "output_type": "execute_result",
     "data": {
      "text/plain": "'775841'"
     },
     "metadata": {},
     "execution_count": 70
    }
   ],
   "source": [
    "solution('4177252841',4)"
   ]
  },
  {
   "cell_type": "markdown",
   "metadata": {},
   "source": [
    "# 시도 5 : 시간 줄이기 _ 시도 3을 조금 변경\n",
    "현재 추출된 값이 9인 경우 pass 하는 경우를 넣었더니 성공!"
   ]
  },
  {
   "cell_type": "code",
   "execution_count": 71,
   "metadata": {},
   "outputs": [],
   "source": [
    "def solution(number, k):\n",
    "    answer = ''\n",
    "    \n",
    "    nums = list(map(lambda x : int(x),number))\n",
    "    _len = len(nums)\n",
    "    limit = _len-k\n",
    "    ptr = 0\n",
    "\n",
    "    for idx in range(limit):\n",
    "        _max = nums[ptr]\n",
    "\n",
    "        if _max == 9:\n",
    "            pass\n",
    "        else:        \n",
    "            for j in range(ptr,idx+k+1):\n",
    "                if _max < nums[j] :\n",
    "                    _max = nums[j]\n",
    "                    ptr = j\n",
    "\n",
    "                    if _max == 9:                    \n",
    "                        break               \n",
    "                    \n",
    "        ptr+=1\n",
    "        answer+=str(_max)\n",
    "    \n",
    "    return answer\n",
    "\n"
   ]
  },
  {
   "cell_type": "code",
   "execution_count": 72,
   "metadata": {},
   "outputs": [
    {
     "output_type": "execute_result",
     "data": {
      "text/plain": "'775841'"
     },
     "metadata": {},
     "execution_count": 72
    }
   ],
   "source": [
    "solution('4177252841',4)"
   ]
  },
  {
   "cell_type": "code",
   "execution_count": 73,
   "metadata": {
    "tags": []
   },
   "outputs": [
    {
     "output_type": "stream",
     "name": "stdout",
     "text": "4.94 µs ± 60.3 ns per loop (mean ± std. dev. of 7 runs, 100000 loops each)\n"
    }
   ],
   "source": [
    "%timeit solution('4177252841',4)"
   ]
  },
  {
   "cell_type": "code",
   "execution_count": null,
   "metadata": {},
   "outputs": [],
   "source": []
  }
 ]
}