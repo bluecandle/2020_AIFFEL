{
 "metadata": {
  "language_info": {
   "codemirror_mode": {
    "name": "ipython",
    "version": 3
   },
   "file_extension": ".py",
   "mimetype": "text/x-python",
   "name": "python",
   "nbconvert_exporter": "python",
   "pygments_lexer": "ipython3",
   "version": "3.7.6-final"
  },
  "orig_nbformat": 2,
  "kernelspec": {
   "name": "python37664bitbaseconda937c10d3a26049979e32c6433c1ca253",
   "display_name": "Python 3.7.6 64-bit ('base': conda)"
  }
 },
 "nbformat": 4,
 "nbformat_minor": 2,
 "cells": [
  {
   "cell_type": "markdown",
   "metadata": {},
   "source": [
    "# 조이스틱\n",
    "\n",
    "조이스틱으로 알파벳 이름 완성하기.\n",
    "맨 처음엔 A로만 이루어져 있다.   \n",
    "세 글자면 AAA, 네 글자면 AAAA\n",
    "\n",
    "\n",
    "▲ - 다음 알파벳   \n",
    "▼ - 이전 알파벳 (A에서 아래쪽으로 이동하면 Z로)   \n",
    "◀ - 커서를 왼쪽으로 이동 (첫 번째 위치에서 왼쪽으로 이동하면 마지막 문자에 커서)   \n",
    "▶ - 커서를 오른쪽으로 이동   \n",
    "\n",
    "만들고자 하는 이름 name이 매개변수로 주어질 때, 이름에 대해 조이스틱 조작 횟수의 최솟값을 return 하도록 solution 함수를 만드세요.\n",
    "\n",
    "### 제한사항\n",
    "1. name은 알파벳 대문자로만 이루어져 있다.\n",
    "2. name의 길이는 1 이상 20 이하이다."
   ]
  },
  {
   "cell_type": "markdown",
   "metadata": {},
   "source": [
    "# 생각 0\n",
    "1. 각 자릿수에 있는 알파벳을 A에서 변환시킬 수 있는 최소한의 움직임을 계산\n",
    "2. 각 자릿수를 모두 방문하는 최소한의 움직임을 계산"
   ]
  },
  {
   "cell_type": "markdown",
   "metadata": {},
   "source": [
    "# 생각 1\n",
    "1. 알파벳 길이는 26\n",
    "2. A에서 시작하기 때문에, B~M 까지는 1~12 의 횟수가 필요.\n",
    "3. 중간인 N 은 13의 횟수가 필요.\n",
    "4. O~Z 는 12~1 의 횟수가 필요."
   ]
  },
  {
   "cell_type": "markdown",
   "metadata": {},
   "source": [
    "\n",
    "# 생각 2\n",
    "1. 길이가 n 이라고 할 때,\n",
    "2. idx 1번에 있는 글자가 A 인 경우, 뒤로 돌아가는게 좋다.\n",
    "3. idx n-1 (끝글자) 가 A 인 경우, 똑바로 가는게 좋다.\n",
    "4. 보편화해서 생각해보면, 첫 번째 A를 기준으로 왼쪽에 있는 갯수\n",
    "5. 마지막 A를 기준으로 오른쪽에 있느 ㄴ갯수\n",
    "6. 4와 5에서 나온 갯수를 비교하여 4의 수가 더 크거나 같다면 정방향으로 이동하느 ㄴ것이 좋다.\n",
    "7. 5에서 나온 수가 더 크다면 첫 A를 만날 때까지 A정방향으로 이동하다가 역방향으로 이동하는 것이 좋다.\n"
   ]
  },
  {
   "cell_type": "markdown",
   "metadata": {},
   "source": [
    "# 생각 3\n",
    "단, 생각 2에 포함된 과정은 이름의 길이가 4 이상일 경우에만 적용된다.\n",
    "이름의 길이가 4 미만일 경우, 각각의 경우에 대해 처리한다."
   ]
  },
  {
   "cell_type": "markdown",
   "metadata": {},
   "source": [
    "# 시도 1: 실패\n",
    "테스트 케이스 3,10,11 번 실패"
   ]
  },
  {
   "cell_type": "code",
   "execution_count": 53,
   "metadata": {},
   "outputs": [],
   "source": [
    "from collections import defaultdict\n",
    "def solution(name):\n",
    "    answer = 0\n",
    "    ALPHAS = 'ABCDEFGHIJKLMNOPQRSTUVWXYZ'\n",
    "\n",
    "    RIGHT = 1\n",
    "    LEFT = -1\n",
    "\n",
    "    _r_name = name[::-1]\n",
    "\n",
    "    first_A = name.find('A')\n",
    "    last_A = _r_name.find('A')\n",
    "\n",
    "    pos_move = 0 \n",
    "\n",
    "    _len_name = len(name)\n",
    "    \n",
    "    if _len_name == 1 :\n",
    "        pass\n",
    "    elif _len_name == 2 :\n",
    "        _1 = name[0]\n",
    "        _2 = name[1]\n",
    "        if _1 == 'A' and _2 == 'A':\n",
    "            pass\n",
    "        elif _1 == 'A' and _2 != 'A':\n",
    "            pos_move+=1\n",
    "        else:\n",
    "            pass\n",
    "    elif _len_name == 3:\n",
    "        _1 = name[0]\n",
    "        _2 = name[1]\n",
    "        _3 = name[2]\n",
    "\n",
    "        if _2 != 'A':\n",
    "            if _3 != 'A':\n",
    "                pos_move+=2\n",
    "            elif _3 == 'A':\n",
    "                pos_move+=1\n",
    "\n",
    "        else :\n",
    "            if _3 != 'A':\n",
    "                pos_move+=1\n",
    "            elif _3 == 'A':\n",
    "                pass\n",
    "    else:\n",
    "\n",
    "        # 왼쪽에 글자가 더 많다면, 그냥 정방향\n",
    "        if first_A >= last_A:\n",
    "            pos_move += (_len_name-1)\n",
    "        \n",
    "        # 오른쪽에 글자가 더 많다면, 정방향으로 진행 후 역방향\n",
    "        elif first_A < last_A:\n",
    "            # 첫번째 A 등장하기 전에 2개 이상의 글자가 있다면\n",
    "            if first_A>=2:\n",
    "                pos_move += (first_A-1)*2 # 첫 번째 A 직전까지 갔다가 돌아오기\n",
    "            \n",
    "            # 마지막 A 등장한 이후에 1개 이상의 글자가 있다면\n",
    "            if last_A>=1:\n",
    "                pos_move += (1+(last_A-1)) # 마지막 A 직전까지 이동\n",
    "\n",
    "            # 두 A 사이에 다른 글자들이 있다면\n",
    "            diff = (_len_name-1-last_A) - first_A\n",
    "            if diff > 1:\n",
    "                pos_move+=diff\n",
    "    \n",
    "    answer+=pos_move\n",
    "\n",
    "    alpha_first_half = ALPHAS[1:13]\n",
    "    alpha_middle = 'N'\n",
    "    alpha_last_half = ALPHAS[14:26][::-1]\n",
    "    \n",
    "    d = defaultdict(str)\n",
    "    d['A'] = 0\n",
    "    d[alpha_middle] = 13\n",
    "    \n",
    "    for i in range(12):\n",
    "        d[alpha_first_half[i]] = i+1\n",
    "        d[alpha_last_half[i]] = i+1\n",
    "\n",
    "    print(d)\n",
    "    print(answer)\n",
    "    for char in name:\n",
    "        print(char,d[char])\n",
    "        answer+= d[char]\n",
    "    print(answer)\n",
    "    \n",
    "    \n",
    "    return answer"
   ]
  },
  {
   "cell_type": "code",
   "execution_count": 57,
   "metadata": {
    "tags": []
   },
   "outputs": [
    {
     "output_type": "stream",
     "name": "stdout",
     "text": "defaultdict(<class 'str'>, {'A': 0, 'N': 13, 'B': 1, 'Z': 1, 'C': 2, 'Y': 2, 'D': 3, 'X': 3, 'E': 4, 'W': 4, 'F': 5, 'V': 5, 'G': 6, 'U': 6, 'H': 7, 'T': 7, 'I': 8, 'S': 8, 'J': 9, 'R': 9, 'K': 10, 'Q': 10, 'L': 11, 'P': 11, 'M': 12, 'O': 12})\n1\nJ 9\nA 0\nN 13\n23\n"
    },
    {
     "output_type": "execute_result",
     "data": {
      "text/plain": "23"
     },
     "metadata": {},
     "execution_count": 57
    }
   ],
   "source": [
    "solution('JAN')"
   ]
  },
  {
   "cell_type": "markdown",
   "metadata": {},
   "source": [
    "---\n",
    "# 시도 2 : 실패 _ 테스트 케이스 11번 실패\n",
    "Greedy 답게 풀어보자. 인터넷 풀이 참조   \n",
    "각 지점에서, A가 아닌 값을 가장 먼저 만날 수 있는 방향으로 이동한다. 오른쪽이 우선순위."
   ]
  },
  {
   "cell_type": "code",
   "execution_count": 95,
   "metadata": {},
   "outputs": [],
   "source": [
    "from collections import defaultdict\n",
    "def solution(name):\n",
    "    answer = 0\n",
    "\n",
    "    ALPHAS = 'ABCDEFGHIJKLMNOPQRSTUVWXYZ'\n",
    "    A = 'A'\n",
    "\n",
    "    alpha_first_half = ALPHAS[1:13]\n",
    "    alpha_middle = 'N'\n",
    "    alpha_last_half = ALPHAS[14:26][::-1]\n",
    "    \n",
    "    d = defaultdict(str)\n",
    "    d['A'] = 0\n",
    "    d[alpha_middle] = 13\n",
    "    \n",
    "    for i in range(12):\n",
    "        d[alpha_first_half[i]] = i+1\n",
    "        d[alpha_last_half[i]] = i+1\n",
    "    \n",
    "    ptr = 0\n",
    "    _len_name = len(name)\n",
    "\n",
    "    _max_iter = 0\n",
    "    for n in name:\n",
    "        if n != A:\n",
    "            _max_iter +=1\n",
    "\n",
    "    _count_iter = 0\n",
    "\n",
    "    while True:\n",
    "       \n",
    "        if _count_iter < _max_iter:\n",
    "            \n",
    "            # print(ptr,name[ptr],d[name[ptr]])\n",
    "            answer += d[name[ptr]]\n",
    "            name = name[:ptr] + 'A' + name[ptr+1:] # name[ptr] 값을 'A'로 변환\n",
    "            \n",
    "            nr_ptr, nl_ptr = ptr, ptr # 좌우로 움직일 지점 값\n",
    "\n",
    "            for idx in range(_len_name):\n",
    "                if nr_ptr >= _len_name:\n",
    "                    nr_ptr = 0\n",
    "                if nl_ptr < 0:\n",
    "                    nl_ptr = _len_name-1\n",
    "                \n",
    "                # 오른쪽 우선순위, 오른쪽으로 이동한 지점에 A 가 아닌 글자가 발견되는 경우\n",
    "                if name[nr_ptr] != A:\n",
    "                    ptr = nr_ptr # 오른쪽 포인터가 지정한 지점으로 이동\n",
    "                    answer += idx # 이동한 횟수만큼 증가\n",
    "                    break\n",
    "                \n",
    "                # 왼쪽으로 이동한 지점에 A가 아닌 글자가 발견되는 경우\n",
    "                if name[nl_ptr] != A:\n",
    "                    ptr = nl_ptr # 왼쪽 포인터가 지정한 지점으로 이동\n",
    "                    answer += idx # 이동한 횟수만큼 증가\n",
    "                    break\n",
    "\n",
    "                nr_ptr+=1\n",
    "                nl_ptr-=1\n",
    "            \n",
    "            _count_iter+=1\n",
    "\n",
    "        else:\n",
    "            break\n",
    "    \n",
    "    return answer"
   ]
  },
  {
   "cell_type": "code",
   "execution_count": 94,
   "metadata": {
    "tags": []
   },
   "outputs": [
    {
     "output_type": "execute_result",
     "data": {
      "text/plain": "23"
     },
     "metadata": {},
     "execution_count": 94
    }
   ],
   "source": [
    "solution('JAN')"
   ]
  },
  {
   "cell_type": "markdown",
   "metadata": {},
   "source": [
    "---\n",
    "# 시도 3 : 성공\n",
    "역시 인터넷 풀이 참조. 위의 코드와 아이디어는 같다.   "
   ]
  },
  {
   "cell_type": "code",
   "execution_count": 22,
   "metadata": {},
   "outputs": [],
   "source": [
    "from collections import defaultdict\n",
    "def solution(name):\n",
    "    answer = 0\n",
    "\n",
    "    ALPHAS = 'ABCDEFGHIJKLMNOPQRSTUVWXYZ'\n",
    "    A = 'A'\n",
    "\n",
    "    alpha_first_half = ALPHAS[1:13]\n",
    "    alpha_middle = 'N'\n",
    "    alpha_last_half = ALPHAS[14:26][::-1]\n",
    "    \n",
    "    d = defaultdict(str)\n",
    "    d['A'] = 0\n",
    "    d[alpha_middle] = 13\n",
    "    \n",
    "    for i in range(12):\n",
    "        d[alpha_first_half[i]] = i+1\n",
    "        d[alpha_last_half[i]] = i+1\n",
    "    \n",
    "    ptr = 0\n",
    "    _len_name = len(name)\n",
    "\n",
    "    base = 'A' * _len_name\n",
    "\n",
    "    A = 'A'\n",
    "\n",
    "    while True:\n",
    "        leftPtr = ptr\n",
    "        rightPtr = ptr\n",
    "\n",
    "        # ptr 가 가리키는 지점에 있는 알파벳이 A가 아니라면,\n",
    "        # 알맞은 조작횟수 추가\n",
    "        # 해당 자리에 A를 넣는다\n",
    "        if name[ptr] != A:\n",
    "            answer += d[name[ptr]]\n",
    "            name = name[:ptr] + A + name[ptr+1:]\n",
    "\n",
    "        if(name == base):\n",
    "            break\n",
    "\n",
    "        # rigitPtr에 있는 값과 leftPtr 에 있는 값이 다 A라면,이동\n",
    "        # => 하나라도 A가 아닌 값을 만났다면 이 조건에서 벗어난다.\n",
    "        while(name[leftPtr] == A and name[rightPtr] == A):\n",
    "            answer+=1\n",
    "\n",
    "            if(leftPtr == 0):\n",
    "                leftPtr = (_len_name -1 )\n",
    "            else:\n",
    "                leftPtr -=1\n",
    "            \n",
    "\n",
    "            if(rightPtr == (_len_name - 1)):\n",
    "                pass\n",
    "            else:\n",
    "                rightPtr +=1\n",
    "        \n",
    "        # rightPtr 혹은 leftPtr 중 A가 아닌 것을 만났다면,\n",
    "        # rightPtr 지점에 있는 값부터 확인. A가 아닌 값을 만났다면, 그 지점으로 ptr 변경\n",
    "        if(name[rightPtr] != A):\n",
    "            ptr = rightPtr\n",
    "        else:\n",
    "            ptr = leftPtr\n",
    "\n",
    "    return answer"
   ]
  },
  {
   "cell_type": "code",
   "execution_count": 24,
   "metadata": {},
   "outputs": [
    {
     "output_type": "execute_result",
     "data": {
      "text/plain": "56"
     },
     "metadata": {},
     "execution_count": 24
    }
   ],
   "source": [
    "solution('JEROEN')"
   ]
  },
  {
   "cell_type": "code",
   "execution_count": 25,
   "metadata": {
    "tags": []
   },
   "outputs": [
    {
     "output_type": "stream",
     "name": "stdout",
     "text": "5.51 µs ± 218 ns per loop (mean ± std. dev. of 7 runs, 100000 loops each)\n"
    }
   ],
   "source": [
    "%timeit solution('JEROEN')"
   ]
  },
  {
   "cell_type": "markdown",
   "metadata": {},
   "source": [
    "---\n",
    "---"
   ]
  },
  {
   "cell_type": "code",
   "execution_count": 3,
   "metadata": {},
   "outputs": [
    {
     "output_type": "execute_result",
     "data": {
      "text/plain": "13"
     },
     "metadata": {},
     "execution_count": 3
    }
   ],
   "source": [
    " ALPHAS = 'ABCDEFGHIJKLMNOPQRSTUVWXYZ'\n",
    " len(ALPHAS)\n",
    " len(ALPHAS)//2"
   ]
  },
  {
   "cell_type": "code",
   "execution_count": 7,
   "metadata": {},
   "outputs": [
    {
     "output_type": "execute_result",
     "data": {
      "text/plain": "'N'"
     },
     "metadata": {},
     "execution_count": 7
    }
   ],
   "source": [
    "ALPHAS[12]\n",
    "ALPHAS[13]"
   ]
  },
  {
   "cell_type": "code",
   "execution_count": 16,
   "metadata": {
    "tags": []
   },
   "outputs": [
    {
     "output_type": "stream",
     "name": "stdout",
     "text": "-1 -1\n"
    }
   ],
   "source": [
    "name = 'JEROEN'\n",
    "_r_name = name[::-1]\n",
    "\n",
    "first_A = name.find('A')\n",
    "\n",
    "last_A = _r_name.find('A')\n",
    "\n",
    "print(first_A, last_A)"
   ]
  },
  {
   "cell_type": "code",
   "execution_count": 19,
   "metadata": {
    "tags": []
   },
   "outputs": [
    {
     "output_type": "stream",
     "name": "stdout",
     "text": "1 2\n"
    }
   ],
   "source": [
    "name = 'JANANN'\n",
    "_r_name = name[::-1]\n",
    "\n",
    "first_A = name.find('A')\n",
    "\n",
    "last_A = _r_name.find('A')\n",
    "\n",
    "print(first_A, last_A)"
   ]
  },
  {
   "cell_type": "code",
   "execution_count": 20,
   "metadata": {
    "tags": []
   },
   "outputs": [
    {
     "output_type": "stream",
     "name": "stdout",
     "text": "1 2\n"
    }
   ],
   "source": [
    "name = 'JANNNANN'\n",
    "_r_name = name[::-1]\n",
    "\n",
    "first_A = name.find('A')\n",
    "\n",
    "last_A = _r_name.find('A')\n",
    "\n",
    "print(first_A, last_A)"
   ]
  },
  {
   "cell_type": "code",
   "execution_count": 42,
   "metadata": {
    "tags": []
   },
   "outputs": [
    {
     "output_type": "stream",
     "name": "stdout",
     "text": "1 1\n"
    }
   ],
   "source": [
    "name = 'JAN'\n",
    "_r_name = name[::-1]\n",
    "\n",
    "first_A = name.find('A')\n",
    "\n",
    "last_A = _r_name.find('A')\n",
    "\n",
    "print(first_A, last_A)"
   ]
  }
 ]
}