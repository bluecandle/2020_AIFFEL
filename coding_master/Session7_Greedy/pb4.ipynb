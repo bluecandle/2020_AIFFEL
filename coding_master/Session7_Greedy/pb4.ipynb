{
 "metadata": {
  "language_info": {
   "codemirror_mode": {
    "name": "ipython",
    "version": 3
   },
   "file_extension": ".py",
   "mimetype": "text/x-python",
   "name": "python",
   "nbconvert_exporter": "python",
   "pygments_lexer": "ipython3",
   "version": "3.8.3-final"
  },
  "orig_nbformat": 2,
  "kernelspec": {
   "name": "temp",
   "display_name": "temp"
  }
 },
 "nbformat": 4,
 "nbformat_minor": 2,
 "cells": [
  {
   "cell_type": "markdown",
   "metadata": {},
   "source": [
    "# 구명보트"
   ]
  },
  {
   "cell_type": "markdown",
   "metadata": {},
   "source": [
    "- 구명보트 최대 인원 2명\n",
    "- 무게 제한 있음.\n",
    "- 모든 사람을 탈출시키는데 필요한 구명보트의 최소 갯수"
   ]
  },
  {
   "cell_type": "markdown",
   "metadata": {},
   "source": [
    "# 시도 1 :\n",
    "가장 가벼운 사람 + 무거운 사람 무게를 합해보고 무게제한에 걸리면 무거운 사람만 태운다."
   ]
  },
  {
   "cell_type": "code",
   "execution_count": 5,
   "metadata": {},
   "outputs": [],
   "source": [
    "def solution(people, limit):\n",
    "    answer = 0\n",
    "    \n",
    "    # 몸무게순으로 정렬    \n",
    "    people.sort()\n",
    "    _num_people = len(people)\n",
    "\n",
    "    count = 0\n",
    "    l = 0\n",
    "    h = -1\n",
    "    while count < _num_people:\n",
    "        count+=1\n",
    "        l_w = people[l]\n",
    "        h_w = people[h]\n",
    "        if l_w + h_w <=limit:\n",
    "            count+=1\n",
    "            l+=1\n",
    "            h-=1\n",
    "        else:\n",
    "            h-=1\n",
    "        \n",
    "        answer+=1\n",
    "\n",
    "    return answer"
   ]
  },
  {
   "cell_type": "code",
   "execution_count": 6,
   "metadata": {},
   "outputs": [
    {
     "output_type": "execute_result",
     "data": {
      "text/plain": "3"
     },
     "metadata": {},
     "execution_count": 6
    }
   ],
   "source": [
    "solution([70, 50, 80, 50],100)"
   ]
  },
  {
   "cell_type": "code",
   "execution_count": 7,
   "metadata": {
    "tags": []
   },
   "outputs": [
    {
     "output_type": "stream",
     "name": "stdout",
     "text": "525 ns ± 4.01 ns per loop (mean ± std. dev. of 7 runs, 1000000 loops each)\n"
    }
   ],
   "source": [
    "%timeit solution([70, 50, 80, 50],100)"
   ]
  },
  {
   "cell_type": "code",
   "execution_count": null,
   "metadata": {},
   "outputs": [],
   "source": []
  }
 ]
}