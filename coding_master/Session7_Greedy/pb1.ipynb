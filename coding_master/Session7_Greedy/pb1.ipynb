{
 "metadata": {
  "language_info": {
   "codemirror_mode": {
    "name": "ipython",
    "version": 3
   },
   "file_extension": ".py",
   "mimetype": "text/x-python",
   "name": "python",
   "nbconvert_exporter": "python",
   "pygments_lexer": "ipython3",
   "version": "3.7.7-final"
  },
  "orig_nbformat": 2,
  "kernelspec": {
   "name": "aiffel",
   "display_name": "aiffel"
  }
 },
 "nbformat": 4,
 "nbformat_minor": 2,
 "cells": [
  {
   "cell_type": "markdown",
   "metadata": {},
   "source": [
    "# 체육복\n",
    "\n",
    " 바로 앞번호의 학생이나 바로 뒷번호의 학생에게만 체육복을 빌려줄 수 있습니다. 예를 들어, 4번 학생은 3번 학생이나 5번 학생에게만 체육복을 빌려줄 수 있습니다.\n",
    "\n",
    " 체육복이 없으면 수업을 들을 수 없기 때문에 체육복을 적절히 빌려 최대한 많은 학생이 체육수업을 들어야 합니다.\n",
    "\n",
    " 전체 학생의 수 n, 체육복을 도난당한 학생들의 번호가 담긴 배열 lost, 여벌의 체육복을 가져온 학생들의 번호가 담긴 배열 reserve가 매개변수로 주어질 때, 체육수업을 들을 수 있는 학생의 최댓값을 return 하도록 solution 함수를 작성해주세요.\n",
    "\n",
    "### 제한사항\n",
    "- 전체 학생의 수는 2명 이상 30명 이하입니다.\n",
    "- 체육복을 도난당한 학생의 수는 1명 이상 n명 이하이고 중복되는 번호는 없습니다.\n",
    "- 여벌의 체육복을 가져온 학생의 수는 1명 이상 n명 이하이고 중복되는 번호는 없습니다.\n",
    "- 여벌 체육복이 있는 학생만 다른 학생에게 체육복을 빌려줄 수 있습니다.\n",
    "- 여벌 체육복을 가져온 학생이 체육복을 도난당했을 수 있습니다. 이때 이 학생은 체육복을 하나만 도난당했다고 가정하며, 남은 체육복이 하나이기에 다른 학생에게는 체육복을 빌려줄 수 없습니다.\n",
    " "
   ]
  },
  {
   "cell_type": "markdown",
   "metadata": {},
   "source": [
    "# 시도 1: 정답\n",
    "\n",
    "그냥 무식하게 앞뒤로 확인 후 필요한 사람 있으면 빌려주기. 그리고 전체 결과 확인"
   ]
  },
  {
   "cell_type": "code",
   "execution_count": 18,
   "metadata": {},
   "outputs": [],
   "source": [
    "def solution(n, lost, reserve):\n",
    "    # 2 <= n <= 30\n",
    "    # 1 <= len(lost) <= n\n",
    "    # lost 내에 중복은 x\n",
    "    # 여벌이 있는 학생은 빌려주기 x 본인이 입어야 함.\n",
    "\n",
    "    answer = n\n",
    "    \n",
    "    students = [1]*n\n",
    "\n",
    "    for r in reserve:\n",
    "        students[r-1] = 2    \n",
    "\n",
    "    for l in lost:\n",
    "        students[l-1] -= 1        \n",
    "\n",
    "    for idx in range(1, n-1):\n",
    "        prev = students[idx-1]\n",
    "        current = students[idx]\n",
    "        after = students[idx+1]\n",
    "\n",
    "        # print(idx)\n",
    "        # print(prev,current,after)\n",
    "\n",
    "        if current == 2:\n",
    "            if prev == 0:\n",
    "                students[idx-1] += 1\n",
    "                students[idx] -= 1\n",
    "            elif after == 0:\n",
    "                students[idx+1] += 1\n",
    "                students[idx] -= 1\n",
    "            else:\n",
    "                pass\n",
    "        elif current == 0:\n",
    "            if prev == 2:\n",
    "                students[idx-1] -= 1\n",
    "                students[idx] += 1\n",
    "            elif after == 2:\n",
    "                students[idx+1] -=1\n",
    "                students[idx] += 1\n",
    "            else:\n",
    "                pass\n",
    "        else:\n",
    "            pass\n",
    "\n",
    "        # print(students, '\\n')\n",
    "    \n",
    "    for s in students:\n",
    "        if s == 0:\n",
    "            answer-=1 \n",
    "\n",
    "    return answer"
   ]
  },
  {
   "cell_type": "code",
   "execution_count": 19,
   "metadata": {
    "tags": []
   },
   "outputs": [
    {
     "output_type": "execute_result",
     "data": {
      "text/plain": "5"
     },
     "metadata": {},
     "execution_count": 19
    }
   ],
   "source": [
    "solution(5, [2,4], [1,3,5])"
   ]
  },
  {
   "cell_type": "code",
   "execution_count": 20,
   "metadata": {
    "tags": []
   },
   "outputs": [
    {
     "output_type": "stream",
     "name": "stdout",
     "text": "1.11 µs ± 15.3 ns per loop (mean ± std. dev. of 7 runs, 1000000 loops each)\n"
    }
   ],
   "source": [
    "%timeit solution(5, [2,4], [1,3,5])"
   ]
  },
  {
   "cell_type": "code",
   "execution_count": null,
   "metadata": {},
   "outputs": [],
   "source": []
  }
 ]
}