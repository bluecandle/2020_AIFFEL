{
 "metadata": {
  "language_info": {
   "codemirror_mode": {
    "name": "ipython",
    "version": 3
   },
   "file_extension": ".py",
   "mimetype": "text/x-python",
   "name": "python",
   "nbconvert_exporter": "python",
   "pygments_lexer": "ipython3",
   "version": "3.8.3-final"
  },
  "orig_nbformat": 2,
  "kernelspec": {
   "name": "temp",
   "display_name": "temp"
  }
 },
 "nbformat": 4,
 "nbformat_minor": 2,
 "cells": [
  {
   "cell_type": "markdown",
   "metadata": {},
   "source": [
    "# 섬 연결하기\n",
    "\n",
    "- 최소의 비용으로 모든 섬이 서로 통행 가능하도록 만들기\n",
    "- 다리를 여러 번 건너더라도 도달할 수만 있으면 통행 가능하다고 본다."
   ]
  },
  {
   "cell_type": "markdown",
   "metadata": {},
   "source": [
    "# 시도 1 :"
   ]
  },
  {
   "cell_type": "code",
   "execution_count": 12,
   "metadata": {},
   "outputs": [],
   "source": [
    "def solution(n, costs):\n",
    "    answer = 0\n",
    "    \n",
    "    # weight 기준으로 오름차순정렬\n",
    "    costs.sort(key=lambda x:x[2])\n",
    "    # print(costs)\n",
    "    # set 자료형을 이렇게 사용할 수 있다!\n",
    "    visited = set()\n",
    "    # 시작점 넣어주기\n",
    "    visited.add(costs[0][0])    \n",
    "\n",
    "    # 방문한 섬의 갯수가 n개가 될 때까지 (모두 다 방문) 진행.\n",
    "    while len(visited) != n :\n",
    "\n",
    "        for cost in costs :\n",
    "            land1, land2, co = cost\n",
    "            # 둘 다 방문된 상태라면 passW\n",
    "            if land1 in visited and land2 in visited :\n",
    "                continue\n",
    "            if land1 in visited or land2 in visited :\n",
    "                answer += co\n",
    "                visited.add(land1)\n",
    "                visited.add(land2)\n",
    "                break\n",
    "\n",
    "    return answer"
   ]
  },
  {
   "cell_type": "code",
   "execution_count": 13,
   "metadata": {
    "tags": []
   },
   "outputs": [
    {
     "output_type": "execute_result",
     "data": {
      "text/plain": "4"
     },
     "metadata": {},
     "execution_count": 13
    }
   ],
   "source": [
    "solution(4,[[0,1,1],[0,2,2],[1,2,5],[1,3,1],[2,3,8]])"
   ]
  },
  {
   "cell_type": "code",
   "execution_count": 14,
   "metadata": {
    "tags": []
   },
   "outputs": [
    {
     "output_type": "stream",
     "name": "stdout",
     "text": "1.61 µs ± 17.4 ns per loop (mean ± std. dev. of 7 runs, 1000000 loops each)\n"
    }
   ],
   "source": [
    "%timeit solution(4,[[0,1,1],[0,2,2],[1,2,5],[1,3,1],[2,3,8]])"
   ]
  },
  {
   "cell_type": "code",
   "execution_count": null,
   "metadata": {},
   "outputs": [],
   "source": []
  }
 ]
}