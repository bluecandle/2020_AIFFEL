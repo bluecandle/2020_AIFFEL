{
 "cells": [
  {
   "cell_type": "markdown",
   "metadata": {},
   "source": [
    " 기능개발\n",
    " 문제 설명\n",
    " 프로그래머스 팀에서는 기능 개선 작업을 수행 중입니다. 각 기능은 진도가 100%일 때 서비스에 반영할 수 있습니다.\n",
    "\n",
    " 또, 각 기능의 개발속도는 모두 다르기 때문에 뒤에 있는 기능이 앞에 있는 기능보다 먼저 개발될 수 있고, 이때 뒤에 있는 기능은 앞에 있는 기능이 배포될 때 함께 배포됩니다.\n",
    "\n",
    " 먼저 배포되어야 하는 순서대로 작업의 진도가 적힌 정수 배열 progresses와 각 작업의 개발 속도가 적힌 정수 배열 speeds가 주어질 때 각 배포마다 몇 개의 기능이 배포되는지를 return 하도록 solution 함수를 완성하세요.\n",
    "\n",
    " 제한 사항\n",
    " 작업의 개수(progresses, speeds배열의 길이)는 100개 이하입니다.\n",
    " 작업 진도는 100 미만의 자연수입니다.\n",
    " 작업 속도는 100 이하의 자연수입니다.\n",
    " 배포는 하루에 한 번만 할 수 있으며, 하루의 끝에 이루어진다고 가정합니다. 예를 들어 진도율이 95%인 작업의 개발 속도가 하루에 4%라면 배포는 2일 뒤에 이루어집니다.\n",
    " 입출력 예\n",
    " progresses\tspeeds\treturn\n",
    " [93,30,55]\t[1,30,5]\t[2,1]\n",
    " 입출력 예 설명\n",
    " 첫 번째 기능은 93% 완료되어 있고 하루에 1%씩 작업이 가능하므로 7일간 작업 후 배포가 가능합니다.\n",
    " 두 번째 기능은 30%가 완료되어 있고 하루에 30%씩 작업이 가능하므로 3일간 작업 후 배포가 가능합니다. 하지만 이전 첫 번째 기능이 아직 완성된 상태가 아니기 때문에 첫 번째 기능이 배포되는 7일째 배포됩니다.\n",
    " 세 번째 기능은 55%가 완료되어 있고 하루에 5%씩 작업이 가능하므로 9일간 작업 후 배포가 가능합니다.\n",
    "\n",
    " 따라서 7일째에 2개의 기능, 9일째에 1개의 기능이 배포됩니다.\n",
    "\n",
    " ※ 공지 - 2020년 7월 14일 테스트케이스가 추가되었습니다."
   ]
  },
  {
   "cell_type": "markdown",
   "metadata": {},
   "source": [
    "# 시도 1 : 오답\n",
    "작업이 완료되는 순서대로 index를 추출하고 index를 통해 값을 추출하려고 하였으나, 실패"
   ]
  },
  {
   "cell_type": "code",
   "execution_count": null,
   "metadata": {},
   "outputs": [],
   "source": [
    "def solution(progresses, speeds):\n",
    "    answer = []\n",
    "    over_list = []\n",
    "\n",
    "    # 중복제거\n",
    "    while len(set(progresses)) != 1:\n",
    "\n",
    "        for idx in range(0,len(progresses)):\n",
    "\n",
    "            if(progresses[idx]>0):\n",
    "                progresses[idx]+=speeds[idx]\n",
    "\n",
    "            if(progresses[idx]>=100):\n",
    "                progresses[idx] = -1\n",
    "                over_list.append(idx)   \n",
    "\n",
    "    while over_list:\n",
    "\n",
    "        isDone = False         \n",
    "        prime = over_list.pop(0)\n",
    "        count = 1\n",
    "        if not over_list:\n",
    "            answer.append(count)\n",
    "\n",
    "        while not isDone and over_list:\n",
    "            count +=1\n",
    "\n",
    "            temp = over_list.pop(0)\n",
    "            if temp < prime:\n",
    "                answer.append(count)\n",
    "                break\n",
    "    return answer"
   ]
  },
  {
   "cell_type": "markdown",
   "metadata": {},
   "source": [
    "# 시도 2 : 오답"
   ]
  },
  {
   "cell_type": "code",
   "execution_count": 1,
   "metadata": {
    "ExecuteTime": {
     "end_time": "2020-08-10T08:21:07.123151Z",
     "start_time": "2020-08-10T08:21:07.117679Z"
    }
   },
   "outputs": [
    {
     "name": "stdout",
     "output_type": "stream",
     "text": [
      "[2, 1]\n"
     ]
    }
   ],
   "source": [
    "def solution(progresses, speeds):\n",
    "    answer = []\n",
    "\n",
    "    over_list = []\n",
    "\n",
    "    while len(over_list) != len(progresses):\n",
    "\n",
    "        for idx in range(0,len(progresses)):\n",
    "\n",
    "            if progresses[idx] < 0:\n",
    "                pass    \n",
    "            elif progresses[idx] <100:\n",
    "                progresses[idx] += speeds[idx]                \n",
    "            elif progresses[idx] >= 100:\n",
    "                progresses[idx] = -1\n",
    "                over_list.append(idx)\n",
    "\n",
    "    # print(over_list)\n",
    "    published_flag = 0\n",
    "\n",
    "    bucket = []\n",
    "    while over_list:\n",
    "        temp = over_list.pop(0)\n",
    "        bucket.append(temp)\n",
    "\n",
    "        if temp == published_flag:\n",
    "            # 가장 큰 수 찾기\n",
    "            bucket.sort(reverse=True)\n",
    "            # 가장 큰 수에서 1 더한 값을 flag로 변경\n",
    "            published_flag = bucket[0]+1            \n",
    "            # 정답 목록에 추가\n",
    "            answer.append(len(bucket))\n",
    "            # bucket 초기화\n",
    "            bucket = []\n",
    "\n",
    "    return answer\n",
    "print(solution([93,30,55],[1,30,5]))"
   ]
  },
  {
   "cell_type": "markdown",
   "metadata": {},
   "source": [
    "# 시도 3 : 정답\n",
    "중간에 flag_idx 로 잡힌 작업의 값이 뒤에 다른 작업들보다 더 많은 시간을 소비한다면, 해당 지점에서부터 나머지 작업들의 갯수를 다 더한 값이 더해줘야 한다는 점을 간과함"
   ]
  },
  {
   "cell_type": "code",
   "execution_count": 2,
   "metadata": {
    "ExecuteTime": {
     "end_time": "2020-08-10T08:21:09.582919Z",
     "start_time": "2020-08-10T08:21:09.579392Z"
    },
    "tags": []
   },
   "outputs": [
    {
     "output_type": "stream",
     "name": "stdout",
     "text": "[2, 1]\n[2, 3]\n"
    }
   ],
   "source": [
    "import math\n",
    "def solution(progresses, speeds):\n",
    "    answer = []\n",
    "    # 완료하는데 걸리는 날짜로 변환\n",
    "    progresses = [math.ceil((100-p)/s) for p,s in zip(progresses, speeds)]\n",
    "    \n",
    "    flag_idx = 0\n",
    "    for idx in range(len(progresses)):\n",
    "        # 기점(flag)보다 더 많은 시간이 걸리는 작업이 나올 때까지 찾는다.\n",
    "        if progresses[flag_idx] < progresses[idx]:            \n",
    "            # 찾으면, 나온 지점과 flag 지점의 차이만큼을 구해서 답에 넣어준다.        \n",
    "            answer.append(idx-flag_idx)\n",
    "            # flag 갱신\n",
    "            flag_idx = idx\n",
    "\n",
    "    # 갱신된 flag_idx 에 들어있는 값이 해당 index 이후에 들어있는 값들보다 크다면,\n",
    "    # ex, [7,3,9,8,7]\n",
    "    # 해당 idx에서부터 나머지 작업의 갯수를 다 합한 값이 마지막에 들어가게 된다.\n",
    "    # 이 부분을 제대로 처리하지않아서 시도1,2에서 틀렸던 것으로 생각됨.\n",
    "    answer.append(len(progresses)-flag_idx)\n",
    "\n",
    "    return answer\n",
    "\n",
    "print(solution([93,30,55],[1,30,5]))\n",
    "print(solution([93,30,55,60,65],[1,30,5,5,5]))"
   ]
  },
  {
   "cell_type": "code",
   "execution_count": null,
   "metadata": {},
   "outputs": [],
   "source": []
  }
 ],
 "metadata": {
  "kernelspec": {
   "display_name": "aiffel",
   "language": "python",
   "name": "aiffel"
  },
  "language_info": {
   "codemirror_mode": {
    "name": "ipython",
    "version": 3
   },
   "file_extension": ".py",
   "mimetype": "text/x-python",
   "name": "python",
   "nbconvert_exporter": "python",
   "pygments_lexer": "ipython3",
   "version": "3.7.6-final"
  },
  "toc": {
   "base_numbering": 1,
   "nav_menu": {},
   "number_sections": true,
   "sideBar": true,
   "skip_h1_title": false,
   "title_cell": "Table of Contents",
   "title_sidebar": "Contents",
   "toc_cell": false,
   "toc_position": {},
   "toc_section_display": true,
   "toc_window_display": false
  }
 },
 "nbformat": 4,
 "nbformat_minor": 4
}