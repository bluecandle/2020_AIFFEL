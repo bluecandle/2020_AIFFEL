{
 "cells": [
  {
   "cell_type": "markdown",
   "metadata": {},
   "source": [
    " 기능개발\n",
    " 문제 설명\n",
    " 프로그래머스 팀에서는 기능 개선 작업을 수행 중입니다. 각 기능은 진도가 100%일 때 서비스에 반영할 수 있습니다.\n",
    "\n",
    " 또, 각 기능의 개발속도는 모두 다르기 때문에 뒤에 있는 기능이 앞에 있는 기능보다 먼저 개발될 수 있고, 이때 뒤에 있는 기능은 앞에 있는 기능이 배포될 때 함께 배포됩니다.\n",
    "\n",
    " 먼저 배포되어야 하는 순서대로 작업의 진도가 적힌 정수 배열 progresses와 각 작업의 개발 속도가 적힌 정수 배열 speeds가 주어질 때 각 배포마다 몇 개의 기능이 배포되는지를 return 하도록 solution 함수를 완성하세요.\n",
    "\n",
    " 제한 사항\n",
    " 작업의 개수(progresses, speeds배열의 길이)는 100개 이하입니다.\n",
    " 작업 진도는 100 미만의 자연수입니다.\n",
    " 작업 속도는 100 이하의 자연수입니다.\n",
    " 배포는 하루에 한 번만 할 수 있으며, 하루의 끝에 이루어진다고 가정합니다. 예를 들어 진도율이 95%인 작업의 개발 속도가 하루에 4%라면 배포는 2일 뒤에 이루어집니다.\n",
    " 입출력 예\n",
    " progresses\tspeeds\treturn\n",
    " [93,30,55]\t[1,30,5]\t[2,1]\n",
    " 입출력 예 설명\n",
    " 첫 번째 기능은 93% 완료되어 있고 하루에 1%씩 작업이 가능하므로 7일간 작업 후 배포가 가능합니다.\n",
    " 두 번째 기능은 30%가 완료되어 있고 하루에 30%씩 작업이 가능하므로 3일간 작업 후 배포가 가능합니다. 하지만 이전 첫 번째 기능이 아직 완성된 상태가 아니기 때문에 첫 번째 기능이 배포되는 7일째 배포됩니다.\n",
    " 세 번째 기능은 55%가 완료되어 있고 하루에 5%씩 작업이 가능하므로 9일간 작업 후 배포가 가능합니다.\n",
    "\n",
    " 따라서 7일째에 2개의 기능, 9일째에 1개의 기능이 배포됩니다.\n",
    "\n",
    " ※ 공지 - 2020년 7월 14일 테스트케이스가 추가되었습니다."
   ]
  },
  {
   "cell_type": "markdown",
   "metadata": {},
   "source": [
    "# 시도 1 : 오답\n",
    "작업이 완료되는 순서대로 index를 추출하고 index를 통해 값을 추출하려고 하였으나, 실패"
   ]
  },
  {
   "cell_type": "code",
   "execution_count": null,
   "metadata": {},
   "outputs": [],
   "source": [
    "def solution(progresses, speeds):\n",
    "    answer = []\n",
    "    over_list = []\n",
    "\n",
    "    # 중복제거\n",
    "    while len(set(progresses)) != 1:\n",
    "\n",
    "        for idx in range(0,len(progresses)):\n",
    "\n",
    "            if(progresses[idx]>0):\n",
    "                progresses[idx]+=speeds[idx]\n",
    "\n",
    "            if(progresses[idx]>=100):\n",
    "                progresses[idx] = -1\n",
    "                over_list.append(idx)   \n",
    "\n",
    "    while over_list:\n",
    "\n",
    "        isDone = False         \n",
    "        prime = over_list.pop(0)\n",
    "        count = 1\n",
    "        if not over_list:\n",
    "            answer.append(count)\n",
    "\n",
    "        while not isDone and over_list:\n",
    "            count +=1\n",
    "\n",
    "            temp = over_list.pop(0)\n",
    "            if temp < prime:\n",
    "                answer.append(count)\n",
    "                break\n",
    "    return answer"
   ]
  },
  {
   "cell_type": "markdown",
   "metadata": {},
   "source": [
    "# 시도 2 : 오답"
   ]
  },
  {
   "cell_type": "code",
   "execution_count": 1,
   "metadata": {
    "ExecuteTime": {
     "end_time": "2020-08-10T08:21:07.123151Z",
     "start_time": "2020-08-10T08:21:07.117679Z"
    }
   },
   "outputs": [
    {
     "name": "stdout",
     "output_type": "stream",
     "text": [
      "[2, 1]\n"
     ]
    }
   ],
   "source": [
    "def solution(progresses, speeds):\n",
    "    answer = []\n",
    "\n",
    "    over_list = []\n",
    "\n",
    "    while len(over_list) != len(progresses):\n",
    "\n",
    "        for idx in range(0,len(progresses)):\n",
    "\n",
    "            if progresses[idx] < 0:\n",
    "                pass    \n",
    "            elif progresses[idx] <100:\n",
    "                progresses[idx] += speeds[idx]                \n",
    "            elif progresses[idx] >= 100:\n",
    "                progresses[idx] = -1\n",
    "                over_list.append(idx)\n",
    "\n",
    "    # print(over_list)\n",
    "    published_flag = 0\n",
    "\n",
    "    bucket = []\n",
    "    while over_list:\n",
    "        temp = over_list.pop(0)\n",
    "        bucket.append(temp)\n",
    "\n",
    "        if temp == published_flag:\n",
    "            # 가장 큰 수 찾기\n",
    "            bucket.sort(reverse=True)\n",
    "            # 가장 큰 수에서 1 더한 값을 flag로 변경\n",
    "            published_flag = bucket[0]+1            \n",
    "            # 정답 목록에 추가\n",
    "            answer.append(len(bucket))\n",
    "            # bucket 초기화\n",
    "            bucket = []\n",
    "\n",
    "    return answer\n",
    "print(solution([93,30,55],[1,30,5]))"
   ]
  },
  {
   "cell_type": "markdown",
   "metadata": {},
   "source": [
    "# 시도 3"
   ]
  },
  {
   "cell_type": "code",
   "execution_count": 2,
   "metadata": {
    "ExecuteTime": {
     "end_time": "2020-08-10T08:21:09.582919Z",
     "start_time": "2020-08-10T08:21:09.579392Z"
    }
   },
   "outputs": [
    {
     "name": "stdout",
     "output_type": "stream",
     "text": [
      "[]\n"
     ]
    }
   ],
   "source": [
    "import math\n",
    "def solution(progresses, speeds):\n",
    "    answer = []\n",
    "    for idx in progresses:\n",
    "        \n",
    "    return answer\n",
    "\n",
    "\n",
    "print(solution([93,30,55],[1,30,5]))"
   ]
  },
  {
   "cell_type": "code",
   "execution_count": null,
   "metadata": {},
   "outputs": [],
   "source": []
  }
 ],
 "metadata": {
  "kernelspec": {
   "display_name": "aiffel",
   "language": "python",
   "name": "aiffel"
  },
  "language_info": {
   "codemirror_mode": {
    "name": "ipython",
    "version": 3
   },
   "file_extension": ".py",
   "mimetype": "text/x-python",
   "name": "python",
   "nbconvert_exporter": "python",
   "pygments_lexer": "ipython3",
   "version": "3.7.7"
  },
  "toc": {
   "base_numbering": 1,
   "nav_menu": {},
   "number_sections": true,
   "sideBar": true,
   "skip_h1_title": false,
   "title_cell": "Table of Contents",
   "title_sidebar": "Contents",
   "toc_cell": false,
   "toc_position": {},
   "toc_section_display": true,
   "toc_window_display": false
  }
 },
 "nbformat": 4,
 "nbformat_minor": 4
}
