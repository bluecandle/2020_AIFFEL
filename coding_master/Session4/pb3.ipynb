{
 "cells": [
  {
   "cell_type": "markdown",
   "metadata": {},
   "source": [
    "다리를 지나는 트럭\n",
    "문제 설명\n",
    "트럭 여러 대가 강을 가로지르는 일 차선 다리를 정해진 순으로 건너려 합니다. 모든 트럭이 다리를 건너려면 최소 몇 초가 걸리는지 알아내야 합니다. 트럭은 1초에 1만큼 움직이며, 다리 길이는 bridge_length이고 다리는 무게 weight까지 견딥니다.\n",
    "※ 트럭이 다리에 완전히 오르지 않은 경우, 이 트럭의 무게는 고려하지 않습니다.\n",
    "\n",
    "예를 들어, 길이가 2이고 10kg 무게를 견디는 다리가 있습니다. 무게가 [7, 4, 5, 6]kg인 트럭이 순서대로 최단 시간 안에 다리를 건너려면 다음과 같이 건너야 합니다.\n",
    "\n",
    "경과 시간\t다리를 지난 트럭\t다리를 건너는 트럭\t대기 트럭\n",
    "0\t[]\t[]\t[7,4,5,6]\n",
    "1~2\t[]\t[7]\t[4,5,6]\n",
    "3\t[7]\t[4]\t[5,6]\n",
    "4\t[7]\t[4,5]\t[6]\n",
    "5\t[7,4]\t[5]\t[6]\n",
    "6~7\t[7,4,5]\t[6]\t[]\n",
    "8\t[7,4,5,6]\t[]\t[]\n",
    "따라서, 모든 트럭이 다리를 지나려면 최소 8초가 걸립니다.\n",
    "\n",
    "solution 함수의 매개변수로 다리 길이 bridge_length, 다리가 견딜 수 있는 무게 weight, 트럭별 무게 truck_weights가 주어집니다. 이때 모든 트럭이 다리를 건너려면 최소 몇 초가 걸리는지 return 하도록 solution 함수를 완성하세요.\n",
    "\n",
    "제한 조건\n",
    "bridge_length는 1 이상 10,000 이하입니다.\n",
    "weight는 1 이상 10,000 이하입니다.\n",
    "truck_weights의 길이는 1 이상 10,000 이하입니다.\n",
    "모든 트럭의 무게는 1 이상 weight 이하입니다.\n",
    "입출력 예\n",
    "bridge_length\tweight\ttruck_weights\treturn\n",
    "2\t10\t[7,4,5,6]\t8\n",
    "100\t100\t[10]\t101\n",
    "100\t100\t[10,10,10,10,10,10,10,10,10,10]\t110\n",
    "출처\n",
    "\n",
    "※ 공지 - 2020년 4월 06일 테스트케이스가 추가되었습니다."
   ]
  },
  {
   "cell_type": "markdown",
   "metadata": {},
   "source": [
    "# 시도 1"
   ]
  },
  {
   "cell_type": "code",
   "execution_count": null,
   "metadata": {},
   "outputs": [],
   "source": [
    "def solution(bridge_length, weight, truck_weights):\n",
    "    answer = 0\n",
    "\n",
    "    num_trucks = len(truck_weights)\n",
    "    finished_trucks = []\n",
    "\n",
    "    # 모든 트럭이 finish 했을 때까지 진행\n",
    "    while len(finished_trucks) < num_trucks:\n",
    "\n",
    "\n",
    "\n",
    "    return answer"
   ]
  }
 ],
 "metadata": {
  "kernelspec": {
   "display_name": "aiffel",
   "language": "python",
   "name": "aiffel"
  },
  "language_info": {
   "codemirror_mode": {
    "name": "ipython",
    "version": 3
   },
   "file_extension": ".py",
   "mimetype": "text/x-python",
   "name": "python",
   "nbconvert_exporter": "python",
   "pygments_lexer": "ipython3",
   "version": "3.7.7"
  },
  "toc": {
   "base_numbering": 1,
   "nav_menu": {},
   "number_sections": true,
   "sideBar": true,
   "skip_h1_title": false,
   "title_cell": "Table of Contents",
   "title_sidebar": "Contents",
   "toc_cell": false,
   "toc_position": {},
   "toc_section_display": true,
   "toc_window_display": false
  }
 },
 "nbformat": 4,
 "nbformat_minor": 4
}