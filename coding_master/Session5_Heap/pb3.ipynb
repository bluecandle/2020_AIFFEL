{
 "cells": [
  {
   "cell_type": "markdown",
   "metadata": {},
   "source": [
    "# 이중우선순위큐\n",
    "이중 우선순위 큐가 할 연산 operations가 매개변수로 주어질 때, 모든 연산을 처리한 후 큐가 비어있으면 [0,0] 비어있지 않으면 [최댓값, 최솟값]을 return 하도록 solution 함수를 구현해주세요.\n",
    "\n",
    "\n",
    "## 제한사항\n",
    "- operations는 길이가 1 이상 1,000,000 이하인 문자열 배열입니다.\n",
    "- operations의 원소는 큐가 수행할 연산을 나타냅니다.\n",
    "    - 원소는 “명령어 데이터” 형식으로 주어집니다.- 최댓값/최솟값을 삭제하는 연산에서 최댓값/최솟값이 둘 이상인 경우, 하나만 삭제합니다.\n",
    "- 빈 큐에 데이터를 삭제하라는 연산이 주어질 경우, 해당 연산은 무시합니다."
   ]
  },
  {
   "cell_type": "markdown",
   "metadata": {},
   "source": [
    "# 시도 1 : 실패 (test case 6번 통과못함)"
   ]
  },
  {
   "cell_type": "code",
   "execution_count": 19,
   "metadata": {},
   "outputs": [],
   "source": [
    "import heapq\n",
    "def solution(operations):\n",
    "    answer = []\n",
    "    h = []\n",
    "\n",
    "    INSERT = 'I'\n",
    "    DELETE = 'D'\n",
    "    MAX = 1\n",
    "    MIN = -1\n",
    "    \n",
    "    for op in operations:\n",
    "        inst = op.split(' ')[0]\n",
    "        num = int(op.split(' ')[1])\n",
    "\n",
    "        if inst == INSERT:\n",
    "            heapq.heappush(h,num)\n",
    "        else:\n",
    "            if len(h)>0:\n",
    "                if num == MAX:\n",
    "                    h.pop()\n",
    "                else:\n",
    "                    heapq.heappop(h)\n",
    "    if len(h)>0:\n",
    "        return [h[-1],heapq.heappop(h)]\n",
    "    else:\n",
    "        return [0,0]"
   ]
  },
  {
   "cell_type": "code",
   "execution_count": 20,
   "metadata": {},
   "outputs": [
    {
     "output_type": "execute_result",
     "data": {
      "text/plain": "[0, 0]"
     },
     "metadata": {},
     "execution_count": 20
    }
   ],
   "source": [
    "solution(['I 16','D 1'])"
   ]
  },
  {
   "cell_type": "markdown",
   "metadata": {},
   "source": [
    "# 시도 2 : 성공\n",
    "그냥 h.pop() 하는 방식에 문제가 있는 것 같다.      \n",
    "heapq 에서 제공하는 기능을최대값을 찾아보자 활용최댓값을 찾아보자.하여 가장 큰 값을 제대로 찾아보자"
   ]
  },
  {
   "cell_type": "code",
   "execution_count": 34,
   "metadata": {},
   "outputs": [],
   "source": [
    "import heapq\n",
    "def solution(operations):\n",
    "    answer = []\n",
    "    h = []\n",
    "\n",
    "    INSERT = 'I'\n",
    "    DELETE = 'D'\n",
    "    MAX = 1\n",
    "    MIN = -1\n",
    "    \n",
    "    for op in operations:\n",
    "        inst = op.split(' ')[0]\n",
    "        num = int(op.split(' ')[1])\n",
    "\n",
    "        if inst == INSERT:\n",
    "            heapq.heappush(h,num)\n",
    "        else:\n",
    "            if len(h)>0:\n",
    "                if num == MAX:\n",
    "                    # list의 index 함수로 원하는 element의 index 찾기 가능\n",
    "                    h.pop(h.index(heapq.nlargest(1,h)[0]))\n",
    "                else:\n",
    "                    heapq.heappop(h)\n",
    "    if len(h)>0:\n",
    "        return [heapq.nlargest(1,h)[0],heapq.heappop(h)]\n",
    "    else:\n",
    "        return [0,0]"
   ]
  },
  {
   "cell_type": "code",
   "execution_count": 35,
   "metadata": {},
   "outputs": [
    {
     "output_type": "execute_result",
     "data": {
      "text/plain": "[0, 0]"
     },
     "metadata": {},
     "execution_count": 35
    }
   ],
   "source": [
    "solution(['I 16','D 1'])"
   ]
  }
 ],
 "metadata": {
  "kernelspec": {
   "display_name": "aiffel",
   "language": "python",
   "name": "aiffel"
  },
  "language_info": {
   "codemirror_mode": {
    "name": "ipython",
    "version": 3
   },
   "file_extension": ".py",
   "mimetype": "text/x-python",
   "name": "python",
   "nbconvert_exporter": "python",
   "pygments_lexer": "ipython3",
   "version": "3.7.6-final"
  },
  "toc": {
   "base_numbering": 1,
   "nav_menu": {},
   "number_sections": true,
   "sideBar": true,
   "skip_h1_title": false,
   "title_cell": "Table of Contents",
   "title_sidebar": "Contents",
   "toc_cell": false,
   "toc_position": {},
   "toc_section_display": true,
   "toc_window_display": false
  }
 },
 "nbformat": 4,
 "nbformat_minor": 4
}