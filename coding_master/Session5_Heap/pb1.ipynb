{
 "cells": [
  {
   "cell_type": "markdown",
   "metadata": {},
   "source": [
    "# 더 맵게\n",
    "----\n",
    "\n",
    "## 문제 설명\n",
    "\n",
    "매운 것을 좋아하는 Leo는 모든 음식의 스코빌 지수를 K 이상으로 만들고 싶습니다. 모든 음식의 스코빌 지수를 K 이상으로 만들기 위해 Leo는 스코빌 지수가 가장 낮은 두 개의 음식을 아래와 같이 특별한 방법으로 섞어 새로운 음식을 만듭니다.\n",
    "\n",
    "\n",
    "    섞은 음식의 스코빌 지수 = 가장 맵지 않은 음식의 스코빌 지수 + (두 번째로 맵지 않은 음식의 스코빌지수 * 2)\n",
    "\n",
    "\n",
    "Leo는 모든 음식의 스코빌 지수가 K 이상이 될 때까지 반복하여 섞습니다.   \n",
    "Leo가 가진 음식의 스코빌 지수를 담은 배열 scoville과 원하는 스코빌 지수 K가 주어질 때, 모든 음식의 스코빌 지수를 K 이상으로 만들기 위해 섞어야 하는 최소 횟수를 return 하도록 solution 함수를 작성해주세요.   \n",
    "\n",
    "### 제한 사항\n",
    "- scoville의 길이는 2 이상 1,000,000 이하입니다.   \n",
    "- K는 0 이상 1,000,000,000 이하입니다.\n",
    "- scoville의 원소는 각각 0 이상 1,000,000 이하입니다.\n",
    "- 모든 음식의 스코빌 지수를 K 이상으로 만들 수 없는 경우에는 -1을 return 합니다."
   ]
  },
  {
   "cell_type": "markdown",
   "metadata": {},
   "source": [
    "### 입출력 예\n",
    "scoville : [1, 2, 3, 9, 10, 12]   \n",
    "K : 7   \n",
    "return : 2   \n",
    "\n",
    "### 입출력 예 설명\n",
    "\n",
    "스코빌 지수가 1인 음식과 2인 음식을 섞으면 음식의 스코빌 지수가 아래와 같이 됩니다.\n",
    "- 새로운 음식의 스코빌 지수 = 1 + (2 * 2) = 5\n",
    "- 가진 음식의 스코빌 지수 = [5, 3, 9, 10, 12]\n",
    "\n",
    "스코빌 지수가 3인 음식과 5인 음식을 섞으면 음식의 스코빌 지수가 아래와 같이 됩니다.\n",
    "- 새로운 음식의 스코빌 지수 = 3 + (5 * 2) = 13\n",
    "- 가진 음식의 스코빌 지수 = [13, 9, 10, 12]\n",
    "\n",
    "모든 음식의 스코빌 지수가 7 이상이 되었고 이때 섞은 횟수는 2회입니다."
   ]
  },
  {
   "cell_type": "code",
   "execution_count": 17,
   "metadata": {},
   "outputs": [],
   "source": [
    "# timing decorator function\n",
    "from functools import wraps\n",
    "from time import time\n",
    "\n",
    "def timing(f):\n",
    "    @wraps(f)\n",
    "    def wrap(*args, **kw):\n",
    "        ts = time()\n",
    "        result = f(*args, **kw)\n",
    "        te = time()\n",
    "        print ('func:%r args:[%r, %r] took: %2.4f sec' % \\\n",
    "          (f.__name__, args, kw, te-ts))\n",
    "        return result\n",
    "    return wrap"
   ]
  },
  {
   "cell_type": "code",
   "execution_count": 18,
   "metadata": {},
   "outputs": [],
   "source": [
    "@timing\n",
    "def solution(scoville, K):\n",
    "    answer = 0\n",
    "    return answer"
   ]
  },
  {
   "cell_type": "code",
   "execution_count": 19,
   "metadata": {
    "tags": []
   },
   "outputs": [
    {
     "output_type": "stream",
     "name": "stdout",
     "text": "func:'solution' args:[([1, 2, 3, 9, 10, 12], 7), {}] took: 0.0000 sec\n"
    },
    {
     "output_type": "execute_result",
     "data": {
      "text/plain": "0"
     },
     "metadata": {},
     "execution_count": 19
    }
   ],
   "source": [
    "solution([1, 2, 3, 9, 10, 12],7)"
   ]
  },
  {
   "cell_type": "markdown",
   "metadata": {},
   "source": [
    "[완료 조건] 모든 음식의 지수가 K 이상\n",
    "\n",
    "1.처음에 스코빌 지수가 K 보다 낮은 음식이 있는지 확인.\n",
    "\n",
    "1-1. 없다면, 그냥 끝 K = 0   \n",
    "\n",
    "flag 지정   \n",
    "\n",
    "1-2. 있다면, loop 시작, flag 가 변환되면 탈출\n",
    "\n",
    "2. 스코빌 지수가 담긴 list 에서 가장 맵지 않은 (지수가 낮은) 음식을 하나 뽑는다. 그리고 하나 더 뽑는다.\n",
    "그럼 제일 안 매운거(a), 그다음으로 안 매운거 나옴.(b)\n",
    "\n",
    "3. a + 2*b = c\n",
    "값을 구한다.\n",
    "\n",
    "4. c 값이 K 이상인지 확인. 이상이라면 탈출. 아니라면 c 값을 다시 넣고 2부터 반복"
   ]
  },
  {
   "cell_type": "markdown",
   "metadata": {},
   "source": [
    "## 시도 1 : 정답"
   ]
  },
  {
   "cell_type": "code",
   "execution_count": 66,
   "metadata": {},
   "outputs": [],
   "source": [
    "import heapq\n",
    "\n",
    "@timing\n",
    "def solution(scoville, K):\n",
    "    answer = 0    \n",
    "\n",
    "    under_K = next((s for s in scoville if s<K),None)\n",
    "\n",
    "    # K 보다 낮은 지수가 하나도 없는 경우 끝\n",
    "    if under_K is None:\n",
    "        return answer\n",
    "\n",
    "    heap = []\n",
    "    for s in scoville:\n",
    "        heapq.heappush(heap,s)\n",
    "\n",
    "    while len(heap)>=1:\n",
    "        \n",
    "        # 가장 안 매운거 뽑아보고\n",
    "        a = heapq.heappop(heap)\n",
    "\n",
    "        # K 이상이라면 끝\n",
    "        if a >= K:\n",
    "            return answer\n",
    "        \n",
    "        # 아니라면, 하나 더 뽑고 섞는과정을 거쳐야 함. \n",
    "        try:\n",
    "            b = heapq.heappop(heap)\n",
    "            # 새로 섞은 음식의 스코빌 지수\n",
    "            c = a + 2*b  \n",
    "            # 섞은 횟수 하나 추가\n",
    "            answer +=1\n",
    "            # 새로 섞은 값을 heap 에 추가\n",
    "            heapq.heappush(heap,c)    \n",
    "        except:\n",
    "            # b 를 추출하는데 오류가 발생하면, 모든 음식을 섞어도 K 이상으로 만들 수 없는 상황  \n",
    "            return -1\n",
    "\n",
    "    return answer"
   ]
  },
  {
   "cell_type": "code",
   "execution_count": 67,
   "metadata": {
    "tags": []
   },
   "outputs": [
    {
     "output_type": "stream",
     "name": "stdout",
     "text": "func:'solution' args:[([1, 2, 3, 9, 10, 12], 7), {}] took: 0.0000 sec\n"
    },
    {
     "output_type": "execute_result",
     "data": {
      "text/plain": "2"
     },
     "metadata": {},
     "execution_count": 67
    }
   ],
   "source": [
    "solution([1, 2, 3, 9, 10, 12],7)"
   ]
  },
  {
   "cell_type": "code",
   "execution_count": null,
   "metadata": {},
   "outputs": [],
   "source": []
  },
  {
   "cell_type": "code",
   "execution_count": null,
   "metadata": {},
   "outputs": [],
   "source": []
  }
 ],
 "metadata": {
  "kernelspec": {
   "display_name": "aiffel",
   "language": "python",
   "name": "aiffel"
  },
  "language_info": {
   "codemirror_mode": {
    "name": "ipython",
    "version": 3
   },
   "file_extension": ".py",
   "mimetype": "text/x-python",
   "name": "python",
   "nbconvert_exporter": "python",
   "pygments_lexer": "ipython3",
   "version": "3.7.6-final"
  },
  "toc": {
   "base_numbering": 1,
   "nav_menu": {},
   "number_sections": true,
   "sideBar": true,
   "skip_h1_title": false,
   "title_cell": "Table of Contents",
   "title_sidebar": "Contents",
   "toc_cell": false,
   "toc_position": {},
   "toc_section_display": true,
   "toc_window_display": false
  }
 },
 "nbformat": 4,
 "nbformat_minor": 4
}