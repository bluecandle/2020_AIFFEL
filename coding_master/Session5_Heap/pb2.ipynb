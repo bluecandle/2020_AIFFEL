{
 "cells": [
  {
   "cell_type": "markdown",
   "metadata": {},
   "source": []
  },
  {
   "cell_type": "markdown",
   "metadata": {},
   "source": [
    "# 디스크 컨트롤러\n",
    "\n",
    "각 작업에 대해 작업이 요청되는 시점, 작업의 소요시간 을 담은 2차원 배열 jobs가 매개변수로 주어질 때, 작업의 요청부터 종료까지 걸린 시간의 평균을 가장 줄이는 방법으로 처리하면 평균이 얼마가 되는지 return 하도록 solution 함수를 작성해주세요. (단, 소수점 이하의 수는 버립니다)\n",
    "\n",
    "### 제한 사항\n",
    "- jobs의 길이는 1 이상 500 이하입니다.\n",
    "- jobs의 각 행은 하나의 작업에 대한 작업이 요청되는 시점, 작업의 소요시간 입니다.\n",
    "- 각 작업에 대해 작업이 요청되는 시간은 0 이상 1,000 이하입니다.\n",
    "- 각 작업에 대해 작업의 소요시간은 1 이상 1,000 이하입니다.\n",
    "- 하드디스크가 작업을 수행하고 있지 않을 때에는 먼저 요청이 들어온 작업부터 처리합니다."
   ]
  },
  {
   "cell_type": "markdown",
   "metadata": {},
   "source": []
  },
  {
   "cell_type": "code",
   "execution_count": 1,
   "metadata": {},
   "outputs": [],
   "source": [
    "# timing decorator function\n",
    "from functools import wraps\n",
    "from time import time\n",
    "\n",
    "def timing(f):\n",
    "    @wraps(f)\n",
    "    def wrap(*args, **kw):\n",
    "        ts = time()\n",
    "        result = f(*args, **kw)\n",
    "        te = time()\n",
    "        print ('func:%r args:[%r, %r] took: %2.4f sec' % \\\n",
    "          (f.__name__, args, kw, te-ts))\n",
    "        return result\n",
    "    return wrap"
   ]
  },
  {
   "cell_type": "code",
   "execution_count": 2,
   "metadata": {},
   "outputs": [],
   "source": [
    "def sequential(jobs):\n",
    "    sequential_timer = 0\n",
    "    sequential_times = []    \n",
    "    sequential_avg = 0   \n",
    "    # O(N) \n",
    "    for job in jobs:\n",
    "        request_time = job[0]\n",
    "        process_time = job[1]\n",
    "        \n",
    "        diff = job[0] - sequential_timer\n",
    "\n",
    "        # 이전 작업을 완료한 시간보다 이후에 다음 작업이 시작된다면, 대기 시간만큼 더함.        \n",
    "        if diff > 0 :\n",
    "            sequential_timer += diff\n",
    "        # 작업 소요시간 더해줌        \n",
    "        sequential_timer += process_time\n",
    "\n",
    "        sequential_times.append(sequential_timer-request_time)\n",
    "    sequential_avg = round(sum(sequential_times)/ len(sequential_times))\n",
    "\n",
    "    return sequential_avg"
   ]
  },
  {
   "cell_type": "markdown",
   "metadata": {},
   "source": [
    "### 생각 1\n",
    "\n",
    "1. 먼저 들어온 순서대로 처리하는 방법으로 계산해보고\n",
    "2. 순서를 변경하여 계산해본다. => 이전 작업이 끝나는 시점과 가장 가까운 요청 시간으로 들어온 작업을 시작시킨다 (timer 값을 지정하여, 타임라인을 확인.)  \n",
    "    1. timer 값과 가장 가까운 시기에 요청이 들어온 작업들을 우선적으로 시작시킨다.\n",
    "    2. 우선 timer 보다 작거나 같은 값들을 대상으로 찾아보고\n",
    "    3. 없다면, timer 보다 큰 값들을 대상으로 찾아본다.\n",
    "    4. 해당 작업이 찾아지면, 해당 작업을 시작한다.\n",
    "    5. timer를 해당 작업이 끝나는 시점으로 이동시킨다. (timer + 작업 소요시간)\n",
    "    6. 작업 소요시간 목록에 (timer - 작업 요청시간) 값을 추가한다.\n",
    "3. 두 값을 비교한다\n"
   ]
  },
  {
   "cell_type": "markdown",
   "metadata": {},
   "source": [
    "# 시도 1 : 실패 (test case 5개 통과)"
   ]
  },
  {
   "cell_type": "code",
   "execution_count": 14,
   "metadata": {},
   "outputs": [],
   "source": [
    "import heapq\n",
    "\n",
    "@timing\n",
    "def solution(jobs):\n",
    "    answer = 0\n",
    "    \n",
    "    sequential_avg = sequential(jobs) \n",
    "\n",
    "    # 순서를 변경하여 계산해보기\n",
    "    timer = 0\n",
    "    times = []\n",
    "    avg = 0\n",
    "    jobs_copy = jobs.copy()     \n",
    "    while len(times) < len(jobs):\n",
    "        # 현재 timer 값보다 작거나 작은 값을 찾는다.       \n",
    "        under_timer = [job for job in jobs_copy if job[0]<=timer]\n",
    "        under_timer.sort(reverse=True)   \n",
    "\n",
    "        # print(under_timer)\n",
    "        if len(under_timer)>0:\n",
    "            job = under_timer[0]\n",
    "            jobs_copy.remove(job)\n",
    "            # timer를 해당 작업이 끝나는 시점으로 이동시킨다. (timer + 작업 소요시간)\n",
    "            timer += job[1]\n",
    "            # 작업 소요시간 목록에 (timer - 작업 요청시간) 값을 추가한다.\n",
    "            times.append(timer - job[0])\n",
    "            \n",
    "            # print(job, timer, times)\n",
    "        else :\n",
    "            # 현재 timer 값보다 큰 값을 찾는다.\n",
    "            upper_timer = [job for job in jobs_copy if job[0]>timer]\n",
    "            upper_timer.sort() \n",
    "\n",
    "            #print(upper_timer)\n",
    "            \n",
    "            job = upper_timer[0]\n",
    "            jobs_copy.remove(job)\n",
    "            \n",
    "            # 작업 시작 전까지 기다렸던 시간을 더해준다.\n",
    "            diff = job[0] - timer\n",
    "            timer += diff\n",
    "            # timer를 해당 작업이 끝나는 시점으로 이동시킨다.\n",
    "            timer += job[1]\n",
    "             # 작업 소요시간 목록에 (timer - 작업 요청시간) 값을 추가한다.\n",
    "            times.append(timer - job[0])\n",
    "            #print(job, timer, times)\n",
    "\n",
    "    avg = round(sum(times)/ len(times))\n",
    "\n",
    "    #print(sequential_avg, avg)\n",
    "    \n",
    "    answer = avg\n",
    "\n",
    "    if sequential_avg < avg:\n",
    "        answer = sequential_avg        \n",
    "            \n",
    "    return answer"
   ]
  },
  {
   "cell_type": "code",
   "execution_count": 15,
   "metadata": {
    "tags": []
   },
   "outputs": [
    {
     "output_type": "stream",
     "name": "stdout",
     "text": "func:'solution' args:[([[0, 3], [1, 9], [2, 6]],), {}] took: 0.0000 sec\n"
    },
    {
     "output_type": "execute_result",
     "data": {
      "text/plain": "9"
     },
     "metadata": {},
     "execution_count": 15
    }
   ],
   "source": [
    "solution([[0, 3], [1, 9], [2, 6]])"
   ]
  },
  {
   "cell_type": "markdown",
   "metadata": {},
   "source": [
    "# 시도 2 : 실패\n",
    "1. 요청시간이 timer 값보다 작은 경우 (timer - 요청시간) + 작업시간   \n",
    "2. 요청시간이 timer 값보다 큰 경우 작업시간   \n",
    "1번과 2번을 통해 나온 값을 기준으로 가장 작은 값인 작업을 우선순위로.\n"
   ]
  },
  {
   "cell_type": "code",
   "execution_count": 37,
   "metadata": {},
   "outputs": [],
   "source": [
    "import heapq\n",
    "\n",
    "@timing\n",
    "def solution(jobs):\n",
    "    answer = 0\n",
    "\n",
    "    sequential_avg = sequential(jobs) \n",
    "    # 순서를 변경하여 계산해보기\n",
    "    timer = 0\n",
    "    times = []\n",
    "    avg = 0\n",
    "\n",
    "    jobs_copy = jobs.copy()\n",
    "    \n",
    "    while len(jobs_copy)>0:\n",
    "\n",
    "        h = []\n",
    "        \n",
    "        # 현재 시점에서 가장 소요시간이 적게 걸리는 작업 찾기\n",
    "        for job in jobs_copy:\n",
    "            request_time = job[0]\n",
    "            process_time = job[1]\n",
    "            v = 0\n",
    "            if request_time < timer:\n",
    "                v += (timer-request_time) + process_time\n",
    "            else:\n",
    "                v += process_time\n",
    "            h.append([v,job])\n",
    "        h = sorted(h,key= lambda el : el[0])\n",
    "        \n",
    "        job = h[0][1]\n",
    "\n",
    "        # 해당 작업 제거\n",
    "        jobs_copy.remove(job)\n",
    "        \n",
    "        diff = 0\n",
    "        # 작업 시작 전까지 기다렸던 시간 계산\n",
    "        if timer < job[0]:            \n",
    "            diff = job[0] - timer    \n",
    "                \n",
    "        timer += diff\n",
    "        # timer를 해당 작업이 끝나는 시점으로 이동시킨다.\n",
    "        timer += job[1]\n",
    "        # 작업 소요시간 목록에 (timer - 작업 요청시간) 값을 추가한다.\n",
    "        times.append(timer - job[0])\n",
    "\n",
    "    avg = sum(times)// len(times)\n",
    "\n",
    "    answer = avg\n",
    "\n",
    "    if sequential_avg < avg:\n",
    "        answer = sequential_avg        \n",
    "            \n",
    "    return answer"
   ]
  },
  {
   "cell_type": "code",
   "execution_count": 38,
   "metadata": {
    "tags": []
   },
   "outputs": [
    {
     "output_type": "stream",
     "name": "stdout",
     "text": "func:'solution' args:[([[0, 3], [1, 9], [2, 6]],), {}] took: 0.0000 sec\n"
    },
    {
     "output_type": "execute_result",
     "data": {
      "text/plain": "9"
     },
     "metadata": {},
     "execution_count": 38
    }
   ],
   "source": [
    "solution([[0, 3], [1, 9], [2, 6]])"
   ]
  },
  {
   "cell_type": "markdown",
   "metadata": {},
   "source": [
    "# 시도 3 : 성공\n",
    "작업이 끝나는 시점을 timer 하나로 관리하지 않고 작업이 시작되고 끝나는 지점을 각각 지정한다.   \n",
    "그리고 그 기간 사이에 요청이 들어온 작업 중 가장 처리 시간이 짧은 작업을 먼저 처리해보자.   "
   ]
  },
  {
   "cell_type": "code",
   "execution_count": 39,
   "metadata": {},
   "outputs": [],
   "source": [
    "import heapq\n",
    "\n",
    "@timing\n",
    "def solution(jobs):\n",
    "    answer = 0\n",
    "    sequential_avg = sequential(jobs)\n",
    "  \n",
    "    # start 를 0으로 놓고 아래 start <= job[0] <= end 이런식으로 하면,  \n",
    "    # start 지점을 옮길 때, 0으로 옮긴다면, 0초에 들어온 작업이 두 번째 반복에서 다시 포함된다. \n",
    "    start = -1\n",
    "    end = 0    \n",
    "    request_btw = []\n",
    "\n",
    "    # 모든 작업을 수행할 때까지 진행\n",
    "    count = 0\n",
    "    while count < len(jobs):\n",
    "        for job in jobs:\n",
    "            # start 지점과 end 지점 을 기준으로 사이에 요청이 들어온 작업이 있는지 확인해본다.\n",
    "            if start < job[0] <= end:\n",
    "              \n",
    "                request_time = job[0]\n",
    "                process_time = job[1]\n",
    "                \n",
    "                # 대기 시간이 있었다면 대기한 시간만큼 시간을 추가해준다.\n",
    "                answer += (end - request_time)\n",
    "                \n",
    "                # 그리고 작업 시간을 집어넣는다.\n",
    "                heapq.heappush(request_btw,process_time)\n",
    "\n",
    "        # 들어온 작업이 있다면 \n",
    "        if len(request_btw) > 0:\n",
    "            num_jobs = len(request_btw)\n",
    "            job_process_time = heapq.heappop(request_btw)\n",
    "            # 이제 수행될 작업의 시간만큼 다른 작업들이 기다려야 한다. \n",
    "            answer += num_jobs * job_process_time\n",
    "            # start 지점을 옮겨준다. (작업을 하나 했으니까)\n",
    "            start = end\n",
    "            # end 지점도 옮겨준다.\n",
    "            end += job_process_time\n",
    "\n",
    "            count+=1\n",
    "    \n",
    "        else:\n",
    "            # 하나도 걸린게 없다면, 끝 지점을 1씩 증가하여 확인해본다.\n",
    "            end+=1\n",
    "                                 \n",
    "    # 이렇게 하면 오답임! round 는 말 그대로 반올림을 해주는거네           \n",
    "    # answer = round(answer/len(jobs))\n",
    "    \n",
    "    # 소수점 버림 하려면 이렇게\n",
    "    answer = answer//len(jobs)\n",
    "    if sequential_avg < answer:\n",
    "        answer = sequential_avg        \n",
    "            \n",
    "    return answer"
   ]
  },
  {
   "cell_type": "code",
   "execution_count": 40,
   "metadata": {
    "tags": []
   },
   "outputs": [
    {
     "output_type": "stream",
     "name": "stdout",
     "text": "func:'solution' args:[([[0, 3], [1, 9], [2, 6]],), {}] took: 0.0000 sec\n"
    },
    {
     "output_type": "execute_result",
     "data": {
      "text/plain": "9"
     },
     "metadata": {},
     "execution_count": 40
    }
   ],
   "source": [
    "solution([[0, 3], [1, 9], [2, 6]])"
   ]
  },
  {
   "cell_type": "code",
   "execution_count": null,
   "metadata": {},
   "outputs": [],
   "source": []
  }
 ],
 "metadata": {
  "kernelspec": {
   "display_name": "aiffel",
   "language": "python",
   "name": "aiffel"
  },
  "language_info": {
   "codemirror_mode": {
    "name": "ipython",
    "version": 3
   },
   "file_extension": ".py",
   "mimetype": "text/x-python",
   "name": "python",
   "nbconvert_exporter": "python",
   "pygments_lexer": "ipython3",
   "version": "3.7.6-final"
  },
  "toc": {
   "base_numbering": 1,
   "nav_menu": {},
   "number_sections": true,
   "sideBar": true,
   "skip_h1_title": false,
   "title_cell": "Table of Contents",
   "title_sidebar": "Contents",
   "toc_cell": false,
   "toc_position": {},
   "toc_section_display": true,
   "toc_window_display": false
  }
 },
 "nbformat": 4,
 "nbformat_minor": 4
}