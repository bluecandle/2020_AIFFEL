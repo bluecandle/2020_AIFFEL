{
 "cells": [
  {
   "cell_type": "markdown",
   "metadata": {},
   "source": []
  },
  {
   "cell_type": "markdown",
   "metadata": {},
   "source": [
    "# 디스크 컨트롤러\n",
    "\n",
    "각 작업에 대해 작업이 요청되는 시점, 작업의 소요시간 을 담은 2차원 배열 jobs가 매개변수로 주어질 때, 작업의 요청부터 종료까지 걸린 시간의 평균을 가장 줄이는 방법으로 처리하면 평균이 얼마가 되는지 return 하도록 solution 함수를 작성해주세요. (단, 소수점 이하의 수는 버립니다)\n",
    "\n",
    "### 제한 사항\n",
    "- jobs의 길이는 1 이상 500 이하입니다.\n",
    "- jobs의 각 행은 하나의 작업에 대한 작업이 요청되는 시점, 작업의 소요시간 입니다.\n",
    "- 각 작업에 대해 작업이 요청되는 시간은 0 이상 1,000 이하입니다.\n",
    "- 각 작업에 대해 작업의 소요시간은 1 이상 1,000 이하입니다.\n",
    "- 하드디스크가 작업을 수행하고 있지 않을 때에는 먼저 요청이 들어온 작업부터 처리합니다."
   ]
  },
  {
   "cell_type": "markdown",
   "metadata": {},
   "source": []
  },
  {
   "cell_type": "code",
   "execution_count": 3,
   "metadata": {},
   "outputs": [],
   "source": [
    "# timing decorator function\n",
    "from functools import wraps\n",
    "from time import time\n",
    "\n",
    "def timing(f):\n",
    "    @wraps(f)\n",
    "    def wrap(*args, **kw):\n",
    "        ts = time()\n",
    "        result = f(*args, **kw)\n",
    "        te = time()\n",
    "        print ('func:%r args:[%r, %r] took: %2.4f sec' % \\\n",
    "          (f.__name__, args, kw, te-ts))\n",
    "        return result\n",
    "    return wrap"
   ]
  },
  {
   "cell_type": "markdown",
   "metadata": {},
   "source": [
    "### 생각 1\n",
    "\n",
    "1. 먼저 들어온 순서대로 처리하는 방법으로 계산해보고\n",
    "2. 순서를 변경하여 계산해본다. => 이전 작업이 끝나는 시점과 가장 가까운 요청 시간으로 들어온 작업을 시작시킨다 (timer 값을 지정하여, 타임라인을 확인.)  \n",
    "    1. timer 값과 가장 가까운 시기에 요청이 들어온 작업들을 우선적으로 시작시킨다.\n",
    "    2. 우선 timer 보다 작거나 같은 값들을 대상으로 찾아보고\n",
    "    3. 없다면, timer 보다 큰 값들을 대상으로 찾아본다.\n",
    "    4. 해당 작업이 찾아지면, 해당 작업을 시작한다.\n",
    "    5. timer를 해당 작업이 끝나는 시점으로 이동시킨다. (timer + 작업 소요시간)\n",
    "    6. 작업 소요시간 목록에 (timer - 작업 요청시간) 값을 추가한다.\n",
    "3. 두 값을 비교한다\n"
   ]
  },
  {
   "cell_type": "markdown",
   "metadata": {},
   "source": [
    "# 시도 1 : 실패 (test case 3개 통과)"
   ]
  },
  {
   "cell_type": "code",
   "execution_count": 54,
   "metadata": {},
   "outputs": [],
   "source": [
    "import heapq\n",
    "\n",
    "@timing\n",
    "def solution(jobs):\n",
    "    answer = 0\n",
    "    \n",
    "    # 순차적으로 계산하는 방법\n",
    "    sequential_timer = 0\n",
    "    sequential_times = []    \n",
    "    sequential_avg = 0   \n",
    "    # O(N) \n",
    "    for job in jobs:\n",
    "        request_time = job[0]\n",
    "        process_time = job[1]\n",
    "        \n",
    "        diff = job[0] - sequential_timer\n",
    "\n",
    "        # 이전 작업을 완료한 시간보다 이후에 다음 작업이 시작된다면, 대기 시간만큼 더함.        \n",
    "        if diff > 0 :\n",
    "            sequential_timer += diff\n",
    "        # 작업 소요시간 더해줌        \n",
    "        sequential_timer += process_time\n",
    "\n",
    "        sequential_times.append(sequential_timer-request_time)\n",
    "    sequential_avg = round(sum(sequential_times)/ len(sequential_times))\n",
    "\n",
    "    # print(round(sequential_avg))\n",
    "\n",
    "    # 순서를 변경하여 계산해보기\n",
    "    timer = 0\n",
    "    times = []\n",
    "    avg = 0\n",
    "    jobs_copy = jobs.copy()     \n",
    "    while len(times) < len(jobs):\n",
    "        # 현재 timer 값보다 작거나 작은 값을 찾는다.       \n",
    "        under_timer = [job for job in jobs_copy if job[0]<=timer]\n",
    "        under_timer.sort(reverse=True)   \n",
    "\n",
    "        # print(under_timer)\n",
    "        if len(under_timer)>0:\n",
    "            job = under_timer[0]\n",
    "            jobs_copy.remove(job)\n",
    "            # timer를 해당 작업이 끝나는 시점으로 이동시킨다. (timer + 작업 소요시간)\n",
    "            timer += job[1]\n",
    "            # 작업 소요시간 목록에 (timer - 작업 요청시간) 값을 추가한다.\n",
    "            times.append(timer - job[0])\n",
    "            \n",
    "            # print(job, timer, times)\n",
    "        else :\n",
    "            # 현재 timer 값보다 큰 값을 찾는다.\n",
    "            upper_timer = [job for job in jobs_copy if job[0]>timer]\n",
    "            upper_timer.sort() \n",
    "\n",
    "            #print(upper_timer)\n",
    "            \n",
    "            job = upper_timer[0]\n",
    "            jobs_copy.remove(job)\n",
    "            \n",
    "            # 작업 시작 전까지 기다렸던 시간을 더해준다.\n",
    "            diff = job[0] - timer\n",
    "            timer += diff\n",
    "            # timer를 해당 작업이 끝나는 시점으로 이동시킨다.\n",
    "            timer += job[1]\n",
    "             # 작업 소요시간 목록에 (timer - 작업 요청시간) 값을 추가한다.\n",
    "            times.append(timer - job[1])\n",
    "            #print(job, timer, times)\n",
    "\n",
    "    avg = round(sum(times)/ len(times))\n",
    "\n",
    "    #print(sequential_avg, avg)\n",
    "    \n",
    "    answer = avg\n",
    "\n",
    "    if sequential_avg < avg:\n",
    "        answer = sequential_avg        \n",
    "            \n",
    "    return answer"
   ]
  },
  {
   "cell_type": "code",
   "execution_count": 55,
   "metadata": {
    "tags": []
   },
   "outputs": [
    {
     "output_type": "stream",
     "name": "stdout",
     "text": "func:'solution' args:[([[0, 3], [1, 9], [2, 6]],), {}] took: 0.0000 sec\n"
    },
    {
     "output_type": "execute_result",
     "data": {
      "text/plain": "9"
     },
     "metadata": {},
     "execution_count": 55
    }
   ],
   "source": [
    "solution([[0, 3], [1, 9], [2, 6]])"
   ]
  },
  {
   "cell_type": "code",
   "execution_count": null,
   "metadata": {},
   "outputs": [],
   "source": []
  }
 ],
 "metadata": {
  "kernelspec": {
   "display_name": "aiffel",
   "language": "python",
   "name": "aiffel"
  },
  "language_info": {
   "codemirror_mode": {
    "name": "ipython",
    "version": 3
   },
   "file_extension": ".py",
   "mimetype": "text/x-python",
   "name": "python",
   "nbconvert_exporter": "python",
   "pygments_lexer": "ipython3",
   "version": "3.7.6-final"
  },
  "toc": {
   "base_numbering": 1,
   "nav_menu": {},
   "number_sections": true,
   "sideBar": true,
   "skip_h1_title": false,
   "title_cell": "Table of Contents",
   "title_sidebar": "Contents",
   "toc_cell": false,
   "toc_position": {},
   "toc_section_display": true,
   "toc_window_display": false
  }
 },
 "nbformat": 4,
 "nbformat_minor": 4
}