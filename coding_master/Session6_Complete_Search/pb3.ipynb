{
 "metadata": {
  "language_info": {
   "codemirror_mode": {
    "name": "ipython",
    "version": 3
   },
   "file_extension": ".py",
   "mimetype": "text/x-python",
   "name": "python",
   "nbconvert_exporter": "python",
   "pygments_lexer": "ipython3",
   "version": "3.7.6-final"
  },
  "orig_nbformat": 2,
  "kernelspec": {
   "name": "aiffel",
   "display_name": "aiffel"
  }
 },
 "nbformat": 4,
 "nbformat_minor": 2,
 "cells": [
  {
   "cell_type": "markdown",
   "metadata": {},
   "source": [
    "# 카펫\n",
    "\n",
    "중앙은 노란색으로 칠해지고, 테두리 1줄은 갈색으로 칠해진 격자 모양 카펫.\n",
    "\n",
    "갈색 격자 수 brown, 노란색 격자 수 yellow 가 매개변수로 주어질 때, 카펫의 가로, 세로 크기를 순서대로 담아 return\n",
    "\n",
    "### 제한사항\n",
    "- 갈색 격자의 수 brown은 8 이상 5,000 이하인 자연수입니다.\n",
    "- 노란색 격자의 수 yellow는 1 이상 2,000,000 이하인 자연수입니다.\n",
    "- 카펫의 가로 길이는 세로 길이와 같거나, 세로 길이보다 깁니다.\n",
    "\n",
    "가로는 세로길이 이상"
   ]
  },
  {
   "cell_type": "markdown",
   "metadata": {},
   "source": [
    "## 생각 1\n",
    "1. 노란색 격자는 하나라도 있어야 한다. 즉, 카펫의 세로 길이는 3 이상이라는 의미\n",
    "2. 그래서, 세로 길이(H) 3부터 알맞은 가로 길이(W)를 다 찾아본다.\n",
    "3. 전체 갯수를 T 라고 하면, T%H 의 값이 0일때, W = T/H 이다.\n",
    "4. 그리고 해당 경우에 노란 격자의 수를 구해본다. 구하는 공식은 한 줄에 들어가는 노란 타일 수 * 노란 타일이 들어갈 수 있는 줄 수 => (W-2) * (H-2)\n",
    "5. 4번 조건을 만족하는 W,H의 조합이 나올 때까지 H의 값을 1씩 증가시킨다."
   ]
  },
  {
   "cell_type": "markdown",
   "metadata": {},
   "source": [
    "# 시도 1 : 정답"
   ]
  },
  {
   "cell_type": "code",
   "execution_count": 4,
   "metadata": {},
   "outputs": [],
   "source": [
    "def solution(brown, yellow):\n",
    "    answer = []\n",
    "    \n",
    "    # 전체 격자 갯수\n",
    "    T = brown + yellow\n",
    "    \n",
    "    # 가로 >= 세로\n",
    "    # 세로 >= 3\n",
    "    W = 0\n",
    "    H = 3\n",
    "    \n",
    "    while True:\n",
    "        if T % H == 0:\n",
    "            W = int(T/H)\n",
    "            num_centers = (W-2) * (H-2)\n",
    "            # 조건과 일치한다면 결과 내기\n",
    "            if num_centers == yellow:\n",
    "                return [W,H]\n",
    "            # 아닌 경우 H를 1 상승시키고 다음 loop\n",
    "            else:\n",
    "                H+=1\n",
    "        # 아닌 경우 H를 1 상승시키고 다음 loop\n",
    "        else : \n",
    "            H+=1\n",
    "  \n",
    "    # 조건이 찾아지지 않는 경우는 언급되지 않았으므로, 다루지 않는다.\n",
    "    return -1"
   ]
  },
  {
   "cell_type": "code",
   "execution_count": 5,
   "metadata": {
    "tags": []
   },
   "outputs": [
    {
     "output_type": "stream",
     "name": "stdout",
     "text": "0.7088518539967481 [µs]\n"
    }
   ],
   "source": [
    "import timeit\n",
    "\n",
    "t1 = timeit.Timer(\"solution(24,24)\", \"from __main__ import solution\")\n",
    "print(t1.timeit(), '[µs]')"
   ]
  },
  {
   "cell_type": "code",
   "execution_count": 6,
   "metadata": {
    "tags": []
   },
   "outputs": [
    {
     "output_type": "stream",
     "name": "stdout",
     "text": "686 ns ± 10.5 ns per loop (mean ± std. dev. of 7 runs, 1000000 loops each)\n"
    }
   ],
   "source": [
    "%timeit solution(24,24)"
   ]
  }
 ]
}