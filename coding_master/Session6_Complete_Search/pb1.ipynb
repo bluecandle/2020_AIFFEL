{
 "metadata": {
  "language_info": {
   "codemirror_mode": {
    "name": "ipython",
    "version": 3
   },
   "file_extension": ".py",
   "mimetype": "text/x-python",
   "name": "python",
   "nbconvert_exporter": "python",
   "pygments_lexer": "ipython3",
   "version": "3.7.6-final"
  },
  "orig_nbformat": 2,
  "kernelspec": {
   "name": "temp",
   "display_name": "temp"
  }
 },
 "nbformat": 4,
 "nbformat_minor": 2,
 "cells": [
  {
   "cell_type": "markdown",
   "metadata": {},
   "source": [
    "# 모의고사\n",
    "\n",
    "1번부터 마지막 문제까지 찍음.\n",
    "1~30번까지 정답이 순서대로 들은 배열 answers\n",
    "가장 많은 문제를 맞힌 사람이 누구인지\n",
    "\n",
    "1번 수포자가 찍는 방식: 1, 2, 3, 4, 5, 1, 2, 3, 4, 5, ...   \n",
    "2번 수포자가 찍는 방식: 2, 1, 2, 3, 2, 4, 2, 5, 2, 1, 2, 3, 2, 4, 2, 5, ...   \n",
    "3번 수포자가 찍는 방식: 3, 3, 1, 1, 2, 2, 4, 4, 5, 5, 3, 3, 1, 1, 2, 2, 4, 4, 5, 5, ...   \n",
    "  \n",
    "- 시험은 최대 10,000문제\n",
    "- 문제의 정답은 1,2,3,4,5 중 하나\n",
    "- 가장 높은 점수의 사람이 여럿일 경우, return 값은 오름차순 정렬."
   ]
  },
  {
   "cell_type": "markdown",
   "metadata": {},
   "source": [
    "# 시도 1 : 성공"
   ]
  },
  {
   "cell_type": "code",
   "execution_count": 1,
   "metadata": {},
   "outputs": [
    {
     "output_type": "execute_result",
     "data": {
      "text/plain": "[1]"
     },
     "metadata": {},
     "execution_count": 1
    }
   ],
   "source": [
    "\n",
    "def solution(answers):\n",
    "    answer = []\n",
    "    \n",
    "    # 각각 1,2,3 번 수포자에 대한 점수\n",
    "    scores = [0,0,0]\n",
    "\n",
    "    a_1 = [1,2,3,4,5]\n",
    "    a_2 = [2, 1, 2, 3, 2, 4, 2, 5]\n",
    "    a_3 = [3, 3, 1, 1, 2, 2, 4, 4, 5, 5]\n",
    "    \n",
    "    _len_a_1 = len(a_1)\n",
    "    _len_a_2 = len(a_2)\n",
    "    _len_a_3 = len(a_3)\n",
    "\n",
    "    # 정답 확인 및 점수부여\n",
    "    for idx in range(len(answers)):\n",
    "        # answers 에 들어있는 각각의 답에 대해\n",
    "        ans = answers[idx]\n",
    "        \n",
    "        # 해당 답안이 각 사람이 제출했을 답과 일치하는지 확인 (제출자의 답 패턴을 기반으로)\n",
    "        if ans == a_1[idx % _len_a_1]:\n",
    "            scores[0] += 1\n",
    "        \n",
    "        if ans == a_2[idx % _len_a_2]:\n",
    "            scores[1] += 1\n",
    "        \n",
    "        if ans == a_3[idx % _len_a_3]:\n",
    "            scores[2] += 1\n",
    "   \n",
    "    # 가장 높은 점수를 찾는다.\n",
    "    # 저번시간에 배운 max 함수 써보기    \n",
    "    _max_score = max(scores)\n",
    "    \n",
    "    # 그리고, 가장 높은 점수에 해당하는 점수를 획득한 사람의 index를 다 뽑아낸다.\n",
    "    _flag = True\n",
    "    while _flag:\n",
    "        try:\n",
    "            idx = scores.index(_max_score)\n",
    "            scores[idx] = 0\n",
    "            answer.append(idx+1)\n",
    "        except:\n",
    "            _flag = False\n",
    "    \n",
    "    return answer\n",
    "\n",
    "solution([1,2,3,4,5])"
   ]
  },
  {
   "cell_type": "markdown",
   "metadata": {},
   "source": [
    "시간"
   ]
  },
  {
   "cell_type": "code",
   "execution_count": 2,
   "metadata": {
    "tags": []
   },
   "outputs": [
    {
     "output_type": "stream",
     "name": "stdout",
     "text": "2.124489440000616 [µs]\n"
    }
   ],
   "source": [
    "import timeit\n",
    "\n",
    "t1 = timeit.Timer(\"solution([1,2,3,4,5])\", \"from __main__ import solution\")\n",
    "print(t1.timeit(), '[µs]')"
   ]
  },
  {
   "cell_type": "code",
   "execution_count": 3,
   "metadata": {
    "tags": []
   },
   "outputs": [
    {
     "output_type": "stream",
     "name": "stdout",
     "text": "2.06 µs ± 45.3 ns per loop (mean ± std. dev. of 7 runs, 100000 loops each)\n"
    }
   ],
   "source": [
    "%timeit solution([1,2,3,4,5])"
   ]
  }
 ]
}