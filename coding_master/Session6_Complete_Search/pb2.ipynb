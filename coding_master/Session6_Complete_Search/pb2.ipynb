{
 "metadata": {
  "language_info": {
   "codemirror_mode": {
    "name": "ipython",
    "version": 3
   },
   "file_extension": ".py",
   "mimetype": "text/x-python",
   "name": "python",
   "nbconvert_exporter": "python",
   "pygments_lexer": "ipython3",
   "version": "3.7.6-final"
  },
  "orig_nbformat": 2,
  "kernelspec": {
   "name": "temp",
   "display_name": "temp"
  }
 },
 "nbformat": 4,
 "nbformat_minor": 2,
 "cells": [
  {
   "cell_type": "markdown",
   "metadata": {},
   "source": [
    "# 소수찾기\n",
    "\n",
    "한자리 숫자가 적힌 종이 조각\n",
    "흩어진 종이 조각을 붙여 소수를 몇 개 만들 수 있는가?\n",
    "\n",
    "각 종이 조각에 적힌 숫자가 적힌 문자열 numbers\n",
    "\n",
    "종이 조각으로 만들 수 있는 소수가 몇 개인지 return\n",
    "\n",
    "- numbers는 길이 1 이상 7 이하인 문자열입니다.\n",
    "- numbers는 0~9까지 숫자만으로 이루어져 있습니다.\n",
    "- 013은 0, 1, 3 숫자가 적힌 종이 조각이 흩어져있다는 의미입니다."
   ]
  },
  {
   "cell_type": "markdown",
   "metadata": {},
   "source": [
    "## 생각 1\n",
    "1. 주어진 숫자들로 만들 수 있는 수를 모두 만든다.\n",
    "2. 그리고 각각의 숫자가 소수인 경우를 판단한다."
   ]
  },
  {
   "cell_type": "markdown",
   "metadata": {},
   "source": [
    "# 시도 1 : 모든 숫자 조합 만들기, itertools.combinations, combinations_with_replacement"
   ]
  },
  {
   "cell_type": "code",
   "execution_count": 1,
   "metadata": {
    "tags": []
   },
   "outputs": [
    {
     "output_type": "stream",
     "name": "stdout",
     "text": "[0, 1, 1]\n[0, 1, 1]\n[1, 1, 0]\n[(0,), (1,), (1,), (0, 1), (0, 1), (1, 1), (0, 1, 1), (1,), (1,), (0,), (1, 1), (1, 0), (1, 0), (1, 1, 0)]\n"
    },
    {
     "output_type": "execute_result",
     "data": {
      "text/plain": "0"
     },
     "metadata": {},
     "execution_count": 1
    }
   ],
   "source": [
    "import itertools\n",
    "def solution(numbers):\n",
    "    answer = 0\n",
    "    \n",
    "    nums = list(map(lambda x: int(x),numbers))\n",
    "    asc_nums = sorted(nums)\n",
    "    desc_nums = sorted(nums, reverse=True)\n",
    "\n",
    "    print(nums)\n",
    "    print(asc_nums)\n",
    "    print(desc_nums)\n",
    "    \n",
    "    all_combs = []\n",
    "    for r in range(1,len(nums)+1):\n",
    "        # combinations 함수를 써서 조합을 만들어 낼 수 있음!\n",
    "        combination_obj = itertools.combinations(asc_nums,r)\n",
    "        # combination_obj = itertools.combinations_with_replacement(asc_nums,r)\n",
    "        \n",
    "        combination_list = list(combination_obj)\n",
    "        all_combs+=combination_list\n",
    "    \n",
    "    # 근데, 오름차순으로만 하면, 충분치 않음 (모든 경우의 수 표현 x)\n",
    "    # 그래서, 내림차순으로도 진행.\n",
    "    for r in range(1,len(nums)+1):\n",
    "        combination_obj = itertools.combinations(desc_nums,r)\n",
    "        # combination_obj = itertools.combinations_with_replacement(desc_nums,r)\n",
    "        combination_list = list(combination_obj)\n",
    "        if combination_list not in all_combs:\n",
    "            all_combs+=combination_list\n",
    "    \n",
    "    # 근데 그래도 제대로 안됨\n",
    "    # '011' 인 경우에 '101' 조합이 나오질 않음.\n",
    "    print(all_combs)\n",
    "\n",
    "    return answer\n",
    "\n",
    "# solution(\"17\")\n",
    "solution('011')"
   ]
  },
  {
   "cell_type": "markdown",
   "metadata": {},
   "source": [
    "# 시도 2 : itertools.permutations\n",
    "LMS 에서 쓰인 소수판별 함수 재활용"
   ]
  },
  {
   "cell_type": "code",
   "execution_count": 2,
   "metadata": {
    "tags": []
   },
   "outputs": [
    {
     "output_type": "execute_result",
     "data": {
      "text/plain": "2"
     },
     "metadata": {},
     "execution_count": 2
    }
   ],
   "source": [
    "import itertools\n",
    "import math\n",
    "\n",
    "def is_prime(n):\n",
    "    if n < 2:\n",
    "        return False\n",
    "    if n == 2:\n",
    "        return True\n",
    "    if n % 2 == 0:\n",
    "        return False\n",
    "\t\t# 제곱근 씌우고 반올림 한 값\n",
    "    sqrt_n = int(math.floor(math.sqrt(n)))\n",
    "\t\t# 3부터 위에서 구한 값까지(+1 해줬으니) 2씩 증가시키며 i를 꺼낸다.\n",
    "    for i in range(3, sqrt_n + 1, 2):\n",
    "\t\t\t\t# 꺼낸 i로 나눈 나머지가 0이면 소수가 아님 (나머지가 있어야 소수)\n",
    "        if n % i == 0:\n",
    "            return False\n",
    "\t\t# 다 통과하면 소수다.\n",
    "    return True\n",
    "\n",
    "\n",
    "def solution(numbers):\n",
    "    answer = 0\n",
    "    \n",
    "    nums = list(map(lambda x: int(x),numbers))\n",
    "    asc_nums = sorted(nums)\n",
    "    desc_nums = sorted(nums, reverse=True)\n",
    "\n",
    "    # print(nums)\n",
    "    # print(asc_nums)\n",
    "    # print(desc_nums)\n",
    "    \n",
    "    all_combs = []\n",
    "    for r in range(1,len(nums)+1):\n",
    "   \n",
    "        combination_obj = itertools.permutations(asc_nums,r)\n",
    "        \n",
    "        combination_list = list(combination_obj)\n",
    "        all_combs+=combination_list\n",
    "\n",
    "    # print(all_combs)\n",
    "    all_combs = list(set(all_combs))\n",
    "    # print(all_combs)\n",
    "\n",
    "    answers = []\n",
    "    for comb in all_combs:\n",
    "        \n",
    "        num = '0'\n",
    "        for i in range(len(comb)):\n",
    "            num += str(comb[i])\n",
    "\n",
    "        num = int(num[1:])\n",
    "        if is_prime(num):\n",
    "            if num not in answers:\n",
    "                answers.append(num)\n",
    "            else:\n",
    "                pass\n",
    "\n",
    "    answer = len(answers)\n",
    "    return answer\n",
    "\n",
    "# solution(\"17\")\n",
    "solution('011')"
   ]
  },
  {
   "cell_type": "code",
   "execution_count": 3,
   "metadata": {
    "tags": []
   },
   "outputs": [
    {
     "output_type": "stream",
     "name": "stdout",
     "text": "11.025057669990929 [µs]\n"
    }
   ],
   "source": [
    "import timeit\n",
    "\n",
    "start = timeit.default_timer()\n",
    "t1 = timeit.Timer(\"solution('011')\", \"from __main__ import solution\")\n",
    "print(t1.timeit(), '[µs]')"
   ]
  },
  {
   "cell_type": "code",
   "execution_count": 4,
   "metadata": {
    "tags": []
   },
   "outputs": [
    {
     "output_type": "stream",
     "name": "stdout",
     "text": "10.7 µs ± 85.5 ns per loop (mean ± std. dev. of 7 runs, 100000 loops each)\n"
    }
   ],
   "source": [
    "%timeit solution('011')"
   ]
  },
  {
   "cell_type": "code",
   "execution_count": null,
   "metadata": {},
   "outputs": [],
   "source": []
  }
 ]
}