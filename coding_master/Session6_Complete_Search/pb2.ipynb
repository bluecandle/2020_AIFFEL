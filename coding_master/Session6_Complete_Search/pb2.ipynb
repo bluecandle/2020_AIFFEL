{
 "metadata": {
  "language_info": {
   "codemirror_mode": {
    "name": "ipython",
    "version": 3
   },
   "file_extension": ".py",
   "mimetype": "text/x-python",
   "name": "python",
   "nbconvert_exporter": "python",
   "pygments_lexer": "ipython3",
   "version": "3.8.3-final"
  },
  "orig_nbformat": 2,
  "kernelspec": {
   "name": "temp",
   "display_name": "temp"
  }
 },
 "nbformat": 4,
 "nbformat_minor": 2,
 "cells": [
  {
   "cell_type": "markdown",
   "metadata": {},
   "source": [
    "# 소수찾기\n",
    "\n",
    "한자리 숫자가 적힌 종이 조각\n",
    "흩어진 종이 조각을 붙여 소수를 몇 개 만들 수 있는가?\n",
    "\n",
    "각 종이 조각에 적힌 숫자가 적힌 문자열 numbers\n",
    "\n",
    "종이 조각으로 만들 수 있는 소수가 몇 개인지 return\n",
    "\n",
    "- numbers는 길이 1 이상 7 이하인 문자열입니다.\n",
    "- numbers는 0~9까지 숫자만으로 이루어져 있습니다.\n",
    "- 013은 0, 1, 3 숫자가 적힌 종이 조각이 흩어져있다는 의미입니다."
   ]
  },
  {
   "cell_type": "markdown",
   "metadata": {},
   "source": [
    "## 생각 1\n",
    "1. 주어진 숫자들로 만들 수 있는 수를 모두 만든다.\n",
    "2. 그리고 각각의 숫자가 소수인 경우를 판단한다."
   ]
  },
  {
   "cell_type": "markdown",
   "metadata": {},
   "source": [
    "# 시도 1"
   ]
  },
  {
   "cell_type": "code",
   "execution_count": 29,
   "metadata": {
    "tags": []
   },
   "outputs": [
    {
     "output_type": "stream",
     "name": "stdout",
     "text": "[1, 7]\n[1, 7]\n[7, 1]\n[(1,), (7,), (1, 7), (7,), (1,), (7, 1)]\n"
    },
    {
     "output_type": "execute_result",
     "data": {
      "text/plain": "0"
     },
     "metadata": {},
     "execution_count": 29
    }
   ],
   "source": [
    "import itertools\n",
    "def solution(numbers):\n",
    "    answer = 0\n",
    "    \n",
    "    nums = list(map(lambda x: int(x),numbers))\n",
    "    asc_nums = sorted(nums)\n",
    "    desc_nums = sorted(nums, reverse=True)\n",
    "\n",
    "    print(nums)\n",
    "    print(asc_nums)\n",
    "    print(desc_nums)\n",
    "    \n",
    "    all_combs = []\n",
    "    for r in range(1,len(nums)+1):\n",
    "        # combinations 함수를 써서 조합을 만들어 낼 수 있음!\n",
    "        combination_obj = itertools.combinations(asc_nums,r)\n",
    "        combination_list = list(combination_obj)\n",
    "        all_combs+=combination_list\n",
    "    \n",
    "    # 근데, 오름차순으로만 하면, 충분치 않음 (모든 경우의 수 표현 x)\n",
    "    # 그래서, 내림차순으로도 진행.\n",
    "    for r in range(1,len(nums)+1):\n",
    "        combination_obj = itertools.combinations(desc_nums,r)\n",
    "        combination_list = list(combination_obj)\n",
    "        if combination_list not in all_combs:\n",
    "            all_combs+=combination_list\n",
    "\n",
    "    print(all_combs)\n",
    "\n",
    "    return answer\n",
    "\n",
    "solution(\"17\")"
   ]
  },
  {
   "cell_type": "code",
   "execution_count": null,
   "metadata": {},
   "outputs": [],
   "source": []
  },
  {
   "cell_type": "code",
   "execution_count": null,
   "metadata": {},
   "outputs": [],
   "source": []
  }
 ]
}