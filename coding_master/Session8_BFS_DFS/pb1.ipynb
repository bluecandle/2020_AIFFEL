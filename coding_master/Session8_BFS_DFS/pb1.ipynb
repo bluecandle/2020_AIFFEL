{
 "metadata": {
  "language_info": {
   "codemirror_mode": {
    "name": "ipython",
    "version": 3
   },
   "file_extension": ".py",
   "mimetype": "text/x-python",
   "name": "python",
   "nbconvert_exporter": "python",
   "pygments_lexer": "ipython3",
   "version": "3.7.7-final"
  },
  "orig_nbformat": 2,
  "kernelspec": {
   "name": "python_defaultSpec_1600325365647",
   "display_name": "Python 3.7.7 64-bit ('aiffel': conda)"
  }
 },
 "nbformat": 4,
 "nbformat_minor": 2,
 "cells": [
  {
   "source": [
    "# 타겟 넘버\n",
    "n 개의 음이 아닌 정수를 더하거나 빼서 타겟 넘버 만들기\n",
    "타겟 넘버를 만들 수 있는 방법의 수를 return 하도록 solution 함수 작성\n",
    "- 주어지는 숫자의 갯수는 2개 이상 20개 이하\n",
    "- 각 숫자는 1 이상 50 이하인 자연수\n",
    "- 타겟 넘버는 1 이상 1000 이하인 자연수"
   ],
   "cell_type": "markdown",
   "metadata": {}
  },
  {
   "source": [
    "# 시도 1: 정답\n",
    "각 숫자 앞에 +/- 부호를 붙이는 2가지 경우가 존재. 최대 20개 이하 => 2^20 => 최대 대략 100만 가지 가지수\n",
    "완전탐색으로 풀어보자."
   ],
   "cell_type": "markdown",
   "metadata": {}
  },
  {
   "cell_type": "code",
   "execution_count": 11,
   "metadata": {},
   "outputs": [],
   "source": [
    "from collections import deque\n",
    "from itertools import combinations, permutations\n",
    "\n",
    "def solution(numbers, target):\n",
    "    answer = 0\n",
    "\n",
    "    numbers_range = range(0,len(numbers))\n",
    "    # index combination 사용\n",
    "    for i in range(1, len(numbers)+1):\n",
    "        index_comb_list = list(combinations(numbers_range,i))\n",
    "        # print(index_comb_list)\n",
    "\n",
    "        for index_comb in index_comb_list:\n",
    "            \n",
    "            temp = 0\n",
    "            plus_idx_list = list(set(numbers_range)-set(index_comb))\n",
    "            for plus_idx in plus_idx_list:\n",
    "                temp+=numbers[plus_idx]             \n",
    "            \n",
    "            for index in index_comb:\n",
    "                temp-=numbers[index]\n",
    "            if temp ==target:\n",
    "                answer+=1\n",
    "\n",
    "\n",
    "    # combination 만들어서 하면 중복 숫자가 무시되어 안된다.\n",
    "    # for i in range(1, len(numbers)+1):\n",
    "        # comb_list = list(combinations(numbers,i))\n",
    "        # permu_list = list(permutations(numbers,i))\n",
    "        \n",
    "        # print(comb_list)     \n",
    "        # print(permu_list)   \n",
    "\n",
    "        # for comb in comb_list:\n",
    "        #     temp = 0\n",
    "        #     print(list(comb))\n",
    "        #     c_list = list(comb)\n",
    "            \n",
    "        #     c_list_temp = c_list.copy()\n",
    "\n",
    "        #     plus_list = numbers\n",
    "\n",
    "        #     for c in c_list_temp:\n",
    "        #         plus_list.remove(c)\n",
    "        #         c_list_temp.remove(c)\n",
    "                            \n",
    "        #     print(plus_list)\n",
    "\n",
    "        #     for p in plus_list:\n",
    "        #         temp+=p\n",
    "        #     for c in c_list:\n",
    "        #         temp-=c    \n",
    "            \n",
    "        #     if temp == target:\n",
    "        #         answer+=1\n",
    "\n",
    "        # for permu in permu_list:\n",
    "        #     temp = 0\n",
    "        #     print(list(permu))\n",
    "        #     p_list = list(permu)\n",
    "            \n",
    "        #     p_list_temp = p_list.copy()\n",
    "\n",
    "        #     plus_list = numbers\n",
    "\n",
    "        #     for p in p_list_temp:\n",
    "        #         plus_list.remove(p)\n",
    "        #         p_list_temp.remove(p)\n",
    "                            \n",
    "        #     print(plus_list)\n",
    "\n",
    "        #     for p in plus_list:\n",
    "        #         temp+=p\n",
    "        #     for p in p_list:\n",
    "        #         temp-=p    \n",
    "            \n",
    "        #     if temp == target:\n",
    "        #         answer+=1            \n",
    "        \n",
    "    # q = deque(maxlen=2**20)\n",
    "    # q.append()\n",
    "    \n",
    "\n",
    "    return answer"
   ]
  },
  {
   "cell_type": "code",
   "execution_count": 12,
   "metadata": {
    "tags": []
   },
   "outputs": [
    {
     "output_type": "execute_result",
     "data": {
      "text/plain": "5"
     },
     "metadata": {},
     "execution_count": 12
    }
   ],
   "source": [
    "solution([1,1,1,1,1],3)"
   ]
  },
  {
   "cell_type": "code",
   "execution_count": 13,
   "metadata": {
    "tags": []
   },
   "outputs": [
    {
     "output_type": "stream",
     "name": "stdout",
     "text": "27.6 µs ± 410 ns per loop (mean ± std. dev. of 7 runs, 10000 loops each)\n"
    }
   ],
   "source": [
    "%timeit solution([1,1,1,1,1],3)"
   ]
  },
  {
   "cell_type": "code",
   "execution_count": null,
   "metadata": {},
   "outputs": [],
   "source": []
  }
 ]
}