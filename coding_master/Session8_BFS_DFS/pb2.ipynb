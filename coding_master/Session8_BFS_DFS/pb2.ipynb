{
 "metadata": {
  "language_info": {
   "codemirror_mode": {
    "name": "ipython",
    "version": 3
   },
   "file_extension": ".py",
   "mimetype": "text/x-python",
   "name": "python",
   "nbconvert_exporter": "python",
   "pygments_lexer": "ipython3",
   "version": "3.7.7-final"
  },
  "orig_nbformat": 2,
  "kernelspec": {
   "name": "python_defaultSpec_1600658854568",
   "display_name": "Python 3.7.7 64-bit ('aiffel': conda)"
  }
 },
 "nbformat": 4,
 "nbformat_minor": 2,
 "cells": [
  {
   "source": [
    "# 네트워크\n",
    "\n",
    "컴퓨터의 개수 n, 연결에 대한 정보가 담긴 2차원 배열 computers가 매개변수로 주어질 때, 네트워크의 개수를 return 하도록 solution 함수를 작성하시오.\n",
    "\n",
    "- 컴퓨터의 개수 n은 1이상 200이하인 자연수\n",
    "- 각 컴퓨터는 0부터 n-1인 정수로 표현\n",
    "- i번 컴퓨터와 j번 컴퓨터가 연결되어 있으면 computers\\[i]\\[j]를 1로 표현합니다.\n",
    "- computers\\[i]\\[i]는 항상 1입니다."
   ],
   "cell_type": "markdown",
   "metadata": {}
  },
  {
   "source": [
    "# 생각 1: 테스트 케이스 5번 실패\n",
    "1. 주어진 배열을 기반으로 graph를 나타내는 dict로 전환\n",
    "2. graph 에서 root node를 하나 선택하고, DFS 활용하여 visited 산출\n",
    "3. visited에 포함된 node들 graph 에서 제거하고 count 1상승\n",
    "4. graph 빌때까지 2부터 반복"
   ],
   "cell_type": "markdown",
   "metadata": {}
  },
  {
   "cell_type": "code",
   "execution_count": 22,
   "metadata": {},
   "outputs": [],
   "source": [
    "from collections import defaultdict\n",
    "def solution(n, computers):\n",
    "    answer = 0\n",
    "    \n",
    "    graph = defaultdict(int)\n",
    "\n",
    "    # graph dict 만들기\n",
    "    for idx,adj_list in enumerate(computers):\n",
    "        \n",
    "        graph[idx] = set()\n",
    "        for adj_idx,val in enumerate(adj_list):\n",
    "            if idx != adj_idx:\n",
    "                if val:\n",
    "                    graph[idx].add(adj_idx)\n",
    "            else:\n",
    "                pass\n",
    "\n",
    "    def DFS_with_adj_list(graph, root):\n",
    "        visited = []\n",
    "        stack = [root]\n",
    "\n",
    "        while stack:\n",
    "            n = stack.pop()\n",
    "            if n not in visited:\n",
    "                visited.append(n)\n",
    "                stack += graph[n] - set(visited)\n",
    "        return visited\n",
    "\n",
    "    while any(graph):\n",
    "        root = list(graph.keys())[0]\n",
    "        visited = DFS_with_adj_list(graph,root)\n",
    "\n",
    "        for v in visited:\n",
    "            del graph[v]\n",
    "        answer+=1\n",
    "\n",
    "    return answer"
   ]
  },
  {
   "source": [
    "## "
   ],
   "cell_type": "markdown",
   "metadata": {}
  },
  {
   "source": [
    "# 시도 2:"
   ],
   "cell_type": "markdown",
   "metadata": {}
  },
  {
   "cell_type": "code",
   "execution_count": 4,
   "metadata": {},
   "outputs": [],
   "source": [
    "def dfs(computers, visited, start):\n",
    "    if visited[start]:\n",
    "        return\n",
    "    visited[start] = 1\n",
    "    for idx, c in enumerate(computers[start]):\n",
    "        # 연결되어 있다면 visit\n",
    "        if c == 1:\n",
    "            dfs(computers, visited, idx)\n",
    "\n",
    "\n",
    "def solution(n, computers):\n",
    "    answer = 0\n",
    "    visited = [0] * n\n",
    "\n",
    "    i = 0\n",
    "    while 0 in visited:\n",
    "        if visited[i] == 0:\n",
    "            dfs(computers, visited, i)\n",
    "            answer += 1\n",
    "        i += 1\n",
    "\n",
    "    return answer"
   ]
  },
  {
   "cell_type": "code",
   "execution_count": 5,
   "metadata": {
    "tags": []
   },
   "outputs": [
    {
     "output_type": "execute_result",
     "data": {
      "text/plain": "2"
     },
     "metadata": {},
     "execution_count": 5
    }
   ],
   "source": [
    "solution(3,[[1, 1, 0], [1, 1, 0], [0, 0, 1]])"
   ]
  },
  {
   "cell_type": "code",
   "execution_count": null,
   "metadata": {
    "tags": []
   },
   "outputs": [],
   "source": [
    "solution(3,[[1, 1, 0], [1, 1, 1], [0, 1, 1]])"
   ]
  },
  {
   "cell_type": "code",
   "execution_count": null,
   "metadata": {},
   "outputs": [],
   "source": []
  }
 ]
}