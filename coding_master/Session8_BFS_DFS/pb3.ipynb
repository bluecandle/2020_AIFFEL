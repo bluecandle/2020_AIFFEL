{
 "metadata": {
  "language_info": {
   "codemirror_mode": {
    "name": "ipython",
    "version": 3
   },
   "file_extension": ".py",
   "mimetype": "text/x-python",
   "name": "python",
   "nbconvert_exporter": "python",
   "pygments_lexer": "ipython3",
   "version": "3.7.7-final"
  },
  "orig_nbformat": 2,
  "kernelspec": {
   "name": "python_defaultSpec_1600332589855",
   "display_name": "Python 3.7.7 64-bit ('aiffel': conda)"
  }
 },
 "nbformat": 4,
 "nbformat_minor": 2,
 "cells": [
  {
   "source": [
    "# 단어 변환\n",
    "\n",
    "두 단어 begin, target 단어 집함 words\n",
    "begin => target 변환하는 가장 짧은 변환 과정 찾기.\n",
    "\n",
    "1. 한 번에 한 개의 알파벳만 바꿀 수 있다.\n",
    "2. words에 있는 단어로만 변환할 수 있다.\n",
    "\n",
    "예를 들어 begin이 hit, target가 cog, words가 [hot,dot,dog,lot,log,cog]라면 hit -> hot -> dot -> dog -> cog와 같이 4단계를 거쳐 변환할 수 있습니다.\n",
    "\n",
    "두 개의 단어 begin, target과 단어의 집합 words가 매개변수로 주어질 때, 최소 몇 단계의 과정을 거쳐 begin을 target으로 변환할 수 있는지 return 하도록 solution 함수 작성\n",
    "\n",
    "- 각 단어는 소문자\n",
    "- 각 단어 길이 3이상 10이하, 모든 단어 길이 같음\n",
    "- words에는 3개 이상 50개 이하 단어\n",
    "- begin, target은 같지 않다.\n",
    "- 변환 불가하면 0 return"
   ],
   "cell_type": "markdown",
   "metadata": {}
  },
  {
   "source": [
    "# 시도 1: 2,3,4 번 시간초과\n",
    "1. target이 words 안에 없다면 return 0\n",
    "2. words 로 주어진 목록을 토대로 graph를 만든다.\n",
    "3. 첫 level에 begin 문자열을 넣고 시작\n",
    "4. 각 level 에서 current 값을 하나씩 꺼낸다.\n",
    "5. current에서 한 글자 변경해서 만들 수 있는 문자열들을 다음 레벨에 포함시키고 words 목록에서 제거.\n",
    "6. 그리고 만들어진 다음레벨에서 순서대로 4번부터 다시 진행하는 구조.\n",
    "7. words 에 있는 문자열들을 다 사용하면 끝낸다.\n",
    "8. 그리고 만들어진 graph에서 target을 대상으로 dfs 진행하고, visited 에 포함된 갯수 -1 이 답 ( begin 제외 )"
   ],
   "cell_type": "markdown",
   "metadata": {}
  },
  {
   "cell_type": "code",
   "execution_count": 26,
   "metadata": {},
   "outputs": [],
   "source": [
    "from collections import defaultdict\n",
    "def solution(begin, target, words):\n",
    "    answer = 0\n",
    "    \n",
    "    if target not in words:\n",
    "        return answer\n",
    "    \n",
    "    graph = defaultdict(str)\n",
    "\n",
    "    def one_char_diff(s1, s2):\n",
    "        count = 0\n",
    "\n",
    "        for c1, c2 in zip(s1, s2):\n",
    "            if c1 != c2:\n",
    "                if count == 1:\n",
    "                    return False\n",
    "                else:\n",
    "                    count+=1\n",
    "\n",
    "        return True\n",
    "     \n",
    "    level = [begin]\n",
    "\n",
    "    while len(words):    \n",
    "        next_level = set()\n",
    "\n",
    "        for current in level:\n",
    "            # 중복되는 단어가 없기 때문에 set을 사용해도 된다.\n",
    "            graph[current] = set()        \n",
    "\n",
    "            for w in words:\n",
    "                if one_char_diff(current,w):\n",
    "                    graph[current].add(w)\n",
    "                    next_level.add(w)            \n",
    "            \n",
    "            for sub in graph[current]:\n",
    "                words.remove(sub)\n",
    "\n",
    "        level = next_level\n",
    "\n",
    "    # print(graph)\n",
    "    \n",
    "    def DFS_count_with_adj_list(graph, root):\n",
    "        count = 0\n",
    "        visited = []\n",
    "        stack = [root]\n",
    "\n",
    "        while stack:\n",
    "            n = stack.pop()\n",
    "            if n not in visited:\n",
    "                visited.append(n)                \n",
    "                # print(n,graph[n],target)\n",
    "                if n == target:\n",
    "                    break\n",
    "                stack += graph[n] - set(visited)    \n",
    "                count+=1                                                            \n",
    "\n",
    "        return count\n",
    "\n",
    "    answer = DFS_count_with_adj_list(graph,begin)\n",
    "    \n",
    "    return answer"
   ]
  },
  {
   "cell_type": "code",
   "execution_count": 27,
   "metadata": {
    "tags": []
   },
   "outputs": [
    {
     "output_type": "execute_result",
     "data": {
      "text/plain": "4"
     },
     "metadata": {},
     "execution_count": 27
    }
   ],
   "source": [
    "solution('hit','cog',['hot', 'dot', 'dog', 'lot', 'log', 'cog'])"
   ]
  },
  {
   "cell_type": "code",
   "execution_count": null,
   "metadata": {},
   "outputs": [],
   "source": []
  }
 ]
}