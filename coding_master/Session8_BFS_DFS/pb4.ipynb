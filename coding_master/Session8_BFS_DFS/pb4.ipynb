{
 "metadata": {
  "language_info": {
   "codemirror_mode": {
    "name": "ipython",
    "version": 3
   },
   "file_extension": ".py",
   "mimetype": "text/x-python",
   "name": "python",
   "nbconvert_exporter": "python",
   "pygments_lexer": "ipython3",
   "version": 3
  },
  "orig_nbformat": 2
 },
 "nbformat": 4,
 "nbformat_minor": 2,
 "cells": [
  {
   "source": [
    "# 여행경로\n",
    "\n",
    "주어진 항공권을 모두 이용하는 여행경로.\n",
    "항상 \"ICN\" 공항에서 출발\n",
    "tickets : 항공권 정보가 담긴 2차원 배열\n",
    "방문하는 공항 경로를 배열에 담아 return\n",
    "\n",
    "- 모든 공항은 알파벳 대문자 3글자로 이루어집니다.\n",
    "- 주어진 공항 수는 3개 이상 10,000개 이하입니다.\n",
    "- tickets의 각 행 [a, b]는 a 공항에서 b 공항으로 가는 항공권이 있다는 의미입니다.\n",
    "- 주어진 항공권은 모두 사용해야 합니다.\n",
    "- 만일 가능한 경로가 2개 이상일 경우 알파벳 순서가 앞서는 경로를 return 합니다.\n",
    "- 모든 도시를 방문할 수 없는 경우는 주어지지 않습니다."
   ],
   "cell_type": "markdown",
   "metadata": {}
  },
  {
   "source": [
    "# 시도 1:\n",
    "\n",
    "- tickets 배열을 토대로 graph를 구성한다.\n",
    "- 단, 도착지 공항의 문자열을 토대로 weight 를 구한다.\n",
    "    - 도착지 공항의 첫 글자 unicode * 10^4 두번째 글자 unicode * 10^2 세번째 글자 unicode. 세 가지 값을 더한다.\n",
    "- 만들어진 그래프를 토대로, 방문할 수 있는 경로 중 가장 weight 가 낮은 경로를 방문하는 방향으로 진행한다. ( 이미 사용한 경로는 제외하고! )"
   ],
   "cell_type": "markdown",
   "metadata": {}
  },
  {
   "cell_type": "code",
   "execution_count": null,
   "metadata": {},
   "outputs": [],
   "source": [
    "def solution(tickets):\n",
    "    answer = []\n",
    "    return answer"
   ]
  }
 ]
}