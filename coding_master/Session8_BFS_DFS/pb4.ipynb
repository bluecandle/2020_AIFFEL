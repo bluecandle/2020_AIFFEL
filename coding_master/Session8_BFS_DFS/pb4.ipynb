{
 "metadata": {
  "language_info": {
   "codemirror_mode": {
    "name": "ipython",
    "version": 3
   },
   "file_extension": ".py",
   "mimetype": "text/x-python",
   "name": "python",
   "nbconvert_exporter": "python",
   "pygments_lexer": "ipython3",
   "version": "3.7.7-final"
  },
  "orig_nbformat": 2,
  "kernelspec": {
   "name": "python_defaultSpec_1600659113639",
   "display_name": "Python 3.7.7 64-bit ('aiffel': conda)"
  }
 },
 "nbformat": 4,
 "nbformat_minor": 2,
 "cells": [
  {
   "source": [
    "# 여행경로\n",
    "\n",
    "주어진 항공권을 모두 이용하는 여행경로.\n",
    "항상 \"ICN\" 공항에서 출발\n",
    "tickets : 항공권 정보가 담긴 2차원 배열\n",
    "방문하는 공항 경로를 배열에 담아 return\n",
    "\n",
    "- 모든 공항은 알파벳 대문자 3글자로 이루어집니다.\n",
    "- 주어진 공항 수는 3개 이상 10,000개 이하입니다.\n",
    "- tickets의 각 행 [a, b]는 a 공항에서 b 공항으로 가는 항공권이 있다는 의미입니다.\n",
    "- 주어진 항공권은 모두 사용해야 합니다.\n",
    "- 만일 가능한 경로가 2개 이상일 경우 알파벳 순서가 앞서는 경로를 return 합니다.\n",
    "- 모든 도시를 방문할 수 없는 경우는 주어지지 않습니다."
   ],
   "cell_type": "markdown",
   "metadata": {}
  },
  {
   "source": [
    "# 시도 1: 실패 test case 1,2 번 런타임에러\n",
    "\n",
    "- tickets 배열을 토대로 graph를 구성한다.\n",
    "- 단, 도착지 공항의 문자열을 토대로 weight 를 구한다.\n",
    "    - 도착지 공항의 첫 글자 unicode * 10^4 두번째 글자 unicode * 10^2 세번째 글자 unicode. 세 가지 값을 더한다.\n",
    "- 만들어진 그래프를 토대로, 방문할 수 있는 경로 중 가장 weight 가 낮은 경로를 방문하는 방향으로 진행한다. ( 이미 사용한 경로는 제외하고! )"
   ],
   "cell_type": "markdown",
   "metadata": {}
  },
  {
   "cell_type": "code",
   "execution_count": 51,
   "metadata": {},
   "outputs": [],
   "source": [
    "from collections import defaultdict\n",
    "import operator\n",
    "\n",
    "def getWeight(vertex):\n",
    "    return ord(vertex[0])*(10**4) + ord(vertex[1])*(10**2) + ord(vertex[2])\n",
    "def solution(tickets):\n",
    "    answer = []\n",
    "    graph = defaultdict(str)\n",
    "    \n",
    "    for ticket in tickets:\n",
    "        start = ticket[0]\n",
    "        end = ticket[1]\n",
    "        \n",
    "        if start in graph.keys():            \n",
    "            graph[start][end] = getWeight(end)\n",
    "        else:\n",
    "            graph[start] = {end : getWeight(end)}\n",
    "\n",
    "    # print(graph)\n",
    "\n",
    "    start = 'ICN'\n",
    "    answer.append(start)\n",
    "\n",
    "    while any(graph):\n",
    "        cand = graph[start]\n",
    "\n",
    "        # 다음 최소 지점을 지정,\n",
    "        try:\n",
    "            _min_end = min(cand.items(), key=operator.itemgetter(1))[0]\n",
    "        except:          \n",
    "            continue\n",
    "\n",
    "        # print(start, _min_end)\n",
    "\n",
    "        # 지정된 다음 지점은 후보군에서 제거\n",
    "        del cand[_min_end]\n",
    "        \n",
    "        # 후보 제거 이후 후보군이 전부 다 비었다면, 해당 start 지점을 그래프에서 제거\n",
    "        if not any(cand):\n",
    "            del graph[start]         \n",
    "        # 아직 후보군이 남아있다면, 후보군 갱신\n",
    "        else:\n",
    "            graph[start] = cand\n",
    "                    \n",
    "        # 다음 출발지 갱신\n",
    "        start = _min_end\n",
    "\n",
    "        # 근데, 다음 출발 지점으로 지정된 곳에서 출발하는 티켓(후보군)이 없다면,\n",
    "        while not any(graph[start]):\n",
    "            # 해당 지점을 지우고            \n",
    "            del graph[start]\n",
    "         \n",
    "            # 다시 다른 지점을 찾는다.\n",
    "            # 단, graph 가 다 비었다면 break\n",
    "            if not any(graph):\n",
    "                break\n",
    "            else:\n",
    "                _min_end = min(graph.items(), key=operator.itemgetter(1))[0]\n",
    "                start = _min_end          \n",
    "\n",
    "        # 적당한 출발지가 정해지면, 다음 start 지점을 graph에 넣어준다.\n",
    "        answer.append(start)\n",
    "\n",
    "\n",
    "    return answer"
   ]
  },
  {
   "cell_type": "code",
   "execution_count": 52,
   "metadata": {
    "tags": []
   },
   "outputs": [
    {
     "output_type": "execute_result",
     "data": {
      "text/plain": "['ICN', 'SFO', 'ATI', 'SFI', 'SFO', 'ATL']"
     },
     "metadata": {},
     "execution_count": 52
    }
   ],
   "source": [
    "solution([['ICN', 'SFO'], ['SFO', 'ATL'], ['SFO', 'ATI'], ['ATI', 'SFI'], ['SFI','SFO']])"
   ]
  },
  {
   "source": [
    "# 시도 2"
   ],
   "cell_type": "markdown",
   "metadata": {}
  },
  {
   "cell_type": "code",
   "execution_count": 2,
   "metadata": {},
   "outputs": [],
   "source": [
    "from collections import defaultdict\n",
    "\n",
    "def solution(tickets):\n",
    "    answer = [tickets[0][0]]\n",
    "    ticket_dict = defaultdict(list)\n",
    "\n",
    "    # ticket dictionary\n",
    "    for start, end in tickets:\n",
    "        ticket_dict[start].append(end)\n",
    "\n",
    "    for k in ticket_dict.keys():\n",
    "        ticket_dict[k].sort(reverse=True)\n",
    "\n",
    "    print(ticket_dict)\n",
    "\n",
    "    stack = [\"ICN\"]\n",
    "    path = []\n",
    "\n",
    "    while stack:\n",
    "        top = stack[-1]\n",
    "        # ticket_dict[top]이 비어있으면 더이상 갈 도시가 없습니다. path에 추가해줍니다.\n",
    "        if len(ticket_dict[top]) == 0:\n",
    "            path.append(stack.pop())\n",
    "        else:\n",
    "            stack.append(ticket_dict[top].pop())\n",
    "\n",
    "    # 경로가 거꾸로 path에 들어가 있기때문에 반대로\n",
    "    answer = path[::-1]\n",
    "\n",
    "    return answer\n"
   ]
  },
  {
   "cell_type": "code",
   "execution_count": 3,
   "metadata": {
    "tags": []
   },
   "outputs": [
    {
     "output_type": "stream",
     "name": "stdout",
     "text": "defaultdict(<class 'list'>, {'ICN': ['SFO'], 'SFO': ['ATL', 'ATI'], 'ATI': ['SFI'], 'SFI': ['SFO']})\n"
    },
    {
     "output_type": "execute_result",
     "data": {
      "text/plain": "['ICN', 'SFO', 'ATI', 'SFI', 'SFO', 'ATL']"
     },
     "metadata": {},
     "execution_count": 3
    }
   ],
   "source": [
    "solution([['ICN', 'SFO'], ['SFO', 'ATL'], ['SFO', 'ATI'], ['ATI', 'SFI'], ['SFI','SFO']])"
   ]
  },
  {
   "cell_type": "code",
   "execution_count": null,
   "metadata": {},
   "outputs": [],
   "source": []
  }
 ]
}