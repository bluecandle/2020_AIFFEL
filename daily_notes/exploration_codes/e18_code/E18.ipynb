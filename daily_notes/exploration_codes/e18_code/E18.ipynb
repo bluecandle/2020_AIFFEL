{
 "metadata": {
  "language_info": {
   "codemirror_mode": {
    "name": "ipython",
    "version": 3
   },
   "file_extension": ".py",
   "mimetype": "text/x-python",
   "name": "python",
   "nbconvert_exporter": "python",
   "pygments_lexer": "ipython3",
   "version": "3.7.7-final"
  },
  "orig_nbformat": 2,
  "kernelspec": {
   "name": "Python 3.7.7 64-bit ('aiffel': conda)",
   "display_name": "Python 3.7.7 64-bit ('aiffel': conda)",
   "metadata": {
    "interpreter": {
     "hash": "f5a23dafa1167ad26407da34d61d47c6735277f7e3900a1acafb810bbe457929"
    }
   }
  }
 },
 "nbformat": 4,
 "nbformat_minor": 2,
 "cells": [
  {
   "source": [
    "# E-18 프로젝트: 뉴스기사 요약해보기"
   ],
   "cell_type": "markdown",
   "metadata": {}
  },
  {
   "cell_type": "code",
   "execution_count": 5,
   "metadata": {},
   "outputs": [
    {
     "output_type": "stream",
     "name": "stderr",
     "text": [
      "[nltk_data] Downloading package stopwords to\n[nltk_data]     /home/aiffel0042/nltk_data...\n[nltk_data]   Package stopwords is already up-to-date!\n"
     ]
    }
   ],
   "source": [
    "import urllib.request\n",
    "import pandas as pd\n",
    "import numpy as np\n",
    "\n",
    "import nltk\n",
    "nltk.download('stopwords')\n",
    "\n",
    "import os\n",
    "import re\n",
    "import matplotlib.pyplot as plt\n",
    "from nltk.corpus import stopwords\n",
    "from bs4 import BeautifulSoup \n",
    "from tensorflow.keras.preprocessing.text import Tokenizer \n",
    "from tensorflow.keras.preprocessing.sequence import pad_sequences"
   ]
  },
  {
   "source": [
    "## 데이터 수집하기"
   ],
   "cell_type": "markdown",
   "metadata": {}
  },
  {
   "cell_type": "code",
   "execution_count": 2,
   "metadata": {},
   "outputs": [],
   "source": [
    "urllib.request.urlretrieve(\"https://raw.githubusercontent.com/sunnysai12345/News_Summary/master/news_summary_more.csv\", filename=\"news_summary_more.csv\")\n",
    "data = pd.read_csv('news_summary_more.csv', encoding='iso-8859-1')"
   ]
  },
  {
   "cell_type": "code",
   "execution_count": 3,
   "metadata": {},
   "outputs": [
    {
     "output_type": "execute_result",
     "data": {
      "text/plain": [
       "                                               headlines  \\\n",
       "53397  Firefox browser releases fix for flaws in micr...   \n",
       "46980  Baroda drop Yusuf Pathan 4 months after oustin...   \n",
       "35229  Nadal takes a dig at Federer for missing clay ...   \n",
       "94179  Trump aide drew plan on napkin to partition Li...   \n",
       "64367  I knew my biography would upset a lot of peopl...   \n",
       "71005  Royal Bhutan plane catches fire at Kolkata air...   \n",
       "49994  Crypto firm cheats investors, website reads 'p...   \n",
       "59679  EPS-OPS faction wins back AIADMK's two-leaves ...   \n",
       "68928  China organises blind dates to get single peop...   \n",
       "90231        France bans 'extremely thin' fashion models   \n",
       "\n",
       "                                                    text  \n",
       "53397  Open-source software community Mozilla has rel...  \n",
       "46980  Yusuf Pathan has been dropped from the Baroda ...  \n",
       "35229  World number one Rafael Nadal teased world num...  \n",
       "94179  US President Donald Trump's Deputy Assistant S...  \n",
       "64367  Nawazuddin Siddiqui, while speaking about his ...  \n",
       "71005  A Bangkok-bound Royal Bhutan plane caught fire...  \n",
       "49994  Cryptocurrency startup Prodeum, which aimed to...  \n",
       "59679  The Election Commission has restored the 'two ...  \n",
       "68928  The Chinese government has launched a blind da...  \n",
       "90231  A law banning excessively thin models has come...  "
      ],
      "text/html": "<div>\n<style scoped>\n    .dataframe tbody tr th:only-of-type {\n        vertical-align: middle;\n    }\n\n    .dataframe tbody tr th {\n        vertical-align: top;\n    }\n\n    .dataframe thead th {\n        text-align: right;\n    }\n</style>\n<table border=\"1\" class=\"dataframe\">\n  <thead>\n    <tr style=\"text-align: right;\">\n      <th></th>\n      <th>headlines</th>\n      <th>text</th>\n    </tr>\n  </thead>\n  <tbody>\n    <tr>\n      <th>53397</th>\n      <td>Firefox browser releases fix for flaws in micr...</td>\n      <td>Open-source software community Mozilla has rel...</td>\n    </tr>\n    <tr>\n      <th>46980</th>\n      <td>Baroda drop Yusuf Pathan 4 months after oustin...</td>\n      <td>Yusuf Pathan has been dropped from the Baroda ...</td>\n    </tr>\n    <tr>\n      <th>35229</th>\n      <td>Nadal takes a dig at Federer for missing clay ...</td>\n      <td>World number one Rafael Nadal teased world num...</td>\n    </tr>\n    <tr>\n      <th>94179</th>\n      <td>Trump aide drew plan on napkin to partition Li...</td>\n      <td>US President Donald Trump's Deputy Assistant S...</td>\n    </tr>\n    <tr>\n      <th>64367</th>\n      <td>I knew my biography would upset a lot of peopl...</td>\n      <td>Nawazuddin Siddiqui, while speaking about his ...</td>\n    </tr>\n    <tr>\n      <th>71005</th>\n      <td>Royal Bhutan plane catches fire at Kolkata air...</td>\n      <td>A Bangkok-bound Royal Bhutan plane caught fire...</td>\n    </tr>\n    <tr>\n      <th>49994</th>\n      <td>Crypto firm cheats investors, website reads 'p...</td>\n      <td>Cryptocurrency startup Prodeum, which aimed to...</td>\n    </tr>\n    <tr>\n      <th>59679</th>\n      <td>EPS-OPS faction wins back AIADMK's two-leaves ...</td>\n      <td>The Election Commission has restored the 'two ...</td>\n    </tr>\n    <tr>\n      <th>68928</th>\n      <td>China organises blind dates to get single peop...</td>\n      <td>The Chinese government has launched a blind da...</td>\n    </tr>\n    <tr>\n      <th>90231</th>\n      <td>France bans 'extremely thin' fashion models</td>\n      <td>A law banning excessively thin models has come...</td>\n    </tr>\n  </tbody>\n</table>\n</div>"
     },
     "metadata": {},
     "execution_count": 3
    }
   ],
   "source": [
    "data.sample(10)"
   ]
  },
  {
   "source": [
    "이 데이터는 기사의 본문에 해당되는 text와 headlines 두 가지 열로 구성되어져 있습니다.\n",
    "\n",
    "추상적 요약을 하는 경우에는 text를 본문, headlines를 이미 요약된 데이터로 삼아서 모델을 학습할 수 있어요. 추출적 요약을 하는 경우에는 오직 text열만을 사용."
   ],
   "cell_type": "markdown",
   "metadata": {}
  },
  {
   "source": [
    "## 데이터 전처리하기 (추상적 요약)\n",
    "\n",
    "실습에서 사용된 전처리를 참고하여 각자 필요하다고 생각하는 전처리를 추가 사용하여 텍스트를 정규화 또는 정제해 보세요. 만약, 불용어 제거를 선택한다면 상대적으로 길이가 짧은 요약 데이터에 대해서도 불용어를 제거하는 것이 좋을지 고민해보세요."
   ],
   "cell_type": "markdown",
   "metadata": {}
  },
  {
   "source": [
    "### 중복 샘플 및 NULL 값 존재하는 샘플 제거"
   ],
   "cell_type": "markdown",
   "metadata": {}
  },
  {
   "cell_type": "code",
   "execution_count": 7,
   "metadata": {},
   "outputs": [
    {
     "output_type": "execute_result",
     "data": {
      "text/plain": [
       "98401"
      ]
     },
     "metadata": {},
     "execution_count": 7
    }
   ],
   "source": [
    "# 원래 data len\n",
    "len(data)"
   ]
  },
  {
   "cell_type": "code",
   "execution_count": 6,
   "metadata": {},
   "outputs": [
    {
     "output_type": "stream",
     "name": "stdout",
     "text": [
      "text 열에서 중복을 배제한 유일한 샘플의 수 : 98360\nheadlines 열에서 중복을 배제한 유일한 샘플의 수 : 98280\n"
     ]
    }
   ],
   "source": [
    "print('text 열에서 중복을 배제한 유일한 샘플의 수 :', data['text'].nunique())\n",
    "print('headlines 열에서 중복을 배제한 유일한 샘플의 수 :', data['headlines'].nunique())"
   ]
  },
  {
   "source": [
    "서로 다른 텍스트 대해 중복되는 제목이 존재할 수 있다. 따라서, 중복되는 텍스트만 제거"
   ],
   "cell_type": "markdown",
   "metadata": {}
  },
  {
   "cell_type": "code",
   "execution_count": 8,
   "metadata": {},
   "outputs": [
    {
     "output_type": "stream",
     "name": "stdout",
     "text": [
      "전체 샘플수 : 98360\n"
     ]
    }
   ],
   "source": [
    "data.drop_duplicates(subset = ['text'], inplace = True)\n",
    "print('전체 샘플수 :',(len(data)))"
   ]
  },
  {
   "source": [
    "null 값을 갖는 샘플 확인."
   ],
   "cell_type": "markdown",
   "metadata": {}
  },
  {
   "cell_type": "code",
   "execution_count": 9,
   "metadata": {},
   "outputs": [
    {
     "output_type": "stream",
     "name": "stdout",
     "text": [
      "headlines    0\ntext         0\ndtype: int64\n"
     ]
    }
   ],
   "source": [
    "print(data.isnull().sum())"
   ]
  },
  {
   "source": [
    "null 값을 갖는 샘플이 없다."
   ],
   "cell_type": "markdown",
   "metadata": {}
  },
  {
   "cell_type": "code",
   "execution_count": 11,
   "metadata": {},
   "outputs": [],
   "source": [
    "# data.dropna(axis = 0, inplace = True)\n",
    "# print('전체 샘플수:',(len(data)))"
   ]
  },
  {
   "source": [
    "### 텍스트 정규화와 불용어 제거"
   ],
   "cell_type": "markdown",
   "metadata": {}
  },
  {
   "cell_type": "code",
   "execution_count": 12,
   "metadata": {},
   "outputs": [
    {
     "output_type": "stream",
     "name": "stdout",
     "text": [
      "정규화 사전의 수:  120\n"
     ]
    }
   ],
   "source": [
    "# 출처 : [https://stackoverflow.com/questions/19790188/expanding-english-language-contractions-in-python](https://stackoverflow.com/questions/19790188/expanding-english-language-contractions-in-python)\n",
    "contractions = {\"ain't\": \"is not\", \"aren't\": \"are not\",\"can't\": \"cannot\", \"'cause\": \"because\", \"could've\": \"could have\", \"couldn't\": \"could not\",\n",
    "                           \"didn't\": \"did not\",  \"doesn't\": \"does not\", \"don't\": \"do not\", \"hadn't\": \"had not\", \"hasn't\": \"has not\", \"haven't\": \"have not\",\n",
    "                           \"he'd\": \"he would\",\"he'll\": \"he will\", \"he's\": \"he is\", \"how'd\": \"how did\", \"how'd'y\": \"how do you\", \"how'll\": \"how will\", \"how's\": \"how is\",\n",
    "                           \"I'd\": \"I would\", \"I'd've\": \"I would have\", \"I'll\": \"I will\", \"I'll've\": \"I will have\",\"I'm\": \"I am\", \"I've\": \"I have\", \"i'd\": \"i would\",\n",
    "                           \"i'd've\": \"i would have\", \"i'll\": \"i will\",  \"i'll've\": \"i will have\",\"i'm\": \"i am\", \"i've\": \"i have\", \"isn't\": \"is not\", \"it'd\": \"it would\",\n",
    "                           \"it'd've\": \"it would have\", \"it'll\": \"it will\", \"it'll've\": \"it will have\",\"it's\": \"it is\", \"let's\": \"let us\", \"ma'am\": \"madam\",\n",
    "                           \"mayn't\": \"may not\", \"might've\": \"might have\",\"mightn't\": \"might not\",\"mightn't've\": \"might not have\", \"must've\": \"must have\",\n",
    "                           \"mustn't\": \"must not\", \"mustn't've\": \"must not have\", \"needn't\": \"need not\", \"needn't've\": \"need not have\",\"o'clock\": \"of the clock\",\n",
    "                           \"oughtn't\": \"ought not\", \"oughtn't've\": \"ought not have\", \"shan't\": \"shall not\", \"sha'n't\": \"shall not\", \"shan't've\": \"shall not have\",\n",
    "                           \"she'd\": \"she would\", \"she'd've\": \"she would have\", \"she'll\": \"she will\", \"she'll've\": \"she will have\", \"she's\": \"she is\",\n",
    "                           \"should've\": \"should have\", \"shouldn't\": \"should not\", \"shouldn't've\": \"should not have\", \"so've\": \"so have\",\"so's\": \"so as\",\n",
    "                           \"this's\": \"this is\",\"that'd\": \"that would\", \"that'd've\": \"that would have\", \"that's\": \"that is\", \"there'd\": \"there would\",\n",
    "                           \"there'd've\": \"there would have\", \"there's\": \"there is\", \"here's\": \"here is\",\"they'd\": \"they would\", \"they'd've\": \"they would have\",\n",
    "                           \"they'll\": \"they will\", \"they'll've\": \"they will have\", \"they're\": \"they are\", \"they've\": \"they have\", \"to've\": \"to have\",\n",
    "                           \"wasn't\": \"was not\", \"we'd\": \"we would\", \"we'd've\": \"we would have\", \"we'll\": \"we will\", \"we'll've\": \"we will have\", \"we're\": \"we are\",\n",
    "                           \"we've\": \"we have\", \"weren't\": \"were not\", \"what'll\": \"what will\", \"what'll've\": \"what will have\", \"what're\": \"what are\",\n",
    "                           \"what's\": \"what is\", \"what've\": \"what have\", \"when's\": \"when is\", \"when've\": \"when have\", \"where'd\": \"where did\", \"where's\": \"where is\",\n",
    "                           \"where've\": \"where have\", \"who'll\": \"who will\", \"who'll've\": \"who will have\", \"who's\": \"who is\", \"who've\": \"who have\",\n",
    "                           \"why's\": \"why is\", \"why've\": \"why have\", \"will've\": \"will have\", \"won't\": \"will not\", \"won't've\": \"will not have\",\n",
    "                           \"would've\": \"would have\", \"wouldn't\": \"would not\", \"wouldn't've\": \"would not have\", \"y'all\": \"you all\",\n",
    "                           \"y'all'd\": \"you all would\",\"y'all'd've\": \"you all would have\",\"y'all're\": \"you all are\",\"y'all've\": \"you all have\",\n",
    "                           \"you'd\": \"you would\", \"you'd've\": \"you would have\", \"you'll\": \"you will\", \"you'll've\": \"you will have\",\n",
    "                           \"you're\": \"you are\", \"you've\": \"you have\"}\n",
    "\n",
    "print(\"정규화 사전의 수: \",len(contractions))"
   ]
  },
  {
   "source": [
    "불용어 제거"
   ],
   "cell_type": "markdown",
   "metadata": {}
  },
  {
   "cell_type": "code",
   "execution_count": 13,
   "metadata": {},
   "outputs": [
    {
     "output_type": "stream",
     "name": "stdout",
     "text": [
      "불용어 개수 : 179\n['i', 'me', 'my', 'myself', 'we', 'our', 'ours', 'ourselves', 'you', \"you're\", \"you've\", \"you'll\", \"you'd\", 'your', 'yours', 'yourself', 'yourselves', 'he', 'him', 'his', 'himself', 'she', \"she's\", 'her', 'hers', 'herself', 'it', \"it's\", 'its', 'itself', 'they', 'them', 'their', 'theirs', 'themselves', 'what', 'which', 'who', 'whom', 'this', 'that', \"that'll\", 'these', 'those', 'am', 'is', 'are', 'was', 'were', 'be', 'been', 'being', 'have', 'has', 'had', 'having', 'do', 'does', 'did', 'doing', 'a', 'an', 'the', 'and', 'but', 'if', 'or', 'because', 'as', 'until', 'while', 'of', 'at', 'by', 'for', 'with', 'about', 'against', 'between', 'into', 'through', 'during', 'before', 'after', 'above', 'below', 'to', 'from', 'up', 'down', 'in', 'out', 'on', 'off', 'over', 'under', 'again', 'further', 'then', 'once', 'here', 'there', 'when', 'where', 'why', 'how', 'all', 'any', 'both', 'each', 'few', 'more', 'most', 'other', 'some', 'such', 'no', 'nor', 'not', 'only', 'own', 'same', 'so', 'than', 'too', 'very', 's', 't', 'can', 'will', 'just', 'don', \"don't\", 'should', \"should've\", 'now', 'd', 'll', 'm', 'o', 're', 've', 'y', 'ain', 'aren', \"aren't\", 'couldn', \"couldn't\", 'didn', \"didn't\", 'doesn', \"doesn't\", 'hadn', \"hadn't\", 'hasn', \"hasn't\", 'haven', \"haven't\", 'isn', \"isn't\", 'ma', 'mightn', \"mightn't\", 'mustn', \"mustn't\", 'needn', \"needn't\", 'shan', \"shan't\", 'shouldn', \"shouldn't\", 'wasn', \"wasn't\", 'weren', \"weren't\", 'won', \"won't\", 'wouldn', \"wouldn't\"]\n"
     ]
    }
   ],
   "source": [
    "print('불용어 개수 :', len(stopwords.words('english') ))\n",
    "print(stopwords.words('english'))"
   ]
  },
  {
   "source": [
    "데이터 전처리 함수   \n",
    "- 모든 영어문자 소문자로\n",
    "- 섞여있는 html 태그 제거\n",
    "- 정규 표현식을 통해 특수문자, 숫자 제거\n",
    "- text는 불용어 제거, headlines는 불용어 제거하지 않음. headlines는 그 자체로 압축된 텍스트이기때문."
   ],
   "cell_type": "markdown",
   "metadata": {}
  },
  {
   "cell_type": "code",
   "execution_count": 15,
   "metadata": {},
   "outputs": [],
   "source": [
    "#데이터 전처리 함수\n",
    "def preprocess_sentence(sentence, remove_stopwords=True):\n",
    "    sentence = sentence.lower() # 텍스트 소문자화\n",
    "    sentence = BeautifulSoup(sentence, \"lxml\").text # <br />, <a href = ...> 등의 html 태그 제거\n",
    "    sentence = re.sub(r'\\([^)]*\\)', '', sentence) # 괄호로 닫힌 문자열 (...) 제거 Ex) my husband (and myself!) for => my husband for\n",
    "    sentence = re.sub('\"','', sentence) # 쌍따옴표 \" 제거\n",
    "    sentence = ' '.join([contractions[t] if t in contractions else t for t in sentence.split(\" \")]) # 약어 정규화\n",
    "    sentence = re.sub(r\"'s\\b\",\"\",sentence) # 소유격 제거. Ex) roland's -> roland\n",
    "    sentence = re.sub(\"[^a-zA-Z]\", \" \", sentence) # 영어 외 문자(숫자, 특수문자 등) 공백으로 변환\n",
    "    sentence = re.sub('[m]{2,}', 'mm', sentence) # m이 3개 이상이면 2개로 변경. Ex) ummmmmmm yeah -> umm yeah\n",
    "    \n",
    "    # 불용어 제거 (text)\n",
    "    if remove_stopwords:\n",
    "        tokens = ' '.join(word for word in sentence.split() if not word in stopwords.words('english') if len(word) > 1)\n",
    "    # 불용어 미제거 (headlines)\n",
    "    else:\n",
    "        tokens = ' '.join(word for word in sentence.split() if len(word) > 1)\n",
    "    return tokens"
   ]
  },
  {
   "cell_type": "code",
   "execution_count": 16,
   "metadata": {},
   "outputs": [
    {
     "output_type": "execute_result",
     "data": {
      "text/plain": [
       "['saurav kant alumnus upgrad iiit pg program machine learning artificial intelligence sr systems engineer infosys almost years work experience program upgrad degree career support helped transition data scientist tech mahindra salary hike upgrad online power learning powered lakh careers',\n",
       " 'kunal shah credit card bill payment platform cred gave users chance win free food swiggy one year pranav kaushik delhi techie bagged reward spending cred coins users get one cred coin per rupee bill paid used avail rewards brands like ixigo bookmyshow ubereats cult fit',\n",
       " 'new zealand defeated india wickets fourth odi hamilton thursday win first match five match odi series india lost international match rohit sharma captaincy consecutive victories dating back march match witnessed india getting seventh lowest total odi cricket history',\n",
       " 'aegon life iterm insurance plan customers enjoy tax benefits premiums paid save taxes plan provides life cover age years also customers options insure critical illnesses disability accidental death benefit rider life cover age years',\n",
       " 'speaking sexual harassment allegations rajkumar hirani sonam kapoor said known hirani many years true metoo movement get derailed metoo movement always believe woman case need reserve judgment added hirani accused assistant worked sanju']"
      ]
     },
     "metadata": {},
     "execution_count": 16
    }
   ],
   "source": [
    "clean_text = []\n",
    "\n",
    "# 전체 text 데이터에 대한 전처리 \n",
    "for s in data['text']:\n",
    "    clean_text.append(preprocess_sentence(s))\n",
    "\n",
    "# 전처리 후 출력\n",
    "clean_text[:5]"
   ]
  },
  {
   "cell_type": "code",
   "execution_count": 17,
   "metadata": {},
   "outputs": [
    {
     "output_type": "execute_result",
     "data": {
      "text/plain": [
       "['upgrad learner switches to career in ml al with salary hike',\n",
       " 'delhi techie wins free food from swiggy for one year on cred',\n",
       " 'new zealand end rohit sharma led india match winning streak',\n",
       " 'aegon life iterm insurance plan helps customers save tax',\n",
       " 'have known hirani for yrs what if metoo claims are not true sonam']"
      ]
     },
     "metadata": {},
     "execution_count": 17
    }
   ],
   "source": [
    "clean_summary = []\n",
    "\n",
    "# 전체 headlines 데이터에 대한 전처리 \n",
    "for s in data['headlines']:\n",
    "    clean_summary.append(preprocess_sentence(s, False))\n",
    "\n",
    "clean_summary[:5]"
   ]
  },
  {
   "source": [
    "정제 이후, 다시 한 번 빈 샘플이 생겼는지 확인할 필요가 있음!"
   ],
   "cell_type": "markdown",
   "metadata": {}
  },
  {
   "cell_type": "code",
   "execution_count": 18,
   "metadata": {},
   "outputs": [],
   "source": [
    "data['text'] = clean_text\n",
    "data['headlines'] = clean_summary\n",
    "\n",
    "# 빈 값을 Null 값으로 변환\n",
    "data.replace('', np.nan, inplace=True)"
   ]
  },
  {
   "source": [
    "null 값 확인"
   ],
   "cell_type": "markdown",
   "metadata": {}
  },
  {
   "cell_type": "code",
   "execution_count": 19,
   "metadata": {},
   "outputs": [
    {
     "output_type": "execute_result",
     "data": {
      "text/plain": [
       "headlines    0\n",
       "text         0\n",
       "dtype: int64"
      ]
     },
     "metadata": {},
     "execution_count": 19
    }
   ],
   "source": [
    "data.isnull().sum()"
   ]
  },
  {
   "source": [
    "null 값 없다."
   ],
   "cell_type": "markdown",
   "metadata": {}
  },
  {
   "cell_type": "code",
   "execution_count": 22,
   "metadata": {},
   "outputs": [],
   "source": [
    "# data.dropna(axis=0, inplace=True)\n",
    "# print('전체 샘플수 :',(len(data)))#데이터 전처리 함수"
   ]
  },
  {
   "source": [
    "### 훈련 데이터와 테스트 데이터 나누기"
   ],
   "cell_type": "markdown",
   "metadata": {}
  },
  {
   "source": [
    "샘플 최대 길이 정하기"
   ],
   "cell_type": "markdown",
   "metadata": {}
  },
  {
   "cell_type": "code",
   "execution_count": 23,
   "metadata": {},
   "outputs": [
    {
     "output_type": "stream",
     "name": "stdout",
     "text": [
      "텍스트의 최소 길이 : 1\n텍스트의 최대 길이 : 60\n텍스트의 평균 길이 : 35.09968483123221\n요약의 최소 길이 : 1\n요약의 최대 길이 : 16\n요약의 평균 길이 : 9.299532330215534\n"
     ]
    },
    {
     "output_type": "display_data",
     "data": {
      "text/plain": "<Figure size 432x288 with 2 Axes>",
      "image/svg+xml": "<?xml version=\"1.0\" encoding=\"utf-8\" standalone=\"no\"?>\n<!DOCTYPE svg PUBLIC \"-//W3C//DTD SVG 1.1//EN\"\n  \"http://www.w3.org/Graphics/SVG/1.1/DTD/svg11.dtd\">\n<!-- Created with matplotlib (https://matplotlib.org/) -->\n<svg height=\"279.59625pt\" version=\"1.1\" viewBox=\"0 0 424.775 279.59625\" width=\"424.775pt\" xmlns=\"http://www.w3.org/2000/svg\" xmlns:xlink=\"http://www.w3.org/1999/xlink\">\n <defs>\n  <style type=\"text/css\">\n*{stroke-linecap:butt;stroke-linejoin:round;}\n  </style>\n </defs>\n <g id=\"figure_1\">\n  <g id=\"patch_1\">\n   <path d=\"M 0 279.59625 \nL 424.775 279.59625 \nL 424.775 0 \nL 0 0 \nz\n\" style=\"fill:none;\"/>\n  </g>\n  <g id=\"axes_1\">\n   <g id=\"patch_2\">\n    <path d=\"M 26.925 255.718125 \nL 206.975 255.718125 \nL 206.975 22.318125 \nL 26.925 22.318125 \nz\n\" style=\"fill:#ffffff;\"/>\n   </g>\n   <g id=\"matplotlib.axis_1\">\n    <g id=\"xtick_1\">\n     <g id=\"line2d_1\">\n      <defs>\n       <path d=\"M 0 0 \nL 0 3.5 \n\" id=\"mdb24ef83ba\" style=\"stroke:#000000;stroke-width:0.8;\"/>\n      </defs>\n      <g>\n       <use style=\"stroke:#000000;stroke-width:0.8;\" x=\"116.95\" xlink:href=\"#mdb24ef83ba\" y=\"255.718125\"/>\n      </g>\n     </g>\n     <g id=\"text_1\">\n      <!-- 1 -->\n      <defs>\n       <path d=\"M 12.40625 8.296875 \nL 28.515625 8.296875 \nL 28.515625 63.921875 \nL 10.984375 60.40625 \nL 10.984375 69.390625 \nL 28.421875 72.90625 \nL 38.28125 72.90625 \nL 38.28125 8.296875 \nL 54.390625 8.296875 \nL 54.390625 0 \nL 12.40625 0 \nz\n\" id=\"DejaVuSans-49\"/>\n      </defs>\n      <g transform=\"translate(113.76875 270.316563)scale(0.1 -0.1)\">\n       <use xlink:href=\"#DejaVuSans-49\"/>\n      </g>\n     </g>\n    </g>\n   </g>\n   <g id=\"matplotlib.axis_2\">\n    <g id=\"ytick_1\">\n     <g id=\"line2d_2\">\n      <defs>\n       <path d=\"M 0 0 \nL -3.5 0 \n\" id=\"m8f9699e6ea\" style=\"stroke:#000000;stroke-width:0.8;\"/>\n      </defs>\n      <g>\n       <use style=\"stroke:#000000;stroke-width:0.8;\" x=\"26.925\" xlink:href=\"#m8f9699e6ea\" y=\"230.96358\"/>\n      </g>\n     </g>\n     <g id=\"text_2\">\n      <!-- 2 -->\n      <defs>\n       <path d=\"M 19.1875 8.296875 \nL 53.609375 8.296875 \nL 53.609375 0 \nL 7.328125 0 \nL 7.328125 8.296875 \nQ 12.9375 14.109375 22.625 23.890625 \nQ 32.328125 33.6875 34.8125 36.53125 \nQ 39.546875 41.84375 41.421875 45.53125 \nQ 43.3125 49.21875 43.3125 52.78125 \nQ 43.3125 58.59375 39.234375 62.25 \nQ 35.15625 65.921875 28.609375 65.921875 \nQ 23.96875 65.921875 18.8125 64.3125 \nQ 13.671875 62.703125 7.8125 59.421875 \nL 7.8125 69.390625 \nQ 13.765625 71.78125 18.9375 73 \nQ 24.125 74.21875 28.421875 74.21875 \nQ 39.75 74.21875 46.484375 68.546875 \nQ 53.21875 62.890625 53.21875 53.421875 \nQ 53.21875 48.921875 51.53125 44.890625 \nQ 49.859375 40.875 45.40625 35.40625 \nQ 44.1875 33.984375 37.640625 27.21875 \nQ 31.109375 20.453125 19.1875 8.296875 \nz\n\" id=\"DejaVuSans-50\"/>\n      </defs>\n      <g transform=\"translate(13.5625 234.762798)scale(0.1 -0.1)\">\n       <use xlink:href=\"#DejaVuSans-50\"/>\n      </g>\n     </g>\n    </g>\n    <g id=\"ytick_2\">\n     <g id=\"line2d_3\">\n      <g>\n       <use style=\"stroke:#000000;stroke-width:0.8;\" x=\"26.925\" xlink:href=\"#m8f9699e6ea\" y=\"202.67267\"/>\n      </g>\n     </g>\n     <g id=\"text_3\">\n      <!-- 4 -->\n      <defs>\n       <path d=\"M 37.796875 64.3125 \nL 12.890625 25.390625 \nL 37.796875 25.390625 \nz\nM 35.203125 72.90625 \nL 47.609375 72.90625 \nL 47.609375 25.390625 \nL 58.015625 25.390625 \nL 58.015625 17.1875 \nL 47.609375 17.1875 \nL 47.609375 0 \nL 37.796875 0 \nL 37.796875 17.1875 \nL 4.890625 17.1875 \nL 4.890625 26.703125 \nz\n\" id=\"DejaVuSans-52\"/>\n      </defs>\n      <g transform=\"translate(13.5625 206.471889)scale(0.1 -0.1)\">\n       <use xlink:href=\"#DejaVuSans-52\"/>\n      </g>\n     </g>\n    </g>\n    <g id=\"ytick_3\">\n     <g id=\"line2d_4\">\n      <g>\n       <use style=\"stroke:#000000;stroke-width:0.8;\" x=\"26.925\" xlink:href=\"#m8f9699e6ea\" y=\"174.381761\"/>\n      </g>\n     </g>\n     <g id=\"text_4\">\n      <!-- 6 -->\n      <defs>\n       <path d=\"M 33.015625 40.375 \nQ 26.375 40.375 22.484375 35.828125 \nQ 18.609375 31.296875 18.609375 23.390625 \nQ 18.609375 15.53125 22.484375 10.953125 \nQ 26.375 6.390625 33.015625 6.390625 \nQ 39.65625 6.390625 43.53125 10.953125 \nQ 47.40625 15.53125 47.40625 23.390625 \nQ 47.40625 31.296875 43.53125 35.828125 \nQ 39.65625 40.375 33.015625 40.375 \nz\nM 52.59375 71.296875 \nL 52.59375 62.3125 \nQ 48.875 64.0625 45.09375 64.984375 \nQ 41.3125 65.921875 37.59375 65.921875 \nQ 27.828125 65.921875 22.671875 59.328125 \nQ 17.53125 52.734375 16.796875 39.40625 \nQ 19.671875 43.65625 24.015625 45.921875 \nQ 28.375 48.1875 33.59375 48.1875 \nQ 44.578125 48.1875 50.953125 41.515625 \nQ 57.328125 34.859375 57.328125 23.390625 \nQ 57.328125 12.15625 50.6875 5.359375 \nQ 44.046875 -1.421875 33.015625 -1.421875 \nQ 20.359375 -1.421875 13.671875 8.265625 \nQ 6.984375 17.96875 6.984375 36.375 \nQ 6.984375 53.65625 15.1875 63.9375 \nQ 23.390625 74.21875 37.203125 74.21875 \nQ 40.921875 74.21875 44.703125 73.484375 \nQ 48.484375 72.75 52.59375 71.296875 \nz\n\" id=\"DejaVuSans-54\"/>\n      </defs>\n      <g transform=\"translate(13.5625 178.18098)scale(0.1 -0.1)\">\n       <use xlink:href=\"#DejaVuSans-54\"/>\n      </g>\n     </g>\n    </g>\n    <g id=\"ytick_4\">\n     <g id=\"line2d_5\">\n      <g>\n       <use style=\"stroke:#000000;stroke-width:0.8;\" x=\"26.925\" xlink:href=\"#m8f9699e6ea\" y=\"146.090852\"/>\n      </g>\n     </g>\n     <g id=\"text_5\">\n      <!-- 8 -->\n      <defs>\n       <path d=\"M 31.78125 34.625 \nQ 24.75 34.625 20.71875 30.859375 \nQ 16.703125 27.09375 16.703125 20.515625 \nQ 16.703125 13.921875 20.71875 10.15625 \nQ 24.75 6.390625 31.78125 6.390625 \nQ 38.8125 6.390625 42.859375 10.171875 \nQ 46.921875 13.96875 46.921875 20.515625 \nQ 46.921875 27.09375 42.890625 30.859375 \nQ 38.875 34.625 31.78125 34.625 \nz\nM 21.921875 38.8125 \nQ 15.578125 40.375 12.03125 44.71875 \nQ 8.5 49.078125 8.5 55.328125 \nQ 8.5 64.0625 14.71875 69.140625 \nQ 20.953125 74.21875 31.78125 74.21875 \nQ 42.671875 74.21875 48.875 69.140625 \nQ 55.078125 64.0625 55.078125 55.328125 \nQ 55.078125 49.078125 51.53125 44.71875 \nQ 48 40.375 41.703125 38.8125 \nQ 48.828125 37.15625 52.796875 32.3125 \nQ 56.78125 27.484375 56.78125 20.515625 \nQ 56.78125 9.90625 50.3125 4.234375 \nQ 43.84375 -1.421875 31.78125 -1.421875 \nQ 19.734375 -1.421875 13.25 4.234375 \nQ 6.78125 9.90625 6.78125 20.515625 \nQ 6.78125 27.484375 10.78125 32.3125 \nQ 14.796875 37.15625 21.921875 38.8125 \nz\nM 18.3125 54.390625 \nQ 18.3125 48.734375 21.84375 45.5625 \nQ 25.390625 42.390625 31.78125 42.390625 \nQ 38.140625 42.390625 41.71875 45.5625 \nQ 45.3125 48.734375 45.3125 54.390625 \nQ 45.3125 60.0625 41.71875 63.234375 \nQ 38.140625 66.40625 31.78125 66.40625 \nQ 25.390625 66.40625 21.84375 63.234375 \nQ 18.3125 60.0625 18.3125 54.390625 \nz\n\" id=\"DejaVuSans-56\"/>\n      </defs>\n      <g transform=\"translate(13.5625 149.890071)scale(0.1 -0.1)\">\n       <use xlink:href=\"#DejaVuSans-56\"/>\n      </g>\n     </g>\n    </g>\n    <g id=\"ytick_5\">\n     <g id=\"line2d_6\">\n      <g>\n       <use style=\"stroke:#000000;stroke-width:0.8;\" x=\"26.925\" xlink:href=\"#m8f9699e6ea\" y=\"117.799943\"/>\n      </g>\n     </g>\n     <g id=\"text_6\">\n      <!-- 10 -->\n      <defs>\n       <path d=\"M 31.78125 66.40625 \nQ 24.171875 66.40625 20.328125 58.90625 \nQ 16.5 51.421875 16.5 36.375 \nQ 16.5 21.390625 20.328125 13.890625 \nQ 24.171875 6.390625 31.78125 6.390625 \nQ 39.453125 6.390625 43.28125 13.890625 \nQ 47.125 21.390625 47.125 36.375 \nQ 47.125 51.421875 43.28125 58.90625 \nQ 39.453125 66.40625 31.78125 66.40625 \nz\nM 31.78125 74.21875 \nQ 44.046875 74.21875 50.515625 64.515625 \nQ 56.984375 54.828125 56.984375 36.375 \nQ 56.984375 17.96875 50.515625 8.265625 \nQ 44.046875 -1.421875 31.78125 -1.421875 \nQ 19.53125 -1.421875 13.0625 8.265625 \nQ 6.59375 17.96875 6.59375 36.375 \nQ 6.59375 54.828125 13.0625 64.515625 \nQ 19.53125 74.21875 31.78125 74.21875 \nz\n\" id=\"DejaVuSans-48\"/>\n      </defs>\n      <g transform=\"translate(7.2 121.599162)scale(0.1 -0.1)\">\n       <use xlink:href=\"#DejaVuSans-49\"/>\n       <use x=\"63.623047\" xlink:href=\"#DejaVuSans-48\"/>\n      </g>\n     </g>\n    </g>\n    <g id=\"ytick_6\">\n     <g id=\"line2d_7\">\n      <g>\n       <use style=\"stroke:#000000;stroke-width:0.8;\" x=\"26.925\" xlink:href=\"#m8f9699e6ea\" y=\"89.509034\"/>\n      </g>\n     </g>\n     <g id=\"text_7\">\n      <!-- 12 -->\n      <g transform=\"translate(7.2 93.308253)scale(0.1 -0.1)\">\n       <use xlink:href=\"#DejaVuSans-49\"/>\n       <use x=\"63.623047\" xlink:href=\"#DejaVuSans-50\"/>\n      </g>\n     </g>\n    </g>\n    <g id=\"ytick_7\">\n     <g id=\"line2d_8\">\n      <g>\n       <use style=\"stroke:#000000;stroke-width:0.8;\" x=\"26.925\" xlink:href=\"#m8f9699e6ea\" y=\"61.218125\"/>\n      </g>\n     </g>\n     <g id=\"text_8\">\n      <!-- 14 -->\n      <g transform=\"translate(7.2 65.017344)scale(0.1 -0.1)\">\n       <use xlink:href=\"#DejaVuSans-49\"/>\n       <use x=\"63.623047\" xlink:href=\"#DejaVuSans-52\"/>\n      </g>\n     </g>\n    </g>\n    <g id=\"ytick_8\">\n     <g id=\"line2d_9\">\n      <g>\n       <use style=\"stroke:#000000;stroke-width:0.8;\" x=\"26.925\" xlink:href=\"#m8f9699e6ea\" y=\"32.927216\"/>\n      </g>\n     </g>\n     <g id=\"text_9\">\n      <!-- 16 -->\n      <g transform=\"translate(7.2 36.726435)scale(0.1 -0.1)\">\n       <use xlink:href=\"#DejaVuSans-49\"/>\n       <use x=\"63.623047\" xlink:href=\"#DejaVuSans-54\"/>\n      </g>\n     </g>\n    </g>\n   </g>\n   <g id=\"line2d_10\">\n    <path clip-path=\"url(#p484227045d)\" d=\"M 103.44625 146.090852 \nL 130.45375 146.090852 \nL 130.45375 117.799943 \nL 103.44625 117.799943 \nL 103.44625 146.090852 \n\" style=\"fill:none;stroke:#000000;stroke-linecap:square;\"/>\n   </g>\n   <g id=\"line2d_11\">\n    <path clip-path=\"url(#p484227045d)\" d=\"M 116.95 146.090852 \nL 116.95 188.527216 \n\" style=\"fill:none;stroke:#000000;stroke-linecap:square;\"/>\n   </g>\n   <g id=\"line2d_12\">\n    <path clip-path=\"url(#p484227045d)\" d=\"M 116.95 117.799943 \nL 116.95 75.36358 \n\" style=\"fill:none;stroke:#000000;stroke-linecap:square;\"/>\n   </g>\n   <g id=\"line2d_13\">\n    <path clip-path=\"url(#p484227045d)\" d=\"M 110.198125 188.527216 \nL 123.701875 188.527216 \n\" style=\"fill:none;stroke:#000000;stroke-linecap:square;\"/>\n   </g>\n   <g id=\"line2d_14\">\n    <path clip-path=\"url(#p484227045d)\" d=\"M 110.198125 75.36358 \nL 123.701875 75.36358 \n\" style=\"fill:none;stroke:#000000;stroke-linecap:square;\"/>\n   </g>\n   <g id=\"line2d_15\">\n    <defs>\n     <path d=\"M 0 3 \nC 0.795609 3 1.55874 2.683901 2.12132 2.12132 \nC 2.683901 1.55874 3 0.795609 3 0 \nC 3 -0.795609 2.683901 -1.55874 2.12132 -2.12132 \nC 1.55874 -2.683901 0.795609 -3 0 -3 \nC -0.795609 -3 -1.55874 -2.683901 -2.12132 -2.12132 \nC -2.683901 -1.55874 -3 -0.795609 -3 0 \nC -3 0.795609 -2.683901 1.55874 -2.12132 2.12132 \nC -1.55874 2.683901 -0.795609 3 0 3 \nz\n\" id=\"me2df79aa1f\" style=\"stroke:#000000;\"/>\n    </defs>\n    <g clip-path=\"url(#p484227045d)\">\n     <use style=\"fill-opacity:0;stroke:#000000;\" x=\"116.95\" xlink:href=\"#me2df79aa1f\" y=\"245.109034\"/>\n     <use style=\"fill-opacity:0;stroke:#000000;\" x=\"116.95\" xlink:href=\"#me2df79aa1f\" y=\"216.818125\"/>\n     <use style=\"fill-opacity:0;stroke:#000000;\" x=\"116.95\" xlink:href=\"#me2df79aa1f\" y=\"216.818125\"/>\n     <use style=\"fill-opacity:0;stroke:#000000;\" x=\"116.95\" xlink:href=\"#me2df79aa1f\" y=\"202.67267\"/>\n     <use style=\"fill-opacity:0;stroke:#000000;\" x=\"116.95\" xlink:href=\"#me2df79aa1f\" y=\"202.67267\"/>\n     <use style=\"fill-opacity:0;stroke:#000000;\" x=\"116.95\" xlink:href=\"#me2df79aa1f\" y=\"202.67267\"/>\n     <use style=\"fill-opacity:0;stroke:#000000;\" x=\"116.95\" xlink:href=\"#me2df79aa1f\" y=\"202.67267\"/>\n     <use style=\"fill-opacity:0;stroke:#000000;\" x=\"116.95\" xlink:href=\"#me2df79aa1f\" y=\"202.67267\"/>\n     <use style=\"fill-opacity:0;stroke:#000000;\" x=\"116.95\" xlink:href=\"#me2df79aa1f\" y=\"202.67267\"/>\n     <use style=\"fill-opacity:0;stroke:#000000;\" x=\"116.95\" xlink:href=\"#me2df79aa1f\" y=\"202.67267\"/>\n     <use style=\"fill-opacity:0;stroke:#000000;\" x=\"116.95\" xlink:href=\"#me2df79aa1f\" y=\"202.67267\"/>\n     <use style=\"fill-opacity:0;stroke:#000000;\" x=\"116.95\" xlink:href=\"#me2df79aa1f\" y=\"202.67267\"/>\n     <use style=\"fill-opacity:0;stroke:#000000;\" x=\"116.95\" xlink:href=\"#me2df79aa1f\" y=\"202.67267\"/>\n     <use style=\"fill-opacity:0;stroke:#000000;\" x=\"116.95\" xlink:href=\"#me2df79aa1f\" y=\"202.67267\"/>\n     <use style=\"fill-opacity:0;stroke:#000000;\" x=\"116.95\" xlink:href=\"#me2df79aa1f\" y=\"202.67267\"/>\n     <use style=\"fill-opacity:0;stroke:#000000;\" x=\"116.95\" xlink:href=\"#me2df79aa1f\" y=\"202.67267\"/>\n     <use style=\"fill-opacity:0;stroke:#000000;\" x=\"116.95\" xlink:href=\"#me2df79aa1f\" y=\"202.67267\"/>\n     <use style=\"fill-opacity:0;stroke:#000000;\" x=\"116.95\" xlink:href=\"#me2df79aa1f\" y=\"61.218125\"/>\n     <use style=\"fill-opacity:0;stroke:#000000;\" x=\"116.95\" xlink:href=\"#me2df79aa1f\" y=\"61.218125\"/>\n     <use style=\"fill-opacity:0;stroke:#000000;\" x=\"116.95\" xlink:href=\"#me2df79aa1f\" y=\"47.07267\"/>\n     <use style=\"fill-opacity:0;stroke:#000000;\" x=\"116.95\" xlink:href=\"#me2df79aa1f\" y=\"61.218125\"/>\n     <use style=\"fill-opacity:0;stroke:#000000;\" x=\"116.95\" xlink:href=\"#me2df79aa1f\" y=\"61.218125\"/>\n     <use style=\"fill-opacity:0;stroke:#000000;\" x=\"116.95\" xlink:href=\"#me2df79aa1f\" y=\"61.218125\"/>\n     <use style=\"fill-opacity:0;stroke:#000000;\" x=\"116.95\" xlink:href=\"#me2df79aa1f\" y=\"61.218125\"/>\n     <use style=\"fill-opacity:0;stroke:#000000;\" x=\"116.95\" xlink:href=\"#me2df79aa1f\" y=\"47.07267\"/>\n     <use style=\"fill-opacity:0;stroke:#000000;\" x=\"116.95\" xlink:href=\"#me2df79aa1f\" y=\"61.218125\"/>\n     <use style=\"fill-opacity:0;stroke:#000000;\" x=\"116.95\" xlink:href=\"#me2df79aa1f\" y=\"61.218125\"/>\n     <use style=\"fill-opacity:0;stroke:#000000;\" x=\"116.95\" xlink:href=\"#me2df79aa1f\" y=\"61.218125\"/>\n     <use style=\"fill-opacity:0;stroke:#000000;\" x=\"116.95\" xlink:href=\"#me2df79aa1f\" y=\"61.218125\"/>\n     <use style=\"fill-opacity:0;stroke:#000000;\" x=\"116.95\" xlink:href=\"#me2df79aa1f\" y=\"61.218125\"/>\n     <use style=\"fill-opacity:0;stroke:#000000;\" x=\"116.95\" xlink:href=\"#me2df79aa1f\" y=\"61.218125\"/>\n     <use style=\"fill-opacity:0;stroke:#000000;\" x=\"116.95\" xlink:href=\"#me2df79aa1f\" y=\"61.218125\"/>\n     <use style=\"fill-opacity:0;stroke:#000000;\" x=\"116.95\" xlink:href=\"#me2df79aa1f\" y=\"47.07267\"/>\n     <use style=\"fill-opacity:0;stroke:#000000;\" x=\"116.95\" xlink:href=\"#me2df79aa1f\" y=\"61.218125\"/>\n     <use style=\"fill-opacity:0;stroke:#000000;\" x=\"116.95\" xlink:href=\"#me2df79aa1f\" y=\"61.218125\"/>\n     <use style=\"fill-opacity:0;stroke:#000000;\" x=\"116.95\" xlink:href=\"#me2df79aa1f\" y=\"61.218125\"/>\n     <use style=\"fill-opacity:0;stroke:#000000;\" x=\"116.95\" xlink:href=\"#me2df79aa1f\" y=\"47.07267\"/>\n     <use style=\"fill-opacity:0;stroke:#000000;\" x=\"116.95\" xlink:href=\"#me2df79aa1f\" y=\"61.218125\"/>\n     <use style=\"fill-opacity:0;stroke:#000000;\" x=\"116.95\" xlink:href=\"#me2df79aa1f\" y=\"61.218125\"/>\n     <use style=\"fill-opacity:0;stroke:#000000;\" x=\"116.95\" xlink:href=\"#me2df79aa1f\" y=\"61.218125\"/>\n     <use style=\"fill-opacity:0;stroke:#000000;\" x=\"116.95\" xlink:href=\"#me2df79aa1f\" y=\"61.218125\"/>\n     <use style=\"fill-opacity:0;stroke:#000000;\" x=\"116.95\" xlink:href=\"#me2df79aa1f\" y=\"61.218125\"/>\n     <use style=\"fill-opacity:0;stroke:#000000;\" x=\"116.95\" xlink:href=\"#me2df79aa1f\" y=\"61.218125\"/>\n     <use style=\"fill-opacity:0;stroke:#000000;\" x=\"116.95\" xlink:href=\"#me2df79aa1f\" y=\"61.218125\"/>\n     <use style=\"fill-opacity:0;stroke:#000000;\" x=\"116.95\" xlink:href=\"#me2df79aa1f\" y=\"47.07267\"/>\n     <use style=\"fill-opacity:0;stroke:#000000;\" x=\"116.95\" xlink:href=\"#me2df79aa1f\" y=\"61.218125\"/>\n     <use style=\"fill-opacity:0;stroke:#000000;\" x=\"116.95\" xlink:href=\"#me2df79aa1f\" y=\"61.218125\"/>\n     <use style=\"fill-opacity:0;stroke:#000000;\" x=\"116.95\" xlink:href=\"#me2df79aa1f\" y=\"61.218125\"/>\n     <use style=\"fill-opacity:0;stroke:#000000;\" x=\"116.95\" xlink:href=\"#me2df79aa1f\" y=\"61.218125\"/>\n     <use style=\"fill-opacity:0;stroke:#000000;\" x=\"116.95\" xlink:href=\"#me2df79aa1f\" y=\"61.218125\"/>\n     <use style=\"fill-opacity:0;stroke:#000000;\" x=\"116.95\" xlink:href=\"#me2df79aa1f\" y=\"61.218125\"/>\n     <use style=\"fill-opacity:0;stroke:#000000;\" x=\"116.95\" xlink:href=\"#me2df79aa1f\" y=\"61.218125\"/>\n     <use style=\"fill-opacity:0;stroke:#000000;\" x=\"116.95\" xlink:href=\"#me2df79aa1f\" y=\"61.218125\"/>\n     <use style=\"fill-opacity:0;stroke:#000000;\" x=\"116.95\" xlink:href=\"#me2df79aa1f\" y=\"61.218125\"/>\n     <use style=\"fill-opacity:0;stroke:#000000;\" x=\"116.95\" xlink:href=\"#me2df79aa1f\" y=\"61.218125\"/>\n     <use style=\"fill-opacity:0;stroke:#000000;\" x=\"116.95\" xlink:href=\"#me2df79aa1f\" y=\"61.218125\"/>\n     <use style=\"fill-opacity:0;stroke:#000000;\" x=\"116.95\" xlink:href=\"#me2df79aa1f\" y=\"61.218125\"/>\n     <use style=\"fill-opacity:0;stroke:#000000;\" x=\"116.95\" xlink:href=\"#me2df79aa1f\" y=\"61.218125\"/>\n     <use style=\"fill-opacity:0;stroke:#000000;\" x=\"116.95\" xlink:href=\"#me2df79aa1f\" y=\"61.218125\"/>\n     <use style=\"fill-opacity:0;stroke:#000000;\" x=\"116.95\" xlink:href=\"#me2df79aa1f\" y=\"61.218125\"/>\n     <use style=\"fill-opacity:0;stroke:#000000;\" x=\"116.95\" xlink:href=\"#me2df79aa1f\" y=\"32.927216\"/>\n     <use style=\"fill-opacity:0;stroke:#000000;\" x=\"116.95\" xlink:href=\"#me2df79aa1f\" y=\"61.218125\"/>\n     <use style=\"fill-opacity:0;stroke:#000000;\" x=\"116.95\" xlink:href=\"#me2df79aa1f\" y=\"61.218125\"/>\n     <use style=\"fill-opacity:0;stroke:#000000;\" x=\"116.95\" xlink:href=\"#me2df79aa1f\" y=\"47.07267\"/>\n     <use style=\"fill-opacity:0;stroke:#000000;\" x=\"116.95\" xlink:href=\"#me2df79aa1f\" y=\"61.218125\"/>\n     <use style=\"fill-opacity:0;stroke:#000000;\" x=\"116.95\" xlink:href=\"#me2df79aa1f\" y=\"61.218125\"/>\n     <use style=\"fill-opacity:0;stroke:#000000;\" x=\"116.95\" xlink:href=\"#me2df79aa1f\" y=\"61.218125\"/>\n     <use style=\"fill-opacity:0;stroke:#000000;\" x=\"116.95\" xlink:href=\"#me2df79aa1f\" y=\"61.218125\"/>\n     <use style=\"fill-opacity:0;stroke:#000000;\" x=\"116.95\" xlink:href=\"#me2df79aa1f\" y=\"61.218125\"/>\n     <use style=\"fill-opacity:0;stroke:#000000;\" x=\"116.95\" xlink:href=\"#me2df79aa1f\" y=\"61.218125\"/>\n     <use style=\"fill-opacity:0;stroke:#000000;\" x=\"116.95\" xlink:href=\"#me2df79aa1f\" y=\"61.218125\"/>\n     <use style=\"fill-opacity:0;stroke:#000000;\" x=\"116.95\" xlink:href=\"#me2df79aa1f\" y=\"61.218125\"/>\n     <use style=\"fill-opacity:0;stroke:#000000;\" x=\"116.95\" xlink:href=\"#me2df79aa1f\" y=\"61.218125\"/>\n     <use style=\"fill-opacity:0;stroke:#000000;\" x=\"116.95\" xlink:href=\"#me2df79aa1f\" y=\"61.218125\"/>\n     <use style=\"fill-opacity:0;stroke:#000000;\" x=\"116.95\" xlink:href=\"#me2df79aa1f\" y=\"61.218125\"/>\n     <use style=\"fill-opacity:0;stroke:#000000;\" x=\"116.95\" xlink:href=\"#me2df79aa1f\" y=\"61.218125\"/>\n     <use style=\"fill-opacity:0;stroke:#000000;\" x=\"116.95\" xlink:href=\"#me2df79aa1f\" y=\"47.07267\"/>\n     <use style=\"fill-opacity:0;stroke:#000000;\" x=\"116.95\" xlink:href=\"#me2df79aa1f\" y=\"61.218125\"/>\n     <use style=\"fill-opacity:0;stroke:#000000;\" x=\"116.95\" xlink:href=\"#me2df79aa1f\" y=\"61.218125\"/>\n     <use style=\"fill-opacity:0;stroke:#000000;\" x=\"116.95\" xlink:href=\"#me2df79aa1f\" y=\"61.218125\"/>\n     <use style=\"fill-opacity:0;stroke:#000000;\" x=\"116.95\" xlink:href=\"#me2df79aa1f\" y=\"61.218125\"/>\n     <use style=\"fill-opacity:0;stroke:#000000;\" x=\"116.95\" xlink:href=\"#me2df79aa1f\" y=\"61.218125\"/>\n     <use style=\"fill-opacity:0;stroke:#000000;\" x=\"116.95\" xlink:href=\"#me2df79aa1f\" y=\"61.218125\"/>\n     <use style=\"fill-opacity:0;stroke:#000000;\" x=\"116.95\" xlink:href=\"#me2df79aa1f\" y=\"61.218125\"/>\n     <use style=\"fill-opacity:0;stroke:#000000;\" x=\"116.95\" xlink:href=\"#me2df79aa1f\" y=\"61.218125\"/>\n     <use style=\"fill-opacity:0;stroke:#000000;\" x=\"116.95\" xlink:href=\"#me2df79aa1f\" y=\"61.218125\"/>\n     <use style=\"fill-opacity:0;stroke:#000000;\" x=\"116.95\" xlink:href=\"#me2df79aa1f\" y=\"61.218125\"/>\n     <use style=\"fill-opacity:0;stroke:#000000;\" x=\"116.95\" xlink:href=\"#me2df79aa1f\" y=\"61.218125\"/>\n     <use style=\"fill-opacity:0;stroke:#000000;\" x=\"116.95\" xlink:href=\"#me2df79aa1f\" y=\"61.218125\"/>\n     <use style=\"fill-opacity:0;stroke:#000000;\" x=\"116.95\" xlink:href=\"#me2df79aa1f\" y=\"47.07267\"/>\n     <use style=\"fill-opacity:0;stroke:#000000;\" x=\"116.95\" xlink:href=\"#me2df79aa1f\" y=\"61.218125\"/>\n     <use style=\"fill-opacity:0;stroke:#000000;\" x=\"116.95\" xlink:href=\"#me2df79aa1f\" y=\"61.218125\"/>\n     <use style=\"fill-opacity:0;stroke:#000000;\" x=\"116.95\" xlink:href=\"#me2df79aa1f\" y=\"61.218125\"/>\n     <use style=\"fill-opacity:0;stroke:#000000;\" x=\"116.95\" xlink:href=\"#me2df79aa1f\" y=\"61.218125\"/>\n     <use style=\"fill-opacity:0;stroke:#000000;\" x=\"116.95\" xlink:href=\"#me2df79aa1f\" y=\"47.07267\"/>\n     <use style=\"fill-opacity:0;stroke:#000000;\" x=\"116.95\" xlink:href=\"#me2df79aa1f\" y=\"61.218125\"/>\n     <use style=\"fill-opacity:0;stroke:#000000;\" x=\"116.95\" xlink:href=\"#me2df79aa1f\" y=\"61.218125\"/>\n     <use style=\"fill-opacity:0;stroke:#000000;\" x=\"116.95\" xlink:href=\"#me2df79aa1f\" y=\"61.218125\"/>\n     <use style=\"fill-opacity:0;stroke:#000000;\" x=\"116.95\" xlink:href=\"#me2df79aa1f\" y=\"61.218125\"/>\n     <use style=\"fill-opacity:0;stroke:#000000;\" x=\"116.95\" xlink:href=\"#me2df79aa1f\" y=\"61.218125\"/>\n     <use style=\"fill-opacity:0;stroke:#000000;\" x=\"116.95\" xlink:href=\"#me2df79aa1f\" y=\"61.218125\"/>\n     <use style=\"fill-opacity:0;stroke:#000000;\" x=\"116.95\" xlink:href=\"#me2df79aa1f\" y=\"61.218125\"/>\n     <use style=\"fill-opacity:0;stroke:#000000;\" x=\"116.95\" xlink:href=\"#me2df79aa1f\" y=\"47.07267\"/>\n     <use style=\"fill-opacity:0;stroke:#000000;\" x=\"116.95\" xlink:href=\"#me2df79aa1f\" y=\"61.218125\"/>\n     <use style=\"fill-opacity:0;stroke:#000000;\" x=\"116.95\" xlink:href=\"#me2df79aa1f\" y=\"61.218125\"/>\n     <use style=\"fill-opacity:0;stroke:#000000;\" x=\"116.95\" xlink:href=\"#me2df79aa1f\" y=\"61.218125\"/>\n     <use style=\"fill-opacity:0;stroke:#000000;\" x=\"116.95\" xlink:href=\"#me2df79aa1f\" y=\"61.218125\"/>\n     <use style=\"fill-opacity:0;stroke:#000000;\" x=\"116.95\" xlink:href=\"#me2df79aa1f\" y=\"61.218125\"/>\n     <use style=\"fill-opacity:0;stroke:#000000;\" x=\"116.95\" xlink:href=\"#me2df79aa1f\" y=\"47.07267\"/>\n     <use style=\"fill-opacity:0;stroke:#000000;\" x=\"116.95\" xlink:href=\"#me2df79aa1f\" y=\"61.218125\"/>\n     <use style=\"fill-opacity:0;stroke:#000000;\" x=\"116.95\" xlink:href=\"#me2df79aa1f\" y=\"47.07267\"/>\n     <use style=\"fill-opacity:0;stroke:#000000;\" x=\"116.95\" xlink:href=\"#me2df79aa1f\" y=\"61.218125\"/>\n     <use style=\"fill-opacity:0;stroke:#000000;\" x=\"116.95\" xlink:href=\"#me2df79aa1f\" y=\"32.927216\"/>\n     <use style=\"fill-opacity:0;stroke:#000000;\" x=\"116.95\" xlink:href=\"#me2df79aa1f\" y=\"61.218125\"/>\n     <use style=\"fill-opacity:0;stroke:#000000;\" x=\"116.95\" xlink:href=\"#me2df79aa1f\" y=\"61.218125\"/>\n     <use style=\"fill-opacity:0;stroke:#000000;\" x=\"116.95\" xlink:href=\"#me2df79aa1f\" y=\"61.218125\"/>\n     <use style=\"fill-opacity:0;stroke:#000000;\" x=\"116.95\" xlink:href=\"#me2df79aa1f\" y=\"61.218125\"/>\n     <use style=\"fill-opacity:0;stroke:#000000;\" x=\"116.95\" xlink:href=\"#me2df79aa1f\" y=\"47.07267\"/>\n     <use style=\"fill-opacity:0;stroke:#000000;\" x=\"116.95\" xlink:href=\"#me2df79aa1f\" y=\"61.218125\"/>\n     <use style=\"fill-opacity:0;stroke:#000000;\" x=\"116.95\" xlink:href=\"#me2df79aa1f\" y=\"61.218125\"/>\n     <use style=\"fill-opacity:0;stroke:#000000;\" x=\"116.95\" xlink:href=\"#me2df79aa1f\" y=\"61.218125\"/>\n     <use style=\"fill-opacity:0;stroke:#000000;\" x=\"116.95\" xlink:href=\"#me2df79aa1f\" y=\"61.218125\"/>\n     <use style=\"fill-opacity:0;stroke:#000000;\" x=\"116.95\" xlink:href=\"#me2df79aa1f\" y=\"61.218125\"/>\n     <use style=\"fill-opacity:0;stroke:#000000;\" x=\"116.95\" xlink:href=\"#me2df79aa1f\" y=\"61.218125\"/>\n     <use style=\"fill-opacity:0;stroke:#000000;\" x=\"116.95\" xlink:href=\"#me2df79aa1f\" y=\"61.218125\"/>\n     <use style=\"fill-opacity:0;stroke:#000000;\" x=\"116.95\" xlink:href=\"#me2df79aa1f\" y=\"61.218125\"/>\n     <use style=\"fill-opacity:0;stroke:#000000;\" x=\"116.95\" xlink:href=\"#me2df79aa1f\" y=\"61.218125\"/>\n     <use style=\"fill-opacity:0;stroke:#000000;\" x=\"116.95\" xlink:href=\"#me2df79aa1f\" y=\"61.218125\"/>\n     <use style=\"fill-opacity:0;stroke:#000000;\" x=\"116.95\" xlink:href=\"#me2df79aa1f\" y=\"61.218125\"/>\n     <use style=\"fill-opacity:0;stroke:#000000;\" x=\"116.95\" xlink:href=\"#me2df79aa1f\" y=\"61.218125\"/>\n     <use style=\"fill-opacity:0;stroke:#000000;\" x=\"116.95\" xlink:href=\"#me2df79aa1f\" y=\"61.218125\"/>\n     <use style=\"fill-opacity:0;stroke:#000000;\" x=\"116.95\" xlink:href=\"#me2df79aa1f\" y=\"61.218125\"/>\n     <use style=\"fill-opacity:0;stroke:#000000;\" x=\"116.95\" xlink:href=\"#me2df79aa1f\" y=\"61.218125\"/>\n     <use style=\"fill-opacity:0;stroke:#000000;\" x=\"116.95\" xlink:href=\"#me2df79aa1f\" y=\"61.218125\"/>\n     <use style=\"fill-opacity:0;stroke:#000000;\" x=\"116.95\" xlink:href=\"#me2df79aa1f\" y=\"61.218125\"/>\n     <use style=\"fill-opacity:0;stroke:#000000;\" x=\"116.95\" xlink:href=\"#me2df79aa1f\" y=\"61.218125\"/>\n     <use style=\"fill-opacity:0;stroke:#000000;\" x=\"116.95\" xlink:href=\"#me2df79aa1f\" y=\"61.218125\"/>\n     <use style=\"fill-opacity:0;stroke:#000000;\" x=\"116.95\" xlink:href=\"#me2df79aa1f\" y=\"47.07267\"/>\n     <use style=\"fill-opacity:0;stroke:#000000;\" x=\"116.95\" xlink:href=\"#me2df79aa1f\" y=\"61.218125\"/>\n     <use style=\"fill-opacity:0;stroke:#000000;\" x=\"116.95\" xlink:href=\"#me2df79aa1f\" y=\"61.218125\"/>\n     <use style=\"fill-opacity:0;stroke:#000000;\" x=\"116.95\" xlink:href=\"#me2df79aa1f\" y=\"61.218125\"/>\n     <use style=\"fill-opacity:0;stroke:#000000;\" x=\"116.95\" xlink:href=\"#me2df79aa1f\" y=\"61.218125\"/>\n     <use style=\"fill-opacity:0;stroke:#000000;\" x=\"116.95\" xlink:href=\"#me2df79aa1f\" y=\"61.218125\"/>\n     <use style=\"fill-opacity:0;stroke:#000000;\" x=\"116.95\" xlink:href=\"#me2df79aa1f\" y=\"61.218125\"/>\n     <use style=\"fill-opacity:0;stroke:#000000;\" x=\"116.95\" xlink:href=\"#me2df79aa1f\" y=\"61.218125\"/>\n     <use style=\"fill-opacity:0;stroke:#000000;\" x=\"116.95\" xlink:href=\"#me2df79aa1f\" y=\"61.218125\"/>\n     <use style=\"fill-opacity:0;stroke:#000000;\" x=\"116.95\" xlink:href=\"#me2df79aa1f\" y=\"61.218125\"/>\n     <use style=\"fill-opacity:0;stroke:#000000;\" x=\"116.95\" xlink:href=\"#me2df79aa1f\" y=\"32.927216\"/>\n     <use style=\"fill-opacity:0;stroke:#000000;\" x=\"116.95\" xlink:href=\"#me2df79aa1f\" y=\"61.218125\"/>\n     <use style=\"fill-opacity:0;stroke:#000000;\" x=\"116.95\" xlink:href=\"#me2df79aa1f\" y=\"61.218125\"/>\n     <use style=\"fill-opacity:0;stroke:#000000;\" x=\"116.95\" xlink:href=\"#me2df79aa1f\" y=\"61.218125\"/>\n     <use style=\"fill-opacity:0;stroke:#000000;\" x=\"116.95\" xlink:href=\"#me2df79aa1f\" y=\"61.218125\"/>\n     <use style=\"fill-opacity:0;stroke:#000000;\" x=\"116.95\" xlink:href=\"#me2df79aa1f\" y=\"61.218125\"/>\n     <use style=\"fill-opacity:0;stroke:#000000;\" x=\"116.95\" xlink:href=\"#me2df79aa1f\" y=\"61.218125\"/>\n     <use style=\"fill-opacity:0;stroke:#000000;\" x=\"116.95\" xlink:href=\"#me2df79aa1f\" y=\"61.218125\"/>\n     <use style=\"fill-opacity:0;stroke:#000000;\" x=\"116.95\" xlink:href=\"#me2df79aa1f\" y=\"61.218125\"/>\n     <use style=\"fill-opacity:0;stroke:#000000;\" x=\"116.95\" xlink:href=\"#me2df79aa1f\" y=\"61.218125\"/>\n     <use style=\"fill-opacity:0;stroke:#000000;\" x=\"116.95\" xlink:href=\"#me2df79aa1f\" y=\"61.218125\"/>\n     <use style=\"fill-opacity:0;stroke:#000000;\" x=\"116.95\" xlink:href=\"#me2df79aa1f\" y=\"61.218125\"/>\n     <use style=\"fill-opacity:0;stroke:#000000;\" x=\"116.95\" xlink:href=\"#me2df79aa1f\" y=\"61.218125\"/>\n     <use style=\"fill-opacity:0;stroke:#000000;\" x=\"116.95\" xlink:href=\"#me2df79aa1f\" y=\"61.218125\"/>\n     <use style=\"fill-opacity:0;stroke:#000000;\" x=\"116.95\" xlink:href=\"#me2df79aa1f\" y=\"61.218125\"/>\n     <use style=\"fill-opacity:0;stroke:#000000;\" x=\"116.95\" xlink:href=\"#me2df79aa1f\" y=\"61.218125\"/>\n     <use style=\"fill-opacity:0;stroke:#000000;\" x=\"116.95\" xlink:href=\"#me2df79aa1f\" y=\"47.07267\"/>\n     <use style=\"fill-opacity:0;stroke:#000000;\" x=\"116.95\" xlink:href=\"#me2df79aa1f\" y=\"47.07267\"/>\n     <use style=\"fill-opacity:0;stroke:#000000;\" x=\"116.95\" xlink:href=\"#me2df79aa1f\" y=\"61.218125\"/>\n     <use style=\"fill-opacity:0;stroke:#000000;\" x=\"116.95\" xlink:href=\"#me2df79aa1f\" y=\"61.218125\"/>\n     <use style=\"fill-opacity:0;stroke:#000000;\" x=\"116.95\" xlink:href=\"#me2df79aa1f\" y=\"61.218125\"/>\n     <use style=\"fill-opacity:0;stroke:#000000;\" x=\"116.95\" xlink:href=\"#me2df79aa1f\" y=\"61.218125\"/>\n     <use style=\"fill-opacity:0;stroke:#000000;\" x=\"116.95\" xlink:href=\"#me2df79aa1f\" y=\"61.218125\"/>\n     <use style=\"fill-opacity:0;stroke:#000000;\" x=\"116.95\" xlink:href=\"#me2df79aa1f\" y=\"61.218125\"/>\n     <use style=\"fill-opacity:0;stroke:#000000;\" x=\"116.95\" xlink:href=\"#me2df79aa1f\" y=\"47.07267\"/>\n     <use style=\"fill-opacity:0;stroke:#000000;\" x=\"116.95\" xlink:href=\"#me2df79aa1f\" y=\"61.218125\"/>\n     <use style=\"fill-opacity:0;stroke:#000000;\" x=\"116.95\" xlink:href=\"#me2df79aa1f\" y=\"47.07267\"/>\n     <use style=\"fill-opacity:0;stroke:#000000;\" x=\"116.95\" xlink:href=\"#me2df79aa1f\" y=\"61.218125\"/>\n     <use style=\"fill-opacity:0;stroke:#000000;\" x=\"116.95\" xlink:href=\"#me2df79aa1f\" y=\"61.218125\"/>\n     <use style=\"fill-opacity:0;stroke:#000000;\" x=\"116.95\" xlink:href=\"#me2df79aa1f\" y=\"61.218125\"/>\n     <use style=\"fill-opacity:0;stroke:#000000;\" x=\"116.95\" xlink:href=\"#me2df79aa1f\" y=\"61.218125\"/>\n     <use style=\"fill-opacity:0;stroke:#000000;\" x=\"116.95\" xlink:href=\"#me2df79aa1f\" y=\"61.218125\"/>\n     <use style=\"fill-opacity:0;stroke:#000000;\" x=\"116.95\" xlink:href=\"#me2df79aa1f\" y=\"61.218125\"/>\n     <use style=\"fill-opacity:0;stroke:#000000;\" x=\"116.95\" xlink:href=\"#me2df79aa1f\" y=\"61.218125\"/>\n     <use style=\"fill-opacity:0;stroke:#000000;\" x=\"116.95\" xlink:href=\"#me2df79aa1f\" y=\"61.218125\"/>\n     <use style=\"fill-opacity:0;stroke:#000000;\" x=\"116.95\" xlink:href=\"#me2df79aa1f\" y=\"61.218125\"/>\n     <use style=\"fill-opacity:0;stroke:#000000;\" x=\"116.95\" xlink:href=\"#me2df79aa1f\" y=\"61.218125\"/>\n     <use style=\"fill-opacity:0;stroke:#000000;\" x=\"116.95\" xlink:href=\"#me2df79aa1f\" y=\"61.218125\"/>\n     <use style=\"fill-opacity:0;stroke:#000000;\" x=\"116.95\" xlink:href=\"#me2df79aa1f\" y=\"61.218125\"/>\n     <use style=\"fill-opacity:0;stroke:#000000;\" x=\"116.95\" xlink:href=\"#me2df79aa1f\" y=\"61.218125\"/>\n     <use style=\"fill-opacity:0;stroke:#000000;\" x=\"116.95\" xlink:href=\"#me2df79aa1f\" y=\"61.218125\"/>\n     <use style=\"fill-opacity:0;stroke:#000000;\" x=\"116.95\" xlink:href=\"#me2df79aa1f\" y=\"47.07267\"/>\n     <use style=\"fill-opacity:0;stroke:#000000;\" x=\"116.95\" xlink:href=\"#me2df79aa1f\" y=\"61.218125\"/>\n     <use style=\"fill-opacity:0;stroke:#000000;\" x=\"116.95\" xlink:href=\"#me2df79aa1f\" y=\"61.218125\"/>\n     <use style=\"fill-opacity:0;stroke:#000000;\" x=\"116.95\" xlink:href=\"#me2df79aa1f\" y=\"61.218125\"/>\n     <use style=\"fill-opacity:0;stroke:#000000;\" x=\"116.95\" xlink:href=\"#me2df79aa1f\" y=\"61.218125\"/>\n     <use style=\"fill-opacity:0;stroke:#000000;\" x=\"116.95\" xlink:href=\"#me2df79aa1f\" y=\"61.218125\"/>\n     <use style=\"fill-opacity:0;stroke:#000000;\" x=\"116.95\" xlink:href=\"#me2df79aa1f\" y=\"61.218125\"/>\n     <use style=\"fill-opacity:0;stroke:#000000;\" x=\"116.95\" xlink:href=\"#me2df79aa1f\" y=\"61.218125\"/>\n     <use style=\"fill-opacity:0;stroke:#000000;\" x=\"116.95\" xlink:href=\"#me2df79aa1f\" y=\"61.218125\"/>\n    </g>\n   </g>\n   <g id=\"line2d_16\">\n    <path clip-path=\"url(#p484227045d)\" d=\"M 103.44625 131.945398 \nL 130.45375 131.945398 \n\" style=\"fill:none;stroke:#ff7f0e;stroke-linecap:square;\"/>\n   </g>\n   <g id=\"patch_3\">\n    <path d=\"M 26.925 255.718125 \nL 26.925 22.318125 \n\" style=\"fill:none;stroke:#000000;stroke-linecap:square;stroke-linejoin:miter;stroke-width:0.8;\"/>\n   </g>\n   <g id=\"patch_4\">\n    <path d=\"M 206.975 255.718125 \nL 206.975 22.318125 \n\" style=\"fill:none;stroke:#000000;stroke-linecap:square;stroke-linejoin:miter;stroke-width:0.8;\"/>\n   </g>\n   <g id=\"patch_5\">\n    <path d=\"M 26.925 255.718125 \nL 206.975 255.718125 \n\" style=\"fill:none;stroke:#000000;stroke-linecap:square;stroke-linejoin:miter;stroke-width:0.8;\"/>\n   </g>\n   <g id=\"patch_6\">\n    <path d=\"M 26.925 22.318125 \nL 206.975 22.318125 \n\" style=\"fill:none;stroke:#000000;stroke-linecap:square;stroke-linejoin:miter;stroke-width:0.8;\"/>\n   </g>\n   <g id=\"text_10\">\n    <!-- headlines -->\n    <defs>\n     <path d=\"M 54.890625 33.015625 \nL 54.890625 0 \nL 45.90625 0 \nL 45.90625 32.71875 \nQ 45.90625 40.484375 42.875 44.328125 \nQ 39.84375 48.1875 33.796875 48.1875 \nQ 26.515625 48.1875 22.3125 43.546875 \nQ 18.109375 38.921875 18.109375 30.90625 \nL 18.109375 0 \nL 9.078125 0 \nL 9.078125 75.984375 \nL 18.109375 75.984375 \nL 18.109375 46.1875 \nQ 21.34375 51.125 25.703125 53.5625 \nQ 30.078125 56 35.796875 56 \nQ 45.21875 56 50.046875 50.171875 \nQ 54.890625 44.34375 54.890625 33.015625 \nz\n\" id=\"DejaVuSans-104\"/>\n     <path d=\"M 56.203125 29.59375 \nL 56.203125 25.203125 \nL 14.890625 25.203125 \nQ 15.484375 15.921875 20.484375 11.0625 \nQ 25.484375 6.203125 34.421875 6.203125 \nQ 39.59375 6.203125 44.453125 7.46875 \nQ 49.3125 8.734375 54.109375 11.28125 \nL 54.109375 2.78125 \nQ 49.265625 0.734375 44.1875 -0.34375 \nQ 39.109375 -1.421875 33.890625 -1.421875 \nQ 20.796875 -1.421875 13.15625 6.1875 \nQ 5.515625 13.8125 5.515625 26.8125 \nQ 5.515625 40.234375 12.765625 48.109375 \nQ 20.015625 56 32.328125 56 \nQ 43.359375 56 49.78125 48.890625 \nQ 56.203125 41.796875 56.203125 29.59375 \nz\nM 47.21875 32.234375 \nQ 47.125 39.59375 43.09375 43.984375 \nQ 39.0625 48.390625 32.421875 48.390625 \nQ 24.90625 48.390625 20.390625 44.140625 \nQ 15.875 39.890625 15.1875 32.171875 \nz\n\" id=\"DejaVuSans-101\"/>\n     <path d=\"M 34.28125 27.484375 \nQ 23.390625 27.484375 19.1875 25 \nQ 14.984375 22.515625 14.984375 16.5 \nQ 14.984375 11.71875 18.140625 8.90625 \nQ 21.296875 6.109375 26.703125 6.109375 \nQ 34.1875 6.109375 38.703125 11.40625 \nQ 43.21875 16.703125 43.21875 25.484375 \nL 43.21875 27.484375 \nz\nM 52.203125 31.203125 \nL 52.203125 0 \nL 43.21875 0 \nL 43.21875 8.296875 \nQ 40.140625 3.328125 35.546875 0.953125 \nQ 30.953125 -1.421875 24.3125 -1.421875 \nQ 15.921875 -1.421875 10.953125 3.296875 \nQ 6 8.015625 6 15.921875 \nQ 6 25.140625 12.171875 29.828125 \nQ 18.359375 34.515625 30.609375 34.515625 \nL 43.21875 34.515625 \nL 43.21875 35.40625 \nQ 43.21875 41.609375 39.140625 45 \nQ 35.0625 48.390625 27.6875 48.390625 \nQ 23 48.390625 18.546875 47.265625 \nQ 14.109375 46.140625 10.015625 43.890625 \nL 10.015625 52.203125 \nQ 14.9375 54.109375 19.578125 55.046875 \nQ 24.21875 56 28.609375 56 \nQ 40.484375 56 46.34375 49.84375 \nQ 52.203125 43.703125 52.203125 31.203125 \nz\n\" id=\"DejaVuSans-97\"/>\n     <path d=\"M 45.40625 46.390625 \nL 45.40625 75.984375 \nL 54.390625 75.984375 \nL 54.390625 0 \nL 45.40625 0 \nL 45.40625 8.203125 \nQ 42.578125 3.328125 38.25 0.953125 \nQ 33.9375 -1.421875 27.875 -1.421875 \nQ 17.96875 -1.421875 11.734375 6.484375 \nQ 5.515625 14.40625 5.515625 27.296875 \nQ 5.515625 40.1875 11.734375 48.09375 \nQ 17.96875 56 27.875 56 \nQ 33.9375 56 38.25 53.625 \nQ 42.578125 51.265625 45.40625 46.390625 \nz\nM 14.796875 27.296875 \nQ 14.796875 17.390625 18.875 11.75 \nQ 22.953125 6.109375 30.078125 6.109375 \nQ 37.203125 6.109375 41.296875 11.75 \nQ 45.40625 17.390625 45.40625 27.296875 \nQ 45.40625 37.203125 41.296875 42.84375 \nQ 37.203125 48.484375 30.078125 48.484375 \nQ 22.953125 48.484375 18.875 42.84375 \nQ 14.796875 37.203125 14.796875 27.296875 \nz\n\" id=\"DejaVuSans-100\"/>\n     <path d=\"M 9.421875 75.984375 \nL 18.40625 75.984375 \nL 18.40625 0 \nL 9.421875 0 \nz\n\" id=\"DejaVuSans-108\"/>\n     <path d=\"M 9.421875 54.6875 \nL 18.40625 54.6875 \nL 18.40625 0 \nL 9.421875 0 \nz\nM 9.421875 75.984375 \nL 18.40625 75.984375 \nL 18.40625 64.59375 \nL 9.421875 64.59375 \nz\n\" id=\"DejaVuSans-105\"/>\n     <path d=\"M 54.890625 33.015625 \nL 54.890625 0 \nL 45.90625 0 \nL 45.90625 32.71875 \nQ 45.90625 40.484375 42.875 44.328125 \nQ 39.84375 48.1875 33.796875 48.1875 \nQ 26.515625 48.1875 22.3125 43.546875 \nQ 18.109375 38.921875 18.109375 30.90625 \nL 18.109375 0 \nL 9.078125 0 \nL 9.078125 54.6875 \nL 18.109375 54.6875 \nL 18.109375 46.1875 \nQ 21.34375 51.125 25.703125 53.5625 \nQ 30.078125 56 35.796875 56 \nQ 45.21875 56 50.046875 50.171875 \nQ 54.890625 44.34375 54.890625 33.015625 \nz\n\" id=\"DejaVuSans-110\"/>\n     <path d=\"M 44.28125 53.078125 \nL 44.28125 44.578125 \nQ 40.484375 46.53125 36.375 47.5 \nQ 32.28125 48.484375 27.875 48.484375 \nQ 21.1875 48.484375 17.84375 46.4375 \nQ 14.5 44.390625 14.5 40.28125 \nQ 14.5 37.15625 16.890625 35.375 \nQ 19.28125 33.59375 26.515625 31.984375 \nL 29.59375 31.296875 \nQ 39.15625 29.25 43.1875 25.515625 \nQ 47.21875 21.78125 47.21875 15.09375 \nQ 47.21875 7.46875 41.1875 3.015625 \nQ 35.15625 -1.421875 24.609375 -1.421875 \nQ 20.21875 -1.421875 15.453125 -0.5625 \nQ 10.6875 0.296875 5.421875 2 \nL 5.421875 11.28125 \nQ 10.40625 8.6875 15.234375 7.390625 \nQ 20.0625 6.109375 24.8125 6.109375 \nQ 31.15625 6.109375 34.5625 8.28125 \nQ 37.984375 10.453125 37.984375 14.40625 \nQ 37.984375 18.0625 35.515625 20.015625 \nQ 33.0625 21.96875 24.703125 23.78125 \nL 21.578125 24.515625 \nQ 13.234375 26.265625 9.515625 29.90625 \nQ 5.8125 33.546875 5.8125 39.890625 \nQ 5.8125 47.609375 11.28125 51.796875 \nQ 16.75 56 26.8125 56 \nQ 31.78125 56 36.171875 55.265625 \nQ 40.578125 54.546875 44.28125 53.078125 \nz\n\" id=\"DejaVuSans-115\"/>\n    </defs>\n    <g transform=\"translate(88.015937 16.318125)scale(0.12 -0.12)\">\n     <use xlink:href=\"#DejaVuSans-104\"/>\n     <use x=\"63.378906\" xlink:href=\"#DejaVuSans-101\"/>\n     <use x=\"124.902344\" xlink:href=\"#DejaVuSans-97\"/>\n     <use x=\"186.181641\" xlink:href=\"#DejaVuSans-100\"/>\n     <use x=\"249.658203\" xlink:href=\"#DejaVuSans-108\"/>\n     <use x=\"277.441406\" xlink:href=\"#DejaVuSans-105\"/>\n     <use x=\"305.224609\" xlink:href=\"#DejaVuSans-110\"/>\n     <use x=\"368.603516\" xlink:href=\"#DejaVuSans-101\"/>\n     <use x=\"430.126953\" xlink:href=\"#DejaVuSans-115\"/>\n    </g>\n   </g>\n  </g>\n  <g id=\"axes_2\">\n   <g id=\"patch_7\">\n    <path d=\"M 237.525 255.718125 \nL 417.575 255.718125 \nL 417.575 22.318125 \nL 237.525 22.318125 \nz\n\" style=\"fill:#ffffff;\"/>\n   </g>\n   <g id=\"matplotlib.axis_3\">\n    <g id=\"xtick_2\">\n     <g id=\"line2d_17\">\n      <g>\n       <use style=\"stroke:#000000;stroke-width:0.8;\" x=\"327.55\" xlink:href=\"#mdb24ef83ba\" y=\"255.718125\"/>\n      </g>\n     </g>\n     <g id=\"text_11\">\n      <!-- 1 -->\n      <g transform=\"translate(324.36875 270.316563)scale(0.1 -0.1)\">\n       <use xlink:href=\"#DejaVuSans-49\"/>\n      </g>\n     </g>\n    </g>\n   </g>\n   <g id=\"matplotlib.axis_4\">\n    <g id=\"ytick_9\">\n     <g id=\"line2d_18\">\n      <g>\n       <use style=\"stroke:#000000;stroke-width:0.8;\" x=\"237.525\" xlink:href=\"#m8f9699e6ea\" y=\"248.705336\"/>\n      </g>\n     </g>\n     <g id=\"text_12\">\n      <!-- 0 -->\n      <g transform=\"translate(224.1625 252.504555)scale(0.1 -0.1)\">\n       <use xlink:href=\"#DejaVuSans-48\"/>\n      </g>\n     </g>\n    </g>\n    <g id=\"ytick_10\">\n     <g id=\"line2d_19\">\n      <g>\n       <use style=\"stroke:#000000;stroke-width:0.8;\" x=\"237.525\" xlink:href=\"#m8f9699e6ea\" y=\"212.742316\"/>\n      </g>\n     </g>\n     <g id=\"text_13\">\n      <!-- 10 -->\n      <g transform=\"translate(217.8 216.541535)scale(0.1 -0.1)\">\n       <use xlink:href=\"#DejaVuSans-49\"/>\n       <use x=\"63.623047\" xlink:href=\"#DejaVuSans-48\"/>\n      </g>\n     </g>\n    </g>\n    <g id=\"ytick_11\">\n     <g id=\"line2d_20\">\n      <g>\n       <use style=\"stroke:#000000;stroke-width:0.8;\" x=\"237.525\" xlink:href=\"#m8f9699e6ea\" y=\"176.779296\"/>\n      </g>\n     </g>\n     <g id=\"text_14\">\n      <!-- 20 -->\n      <g transform=\"translate(217.8 180.578515)scale(0.1 -0.1)\">\n       <use xlink:href=\"#DejaVuSans-50\"/>\n       <use x=\"63.623047\" xlink:href=\"#DejaVuSans-48\"/>\n      </g>\n     </g>\n    </g>\n    <g id=\"ytick_12\">\n     <g id=\"line2d_21\">\n      <g>\n       <use style=\"stroke:#000000;stroke-width:0.8;\" x=\"237.525\" xlink:href=\"#m8f9699e6ea\" y=\"140.816276\"/>\n      </g>\n     </g>\n     <g id=\"text_15\">\n      <!-- 30 -->\n      <defs>\n       <path d=\"M 40.578125 39.3125 \nQ 47.65625 37.796875 51.625 33 \nQ 55.609375 28.21875 55.609375 21.1875 \nQ 55.609375 10.40625 48.1875 4.484375 \nQ 40.765625 -1.421875 27.09375 -1.421875 \nQ 22.515625 -1.421875 17.65625 -0.515625 \nQ 12.796875 0.390625 7.625 2.203125 \nL 7.625 11.71875 \nQ 11.71875 9.328125 16.59375 8.109375 \nQ 21.484375 6.890625 26.8125 6.890625 \nQ 36.078125 6.890625 40.9375 10.546875 \nQ 45.796875 14.203125 45.796875 21.1875 \nQ 45.796875 27.640625 41.28125 31.265625 \nQ 36.765625 34.90625 28.71875 34.90625 \nL 20.21875 34.90625 \nL 20.21875 43.015625 \nL 29.109375 43.015625 \nQ 36.375 43.015625 40.234375 45.921875 \nQ 44.09375 48.828125 44.09375 54.296875 \nQ 44.09375 59.90625 40.109375 62.90625 \nQ 36.140625 65.921875 28.71875 65.921875 \nQ 24.65625 65.921875 20.015625 65.03125 \nQ 15.375 64.15625 9.8125 62.3125 \nL 9.8125 71.09375 \nQ 15.4375 72.65625 20.34375 73.4375 \nQ 25.25 74.21875 29.59375 74.21875 \nQ 40.828125 74.21875 47.359375 69.109375 \nQ 53.90625 64.015625 53.90625 55.328125 \nQ 53.90625 49.265625 50.4375 45.09375 \nQ 46.96875 40.921875 40.578125 39.3125 \nz\n\" id=\"DejaVuSans-51\"/>\n      </defs>\n      <g transform=\"translate(217.8 144.615495)scale(0.1 -0.1)\">\n       <use xlink:href=\"#DejaVuSans-51\"/>\n       <use x=\"63.623047\" xlink:href=\"#DejaVuSans-48\"/>\n      </g>\n     </g>\n    </g>\n    <g id=\"ytick_13\">\n     <g id=\"line2d_22\">\n      <g>\n       <use style=\"stroke:#000000;stroke-width:0.8;\" x=\"237.525\" xlink:href=\"#m8f9699e6ea\" y=\"104.853256\"/>\n      </g>\n     </g>\n     <g id=\"text_16\">\n      <!-- 40 -->\n      <g transform=\"translate(217.8 108.652475)scale(0.1 -0.1)\">\n       <use xlink:href=\"#DejaVuSans-52\"/>\n       <use x=\"63.623047\" xlink:href=\"#DejaVuSans-48\"/>\n      </g>\n     </g>\n    </g>\n    <g id=\"ytick_14\">\n     <g id=\"line2d_23\">\n      <g>\n       <use style=\"stroke:#000000;stroke-width:0.8;\" x=\"237.525\" xlink:href=\"#m8f9699e6ea\" y=\"68.890236\"/>\n      </g>\n     </g>\n     <g id=\"text_17\">\n      <!-- 50 -->\n      <defs>\n       <path d=\"M 10.796875 72.90625 \nL 49.515625 72.90625 \nL 49.515625 64.59375 \nL 19.828125 64.59375 \nL 19.828125 46.734375 \nQ 21.96875 47.46875 24.109375 47.828125 \nQ 26.265625 48.1875 28.421875 48.1875 \nQ 40.625 48.1875 47.75 41.5 \nQ 54.890625 34.8125 54.890625 23.390625 \nQ 54.890625 11.625 47.5625 5.09375 \nQ 40.234375 -1.421875 26.90625 -1.421875 \nQ 22.3125 -1.421875 17.546875 -0.640625 \nQ 12.796875 0.140625 7.71875 1.703125 \nL 7.71875 11.625 \nQ 12.109375 9.234375 16.796875 8.0625 \nQ 21.484375 6.890625 26.703125 6.890625 \nQ 35.15625 6.890625 40.078125 11.328125 \nQ 45.015625 15.765625 45.015625 23.390625 \nQ 45.015625 31 40.078125 35.4375 \nQ 35.15625 39.890625 26.703125 39.890625 \nQ 22.75 39.890625 18.8125 39.015625 \nQ 14.890625 38.140625 10.796875 36.28125 \nz\n\" id=\"DejaVuSans-53\"/>\n      </defs>\n      <g transform=\"translate(217.8 72.689455)scale(0.1 -0.1)\">\n       <use xlink:href=\"#DejaVuSans-53\"/>\n       <use x=\"63.623047\" xlink:href=\"#DejaVuSans-48\"/>\n      </g>\n     </g>\n    </g>\n    <g id=\"ytick_15\">\n     <g id=\"line2d_24\">\n      <g>\n       <use style=\"stroke:#000000;stroke-width:0.8;\" x=\"237.525\" xlink:href=\"#m8f9699e6ea\" y=\"32.927216\"/>\n      </g>\n     </g>\n     <g id=\"text_18\">\n      <!-- 60 -->\n      <g transform=\"translate(217.8 36.726435)scale(0.1 -0.1)\">\n       <use xlink:href=\"#DejaVuSans-54\"/>\n       <use x=\"63.623047\" xlink:href=\"#DejaVuSans-48\"/>\n      </g>\n     </g>\n    </g>\n   </g>\n   <g id=\"line2d_25\">\n    <path clip-path=\"url(#pc0ce64e4ef)\" d=\"M 314.04625 130.02737 \nL 341.05375 130.02737 \nL 341.05375 112.04586 \nL 314.04625 112.04586 \nL 314.04625 130.02737 \n\" style=\"fill:none;stroke:#000000;stroke-linecap:square;\"/>\n   </g>\n   <g id=\"line2d_26\">\n    <path clip-path=\"url(#pc0ce64e4ef)\" d=\"M 327.55 130.02737 \nL 327.55 155.201484 \n\" style=\"fill:none;stroke:#000000;stroke-linecap:square;\"/>\n   </g>\n   <g id=\"line2d_27\">\n    <path clip-path=\"url(#pc0ce64e4ef)\" d=\"M 327.55 112.04586 \nL 327.55 86.871746 \n\" style=\"fill:none;stroke:#000000;stroke-linecap:square;\"/>\n   </g>\n   <g id=\"line2d_28\">\n    <path clip-path=\"url(#pc0ce64e4ef)\" d=\"M 320.798125 155.201484 \nL 334.301875 155.201484 \n\" style=\"fill:none;stroke:#000000;stroke-linecap:square;\"/>\n   </g>\n   <g id=\"line2d_29\">\n    <path clip-path=\"url(#pc0ce64e4ef)\" d=\"M 320.798125 86.871746 \nL 334.301875 86.871746 \n\" style=\"fill:none;stroke:#000000;stroke-linecap:square;\"/>\n   </g>\n   <g id=\"line2d_30\">\n    <g clip-path=\"url(#pc0ce64e4ef)\">\n     <use style=\"fill-opacity:0;stroke:#000000;\" x=\"327.55\" xlink:href=\"#me2df79aa1f\" y=\"245.109034\"/>\n     <use style=\"fill-opacity:0;stroke:#000000;\" x=\"327.55\" xlink:href=\"#me2df79aa1f\" y=\"162.394088\"/>\n     <use style=\"fill-opacity:0;stroke:#000000;\" x=\"327.55\" xlink:href=\"#me2df79aa1f\" y=\"158.797786\"/>\n     <use style=\"fill-opacity:0;stroke:#000000;\" x=\"327.55\" xlink:href=\"#me2df79aa1f\" y=\"162.394088\"/>\n     <use style=\"fill-opacity:0;stroke:#000000;\" x=\"327.55\" xlink:href=\"#me2df79aa1f\" y=\"158.797786\"/>\n     <use style=\"fill-opacity:0;stroke:#000000;\" x=\"327.55\" xlink:href=\"#me2df79aa1f\" y=\"158.797786\"/>\n     <use style=\"fill-opacity:0;stroke:#000000;\" x=\"327.55\" xlink:href=\"#me2df79aa1f\" y=\"158.797786\"/>\n     <use style=\"fill-opacity:0;stroke:#000000;\" x=\"327.55\" xlink:href=\"#me2df79aa1f\" y=\"162.394088\"/>\n     <use style=\"fill-opacity:0;stroke:#000000;\" x=\"327.55\" xlink:href=\"#me2df79aa1f\" y=\"162.394088\"/>\n     <use style=\"fill-opacity:0;stroke:#000000;\" x=\"327.55\" xlink:href=\"#me2df79aa1f\" y=\"162.394088\"/>\n     <use style=\"fill-opacity:0;stroke:#000000;\" x=\"327.55\" xlink:href=\"#me2df79aa1f\" y=\"158.797786\"/>\n     <use style=\"fill-opacity:0;stroke:#000000;\" x=\"327.55\" xlink:href=\"#me2df79aa1f\" y=\"158.797786\"/>\n     <use style=\"fill-opacity:0;stroke:#000000;\" x=\"327.55\" xlink:href=\"#me2df79aa1f\" y=\"158.797786\"/>\n     <use style=\"fill-opacity:0;stroke:#000000;\" x=\"327.55\" xlink:href=\"#me2df79aa1f\" y=\"158.797786\"/>\n     <use style=\"fill-opacity:0;stroke:#000000;\" x=\"327.55\" xlink:href=\"#me2df79aa1f\" y=\"158.797786\"/>\n     <use style=\"fill-opacity:0;stroke:#000000;\" x=\"327.55\" xlink:href=\"#me2df79aa1f\" y=\"158.797786\"/>\n     <use style=\"fill-opacity:0;stroke:#000000;\" x=\"327.55\" xlink:href=\"#me2df79aa1f\" y=\"158.797786\"/>\n     <use style=\"fill-opacity:0;stroke:#000000;\" x=\"327.55\" xlink:href=\"#me2df79aa1f\" y=\"169.586692\"/>\n     <use style=\"fill-opacity:0;stroke:#000000;\" x=\"327.55\" xlink:href=\"#me2df79aa1f\" y=\"158.797786\"/>\n     <use style=\"fill-opacity:0;stroke:#000000;\" x=\"327.55\" xlink:href=\"#me2df79aa1f\" y=\"165.99039\"/>\n     <use style=\"fill-opacity:0;stroke:#000000;\" x=\"327.55\" xlink:href=\"#me2df79aa1f\" y=\"158.797786\"/>\n     <use style=\"fill-opacity:0;stroke:#000000;\" x=\"327.55\" xlink:href=\"#me2df79aa1f\" y=\"158.797786\"/>\n     <use style=\"fill-opacity:0;stroke:#000000;\" x=\"327.55\" xlink:href=\"#me2df79aa1f\" y=\"162.394088\"/>\n     <use style=\"fill-opacity:0;stroke:#000000;\" x=\"327.55\" xlink:href=\"#me2df79aa1f\" y=\"158.797786\"/>\n     <use style=\"fill-opacity:0;stroke:#000000;\" x=\"327.55\" xlink:href=\"#me2df79aa1f\" y=\"158.797786\"/>\n     <use style=\"fill-opacity:0;stroke:#000000;\" x=\"327.55\" xlink:href=\"#me2df79aa1f\" y=\"158.797786\"/>\n     <use style=\"fill-opacity:0;stroke:#000000;\" x=\"327.55\" xlink:href=\"#me2df79aa1f\" y=\"158.797786\"/>\n     <use style=\"fill-opacity:0;stroke:#000000;\" x=\"327.55\" xlink:href=\"#me2df79aa1f\" y=\"162.394088\"/>\n     <use style=\"fill-opacity:0;stroke:#000000;\" x=\"327.55\" xlink:href=\"#me2df79aa1f\" y=\"158.797786\"/>\n     <use style=\"fill-opacity:0;stroke:#000000;\" x=\"327.55\" xlink:href=\"#me2df79aa1f\" y=\"158.797786\"/>\n     <use style=\"fill-opacity:0;stroke:#000000;\" x=\"327.55\" xlink:href=\"#me2df79aa1f\" y=\"158.797786\"/>\n     <use style=\"fill-opacity:0;stroke:#000000;\" x=\"327.55\" xlink:href=\"#me2df79aa1f\" y=\"158.797786\"/>\n     <use style=\"fill-opacity:0;stroke:#000000;\" x=\"327.55\" xlink:href=\"#me2df79aa1f\" y=\"165.99039\"/>\n     <use style=\"fill-opacity:0;stroke:#000000;\" x=\"327.55\" xlink:href=\"#me2df79aa1f\" y=\"162.394088\"/>\n     <use style=\"fill-opacity:0;stroke:#000000;\" x=\"327.55\" xlink:href=\"#me2df79aa1f\" y=\"158.797786\"/>\n     <use style=\"fill-opacity:0;stroke:#000000;\" x=\"327.55\" xlink:href=\"#me2df79aa1f\" y=\"165.99039\"/>\n     <use style=\"fill-opacity:0;stroke:#000000;\" x=\"327.55\" xlink:href=\"#me2df79aa1f\" y=\"158.797786\"/>\n     <use style=\"fill-opacity:0;stroke:#000000;\" x=\"327.55\" xlink:href=\"#me2df79aa1f\" y=\"158.797786\"/>\n     <use style=\"fill-opacity:0;stroke:#000000;\" x=\"327.55\" xlink:href=\"#me2df79aa1f\" y=\"158.797786\"/>\n     <use style=\"fill-opacity:0;stroke:#000000;\" x=\"327.55\" xlink:href=\"#me2df79aa1f\" y=\"162.394088\"/>\n     <use style=\"fill-opacity:0;stroke:#000000;\" x=\"327.55\" xlink:href=\"#me2df79aa1f\" y=\"162.394088\"/>\n     <use style=\"fill-opacity:0;stroke:#000000;\" x=\"327.55\" xlink:href=\"#me2df79aa1f\" y=\"162.394088\"/>\n     <use style=\"fill-opacity:0;stroke:#000000;\" x=\"327.55\" xlink:href=\"#me2df79aa1f\" y=\"162.394088\"/>\n     <use style=\"fill-opacity:0;stroke:#000000;\" x=\"327.55\" xlink:href=\"#me2df79aa1f\" y=\"162.394088\"/>\n     <use style=\"fill-opacity:0;stroke:#000000;\" x=\"327.55\" xlink:href=\"#me2df79aa1f\" y=\"173.182994\"/>\n     <use style=\"fill-opacity:0;stroke:#000000;\" x=\"327.55\" xlink:href=\"#me2df79aa1f\" y=\"158.797786\"/>\n     <use style=\"fill-opacity:0;stroke:#000000;\" x=\"327.55\" xlink:href=\"#me2df79aa1f\" y=\"162.394088\"/>\n     <use style=\"fill-opacity:0;stroke:#000000;\" x=\"327.55\" xlink:href=\"#me2df79aa1f\" y=\"158.797786\"/>\n     <use style=\"fill-opacity:0;stroke:#000000;\" x=\"327.55\" xlink:href=\"#me2df79aa1f\" y=\"158.797786\"/>\n     <use style=\"fill-opacity:0;stroke:#000000;\" x=\"327.55\" xlink:href=\"#me2df79aa1f\" y=\"158.797786\"/>\n     <use style=\"fill-opacity:0;stroke:#000000;\" x=\"327.55\" xlink:href=\"#me2df79aa1f\" y=\"158.797786\"/>\n     <use style=\"fill-opacity:0;stroke:#000000;\" x=\"327.55\" xlink:href=\"#me2df79aa1f\" y=\"158.797786\"/>\n     <use style=\"fill-opacity:0;stroke:#000000;\" x=\"327.55\" xlink:href=\"#me2df79aa1f\" y=\"169.586692\"/>\n     <use style=\"fill-opacity:0;stroke:#000000;\" x=\"327.55\" xlink:href=\"#me2df79aa1f\" y=\"158.797786\"/>\n     <use style=\"fill-opacity:0;stroke:#000000;\" x=\"327.55\" xlink:href=\"#me2df79aa1f\" y=\"158.797786\"/>\n     <use style=\"fill-opacity:0;stroke:#000000;\" x=\"327.55\" xlink:href=\"#me2df79aa1f\" y=\"162.394088\"/>\n     <use style=\"fill-opacity:0;stroke:#000000;\" x=\"327.55\" xlink:href=\"#me2df79aa1f\" y=\"158.797786\"/>\n     <use style=\"fill-opacity:0;stroke:#000000;\" x=\"327.55\" xlink:href=\"#me2df79aa1f\" y=\"165.99039\"/>\n     <use style=\"fill-opacity:0;stroke:#000000;\" x=\"327.55\" xlink:href=\"#me2df79aa1f\" y=\"162.394088\"/>\n     <use style=\"fill-opacity:0;stroke:#000000;\" x=\"327.55\" xlink:href=\"#me2df79aa1f\" y=\"165.99039\"/>\n     <use style=\"fill-opacity:0;stroke:#000000;\" x=\"327.55\" xlink:href=\"#me2df79aa1f\" y=\"176.779296\"/>\n     <use style=\"fill-opacity:0;stroke:#000000;\" x=\"327.55\" xlink:href=\"#me2df79aa1f\" y=\"158.797786\"/>\n     <use style=\"fill-opacity:0;stroke:#000000;\" x=\"327.55\" xlink:href=\"#me2df79aa1f\" y=\"173.182994\"/>\n     <use style=\"fill-opacity:0;stroke:#000000;\" x=\"327.55\" xlink:href=\"#me2df79aa1f\" y=\"162.394088\"/>\n     <use style=\"fill-opacity:0;stroke:#000000;\" x=\"327.55\" xlink:href=\"#me2df79aa1f\" y=\"158.797786\"/>\n     <use style=\"fill-opacity:0;stroke:#000000;\" x=\"327.55\" xlink:href=\"#me2df79aa1f\" y=\"158.797786\"/>\n     <use style=\"fill-opacity:0;stroke:#000000;\" x=\"327.55\" xlink:href=\"#me2df79aa1f\" y=\"180.375598\"/>\n     <use style=\"fill-opacity:0;stroke:#000000;\" x=\"327.55\" xlink:href=\"#me2df79aa1f\" y=\"162.394088\"/>\n     <use style=\"fill-opacity:0;stroke:#000000;\" x=\"327.55\" xlink:href=\"#me2df79aa1f\" y=\"158.797786\"/>\n     <use style=\"fill-opacity:0;stroke:#000000;\" x=\"327.55\" xlink:href=\"#me2df79aa1f\" y=\"158.797786\"/>\n     <use style=\"fill-opacity:0;stroke:#000000;\" x=\"327.55\" xlink:href=\"#me2df79aa1f\" y=\"158.797786\"/>\n     <use style=\"fill-opacity:0;stroke:#000000;\" x=\"327.55\" xlink:href=\"#me2df79aa1f\" y=\"158.797786\"/>\n     <use style=\"fill-opacity:0;stroke:#000000;\" x=\"327.55\" xlink:href=\"#me2df79aa1f\" y=\"158.797786\"/>\n     <use style=\"fill-opacity:0;stroke:#000000;\" x=\"327.55\" xlink:href=\"#me2df79aa1f\" y=\"158.797786\"/>\n     <use style=\"fill-opacity:0;stroke:#000000;\" x=\"327.55\" xlink:href=\"#me2df79aa1f\" y=\"173.182994\"/>\n     <use style=\"fill-opacity:0;stroke:#000000;\" x=\"327.55\" xlink:href=\"#me2df79aa1f\" y=\"158.797786\"/>\n     <use style=\"fill-opacity:0;stroke:#000000;\" x=\"327.55\" xlink:href=\"#me2df79aa1f\" y=\"158.797786\"/>\n     <use style=\"fill-opacity:0;stroke:#000000;\" x=\"327.55\" xlink:href=\"#me2df79aa1f\" y=\"162.394088\"/>\n     <use style=\"fill-opacity:0;stroke:#000000;\" x=\"327.55\" xlink:href=\"#me2df79aa1f\" y=\"158.797786\"/>\n     <use style=\"fill-opacity:0;stroke:#000000;\" x=\"327.55\" xlink:href=\"#me2df79aa1f\" y=\"162.394088\"/>\n     <use style=\"fill-opacity:0;stroke:#000000;\" x=\"327.55\" xlink:href=\"#me2df79aa1f\" y=\"158.797786\"/>\n     <use style=\"fill-opacity:0;stroke:#000000;\" x=\"327.55\" xlink:href=\"#me2df79aa1f\" y=\"158.797786\"/>\n     <use style=\"fill-opacity:0;stroke:#000000;\" x=\"327.55\" xlink:href=\"#me2df79aa1f\" y=\"162.394088\"/>\n     <use style=\"fill-opacity:0;stroke:#000000;\" x=\"327.55\" xlink:href=\"#me2df79aa1f\" y=\"158.797786\"/>\n     <use style=\"fill-opacity:0;stroke:#000000;\" x=\"327.55\" xlink:href=\"#me2df79aa1f\" y=\"165.99039\"/>\n     <use style=\"fill-opacity:0;stroke:#000000;\" x=\"327.55\" xlink:href=\"#me2df79aa1f\" y=\"158.797786\"/>\n     <use style=\"fill-opacity:0;stroke:#000000;\" x=\"327.55\" xlink:href=\"#me2df79aa1f\" y=\"162.394088\"/>\n     <use style=\"fill-opacity:0;stroke:#000000;\" x=\"327.55\" xlink:href=\"#me2df79aa1f\" y=\"158.797786\"/>\n     <use style=\"fill-opacity:0;stroke:#000000;\" x=\"327.55\" xlink:href=\"#me2df79aa1f\" y=\"165.99039\"/>\n     <use style=\"fill-opacity:0;stroke:#000000;\" x=\"327.55\" xlink:href=\"#me2df79aa1f\" y=\"165.99039\"/>\n     <use style=\"fill-opacity:0;stroke:#000000;\" x=\"327.55\" xlink:href=\"#me2df79aa1f\" y=\"158.797786\"/>\n     <use style=\"fill-opacity:0;stroke:#000000;\" x=\"327.55\" xlink:href=\"#me2df79aa1f\" y=\"158.797786\"/>\n     <use style=\"fill-opacity:0;stroke:#000000;\" x=\"327.55\" xlink:href=\"#me2df79aa1f\" y=\"158.797786\"/>\n     <use style=\"fill-opacity:0;stroke:#000000;\" x=\"327.55\" xlink:href=\"#me2df79aa1f\" y=\"162.394088\"/>\n     <use style=\"fill-opacity:0;stroke:#000000;\" x=\"327.55\" xlink:href=\"#me2df79aa1f\" y=\"158.797786\"/>\n     <use style=\"fill-opacity:0;stroke:#000000;\" x=\"327.55\" xlink:href=\"#me2df79aa1f\" y=\"158.797786\"/>\n     <use style=\"fill-opacity:0;stroke:#000000;\" x=\"327.55\" xlink:href=\"#me2df79aa1f\" y=\"158.797786\"/>\n     <use style=\"fill-opacity:0;stroke:#000000;\" x=\"327.55\" xlink:href=\"#me2df79aa1f\" y=\"173.182994\"/>\n     <use style=\"fill-opacity:0;stroke:#000000;\" x=\"327.55\" xlink:href=\"#me2df79aa1f\" y=\"158.797786\"/>\n     <use style=\"fill-opacity:0;stroke:#000000;\" x=\"327.55\" xlink:href=\"#me2df79aa1f\" y=\"162.394088\"/>\n     <use style=\"fill-opacity:0;stroke:#000000;\" x=\"327.55\" xlink:href=\"#me2df79aa1f\" y=\"162.394088\"/>\n     <use style=\"fill-opacity:0;stroke:#000000;\" x=\"327.55\" xlink:href=\"#me2df79aa1f\" y=\"158.797786\"/>\n     <use style=\"fill-opacity:0;stroke:#000000;\" x=\"327.55\" xlink:href=\"#me2df79aa1f\" y=\"158.797786\"/>\n     <use style=\"fill-opacity:0;stroke:#000000;\" x=\"327.55\" xlink:href=\"#me2df79aa1f\" y=\"162.394088\"/>\n     <use style=\"fill-opacity:0;stroke:#000000;\" x=\"327.55\" xlink:href=\"#me2df79aa1f\" y=\"183.9719\"/>\n     <use style=\"fill-opacity:0;stroke:#000000;\" x=\"327.55\" xlink:href=\"#me2df79aa1f\" y=\"158.797786\"/>\n     <use style=\"fill-opacity:0;stroke:#000000;\" x=\"327.55\" xlink:href=\"#me2df79aa1f\" y=\"158.797786\"/>\n     <use style=\"fill-opacity:0;stroke:#000000;\" x=\"327.55\" xlink:href=\"#me2df79aa1f\" y=\"158.797786\"/>\n     <use style=\"fill-opacity:0;stroke:#000000;\" x=\"327.55\" xlink:href=\"#me2df79aa1f\" y=\"162.394088\"/>\n     <use style=\"fill-opacity:0;stroke:#000000;\" x=\"327.55\" xlink:href=\"#me2df79aa1f\" y=\"158.797786\"/>\n     <use style=\"fill-opacity:0;stroke:#000000;\" x=\"327.55\" xlink:href=\"#me2df79aa1f\" y=\"162.394088\"/>\n     <use style=\"fill-opacity:0;stroke:#000000;\" x=\"327.55\" xlink:href=\"#me2df79aa1f\" y=\"158.797786\"/>\n     <use style=\"fill-opacity:0;stroke:#000000;\" x=\"327.55\" xlink:href=\"#me2df79aa1f\" y=\"158.797786\"/>\n     <use style=\"fill-opacity:0;stroke:#000000;\" x=\"327.55\" xlink:href=\"#me2df79aa1f\" y=\"158.797786\"/>\n     <use style=\"fill-opacity:0;stroke:#000000;\" x=\"327.55\" xlink:href=\"#me2df79aa1f\" y=\"158.797786\"/>\n     <use style=\"fill-opacity:0;stroke:#000000;\" x=\"327.55\" xlink:href=\"#me2df79aa1f\" y=\"158.797786\"/>\n     <use style=\"fill-opacity:0;stroke:#000000;\" x=\"327.55\" xlink:href=\"#me2df79aa1f\" y=\"158.797786\"/>\n     <use style=\"fill-opacity:0;stroke:#000000;\" x=\"327.55\" xlink:href=\"#me2df79aa1f\" y=\"158.797786\"/>\n     <use style=\"fill-opacity:0;stroke:#000000;\" x=\"327.55\" xlink:href=\"#me2df79aa1f\" y=\"162.394088\"/>\n     <use style=\"fill-opacity:0;stroke:#000000;\" x=\"327.55\" xlink:href=\"#me2df79aa1f\" y=\"162.394088\"/>\n     <use style=\"fill-opacity:0;stroke:#000000;\" x=\"327.55\" xlink:href=\"#me2df79aa1f\" y=\"162.394088\"/>\n     <use style=\"fill-opacity:0;stroke:#000000;\" x=\"327.55\" xlink:href=\"#me2df79aa1f\" y=\"158.797786\"/>\n     <use style=\"fill-opacity:0;stroke:#000000;\" x=\"327.55\" xlink:href=\"#me2df79aa1f\" y=\"158.797786\"/>\n     <use style=\"fill-opacity:0;stroke:#000000;\" x=\"327.55\" xlink:href=\"#me2df79aa1f\" y=\"158.797786\"/>\n     <use style=\"fill-opacity:0;stroke:#000000;\" x=\"327.55\" xlink:href=\"#me2df79aa1f\" y=\"158.797786\"/>\n     <use style=\"fill-opacity:0;stroke:#000000;\" x=\"327.55\" xlink:href=\"#me2df79aa1f\" y=\"162.394088\"/>\n     <use style=\"fill-opacity:0;stroke:#000000;\" x=\"327.55\" xlink:href=\"#me2df79aa1f\" y=\"158.797786\"/>\n     <use style=\"fill-opacity:0;stroke:#000000;\" x=\"327.55\" xlink:href=\"#me2df79aa1f\" y=\"158.797786\"/>\n     <use style=\"fill-opacity:0;stroke:#000000;\" x=\"327.55\" xlink:href=\"#me2df79aa1f\" y=\"158.797786\"/>\n     <use style=\"fill-opacity:0;stroke:#000000;\" x=\"327.55\" xlink:href=\"#me2df79aa1f\" y=\"162.394088\"/>\n     <use style=\"fill-opacity:0;stroke:#000000;\" x=\"327.55\" xlink:href=\"#me2df79aa1f\" y=\"162.394088\"/>\n     <use style=\"fill-opacity:0;stroke:#000000;\" x=\"327.55\" xlink:href=\"#me2df79aa1f\" y=\"162.394088\"/>\n     <use style=\"fill-opacity:0;stroke:#000000;\" x=\"327.55\" xlink:href=\"#me2df79aa1f\" y=\"158.797786\"/>\n     <use style=\"fill-opacity:0;stroke:#000000;\" x=\"327.55\" xlink:href=\"#me2df79aa1f\" y=\"158.797786\"/>\n     <use style=\"fill-opacity:0;stroke:#000000;\" x=\"327.55\" xlink:href=\"#me2df79aa1f\" y=\"165.99039\"/>\n     <use style=\"fill-opacity:0;stroke:#000000;\" x=\"327.55\" xlink:href=\"#me2df79aa1f\" y=\"165.99039\"/>\n     <use style=\"fill-opacity:0;stroke:#000000;\" x=\"327.55\" xlink:href=\"#me2df79aa1f\" y=\"162.394088\"/>\n     <use style=\"fill-opacity:0;stroke:#000000;\" x=\"327.55\" xlink:href=\"#me2df79aa1f\" y=\"165.99039\"/>\n     <use style=\"fill-opacity:0;stroke:#000000;\" x=\"327.55\" xlink:href=\"#me2df79aa1f\" y=\"162.394088\"/>\n     <use style=\"fill-opacity:0;stroke:#000000;\" x=\"327.55\" xlink:href=\"#me2df79aa1f\" y=\"158.797786\"/>\n     <use style=\"fill-opacity:0;stroke:#000000;\" x=\"327.55\" xlink:href=\"#me2df79aa1f\" y=\"158.797786\"/>\n     <use style=\"fill-opacity:0;stroke:#000000;\" x=\"327.55\" xlink:href=\"#me2df79aa1f\" y=\"165.99039\"/>\n     <use style=\"fill-opacity:0;stroke:#000000;\" x=\"327.55\" xlink:href=\"#me2df79aa1f\" y=\"158.797786\"/>\n     <use style=\"fill-opacity:0;stroke:#000000;\" x=\"327.55\" xlink:href=\"#me2df79aa1f\" y=\"158.797786\"/>\n     <use style=\"fill-opacity:0;stroke:#000000;\" x=\"327.55\" xlink:href=\"#me2df79aa1f\" y=\"162.394088\"/>\n     <use style=\"fill-opacity:0;stroke:#000000;\" x=\"327.55\" xlink:href=\"#me2df79aa1f\" y=\"158.797786\"/>\n     <use style=\"fill-opacity:0;stroke:#000000;\" x=\"327.55\" xlink:href=\"#me2df79aa1f\" y=\"158.797786\"/>\n     <use style=\"fill-opacity:0;stroke:#000000;\" x=\"327.55\" xlink:href=\"#me2df79aa1f\" y=\"158.797786\"/>\n     <use style=\"fill-opacity:0;stroke:#000000;\" x=\"327.55\" xlink:href=\"#me2df79aa1f\" y=\"158.797786\"/>\n     <use style=\"fill-opacity:0;stroke:#000000;\" x=\"327.55\" xlink:href=\"#me2df79aa1f\" y=\"162.394088\"/>\n     <use style=\"fill-opacity:0;stroke:#000000;\" x=\"327.55\" xlink:href=\"#me2df79aa1f\" y=\"158.797786\"/>\n     <use style=\"fill-opacity:0;stroke:#000000;\" x=\"327.55\" xlink:href=\"#me2df79aa1f\" y=\"158.797786\"/>\n     <use style=\"fill-opacity:0;stroke:#000000;\" x=\"327.55\" xlink:href=\"#me2df79aa1f\" y=\"162.394088\"/>\n     <use style=\"fill-opacity:0;stroke:#000000;\" x=\"327.55\" xlink:href=\"#me2df79aa1f\" y=\"162.394088\"/>\n     <use style=\"fill-opacity:0;stroke:#000000;\" x=\"327.55\" xlink:href=\"#me2df79aa1f\" y=\"176.779296\"/>\n     <use style=\"fill-opacity:0;stroke:#000000;\" x=\"327.55\" xlink:href=\"#me2df79aa1f\" y=\"162.394088\"/>\n     <use style=\"fill-opacity:0;stroke:#000000;\" x=\"327.55\" xlink:href=\"#me2df79aa1f\" y=\"162.394088\"/>\n     <use style=\"fill-opacity:0;stroke:#000000;\" x=\"327.55\" xlink:href=\"#me2df79aa1f\" y=\"158.797786\"/>\n     <use style=\"fill-opacity:0;stroke:#000000;\" x=\"327.55\" xlink:href=\"#me2df79aa1f\" y=\"158.797786\"/>\n     <use style=\"fill-opacity:0;stroke:#000000;\" x=\"327.55\" xlink:href=\"#me2df79aa1f\" y=\"162.394088\"/>\n     <use style=\"fill-opacity:0;stroke:#000000;\" x=\"327.55\" xlink:href=\"#me2df79aa1f\" y=\"158.797786\"/>\n     <use style=\"fill-opacity:0;stroke:#000000;\" x=\"327.55\" xlink:href=\"#me2df79aa1f\" y=\"158.797786\"/>\n     <use style=\"fill-opacity:0;stroke:#000000;\" x=\"327.55\" xlink:href=\"#me2df79aa1f\" y=\"173.182994\"/>\n     <use style=\"fill-opacity:0;stroke:#000000;\" x=\"327.55\" xlink:href=\"#me2df79aa1f\" y=\"162.394088\"/>\n     <use style=\"fill-opacity:0;stroke:#000000;\" x=\"327.55\" xlink:href=\"#me2df79aa1f\" y=\"162.394088\"/>\n     <use style=\"fill-opacity:0;stroke:#000000;\" x=\"327.55\" xlink:href=\"#me2df79aa1f\" y=\"158.797786\"/>\n     <use style=\"fill-opacity:0;stroke:#000000;\" x=\"327.55\" xlink:href=\"#me2df79aa1f\" y=\"169.586692\"/>\n     <use style=\"fill-opacity:0;stroke:#000000;\" x=\"327.55\" xlink:href=\"#me2df79aa1f\" y=\"158.797786\"/>\n     <use style=\"fill-opacity:0;stroke:#000000;\" x=\"327.55\" xlink:href=\"#me2df79aa1f\" y=\"162.394088\"/>\n     <use style=\"fill-opacity:0;stroke:#000000;\" x=\"327.55\" xlink:href=\"#me2df79aa1f\" y=\"158.797786\"/>\n     <use style=\"fill-opacity:0;stroke:#000000;\" x=\"327.55\" xlink:href=\"#me2df79aa1f\" y=\"158.797786\"/>\n     <use style=\"fill-opacity:0;stroke:#000000;\" x=\"327.55\" xlink:href=\"#me2df79aa1f\" y=\"173.182994\"/>\n     <use style=\"fill-opacity:0;stroke:#000000;\" x=\"327.55\" xlink:href=\"#me2df79aa1f\" y=\"158.797786\"/>\n     <use style=\"fill-opacity:0;stroke:#000000;\" x=\"327.55\" xlink:href=\"#me2df79aa1f\" y=\"158.797786\"/>\n     <use style=\"fill-opacity:0;stroke:#000000;\" x=\"327.55\" xlink:href=\"#me2df79aa1f\" y=\"158.797786\"/>\n     <use style=\"fill-opacity:0;stroke:#000000;\" x=\"327.55\" xlink:href=\"#me2df79aa1f\" y=\"158.797786\"/>\n     <use style=\"fill-opacity:0;stroke:#000000;\" x=\"327.55\" xlink:href=\"#me2df79aa1f\" y=\"158.797786\"/>\n     <use style=\"fill-opacity:0;stroke:#000000;\" x=\"327.55\" xlink:href=\"#me2df79aa1f\" y=\"158.797786\"/>\n     <use style=\"fill-opacity:0;stroke:#000000;\" x=\"327.55\" xlink:href=\"#me2df79aa1f\" y=\"162.394088\"/>\n     <use style=\"fill-opacity:0;stroke:#000000;\" x=\"327.55\" xlink:href=\"#me2df79aa1f\" y=\"165.99039\"/>\n     <use style=\"fill-opacity:0;stroke:#000000;\" x=\"327.55\" xlink:href=\"#me2df79aa1f\" y=\"165.99039\"/>\n     <use style=\"fill-opacity:0;stroke:#000000;\" x=\"327.55\" xlink:href=\"#me2df79aa1f\" y=\"162.394088\"/>\n     <use style=\"fill-opacity:0;stroke:#000000;\" x=\"327.55\" xlink:href=\"#me2df79aa1f\" y=\"162.394088\"/>\n     <use style=\"fill-opacity:0;stroke:#000000;\" x=\"327.55\" xlink:href=\"#me2df79aa1f\" y=\"158.797786\"/>\n     <use style=\"fill-opacity:0;stroke:#000000;\" x=\"327.55\" xlink:href=\"#me2df79aa1f\" y=\"162.394088\"/>\n     <use style=\"fill-opacity:0;stroke:#000000;\" x=\"327.55\" xlink:href=\"#me2df79aa1f\" y=\"158.797786\"/>\n     <use style=\"fill-opacity:0;stroke:#000000;\" x=\"327.55\" xlink:href=\"#me2df79aa1f\" y=\"176.779296\"/>\n     <use style=\"fill-opacity:0;stroke:#000000;\" x=\"327.55\" xlink:href=\"#me2df79aa1f\" y=\"158.797786\"/>\n     <use style=\"fill-opacity:0;stroke:#000000;\" x=\"327.55\" xlink:href=\"#me2df79aa1f\" y=\"158.797786\"/>\n     <use style=\"fill-opacity:0;stroke:#000000;\" x=\"327.55\" xlink:href=\"#me2df79aa1f\" y=\"169.586692\"/>\n     <use style=\"fill-opacity:0;stroke:#000000;\" x=\"327.55\" xlink:href=\"#me2df79aa1f\" y=\"158.797786\"/>\n     <use style=\"fill-opacity:0;stroke:#000000;\" x=\"327.55\" xlink:href=\"#me2df79aa1f\" y=\"158.797786\"/>\n     <use style=\"fill-opacity:0;stroke:#000000;\" x=\"327.55\" xlink:href=\"#me2df79aa1f\" y=\"158.797786\"/>\n     <use style=\"fill-opacity:0;stroke:#000000;\" x=\"327.55\" xlink:href=\"#me2df79aa1f\" y=\"158.797786\"/>\n     <use style=\"fill-opacity:0;stroke:#000000;\" x=\"327.55\" xlink:href=\"#me2df79aa1f\" y=\"162.394088\"/>\n     <use style=\"fill-opacity:0;stroke:#000000;\" x=\"327.55\" xlink:href=\"#me2df79aa1f\" y=\"165.99039\"/>\n     <use style=\"fill-opacity:0;stroke:#000000;\" x=\"327.55\" xlink:href=\"#me2df79aa1f\" y=\"158.797786\"/>\n     <use style=\"fill-opacity:0;stroke:#000000;\" x=\"327.55\" xlink:href=\"#me2df79aa1f\" y=\"162.394088\"/>\n     <use style=\"fill-opacity:0;stroke:#000000;\" x=\"327.55\" xlink:href=\"#me2df79aa1f\" y=\"158.797786\"/>\n     <use style=\"fill-opacity:0;stroke:#000000;\" x=\"327.55\" xlink:href=\"#me2df79aa1f\" y=\"165.99039\"/>\n     <use style=\"fill-opacity:0;stroke:#000000;\" x=\"327.55\" xlink:href=\"#me2df79aa1f\" y=\"158.797786\"/>\n     <use style=\"fill-opacity:0;stroke:#000000;\" x=\"327.55\" xlink:href=\"#me2df79aa1f\" y=\"158.797786\"/>\n     <use style=\"fill-opacity:0;stroke:#000000;\" x=\"327.55\" xlink:href=\"#me2df79aa1f\" y=\"158.797786\"/>\n     <use style=\"fill-opacity:0;stroke:#000000;\" x=\"327.55\" xlink:href=\"#me2df79aa1f\" y=\"158.797786\"/>\n     <use style=\"fill-opacity:0;stroke:#000000;\" x=\"327.55\" xlink:href=\"#me2df79aa1f\" y=\"158.797786\"/>\n     <use style=\"fill-opacity:0;stroke:#000000;\" x=\"327.55\" xlink:href=\"#me2df79aa1f\" y=\"165.99039\"/>\n     <use style=\"fill-opacity:0;stroke:#000000;\" x=\"327.55\" xlink:href=\"#me2df79aa1f\" y=\"158.797786\"/>\n     <use style=\"fill-opacity:0;stroke:#000000;\" x=\"327.55\" xlink:href=\"#me2df79aa1f\" y=\"162.394088\"/>\n     <use style=\"fill-opacity:0;stroke:#000000;\" x=\"327.55\" xlink:href=\"#me2df79aa1f\" y=\"158.797786\"/>\n     <use style=\"fill-opacity:0;stroke:#000000;\" x=\"327.55\" xlink:href=\"#me2df79aa1f\" y=\"158.797786\"/>\n     <use style=\"fill-opacity:0;stroke:#000000;\" x=\"327.55\" xlink:href=\"#me2df79aa1f\" y=\"158.797786\"/>\n     <use style=\"fill-opacity:0;stroke:#000000;\" x=\"327.55\" xlink:href=\"#me2df79aa1f\" y=\"158.797786\"/>\n     <use style=\"fill-opacity:0;stroke:#000000;\" x=\"327.55\" xlink:href=\"#me2df79aa1f\" y=\"165.99039\"/>\n     <use style=\"fill-opacity:0;stroke:#000000;\" x=\"327.55\" xlink:href=\"#me2df79aa1f\" y=\"169.586692\"/>\n     <use style=\"fill-opacity:0;stroke:#000000;\" x=\"327.55\" xlink:href=\"#me2df79aa1f\" y=\"173.182994\"/>\n     <use style=\"fill-opacity:0;stroke:#000000;\" x=\"327.55\" xlink:href=\"#me2df79aa1f\" y=\"165.99039\"/>\n     <use style=\"fill-opacity:0;stroke:#000000;\" x=\"327.55\" xlink:href=\"#me2df79aa1f\" y=\"165.99039\"/>\n     <use style=\"fill-opacity:0;stroke:#000000;\" x=\"327.55\" xlink:href=\"#me2df79aa1f\" y=\"158.797786\"/>\n     <use style=\"fill-opacity:0;stroke:#000000;\" x=\"327.55\" xlink:href=\"#me2df79aa1f\" y=\"158.797786\"/>\n     <use style=\"fill-opacity:0;stroke:#000000;\" x=\"327.55\" xlink:href=\"#me2df79aa1f\" y=\"162.394088\"/>\n     <use style=\"fill-opacity:0;stroke:#000000;\" x=\"327.55\" xlink:href=\"#me2df79aa1f\" y=\"165.99039\"/>\n     <use style=\"fill-opacity:0;stroke:#000000;\" x=\"327.55\" xlink:href=\"#me2df79aa1f\" y=\"158.797786\"/>\n     <use style=\"fill-opacity:0;stroke:#000000;\" x=\"327.55\" xlink:href=\"#me2df79aa1f\" y=\"158.797786\"/>\n     <use style=\"fill-opacity:0;stroke:#000000;\" x=\"327.55\" xlink:href=\"#me2df79aa1f\" y=\"158.797786\"/>\n     <use style=\"fill-opacity:0;stroke:#000000;\" x=\"327.55\" xlink:href=\"#me2df79aa1f\" y=\"165.99039\"/>\n     <use style=\"fill-opacity:0;stroke:#000000;\" x=\"327.55\" xlink:href=\"#me2df79aa1f\" y=\"158.797786\"/>\n     <use style=\"fill-opacity:0;stroke:#000000;\" x=\"327.55\" xlink:href=\"#me2df79aa1f\" y=\"165.99039\"/>\n     <use style=\"fill-opacity:0;stroke:#000000;\" x=\"327.55\" xlink:href=\"#me2df79aa1f\" y=\"158.797786\"/>\n     <use style=\"fill-opacity:0;stroke:#000000;\" x=\"327.55\" xlink:href=\"#me2df79aa1f\" y=\"162.394088\"/>\n     <use style=\"fill-opacity:0;stroke:#000000;\" x=\"327.55\" xlink:href=\"#me2df79aa1f\" y=\"162.394088\"/>\n     <use style=\"fill-opacity:0;stroke:#000000;\" x=\"327.55\" xlink:href=\"#me2df79aa1f\" y=\"162.394088\"/>\n     <use style=\"fill-opacity:0;stroke:#000000;\" x=\"327.55\" xlink:href=\"#me2df79aa1f\" y=\"162.394088\"/>\n     <use style=\"fill-opacity:0;stroke:#000000;\" x=\"327.55\" xlink:href=\"#me2df79aa1f\" y=\"158.797786\"/>\n     <use style=\"fill-opacity:0;stroke:#000000;\" x=\"327.55\" xlink:href=\"#me2df79aa1f\" y=\"162.394088\"/>\n     <use style=\"fill-opacity:0;stroke:#000000;\" x=\"327.55\" xlink:href=\"#me2df79aa1f\" y=\"158.797786\"/>\n     <use style=\"fill-opacity:0;stroke:#000000;\" x=\"327.55\" xlink:href=\"#me2df79aa1f\" y=\"165.99039\"/>\n     <use style=\"fill-opacity:0;stroke:#000000;\" x=\"327.55\" xlink:href=\"#me2df79aa1f\" y=\"158.797786\"/>\n     <use style=\"fill-opacity:0;stroke:#000000;\" x=\"327.55\" xlink:href=\"#me2df79aa1f\" y=\"162.394088\"/>\n     <use style=\"fill-opacity:0;stroke:#000000;\" x=\"327.55\" xlink:href=\"#me2df79aa1f\" y=\"162.394088\"/>\n     <use style=\"fill-opacity:0;stroke:#000000;\" x=\"327.55\" xlink:href=\"#me2df79aa1f\" y=\"158.797786\"/>\n     <use style=\"fill-opacity:0;stroke:#000000;\" x=\"327.55\" xlink:href=\"#me2df79aa1f\" y=\"158.797786\"/>\n     <use style=\"fill-opacity:0;stroke:#000000;\" x=\"327.55\" xlink:href=\"#me2df79aa1f\" y=\"158.797786\"/>\n     <use style=\"fill-opacity:0;stroke:#000000;\" x=\"327.55\" xlink:href=\"#me2df79aa1f\" y=\"169.586692\"/>\n     <use style=\"fill-opacity:0;stroke:#000000;\" x=\"327.55\" xlink:href=\"#me2df79aa1f\" y=\"158.797786\"/>\n     <use style=\"fill-opacity:0;stroke:#000000;\" x=\"327.55\" xlink:href=\"#me2df79aa1f\" y=\"162.394088\"/>\n     <use style=\"fill-opacity:0;stroke:#000000;\" x=\"327.55\" xlink:href=\"#me2df79aa1f\" y=\"162.394088\"/>\n     <use style=\"fill-opacity:0;stroke:#000000;\" x=\"327.55\" xlink:href=\"#me2df79aa1f\" y=\"158.797786\"/>\n     <use style=\"fill-opacity:0;stroke:#000000;\" x=\"327.55\" xlink:href=\"#me2df79aa1f\" y=\"162.394088\"/>\n     <use style=\"fill-opacity:0;stroke:#000000;\" x=\"327.55\" xlink:href=\"#me2df79aa1f\" y=\"173.182994\"/>\n     <use style=\"fill-opacity:0;stroke:#000000;\" x=\"327.55\" xlink:href=\"#me2df79aa1f\" y=\"162.394088\"/>\n     <use style=\"fill-opacity:0;stroke:#000000;\" x=\"327.55\" xlink:href=\"#me2df79aa1f\" y=\"158.797786\"/>\n     <use style=\"fill-opacity:0;stroke:#000000;\" x=\"327.55\" xlink:href=\"#me2df79aa1f\" y=\"162.394088\"/>\n     <use style=\"fill-opacity:0;stroke:#000000;\" x=\"327.55\" xlink:href=\"#me2df79aa1f\" y=\"162.394088\"/>\n     <use style=\"fill-opacity:0;stroke:#000000;\" x=\"327.55\" xlink:href=\"#me2df79aa1f\" y=\"165.99039\"/>\n     <use style=\"fill-opacity:0;stroke:#000000;\" x=\"327.55\" xlink:href=\"#me2df79aa1f\" y=\"158.797786\"/>\n     <use style=\"fill-opacity:0;stroke:#000000;\" x=\"327.55\" xlink:href=\"#me2df79aa1f\" y=\"162.394088\"/>\n     <use style=\"fill-opacity:0;stroke:#000000;\" x=\"327.55\" xlink:href=\"#me2df79aa1f\" y=\"162.394088\"/>\n     <use style=\"fill-opacity:0;stroke:#000000;\" x=\"327.55\" xlink:href=\"#me2df79aa1f\" y=\"158.797786\"/>\n     <use style=\"fill-opacity:0;stroke:#000000;\" x=\"327.55\" xlink:href=\"#me2df79aa1f\" y=\"158.797786\"/>\n     <use style=\"fill-opacity:0;stroke:#000000;\" x=\"327.55\" xlink:href=\"#me2df79aa1f\" y=\"158.797786\"/>\n     <use style=\"fill-opacity:0;stroke:#000000;\" x=\"327.55\" xlink:href=\"#me2df79aa1f\" y=\"162.394088\"/>\n     <use style=\"fill-opacity:0;stroke:#000000;\" x=\"327.55\" xlink:href=\"#me2df79aa1f\" y=\"158.797786\"/>\n     <use style=\"fill-opacity:0;stroke:#000000;\" x=\"327.55\" xlink:href=\"#me2df79aa1f\" y=\"162.394088\"/>\n     <use style=\"fill-opacity:0;stroke:#000000;\" x=\"327.55\" xlink:href=\"#me2df79aa1f\" y=\"165.99039\"/>\n     <use style=\"fill-opacity:0;stroke:#000000;\" x=\"327.55\" xlink:href=\"#me2df79aa1f\" y=\"158.797786\"/>\n     <use style=\"fill-opacity:0;stroke:#000000;\" x=\"327.55\" xlink:href=\"#me2df79aa1f\" y=\"158.797786\"/>\n     <use style=\"fill-opacity:0;stroke:#000000;\" x=\"327.55\" xlink:href=\"#me2df79aa1f\" y=\"162.394088\"/>\n     <use style=\"fill-opacity:0;stroke:#000000;\" x=\"327.55\" xlink:href=\"#me2df79aa1f\" y=\"158.797786\"/>\n     <use style=\"fill-opacity:0;stroke:#000000;\" x=\"327.55\" xlink:href=\"#me2df79aa1f\" y=\"158.797786\"/>\n     <use style=\"fill-opacity:0;stroke:#000000;\" x=\"327.55\" xlink:href=\"#me2df79aa1f\" y=\"158.797786\"/>\n     <use style=\"fill-opacity:0;stroke:#000000;\" x=\"327.55\" xlink:href=\"#me2df79aa1f\" y=\"165.99039\"/>\n     <use style=\"fill-opacity:0;stroke:#000000;\" x=\"327.55\" xlink:href=\"#me2df79aa1f\" y=\"165.99039\"/>\n     <use style=\"fill-opacity:0;stroke:#000000;\" x=\"327.55\" xlink:href=\"#me2df79aa1f\" y=\"158.797786\"/>\n     <use style=\"fill-opacity:0;stroke:#000000;\" x=\"327.55\" xlink:href=\"#me2df79aa1f\" y=\"158.797786\"/>\n     <use style=\"fill-opacity:0;stroke:#000000;\" x=\"327.55\" xlink:href=\"#me2df79aa1f\" y=\"158.797786\"/>\n     <use style=\"fill-opacity:0;stroke:#000000;\" x=\"327.55\" xlink:href=\"#me2df79aa1f\" y=\"162.394088\"/>\n     <use style=\"fill-opacity:0;stroke:#000000;\" x=\"327.55\" xlink:href=\"#me2df79aa1f\" y=\"158.797786\"/>\n     <use style=\"fill-opacity:0;stroke:#000000;\" x=\"327.55\" xlink:href=\"#me2df79aa1f\" y=\"158.797786\"/>\n     <use style=\"fill-opacity:0;stroke:#000000;\" x=\"327.55\" xlink:href=\"#me2df79aa1f\" y=\"162.394088\"/>\n     <use style=\"fill-opacity:0;stroke:#000000;\" x=\"327.55\" xlink:href=\"#me2df79aa1f\" y=\"158.797786\"/>\n     <use style=\"fill-opacity:0;stroke:#000000;\" x=\"327.55\" xlink:href=\"#me2df79aa1f\" y=\"162.394088\"/>\n     <use style=\"fill-opacity:0;stroke:#000000;\" x=\"327.55\" xlink:href=\"#me2df79aa1f\" y=\"169.586692\"/>\n     <use style=\"fill-opacity:0;stroke:#000000;\" x=\"327.55\" xlink:href=\"#me2df79aa1f\" y=\"165.99039\"/>\n     <use style=\"fill-opacity:0;stroke:#000000;\" x=\"327.55\" xlink:href=\"#me2df79aa1f\" y=\"165.99039\"/>\n     <use style=\"fill-opacity:0;stroke:#000000;\" x=\"327.55\" xlink:href=\"#me2df79aa1f\" y=\"165.99039\"/>\n     <use style=\"fill-opacity:0;stroke:#000000;\" x=\"327.55\" xlink:href=\"#me2df79aa1f\" y=\"158.797786\"/>\n     <use style=\"fill-opacity:0;stroke:#000000;\" x=\"327.55\" xlink:href=\"#me2df79aa1f\" y=\"158.797786\"/>\n     <use style=\"fill-opacity:0;stroke:#000000;\" x=\"327.55\" xlink:href=\"#me2df79aa1f\" y=\"162.394088\"/>\n     <use style=\"fill-opacity:0;stroke:#000000;\" x=\"327.55\" xlink:href=\"#me2df79aa1f\" y=\"158.797786\"/>\n     <use style=\"fill-opacity:0;stroke:#000000;\" x=\"327.55\" xlink:href=\"#me2df79aa1f\" y=\"165.99039\"/>\n     <use style=\"fill-opacity:0;stroke:#000000;\" x=\"327.55\" xlink:href=\"#me2df79aa1f\" y=\"158.797786\"/>\n     <use style=\"fill-opacity:0;stroke:#000000;\" x=\"327.55\" xlink:href=\"#me2df79aa1f\" y=\"158.797786\"/>\n     <use style=\"fill-opacity:0;stroke:#000000;\" x=\"327.55\" xlink:href=\"#me2df79aa1f\" y=\"162.394088\"/>\n     <use style=\"fill-opacity:0;stroke:#000000;\" x=\"327.55\" xlink:href=\"#me2df79aa1f\" y=\"158.797786\"/>\n     <use style=\"fill-opacity:0;stroke:#000000;\" x=\"327.55\" xlink:href=\"#me2df79aa1f\" y=\"173.182994\"/>\n     <use style=\"fill-opacity:0;stroke:#000000;\" x=\"327.55\" xlink:href=\"#me2df79aa1f\" y=\"158.797786\"/>\n     <use style=\"fill-opacity:0;stroke:#000000;\" x=\"327.55\" xlink:href=\"#me2df79aa1f\" y=\"158.797786\"/>\n     <use style=\"fill-opacity:0;stroke:#000000;\" x=\"327.55\" xlink:href=\"#me2df79aa1f\" y=\"158.797786\"/>\n     <use style=\"fill-opacity:0;stroke:#000000;\" x=\"327.55\" xlink:href=\"#me2df79aa1f\" y=\"162.394088\"/>\n     <use style=\"fill-opacity:0;stroke:#000000;\" x=\"327.55\" xlink:href=\"#me2df79aa1f\" y=\"158.797786\"/>\n     <use style=\"fill-opacity:0;stroke:#000000;\" x=\"327.55\" xlink:href=\"#me2df79aa1f\" y=\"162.394088\"/>\n     <use style=\"fill-opacity:0;stroke:#000000;\" x=\"327.55\" xlink:href=\"#me2df79aa1f\" y=\"162.394088\"/>\n     <use style=\"fill-opacity:0;stroke:#000000;\" x=\"327.55\" xlink:href=\"#me2df79aa1f\" y=\"162.394088\"/>\n     <use style=\"fill-opacity:0;stroke:#000000;\" x=\"327.55\" xlink:href=\"#me2df79aa1f\" y=\"162.394088\"/>\n     <use style=\"fill-opacity:0;stroke:#000000;\" x=\"327.55\" xlink:href=\"#me2df79aa1f\" y=\"158.797786\"/>\n     <use style=\"fill-opacity:0;stroke:#000000;\" x=\"327.55\" xlink:href=\"#me2df79aa1f\" y=\"158.797786\"/>\n     <use style=\"fill-opacity:0;stroke:#000000;\" x=\"327.55\" xlink:href=\"#me2df79aa1f\" y=\"158.797786\"/>\n     <use style=\"fill-opacity:0;stroke:#000000;\" x=\"327.55\" xlink:href=\"#me2df79aa1f\" y=\"158.797786\"/>\n     <use style=\"fill-opacity:0;stroke:#000000;\" x=\"327.55\" xlink:href=\"#me2df79aa1f\" y=\"162.394088\"/>\n     <use style=\"fill-opacity:0;stroke:#000000;\" x=\"327.55\" xlink:href=\"#me2df79aa1f\" y=\"158.797786\"/>\n     <use style=\"fill-opacity:0;stroke:#000000;\" x=\"327.55\" xlink:href=\"#me2df79aa1f\" y=\"162.394088\"/>\n     <use style=\"fill-opacity:0;stroke:#000000;\" x=\"327.55\" xlink:href=\"#me2df79aa1f\" y=\"158.797786\"/>\n     <use style=\"fill-opacity:0;stroke:#000000;\" x=\"327.55\" xlink:href=\"#me2df79aa1f\" y=\"162.394088\"/>\n     <use style=\"fill-opacity:0;stroke:#000000;\" x=\"327.55\" xlink:href=\"#me2df79aa1f\" y=\"169.586692\"/>\n     <use style=\"fill-opacity:0;stroke:#000000;\" x=\"327.55\" xlink:href=\"#me2df79aa1f\" y=\"165.99039\"/>\n     <use style=\"fill-opacity:0;stroke:#000000;\" x=\"327.55\" xlink:href=\"#me2df79aa1f\" y=\"158.797786\"/>\n     <use style=\"fill-opacity:0;stroke:#000000;\" x=\"327.55\" xlink:href=\"#me2df79aa1f\" y=\"158.797786\"/>\n     <use style=\"fill-opacity:0;stroke:#000000;\" x=\"327.55\" xlink:href=\"#me2df79aa1f\" y=\"158.797786\"/>\n     <use style=\"fill-opacity:0;stroke:#000000;\" x=\"327.55\" xlink:href=\"#me2df79aa1f\" y=\"169.586692\"/>\n     <use style=\"fill-opacity:0;stroke:#000000;\" x=\"327.55\" xlink:href=\"#me2df79aa1f\" y=\"158.797786\"/>\n     <use style=\"fill-opacity:0;stroke:#000000;\" x=\"327.55\" xlink:href=\"#me2df79aa1f\" y=\"169.586692\"/>\n     <use style=\"fill-opacity:0;stroke:#000000;\" x=\"327.55\" xlink:href=\"#me2df79aa1f\" y=\"162.394088\"/>\n     <use style=\"fill-opacity:0;stroke:#000000;\" x=\"327.55\" xlink:href=\"#me2df79aa1f\" y=\"158.797786\"/>\n     <use style=\"fill-opacity:0;stroke:#000000;\" x=\"327.55\" xlink:href=\"#me2df79aa1f\" y=\"158.797786\"/>\n     <use style=\"fill-opacity:0;stroke:#000000;\" x=\"327.55\" xlink:href=\"#me2df79aa1f\" y=\"158.797786\"/>\n     <use style=\"fill-opacity:0;stroke:#000000;\" x=\"327.55\" xlink:href=\"#me2df79aa1f\" y=\"158.797786\"/>\n     <use style=\"fill-opacity:0;stroke:#000000;\" x=\"327.55\" xlink:href=\"#me2df79aa1f\" y=\"158.797786\"/>\n     <use style=\"fill-opacity:0;stroke:#000000;\" x=\"327.55\" xlink:href=\"#me2df79aa1f\" y=\"158.797786\"/>\n     <use style=\"fill-opacity:0;stroke:#000000;\" x=\"327.55\" xlink:href=\"#me2df79aa1f\" y=\"158.797786\"/>\n     <use style=\"fill-opacity:0;stroke:#000000;\" x=\"327.55\" xlink:href=\"#me2df79aa1f\" y=\"173.182994\"/>\n     <use style=\"fill-opacity:0;stroke:#000000;\" x=\"327.55\" xlink:href=\"#me2df79aa1f\" y=\"158.797786\"/>\n     <use style=\"fill-opacity:0;stroke:#000000;\" x=\"327.55\" xlink:href=\"#me2df79aa1f\" y=\"158.797786\"/>\n     <use style=\"fill-opacity:0;stroke:#000000;\" x=\"327.55\" xlink:href=\"#me2df79aa1f\" y=\"158.797786\"/>\n     <use style=\"fill-opacity:0;stroke:#000000;\" x=\"327.55\" xlink:href=\"#me2df79aa1f\" y=\"158.797786\"/>\n     <use style=\"fill-opacity:0;stroke:#000000;\" x=\"327.55\" xlink:href=\"#me2df79aa1f\" y=\"158.797786\"/>\n     <use style=\"fill-opacity:0;stroke:#000000;\" x=\"327.55\" xlink:href=\"#me2df79aa1f\" y=\"162.394088\"/>\n     <use style=\"fill-opacity:0;stroke:#000000;\" x=\"327.55\" xlink:href=\"#me2df79aa1f\" y=\"173.182994\"/>\n     <use style=\"fill-opacity:0;stroke:#000000;\" x=\"327.55\" xlink:href=\"#me2df79aa1f\" y=\"158.797786\"/>\n     <use style=\"fill-opacity:0;stroke:#000000;\" x=\"327.55\" xlink:href=\"#me2df79aa1f\" y=\"162.394088\"/>\n     <use style=\"fill-opacity:0;stroke:#000000;\" x=\"327.55\" xlink:href=\"#me2df79aa1f\" y=\"158.797786\"/>\n     <use style=\"fill-opacity:0;stroke:#000000;\" x=\"327.55\" xlink:href=\"#me2df79aa1f\" y=\"158.797786\"/>\n     <use style=\"fill-opacity:0;stroke:#000000;\" x=\"327.55\" xlink:href=\"#me2df79aa1f\" y=\"158.797786\"/>\n     <use style=\"fill-opacity:0;stroke:#000000;\" x=\"327.55\" xlink:href=\"#me2df79aa1f\" y=\"165.99039\"/>\n     <use style=\"fill-opacity:0;stroke:#000000;\" x=\"327.55\" xlink:href=\"#me2df79aa1f\" y=\"162.394088\"/>\n     <use style=\"fill-opacity:0;stroke:#000000;\" x=\"327.55\" xlink:href=\"#me2df79aa1f\" y=\"158.797786\"/>\n     <use style=\"fill-opacity:0;stroke:#000000;\" x=\"327.55\" xlink:href=\"#me2df79aa1f\" y=\"169.586692\"/>\n     <use style=\"fill-opacity:0;stroke:#000000;\" x=\"327.55\" xlink:href=\"#me2df79aa1f\" y=\"158.797786\"/>\n     <use style=\"fill-opacity:0;stroke:#000000;\" x=\"327.55\" xlink:href=\"#me2df79aa1f\" y=\"162.394088\"/>\n     <use style=\"fill-opacity:0;stroke:#000000;\" x=\"327.55\" xlink:href=\"#me2df79aa1f\" y=\"165.99039\"/>\n     <use style=\"fill-opacity:0;stroke:#000000;\" x=\"327.55\" xlink:href=\"#me2df79aa1f\" y=\"158.797786\"/>\n     <use style=\"fill-opacity:0;stroke:#000000;\" x=\"327.55\" xlink:href=\"#me2df79aa1f\" y=\"165.99039\"/>\n     <use style=\"fill-opacity:0;stroke:#000000;\" x=\"327.55\" xlink:href=\"#me2df79aa1f\" y=\"158.797786\"/>\n     <use style=\"fill-opacity:0;stroke:#000000;\" x=\"327.55\" xlink:href=\"#me2df79aa1f\" y=\"158.797786\"/>\n     <use style=\"fill-opacity:0;stroke:#000000;\" x=\"327.55\" xlink:href=\"#me2df79aa1f\" y=\"169.586692\"/>\n     <use style=\"fill-opacity:0;stroke:#000000;\" x=\"327.55\" xlink:href=\"#me2df79aa1f\" y=\"162.394088\"/>\n     <use style=\"fill-opacity:0;stroke:#000000;\" x=\"327.55\" xlink:href=\"#me2df79aa1f\" y=\"158.797786\"/>\n     <use style=\"fill-opacity:0;stroke:#000000;\" x=\"327.55\" xlink:href=\"#me2df79aa1f\" y=\"158.797786\"/>\n     <use style=\"fill-opacity:0;stroke:#000000;\" x=\"327.55\" xlink:href=\"#me2df79aa1f\" y=\"158.797786\"/>\n     <use style=\"fill-opacity:0;stroke:#000000;\" x=\"327.55\" xlink:href=\"#me2df79aa1f\" y=\"158.797786\"/>\n     <use style=\"fill-opacity:0;stroke:#000000;\" x=\"327.55\" xlink:href=\"#me2df79aa1f\" y=\"158.797786\"/>\n     <use style=\"fill-opacity:0;stroke:#000000;\" x=\"327.55\" xlink:href=\"#me2df79aa1f\" y=\"158.797786\"/>\n     <use style=\"fill-opacity:0;stroke:#000000;\" x=\"327.55\" xlink:href=\"#me2df79aa1f\" y=\"169.586692\"/>\n     <use style=\"fill-opacity:0;stroke:#000000;\" x=\"327.55\" xlink:href=\"#me2df79aa1f\" y=\"158.797786\"/>\n     <use style=\"fill-opacity:0;stroke:#000000;\" x=\"327.55\" xlink:href=\"#me2df79aa1f\" y=\"158.797786\"/>\n     <use style=\"fill-opacity:0;stroke:#000000;\" x=\"327.55\" xlink:href=\"#me2df79aa1f\" y=\"162.394088\"/>\n     <use style=\"fill-opacity:0;stroke:#000000;\" x=\"327.55\" xlink:href=\"#me2df79aa1f\" y=\"165.99039\"/>\n     <use style=\"fill-opacity:0;stroke:#000000;\" x=\"327.55\" xlink:href=\"#me2df79aa1f\" y=\"176.779296\"/>\n     <use style=\"fill-opacity:0;stroke:#000000;\" x=\"327.55\" xlink:href=\"#me2df79aa1f\" y=\"158.797786\"/>\n     <use style=\"fill-opacity:0;stroke:#000000;\" x=\"327.55\" xlink:href=\"#me2df79aa1f\" y=\"158.797786\"/>\n     <use style=\"fill-opacity:0;stroke:#000000;\" x=\"327.55\" xlink:href=\"#me2df79aa1f\" y=\"158.797786\"/>\n     <use style=\"fill-opacity:0;stroke:#000000;\" x=\"327.55\" xlink:href=\"#me2df79aa1f\" y=\"165.99039\"/>\n     <use style=\"fill-opacity:0;stroke:#000000;\" x=\"327.55\" xlink:href=\"#me2df79aa1f\" y=\"162.394088\"/>\n     <use style=\"fill-opacity:0;stroke:#000000;\" x=\"327.55\" xlink:href=\"#me2df79aa1f\" y=\"158.797786\"/>\n     <use style=\"fill-opacity:0;stroke:#000000;\" x=\"327.55\" xlink:href=\"#me2df79aa1f\" y=\"162.394088\"/>\n     <use style=\"fill-opacity:0;stroke:#000000;\" x=\"327.55\" xlink:href=\"#me2df79aa1f\" y=\"158.797786\"/>\n     <use style=\"fill-opacity:0;stroke:#000000;\" x=\"327.55\" xlink:href=\"#me2df79aa1f\" y=\"162.394088\"/>\n     <use style=\"fill-opacity:0;stroke:#000000;\" x=\"327.55\" xlink:href=\"#me2df79aa1f\" y=\"158.797786\"/>\n     <use style=\"fill-opacity:0;stroke:#000000;\" x=\"327.55\" xlink:href=\"#me2df79aa1f\" y=\"158.797786\"/>\n     <use style=\"fill-opacity:0;stroke:#000000;\" x=\"327.55\" xlink:href=\"#me2df79aa1f\" y=\"162.394088\"/>\n     <use style=\"fill-opacity:0;stroke:#000000;\" x=\"327.55\" xlink:href=\"#me2df79aa1f\" y=\"165.99039\"/>\n     <use style=\"fill-opacity:0;stroke:#000000;\" x=\"327.55\" xlink:href=\"#me2df79aa1f\" y=\"158.797786\"/>\n     <use style=\"fill-opacity:0;stroke:#000000;\" x=\"327.55\" xlink:href=\"#me2df79aa1f\" y=\"158.797786\"/>\n     <use style=\"fill-opacity:0;stroke:#000000;\" x=\"327.55\" xlink:href=\"#me2df79aa1f\" y=\"158.797786\"/>\n     <use style=\"fill-opacity:0;stroke:#000000;\" x=\"327.55\" xlink:href=\"#me2df79aa1f\" y=\"158.797786\"/>\n     <use style=\"fill-opacity:0;stroke:#000000;\" x=\"327.55\" xlink:href=\"#me2df79aa1f\" y=\"162.394088\"/>\n     <use style=\"fill-opacity:0;stroke:#000000;\" x=\"327.55\" xlink:href=\"#me2df79aa1f\" y=\"162.394088\"/>\n     <use style=\"fill-opacity:0;stroke:#000000;\" x=\"327.55\" xlink:href=\"#me2df79aa1f\" y=\"158.797786\"/>\n     <use style=\"fill-opacity:0;stroke:#000000;\" x=\"327.55\" xlink:href=\"#me2df79aa1f\" y=\"158.797786\"/>\n     <use style=\"fill-opacity:0;stroke:#000000;\" x=\"327.55\" xlink:href=\"#me2df79aa1f\" y=\"158.797786\"/>\n     <use style=\"fill-opacity:0;stroke:#000000;\" x=\"327.55\" xlink:href=\"#me2df79aa1f\" y=\"158.797786\"/>\n     <use style=\"fill-opacity:0;stroke:#000000;\" x=\"327.55\" xlink:href=\"#me2df79aa1f\" y=\"158.797786\"/>\n     <use style=\"fill-opacity:0;stroke:#000000;\" x=\"327.55\" xlink:href=\"#me2df79aa1f\" y=\"158.797786\"/>\n     <use style=\"fill-opacity:0;stroke:#000000;\" x=\"327.55\" xlink:href=\"#me2df79aa1f\" y=\"162.394088\"/>\n     <use style=\"fill-opacity:0;stroke:#000000;\" x=\"327.55\" xlink:href=\"#me2df79aa1f\" y=\"158.797786\"/>\n     <use style=\"fill-opacity:0;stroke:#000000;\" x=\"327.55\" xlink:href=\"#me2df79aa1f\" y=\"158.797786\"/>\n     <use style=\"fill-opacity:0;stroke:#000000;\" x=\"327.55\" xlink:href=\"#me2df79aa1f\" y=\"162.394088\"/>\n     <use style=\"fill-opacity:0;stroke:#000000;\" x=\"327.55\" xlink:href=\"#me2df79aa1f\" y=\"158.797786\"/>\n     <use style=\"fill-opacity:0;stroke:#000000;\" x=\"327.55\" xlink:href=\"#me2df79aa1f\" y=\"158.797786\"/>\n     <use style=\"fill-opacity:0;stroke:#000000;\" x=\"327.55\" xlink:href=\"#me2df79aa1f\" y=\"162.394088\"/>\n     <use style=\"fill-opacity:0;stroke:#000000;\" x=\"327.55\" xlink:href=\"#me2df79aa1f\" y=\"158.797786\"/>\n     <use style=\"fill-opacity:0;stroke:#000000;\" x=\"327.55\" xlink:href=\"#me2df79aa1f\" y=\"162.394088\"/>\n     <use style=\"fill-opacity:0;stroke:#000000;\" x=\"327.55\" xlink:href=\"#me2df79aa1f\" y=\"158.797786\"/>\n     <use style=\"fill-opacity:0;stroke:#000000;\" x=\"327.55\" xlink:href=\"#me2df79aa1f\" y=\"162.394088\"/>\n     <use style=\"fill-opacity:0;stroke:#000000;\" x=\"327.55\" xlink:href=\"#me2df79aa1f\" y=\"158.797786\"/>\n     <use style=\"fill-opacity:0;stroke:#000000;\" x=\"327.55\" xlink:href=\"#me2df79aa1f\" y=\"158.797786\"/>\n     <use style=\"fill-opacity:0;stroke:#000000;\" x=\"327.55\" xlink:href=\"#me2df79aa1f\" y=\"158.797786\"/>\n     <use style=\"fill-opacity:0;stroke:#000000;\" x=\"327.55\" xlink:href=\"#me2df79aa1f\" y=\"158.797786\"/>\n     <use style=\"fill-opacity:0;stroke:#000000;\" x=\"327.55\" xlink:href=\"#me2df79aa1f\" y=\"158.797786\"/>\n     <use style=\"fill-opacity:0;stroke:#000000;\" x=\"327.55\" xlink:href=\"#me2df79aa1f\" y=\"158.797786\"/>\n     <use style=\"fill-opacity:0;stroke:#000000;\" x=\"327.55\" xlink:href=\"#me2df79aa1f\" y=\"158.797786\"/>\n     <use style=\"fill-opacity:0;stroke:#000000;\" x=\"327.55\" xlink:href=\"#me2df79aa1f\" y=\"183.9719\"/>\n     <use style=\"fill-opacity:0;stroke:#000000;\" x=\"327.55\" xlink:href=\"#me2df79aa1f\" y=\"158.797786\"/>\n     <use style=\"fill-opacity:0;stroke:#000000;\" x=\"327.55\" xlink:href=\"#me2df79aa1f\" y=\"158.797786\"/>\n     <use style=\"fill-opacity:0;stroke:#000000;\" x=\"327.55\" xlink:href=\"#me2df79aa1f\" y=\"158.797786\"/>\n     <use style=\"fill-opacity:0;stroke:#000000;\" x=\"327.55\" xlink:href=\"#me2df79aa1f\" y=\"158.797786\"/>\n     <use style=\"fill-opacity:0;stroke:#000000;\" x=\"327.55\" xlink:href=\"#me2df79aa1f\" y=\"162.394088\"/>\n     <use style=\"fill-opacity:0;stroke:#000000;\" x=\"327.55\" xlink:href=\"#me2df79aa1f\" y=\"158.797786\"/>\n     <use style=\"fill-opacity:0;stroke:#000000;\" x=\"327.55\" xlink:href=\"#me2df79aa1f\" y=\"165.99039\"/>\n     <use style=\"fill-opacity:0;stroke:#000000;\" x=\"327.55\" xlink:href=\"#me2df79aa1f\" y=\"158.797786\"/>\n     <use style=\"fill-opacity:0;stroke:#000000;\" x=\"327.55\" xlink:href=\"#me2df79aa1f\" y=\"162.394088\"/>\n     <use style=\"fill-opacity:0;stroke:#000000;\" x=\"327.55\" xlink:href=\"#me2df79aa1f\" y=\"162.394088\"/>\n     <use style=\"fill-opacity:0;stroke:#000000;\" x=\"327.55\" xlink:href=\"#me2df79aa1f\" y=\"158.797786\"/>\n     <use style=\"fill-opacity:0;stroke:#000000;\" x=\"327.55\" xlink:href=\"#me2df79aa1f\" y=\"162.394088\"/>\n     <use style=\"fill-opacity:0;stroke:#000000;\" x=\"327.55\" xlink:href=\"#me2df79aa1f\" y=\"158.797786\"/>\n     <use style=\"fill-opacity:0;stroke:#000000;\" x=\"327.55\" xlink:href=\"#me2df79aa1f\" y=\"165.99039\"/>\n     <use style=\"fill-opacity:0;stroke:#000000;\" x=\"327.55\" xlink:href=\"#me2df79aa1f\" y=\"158.797786\"/>\n     <use style=\"fill-opacity:0;stroke:#000000;\" x=\"327.55\" xlink:href=\"#me2df79aa1f\" y=\"158.797786\"/>\n     <use style=\"fill-opacity:0;stroke:#000000;\" x=\"327.55\" xlink:href=\"#me2df79aa1f\" y=\"158.797786\"/>\n     <use style=\"fill-opacity:0;stroke:#000000;\" x=\"327.55\" xlink:href=\"#me2df79aa1f\" y=\"162.394088\"/>\n     <use style=\"fill-opacity:0;stroke:#000000;\" x=\"327.55\" xlink:href=\"#me2df79aa1f\" y=\"158.797786\"/>\n     <use style=\"fill-opacity:0;stroke:#000000;\" x=\"327.55\" xlink:href=\"#me2df79aa1f\" y=\"158.797786\"/>\n     <use style=\"fill-opacity:0;stroke:#000000;\" x=\"327.55\" xlink:href=\"#me2df79aa1f\" y=\"165.99039\"/>\n     <use style=\"fill-opacity:0;stroke:#000000;\" x=\"327.55\" xlink:href=\"#me2df79aa1f\" y=\"162.394088\"/>\n     <use style=\"fill-opacity:0;stroke:#000000;\" x=\"327.55\" xlink:href=\"#me2df79aa1f\" y=\"158.797786\"/>\n     <use style=\"fill-opacity:0;stroke:#000000;\" x=\"327.55\" xlink:href=\"#me2df79aa1f\" y=\"158.797786\"/>\n     <use style=\"fill-opacity:0;stroke:#000000;\" x=\"327.55\" xlink:href=\"#me2df79aa1f\" y=\"158.797786\"/>\n     <use style=\"fill-opacity:0;stroke:#000000;\" x=\"327.55\" xlink:href=\"#me2df79aa1f\" y=\"158.797786\"/>\n     <use style=\"fill-opacity:0;stroke:#000000;\" x=\"327.55\" xlink:href=\"#me2df79aa1f\" y=\"158.797786\"/>\n     <use style=\"fill-opacity:0;stroke:#000000;\" x=\"327.55\" xlink:href=\"#me2df79aa1f\" y=\"165.99039\"/>\n     <use style=\"fill-opacity:0;stroke:#000000;\" x=\"327.55\" xlink:href=\"#me2df79aa1f\" y=\"162.394088\"/>\n     <use style=\"fill-opacity:0;stroke:#000000;\" x=\"327.55\" xlink:href=\"#me2df79aa1f\" y=\"158.797786\"/>\n     <use style=\"fill-opacity:0;stroke:#000000;\" x=\"327.55\" xlink:href=\"#me2df79aa1f\" y=\"158.797786\"/>\n     <use style=\"fill-opacity:0;stroke:#000000;\" x=\"327.55\" xlink:href=\"#me2df79aa1f\" y=\"158.797786\"/>\n     <use style=\"fill-opacity:0;stroke:#000000;\" x=\"327.55\" xlink:href=\"#me2df79aa1f\" y=\"173.182994\"/>\n     <use style=\"fill-opacity:0;stroke:#000000;\" x=\"327.55\" xlink:href=\"#me2df79aa1f\" y=\"162.394088\"/>\n     <use style=\"fill-opacity:0;stroke:#000000;\" x=\"327.55\" xlink:href=\"#me2df79aa1f\" y=\"162.394088\"/>\n     <use style=\"fill-opacity:0;stroke:#000000;\" x=\"327.55\" xlink:href=\"#me2df79aa1f\" y=\"162.394088\"/>\n     <use style=\"fill-opacity:0;stroke:#000000;\" x=\"327.55\" xlink:href=\"#me2df79aa1f\" y=\"162.394088\"/>\n     <use style=\"fill-opacity:0;stroke:#000000;\" x=\"327.55\" xlink:href=\"#me2df79aa1f\" y=\"158.797786\"/>\n     <use style=\"fill-opacity:0;stroke:#000000;\" x=\"327.55\" xlink:href=\"#me2df79aa1f\" y=\"169.586692\"/>\n     <use style=\"fill-opacity:0;stroke:#000000;\" x=\"327.55\" xlink:href=\"#me2df79aa1f\" y=\"158.797786\"/>\n     <use style=\"fill-opacity:0;stroke:#000000;\" x=\"327.55\" xlink:href=\"#me2df79aa1f\" y=\"158.797786\"/>\n     <use style=\"fill-opacity:0;stroke:#000000;\" x=\"327.55\" xlink:href=\"#me2df79aa1f\" y=\"158.797786\"/>\n     <use style=\"fill-opacity:0;stroke:#000000;\" x=\"327.55\" xlink:href=\"#me2df79aa1f\" y=\"158.797786\"/>\n     <use style=\"fill-opacity:0;stroke:#000000;\" x=\"327.55\" xlink:href=\"#me2df79aa1f\" y=\"158.797786\"/>\n     <use style=\"fill-opacity:0;stroke:#000000;\" x=\"327.55\" xlink:href=\"#me2df79aa1f\" y=\"158.797786\"/>\n     <use style=\"fill-opacity:0;stroke:#000000;\" x=\"327.55\" xlink:href=\"#me2df79aa1f\" y=\"162.394088\"/>\n     <use style=\"fill-opacity:0;stroke:#000000;\" x=\"327.55\" xlink:href=\"#me2df79aa1f\" y=\"158.797786\"/>\n     <use style=\"fill-opacity:0;stroke:#000000;\" x=\"327.55\" xlink:href=\"#me2df79aa1f\" y=\"158.797786\"/>\n     <use style=\"fill-opacity:0;stroke:#000000;\" x=\"327.55\" xlink:href=\"#me2df79aa1f\" y=\"165.99039\"/>\n     <use style=\"fill-opacity:0;stroke:#000000;\" x=\"327.55\" xlink:href=\"#me2df79aa1f\" y=\"162.394088\"/>\n     <use style=\"fill-opacity:0;stroke:#000000;\" x=\"327.55\" xlink:href=\"#me2df79aa1f\" y=\"158.797786\"/>\n     <use style=\"fill-opacity:0;stroke:#000000;\" x=\"327.55\" xlink:href=\"#me2df79aa1f\" y=\"169.586692\"/>\n     <use style=\"fill-opacity:0;stroke:#000000;\" x=\"327.55\" xlink:href=\"#me2df79aa1f\" y=\"169.586692\"/>\n     <use style=\"fill-opacity:0;stroke:#000000;\" x=\"327.55\" xlink:href=\"#me2df79aa1f\" y=\"162.394088\"/>\n     <use style=\"fill-opacity:0;stroke:#000000;\" x=\"327.55\" xlink:href=\"#me2df79aa1f\" y=\"162.394088\"/>\n     <use style=\"fill-opacity:0;stroke:#000000;\" x=\"327.55\" xlink:href=\"#me2df79aa1f\" y=\"158.797786\"/>\n     <use style=\"fill-opacity:0;stroke:#000000;\" x=\"327.55\" xlink:href=\"#me2df79aa1f\" y=\"158.797786\"/>\n     <use style=\"fill-opacity:0;stroke:#000000;\" x=\"327.55\" xlink:href=\"#me2df79aa1f\" y=\"162.394088\"/>\n     <use style=\"fill-opacity:0;stroke:#000000;\" x=\"327.55\" xlink:href=\"#me2df79aa1f\" y=\"162.394088\"/>\n     <use style=\"fill-opacity:0;stroke:#000000;\" x=\"327.55\" xlink:href=\"#me2df79aa1f\" y=\"158.797786\"/>\n     <use style=\"fill-opacity:0;stroke:#000000;\" x=\"327.55\" xlink:href=\"#me2df79aa1f\" y=\"158.797786\"/>\n     <use style=\"fill-opacity:0;stroke:#000000;\" x=\"327.55\" xlink:href=\"#me2df79aa1f\" y=\"158.797786\"/>\n     <use style=\"fill-opacity:0;stroke:#000000;\" x=\"327.55\" xlink:href=\"#me2df79aa1f\" y=\"158.797786\"/>\n     <use style=\"fill-opacity:0;stroke:#000000;\" x=\"327.55\" xlink:href=\"#me2df79aa1f\" y=\"158.797786\"/>\n     <use style=\"fill-opacity:0;stroke:#000000;\" x=\"327.55\" xlink:href=\"#me2df79aa1f\" y=\"158.797786\"/>\n     <use style=\"fill-opacity:0;stroke:#000000;\" x=\"327.55\" xlink:href=\"#me2df79aa1f\" y=\"158.797786\"/>\n     <use style=\"fill-opacity:0;stroke:#000000;\" x=\"327.55\" xlink:href=\"#me2df79aa1f\" y=\"162.394088\"/>\n     <use style=\"fill-opacity:0;stroke:#000000;\" x=\"327.55\" xlink:href=\"#me2df79aa1f\" y=\"162.394088\"/>\n     <use style=\"fill-opacity:0;stroke:#000000;\" x=\"327.55\" xlink:href=\"#me2df79aa1f\" y=\"158.797786\"/>\n     <use style=\"fill-opacity:0;stroke:#000000;\" x=\"327.55\" xlink:href=\"#me2df79aa1f\" y=\"158.797786\"/>\n     <use style=\"fill-opacity:0;stroke:#000000;\" x=\"327.55\" xlink:href=\"#me2df79aa1f\" y=\"158.797786\"/>\n     <use style=\"fill-opacity:0;stroke:#000000;\" x=\"327.55\" xlink:href=\"#me2df79aa1f\" y=\"162.394088\"/>\n     <use style=\"fill-opacity:0;stroke:#000000;\" x=\"327.55\" xlink:href=\"#me2df79aa1f\" y=\"158.797786\"/>\n     <use style=\"fill-opacity:0;stroke:#000000;\" x=\"327.55\" xlink:href=\"#me2df79aa1f\" y=\"158.797786\"/>\n     <use style=\"fill-opacity:0;stroke:#000000;\" x=\"327.55\" xlink:href=\"#me2df79aa1f\" y=\"162.394088\"/>\n     <use style=\"fill-opacity:0;stroke:#000000;\" x=\"327.55\" xlink:href=\"#me2df79aa1f\" y=\"173.182994\"/>\n     <use style=\"fill-opacity:0;stroke:#000000;\" x=\"327.55\" xlink:href=\"#me2df79aa1f\" y=\"158.797786\"/>\n     <use style=\"fill-opacity:0;stroke:#000000;\" x=\"327.55\" xlink:href=\"#me2df79aa1f\" y=\"158.797786\"/>\n     <use style=\"fill-opacity:0;stroke:#000000;\" x=\"327.55\" xlink:href=\"#me2df79aa1f\" y=\"162.394088\"/>\n     <use style=\"fill-opacity:0;stroke:#000000;\" x=\"327.55\" xlink:href=\"#me2df79aa1f\" y=\"158.797786\"/>\n     <use style=\"fill-opacity:0;stroke:#000000;\" x=\"327.55\" xlink:href=\"#me2df79aa1f\" y=\"165.99039\"/>\n     <use style=\"fill-opacity:0;stroke:#000000;\" x=\"327.55\" xlink:href=\"#me2df79aa1f\" y=\"162.394088\"/>\n     <use style=\"fill-opacity:0;stroke:#000000;\" x=\"327.55\" xlink:href=\"#me2df79aa1f\" y=\"158.797786\"/>\n     <use style=\"fill-opacity:0;stroke:#000000;\" x=\"327.55\" xlink:href=\"#me2df79aa1f\" y=\"158.797786\"/>\n     <use style=\"fill-opacity:0;stroke:#000000;\" x=\"327.55\" xlink:href=\"#me2df79aa1f\" y=\"169.586692\"/>\n     <use style=\"fill-opacity:0;stroke:#000000;\" x=\"327.55\" xlink:href=\"#me2df79aa1f\" y=\"158.797786\"/>\n     <use style=\"fill-opacity:0;stroke:#000000;\" x=\"327.55\" xlink:href=\"#me2df79aa1f\" y=\"162.394088\"/>\n     <use style=\"fill-opacity:0;stroke:#000000;\" x=\"327.55\" xlink:href=\"#me2df79aa1f\" y=\"158.797786\"/>\n     <use style=\"fill-opacity:0;stroke:#000000;\" x=\"327.55\" xlink:href=\"#me2df79aa1f\" y=\"158.797786\"/>\n     <use style=\"fill-opacity:0;stroke:#000000;\" x=\"327.55\" xlink:href=\"#me2df79aa1f\" y=\"158.797786\"/>\n     <use style=\"fill-opacity:0;stroke:#000000;\" x=\"327.55\" xlink:href=\"#me2df79aa1f\" y=\"158.797786\"/>\n     <use style=\"fill-opacity:0;stroke:#000000;\" x=\"327.55\" xlink:href=\"#me2df79aa1f\" y=\"158.797786\"/>\n     <use style=\"fill-opacity:0;stroke:#000000;\" x=\"327.55\" xlink:href=\"#me2df79aa1f\" y=\"162.394088\"/>\n     <use style=\"fill-opacity:0;stroke:#000000;\" x=\"327.55\" xlink:href=\"#me2df79aa1f\" y=\"158.797786\"/>\n     <use style=\"fill-opacity:0;stroke:#000000;\" x=\"327.55\" xlink:href=\"#me2df79aa1f\" y=\"158.797786\"/>\n     <use style=\"fill-opacity:0;stroke:#000000;\" x=\"327.55\" xlink:href=\"#me2df79aa1f\" y=\"162.394088\"/>\n     <use style=\"fill-opacity:0;stroke:#000000;\" x=\"327.55\" xlink:href=\"#me2df79aa1f\" y=\"158.797786\"/>\n     <use style=\"fill-opacity:0;stroke:#000000;\" x=\"327.55\" xlink:href=\"#me2df79aa1f\" y=\"165.99039\"/>\n     <use style=\"fill-opacity:0;stroke:#000000;\" x=\"327.55\" xlink:href=\"#me2df79aa1f\" y=\"162.394088\"/>\n     <use style=\"fill-opacity:0;stroke:#000000;\" x=\"327.55\" xlink:href=\"#me2df79aa1f\" y=\"158.797786\"/>\n     <use style=\"fill-opacity:0;stroke:#000000;\" x=\"327.55\" xlink:href=\"#me2df79aa1f\" y=\"158.797786\"/>\n     <use style=\"fill-opacity:0;stroke:#000000;\" x=\"327.55\" xlink:href=\"#me2df79aa1f\" y=\"162.394088\"/>\n     <use style=\"fill-opacity:0;stroke:#000000;\" x=\"327.55\" xlink:href=\"#me2df79aa1f\" y=\"158.797786\"/>\n     <use style=\"fill-opacity:0;stroke:#000000;\" x=\"327.55\" xlink:href=\"#me2df79aa1f\" y=\"162.394088\"/>\n     <use style=\"fill-opacity:0;stroke:#000000;\" x=\"327.55\" xlink:href=\"#me2df79aa1f\" y=\"158.797786\"/>\n     <use style=\"fill-opacity:0;stroke:#000000;\" x=\"327.55\" xlink:href=\"#me2df79aa1f\" y=\"162.394088\"/>\n     <use style=\"fill-opacity:0;stroke:#000000;\" x=\"327.55\" xlink:href=\"#me2df79aa1f\" y=\"158.797786\"/>\n     <use style=\"fill-opacity:0;stroke:#000000;\" x=\"327.55\" xlink:href=\"#me2df79aa1f\" y=\"158.797786\"/>\n     <use style=\"fill-opacity:0;stroke:#000000;\" x=\"327.55\" xlink:href=\"#me2df79aa1f\" y=\"162.394088\"/>\n     <use style=\"fill-opacity:0;stroke:#000000;\" x=\"327.55\" xlink:href=\"#me2df79aa1f\" y=\"158.797786\"/>\n     <use style=\"fill-opacity:0;stroke:#000000;\" x=\"327.55\" xlink:href=\"#me2df79aa1f\" y=\"158.797786\"/>\n     <use style=\"fill-opacity:0;stroke:#000000;\" x=\"327.55\" xlink:href=\"#me2df79aa1f\" y=\"158.797786\"/>\n     <use style=\"fill-opacity:0;stroke:#000000;\" x=\"327.55\" xlink:href=\"#me2df79aa1f\" y=\"158.797786\"/>\n     <use style=\"fill-opacity:0;stroke:#000000;\" x=\"327.55\" xlink:href=\"#me2df79aa1f\" y=\"158.797786\"/>\n     <use style=\"fill-opacity:0;stroke:#000000;\" x=\"327.55\" xlink:href=\"#me2df79aa1f\" y=\"162.394088\"/>\n     <use style=\"fill-opacity:0;stroke:#000000;\" x=\"327.55\" xlink:href=\"#me2df79aa1f\" y=\"158.797786\"/>\n     <use style=\"fill-opacity:0;stroke:#000000;\" x=\"327.55\" xlink:href=\"#me2df79aa1f\" y=\"158.797786\"/>\n     <use style=\"fill-opacity:0;stroke:#000000;\" x=\"327.55\" xlink:href=\"#me2df79aa1f\" y=\"158.797786\"/>\n     <use style=\"fill-opacity:0;stroke:#000000;\" x=\"327.55\" xlink:href=\"#me2df79aa1f\" y=\"158.797786\"/>\n     <use style=\"fill-opacity:0;stroke:#000000;\" x=\"327.55\" xlink:href=\"#me2df79aa1f\" y=\"162.394088\"/>\n     <use style=\"fill-opacity:0;stroke:#000000;\" x=\"327.55\" xlink:href=\"#me2df79aa1f\" y=\"165.99039\"/>\n     <use style=\"fill-opacity:0;stroke:#000000;\" x=\"327.55\" xlink:href=\"#me2df79aa1f\" y=\"180.375598\"/>\n     <use style=\"fill-opacity:0;stroke:#000000;\" x=\"327.55\" xlink:href=\"#me2df79aa1f\" y=\"158.797786\"/>\n     <use style=\"fill-opacity:0;stroke:#000000;\" x=\"327.55\" xlink:href=\"#me2df79aa1f\" y=\"162.394088\"/>\n     <use style=\"fill-opacity:0;stroke:#000000;\" x=\"327.55\" xlink:href=\"#me2df79aa1f\" y=\"162.394088\"/>\n     <use style=\"fill-opacity:0;stroke:#000000;\" x=\"327.55\" xlink:href=\"#me2df79aa1f\" y=\"158.797786\"/>\n     <use style=\"fill-opacity:0;stroke:#000000;\" x=\"327.55\" xlink:href=\"#me2df79aa1f\" y=\"162.394088\"/>\n     <use style=\"fill-opacity:0;stroke:#000000;\" x=\"327.55\" xlink:href=\"#me2df79aa1f\" y=\"165.99039\"/>\n     <use style=\"fill-opacity:0;stroke:#000000;\" x=\"327.55\" xlink:href=\"#me2df79aa1f\" y=\"158.797786\"/>\n     <use style=\"fill-opacity:0;stroke:#000000;\" x=\"327.55\" xlink:href=\"#me2df79aa1f\" y=\"158.797786\"/>\n     <use style=\"fill-opacity:0;stroke:#000000;\" x=\"327.55\" xlink:href=\"#me2df79aa1f\" y=\"158.797786\"/>\n     <use style=\"fill-opacity:0;stroke:#000000;\" x=\"327.55\" xlink:href=\"#me2df79aa1f\" y=\"158.797786\"/>\n     <use style=\"fill-opacity:0;stroke:#000000;\" x=\"327.55\" xlink:href=\"#me2df79aa1f\" y=\"158.797786\"/>\n     <use style=\"fill-opacity:0;stroke:#000000;\" x=\"327.55\" xlink:href=\"#me2df79aa1f\" y=\"158.797786\"/>\n     <use style=\"fill-opacity:0;stroke:#000000;\" x=\"327.55\" xlink:href=\"#me2df79aa1f\" y=\"165.99039\"/>\n     <use style=\"fill-opacity:0;stroke:#000000;\" x=\"327.55\" xlink:href=\"#me2df79aa1f\" y=\"158.797786\"/>\n     <use style=\"fill-opacity:0;stroke:#000000;\" x=\"327.55\" xlink:href=\"#me2df79aa1f\" y=\"158.797786\"/>\n     <use style=\"fill-opacity:0;stroke:#000000;\" x=\"327.55\" xlink:href=\"#me2df79aa1f\" y=\"169.586692\"/>\n     <use style=\"fill-opacity:0;stroke:#000000;\" x=\"327.55\" xlink:href=\"#me2df79aa1f\" y=\"158.797786\"/>\n     <use style=\"fill-opacity:0;stroke:#000000;\" x=\"327.55\" xlink:href=\"#me2df79aa1f\" y=\"158.797786\"/>\n     <use style=\"fill-opacity:0;stroke:#000000;\" x=\"327.55\" xlink:href=\"#me2df79aa1f\" y=\"158.797786\"/>\n     <use style=\"fill-opacity:0;stroke:#000000;\" x=\"327.55\" xlink:href=\"#me2df79aa1f\" y=\"158.797786\"/>\n     <use style=\"fill-opacity:0;stroke:#000000;\" x=\"327.55\" xlink:href=\"#me2df79aa1f\" y=\"158.797786\"/>\n     <use style=\"fill-opacity:0;stroke:#000000;\" x=\"327.55\" xlink:href=\"#me2df79aa1f\" y=\"162.394088\"/>\n     <use style=\"fill-opacity:0;stroke:#000000;\" x=\"327.55\" xlink:href=\"#me2df79aa1f\" y=\"158.797786\"/>\n     <use style=\"fill-opacity:0;stroke:#000000;\" x=\"327.55\" xlink:href=\"#me2df79aa1f\" y=\"165.99039\"/>\n     <use style=\"fill-opacity:0;stroke:#000000;\" x=\"327.55\" xlink:href=\"#me2df79aa1f\" y=\"158.797786\"/>\n     <use style=\"fill-opacity:0;stroke:#000000;\" x=\"327.55\" xlink:href=\"#me2df79aa1f\" y=\"158.797786\"/>\n     <use style=\"fill-opacity:0;stroke:#000000;\" x=\"327.55\" xlink:href=\"#me2df79aa1f\" y=\"158.797786\"/>\n     <use style=\"fill-opacity:0;stroke:#000000;\" x=\"327.55\" xlink:href=\"#me2df79aa1f\" y=\"158.797786\"/>\n     <use style=\"fill-opacity:0;stroke:#000000;\" x=\"327.55\" xlink:href=\"#me2df79aa1f\" y=\"162.394088\"/>\n     <use style=\"fill-opacity:0;stroke:#000000;\" x=\"327.55\" xlink:href=\"#me2df79aa1f\" y=\"165.99039\"/>\n     <use style=\"fill-opacity:0;stroke:#000000;\" x=\"327.55\" xlink:href=\"#me2df79aa1f\" y=\"83.275444\"/>\n     <use style=\"fill-opacity:0;stroke:#000000;\" x=\"327.55\" xlink:href=\"#me2df79aa1f\" y=\"83.275444\"/>\n     <use style=\"fill-opacity:0;stroke:#000000;\" x=\"327.55\" xlink:href=\"#me2df79aa1f\" y=\"72.486538\"/>\n     <use style=\"fill-opacity:0;stroke:#000000;\" x=\"327.55\" xlink:href=\"#me2df79aa1f\" y=\"76.08284\"/>\n     <use style=\"fill-opacity:0;stroke:#000000;\" x=\"327.55\" xlink:href=\"#me2df79aa1f\" y=\"68.890236\"/>\n     <use style=\"fill-opacity:0;stroke:#000000;\" x=\"327.55\" xlink:href=\"#me2df79aa1f\" y=\"83.275444\"/>\n     <use style=\"fill-opacity:0;stroke:#000000;\" x=\"327.55\" xlink:href=\"#me2df79aa1f\" y=\"83.275444\"/>\n     <use style=\"fill-opacity:0;stroke:#000000;\" x=\"327.55\" xlink:href=\"#me2df79aa1f\" y=\"79.679142\"/>\n     <use style=\"fill-opacity:0;stroke:#000000;\" x=\"327.55\" xlink:href=\"#me2df79aa1f\" y=\"83.275444\"/>\n     <use style=\"fill-opacity:0;stroke:#000000;\" x=\"327.55\" xlink:href=\"#me2df79aa1f\" y=\"72.486538\"/>\n     <use style=\"fill-opacity:0;stroke:#000000;\" x=\"327.55\" xlink:href=\"#me2df79aa1f\" y=\"83.275444\"/>\n     <use style=\"fill-opacity:0;stroke:#000000;\" x=\"327.55\" xlink:href=\"#me2df79aa1f\" y=\"83.275444\"/>\n     <use style=\"fill-opacity:0;stroke:#000000;\" x=\"327.55\" xlink:href=\"#me2df79aa1f\" y=\"83.275444\"/>\n     <use style=\"fill-opacity:0;stroke:#000000;\" x=\"327.55\" xlink:href=\"#me2df79aa1f\" y=\"83.275444\"/>\n     <use style=\"fill-opacity:0;stroke:#000000;\" x=\"327.55\" xlink:href=\"#me2df79aa1f\" y=\"83.275444\"/>\n     <use style=\"fill-opacity:0;stroke:#000000;\" x=\"327.55\" xlink:href=\"#me2df79aa1f\" y=\"83.275444\"/>\n     <use style=\"fill-opacity:0;stroke:#000000;\" x=\"327.55\" xlink:href=\"#me2df79aa1f\" y=\"58.10133\"/>\n     <use style=\"fill-opacity:0;stroke:#000000;\" x=\"327.55\" xlink:href=\"#me2df79aa1f\" y=\"68.890236\"/>\n     <use style=\"fill-opacity:0;stroke:#000000;\" x=\"327.55\" xlink:href=\"#me2df79aa1f\" y=\"79.679142\"/>\n     <use style=\"fill-opacity:0;stroke:#000000;\" x=\"327.55\" xlink:href=\"#me2df79aa1f\" y=\"83.275444\"/>\n     <use style=\"fill-opacity:0;stroke:#000000;\" x=\"327.55\" xlink:href=\"#me2df79aa1f\" y=\"61.697632\"/>\n     <use style=\"fill-opacity:0;stroke:#000000;\" x=\"327.55\" xlink:href=\"#me2df79aa1f\" y=\"50.908726\"/>\n     <use style=\"fill-opacity:0;stroke:#000000;\" x=\"327.55\" xlink:href=\"#me2df79aa1f\" y=\"79.679142\"/>\n     <use style=\"fill-opacity:0;stroke:#000000;\" x=\"327.55\" xlink:href=\"#me2df79aa1f\" y=\"83.275444\"/>\n     <use style=\"fill-opacity:0;stroke:#000000;\" x=\"327.55\" xlink:href=\"#me2df79aa1f\" y=\"83.275444\"/>\n     <use style=\"fill-opacity:0;stroke:#000000;\" x=\"327.55\" xlink:href=\"#me2df79aa1f\" y=\"76.08284\"/>\n     <use style=\"fill-opacity:0;stroke:#000000;\" x=\"327.55\" xlink:href=\"#me2df79aa1f\" y=\"79.679142\"/>\n     <use style=\"fill-opacity:0;stroke:#000000;\" x=\"327.55\" xlink:href=\"#me2df79aa1f\" y=\"83.275444\"/>\n     <use style=\"fill-opacity:0;stroke:#000000;\" x=\"327.55\" xlink:href=\"#me2df79aa1f\" y=\"83.275444\"/>\n     <use style=\"fill-opacity:0;stroke:#000000;\" x=\"327.55\" xlink:href=\"#me2df79aa1f\" y=\"68.890236\"/>\n     <use style=\"fill-opacity:0;stroke:#000000;\" x=\"327.55\" xlink:href=\"#me2df79aa1f\" y=\"76.08284\"/>\n     <use style=\"fill-opacity:0;stroke:#000000;\" x=\"327.55\" xlink:href=\"#me2df79aa1f\" y=\"83.275444\"/>\n     <use style=\"fill-opacity:0;stroke:#000000;\" x=\"327.55\" xlink:href=\"#me2df79aa1f\" y=\"83.275444\"/>\n     <use style=\"fill-opacity:0;stroke:#000000;\" x=\"327.55\" xlink:href=\"#me2df79aa1f\" y=\"83.275444\"/>\n     <use style=\"fill-opacity:0;stroke:#000000;\" x=\"327.55\" xlink:href=\"#me2df79aa1f\" y=\"79.679142\"/>\n     <use style=\"fill-opacity:0;stroke:#000000;\" x=\"327.55\" xlink:href=\"#me2df79aa1f\" y=\"79.679142\"/>\n     <use style=\"fill-opacity:0;stroke:#000000;\" x=\"327.55\" xlink:href=\"#me2df79aa1f\" y=\"79.679142\"/>\n     <use style=\"fill-opacity:0;stroke:#000000;\" x=\"327.55\" xlink:href=\"#me2df79aa1f\" y=\"83.275444\"/>\n     <use style=\"fill-opacity:0;stroke:#000000;\" x=\"327.55\" xlink:href=\"#me2df79aa1f\" y=\"68.890236\"/>\n     <use style=\"fill-opacity:0;stroke:#000000;\" x=\"327.55\" xlink:href=\"#me2df79aa1f\" y=\"76.08284\"/>\n     <use style=\"fill-opacity:0;stroke:#000000;\" x=\"327.55\" xlink:href=\"#me2df79aa1f\" y=\"83.275444\"/>\n     <use style=\"fill-opacity:0;stroke:#000000;\" x=\"327.55\" xlink:href=\"#me2df79aa1f\" y=\"61.697632\"/>\n     <use style=\"fill-opacity:0;stroke:#000000;\" x=\"327.55\" xlink:href=\"#me2df79aa1f\" y=\"79.679142\"/>\n     <use style=\"fill-opacity:0;stroke:#000000;\" x=\"327.55\" xlink:href=\"#me2df79aa1f\" y=\"61.697632\"/>\n     <use style=\"fill-opacity:0;stroke:#000000;\" x=\"327.55\" xlink:href=\"#me2df79aa1f\" y=\"79.679142\"/>\n     <use style=\"fill-opacity:0;stroke:#000000;\" x=\"327.55\" xlink:href=\"#me2df79aa1f\" y=\"79.679142\"/>\n     <use style=\"fill-opacity:0;stroke:#000000;\" x=\"327.55\" xlink:href=\"#me2df79aa1f\" y=\"79.679142\"/>\n     <use style=\"fill-opacity:0;stroke:#000000;\" x=\"327.55\" xlink:href=\"#me2df79aa1f\" y=\"79.679142\"/>\n     <use style=\"fill-opacity:0;stroke:#000000;\" x=\"327.55\" xlink:href=\"#me2df79aa1f\" y=\"83.275444\"/>\n     <use style=\"fill-opacity:0;stroke:#000000;\" x=\"327.55\" xlink:href=\"#me2df79aa1f\" y=\"83.275444\"/>\n     <use style=\"fill-opacity:0;stroke:#000000;\" x=\"327.55\" xlink:href=\"#me2df79aa1f\" y=\"83.275444\"/>\n     <use style=\"fill-opacity:0;stroke:#000000;\" x=\"327.55\" xlink:href=\"#me2df79aa1f\" y=\"79.679142\"/>\n     <use style=\"fill-opacity:0;stroke:#000000;\" x=\"327.55\" xlink:href=\"#me2df79aa1f\" y=\"79.679142\"/>\n     <use style=\"fill-opacity:0;stroke:#000000;\" x=\"327.55\" xlink:href=\"#me2df79aa1f\" y=\"76.08284\"/>\n     <use style=\"fill-opacity:0;stroke:#000000;\" x=\"327.55\" xlink:href=\"#me2df79aa1f\" y=\"83.275444\"/>\n     <use style=\"fill-opacity:0;stroke:#000000;\" x=\"327.55\" xlink:href=\"#me2df79aa1f\" y=\"32.927216\"/>\n     <use style=\"fill-opacity:0;stroke:#000000;\" x=\"327.55\" xlink:href=\"#me2df79aa1f\" y=\"83.275444\"/>\n     <use style=\"fill-opacity:0;stroke:#000000;\" x=\"327.55\" xlink:href=\"#me2df79aa1f\" y=\"76.08284\"/>\n     <use style=\"fill-opacity:0;stroke:#000000;\" x=\"327.55\" xlink:href=\"#me2df79aa1f\" y=\"79.679142\"/>\n     <use style=\"fill-opacity:0;stroke:#000000;\" x=\"327.55\" xlink:href=\"#me2df79aa1f\" y=\"83.275444\"/>\n     <use style=\"fill-opacity:0;stroke:#000000;\" x=\"327.55\" xlink:href=\"#me2df79aa1f\" y=\"76.08284\"/>\n     <use style=\"fill-opacity:0;stroke:#000000;\" x=\"327.55\" xlink:href=\"#me2df79aa1f\" y=\"83.275444\"/>\n     <use style=\"fill-opacity:0;stroke:#000000;\" x=\"327.55\" xlink:href=\"#me2df79aa1f\" y=\"79.679142\"/>\n     <use style=\"fill-opacity:0;stroke:#000000;\" x=\"327.55\" xlink:href=\"#me2df79aa1f\" y=\"72.486538\"/>\n     <use style=\"fill-opacity:0;stroke:#000000;\" x=\"327.55\" xlink:href=\"#me2df79aa1f\" y=\"83.275444\"/>\n     <use style=\"fill-opacity:0;stroke:#000000;\" x=\"327.55\" xlink:href=\"#me2df79aa1f\" y=\"65.293934\"/>\n     <use style=\"fill-opacity:0;stroke:#000000;\" x=\"327.55\" xlink:href=\"#me2df79aa1f\" y=\"68.890236\"/>\n     <use style=\"fill-opacity:0;stroke:#000000;\" x=\"327.55\" xlink:href=\"#me2df79aa1f\" y=\"79.679142\"/>\n     <use style=\"fill-opacity:0;stroke:#000000;\" x=\"327.55\" xlink:href=\"#me2df79aa1f\" y=\"83.275444\"/>\n     <use style=\"fill-opacity:0;stroke:#000000;\" x=\"327.55\" xlink:href=\"#me2df79aa1f\" y=\"79.679142\"/>\n     <use style=\"fill-opacity:0;stroke:#000000;\" x=\"327.55\" xlink:href=\"#me2df79aa1f\" y=\"83.275444\"/>\n     <use style=\"fill-opacity:0;stroke:#000000;\" x=\"327.55\" xlink:href=\"#me2df79aa1f\" y=\"83.275444\"/>\n     <use style=\"fill-opacity:0;stroke:#000000;\" x=\"327.55\" xlink:href=\"#me2df79aa1f\" y=\"83.275444\"/>\n     <use style=\"fill-opacity:0;stroke:#000000;\" x=\"327.55\" xlink:href=\"#me2df79aa1f\" y=\"79.679142\"/>\n     <use style=\"fill-opacity:0;stroke:#000000;\" x=\"327.55\" xlink:href=\"#me2df79aa1f\" y=\"72.486538\"/>\n     <use style=\"fill-opacity:0;stroke:#000000;\" x=\"327.55\" xlink:href=\"#me2df79aa1f\" y=\"79.679142\"/>\n     <use style=\"fill-opacity:0;stroke:#000000;\" x=\"327.55\" xlink:href=\"#me2df79aa1f\" y=\"79.679142\"/>\n     <use style=\"fill-opacity:0;stroke:#000000;\" x=\"327.55\" xlink:href=\"#me2df79aa1f\" y=\"83.275444\"/>\n     <use style=\"fill-opacity:0;stroke:#000000;\" x=\"327.55\" xlink:href=\"#me2df79aa1f\" y=\"79.679142\"/>\n     <use style=\"fill-opacity:0;stroke:#000000;\" x=\"327.55\" xlink:href=\"#me2df79aa1f\" y=\"72.486538\"/>\n     <use style=\"fill-opacity:0;stroke:#000000;\" x=\"327.55\" xlink:href=\"#me2df79aa1f\" y=\"83.275444\"/>\n     <use style=\"fill-opacity:0;stroke:#000000;\" x=\"327.55\" xlink:href=\"#me2df79aa1f\" y=\"79.679142\"/>\n     <use style=\"fill-opacity:0;stroke:#000000;\" x=\"327.55\" xlink:href=\"#me2df79aa1f\" y=\"83.275444\"/>\n     <use style=\"fill-opacity:0;stroke:#000000;\" x=\"327.55\" xlink:href=\"#me2df79aa1f\" y=\"68.890236\"/>\n     <use style=\"fill-opacity:0;stroke:#000000;\" x=\"327.55\" xlink:href=\"#me2df79aa1f\" y=\"83.275444\"/>\n     <use style=\"fill-opacity:0;stroke:#000000;\" x=\"327.55\" xlink:href=\"#me2df79aa1f\" y=\"83.275444\"/>\n     <use style=\"fill-opacity:0;stroke:#000000;\" x=\"327.55\" xlink:href=\"#me2df79aa1f\" y=\"76.08284\"/>\n     <use style=\"fill-opacity:0;stroke:#000000;\" x=\"327.55\" xlink:href=\"#me2df79aa1f\" y=\"83.275444\"/>\n     <use style=\"fill-opacity:0;stroke:#000000;\" x=\"327.55\" xlink:href=\"#me2df79aa1f\" y=\"83.275444\"/>\n     <use style=\"fill-opacity:0;stroke:#000000;\" x=\"327.55\" xlink:href=\"#me2df79aa1f\" y=\"65.293934\"/>\n     <use style=\"fill-opacity:0;stroke:#000000;\" x=\"327.55\" xlink:href=\"#me2df79aa1f\" y=\"79.679142\"/>\n     <use style=\"fill-opacity:0;stroke:#000000;\" x=\"327.55\" xlink:href=\"#me2df79aa1f\" y=\"72.486538\"/>\n     <use style=\"fill-opacity:0;stroke:#000000;\" x=\"327.55\" xlink:href=\"#me2df79aa1f\" y=\"76.08284\"/>\n     <use style=\"fill-opacity:0;stroke:#000000;\" x=\"327.55\" xlink:href=\"#me2df79aa1f\" y=\"83.275444\"/>\n     <use style=\"fill-opacity:0;stroke:#000000;\" x=\"327.55\" xlink:href=\"#me2df79aa1f\" y=\"83.275444\"/>\n     <use style=\"fill-opacity:0;stroke:#000000;\" x=\"327.55\" xlink:href=\"#me2df79aa1f\" y=\"83.275444\"/>\n     <use style=\"fill-opacity:0;stroke:#000000;\" x=\"327.55\" xlink:href=\"#me2df79aa1f\" y=\"79.679142\"/>\n     <use style=\"fill-opacity:0;stroke:#000000;\" x=\"327.55\" xlink:href=\"#me2df79aa1f\" y=\"54.505028\"/>\n     <use style=\"fill-opacity:0;stroke:#000000;\" x=\"327.55\" xlink:href=\"#me2df79aa1f\" y=\"72.486538\"/>\n     <use style=\"fill-opacity:0;stroke:#000000;\" x=\"327.55\" xlink:href=\"#me2df79aa1f\" y=\"83.275444\"/>\n     <use style=\"fill-opacity:0;stroke:#000000;\" x=\"327.55\" xlink:href=\"#me2df79aa1f\" y=\"83.275444\"/>\n     <use style=\"fill-opacity:0;stroke:#000000;\" x=\"327.55\" xlink:href=\"#me2df79aa1f\" y=\"68.890236\"/>\n     <use style=\"fill-opacity:0;stroke:#000000;\" x=\"327.55\" xlink:href=\"#me2df79aa1f\" y=\"83.275444\"/>\n     <use style=\"fill-opacity:0;stroke:#000000;\" x=\"327.55\" xlink:href=\"#me2df79aa1f\" y=\"79.679142\"/>\n     <use style=\"fill-opacity:0;stroke:#000000;\" x=\"327.55\" xlink:href=\"#me2df79aa1f\" y=\"68.890236\"/>\n     <use style=\"fill-opacity:0;stroke:#000000;\" x=\"327.55\" xlink:href=\"#me2df79aa1f\" y=\"83.275444\"/>\n     <use style=\"fill-opacity:0;stroke:#000000;\" x=\"327.55\" xlink:href=\"#me2df79aa1f\" y=\"83.275444\"/>\n     <use style=\"fill-opacity:0;stroke:#000000;\" x=\"327.55\" xlink:href=\"#me2df79aa1f\" y=\"79.679142\"/>\n     <use style=\"fill-opacity:0;stroke:#000000;\" x=\"327.55\" xlink:href=\"#me2df79aa1f\" y=\"83.275444\"/>\n     <use style=\"fill-opacity:0;stroke:#000000;\" x=\"327.55\" xlink:href=\"#me2df79aa1f\" y=\"83.275444\"/>\n     <use style=\"fill-opacity:0;stroke:#000000;\" x=\"327.55\" xlink:href=\"#me2df79aa1f\" y=\"83.275444\"/>\n     <use style=\"fill-opacity:0;stroke:#000000;\" x=\"327.55\" xlink:href=\"#me2df79aa1f\" y=\"83.275444\"/>\n     <use style=\"fill-opacity:0;stroke:#000000;\" x=\"327.55\" xlink:href=\"#me2df79aa1f\" y=\"79.679142\"/>\n     <use style=\"fill-opacity:0;stroke:#000000;\" x=\"327.55\" xlink:href=\"#me2df79aa1f\" y=\"83.275444\"/>\n     <use style=\"fill-opacity:0;stroke:#000000;\" x=\"327.55\" xlink:href=\"#me2df79aa1f\" y=\"79.679142\"/>\n     <use style=\"fill-opacity:0;stroke:#000000;\" x=\"327.55\" xlink:href=\"#me2df79aa1f\" y=\"83.275444\"/>\n     <use style=\"fill-opacity:0;stroke:#000000;\" x=\"327.55\" xlink:href=\"#me2df79aa1f\" y=\"83.275444\"/>\n     <use style=\"fill-opacity:0;stroke:#000000;\" x=\"327.55\" xlink:href=\"#me2df79aa1f\" y=\"83.275444\"/>\n     <use style=\"fill-opacity:0;stroke:#000000;\" x=\"327.55\" xlink:href=\"#me2df79aa1f\" y=\"72.486538\"/>\n     <use style=\"fill-opacity:0;stroke:#000000;\" x=\"327.55\" xlink:href=\"#me2df79aa1f\" y=\"83.275444\"/>\n     <use style=\"fill-opacity:0;stroke:#000000;\" x=\"327.55\" xlink:href=\"#me2df79aa1f\" y=\"79.679142\"/>\n     <use style=\"fill-opacity:0;stroke:#000000;\" x=\"327.55\" xlink:href=\"#me2df79aa1f\" y=\"68.890236\"/>\n     <use style=\"fill-opacity:0;stroke:#000000;\" x=\"327.55\" xlink:href=\"#me2df79aa1f\" y=\"83.275444\"/>\n     <use style=\"fill-opacity:0;stroke:#000000;\" x=\"327.55\" xlink:href=\"#me2df79aa1f\" y=\"76.08284\"/>\n     <use style=\"fill-opacity:0;stroke:#000000;\" x=\"327.55\" xlink:href=\"#me2df79aa1f\" y=\"76.08284\"/>\n     <use style=\"fill-opacity:0;stroke:#000000;\" x=\"327.55\" xlink:href=\"#me2df79aa1f\" y=\"83.275444\"/>\n     <use style=\"fill-opacity:0;stroke:#000000;\" x=\"327.55\" xlink:href=\"#me2df79aa1f\" y=\"83.275444\"/>\n     <use style=\"fill-opacity:0;stroke:#000000;\" x=\"327.55\" xlink:href=\"#me2df79aa1f\" y=\"83.275444\"/>\n     <use style=\"fill-opacity:0;stroke:#000000;\" x=\"327.55\" xlink:href=\"#me2df79aa1f\" y=\"83.275444\"/>\n     <use style=\"fill-opacity:0;stroke:#000000;\" x=\"327.55\" xlink:href=\"#me2df79aa1f\" y=\"79.679142\"/>\n     <use style=\"fill-opacity:0;stroke:#000000;\" x=\"327.55\" xlink:href=\"#me2df79aa1f\" y=\"79.679142\"/>\n     <use style=\"fill-opacity:0;stroke:#000000;\" x=\"327.55\" xlink:href=\"#me2df79aa1f\" y=\"79.679142\"/>\n     <use style=\"fill-opacity:0;stroke:#000000;\" x=\"327.55\" xlink:href=\"#me2df79aa1f\" y=\"79.679142\"/>\n     <use style=\"fill-opacity:0;stroke:#000000;\" x=\"327.55\" xlink:href=\"#me2df79aa1f\" y=\"79.679142\"/>\n     <use style=\"fill-opacity:0;stroke:#000000;\" x=\"327.55\" xlink:href=\"#me2df79aa1f\" y=\"83.275444\"/>\n     <use style=\"fill-opacity:0;stroke:#000000;\" x=\"327.55\" xlink:href=\"#me2df79aa1f\" y=\"76.08284\"/>\n     <use style=\"fill-opacity:0;stroke:#000000;\" x=\"327.55\" xlink:href=\"#me2df79aa1f\" y=\"79.679142\"/>\n     <use style=\"fill-opacity:0;stroke:#000000;\" x=\"327.55\" xlink:href=\"#me2df79aa1f\" y=\"83.275444\"/>\n     <use style=\"fill-opacity:0;stroke:#000000;\" x=\"327.55\" xlink:href=\"#me2df79aa1f\" y=\"83.275444\"/>\n     <use style=\"fill-opacity:0;stroke:#000000;\" x=\"327.55\" xlink:href=\"#me2df79aa1f\" y=\"76.08284\"/>\n     <use style=\"fill-opacity:0;stroke:#000000;\" x=\"327.55\" xlink:href=\"#me2df79aa1f\" y=\"83.275444\"/>\n     <use style=\"fill-opacity:0;stroke:#000000;\" x=\"327.55\" xlink:href=\"#me2df79aa1f\" y=\"79.679142\"/>\n     <use style=\"fill-opacity:0;stroke:#000000;\" x=\"327.55\" xlink:href=\"#me2df79aa1f\" y=\"83.275444\"/>\n     <use style=\"fill-opacity:0;stroke:#000000;\" x=\"327.55\" xlink:href=\"#me2df79aa1f\" y=\"68.890236\"/>\n     <use style=\"fill-opacity:0;stroke:#000000;\" x=\"327.55\" xlink:href=\"#me2df79aa1f\" y=\"79.679142\"/>\n     <use style=\"fill-opacity:0;stroke:#000000;\" x=\"327.55\" xlink:href=\"#me2df79aa1f\" y=\"76.08284\"/>\n     <use style=\"fill-opacity:0;stroke:#000000;\" x=\"327.55\" xlink:href=\"#me2df79aa1f\" y=\"83.275444\"/>\n     <use style=\"fill-opacity:0;stroke:#000000;\" x=\"327.55\" xlink:href=\"#me2df79aa1f\" y=\"58.10133\"/>\n     <use style=\"fill-opacity:0;stroke:#000000;\" x=\"327.55\" xlink:href=\"#me2df79aa1f\" y=\"72.486538\"/>\n     <use style=\"fill-opacity:0;stroke:#000000;\" x=\"327.55\" xlink:href=\"#me2df79aa1f\" y=\"76.08284\"/>\n     <use style=\"fill-opacity:0;stroke:#000000;\" x=\"327.55\" xlink:href=\"#me2df79aa1f\" y=\"79.679142\"/>\n     <use style=\"fill-opacity:0;stroke:#000000;\" x=\"327.55\" xlink:href=\"#me2df79aa1f\" y=\"79.679142\"/>\n     <use style=\"fill-opacity:0;stroke:#000000;\" x=\"327.55\" xlink:href=\"#me2df79aa1f\" y=\"83.275444\"/>\n     <use style=\"fill-opacity:0;stroke:#000000;\" x=\"327.55\" xlink:href=\"#me2df79aa1f\" y=\"79.679142\"/>\n     <use style=\"fill-opacity:0;stroke:#000000;\" x=\"327.55\" xlink:href=\"#me2df79aa1f\" y=\"83.275444\"/>\n     <use style=\"fill-opacity:0;stroke:#000000;\" x=\"327.55\" xlink:href=\"#me2df79aa1f\" y=\"76.08284\"/>\n     <use style=\"fill-opacity:0;stroke:#000000;\" x=\"327.55\" xlink:href=\"#me2df79aa1f\" y=\"83.275444\"/>\n     <use style=\"fill-opacity:0;stroke:#000000;\" x=\"327.55\" xlink:href=\"#me2df79aa1f\" y=\"83.275444\"/>\n     <use style=\"fill-opacity:0;stroke:#000000;\" x=\"327.55\" xlink:href=\"#me2df79aa1f\" y=\"83.275444\"/>\n     <use style=\"fill-opacity:0;stroke:#000000;\" x=\"327.55\" xlink:href=\"#me2df79aa1f\" y=\"68.890236\"/>\n     <use style=\"fill-opacity:0;stroke:#000000;\" x=\"327.55\" xlink:href=\"#me2df79aa1f\" y=\"79.679142\"/>\n     <use style=\"fill-opacity:0;stroke:#000000;\" x=\"327.55\" xlink:href=\"#me2df79aa1f\" y=\"83.275444\"/>\n     <use style=\"fill-opacity:0;stroke:#000000;\" x=\"327.55\" xlink:href=\"#me2df79aa1f\" y=\"79.679142\"/>\n     <use style=\"fill-opacity:0;stroke:#000000;\" x=\"327.55\" xlink:href=\"#me2df79aa1f\" y=\"83.275444\"/>\n     <use style=\"fill-opacity:0;stroke:#000000;\" x=\"327.55\" xlink:href=\"#me2df79aa1f\" y=\"76.08284\"/>\n     <use style=\"fill-opacity:0;stroke:#000000;\" x=\"327.55\" xlink:href=\"#me2df79aa1f\" y=\"83.275444\"/>\n     <use style=\"fill-opacity:0;stroke:#000000;\" x=\"327.55\" xlink:href=\"#me2df79aa1f\" y=\"83.275444\"/>\n     <use style=\"fill-opacity:0;stroke:#000000;\" x=\"327.55\" xlink:href=\"#me2df79aa1f\" y=\"79.679142\"/>\n     <use style=\"fill-opacity:0;stroke:#000000;\" x=\"327.55\" xlink:href=\"#me2df79aa1f\" y=\"83.275444\"/>\n     <use style=\"fill-opacity:0;stroke:#000000;\" x=\"327.55\" xlink:href=\"#me2df79aa1f\" y=\"83.275444\"/>\n     <use style=\"fill-opacity:0;stroke:#000000;\" x=\"327.55\" xlink:href=\"#me2df79aa1f\" y=\"83.275444\"/>\n     <use style=\"fill-opacity:0;stroke:#000000;\" x=\"327.55\" xlink:href=\"#me2df79aa1f\" y=\"83.275444\"/>\n     <use style=\"fill-opacity:0;stroke:#000000;\" x=\"327.55\" xlink:href=\"#me2df79aa1f\" y=\"79.679142\"/>\n     <use style=\"fill-opacity:0;stroke:#000000;\" x=\"327.55\" xlink:href=\"#me2df79aa1f\" y=\"83.275444\"/>\n     <use style=\"fill-opacity:0;stroke:#000000;\" x=\"327.55\" xlink:href=\"#me2df79aa1f\" y=\"79.679142\"/>\n     <use style=\"fill-opacity:0;stroke:#000000;\" x=\"327.55\" xlink:href=\"#me2df79aa1f\" y=\"79.679142\"/>\n     <use style=\"fill-opacity:0;stroke:#000000;\" x=\"327.55\" xlink:href=\"#me2df79aa1f\" y=\"76.08284\"/>\n     <use style=\"fill-opacity:0;stroke:#000000;\" x=\"327.55\" xlink:href=\"#me2df79aa1f\" y=\"79.679142\"/>\n     <use style=\"fill-opacity:0;stroke:#000000;\" x=\"327.55\" xlink:href=\"#me2df79aa1f\" y=\"76.08284\"/>\n     <use style=\"fill-opacity:0;stroke:#000000;\" x=\"327.55\" xlink:href=\"#me2df79aa1f\" y=\"79.679142\"/>\n     <use style=\"fill-opacity:0;stroke:#000000;\" x=\"327.55\" xlink:href=\"#me2df79aa1f\" y=\"83.275444\"/>\n     <use style=\"fill-opacity:0;stroke:#000000;\" x=\"327.55\" xlink:href=\"#me2df79aa1f\" y=\"83.275444\"/>\n     <use style=\"fill-opacity:0;stroke:#000000;\" x=\"327.55\" xlink:href=\"#me2df79aa1f\" y=\"83.275444\"/>\n     <use style=\"fill-opacity:0;stroke:#000000;\" x=\"327.55\" xlink:href=\"#me2df79aa1f\" y=\"79.679142\"/>\n     <use style=\"fill-opacity:0;stroke:#000000;\" x=\"327.55\" xlink:href=\"#me2df79aa1f\" y=\"83.275444\"/>\n     <use style=\"fill-opacity:0;stroke:#000000;\" x=\"327.55\" xlink:href=\"#me2df79aa1f\" y=\"83.275444\"/>\n     <use style=\"fill-opacity:0;stroke:#000000;\" x=\"327.55\" xlink:href=\"#me2df79aa1f\" y=\"72.486538\"/>\n     <use style=\"fill-opacity:0;stroke:#000000;\" x=\"327.55\" xlink:href=\"#me2df79aa1f\" y=\"83.275444\"/>\n     <use style=\"fill-opacity:0;stroke:#000000;\" x=\"327.55\" xlink:href=\"#me2df79aa1f\" y=\"83.275444\"/>\n     <use style=\"fill-opacity:0;stroke:#000000;\" x=\"327.55\" xlink:href=\"#me2df79aa1f\" y=\"83.275444\"/>\n     <use style=\"fill-opacity:0;stroke:#000000;\" x=\"327.55\" xlink:href=\"#me2df79aa1f\" y=\"83.275444\"/>\n     <use style=\"fill-opacity:0;stroke:#000000;\" x=\"327.55\" xlink:href=\"#me2df79aa1f\" y=\"79.679142\"/>\n     <use style=\"fill-opacity:0;stroke:#000000;\" x=\"327.55\" xlink:href=\"#me2df79aa1f\" y=\"76.08284\"/>\n     <use style=\"fill-opacity:0;stroke:#000000;\" x=\"327.55\" xlink:href=\"#me2df79aa1f\" y=\"76.08284\"/>\n     <use style=\"fill-opacity:0;stroke:#000000;\" x=\"327.55\" xlink:href=\"#me2df79aa1f\" y=\"65.293934\"/>\n     <use style=\"fill-opacity:0;stroke:#000000;\" x=\"327.55\" xlink:href=\"#me2df79aa1f\" y=\"79.679142\"/>\n     <use style=\"fill-opacity:0;stroke:#000000;\" x=\"327.55\" xlink:href=\"#me2df79aa1f\" y=\"83.275444\"/>\n     <use style=\"fill-opacity:0;stroke:#000000;\" x=\"327.55\" xlink:href=\"#me2df79aa1f\" y=\"83.275444\"/>\n     <use style=\"fill-opacity:0;stroke:#000000;\" x=\"327.55\" xlink:href=\"#me2df79aa1f\" y=\"79.679142\"/>\n     <use style=\"fill-opacity:0;stroke:#000000;\" x=\"327.55\" xlink:href=\"#me2df79aa1f\" y=\"83.275444\"/>\n     <use style=\"fill-opacity:0;stroke:#000000;\" x=\"327.55\" xlink:href=\"#me2df79aa1f\" y=\"61.697632\"/>\n     <use style=\"fill-opacity:0;stroke:#000000;\" x=\"327.55\" xlink:href=\"#me2df79aa1f\" y=\"83.275444\"/>\n     <use style=\"fill-opacity:0;stroke:#000000;\" x=\"327.55\" xlink:href=\"#me2df79aa1f\" y=\"83.275444\"/>\n     <use style=\"fill-opacity:0;stroke:#000000;\" x=\"327.55\" xlink:href=\"#me2df79aa1f\" y=\"83.275444\"/>\n     <use style=\"fill-opacity:0;stroke:#000000;\" x=\"327.55\" xlink:href=\"#me2df79aa1f\" y=\"58.10133\"/>\n     <use style=\"fill-opacity:0;stroke:#000000;\" x=\"327.55\" xlink:href=\"#me2df79aa1f\" y=\"79.679142\"/>\n     <use style=\"fill-opacity:0;stroke:#000000;\" x=\"327.55\" xlink:href=\"#me2df79aa1f\" y=\"72.486538\"/>\n     <use style=\"fill-opacity:0;stroke:#000000;\" x=\"327.55\" xlink:href=\"#me2df79aa1f\" y=\"83.275444\"/>\n     <use style=\"fill-opacity:0;stroke:#000000;\" x=\"327.55\" xlink:href=\"#me2df79aa1f\" y=\"83.275444\"/>\n     <use style=\"fill-opacity:0;stroke:#000000;\" x=\"327.55\" xlink:href=\"#me2df79aa1f\" y=\"68.890236\"/>\n     <use style=\"fill-opacity:0;stroke:#000000;\" x=\"327.55\" xlink:href=\"#me2df79aa1f\" y=\"83.275444\"/>\n     <use style=\"fill-opacity:0;stroke:#000000;\" x=\"327.55\" xlink:href=\"#me2df79aa1f\" y=\"83.275444\"/>\n     <use style=\"fill-opacity:0;stroke:#000000;\" x=\"327.55\" xlink:href=\"#me2df79aa1f\" y=\"79.679142\"/>\n     <use style=\"fill-opacity:0;stroke:#000000;\" x=\"327.55\" xlink:href=\"#me2df79aa1f\" y=\"79.679142\"/>\n     <use style=\"fill-opacity:0;stroke:#000000;\" x=\"327.55\" xlink:href=\"#me2df79aa1f\" y=\"76.08284\"/>\n     <use style=\"fill-opacity:0;stroke:#000000;\" x=\"327.55\" xlink:href=\"#me2df79aa1f\" y=\"83.275444\"/>\n     <use style=\"fill-opacity:0;stroke:#000000;\" x=\"327.55\" xlink:href=\"#me2df79aa1f\" y=\"83.275444\"/>\n     <use style=\"fill-opacity:0;stroke:#000000;\" x=\"327.55\" xlink:href=\"#me2df79aa1f\" y=\"76.08284\"/>\n     <use style=\"fill-opacity:0;stroke:#000000;\" x=\"327.55\" xlink:href=\"#me2df79aa1f\" y=\"79.679142\"/>\n     <use style=\"fill-opacity:0;stroke:#000000;\" x=\"327.55\" xlink:href=\"#me2df79aa1f\" y=\"83.275444\"/>\n     <use style=\"fill-opacity:0;stroke:#000000;\" x=\"327.55\" xlink:href=\"#me2df79aa1f\" y=\"79.679142\"/>\n     <use style=\"fill-opacity:0;stroke:#000000;\" x=\"327.55\" xlink:href=\"#me2df79aa1f\" y=\"79.679142\"/>\n     <use style=\"fill-opacity:0;stroke:#000000;\" x=\"327.55\" xlink:href=\"#me2df79aa1f\" y=\"79.679142\"/>\n     <use style=\"fill-opacity:0;stroke:#000000;\" x=\"327.55\" xlink:href=\"#me2df79aa1f\" y=\"83.275444\"/>\n     <use style=\"fill-opacity:0;stroke:#000000;\" x=\"327.55\" xlink:href=\"#me2df79aa1f\" y=\"83.275444\"/>\n     <use style=\"fill-opacity:0;stroke:#000000;\" x=\"327.55\" xlink:href=\"#me2df79aa1f\" y=\"79.679142\"/>\n     <use style=\"fill-opacity:0;stroke:#000000;\" x=\"327.55\" xlink:href=\"#me2df79aa1f\" y=\"83.275444\"/>\n     <use style=\"fill-opacity:0;stroke:#000000;\" x=\"327.55\" xlink:href=\"#me2df79aa1f\" y=\"83.275444\"/>\n     <use style=\"fill-opacity:0;stroke:#000000;\" x=\"327.55\" xlink:href=\"#me2df79aa1f\" y=\"83.275444\"/>\n     <use style=\"fill-opacity:0;stroke:#000000;\" x=\"327.55\" xlink:href=\"#me2df79aa1f\" y=\"79.679142\"/>\n     <use style=\"fill-opacity:0;stroke:#000000;\" x=\"327.55\" xlink:href=\"#me2df79aa1f\" y=\"83.275444\"/>\n     <use style=\"fill-opacity:0;stroke:#000000;\" x=\"327.55\" xlink:href=\"#me2df79aa1f\" y=\"83.275444\"/>\n     <use style=\"fill-opacity:0;stroke:#000000;\" x=\"327.55\" xlink:href=\"#me2df79aa1f\" y=\"65.293934\"/>\n     <use style=\"fill-opacity:0;stroke:#000000;\" x=\"327.55\" xlink:href=\"#me2df79aa1f\" y=\"83.275444\"/>\n     <use style=\"fill-opacity:0;stroke:#000000;\" x=\"327.55\" xlink:href=\"#me2df79aa1f\" y=\"79.679142\"/>\n     <use style=\"fill-opacity:0;stroke:#000000;\" x=\"327.55\" xlink:href=\"#me2df79aa1f\" y=\"79.679142\"/>\n     <use style=\"fill-opacity:0;stroke:#000000;\" x=\"327.55\" xlink:href=\"#me2df79aa1f\" y=\"79.679142\"/>\n     <use style=\"fill-opacity:0;stroke:#000000;\" x=\"327.55\" xlink:href=\"#me2df79aa1f\" y=\"79.679142\"/>\n     <use style=\"fill-opacity:0;stroke:#000000;\" x=\"327.55\" xlink:href=\"#me2df79aa1f\" y=\"83.275444\"/>\n     <use style=\"fill-opacity:0;stroke:#000000;\" x=\"327.55\" xlink:href=\"#me2df79aa1f\" y=\"83.275444\"/>\n     <use style=\"fill-opacity:0;stroke:#000000;\" x=\"327.55\" xlink:href=\"#me2df79aa1f\" y=\"79.679142\"/>\n     <use style=\"fill-opacity:0;stroke:#000000;\" x=\"327.55\" xlink:href=\"#me2df79aa1f\" y=\"79.679142\"/>\n     <use style=\"fill-opacity:0;stroke:#000000;\" x=\"327.55\" xlink:href=\"#me2df79aa1f\" y=\"79.679142\"/>\n     <use style=\"fill-opacity:0;stroke:#000000;\" x=\"327.55\" xlink:href=\"#me2df79aa1f\" y=\"79.679142\"/>\n     <use style=\"fill-opacity:0;stroke:#000000;\" x=\"327.55\" xlink:href=\"#me2df79aa1f\" y=\"79.679142\"/>\n     <use style=\"fill-opacity:0;stroke:#000000;\" x=\"327.55\" xlink:href=\"#me2df79aa1f\" y=\"79.679142\"/>\n     <use style=\"fill-opacity:0;stroke:#000000;\" x=\"327.55\" xlink:href=\"#me2df79aa1f\" y=\"83.275444\"/>\n     <use style=\"fill-opacity:0;stroke:#000000;\" x=\"327.55\" xlink:href=\"#me2df79aa1f\" y=\"83.275444\"/>\n     <use style=\"fill-opacity:0;stroke:#000000;\" x=\"327.55\" xlink:href=\"#me2df79aa1f\" y=\"83.275444\"/>\n     <use style=\"fill-opacity:0;stroke:#000000;\" x=\"327.55\" xlink:href=\"#me2df79aa1f\" y=\"79.679142\"/>\n     <use style=\"fill-opacity:0;stroke:#000000;\" x=\"327.55\" xlink:href=\"#me2df79aa1f\" y=\"79.679142\"/>\n     <use style=\"fill-opacity:0;stroke:#000000;\" x=\"327.55\" xlink:href=\"#me2df79aa1f\" y=\"79.679142\"/>\n     <use style=\"fill-opacity:0;stroke:#000000;\" x=\"327.55\" xlink:href=\"#me2df79aa1f\" y=\"79.679142\"/>\n     <use style=\"fill-opacity:0;stroke:#000000;\" x=\"327.55\" xlink:href=\"#me2df79aa1f\" y=\"79.679142\"/>\n     <use style=\"fill-opacity:0;stroke:#000000;\" x=\"327.55\" xlink:href=\"#me2df79aa1f\" y=\"83.275444\"/>\n     <use style=\"fill-opacity:0;stroke:#000000;\" x=\"327.55\" xlink:href=\"#me2df79aa1f\" y=\"83.275444\"/>\n     <use style=\"fill-opacity:0;stroke:#000000;\" x=\"327.55\" xlink:href=\"#me2df79aa1f\" y=\"83.275444\"/>\n     <use style=\"fill-opacity:0;stroke:#000000;\" x=\"327.55\" xlink:href=\"#me2df79aa1f\" y=\"83.275444\"/>\n     <use style=\"fill-opacity:0;stroke:#000000;\" x=\"327.55\" xlink:href=\"#me2df79aa1f\" y=\"83.275444\"/>\n     <use style=\"fill-opacity:0;stroke:#000000;\" x=\"327.55\" xlink:href=\"#me2df79aa1f\" y=\"83.275444\"/>\n     <use style=\"fill-opacity:0;stroke:#000000;\" x=\"327.55\" xlink:href=\"#me2df79aa1f\" y=\"76.08284\"/>\n     <use style=\"fill-opacity:0;stroke:#000000;\" x=\"327.55\" xlink:href=\"#me2df79aa1f\" y=\"83.275444\"/>\n     <use style=\"fill-opacity:0;stroke:#000000;\" x=\"327.55\" xlink:href=\"#me2df79aa1f\" y=\"83.275444\"/>\n     <use style=\"fill-opacity:0;stroke:#000000;\" x=\"327.55\" xlink:href=\"#me2df79aa1f\" y=\"79.679142\"/>\n     <use style=\"fill-opacity:0;stroke:#000000;\" x=\"327.55\" xlink:href=\"#me2df79aa1f\" y=\"83.275444\"/>\n     <use style=\"fill-opacity:0;stroke:#000000;\" x=\"327.55\" xlink:href=\"#me2df79aa1f\" y=\"72.486538\"/>\n     <use style=\"fill-opacity:0;stroke:#000000;\" x=\"327.55\" xlink:href=\"#me2df79aa1f\" y=\"79.679142\"/>\n     <use style=\"fill-opacity:0;stroke:#000000;\" x=\"327.55\" xlink:href=\"#me2df79aa1f\" y=\"83.275444\"/>\n     <use style=\"fill-opacity:0;stroke:#000000;\" x=\"327.55\" xlink:href=\"#me2df79aa1f\" y=\"83.275444\"/>\n     <use style=\"fill-opacity:0;stroke:#000000;\" x=\"327.55\" xlink:href=\"#me2df79aa1f\" y=\"83.275444\"/>\n     <use style=\"fill-opacity:0;stroke:#000000;\" x=\"327.55\" xlink:href=\"#me2df79aa1f\" y=\"79.679142\"/>\n     <use style=\"fill-opacity:0;stroke:#000000;\" x=\"327.55\" xlink:href=\"#me2df79aa1f\" y=\"79.679142\"/>\n     <use style=\"fill-opacity:0;stroke:#000000;\" x=\"327.55\" xlink:href=\"#me2df79aa1f\" y=\"79.679142\"/>\n     <use style=\"fill-opacity:0;stroke:#000000;\" x=\"327.55\" xlink:href=\"#me2df79aa1f\" y=\"76.08284\"/>\n     <use style=\"fill-opacity:0;stroke:#000000;\" x=\"327.55\" xlink:href=\"#me2df79aa1f\" y=\"83.275444\"/>\n     <use style=\"fill-opacity:0;stroke:#000000;\" x=\"327.55\" xlink:href=\"#me2df79aa1f\" y=\"83.275444\"/>\n     <use style=\"fill-opacity:0;stroke:#000000;\" x=\"327.55\" xlink:href=\"#me2df79aa1f\" y=\"72.486538\"/>\n     <use style=\"fill-opacity:0;stroke:#000000;\" x=\"327.55\" xlink:href=\"#me2df79aa1f\" y=\"83.275444\"/>\n     <use style=\"fill-opacity:0;stroke:#000000;\" x=\"327.55\" xlink:href=\"#me2df79aa1f\" y=\"76.08284\"/>\n     <use style=\"fill-opacity:0;stroke:#000000;\" x=\"327.55\" xlink:href=\"#me2df79aa1f\" y=\"83.275444\"/>\n     <use style=\"fill-opacity:0;stroke:#000000;\" x=\"327.55\" xlink:href=\"#me2df79aa1f\" y=\"79.679142\"/>\n     <use style=\"fill-opacity:0;stroke:#000000;\" x=\"327.55\" xlink:href=\"#me2df79aa1f\" y=\"83.275444\"/>\n     <use style=\"fill-opacity:0;stroke:#000000;\" x=\"327.55\" xlink:href=\"#me2df79aa1f\" y=\"79.679142\"/>\n     <use style=\"fill-opacity:0;stroke:#000000;\" x=\"327.55\" xlink:href=\"#me2df79aa1f\" y=\"68.890236\"/>\n     <use style=\"fill-opacity:0;stroke:#000000;\" x=\"327.55\" xlink:href=\"#me2df79aa1f\" y=\"83.275444\"/>\n     <use style=\"fill-opacity:0;stroke:#000000;\" x=\"327.55\" xlink:href=\"#me2df79aa1f\" y=\"79.679142\"/>\n     <use style=\"fill-opacity:0;stroke:#000000;\" x=\"327.55\" xlink:href=\"#me2df79aa1f\" y=\"79.679142\"/>\n     <use style=\"fill-opacity:0;stroke:#000000;\" x=\"327.55\" xlink:href=\"#me2df79aa1f\" y=\"83.275444\"/>\n     <use style=\"fill-opacity:0;stroke:#000000;\" x=\"327.55\" xlink:href=\"#me2df79aa1f\" y=\"83.275444\"/>\n     <use style=\"fill-opacity:0;stroke:#000000;\" x=\"327.55\" xlink:href=\"#me2df79aa1f\" y=\"83.275444\"/>\n     <use style=\"fill-opacity:0;stroke:#000000;\" x=\"327.55\" xlink:href=\"#me2df79aa1f\" y=\"79.679142\"/>\n     <use style=\"fill-opacity:0;stroke:#000000;\" x=\"327.55\" xlink:href=\"#me2df79aa1f\" y=\"83.275444\"/>\n     <use style=\"fill-opacity:0;stroke:#000000;\" x=\"327.55\" xlink:href=\"#me2df79aa1f\" y=\"83.275444\"/>\n     <use style=\"fill-opacity:0;stroke:#000000;\" x=\"327.55\" xlink:href=\"#me2df79aa1f\" y=\"83.275444\"/>\n     <use style=\"fill-opacity:0;stroke:#000000;\" x=\"327.55\" xlink:href=\"#me2df79aa1f\" y=\"83.275444\"/>\n     <use style=\"fill-opacity:0;stroke:#000000;\" x=\"327.55\" xlink:href=\"#me2df79aa1f\" y=\"76.08284\"/>\n     <use style=\"fill-opacity:0;stroke:#000000;\" x=\"327.55\" xlink:href=\"#me2df79aa1f\" y=\"79.679142\"/>\n     <use style=\"fill-opacity:0;stroke:#000000;\" x=\"327.55\" xlink:href=\"#me2df79aa1f\" y=\"76.08284\"/>\n     <use style=\"fill-opacity:0;stroke:#000000;\" x=\"327.55\" xlink:href=\"#me2df79aa1f\" y=\"72.486538\"/>\n     <use style=\"fill-opacity:0;stroke:#000000;\" x=\"327.55\" xlink:href=\"#me2df79aa1f\" y=\"79.679142\"/>\n     <use style=\"fill-opacity:0;stroke:#000000;\" x=\"327.55\" xlink:href=\"#me2df79aa1f\" y=\"68.890236\"/>\n     <use style=\"fill-opacity:0;stroke:#000000;\" x=\"327.55\" xlink:href=\"#me2df79aa1f\" y=\"83.275444\"/>\n     <use style=\"fill-opacity:0;stroke:#000000;\" x=\"327.55\" xlink:href=\"#me2df79aa1f\" y=\"83.275444\"/>\n     <use style=\"fill-opacity:0;stroke:#000000;\" x=\"327.55\" xlink:href=\"#me2df79aa1f\" y=\"83.275444\"/>\n     <use style=\"fill-opacity:0;stroke:#000000;\" x=\"327.55\" xlink:href=\"#me2df79aa1f\" y=\"79.679142\"/>\n     <use style=\"fill-opacity:0;stroke:#000000;\" x=\"327.55\" xlink:href=\"#me2df79aa1f\" y=\"76.08284\"/>\n     <use style=\"fill-opacity:0;stroke:#000000;\" x=\"327.55\" xlink:href=\"#me2df79aa1f\" y=\"79.679142\"/>\n     <use style=\"fill-opacity:0;stroke:#000000;\" x=\"327.55\" xlink:href=\"#me2df79aa1f\" y=\"79.679142\"/>\n     <use style=\"fill-opacity:0;stroke:#000000;\" x=\"327.55\" xlink:href=\"#me2df79aa1f\" y=\"76.08284\"/>\n     <use style=\"fill-opacity:0;stroke:#000000;\" x=\"327.55\" xlink:href=\"#me2df79aa1f\" y=\"83.275444\"/>\n     <use style=\"fill-opacity:0;stroke:#000000;\" x=\"327.55\" xlink:href=\"#me2df79aa1f\" y=\"83.275444\"/>\n     <use style=\"fill-opacity:0;stroke:#000000;\" x=\"327.55\" xlink:href=\"#me2df79aa1f\" y=\"83.275444\"/>\n     <use style=\"fill-opacity:0;stroke:#000000;\" x=\"327.55\" xlink:href=\"#me2df79aa1f\" y=\"83.275444\"/>\n     <use style=\"fill-opacity:0;stroke:#000000;\" x=\"327.55\" xlink:href=\"#me2df79aa1f\" y=\"79.679142\"/>\n     <use style=\"fill-opacity:0;stroke:#000000;\" x=\"327.55\" xlink:href=\"#me2df79aa1f\" y=\"83.275444\"/>\n     <use style=\"fill-opacity:0;stroke:#000000;\" x=\"327.55\" xlink:href=\"#me2df79aa1f\" y=\"76.08284\"/>\n     <use style=\"fill-opacity:0;stroke:#000000;\" x=\"327.55\" xlink:href=\"#me2df79aa1f\" y=\"76.08284\"/>\n    </g>\n   </g>\n   <g id=\"line2d_31\">\n    <path clip-path=\"url(#pc0ce64e4ef)\" d=\"M 314.04625 122.834766 \nL 341.05375 122.834766 \n\" style=\"fill:none;stroke:#ff7f0e;stroke-linecap:square;\"/>\n   </g>\n   <g id=\"patch_8\">\n    <path d=\"M 237.525 255.718125 \nL 237.525 22.318125 \n\" style=\"fill:none;stroke:#000000;stroke-linecap:square;stroke-linejoin:miter;stroke-width:0.8;\"/>\n   </g>\n   <g id=\"patch_9\">\n    <path d=\"M 417.575 255.718125 \nL 417.575 22.318125 \n\" style=\"fill:none;stroke:#000000;stroke-linecap:square;stroke-linejoin:miter;stroke-width:0.8;\"/>\n   </g>\n   <g id=\"patch_10\">\n    <path d=\"M 237.525 255.718125 \nL 417.575 255.718125 \n\" style=\"fill:none;stroke:#000000;stroke-linecap:square;stroke-linejoin:miter;stroke-width:0.8;\"/>\n   </g>\n   <g id=\"patch_11\">\n    <path d=\"M 237.525 22.318125 \nL 417.575 22.318125 \n\" style=\"fill:none;stroke:#000000;stroke-linecap:square;stroke-linejoin:miter;stroke-width:0.8;\"/>\n   </g>\n   <g id=\"text_19\">\n    <!-- text -->\n    <defs>\n     <path d=\"M 18.3125 70.21875 \nL 18.3125 54.6875 \nL 36.8125 54.6875 \nL 36.8125 47.703125 \nL 18.3125 47.703125 \nL 18.3125 18.015625 \nQ 18.3125 11.328125 20.140625 9.421875 \nQ 21.96875 7.515625 27.59375 7.515625 \nL 36.8125 7.515625 \nL 36.8125 0 \nL 27.59375 0 \nQ 17.1875 0 13.234375 3.875 \nQ 9.28125 7.765625 9.28125 18.015625 \nL 9.28125 47.703125 \nL 2.6875 47.703125 \nL 2.6875 54.6875 \nL 9.28125 54.6875 \nL 9.28125 70.21875 \nz\n\" id=\"DejaVuSans-116\"/>\n     <path d=\"M 54.890625 54.6875 \nL 35.109375 28.078125 \nL 55.90625 0 \nL 45.3125 0 \nL 29.390625 21.484375 \nL 13.484375 0 \nL 2.875 0 \nL 24.125 28.609375 \nL 4.6875 54.6875 \nL 15.28125 54.6875 \nL 29.78125 35.203125 \nL 44.28125 54.6875 \nz\n\" id=\"DejaVuSans-120\"/>\n    </defs>\n    <g transform=\"translate(315.7075 16.318125)scale(0.12 -0.12)\">\n     <use xlink:href=\"#DejaVuSans-116\"/>\n     <use x=\"39.208984\" xlink:href=\"#DejaVuSans-101\"/>\n     <use x=\"98.982422\" xlink:href=\"#DejaVuSans-120\"/>\n     <use x=\"158.162109\" xlink:href=\"#DejaVuSans-116\"/>\n    </g>\n   </g>\n  </g>\n </g>\n <defs>\n  <clipPath id=\"p484227045d\">\n   <rect height=\"233.4\" width=\"180.05\" x=\"26.925\" y=\"22.318125\"/>\n  </clipPath>\n  <clipPath id=\"pc0ce64e4ef\">\n   <rect height=\"233.4\" width=\"180.05\" x=\"237.525\" y=\"22.318125\"/>\n  </clipPath>\n </defs>\n</svg>\n",
      "image/png": "[encoded data removed]"
     },
     "metadata": {
      "needs_background": "light"
     }
    },
    {
     "output_type": "display_data",
     "data": {
      "text/plain": "<Figure size 432x288 with 1 Axes>",
      "image/svg+xml": "<?xml version=\"1.0\" encoding=\"utf-8\" standalone=\"no\"?>\n<!DOCTYPE svg PUBLIC \"-//W3C//DTD SVG 1.1//EN\"\n  \"http://www.w3.org/Graphics/SVG/1.1/DTD/svg11.dtd\">\n<!-- Created with matplotlib (https://matplotlib.org/) -->\n<svg height=\"277.314375pt\" version=\"1.1\" viewBox=\"0 0 401.690625 277.314375\" width=\"401.690625pt\" xmlns=\"http://www.w3.org/2000/svg\" xmlns:xlink=\"http://www.w3.org/1999/xlink\">\n <defs>\n  <style type=\"text/css\">\n*{stroke-linecap:butt;stroke-linejoin:round;}\n  </style>\n </defs>\n <g id=\"figure_1\">\n  <g id=\"patch_1\">\n   <path d=\"M 0 277.314375 \nL 401.690625 277.314375 \nL 401.690625 0 \nL 0 0 \nz\n\" style=\"fill:none;\"/>\n  </g>\n  <g id=\"axes_1\">\n   <g id=\"patch_2\">\n    <path d=\"M 59.690625 239.758125 \nL 394.490625 239.758125 \nL 394.490625 22.318125 \nL 59.690625 22.318125 \nz\n\" style=\"fill:#ffffff;\"/>\n   </g>\n   <g id=\"patch_3\">\n    <path clip-path=\"url(#p6ba12f6f0e)\" d=\"M 74.908807 239.758125 \nL 82.517898 239.758125 \nL 82.517898 239.750891 \nL 74.908807 239.750891 \nz\n\" style=\"fill:#1f77b4;\"/>\n   </g>\n   <g id=\"patch_4\">\n    <path clip-path=\"url(#p6ba12f6f0e)\" d=\"M 82.517898 239.758125 \nL 90.126989 239.758125 \nL 90.126989 239.758125 \nL 82.517898 239.758125 \nz\n\" style=\"fill:#1f77b4;\"/>\n   </g>\n   <g id=\"patch_5\">\n    <path clip-path=\"url(#p6ba12f6f0e)\" d=\"M 90.126989 239.758125 \nL 97.73608 239.758125 \nL 97.73608 239.758125 \nL 90.126989 239.758125 \nz\n\" style=\"fill:#1f77b4;\"/>\n   </g>\n   <g id=\"patch_6\">\n    <path clip-path=\"url(#p6ba12f6f0e)\" d=\"M 97.73608 239.758125 \nL 105.34517 239.758125 \nL 105.34517 239.758125 \nL 97.73608 239.758125 \nz\n\" style=\"fill:#1f77b4;\"/>\n   </g>\n   <g id=\"patch_7\">\n    <path clip-path=\"url(#p6ba12f6f0e)\" d=\"M 105.34517 239.758125 \nL 112.954261 239.758125 \nL 112.954261 239.758125 \nL 105.34517 239.758125 \nz\n\" style=\"fill:#1f77b4;\"/>\n   </g>\n   <g id=\"patch_8\">\n    <path clip-path=\"url(#p6ba12f6f0e)\" d=\"M 112.954261 239.758125 \nL 120.563352 239.758125 \nL 120.563352 239.743657 \nL 112.954261 239.743657 \nz\n\" style=\"fill:#1f77b4;\"/>\n   </g>\n   <g id=\"patch_9\">\n    <path clip-path=\"url(#p6ba12f6f0e)\" d=\"M 120.563352 239.758125 \nL 128.172443 239.758125 \nL 128.172443 239.758125 \nL 120.563352 239.758125 \nz\n\" style=\"fill:#1f77b4;\"/>\n   </g>\n   <g id=\"patch_10\">\n    <path clip-path=\"url(#p6ba12f6f0e)\" d=\"M 128.172443 239.758125 \nL 135.781534 239.758125 \nL 135.781534 239.758125 \nL 128.172443 239.758125 \nz\n\" style=\"fill:#1f77b4;\"/>\n   </g>\n   <g id=\"patch_11\">\n    <path clip-path=\"url(#p6ba12f6f0e)\" d=\"M 135.781534 239.758125 \nL 143.390625 239.758125 \nL 143.390625 239.656846 \nL 135.781534 239.656846 \nz\n\" style=\"fill:#1f77b4;\"/>\n   </g>\n   <g id=\"patch_12\">\n    <path clip-path=\"url(#p6ba12f6f0e)\" d=\"M 143.390625 239.758125 \nL 150.999716 239.758125 \nL 150.999716 239.758125 \nL 143.390625 239.758125 \nz\n\" style=\"fill:#1f77b4;\"/>\n   </g>\n   <g id=\"patch_13\">\n    <path clip-path=\"url(#p6ba12f6f0e)\" d=\"M 150.999716 239.758125 \nL 158.608807 239.758125 \nL 158.608807 238.130434 \nL 150.999716 238.130434 \nz\n\" style=\"fill:#1f77b4;\"/>\n   </g>\n   <g id=\"patch_14\">\n    <path clip-path=\"url(#p6ba12f6f0e)\" d=\"M 158.608807 239.758125 \nL 166.217898 239.758125 \nL 166.217898 239.758125 \nL 158.608807 239.758125 \nz\n\" style=\"fill:#1f77b4;\"/>\n   </g>\n   <g id=\"patch_15\">\n    <path clip-path=\"url(#p6ba12f6f0e)\" d=\"M 166.217898 239.758125 \nL 173.826989 239.758125 \nL 173.826989 239.758125 \nL 166.217898 239.758125 \nz\n\" style=\"fill:#1f77b4;\"/>\n   </g>\n   <g id=\"patch_16\">\n    <path clip-path=\"url(#p6ba12f6f0e)\" d=\"M 173.826989 239.758125 \nL 181.43608 239.758125 \nL 181.43608 227.517888 \nL 173.826989 227.517888 \nz\n\" style=\"fill:#1f77b4;\"/>\n   </g>\n   <g id=\"patch_17\">\n    <path clip-path=\"url(#p6ba12f6f0e)\" d=\"M 181.43608 239.758125 \nL 189.04517 239.758125 \nL 189.04517 239.758125 \nL 181.43608 239.758125 \nz\n\" style=\"fill:#1f77b4;\"/>\n   </g>\n   <g id=\"patch_18\">\n    <path clip-path=\"url(#p6ba12f6f0e)\" d=\"M 189.04517 239.758125 \nL 196.654261 239.758125 \nL 196.654261 239.758125 \nL 189.04517 239.758125 \nz\n\" style=\"fill:#1f77b4;\"/>\n   </g>\n   <g id=\"patch_19\">\n    <path clip-path=\"url(#p6ba12f6f0e)\" d=\"M 196.654261 239.758125 \nL 204.263352 239.758125 \nL 204.263352 190.623556 \nL 196.654261 190.623556 \nz\n\" style=\"fill:#1f77b4;\"/>\n   </g>\n   <g id=\"patch_20\">\n    <path clip-path=\"url(#p6ba12f6f0e)\" d=\"M 204.263352 239.758125 \nL 211.872443 239.758125 \nL 211.872443 239.758125 \nL 204.263352 239.758125 \nz\n\" style=\"fill:#1f77b4;\"/>\n   </g>\n   <g id=\"patch_21\">\n    <path clip-path=\"url(#p6ba12f6f0e)\" d=\"M 211.872443 239.758125 \nL 219.481534 239.758125 \nL 219.481534 106.801081 \nL 211.872443 106.801081 \nz\n\" style=\"fill:#1f77b4;\"/>\n   </g>\n   <g id=\"patch_22\">\n    <path clip-path=\"url(#p6ba12f6f0e)\" d=\"M 219.481534 239.758125 \nL 227.090625 239.758125 \nL 227.090625 239.758125 \nL 219.481534 239.758125 \nz\n\" style=\"fill:#1f77b4;\"/>\n   </g>\n   <g id=\"patch_23\">\n    <path clip-path=\"url(#p6ba12f6f0e)\" d=\"M 227.090625 239.758125 \nL 234.699716 239.758125 \nL 234.699716 239.758125 \nL 227.090625 239.758125 \nz\n\" style=\"fill:#1f77b4;\"/>\n   </g>\n   <g id=\"patch_24\">\n    <path clip-path=\"url(#p6ba12f6f0e)\" d=\"M 234.699716 239.758125 \nL 242.308807 239.758125 \nL 242.308807 32.672411 \nL 234.699716 32.672411 \nz\n\" style=\"fill:#1f77b4;\"/>\n   </g>\n   <g id=\"patch_25\">\n    <path clip-path=\"url(#p6ba12f6f0e)\" d=\"M 242.308807 239.758125 \nL 249.917898 239.758125 \nL 249.917898 239.758125 \nL 242.308807 239.758125 \nz\n\" style=\"fill:#1f77b4;\"/>\n   </g>\n   <g id=\"patch_26\">\n    <path clip-path=\"url(#p6ba12f6f0e)\" d=\"M 249.917898 239.758125 \nL 257.526989 239.758125 \nL 257.526989 239.758125 \nL 249.917898 239.758125 \nz\n\" style=\"fill:#1f77b4;\"/>\n   </g>\n   <g id=\"patch_27\">\n    <path clip-path=\"url(#p6ba12f6f0e)\" d=\"M 257.526989 239.758125 \nL 265.13608 239.758125 \nL 265.13608 62.086598 \nL 257.526989 62.086598 \nz\n\" style=\"fill:#1f77b4;\"/>\n   </g>\n   <g id=\"patch_28\">\n    <path clip-path=\"url(#p6ba12f6f0e)\" d=\"M 265.13608 239.758125 \nL 272.74517 239.758125 \nL 272.74517 239.758125 \nL 265.13608 239.758125 \nz\n\" style=\"fill:#1f77b4;\"/>\n   </g>\n   <g id=\"patch_29\">\n    <path clip-path=\"url(#p6ba12f6f0e)\" d=\"M 272.74517 239.758125 \nL 280.354261 239.758125 \nL 280.354261 148.18784 \nL 272.74517 148.18784 \nz\n\" style=\"fill:#1f77b4;\"/>\n   </g>\n   <g id=\"patch_30\">\n    <path clip-path=\"url(#p6ba12f6f0e)\" d=\"M 280.354261 239.758125 \nL 287.963352 239.758125 \nL 287.963352 239.758125 \nL 280.354261 239.758125 \nz\n\" style=\"fill:#1f77b4;\"/>\n   </g>\n   <g id=\"patch_31\">\n    <path clip-path=\"url(#p6ba12f6f0e)\" d=\"M 287.963352 239.758125 \nL 295.572443 239.758125 \nL 295.572443 239.758125 \nL 287.963352 239.758125 \nz\n\" style=\"fill:#1f77b4;\"/>\n   </g>\n   <g id=\"patch_32\">\n    <path clip-path=\"url(#p6ba12f6f0e)\" d=\"M 295.572443 239.758125 \nL 303.181534 239.758125 \nL 303.181534 209.128595 \nL 295.572443 209.128595 \nz\n\" style=\"fill:#1f77b4;\"/>\n   </g>\n   <g id=\"patch_33\">\n    <path clip-path=\"url(#p6ba12f6f0e)\" d=\"M 303.181534 239.758125 \nL 310.790625 239.758125 \nL 310.790625 239.758125 \nL 303.181534 239.758125 \nz\n\" style=\"fill:#1f77b4;\"/>\n   </g>\n   <g id=\"patch_34\">\n    <path clip-path=\"url(#p6ba12f6f0e)\" d=\"M 310.790625 239.758125 \nL 318.399716 239.758125 \nL 318.399716 239.758125 \nL 310.790625 239.758125 \nz\n\" style=\"fill:#1f77b4;\"/>\n   </g>\n   <g id=\"patch_35\">\n    <path clip-path=\"url(#p6ba12f6f0e)\" d=\"M 318.399716 239.758125 \nL 326.008807 239.758125 \nL 326.008807 232.545645 \nL 318.399716 232.545645 \nz\n\" style=\"fill:#1f77b4;\"/>\n   </g>\n   <g id=\"patch_36\">\n    <path clip-path=\"url(#p6ba12f6f0e)\" d=\"M 326.008807 239.758125 \nL 333.617898 239.758125 \nL 333.617898 239.758125 \nL 326.008807 239.758125 \nz\n\" style=\"fill:#1f77b4;\"/>\n   </g>\n   <g id=\"patch_37\">\n    <path clip-path=\"url(#p6ba12f6f0e)\" d=\"M 333.617898 239.758125 \nL 341.226989 239.758125 \nL 341.226989 238.615124 \nL 333.617898 238.615124 \nz\n\" style=\"fill:#1f77b4;\"/>\n   </g>\n   <g id=\"patch_38\">\n    <path clip-path=\"url(#p6ba12f6f0e)\" d=\"M 341.226989 239.758125 \nL 348.83608 239.758125 \nL 348.83608 239.758125 \nL 341.226989 239.758125 \nz\n\" style=\"fill:#1f77b4;\"/>\n   </g>\n   <g id=\"patch_39\">\n    <path clip-path=\"url(#p6ba12f6f0e)\" d=\"M 348.83608 239.758125 \nL 356.44517 239.758125 \nL 356.44517 239.758125 \nL 348.83608 239.758125 \nz\n\" style=\"fill:#1f77b4;\"/>\n   </g>\n   <g id=\"patch_40\">\n    <path clip-path=\"url(#p6ba12f6f0e)\" d=\"M 356.44517 239.758125 \nL 364.054261 239.758125 \nL 364.054261 239.620676 \nL 356.44517 239.620676 \nz\n\" style=\"fill:#1f77b4;\"/>\n   </g>\n   <g id=\"patch_41\">\n    <path clip-path=\"url(#p6ba12f6f0e)\" d=\"M 364.054261 239.758125 \nL 371.663352 239.758125 \nL 371.663352 239.758125 \nL 364.054261 239.758125 \nz\n\" style=\"fill:#1f77b4;\"/>\n   </g>\n   <g id=\"patch_42\">\n    <path clip-path=\"url(#p6ba12f6f0e)\" d=\"M 371.663352 239.758125 \nL 379.272443 239.758125 \nL 379.272443 239.736422 \nL 371.663352 239.736422 \nz\n\" style=\"fill:#1f77b4;\"/>\n   </g>\n   <g id=\"matplotlib.axis_1\">\n    <g id=\"xtick_1\">\n     <g id=\"line2d_1\">\n      <defs>\n       <path d=\"M 0 0 \nL 0 3.5 \n\" id=\"ma796b8ec09\" style=\"stroke:#000000;stroke-width:0.8;\"/>\n      </defs>\n      <g>\n       <use style=\"stroke:#000000;stroke-width:0.8;\" x=\"95.199716\" xlink:href=\"#ma796b8ec09\" y=\"239.758125\"/>\n      </g>\n     </g>\n     <g id=\"text_1\">\n      <!-- 2 -->\n      <defs>\n       <path d=\"M 19.1875 8.296875 \nL 53.609375 8.296875 \nL 53.609375 0 \nL 7.328125 0 \nL 7.328125 8.296875 \nQ 12.9375 14.109375 22.625 23.890625 \nQ 32.328125 33.6875 34.8125 36.53125 \nQ 39.546875 41.84375 41.421875 45.53125 \nQ 43.3125 49.21875 43.3125 52.78125 \nQ 43.3125 58.59375 39.234375 62.25 \nQ 35.15625 65.921875 28.609375 65.921875 \nQ 23.96875 65.921875 18.8125 64.3125 \nQ 13.671875 62.703125 7.8125 59.421875 \nL 7.8125 69.390625 \nQ 13.765625 71.78125 18.9375 73 \nQ 24.125 74.21875 28.421875 74.21875 \nQ 39.75 74.21875 46.484375 68.546875 \nQ 53.21875 62.890625 53.21875 53.421875 \nQ 53.21875 48.921875 51.53125 44.890625 \nQ 49.859375 40.875 45.40625 35.40625 \nQ 44.1875 33.984375 37.640625 27.21875 \nQ 31.109375 20.453125 19.1875 8.296875 \nz\n\" id=\"DejaVuSans-50\"/>\n      </defs>\n      <g transform=\"translate(92.018466 254.356562)scale(0.1 -0.1)\">\n       <use xlink:href=\"#DejaVuSans-50\"/>\n      </g>\n     </g>\n    </g>\n    <g id=\"xtick_2\">\n     <g id=\"line2d_2\">\n      <g>\n       <use style=\"stroke:#000000;stroke-width:0.8;\" x=\"135.781534\" xlink:href=\"#ma796b8ec09\" y=\"239.758125\"/>\n      </g>\n     </g>\n     <g id=\"text_2\">\n      <!-- 4 -->\n      <defs>\n       <path d=\"M 37.796875 64.3125 \nL 12.890625 25.390625 \nL 37.796875 25.390625 \nz\nM 35.203125 72.90625 \nL 47.609375 72.90625 \nL 47.609375 25.390625 \nL 58.015625 25.390625 \nL 58.015625 17.1875 \nL 47.609375 17.1875 \nL 47.609375 0 \nL 37.796875 0 \nL 37.796875 17.1875 \nL 4.890625 17.1875 \nL 4.890625 26.703125 \nz\n\" id=\"DejaVuSans-52\"/>\n      </defs>\n      <g transform=\"translate(132.600284 254.356562)scale(0.1 -0.1)\">\n       <use xlink:href=\"#DejaVuSans-52\"/>\n      </g>\n     </g>\n    </g>\n    <g id=\"xtick_3\">\n     <g id=\"line2d_3\">\n      <g>\n       <use style=\"stroke:#000000;stroke-width:0.8;\" x=\"176.363352\" xlink:href=\"#ma796b8ec09\" y=\"239.758125\"/>\n      </g>\n     </g>\n     <g id=\"text_3\">\n      <!-- 6 -->\n      <defs>\n       <path d=\"M 33.015625 40.375 \nQ 26.375 40.375 22.484375 35.828125 \nQ 18.609375 31.296875 18.609375 23.390625 \nQ 18.609375 15.53125 22.484375 10.953125 \nQ 26.375 6.390625 33.015625 6.390625 \nQ 39.65625 6.390625 43.53125 10.953125 \nQ 47.40625 15.53125 47.40625 23.390625 \nQ 47.40625 31.296875 43.53125 35.828125 \nQ 39.65625 40.375 33.015625 40.375 \nz\nM 52.59375 71.296875 \nL 52.59375 62.3125 \nQ 48.875 64.0625 45.09375 64.984375 \nQ 41.3125 65.921875 37.59375 65.921875 \nQ 27.828125 65.921875 22.671875 59.328125 \nQ 17.53125 52.734375 16.796875 39.40625 \nQ 19.671875 43.65625 24.015625 45.921875 \nQ 28.375 48.1875 33.59375 48.1875 \nQ 44.578125 48.1875 50.953125 41.515625 \nQ 57.328125 34.859375 57.328125 23.390625 \nQ 57.328125 12.15625 50.6875 5.359375 \nQ 44.046875 -1.421875 33.015625 -1.421875 \nQ 20.359375 -1.421875 13.671875 8.265625 \nQ 6.984375 17.96875 6.984375 36.375 \nQ 6.984375 53.65625 15.1875 63.9375 \nQ 23.390625 74.21875 37.203125 74.21875 \nQ 40.921875 74.21875 44.703125 73.484375 \nQ 48.484375 72.75 52.59375 71.296875 \nz\n\" id=\"DejaVuSans-54\"/>\n      </defs>\n      <g transform=\"translate(173.182102 254.356562)scale(0.1 -0.1)\">\n       <use xlink:href=\"#DejaVuSans-54\"/>\n      </g>\n     </g>\n    </g>\n    <g id=\"xtick_4\">\n     <g id=\"line2d_4\">\n      <g>\n       <use style=\"stroke:#000000;stroke-width:0.8;\" x=\"216.94517\" xlink:href=\"#ma796b8ec09\" y=\"239.758125\"/>\n      </g>\n     </g>\n     <g id=\"text_4\">\n      <!-- 8 -->\n      <defs>\n       <path d=\"M 31.78125 34.625 \nQ 24.75 34.625 20.71875 30.859375 \nQ 16.703125 27.09375 16.703125 20.515625 \nQ 16.703125 13.921875 20.71875 10.15625 \nQ 24.75 6.390625 31.78125 6.390625 \nQ 38.8125 6.390625 42.859375 10.171875 \nQ 46.921875 13.96875 46.921875 20.515625 \nQ 46.921875 27.09375 42.890625 30.859375 \nQ 38.875 34.625 31.78125 34.625 \nz\nM 21.921875 38.8125 \nQ 15.578125 40.375 12.03125 44.71875 \nQ 8.5 49.078125 8.5 55.328125 \nQ 8.5 64.0625 14.71875 69.140625 \nQ 20.953125 74.21875 31.78125 74.21875 \nQ 42.671875 74.21875 48.875 69.140625 \nQ 55.078125 64.0625 55.078125 55.328125 \nQ 55.078125 49.078125 51.53125 44.71875 \nQ 48 40.375 41.703125 38.8125 \nQ 48.828125 37.15625 52.796875 32.3125 \nQ 56.78125 27.484375 56.78125 20.515625 \nQ 56.78125 9.90625 50.3125 4.234375 \nQ 43.84375 -1.421875 31.78125 -1.421875 \nQ 19.734375 -1.421875 13.25 4.234375 \nQ 6.78125 9.90625 6.78125 20.515625 \nQ 6.78125 27.484375 10.78125 32.3125 \nQ 14.796875 37.15625 21.921875 38.8125 \nz\nM 18.3125 54.390625 \nQ 18.3125 48.734375 21.84375 45.5625 \nQ 25.390625 42.390625 31.78125 42.390625 \nQ 38.140625 42.390625 41.71875 45.5625 \nQ 45.3125 48.734375 45.3125 54.390625 \nQ 45.3125 60.0625 41.71875 63.234375 \nQ 38.140625 66.40625 31.78125 66.40625 \nQ 25.390625 66.40625 21.84375 63.234375 \nQ 18.3125 60.0625 18.3125 54.390625 \nz\n\" id=\"DejaVuSans-56\"/>\n      </defs>\n      <g transform=\"translate(213.76392 254.356562)scale(0.1 -0.1)\">\n       <use xlink:href=\"#DejaVuSans-56\"/>\n      </g>\n     </g>\n    </g>\n    <g id=\"xtick_5\">\n     <g id=\"line2d_5\">\n      <g>\n       <use style=\"stroke:#000000;stroke-width:0.8;\" x=\"257.526989\" xlink:href=\"#ma796b8ec09\" y=\"239.758125\"/>\n      </g>\n     </g>\n     <g id=\"text_5\">\n      <!-- 10 -->\n      <defs>\n       <path d=\"M 12.40625 8.296875 \nL 28.515625 8.296875 \nL 28.515625 63.921875 \nL 10.984375 60.40625 \nL 10.984375 69.390625 \nL 28.421875 72.90625 \nL 38.28125 72.90625 \nL 38.28125 8.296875 \nL 54.390625 8.296875 \nL 54.390625 0 \nL 12.40625 0 \nz\n\" id=\"DejaVuSans-49\"/>\n       <path d=\"M 31.78125 66.40625 \nQ 24.171875 66.40625 20.328125 58.90625 \nQ 16.5 51.421875 16.5 36.375 \nQ 16.5 21.390625 20.328125 13.890625 \nQ 24.171875 6.390625 31.78125 6.390625 \nQ 39.453125 6.390625 43.28125 13.890625 \nQ 47.125 21.390625 47.125 36.375 \nQ 47.125 51.421875 43.28125 58.90625 \nQ 39.453125 66.40625 31.78125 66.40625 \nz\nM 31.78125 74.21875 \nQ 44.046875 74.21875 50.515625 64.515625 \nQ 56.984375 54.828125 56.984375 36.375 \nQ 56.984375 17.96875 50.515625 8.265625 \nQ 44.046875 -1.421875 31.78125 -1.421875 \nQ 19.53125 -1.421875 13.0625 8.265625 \nQ 6.59375 17.96875 6.59375 36.375 \nQ 6.59375 54.828125 13.0625 64.515625 \nQ 19.53125 74.21875 31.78125 74.21875 \nz\n\" id=\"DejaVuSans-48\"/>\n      </defs>\n      <g transform=\"translate(251.164489 254.356562)scale(0.1 -0.1)\">\n       <use xlink:href=\"#DejaVuSans-49\"/>\n       <use x=\"63.623047\" xlink:href=\"#DejaVuSans-48\"/>\n      </g>\n     </g>\n    </g>\n    <g id=\"xtick_6\">\n     <g id=\"line2d_6\">\n      <g>\n       <use style=\"stroke:#000000;stroke-width:0.8;\" x=\"298.108807\" xlink:href=\"#ma796b8ec09\" y=\"239.758125\"/>\n      </g>\n     </g>\n     <g id=\"text_6\">\n      <!-- 12 -->\n      <g transform=\"translate(291.746307 254.356562)scale(0.1 -0.1)\">\n       <use xlink:href=\"#DejaVuSans-49\"/>\n       <use x=\"63.623047\" xlink:href=\"#DejaVuSans-50\"/>\n      </g>\n     </g>\n    </g>\n    <g id=\"xtick_7\">\n     <g id=\"line2d_7\">\n      <g>\n       <use style=\"stroke:#000000;stroke-width:0.8;\" x=\"338.690625\" xlink:href=\"#ma796b8ec09\" y=\"239.758125\"/>\n      </g>\n     </g>\n     <g id=\"text_7\">\n      <!-- 14 -->\n      <g transform=\"translate(332.328125 254.356562)scale(0.1 -0.1)\">\n       <use xlink:href=\"#DejaVuSans-49\"/>\n       <use x=\"63.623047\" xlink:href=\"#DejaVuSans-52\"/>\n      </g>\n     </g>\n    </g>\n    <g id=\"xtick_8\">\n     <g id=\"line2d_8\">\n      <g>\n       <use style=\"stroke:#000000;stroke-width:0.8;\" x=\"379.272443\" xlink:href=\"#ma796b8ec09\" y=\"239.758125\"/>\n      </g>\n     </g>\n     <g id=\"text_8\">\n      <!-- 16 -->\n      <g transform=\"translate(372.909943 254.356562)scale(0.1 -0.1)\">\n       <use xlink:href=\"#DejaVuSans-49\"/>\n       <use x=\"63.623047\" xlink:href=\"#DejaVuSans-54\"/>\n      </g>\n     </g>\n    </g>\n    <g id=\"text_9\">\n     <!-- length of samples -->\n     <defs>\n      <path d=\"M 9.421875 75.984375 \nL 18.40625 75.984375 \nL 18.40625 0 \nL 9.421875 0 \nz\n\" id=\"DejaVuSans-108\"/>\n      <path d=\"M 56.203125 29.59375 \nL 56.203125 25.203125 \nL 14.890625 25.203125 \nQ 15.484375 15.921875 20.484375 11.0625 \nQ 25.484375 6.203125 34.421875 6.203125 \nQ 39.59375 6.203125 44.453125 7.46875 \nQ 49.3125 8.734375 54.109375 11.28125 \nL 54.109375 2.78125 \nQ 49.265625 0.734375 44.1875 -0.34375 \nQ 39.109375 -1.421875 33.890625 -1.421875 \nQ 20.796875 -1.421875 13.15625 6.1875 \nQ 5.515625 13.8125 5.515625 26.8125 \nQ 5.515625 40.234375 12.765625 48.109375 \nQ 20.015625 56 32.328125 56 \nQ 43.359375 56 49.78125 48.890625 \nQ 56.203125 41.796875 56.203125 29.59375 \nz\nM 47.21875 32.234375 \nQ 47.125 39.59375 43.09375 43.984375 \nQ 39.0625 48.390625 32.421875 48.390625 \nQ 24.90625 48.390625 20.390625 44.140625 \nQ 15.875 39.890625 15.1875 32.171875 \nz\n\" id=\"DejaVuSans-101\"/>\n      <path d=\"M 54.890625 33.015625 \nL 54.890625 0 \nL 45.90625 0 \nL 45.90625 32.71875 \nQ 45.90625 40.484375 42.875 44.328125 \nQ 39.84375 48.1875 33.796875 48.1875 \nQ 26.515625 48.1875 22.3125 43.546875 \nQ 18.109375 38.921875 18.109375 30.90625 \nL 18.109375 0 \nL 9.078125 0 \nL 9.078125 54.6875 \nL 18.109375 54.6875 \nL 18.109375 46.1875 \nQ 21.34375 51.125 25.703125 53.5625 \nQ 30.078125 56 35.796875 56 \nQ 45.21875 56 50.046875 50.171875 \nQ 54.890625 44.34375 54.890625 33.015625 \nz\n\" id=\"DejaVuSans-110\"/>\n      <path d=\"M 45.40625 27.984375 \nQ 45.40625 37.75 41.375 43.109375 \nQ 37.359375 48.484375 30.078125 48.484375 \nQ 22.859375 48.484375 18.828125 43.109375 \nQ 14.796875 37.75 14.796875 27.984375 \nQ 14.796875 18.265625 18.828125 12.890625 \nQ 22.859375 7.515625 30.078125 7.515625 \nQ 37.359375 7.515625 41.375 12.890625 \nQ 45.40625 18.265625 45.40625 27.984375 \nz\nM 54.390625 6.78125 \nQ 54.390625 -7.171875 48.1875 -13.984375 \nQ 42 -20.796875 29.203125 -20.796875 \nQ 24.46875 -20.796875 20.265625 -20.09375 \nQ 16.0625 -19.390625 12.109375 -17.921875 \nL 12.109375 -9.1875 \nQ 16.0625 -11.328125 19.921875 -12.34375 \nQ 23.78125 -13.375 27.78125 -13.375 \nQ 36.625 -13.375 41.015625 -8.765625 \nQ 45.40625 -4.15625 45.40625 5.171875 \nL 45.40625 9.625 \nQ 42.625 4.78125 38.28125 2.390625 \nQ 33.9375 0 27.875 0 \nQ 17.828125 0 11.671875 7.65625 \nQ 5.515625 15.328125 5.515625 27.984375 \nQ 5.515625 40.671875 11.671875 48.328125 \nQ 17.828125 56 27.875 56 \nQ 33.9375 56 38.28125 53.609375 \nQ 42.625 51.21875 45.40625 46.390625 \nL 45.40625 54.6875 \nL 54.390625 54.6875 \nz\n\" id=\"DejaVuSans-103\"/>\n      <path d=\"M 18.3125 70.21875 \nL 18.3125 54.6875 \nL 36.8125 54.6875 \nL 36.8125 47.703125 \nL 18.3125 47.703125 \nL 18.3125 18.015625 \nQ 18.3125 11.328125 20.140625 9.421875 \nQ 21.96875 7.515625 27.59375 7.515625 \nL 36.8125 7.515625 \nL 36.8125 0 \nL 27.59375 0 \nQ 17.1875 0 13.234375 3.875 \nQ 9.28125 7.765625 9.28125 18.015625 \nL 9.28125 47.703125 \nL 2.6875 47.703125 \nL 2.6875 54.6875 \nL 9.28125 54.6875 \nL 9.28125 70.21875 \nz\n\" id=\"DejaVuSans-116\"/>\n      <path d=\"M 54.890625 33.015625 \nL 54.890625 0 \nL 45.90625 0 \nL 45.90625 32.71875 \nQ 45.90625 40.484375 42.875 44.328125 \nQ 39.84375 48.1875 33.796875 48.1875 \nQ 26.515625 48.1875 22.3125 43.546875 \nQ 18.109375 38.921875 18.109375 30.90625 \nL 18.109375 0 \nL 9.078125 0 \nL 9.078125 75.984375 \nL 18.109375 75.984375 \nL 18.109375 46.1875 \nQ 21.34375 51.125 25.703125 53.5625 \nQ 30.078125 56 35.796875 56 \nQ 45.21875 56 50.046875 50.171875 \nQ 54.890625 44.34375 54.890625 33.015625 \nz\n\" id=\"DejaVuSans-104\"/>\n      <path id=\"DejaVuSans-32\"/>\n      <path d=\"M 30.609375 48.390625 \nQ 23.390625 48.390625 19.1875 42.75 \nQ 14.984375 37.109375 14.984375 27.296875 \nQ 14.984375 17.484375 19.15625 11.84375 \nQ 23.34375 6.203125 30.609375 6.203125 \nQ 37.796875 6.203125 41.984375 11.859375 \nQ 46.1875 17.53125 46.1875 27.296875 \nQ 46.1875 37.015625 41.984375 42.703125 \nQ 37.796875 48.390625 30.609375 48.390625 \nz\nM 30.609375 56 \nQ 42.328125 56 49.015625 48.375 \nQ 55.71875 40.765625 55.71875 27.296875 \nQ 55.71875 13.875 49.015625 6.21875 \nQ 42.328125 -1.421875 30.609375 -1.421875 \nQ 18.84375 -1.421875 12.171875 6.21875 \nQ 5.515625 13.875 5.515625 27.296875 \nQ 5.515625 40.765625 12.171875 48.375 \nQ 18.84375 56 30.609375 56 \nz\n\" id=\"DejaVuSans-111\"/>\n      <path d=\"M 37.109375 75.984375 \nL 37.109375 68.5 \nL 28.515625 68.5 \nQ 23.6875 68.5 21.796875 66.546875 \nQ 19.921875 64.59375 19.921875 59.515625 \nL 19.921875 54.6875 \nL 34.71875 54.6875 \nL 34.71875 47.703125 \nL 19.921875 47.703125 \nL 19.921875 0 \nL 10.890625 0 \nL 10.890625 47.703125 \nL 2.296875 47.703125 \nL 2.296875 54.6875 \nL 10.890625 54.6875 \nL 10.890625 58.5 \nQ 10.890625 67.625 15.140625 71.796875 \nQ 19.390625 75.984375 28.609375 75.984375 \nz\n\" id=\"DejaVuSans-102\"/>\n      <path d=\"M 44.28125 53.078125 \nL 44.28125 44.578125 \nQ 40.484375 46.53125 36.375 47.5 \nQ 32.28125 48.484375 27.875 48.484375 \nQ 21.1875 48.484375 17.84375 46.4375 \nQ 14.5 44.390625 14.5 40.28125 \nQ 14.5 37.15625 16.890625 35.375 \nQ 19.28125 33.59375 26.515625 31.984375 \nL 29.59375 31.296875 \nQ 39.15625 29.25 43.1875 25.515625 \nQ 47.21875 21.78125 47.21875 15.09375 \nQ 47.21875 7.46875 41.1875 3.015625 \nQ 35.15625 -1.421875 24.609375 -1.421875 \nQ 20.21875 -1.421875 15.453125 -0.5625 \nQ 10.6875 0.296875 5.421875 2 \nL 5.421875 11.28125 \nQ 10.40625 8.6875 15.234375 7.390625 \nQ 20.0625 6.109375 24.8125 6.109375 \nQ 31.15625 6.109375 34.5625 8.28125 \nQ 37.984375 10.453125 37.984375 14.40625 \nQ 37.984375 18.0625 35.515625 20.015625 \nQ 33.0625 21.96875 24.703125 23.78125 \nL 21.578125 24.515625 \nQ 13.234375 26.265625 9.515625 29.90625 \nQ 5.8125 33.546875 5.8125 39.890625 \nQ 5.8125 47.609375 11.28125 51.796875 \nQ 16.75 56 26.8125 56 \nQ 31.78125 56 36.171875 55.265625 \nQ 40.578125 54.546875 44.28125 53.078125 \nz\n\" id=\"DejaVuSans-115\"/>\n      <path d=\"M 34.28125 27.484375 \nQ 23.390625 27.484375 19.1875 25 \nQ 14.984375 22.515625 14.984375 16.5 \nQ 14.984375 11.71875 18.140625 8.90625 \nQ 21.296875 6.109375 26.703125 6.109375 \nQ 34.1875 6.109375 38.703125 11.40625 \nQ 43.21875 16.703125 43.21875 25.484375 \nL 43.21875 27.484375 \nz\nM 52.203125 31.203125 \nL 52.203125 0 \nL 43.21875 0 \nL 43.21875 8.296875 \nQ 40.140625 3.328125 35.546875 0.953125 \nQ 30.953125 -1.421875 24.3125 -1.421875 \nQ 15.921875 -1.421875 10.953125 3.296875 \nQ 6 8.015625 6 15.921875 \nQ 6 25.140625 12.171875 29.828125 \nQ 18.359375 34.515625 30.609375 34.515625 \nL 43.21875 34.515625 \nL 43.21875 35.40625 \nQ 43.21875 41.609375 39.140625 45 \nQ 35.0625 48.390625 27.6875 48.390625 \nQ 23 48.390625 18.546875 47.265625 \nQ 14.109375 46.140625 10.015625 43.890625 \nL 10.015625 52.203125 \nQ 14.9375 54.109375 19.578125 55.046875 \nQ 24.21875 56 28.609375 56 \nQ 40.484375 56 46.34375 49.84375 \nQ 52.203125 43.703125 52.203125 31.203125 \nz\n\" id=\"DejaVuSans-97\"/>\n      <path d=\"M 52 44.1875 \nQ 55.375 50.25 60.0625 53.125 \nQ 64.75 56 71.09375 56 \nQ 79.640625 56 84.28125 50.015625 \nQ 88.921875 44.046875 88.921875 33.015625 \nL 88.921875 0 \nL 79.890625 0 \nL 79.890625 32.71875 \nQ 79.890625 40.578125 77.09375 44.375 \nQ 74.3125 48.1875 68.609375 48.1875 \nQ 61.625 48.1875 57.5625 43.546875 \nQ 53.515625 38.921875 53.515625 30.90625 \nL 53.515625 0 \nL 44.484375 0 \nL 44.484375 32.71875 \nQ 44.484375 40.625 41.703125 44.40625 \nQ 38.921875 48.1875 33.109375 48.1875 \nQ 26.21875 48.1875 22.15625 43.53125 \nQ 18.109375 38.875 18.109375 30.90625 \nL 18.109375 0 \nL 9.078125 0 \nL 9.078125 54.6875 \nL 18.109375 54.6875 \nL 18.109375 46.1875 \nQ 21.1875 51.21875 25.484375 53.609375 \nQ 29.78125 56 35.6875 56 \nQ 41.65625 56 45.828125 52.96875 \nQ 50 49.953125 52 44.1875 \nz\n\" id=\"DejaVuSans-109\"/>\n      <path d=\"M 18.109375 8.203125 \nL 18.109375 -20.796875 \nL 9.078125 -20.796875 \nL 9.078125 54.6875 \nL 18.109375 54.6875 \nL 18.109375 46.390625 \nQ 20.953125 51.265625 25.265625 53.625 \nQ 29.59375 56 35.59375 56 \nQ 45.5625 56 51.78125 48.09375 \nQ 58.015625 40.1875 58.015625 27.296875 \nQ 58.015625 14.40625 51.78125 6.484375 \nQ 45.5625 -1.421875 35.59375 -1.421875 \nQ 29.59375 -1.421875 25.265625 0.953125 \nQ 20.953125 3.328125 18.109375 8.203125 \nz\nM 48.6875 27.296875 \nQ 48.6875 37.203125 44.609375 42.84375 \nQ 40.53125 48.484375 33.40625 48.484375 \nQ 26.265625 48.484375 22.1875 42.84375 \nQ 18.109375 37.203125 18.109375 27.296875 \nQ 18.109375 17.390625 22.1875 11.75 \nQ 26.265625 6.109375 33.40625 6.109375 \nQ 40.53125 6.109375 44.609375 11.75 \nQ 48.6875 17.390625 48.6875 27.296875 \nz\n\" id=\"DejaVuSans-112\"/>\n     </defs>\n     <g transform=\"translate(182.371875 268.034687)scale(0.1 -0.1)\">\n      <use xlink:href=\"#DejaVuSans-108\"/>\n      <use x=\"27.783203\" xlink:href=\"#DejaVuSans-101\"/>\n      <use x=\"89.306641\" xlink:href=\"#DejaVuSans-110\"/>\n      <use x=\"152.685547\" xlink:href=\"#DejaVuSans-103\"/>\n      <use x=\"216.162109\" xlink:href=\"#DejaVuSans-116\"/>\n      <use x=\"255.371094\" xlink:href=\"#DejaVuSans-104\"/>\n      <use x=\"318.75\" xlink:href=\"#DejaVuSans-32\"/>\n      <use x=\"350.537109\" xlink:href=\"#DejaVuSans-111\"/>\n      <use x=\"411.71875\" xlink:href=\"#DejaVuSans-102\"/>\n      <use x=\"446.923828\" xlink:href=\"#DejaVuSans-32\"/>\n      <use x=\"478.710938\" xlink:href=\"#DejaVuSans-115\"/>\n      <use x=\"530.810547\" xlink:href=\"#DejaVuSans-97\"/>\n      <use x=\"592.089844\" xlink:href=\"#DejaVuSans-109\"/>\n      <use x=\"689.501953\" xlink:href=\"#DejaVuSans-112\"/>\n      <use x=\"752.978516\" xlink:href=\"#DejaVuSans-108\"/>\n      <use x=\"780.761719\" xlink:href=\"#DejaVuSans-101\"/>\n      <use x=\"842.285156\" xlink:href=\"#DejaVuSans-115\"/>\n     </g>\n    </g>\n   </g>\n   <g id=\"matplotlib.axis_2\">\n    <g id=\"ytick_1\">\n     <g id=\"line2d_9\">\n      <defs>\n       <path d=\"M 0 0 \nL -3.5 0 \n\" id=\"m46fc0aedbc\" style=\"stroke:#000000;stroke-width:0.8;\"/>\n      </defs>\n      <g>\n       <use style=\"stroke:#000000;stroke-width:0.8;\" x=\"59.690625\" xlink:href=\"#m46fc0aedbc\" y=\"239.758125\"/>\n      </g>\n     </g>\n     <g id=\"text_10\">\n      <!-- 0 -->\n      <g transform=\"translate(46.328125 243.557344)scale(0.1 -0.1)\">\n       <use xlink:href=\"#DejaVuSans-48\"/>\n      </g>\n     </g>\n    </g>\n    <g id=\"ytick_2\">\n     <g id=\"line2d_10\">\n      <g>\n       <use style=\"stroke:#000000;stroke-width:0.8;\" x=\"59.690625\" xlink:href=\"#m46fc0aedbc\" y=\"203.587211\"/>\n      </g>\n     </g>\n     <g id=\"text_11\">\n      <!-- 5000 -->\n      <defs>\n       <path d=\"M 10.796875 72.90625 \nL 49.515625 72.90625 \nL 49.515625 64.59375 \nL 19.828125 64.59375 \nL 19.828125 46.734375 \nQ 21.96875 47.46875 24.109375 47.828125 \nQ 26.265625 48.1875 28.421875 48.1875 \nQ 40.625 48.1875 47.75 41.5 \nQ 54.890625 34.8125 54.890625 23.390625 \nQ 54.890625 11.625 47.5625 5.09375 \nQ 40.234375 -1.421875 26.90625 -1.421875 \nQ 22.3125 -1.421875 17.546875 -0.640625 \nQ 12.796875 0.140625 7.71875 1.703125 \nL 7.71875 11.625 \nQ 12.109375 9.234375 16.796875 8.0625 \nQ 21.484375 6.890625 26.703125 6.890625 \nQ 35.15625 6.890625 40.078125 11.328125 \nQ 45.015625 15.765625 45.015625 23.390625 \nQ 45.015625 31 40.078125 35.4375 \nQ 35.15625 39.890625 26.703125 39.890625 \nQ 22.75 39.890625 18.8125 39.015625 \nQ 14.890625 38.140625 10.796875 36.28125 \nz\n\" id=\"DejaVuSans-53\"/>\n      </defs>\n      <g transform=\"translate(27.240625 207.38643)scale(0.1 -0.1)\">\n       <use xlink:href=\"#DejaVuSans-53\"/>\n       <use x=\"63.623047\" xlink:href=\"#DejaVuSans-48\"/>\n       <use x=\"127.246094\" xlink:href=\"#DejaVuSans-48\"/>\n       <use x=\"190.869141\" xlink:href=\"#DejaVuSans-48\"/>\n      </g>\n     </g>\n    </g>\n    <g id=\"ytick_3\">\n     <g id=\"line2d_11\">\n      <g>\n       <use style=\"stroke:#000000;stroke-width:0.8;\" x=\"59.690625\" xlink:href=\"#m46fc0aedbc\" y=\"167.416298\"/>\n      </g>\n     </g>\n     <g id=\"text_12\">\n      <!-- 10000 -->\n      <g transform=\"translate(20.878125 171.215517)scale(0.1 -0.1)\">\n       <use xlink:href=\"#DejaVuSans-49\"/>\n       <use x=\"63.623047\" xlink:href=\"#DejaVuSans-48\"/>\n       <use x=\"127.246094\" xlink:href=\"#DejaVuSans-48\"/>\n       <use x=\"190.869141\" xlink:href=\"#DejaVuSans-48\"/>\n       <use x=\"254.492188\" xlink:href=\"#DejaVuSans-48\"/>\n      </g>\n     </g>\n    </g>\n    <g id=\"ytick_4\">\n     <g id=\"line2d_12\">\n      <g>\n       <use style=\"stroke:#000000;stroke-width:0.8;\" x=\"59.690625\" xlink:href=\"#m46fc0aedbc\" y=\"131.245384\"/>\n      </g>\n     </g>\n     <g id=\"text_13\">\n      <!-- 15000 -->\n      <g transform=\"translate(20.878125 135.044603)scale(0.1 -0.1)\">\n       <use xlink:href=\"#DejaVuSans-49\"/>\n       <use x=\"63.623047\" xlink:href=\"#DejaVuSans-53\"/>\n       <use x=\"127.246094\" xlink:href=\"#DejaVuSans-48\"/>\n       <use x=\"190.869141\" xlink:href=\"#DejaVuSans-48\"/>\n       <use x=\"254.492188\" xlink:href=\"#DejaVuSans-48\"/>\n      </g>\n     </g>\n    </g>\n    <g id=\"ytick_5\">\n     <g id=\"line2d_13\">\n      <g>\n       <use style=\"stroke:#000000;stroke-width:0.8;\" x=\"59.690625\" xlink:href=\"#m46fc0aedbc\" y=\"95.074471\"/>\n      </g>\n     </g>\n     <g id=\"text_14\">\n      <!-- 20000 -->\n      <g transform=\"translate(20.878125 98.87369)scale(0.1 -0.1)\">\n       <use xlink:href=\"#DejaVuSans-50\"/>\n       <use x=\"63.623047\" xlink:href=\"#DejaVuSans-48\"/>\n       <use x=\"127.246094\" xlink:href=\"#DejaVuSans-48\"/>\n       <use x=\"190.869141\" xlink:href=\"#DejaVuSans-48\"/>\n       <use x=\"254.492188\" xlink:href=\"#DejaVuSans-48\"/>\n      </g>\n     </g>\n    </g>\n    <g id=\"ytick_6\">\n     <g id=\"line2d_14\">\n      <g>\n       <use style=\"stroke:#000000;stroke-width:0.8;\" x=\"59.690625\" xlink:href=\"#m46fc0aedbc\" y=\"58.903557\"/>\n      </g>\n     </g>\n     <g id=\"text_15\">\n      <!-- 25000 -->\n      <g transform=\"translate(20.878125 62.702776)scale(0.1 -0.1)\">\n       <use xlink:href=\"#DejaVuSans-50\"/>\n       <use x=\"63.623047\" xlink:href=\"#DejaVuSans-53\"/>\n       <use x=\"127.246094\" xlink:href=\"#DejaVuSans-48\"/>\n       <use x=\"190.869141\" xlink:href=\"#DejaVuSans-48\"/>\n       <use x=\"254.492188\" xlink:href=\"#DejaVuSans-48\"/>\n      </g>\n     </g>\n    </g>\n    <g id=\"ytick_7\">\n     <g id=\"line2d_15\">\n      <g>\n       <use style=\"stroke:#000000;stroke-width:0.8;\" x=\"59.690625\" xlink:href=\"#m46fc0aedbc\" y=\"22.732644\"/>\n      </g>\n     </g>\n     <g id=\"text_16\">\n      <!-- 30000 -->\n      <defs>\n       <path d=\"M 40.578125 39.3125 \nQ 47.65625 37.796875 51.625 33 \nQ 55.609375 28.21875 55.609375 21.1875 \nQ 55.609375 10.40625 48.1875 4.484375 \nQ 40.765625 -1.421875 27.09375 -1.421875 \nQ 22.515625 -1.421875 17.65625 -0.515625 \nQ 12.796875 0.390625 7.625 2.203125 \nL 7.625 11.71875 \nQ 11.71875 9.328125 16.59375 8.109375 \nQ 21.484375 6.890625 26.8125 6.890625 \nQ 36.078125 6.890625 40.9375 10.546875 \nQ 45.796875 14.203125 45.796875 21.1875 \nQ 45.796875 27.640625 41.28125 31.265625 \nQ 36.765625 34.90625 28.71875 34.90625 \nL 20.21875 34.90625 \nL 20.21875 43.015625 \nL 29.109375 43.015625 \nQ 36.375 43.015625 40.234375 45.921875 \nQ 44.09375 48.828125 44.09375 54.296875 \nQ 44.09375 59.90625 40.109375 62.90625 \nQ 36.140625 65.921875 28.71875 65.921875 \nQ 24.65625 65.921875 20.015625 65.03125 \nQ 15.375 64.15625 9.8125 62.3125 \nL 9.8125 71.09375 \nQ 15.4375 72.65625 20.34375 73.4375 \nQ 25.25 74.21875 29.59375 74.21875 \nQ 40.828125 74.21875 47.359375 69.109375 \nQ 53.90625 64.015625 53.90625 55.328125 \nQ 53.90625 49.265625 50.4375 45.09375 \nQ 46.96875 40.921875 40.578125 39.3125 \nz\n\" id=\"DejaVuSans-51\"/>\n      </defs>\n      <g transform=\"translate(20.878125 26.531862)scale(0.1 -0.1)\">\n       <use xlink:href=\"#DejaVuSans-51\"/>\n       <use x=\"63.623047\" xlink:href=\"#DejaVuSans-48\"/>\n       <use x=\"127.246094\" xlink:href=\"#DejaVuSans-48\"/>\n       <use x=\"190.869141\" xlink:href=\"#DejaVuSans-48\"/>\n       <use x=\"254.492188\" xlink:href=\"#DejaVuSans-48\"/>\n      </g>\n     </g>\n    </g>\n    <g id=\"text_17\">\n     <!-- number of samples -->\n     <defs>\n      <path d=\"M 8.5 21.578125 \nL 8.5 54.6875 \nL 17.484375 54.6875 \nL 17.484375 21.921875 \nQ 17.484375 14.15625 20.5 10.265625 \nQ 23.53125 6.390625 29.59375 6.390625 \nQ 36.859375 6.390625 41.078125 11.03125 \nQ 45.3125 15.671875 45.3125 23.6875 \nL 45.3125 54.6875 \nL 54.296875 54.6875 \nL 54.296875 0 \nL 45.3125 0 \nL 45.3125 8.40625 \nQ 42.046875 3.421875 37.71875 1 \nQ 33.40625 -1.421875 27.6875 -1.421875 \nQ 18.265625 -1.421875 13.375 4.4375 \nQ 8.5 10.296875 8.5 21.578125 \nz\nM 31.109375 56 \nz\n\" id=\"DejaVuSans-117\"/>\n      <path d=\"M 48.6875 27.296875 \nQ 48.6875 37.203125 44.609375 42.84375 \nQ 40.53125 48.484375 33.40625 48.484375 \nQ 26.265625 48.484375 22.1875 42.84375 \nQ 18.109375 37.203125 18.109375 27.296875 \nQ 18.109375 17.390625 22.1875 11.75 \nQ 26.265625 6.109375 33.40625 6.109375 \nQ 40.53125 6.109375 44.609375 11.75 \nQ 48.6875 17.390625 48.6875 27.296875 \nz\nM 18.109375 46.390625 \nQ 20.953125 51.265625 25.265625 53.625 \nQ 29.59375 56 35.59375 56 \nQ 45.5625 56 51.78125 48.09375 \nQ 58.015625 40.1875 58.015625 27.296875 \nQ 58.015625 14.40625 51.78125 6.484375 \nQ 45.5625 -1.421875 35.59375 -1.421875 \nQ 29.59375 -1.421875 25.265625 0.953125 \nQ 20.953125 3.328125 18.109375 8.203125 \nL 18.109375 0 \nL 9.078125 0 \nL 9.078125 75.984375 \nL 18.109375 75.984375 \nz\n\" id=\"DejaVuSans-98\"/>\n      <path d=\"M 41.109375 46.296875 \nQ 39.59375 47.171875 37.8125 47.578125 \nQ 36.03125 48 33.890625 48 \nQ 26.265625 48 22.1875 43.046875 \nQ 18.109375 38.09375 18.109375 28.8125 \nL 18.109375 0 \nL 9.078125 0 \nL 9.078125 54.6875 \nL 18.109375 54.6875 \nL 18.109375 46.1875 \nQ 20.953125 51.171875 25.484375 53.578125 \nQ 30.03125 56 36.53125 56 \nQ 37.453125 56 38.578125 55.875 \nQ 39.703125 55.765625 41.0625 55.515625 \nz\n\" id=\"DejaVuSans-114\"/>\n     </defs>\n     <g transform=\"translate(14.798438 179.333437)rotate(-90)scale(0.1 -0.1)\">\n      <use xlink:href=\"#DejaVuSans-110\"/>\n      <use x=\"63.378906\" xlink:href=\"#DejaVuSans-117\"/>\n      <use x=\"126.757812\" xlink:href=\"#DejaVuSans-109\"/>\n      <use x=\"224.169922\" xlink:href=\"#DejaVuSans-98\"/>\n      <use x=\"287.646484\" xlink:href=\"#DejaVuSans-101\"/>\n      <use x=\"349.169922\" xlink:href=\"#DejaVuSans-114\"/>\n      <use x=\"390.283203\" xlink:href=\"#DejaVuSans-32\"/>\n      <use x=\"422.070312\" xlink:href=\"#DejaVuSans-111\"/>\n      <use x=\"483.251953\" xlink:href=\"#DejaVuSans-102\"/>\n      <use x=\"518.457031\" xlink:href=\"#DejaVuSans-32\"/>\n      <use x=\"550.244141\" xlink:href=\"#DejaVuSans-115\"/>\n      <use x=\"602.34375\" xlink:href=\"#DejaVuSans-97\"/>\n      <use x=\"663.623047\" xlink:href=\"#DejaVuSans-109\"/>\n      <use x=\"761.035156\" xlink:href=\"#DejaVuSans-112\"/>\n      <use x=\"824.511719\" xlink:href=\"#DejaVuSans-108\"/>\n      <use x=\"852.294922\" xlink:href=\"#DejaVuSans-101\"/>\n      <use x=\"913.818359\" xlink:href=\"#DejaVuSans-115\"/>\n     </g>\n    </g>\n   </g>\n   <g id=\"patch_43\">\n    <path d=\"M 59.690625 239.758125 \nL 59.690625 22.318125 \n\" style=\"fill:none;stroke:#000000;stroke-linecap:square;stroke-linejoin:miter;stroke-width:0.8;\"/>\n   </g>\n   <g id=\"patch_44\">\n    <path d=\"M 394.490625 239.758125 \nL 394.490625 22.318125 \n\" style=\"fill:none;stroke:#000000;stroke-linecap:square;stroke-linejoin:miter;stroke-width:0.8;\"/>\n   </g>\n   <g id=\"patch_45\">\n    <path d=\"M 59.690625 239.758125 \nL 394.490625 239.758125 \n\" style=\"fill:none;stroke:#000000;stroke-linecap:square;stroke-linejoin:miter;stroke-width:0.8;\"/>\n   </g>\n   <g id=\"patch_46\">\n    <path d=\"M 59.690625 22.318125 \nL 394.490625 22.318125 \n\" style=\"fill:none;stroke:#000000;stroke-linecap:square;stroke-linejoin:miter;stroke-width:0.8;\"/>\n   </g>\n   <g id=\"text_18\">\n    <!-- headlines -->\n    <defs>\n     <path d=\"M 45.40625 46.390625 \nL 45.40625 75.984375 \nL 54.390625 75.984375 \nL 54.390625 0 \nL 45.40625 0 \nL 45.40625 8.203125 \nQ 42.578125 3.328125 38.25 0.953125 \nQ 33.9375 -1.421875 27.875 -1.421875 \nQ 17.96875 -1.421875 11.734375 6.484375 \nQ 5.515625 14.40625 5.515625 27.296875 \nQ 5.515625 40.1875 11.734375 48.09375 \nQ 17.96875 56 27.875 56 \nQ 33.9375 56 38.25 53.625 \nQ 42.578125 51.265625 45.40625 46.390625 \nz\nM 14.796875 27.296875 \nQ 14.796875 17.390625 18.875 11.75 \nQ 22.953125 6.109375 30.078125 6.109375 \nQ 37.203125 6.109375 41.296875 11.75 \nQ 45.40625 17.390625 45.40625 27.296875 \nQ 45.40625 37.203125 41.296875 42.84375 \nQ 37.203125 48.484375 30.078125 48.484375 \nQ 22.953125 48.484375 18.875 42.84375 \nQ 14.796875 37.203125 14.796875 27.296875 \nz\n\" id=\"DejaVuSans-100\"/>\n     <path d=\"M 9.421875 54.6875 \nL 18.40625 54.6875 \nL 18.40625 0 \nL 9.421875 0 \nz\nM 9.421875 75.984375 \nL 18.40625 75.984375 \nL 18.40625 64.59375 \nL 9.421875 64.59375 \nz\n\" id=\"DejaVuSans-105\"/>\n    </defs>\n    <g transform=\"translate(198.156563 16.318125)scale(0.12 -0.12)\">\n     <use xlink:href=\"#DejaVuSans-104\"/>\n     <use x=\"63.378906\" xlink:href=\"#DejaVuSans-101\"/>\n     <use x=\"124.902344\" xlink:href=\"#DejaVuSans-97\"/>\n     <use x=\"186.181641\" xlink:href=\"#DejaVuSans-100\"/>\n     <use x=\"249.658203\" xlink:href=\"#DejaVuSans-108\"/>\n     <use x=\"277.441406\" xlink:href=\"#DejaVuSans-105\"/>\n     <use x=\"305.224609\" xlink:href=\"#DejaVuSans-110\"/>\n     <use x=\"368.603516\" xlink:href=\"#DejaVuSans-101\"/>\n     <use x=\"430.126953\" xlink:href=\"#DejaVuSans-115\"/>\n    </g>\n   </g>\n  </g>\n </g>\n <defs>\n  <clipPath id=\"p6ba12f6f0e\">\n   <rect height=\"217.44\" width=\"334.8\" x=\"59.690625\" y=\"22.318125\"/>\n  </clipPath>\n </defs>\n</svg>\n",
      "image/png": "[encoded data removed]"
     },
     "metadata": {
      "needs_background": "light"
     }
    },
    {
     "output_type": "display_data",
     "data": {
      "text/plain": "<Figure size 432x288 with 1 Axes>",
      "image/svg+xml": "<?xml version=\"1.0\" encoding=\"utf-8\" standalone=\"no\"?>\n<!DOCTYPE svg PUBLIC \"-//W3C//DTD SVG 1.1//EN\"\n  \"http://www.w3.org/Graphics/SVG/1.1/DTD/svg11.dtd\">\n<!-- Created with matplotlib (https://matplotlib.org/) -->\n<svg height=\"277.314375pt\" version=\"1.1\" viewBox=\"0 0 401.690625 277.314375\" width=\"401.690625pt\" xmlns=\"http://www.w3.org/2000/svg\" xmlns:xlink=\"http://www.w3.org/1999/xlink\">\n <defs>\n  <style type=\"text/css\">\n*{stroke-linecap:butt;stroke-linejoin:round;}\n  </style>\n </defs>\n <g id=\"figure_1\">\n  <g id=\"patch_1\">\n   <path d=\"M 0 277.314375 \nL 401.690625 277.314375 \nL 401.690625 0 \nL 0 0 \nz\n\" style=\"fill:none;\"/>\n  </g>\n  <g id=\"axes_1\">\n   <g id=\"patch_2\">\n    <path d=\"M 59.690625 239.758125 \nL 394.490625 239.758125 \nL 394.490625 22.318125 \nL 59.690625 22.318125 \nz\n\" style=\"fill:#ffffff;\"/>\n   </g>\n   <g id=\"patch_3\">\n    <path clip-path=\"url(#pa2b24b5202)\" d=\"M 74.908807 239.758125 \nL 82.517898 239.758125 \nL 82.517898 239.747939 \nL 74.908807 239.747939 \nz\n\" style=\"fill:#1f77b4;\"/>\n   </g>\n   <g id=\"patch_4\">\n    <path clip-path=\"url(#pa2b24b5202)\" d=\"M 82.517898 239.758125 \nL 90.126989 239.758125 \nL 90.126989 239.758125 \nL 82.517898 239.758125 \nz\n\" style=\"fill:#1f77b4;\"/>\n   </g>\n   <g id=\"patch_5\">\n    <path clip-path=\"url(#pa2b24b5202)\" d=\"M 90.126989 239.758125 \nL 97.73608 239.758125 \nL 97.73608 239.758125 \nL 90.126989 239.758125 \nz\n\" style=\"fill:#1f77b4;\"/>\n   </g>\n   <g id=\"patch_6\">\n    <path clip-path=\"url(#pa2b24b5202)\" d=\"M 97.73608 239.758125 \nL 105.34517 239.758125 \nL 105.34517 239.758125 \nL 97.73608 239.758125 \nz\n\" style=\"fill:#1f77b4;\"/>\n   </g>\n   <g id=\"patch_7\">\n    <path clip-path=\"url(#pa2b24b5202)\" d=\"M 105.34517 239.758125 \nL 112.954261 239.758125 \nL 112.954261 239.758125 \nL 105.34517 239.758125 \nz\n\" style=\"fill:#1f77b4;\"/>\n   </g>\n   <g id=\"patch_8\">\n    <path clip-path=\"url(#pa2b24b5202)\" d=\"M 112.954261 239.758125 \nL 120.563352 239.758125 \nL 120.563352 239.758125 \nL 112.954261 239.758125 \nz\n\" style=\"fill:#1f77b4;\"/>\n   </g>\n   <g id=\"patch_9\">\n    <path clip-path=\"url(#pa2b24b5202)\" d=\"M 120.563352 239.758125 \nL 128.172443 239.758125 \nL 128.172443 239.758125 \nL 120.563352 239.758125 \nz\n\" style=\"fill:#1f77b4;\"/>\n   </g>\n   <g id=\"patch_10\">\n    <path clip-path=\"url(#pa2b24b5202)\" d=\"M 128.172443 239.758125 \nL 135.781534 239.758125 \nL 135.781534 239.758125 \nL 128.172443 239.758125 \nz\n\" style=\"fill:#1f77b4;\"/>\n   </g>\n   <g id=\"patch_11\">\n    <path clip-path=\"url(#pa2b24b5202)\" d=\"M 135.781534 239.758125 \nL 143.390625 239.758125 \nL 143.390625 239.758125 \nL 135.781534 239.758125 \nz\n\" style=\"fill:#1f77b4;\"/>\n   </g>\n   <g id=\"patch_12\">\n    <path clip-path=\"url(#pa2b24b5202)\" d=\"M 143.390625 239.758125 \nL 150.999716 239.758125 \nL 150.999716 239.758125 \nL 143.390625 239.758125 \nz\n\" style=\"fill:#1f77b4;\"/>\n   </g>\n   <g id=\"patch_13\">\n    <path clip-path=\"url(#pa2b24b5202)\" d=\"M 150.999716 239.758125 \nL 158.608807 239.758125 \nL 158.608807 239.758125 \nL 150.999716 239.758125 \nz\n\" style=\"fill:#1f77b4;\"/>\n   </g>\n   <g id=\"patch_14\">\n    <path clip-path=\"url(#pa2b24b5202)\" d=\"M 158.608807 239.758125 \nL 166.217898 239.758125 \nL 166.217898 239.737753 \nL 158.608807 239.737753 \nz\n\" style=\"fill:#1f77b4;\"/>\n   </g>\n   <g id=\"patch_15\">\n    <path clip-path=\"url(#pa2b24b5202)\" d=\"M 166.217898 239.758125 \nL 173.826989 239.758125 \nL 173.826989 239.697008 \nL 166.217898 239.697008 \nz\n\" style=\"fill:#1f77b4;\"/>\n   </g>\n   <g id=\"patch_16\">\n    <path clip-path=\"url(#pa2b24b5202)\" d=\"M 173.826989 239.758125 \nL 181.43608 239.758125 \nL 181.43608 239.625704 \nL 173.826989 239.625704 \nz\n\" style=\"fill:#1f77b4;\"/>\n   </g>\n   <g id=\"patch_17\">\n    <path clip-path=\"url(#pa2b24b5202)\" d=\"M 181.43608 239.758125 \nL 189.04517 239.758125 \nL 189.04517 239.055276 \nL 181.43608 239.055276 \nz\n\" style=\"fill:#1f77b4;\"/>\n   </g>\n   <g id=\"patch_18\">\n    <path clip-path=\"url(#pa2b24b5202)\" d=\"M 189.04517 239.758125 \nL 196.654261 239.758125 \nL 196.654261 238.311683 \nL 189.04517 238.311683 \nz\n\" style=\"fill:#1f77b4;\"/>\n   </g>\n   <g id=\"patch_19\">\n    <path clip-path=\"url(#pa2b24b5202)\" d=\"M 196.654261 239.758125 \nL 204.263352 239.758125 \nL 204.263352 230.020105 \nL 196.654261 230.020105 \nz\n\" style=\"fill:#1f77b4;\"/>\n   </g>\n   <g id=\"patch_20\">\n    <path clip-path=\"url(#pa2b24b5202)\" d=\"M 204.263352 239.758125 \nL 211.872443 239.758125 \nL 211.872443 229.164463 \nL 204.263352 229.164463 \nz\n\" style=\"fill:#1f77b4;\"/>\n   </g>\n   <g id=\"patch_21\">\n    <path clip-path=\"url(#pa2b24b5202)\" d=\"M 211.872443 239.758125 \nL 219.481534 239.758125 \nL 219.481534 192.453351 \nL 211.872443 192.453351 \nz\n\" style=\"fill:#1f77b4;\"/>\n   </g>\n   <g id=\"patch_22\">\n    <path clip-path=\"url(#pa2b24b5202)\" d=\"M 219.481534 239.758125 \nL 227.090625 239.758125 \nL 227.090625 197.719623 \nL 219.481534 197.719623 \nz\n\" style=\"fill:#1f77b4;\"/>\n   </g>\n   <g id=\"patch_23\">\n    <path clip-path=\"url(#pa2b24b5202)\" d=\"M 227.090625 239.758125 \nL 234.699716 239.758125 \nL 234.699716 181.309634 \nL 227.090625 181.309634 \nz\n\" style=\"fill:#1f77b4;\"/>\n   </g>\n   <g id=\"patch_24\">\n    <path clip-path=\"url(#pa2b24b5202)\" d=\"M 234.699716 239.758125 \nL 242.308807 239.758125 \nL 242.308807 74.232161 \nL 234.699716 74.232161 \nz\n\" style=\"fill:#1f77b4;\"/>\n   </g>\n   <g id=\"patch_25\">\n    <path clip-path=\"url(#pa2b24b5202)\" d=\"M 242.308807 239.758125 \nL 249.917898 239.758125 \nL 249.917898 137.95711 \nL 242.308807 137.95711 \nz\n\" style=\"fill:#1f77b4;\"/>\n   </g>\n   <g id=\"patch_26\">\n    <path clip-path=\"url(#pa2b24b5202)\" d=\"M 249.917898 239.758125 \nL 257.526989 239.758125 \nL 257.526989 32.672411 \nL 249.917898 32.672411 \nz\n\" style=\"fill:#1f77b4;\"/>\n   </g>\n   <g id=\"patch_27\">\n    <path clip-path=\"url(#pa2b24b5202)\" d=\"M 257.526989 239.758125 \nL 265.13608 239.758125 \nL 265.13608 145.423605 \nL 257.526989 145.423605 \nz\n\" style=\"fill:#1f77b4;\"/>\n   </g>\n   <g id=\"patch_28\">\n    <path clip-path=\"url(#pa2b24b5202)\" d=\"M 265.13608 239.758125 \nL 272.74517 239.758125 \nL 272.74517 99.106893 \nL 265.13608 99.106893 \nz\n\" style=\"fill:#1f77b4;\"/>\n   </g>\n   <g id=\"patch_29\">\n    <path clip-path=\"url(#pa2b24b5202)\" d=\"M 272.74517 239.758125 \nL 280.354261 239.758125 \nL 280.354261 194.011842 \nL 272.74517 194.011842 \nz\n\" style=\"fill:#1f77b4;\"/>\n   </g>\n   <g id=\"patch_30\">\n    <path clip-path=\"url(#pa2b24b5202)\" d=\"M 280.354261 239.758125 \nL 287.963352 239.758125 \nL 287.963352 188.5011 \nL 280.354261 188.5011 \nz\n\" style=\"fill:#1f77b4;\"/>\n   </g>\n   <g id=\"patch_31\">\n    <path clip-path=\"url(#pa2b24b5202)\" d=\"M 287.963352 239.758125 \nL 295.572443 239.758125 \nL 295.572443 227.5856 \nL 287.963352 227.5856 \nz\n\" style=\"fill:#1f77b4;\"/>\n   </g>\n   <g id=\"patch_32\">\n    <path clip-path=\"url(#pa2b24b5202)\" d=\"M 295.572443 239.758125 \nL 303.181534 239.758125 \nL 303.181534 230.14234 \nL 295.572443 230.14234 \nz\n\" style=\"fill:#1f77b4;\"/>\n   </g>\n   <g id=\"patch_33\">\n    <path clip-path=\"url(#pa2b24b5202)\" d=\"M 303.181534 239.758125 \nL 310.790625 239.758125 \nL 310.790625 238.230193 \nL 303.181534 238.230193 \nz\n\" style=\"fill:#1f77b4;\"/>\n   </g>\n   <g id=\"patch_34\">\n    <path clip-path=\"url(#pa2b24b5202)\" d=\"M 310.790625 239.758125 \nL 318.399716 239.758125 \nL 318.399716 238.484848 \nL 310.790625 238.484848 \nz\n\" style=\"fill:#1f77b4;\"/>\n   </g>\n   <g id=\"patch_35\">\n    <path clip-path=\"url(#pa2b24b5202)\" d=\"M 318.399716 239.758125 \nL 326.008807 239.758125 \nL 326.008807 239.615518 \nL 318.399716 239.615518 \nz\n\" style=\"fill:#1f77b4;\"/>\n   </g>\n   <g id=\"patch_36\">\n    <path clip-path=\"url(#pa2b24b5202)\" d=\"M 326.008807 239.758125 \nL 333.617898 239.758125 \nL 333.617898 239.574773 \nL 326.008807 239.574773 \nz\n\" style=\"fill:#1f77b4;\"/>\n   </g>\n   <g id=\"patch_37\">\n    <path clip-path=\"url(#pa2b24b5202)\" d=\"M 333.617898 239.758125 \nL 341.226989 239.758125 \nL 341.226989 239.71738 \nL 333.617898 239.71738 \nz\n\" style=\"fill:#1f77b4;\"/>\n   </g>\n   <g id=\"patch_38\">\n    <path clip-path=\"url(#pa2b24b5202)\" d=\"M 341.226989 239.758125 \nL 348.83608 239.758125 \nL 348.83608 239.71738 \nL 341.226989 239.71738 \nz\n\" style=\"fill:#1f77b4;\"/>\n   </g>\n   <g id=\"patch_39\">\n    <path clip-path=\"url(#pa2b24b5202)\" d=\"M 348.83608 239.758125 \nL 356.44517 239.758125 \nL 356.44517 239.747939 \nL 348.83608 239.747939 \nz\n\" style=\"fill:#1f77b4;\"/>\n   </g>\n   <g id=\"patch_40\">\n    <path clip-path=\"url(#pa2b24b5202)\" d=\"M 356.44517 239.758125 \nL 364.054261 239.758125 \nL 364.054261 239.758125 \nL 356.44517 239.758125 \nz\n\" style=\"fill:#1f77b4;\"/>\n   </g>\n   <g id=\"patch_41\">\n    <path clip-path=\"url(#pa2b24b5202)\" d=\"M 364.054261 239.758125 \nL 371.663352 239.758125 \nL 371.663352 239.758125 \nL 364.054261 239.758125 \nz\n\" style=\"fill:#1f77b4;\"/>\n   </g>\n   <g id=\"patch_42\">\n    <path clip-path=\"url(#pa2b24b5202)\" d=\"M 371.663352 239.758125 \nL 379.272443 239.758125 \nL 379.272443 239.747939 \nL 371.663352 239.747939 \nz\n\" style=\"fill:#1f77b4;\"/>\n   </g>\n   <g id=\"matplotlib.axis_1\">\n    <g id=\"xtick_1\">\n     <g id=\"line2d_1\">\n      <defs>\n       <path d=\"M 0 0 \nL 0 3.5 \n\" id=\"md460c2fbc9\" style=\"stroke:#000000;stroke-width:0.8;\"/>\n      </defs>\n      <g>\n       <use style=\"stroke:#000000;stroke-width:0.8;\" x=\"69.750101\" xlink:href=\"#md460c2fbc9\" y=\"239.758125\"/>\n      </g>\n     </g>\n     <g id=\"text_1\">\n      <!-- 0 -->\n      <defs>\n       <path d=\"M 31.78125 66.40625 \nQ 24.171875 66.40625 20.328125 58.90625 \nQ 16.5 51.421875 16.5 36.375 \nQ 16.5 21.390625 20.328125 13.890625 \nQ 24.171875 6.390625 31.78125 6.390625 \nQ 39.453125 6.390625 43.28125 13.890625 \nQ 47.125 21.390625 47.125 36.375 \nQ 47.125 51.421875 43.28125 58.90625 \nQ 39.453125 66.40625 31.78125 66.40625 \nz\nM 31.78125 74.21875 \nQ 44.046875 74.21875 50.515625 64.515625 \nQ 56.984375 54.828125 56.984375 36.375 \nQ 56.984375 17.96875 50.515625 8.265625 \nQ 44.046875 -1.421875 31.78125 -1.421875 \nQ 19.53125 -1.421875 13.0625 8.265625 \nQ 6.59375 17.96875 6.59375 36.375 \nQ 6.59375 54.828125 13.0625 64.515625 \nQ 19.53125 74.21875 31.78125 74.21875 \nz\n\" id=\"DejaVuSans-48\"/>\n      </defs>\n      <g transform=\"translate(66.568851 254.356562)scale(0.1 -0.1)\">\n       <use xlink:href=\"#DejaVuSans-48\"/>\n      </g>\n     </g>\n    </g>\n    <g id=\"xtick_2\">\n     <g id=\"line2d_2\">\n      <g>\n       <use style=\"stroke:#000000;stroke-width:0.8;\" x=\"121.337158\" xlink:href=\"#md460c2fbc9\" y=\"239.758125\"/>\n      </g>\n     </g>\n     <g id=\"text_2\">\n      <!-- 10 -->\n      <defs>\n       <path d=\"M 12.40625 8.296875 \nL 28.515625 8.296875 \nL 28.515625 63.921875 \nL 10.984375 60.40625 \nL 10.984375 69.390625 \nL 28.421875 72.90625 \nL 38.28125 72.90625 \nL 38.28125 8.296875 \nL 54.390625 8.296875 \nL 54.390625 0 \nL 12.40625 0 \nz\n\" id=\"DejaVuSans-49\"/>\n      </defs>\n      <g transform=\"translate(114.974658 254.356562)scale(0.1 -0.1)\">\n       <use xlink:href=\"#DejaVuSans-49\"/>\n       <use x=\"63.623047\" xlink:href=\"#DejaVuSans-48\"/>\n      </g>\n     </g>\n    </g>\n    <g id=\"xtick_3\">\n     <g id=\"line2d_3\">\n      <g>\n       <use style=\"stroke:#000000;stroke-width:0.8;\" x=\"172.924215\" xlink:href=\"#md460c2fbc9\" y=\"239.758125\"/>\n      </g>\n     </g>\n     <g id=\"text_3\">\n      <!-- 20 -->\n      <defs>\n       <path d=\"M 19.1875 8.296875 \nL 53.609375 8.296875 \nL 53.609375 0 \nL 7.328125 0 \nL 7.328125 8.296875 \nQ 12.9375 14.109375 22.625 23.890625 \nQ 32.328125 33.6875 34.8125 36.53125 \nQ 39.546875 41.84375 41.421875 45.53125 \nQ 43.3125 49.21875 43.3125 52.78125 \nQ 43.3125 58.59375 39.234375 62.25 \nQ 35.15625 65.921875 28.609375 65.921875 \nQ 23.96875 65.921875 18.8125 64.3125 \nQ 13.671875 62.703125 7.8125 59.421875 \nL 7.8125 69.390625 \nQ 13.765625 71.78125 18.9375 73 \nQ 24.125 74.21875 28.421875 74.21875 \nQ 39.75 74.21875 46.484375 68.546875 \nQ 53.21875 62.890625 53.21875 53.421875 \nQ 53.21875 48.921875 51.53125 44.890625 \nQ 49.859375 40.875 45.40625 35.40625 \nQ 44.1875 33.984375 37.640625 27.21875 \nQ 31.109375 20.453125 19.1875 8.296875 \nz\n\" id=\"DejaVuSans-50\"/>\n      </defs>\n      <g transform=\"translate(166.561715 254.356562)scale(0.1 -0.1)\">\n       <use xlink:href=\"#DejaVuSans-50\"/>\n       <use x=\"63.623047\" xlink:href=\"#DejaVuSans-48\"/>\n      </g>\n     </g>\n    </g>\n    <g id=\"xtick_4\">\n     <g id=\"line2d_4\">\n      <g>\n       <use style=\"stroke:#000000;stroke-width:0.8;\" x=\"224.511272\" xlink:href=\"#md460c2fbc9\" y=\"239.758125\"/>\n      </g>\n     </g>\n     <g id=\"text_4\">\n      <!-- 30 -->\n      <defs>\n       <path d=\"M 40.578125 39.3125 \nQ 47.65625 37.796875 51.625 33 \nQ 55.609375 28.21875 55.609375 21.1875 \nQ 55.609375 10.40625 48.1875 4.484375 \nQ 40.765625 -1.421875 27.09375 -1.421875 \nQ 22.515625 -1.421875 17.65625 -0.515625 \nQ 12.796875 0.390625 7.625 2.203125 \nL 7.625 11.71875 \nQ 11.71875 9.328125 16.59375 8.109375 \nQ 21.484375 6.890625 26.8125 6.890625 \nQ 36.078125 6.890625 40.9375 10.546875 \nQ 45.796875 14.203125 45.796875 21.1875 \nQ 45.796875 27.640625 41.28125 31.265625 \nQ 36.765625 34.90625 28.71875 34.90625 \nL 20.21875 34.90625 \nL 20.21875 43.015625 \nL 29.109375 43.015625 \nQ 36.375 43.015625 40.234375 45.921875 \nQ 44.09375 48.828125 44.09375 54.296875 \nQ 44.09375 59.90625 40.109375 62.90625 \nQ 36.140625 65.921875 28.71875 65.921875 \nQ 24.65625 65.921875 20.015625 65.03125 \nQ 15.375 64.15625 9.8125 62.3125 \nL 9.8125 71.09375 \nQ 15.4375 72.65625 20.34375 73.4375 \nQ 25.25 74.21875 29.59375 74.21875 \nQ 40.828125 74.21875 47.359375 69.109375 \nQ 53.90625 64.015625 53.90625 55.328125 \nQ 53.90625 49.265625 50.4375 45.09375 \nQ 46.96875 40.921875 40.578125 39.3125 \nz\n\" id=\"DejaVuSans-51\"/>\n      </defs>\n      <g transform=\"translate(218.148772 254.356562)scale(0.1 -0.1)\">\n       <use xlink:href=\"#DejaVuSans-51\"/>\n       <use x=\"63.623047\" xlink:href=\"#DejaVuSans-48\"/>\n      </g>\n     </g>\n    </g>\n    <g id=\"xtick_5\">\n     <g id=\"line2d_5\">\n      <g>\n       <use style=\"stroke:#000000;stroke-width:0.8;\" x=\"276.098329\" xlink:href=\"#md460c2fbc9\" y=\"239.758125\"/>\n      </g>\n     </g>\n     <g id=\"text_5\">\n      <!-- 40 -->\n      <defs>\n       <path d=\"M 37.796875 64.3125 \nL 12.890625 25.390625 \nL 37.796875 25.390625 \nz\nM 35.203125 72.90625 \nL 47.609375 72.90625 \nL 47.609375 25.390625 \nL 58.015625 25.390625 \nL 58.015625 17.1875 \nL 47.609375 17.1875 \nL 47.609375 0 \nL 37.796875 0 \nL 37.796875 17.1875 \nL 4.890625 17.1875 \nL 4.890625 26.703125 \nz\n\" id=\"DejaVuSans-52\"/>\n      </defs>\n      <g transform=\"translate(269.735829 254.356562)scale(0.1 -0.1)\">\n       <use xlink:href=\"#DejaVuSans-52\"/>\n       <use x=\"63.623047\" xlink:href=\"#DejaVuSans-48\"/>\n      </g>\n     </g>\n    </g>\n    <g id=\"xtick_6\">\n     <g id=\"line2d_6\">\n      <g>\n       <use style=\"stroke:#000000;stroke-width:0.8;\" x=\"327.685386\" xlink:href=\"#md460c2fbc9\" y=\"239.758125\"/>\n      </g>\n     </g>\n     <g id=\"text_6\">\n      <!-- 50 -->\n      <defs>\n       <path d=\"M 10.796875 72.90625 \nL 49.515625 72.90625 \nL 49.515625 64.59375 \nL 19.828125 64.59375 \nL 19.828125 46.734375 \nQ 21.96875 47.46875 24.109375 47.828125 \nQ 26.265625 48.1875 28.421875 48.1875 \nQ 40.625 48.1875 47.75 41.5 \nQ 54.890625 34.8125 54.890625 23.390625 \nQ 54.890625 11.625 47.5625 5.09375 \nQ 40.234375 -1.421875 26.90625 -1.421875 \nQ 22.3125 -1.421875 17.546875 -0.640625 \nQ 12.796875 0.140625 7.71875 1.703125 \nL 7.71875 11.625 \nQ 12.109375 9.234375 16.796875 8.0625 \nQ 21.484375 6.890625 26.703125 6.890625 \nQ 35.15625 6.890625 40.078125 11.328125 \nQ 45.015625 15.765625 45.015625 23.390625 \nQ 45.015625 31 40.078125 35.4375 \nQ 35.15625 39.890625 26.703125 39.890625 \nQ 22.75 39.890625 18.8125 39.015625 \nQ 14.890625 38.140625 10.796875 36.28125 \nz\n\" id=\"DejaVuSans-53\"/>\n      </defs>\n      <g transform=\"translate(321.322886 254.356562)scale(0.1 -0.1)\">\n       <use xlink:href=\"#DejaVuSans-53\"/>\n       <use x=\"63.623047\" xlink:href=\"#DejaVuSans-48\"/>\n      </g>\n     </g>\n    </g>\n    <g id=\"xtick_7\">\n     <g id=\"line2d_7\">\n      <g>\n       <use style=\"stroke:#000000;stroke-width:0.8;\" x=\"379.272443\" xlink:href=\"#md460c2fbc9\" y=\"239.758125\"/>\n      </g>\n     </g>\n     <g id=\"text_7\">\n      <!-- 60 -->\n      <defs>\n       <path d=\"M 33.015625 40.375 \nQ 26.375 40.375 22.484375 35.828125 \nQ 18.609375 31.296875 18.609375 23.390625 \nQ 18.609375 15.53125 22.484375 10.953125 \nQ 26.375 6.390625 33.015625 6.390625 \nQ 39.65625 6.390625 43.53125 10.953125 \nQ 47.40625 15.53125 47.40625 23.390625 \nQ 47.40625 31.296875 43.53125 35.828125 \nQ 39.65625 40.375 33.015625 40.375 \nz\nM 52.59375 71.296875 \nL 52.59375 62.3125 \nQ 48.875 64.0625 45.09375 64.984375 \nQ 41.3125 65.921875 37.59375 65.921875 \nQ 27.828125 65.921875 22.671875 59.328125 \nQ 17.53125 52.734375 16.796875 39.40625 \nQ 19.671875 43.65625 24.015625 45.921875 \nQ 28.375 48.1875 33.59375 48.1875 \nQ 44.578125 48.1875 50.953125 41.515625 \nQ 57.328125 34.859375 57.328125 23.390625 \nQ 57.328125 12.15625 50.6875 5.359375 \nQ 44.046875 -1.421875 33.015625 -1.421875 \nQ 20.359375 -1.421875 13.671875 8.265625 \nQ 6.984375 17.96875 6.984375 36.375 \nQ 6.984375 53.65625 15.1875 63.9375 \nQ 23.390625 74.21875 37.203125 74.21875 \nQ 40.921875 74.21875 44.703125 73.484375 \nQ 48.484375 72.75 52.59375 71.296875 \nz\n\" id=\"DejaVuSans-54\"/>\n      </defs>\n      <g transform=\"translate(372.909943 254.356562)scale(0.1 -0.1)\">\n       <use xlink:href=\"#DejaVuSans-54\"/>\n       <use x=\"63.623047\" xlink:href=\"#DejaVuSans-48\"/>\n      </g>\n     </g>\n    </g>\n    <g id=\"text_8\">\n     <!-- length of samples -->\n     <defs>\n      <path d=\"M 9.421875 75.984375 \nL 18.40625 75.984375 \nL 18.40625 0 \nL 9.421875 0 \nz\n\" id=\"DejaVuSans-108\"/>\n      <path d=\"M 56.203125 29.59375 \nL 56.203125 25.203125 \nL 14.890625 25.203125 \nQ 15.484375 15.921875 20.484375 11.0625 \nQ 25.484375 6.203125 34.421875 6.203125 \nQ 39.59375 6.203125 44.453125 7.46875 \nQ 49.3125 8.734375 54.109375 11.28125 \nL 54.109375 2.78125 \nQ 49.265625 0.734375 44.1875 -0.34375 \nQ 39.109375 -1.421875 33.890625 -1.421875 \nQ 20.796875 -1.421875 13.15625 6.1875 \nQ 5.515625 13.8125 5.515625 26.8125 \nQ 5.515625 40.234375 12.765625 48.109375 \nQ 20.015625 56 32.328125 56 \nQ 43.359375 56 49.78125 48.890625 \nQ 56.203125 41.796875 56.203125 29.59375 \nz\nM 47.21875 32.234375 \nQ 47.125 39.59375 43.09375 43.984375 \nQ 39.0625 48.390625 32.421875 48.390625 \nQ 24.90625 48.390625 20.390625 44.140625 \nQ 15.875 39.890625 15.1875 32.171875 \nz\n\" id=\"DejaVuSans-101\"/>\n      <path d=\"M 54.890625 33.015625 \nL 54.890625 0 \nL 45.90625 0 \nL 45.90625 32.71875 \nQ 45.90625 40.484375 42.875 44.328125 \nQ 39.84375 48.1875 33.796875 48.1875 \nQ 26.515625 48.1875 22.3125 43.546875 \nQ 18.109375 38.921875 18.109375 30.90625 \nL 18.109375 0 \nL 9.078125 0 \nL 9.078125 54.6875 \nL 18.109375 54.6875 \nL 18.109375 46.1875 \nQ 21.34375 51.125 25.703125 53.5625 \nQ 30.078125 56 35.796875 56 \nQ 45.21875 56 50.046875 50.171875 \nQ 54.890625 44.34375 54.890625 33.015625 \nz\n\" id=\"DejaVuSans-110\"/>\n      <path d=\"M 45.40625 27.984375 \nQ 45.40625 37.75 41.375 43.109375 \nQ 37.359375 48.484375 30.078125 48.484375 \nQ 22.859375 48.484375 18.828125 43.109375 \nQ 14.796875 37.75 14.796875 27.984375 \nQ 14.796875 18.265625 18.828125 12.890625 \nQ 22.859375 7.515625 30.078125 7.515625 \nQ 37.359375 7.515625 41.375 12.890625 \nQ 45.40625 18.265625 45.40625 27.984375 \nz\nM 54.390625 6.78125 \nQ 54.390625 -7.171875 48.1875 -13.984375 \nQ 42 -20.796875 29.203125 -20.796875 \nQ 24.46875 -20.796875 20.265625 -20.09375 \nQ 16.0625 -19.390625 12.109375 -17.921875 \nL 12.109375 -9.1875 \nQ 16.0625 -11.328125 19.921875 -12.34375 \nQ 23.78125 -13.375 27.78125 -13.375 \nQ 36.625 -13.375 41.015625 -8.765625 \nQ 45.40625 -4.15625 45.40625 5.171875 \nL 45.40625 9.625 \nQ 42.625 4.78125 38.28125 2.390625 \nQ 33.9375 0 27.875 0 \nQ 17.828125 0 11.671875 7.65625 \nQ 5.515625 15.328125 5.515625 27.984375 \nQ 5.515625 40.671875 11.671875 48.328125 \nQ 17.828125 56 27.875 56 \nQ 33.9375 56 38.28125 53.609375 \nQ 42.625 51.21875 45.40625 46.390625 \nL 45.40625 54.6875 \nL 54.390625 54.6875 \nz\n\" id=\"DejaVuSans-103\"/>\n      <path d=\"M 18.3125 70.21875 \nL 18.3125 54.6875 \nL 36.8125 54.6875 \nL 36.8125 47.703125 \nL 18.3125 47.703125 \nL 18.3125 18.015625 \nQ 18.3125 11.328125 20.140625 9.421875 \nQ 21.96875 7.515625 27.59375 7.515625 \nL 36.8125 7.515625 \nL 36.8125 0 \nL 27.59375 0 \nQ 17.1875 0 13.234375 3.875 \nQ 9.28125 7.765625 9.28125 18.015625 \nL 9.28125 47.703125 \nL 2.6875 47.703125 \nL 2.6875 54.6875 \nL 9.28125 54.6875 \nL 9.28125 70.21875 \nz\n\" id=\"DejaVuSans-116\"/>\n      <path d=\"M 54.890625 33.015625 \nL 54.890625 0 \nL 45.90625 0 \nL 45.90625 32.71875 \nQ 45.90625 40.484375 42.875 44.328125 \nQ 39.84375 48.1875 33.796875 48.1875 \nQ 26.515625 48.1875 22.3125 43.546875 \nQ 18.109375 38.921875 18.109375 30.90625 \nL 18.109375 0 \nL 9.078125 0 \nL 9.078125 75.984375 \nL 18.109375 75.984375 \nL 18.109375 46.1875 \nQ 21.34375 51.125 25.703125 53.5625 \nQ 30.078125 56 35.796875 56 \nQ 45.21875 56 50.046875 50.171875 \nQ 54.890625 44.34375 54.890625 33.015625 \nz\n\" id=\"DejaVuSans-104\"/>\n      <path id=\"DejaVuSans-32\"/>\n      <path d=\"M 30.609375 48.390625 \nQ 23.390625 48.390625 19.1875 42.75 \nQ 14.984375 37.109375 14.984375 27.296875 \nQ 14.984375 17.484375 19.15625 11.84375 \nQ 23.34375 6.203125 30.609375 6.203125 \nQ 37.796875 6.203125 41.984375 11.859375 \nQ 46.1875 17.53125 46.1875 27.296875 \nQ 46.1875 37.015625 41.984375 42.703125 \nQ 37.796875 48.390625 30.609375 48.390625 \nz\nM 30.609375 56 \nQ 42.328125 56 49.015625 48.375 \nQ 55.71875 40.765625 55.71875 27.296875 \nQ 55.71875 13.875 49.015625 6.21875 \nQ 42.328125 -1.421875 30.609375 -1.421875 \nQ 18.84375 -1.421875 12.171875 6.21875 \nQ 5.515625 13.875 5.515625 27.296875 \nQ 5.515625 40.765625 12.171875 48.375 \nQ 18.84375 56 30.609375 56 \nz\n\" id=\"DejaVuSans-111\"/>\n      <path d=\"M 37.109375 75.984375 \nL 37.109375 68.5 \nL 28.515625 68.5 \nQ 23.6875 68.5 21.796875 66.546875 \nQ 19.921875 64.59375 19.921875 59.515625 \nL 19.921875 54.6875 \nL 34.71875 54.6875 \nL 34.71875 47.703125 \nL 19.921875 47.703125 \nL 19.921875 0 \nL 10.890625 0 \nL 10.890625 47.703125 \nL 2.296875 47.703125 \nL 2.296875 54.6875 \nL 10.890625 54.6875 \nL 10.890625 58.5 \nQ 10.890625 67.625 15.140625 71.796875 \nQ 19.390625 75.984375 28.609375 75.984375 \nz\n\" id=\"DejaVuSans-102\"/>\n      <path d=\"M 44.28125 53.078125 \nL 44.28125 44.578125 \nQ 40.484375 46.53125 36.375 47.5 \nQ 32.28125 48.484375 27.875 48.484375 \nQ 21.1875 48.484375 17.84375 46.4375 \nQ 14.5 44.390625 14.5 40.28125 \nQ 14.5 37.15625 16.890625 35.375 \nQ 19.28125 33.59375 26.515625 31.984375 \nL 29.59375 31.296875 \nQ 39.15625 29.25 43.1875 25.515625 \nQ 47.21875 21.78125 47.21875 15.09375 \nQ 47.21875 7.46875 41.1875 3.015625 \nQ 35.15625 -1.421875 24.609375 -1.421875 \nQ 20.21875 -1.421875 15.453125 -0.5625 \nQ 10.6875 0.296875 5.421875 2 \nL 5.421875 11.28125 \nQ 10.40625 8.6875 15.234375 7.390625 \nQ 20.0625 6.109375 24.8125 6.109375 \nQ 31.15625 6.109375 34.5625 8.28125 \nQ 37.984375 10.453125 37.984375 14.40625 \nQ 37.984375 18.0625 35.515625 20.015625 \nQ 33.0625 21.96875 24.703125 23.78125 \nL 21.578125 24.515625 \nQ 13.234375 26.265625 9.515625 29.90625 \nQ 5.8125 33.546875 5.8125 39.890625 \nQ 5.8125 47.609375 11.28125 51.796875 \nQ 16.75 56 26.8125 56 \nQ 31.78125 56 36.171875 55.265625 \nQ 40.578125 54.546875 44.28125 53.078125 \nz\n\" id=\"DejaVuSans-115\"/>\n      <path d=\"M 34.28125 27.484375 \nQ 23.390625 27.484375 19.1875 25 \nQ 14.984375 22.515625 14.984375 16.5 \nQ 14.984375 11.71875 18.140625 8.90625 \nQ 21.296875 6.109375 26.703125 6.109375 \nQ 34.1875 6.109375 38.703125 11.40625 \nQ 43.21875 16.703125 43.21875 25.484375 \nL 43.21875 27.484375 \nz\nM 52.203125 31.203125 \nL 52.203125 0 \nL 43.21875 0 \nL 43.21875 8.296875 \nQ 40.140625 3.328125 35.546875 0.953125 \nQ 30.953125 -1.421875 24.3125 -1.421875 \nQ 15.921875 -1.421875 10.953125 3.296875 \nQ 6 8.015625 6 15.921875 \nQ 6 25.140625 12.171875 29.828125 \nQ 18.359375 34.515625 30.609375 34.515625 \nL 43.21875 34.515625 \nL 43.21875 35.40625 \nQ 43.21875 41.609375 39.140625 45 \nQ 35.0625 48.390625 27.6875 48.390625 \nQ 23 48.390625 18.546875 47.265625 \nQ 14.109375 46.140625 10.015625 43.890625 \nL 10.015625 52.203125 \nQ 14.9375 54.109375 19.578125 55.046875 \nQ 24.21875 56 28.609375 56 \nQ 40.484375 56 46.34375 49.84375 \nQ 52.203125 43.703125 52.203125 31.203125 \nz\n\" id=\"DejaVuSans-97\"/>\n      <path d=\"M 52 44.1875 \nQ 55.375 50.25 60.0625 53.125 \nQ 64.75 56 71.09375 56 \nQ 79.640625 56 84.28125 50.015625 \nQ 88.921875 44.046875 88.921875 33.015625 \nL 88.921875 0 \nL 79.890625 0 \nL 79.890625 32.71875 \nQ 79.890625 40.578125 77.09375 44.375 \nQ 74.3125 48.1875 68.609375 48.1875 \nQ 61.625 48.1875 57.5625 43.546875 \nQ 53.515625 38.921875 53.515625 30.90625 \nL 53.515625 0 \nL 44.484375 0 \nL 44.484375 32.71875 \nQ 44.484375 40.625 41.703125 44.40625 \nQ 38.921875 48.1875 33.109375 48.1875 \nQ 26.21875 48.1875 22.15625 43.53125 \nQ 18.109375 38.875 18.109375 30.90625 \nL 18.109375 0 \nL 9.078125 0 \nL 9.078125 54.6875 \nL 18.109375 54.6875 \nL 18.109375 46.1875 \nQ 21.1875 51.21875 25.484375 53.609375 \nQ 29.78125 56 35.6875 56 \nQ 41.65625 56 45.828125 52.96875 \nQ 50 49.953125 52 44.1875 \nz\n\" id=\"DejaVuSans-109\"/>\n      <path d=\"M 18.109375 8.203125 \nL 18.109375 -20.796875 \nL 9.078125 -20.796875 \nL 9.078125 54.6875 \nL 18.109375 54.6875 \nL 18.109375 46.390625 \nQ 20.953125 51.265625 25.265625 53.625 \nQ 29.59375 56 35.59375 56 \nQ 45.5625 56 51.78125 48.09375 \nQ 58.015625 40.1875 58.015625 27.296875 \nQ 58.015625 14.40625 51.78125 6.484375 \nQ 45.5625 -1.421875 35.59375 -1.421875 \nQ 29.59375 -1.421875 25.265625 0.953125 \nQ 20.953125 3.328125 18.109375 8.203125 \nz\nM 48.6875 27.296875 \nQ 48.6875 37.203125 44.609375 42.84375 \nQ 40.53125 48.484375 33.40625 48.484375 \nQ 26.265625 48.484375 22.1875 42.84375 \nQ 18.109375 37.203125 18.109375 27.296875 \nQ 18.109375 17.390625 22.1875 11.75 \nQ 26.265625 6.109375 33.40625 6.109375 \nQ 40.53125 6.109375 44.609375 11.75 \nQ 48.6875 17.390625 48.6875 27.296875 \nz\n\" id=\"DejaVuSans-112\"/>\n     </defs>\n     <g transform=\"translate(182.371875 268.034687)scale(0.1 -0.1)\">\n      <use xlink:href=\"#DejaVuSans-108\"/>\n      <use x=\"27.783203\" xlink:href=\"#DejaVuSans-101\"/>\n      <use x=\"89.306641\" xlink:href=\"#DejaVuSans-110\"/>\n      <use x=\"152.685547\" xlink:href=\"#DejaVuSans-103\"/>\n      <use x=\"216.162109\" xlink:href=\"#DejaVuSans-116\"/>\n      <use x=\"255.371094\" xlink:href=\"#DejaVuSans-104\"/>\n      <use x=\"318.75\" xlink:href=\"#DejaVuSans-32\"/>\n      <use x=\"350.537109\" xlink:href=\"#DejaVuSans-111\"/>\n      <use x=\"411.71875\" xlink:href=\"#DejaVuSans-102\"/>\n      <use x=\"446.923828\" xlink:href=\"#DejaVuSans-32\"/>\n      <use x=\"478.710938\" xlink:href=\"#DejaVuSans-115\"/>\n      <use x=\"530.810547\" xlink:href=\"#DejaVuSans-97\"/>\n      <use x=\"592.089844\" xlink:href=\"#DejaVuSans-109\"/>\n      <use x=\"689.501953\" xlink:href=\"#DejaVuSans-112\"/>\n      <use x=\"752.978516\" xlink:href=\"#DejaVuSans-108\"/>\n      <use x=\"780.761719\" xlink:href=\"#DejaVuSans-101\"/>\n      <use x=\"842.285156\" xlink:href=\"#DejaVuSans-115\"/>\n     </g>\n    </g>\n   </g>\n   <g id=\"matplotlib.axis_2\">\n    <g id=\"ytick_1\">\n     <g id=\"line2d_8\">\n      <defs>\n       <path d=\"M 0 0 \nL -3.5 0 \n\" id=\"m6e29c26fa4\" style=\"stroke:#000000;stroke-width:0.8;\"/>\n      </defs>\n      <g>\n       <use style=\"stroke:#000000;stroke-width:0.8;\" x=\"59.690625\" xlink:href=\"#m6e29c26fa4\" y=\"239.758125\"/>\n      </g>\n     </g>\n     <g id=\"text_9\">\n      <!-- 0 -->\n      <g transform=\"translate(46.328125 243.557344)scale(0.1 -0.1)\">\n       <use xlink:href=\"#DejaVuSans-48\"/>\n      </g>\n     </g>\n    </g>\n    <g id=\"ytick_2\">\n     <g id=\"line2d_9\">\n      <g>\n       <use style=\"stroke:#000000;stroke-width:0.8;\" x=\"59.690625\" xlink:href=\"#m6e29c26fa4\" y=\"214.292592\"/>\n      </g>\n     </g>\n     <g id=\"text_10\">\n      <!-- 2500 -->\n      <g transform=\"translate(27.240625 218.091811)scale(0.1 -0.1)\">\n       <use xlink:href=\"#DejaVuSans-50\"/>\n       <use x=\"63.623047\" xlink:href=\"#DejaVuSans-53\"/>\n       <use x=\"127.246094\" xlink:href=\"#DejaVuSans-48\"/>\n       <use x=\"190.869141\" xlink:href=\"#DejaVuSans-48\"/>\n      </g>\n     </g>\n    </g>\n    <g id=\"ytick_3\">\n     <g id=\"line2d_10\">\n      <g>\n       <use style=\"stroke:#000000;stroke-width:0.8;\" x=\"59.690625\" xlink:href=\"#m6e29c26fa4\" y=\"188.827059\"/>\n      </g>\n     </g>\n     <g id=\"text_11\">\n      <!-- 5000 -->\n      <g transform=\"translate(27.240625 192.626278)scale(0.1 -0.1)\">\n       <use xlink:href=\"#DejaVuSans-53\"/>\n       <use x=\"63.623047\" xlink:href=\"#DejaVuSans-48\"/>\n       <use x=\"127.246094\" xlink:href=\"#DejaVuSans-48\"/>\n       <use x=\"190.869141\" xlink:href=\"#DejaVuSans-48\"/>\n      </g>\n     </g>\n    </g>\n    <g id=\"ytick_4\">\n     <g id=\"line2d_11\">\n      <g>\n       <use style=\"stroke:#000000;stroke-width:0.8;\" x=\"59.690625\" xlink:href=\"#m6e29c26fa4\" y=\"163.361526\"/>\n      </g>\n     </g>\n     <g id=\"text_12\">\n      <!-- 7500 -->\n      <defs>\n       <path d=\"M 8.203125 72.90625 \nL 55.078125 72.90625 \nL 55.078125 68.703125 \nL 28.609375 0 \nL 18.3125 0 \nL 43.21875 64.59375 \nL 8.203125 64.59375 \nz\n\" id=\"DejaVuSans-55\"/>\n      </defs>\n      <g transform=\"translate(27.240625 167.160745)scale(0.1 -0.1)\">\n       <use xlink:href=\"#DejaVuSans-55\"/>\n       <use x=\"63.623047\" xlink:href=\"#DejaVuSans-53\"/>\n       <use x=\"127.246094\" xlink:href=\"#DejaVuSans-48\"/>\n       <use x=\"190.869141\" xlink:href=\"#DejaVuSans-48\"/>\n      </g>\n     </g>\n    </g>\n    <g id=\"ytick_5\">\n     <g id=\"line2d_12\">\n      <g>\n       <use style=\"stroke:#000000;stroke-width:0.8;\" x=\"59.690625\" xlink:href=\"#m6e29c26fa4\" y=\"137.895993\"/>\n      </g>\n     </g>\n     <g id=\"text_13\">\n      <!-- 10000 -->\n      <g transform=\"translate(20.878125 141.695212)scale(0.1 -0.1)\">\n       <use xlink:href=\"#DejaVuSans-49\"/>\n       <use x=\"63.623047\" xlink:href=\"#DejaVuSans-48\"/>\n       <use x=\"127.246094\" xlink:href=\"#DejaVuSans-48\"/>\n       <use x=\"190.869141\" xlink:href=\"#DejaVuSans-48\"/>\n       <use x=\"254.492188\" xlink:href=\"#DejaVuSans-48\"/>\n      </g>\n     </g>\n    </g>\n    <g id=\"ytick_6\">\n     <g id=\"line2d_13\">\n      <g>\n       <use style=\"stroke:#000000;stroke-width:0.8;\" x=\"59.690625\" xlink:href=\"#m6e29c26fa4\" y=\"112.43046\"/>\n      </g>\n     </g>\n     <g id=\"text_14\">\n      <!-- 12500 -->\n      <g transform=\"translate(20.878125 116.229679)scale(0.1 -0.1)\">\n       <use xlink:href=\"#DejaVuSans-49\"/>\n       <use x=\"63.623047\" xlink:href=\"#DejaVuSans-50\"/>\n       <use x=\"127.246094\" xlink:href=\"#DejaVuSans-53\"/>\n       <use x=\"190.869141\" xlink:href=\"#DejaVuSans-48\"/>\n       <use x=\"254.492188\" xlink:href=\"#DejaVuSans-48\"/>\n      </g>\n     </g>\n    </g>\n    <g id=\"ytick_7\">\n     <g id=\"line2d_14\">\n      <g>\n       <use style=\"stroke:#000000;stroke-width:0.8;\" x=\"59.690625\" xlink:href=\"#m6e29c26fa4\" y=\"86.964927\"/>\n      </g>\n     </g>\n     <g id=\"text_15\">\n      <!-- 15000 -->\n      <g transform=\"translate(20.878125 90.764146)scale(0.1 -0.1)\">\n       <use xlink:href=\"#DejaVuSans-49\"/>\n       <use x=\"63.623047\" xlink:href=\"#DejaVuSans-53\"/>\n       <use x=\"127.246094\" xlink:href=\"#DejaVuSans-48\"/>\n       <use x=\"190.869141\" xlink:href=\"#DejaVuSans-48\"/>\n       <use x=\"254.492188\" xlink:href=\"#DejaVuSans-48\"/>\n      </g>\n     </g>\n    </g>\n    <g id=\"ytick_8\">\n     <g id=\"line2d_15\">\n      <g>\n       <use style=\"stroke:#000000;stroke-width:0.8;\" x=\"59.690625\" xlink:href=\"#m6e29c26fa4\" y=\"61.499394\"/>\n      </g>\n     </g>\n     <g id=\"text_16\">\n      <!-- 17500 -->\n      <g transform=\"translate(20.878125 65.298613)scale(0.1 -0.1)\">\n       <use xlink:href=\"#DejaVuSans-49\"/>\n       <use x=\"63.623047\" xlink:href=\"#DejaVuSans-55\"/>\n       <use x=\"127.246094\" xlink:href=\"#DejaVuSans-53\"/>\n       <use x=\"190.869141\" xlink:href=\"#DejaVuSans-48\"/>\n       <use x=\"254.492188\" xlink:href=\"#DejaVuSans-48\"/>\n      </g>\n     </g>\n    </g>\n    <g id=\"ytick_9\">\n     <g id=\"line2d_16\">\n      <g>\n       <use style=\"stroke:#000000;stroke-width:0.8;\" x=\"59.690625\" xlink:href=\"#m6e29c26fa4\" y=\"36.033861\"/>\n      </g>\n     </g>\n     <g id=\"text_17\">\n      <!-- 20000 -->\n      <g transform=\"translate(20.878125 39.83308)scale(0.1 -0.1)\">\n       <use xlink:href=\"#DejaVuSans-50\"/>\n       <use x=\"63.623047\" xlink:href=\"#DejaVuSans-48\"/>\n       <use x=\"127.246094\" xlink:href=\"#DejaVuSans-48\"/>\n       <use x=\"190.869141\" xlink:href=\"#DejaVuSans-48\"/>\n       <use x=\"254.492188\" xlink:href=\"#DejaVuSans-48\"/>\n      </g>\n     </g>\n    </g>\n    <g id=\"text_18\">\n     <!-- number of samples -->\n     <defs>\n      <path d=\"M 8.5 21.578125 \nL 8.5 54.6875 \nL 17.484375 54.6875 \nL 17.484375 21.921875 \nQ 17.484375 14.15625 20.5 10.265625 \nQ 23.53125 6.390625 29.59375 6.390625 \nQ 36.859375 6.390625 41.078125 11.03125 \nQ 45.3125 15.671875 45.3125 23.6875 \nL 45.3125 54.6875 \nL 54.296875 54.6875 \nL 54.296875 0 \nL 45.3125 0 \nL 45.3125 8.40625 \nQ 42.046875 3.421875 37.71875 1 \nQ 33.40625 -1.421875 27.6875 -1.421875 \nQ 18.265625 -1.421875 13.375 4.4375 \nQ 8.5 10.296875 8.5 21.578125 \nz\nM 31.109375 56 \nz\n\" id=\"DejaVuSans-117\"/>\n      <path d=\"M 48.6875 27.296875 \nQ 48.6875 37.203125 44.609375 42.84375 \nQ 40.53125 48.484375 33.40625 48.484375 \nQ 26.265625 48.484375 22.1875 42.84375 \nQ 18.109375 37.203125 18.109375 27.296875 \nQ 18.109375 17.390625 22.1875 11.75 \nQ 26.265625 6.109375 33.40625 6.109375 \nQ 40.53125 6.109375 44.609375 11.75 \nQ 48.6875 17.390625 48.6875 27.296875 \nz\nM 18.109375 46.390625 \nQ 20.953125 51.265625 25.265625 53.625 \nQ 29.59375 56 35.59375 56 \nQ 45.5625 56 51.78125 48.09375 \nQ 58.015625 40.1875 58.015625 27.296875 \nQ 58.015625 14.40625 51.78125 6.484375 \nQ 45.5625 -1.421875 35.59375 -1.421875 \nQ 29.59375 -1.421875 25.265625 0.953125 \nQ 20.953125 3.328125 18.109375 8.203125 \nL 18.109375 0 \nL 9.078125 0 \nL 9.078125 75.984375 \nL 18.109375 75.984375 \nz\n\" id=\"DejaVuSans-98\"/>\n      <path d=\"M 41.109375 46.296875 \nQ 39.59375 47.171875 37.8125 47.578125 \nQ 36.03125 48 33.890625 48 \nQ 26.265625 48 22.1875 43.046875 \nQ 18.109375 38.09375 18.109375 28.8125 \nL 18.109375 0 \nL 9.078125 0 \nL 9.078125 54.6875 \nL 18.109375 54.6875 \nL 18.109375 46.1875 \nQ 20.953125 51.171875 25.484375 53.578125 \nQ 30.03125 56 36.53125 56 \nQ 37.453125 56 38.578125 55.875 \nQ 39.703125 55.765625 41.0625 55.515625 \nz\n\" id=\"DejaVuSans-114\"/>\n     </defs>\n     <g transform=\"translate(14.798438 179.333437)rotate(-90)scale(0.1 -0.1)\">\n      <use xlink:href=\"#DejaVuSans-110\"/>\n      <use x=\"63.378906\" xlink:href=\"#DejaVuSans-117\"/>\n      <use x=\"126.757812\" xlink:href=\"#DejaVuSans-109\"/>\n      <use x=\"224.169922\" xlink:href=\"#DejaVuSans-98\"/>\n      <use x=\"287.646484\" xlink:href=\"#DejaVuSans-101\"/>\n      <use x=\"349.169922\" xlink:href=\"#DejaVuSans-114\"/>\n      <use x=\"390.283203\" xlink:href=\"#DejaVuSans-32\"/>\n      <use x=\"422.070312\" xlink:href=\"#DejaVuSans-111\"/>\n      <use x=\"483.251953\" xlink:href=\"#DejaVuSans-102\"/>\n      <use x=\"518.457031\" xlink:href=\"#DejaVuSans-32\"/>\n      <use x=\"550.244141\" xlink:href=\"#DejaVuSans-115\"/>\n      <use x=\"602.34375\" xlink:href=\"#DejaVuSans-97\"/>\n      <use x=\"663.623047\" xlink:href=\"#DejaVuSans-109\"/>\n      <use x=\"761.035156\" xlink:href=\"#DejaVuSans-112\"/>\n      <use x=\"824.511719\" xlink:href=\"#DejaVuSans-108\"/>\n      <use x=\"852.294922\" xlink:href=\"#DejaVuSans-101\"/>\n      <use x=\"913.818359\" xlink:href=\"#DejaVuSans-115\"/>\n     </g>\n    </g>\n   </g>\n   <g id=\"patch_43\">\n    <path d=\"M 59.690625 239.758125 \nL 59.690625 22.318125 \n\" style=\"fill:none;stroke:#000000;stroke-linecap:square;stroke-linejoin:miter;stroke-width:0.8;\"/>\n   </g>\n   <g id=\"patch_44\">\n    <path d=\"M 394.490625 239.758125 \nL 394.490625 22.318125 \n\" style=\"fill:none;stroke:#000000;stroke-linecap:square;stroke-linejoin:miter;stroke-width:0.8;\"/>\n   </g>\n   <g id=\"patch_45\">\n    <path d=\"M 59.690625 239.758125 \nL 394.490625 239.758125 \n\" style=\"fill:none;stroke:#000000;stroke-linecap:square;stroke-linejoin:miter;stroke-width:0.8;\"/>\n   </g>\n   <g id=\"patch_46\">\n    <path d=\"M 59.690625 22.318125 \nL 394.490625 22.318125 \n\" style=\"fill:none;stroke:#000000;stroke-linecap:square;stroke-linejoin:miter;stroke-width:0.8;\"/>\n   </g>\n   <g id=\"text_19\">\n    <!-- text -->\n    <defs>\n     <path d=\"M 54.890625 54.6875 \nL 35.109375 28.078125 \nL 55.90625 0 \nL 45.3125 0 \nL 29.390625 21.484375 \nL 13.484375 0 \nL 2.875 0 \nL 24.125 28.609375 \nL 4.6875 54.6875 \nL 15.28125 54.6875 \nL 29.78125 35.203125 \nL 44.28125 54.6875 \nz\n\" id=\"DejaVuSans-120\"/>\n    </defs>\n    <g transform=\"translate(215.248125 16.318125)scale(0.12 -0.12)\">\n     <use xlink:href=\"#DejaVuSans-116\"/>\n     <use x=\"39.208984\" xlink:href=\"#DejaVuSans-101\"/>\n     <use x=\"98.982422\" xlink:href=\"#DejaVuSans-120\"/>\n     <use x=\"158.162109\" xlink:href=\"#DejaVuSans-116\"/>\n    </g>\n   </g>\n  </g>\n </g>\n <defs>\n  <clipPath id=\"pa2b24b5202\">\n   <rect height=\"217.44\" width=\"334.8\" x=\"59.690625\" y=\"22.318125\"/>\n  </clipPath>\n </defs>\n</svg>\n",
      "image/png": "[encoded data removed]"
     },
     "metadata": {
      "needs_background": "light"
     }
    }
   ],
   "source": [
    "# 길이 분포 출력\n",
    "import matplotlib.pyplot as plt\n",
    "\n",
    "text_len = [len(s.split()) for s in data['text']]\n",
    "summary_len = [len(s.split()) for s in data['headlines']]\n",
    "\n",
    "print('텍스트의 최소 길이 : {}'.format(np.min(text_len)))\n",
    "print('텍스트의 최대 길이 : {}'.format(np.max(text_len)))\n",
    "print('텍스트의 평균 길이 : {}'.format(np.mean(text_len)))\n",
    "print('요약의 최소 길이 : {}'.format(np.min(summary_len)))\n",
    "print('요약의 최대 길이 : {}'.format(np.max(summary_len)))\n",
    "print('요약의 평균 길이 : {}'.format(np.mean(summary_len)))\n",
    "\n",
    "plt.subplot(1,2,1)\n",
    "plt.boxplot(summary_len)\n",
    "plt.title('headlines')\n",
    "plt.subplot(1,2,2)\n",
    "plt.boxplot(text_len)\n",
    "plt.title('text')\n",
    "plt.tight_layout()\n",
    "plt.show()\n",
    "\n",
    "plt.title('headlines')\n",
    "plt.hist(summary_len, bins = 40)\n",
    "plt.xlabel('length of samples')\n",
    "plt.ylabel('number of samples')\n",
    "plt.show()\n",
    "\n",
    "plt.title('text')\n",
    "plt.hist(text_len, bins = 40)\n",
    "plt.xlabel('length of samples')\n",
    "plt.ylabel('number of samples')\n",
    "plt.show()"
   ]
  },
  {
   "cell_type": "code",
   "execution_count": 64,
   "metadata": {},
   "outputs": [],
   "source": [
    "# 임의로 max_len 정하기\n",
    "text_max_len = 38\n",
    "summary_max_len = 11"
   ]
  },
  {
   "cell_type": "code",
   "execution_count": 65,
   "metadata": {},
   "outputs": [],
   "source": [
    "# 임의로 max_len 정했을 때 얼마나 많은 샘플을 자르지 않고 포함할 수 있는가?\n",
    "def below_threshold_len(max_len, nested_list):\n",
    "  cnt = 0\n",
    "  for s in nested_list:\n",
    "    if(len(s.split()) <= max_len):\n",
    "        cnt = cnt + 1\n",
    "  print('전체 샘플 중 길이가 %s 이하인 샘플의 비율: %s'%(max_len, (cnt / len(nested_list))))"
   ]
  },
  {
   "cell_type": "code",
   "execution_count": 66,
   "metadata": {},
   "outputs": [
    {
     "output_type": "stream",
     "name": "stdout",
     "text": [
      "전체 샘플 중 길이가 38 이하인 샘플의 비율: 1.0\n전체 샘플 중 길이가 11 이하인 샘플의 비율: 1.0\n"
     ]
    }
   ],
   "source": [
    "below_threshold_len(text_max_len, data['text'])\n",
    "below_threshold_len(summary_max_len,  data['headlines'])"
   ]
  },
  {
   "source": [
    "노드에서 사용한 데이터에 대해 적용한 최대 길이에서 산출되는 비율과 최대한 비슷한 \n",
    "text의 최대 길이는 38, headline 의 최대 길이는 11로 놓고 진행한다.\n",
    "\n",
    "상기 결과는 데이터를 변형시킨 후에 다시 한 번 함수를 실행하여 100% 로 나오게 된 것임.   \n",
    "원래 분포는 약 81%, 94% 정도였음."
   ],
   "cell_type": "markdown",
   "metadata": {}
  },
  {
   "cell_type": "code",
   "execution_count": 67,
   "metadata": {},
   "outputs": [
    {
     "output_type": "stream",
     "name": "stdout",
     "text": [
      "전체 샘플수 : 75754\n"
     ]
    }
   ],
   "source": [
    "data = data[data['text'].apply(lambda x: len(x.split()) <= text_max_len)]\n",
    "data = data[data['headlines'].apply(lambda x: len(x.split()) <= summary_max_len)]\n",
    "print('전체 샘플수 :',(len(data)))"
   ]
  },
  {
   "source": [
    "시작 토큰과 종료 토큰 추가"
   ],
   "cell_type": "markdown",
   "metadata": {}
  },
  {
   "cell_type": "code",
   "execution_count": 68,
   "metadata": {},
   "outputs": [
    {
     "output_type": "execute_result",
     "data": {
      "text/plain": [
       "                                           headlines  \\\n",
       "2  new zealand end rohit sharma led india match w...   \n",
       "3  aegon life iterm insurance plan helps customer...   \n",
       "5  rahat fateh ali khan denies getting notice for...   \n",
       "7  govt directs alok verma to join work day befor...   \n",
       "8  called pm modi sir times to satisfy his ego an...   \n",
       "\n",
       "                                                text  \\\n",
       "2  new zealand defeated india wickets fourth odi ...   \n",
       "3  aegon life iterm insurance plan customers enjo...   \n",
       "5  pakistani singer rahat fateh ali khan denied r...   \n",
       "7  weeks ex cbi director alok verma told departme...   \n",
       "8  andhra pradesh cm chandrababu naidu said met u...   \n",
       "\n",
       "                                       decoder_input  \\\n",
       "2  sostoken new zealand end rohit sharma led indi...   \n",
       "3  sostoken aegon life iterm insurance plan helps...   \n",
       "5  sostoken rahat fateh ali khan denies getting n...   \n",
       "7  sostoken govt directs alok verma to join work ...   \n",
       "8  sostoken called pm modi sir times to satisfy h...   \n",
       "\n",
       "                                      decoder_target  \n",
       "2  new zealand end rohit sharma led india match w...  \n",
       "3  aegon life iterm insurance plan helps customer...  \n",
       "5  rahat fateh ali khan denies getting notice for...  \n",
       "7  govt directs alok verma to join work day befor...  \n",
       "8  called pm modi sir times to satisfy his ego an...  "
      ],
      "text/html": "<div>\n<style scoped>\n    .dataframe tbody tr th:only-of-type {\n        vertical-align: middle;\n    }\n\n    .dataframe tbody tr th {\n        vertical-align: top;\n    }\n\n    .dataframe thead th {\n        text-align: right;\n    }\n</style>\n<table border=\"1\" class=\"dataframe\">\n  <thead>\n    <tr style=\"text-align: right;\">\n      <th></th>\n      <th>headlines</th>\n      <th>text</th>\n      <th>decoder_input</th>\n      <th>decoder_target</th>\n    </tr>\n  </thead>\n  <tbody>\n    <tr>\n      <th>2</th>\n      <td>new zealand end rohit sharma led india match w...</td>\n      <td>new zealand defeated india wickets fourth odi ...</td>\n      <td>sostoken new zealand end rohit sharma led indi...</td>\n      <td>new zealand end rohit sharma led india match w...</td>\n    </tr>\n    <tr>\n      <th>3</th>\n      <td>aegon life iterm insurance plan helps customer...</td>\n      <td>aegon life iterm insurance plan customers enjo...</td>\n      <td>sostoken aegon life iterm insurance plan helps...</td>\n      <td>aegon life iterm insurance plan helps customer...</td>\n    </tr>\n    <tr>\n      <th>5</th>\n      <td>rahat fateh ali khan denies getting notice for...</td>\n      <td>pakistani singer rahat fateh ali khan denied r...</td>\n      <td>sostoken rahat fateh ali khan denies getting n...</td>\n      <td>rahat fateh ali khan denies getting notice for...</td>\n    </tr>\n    <tr>\n      <th>7</th>\n      <td>govt directs alok verma to join work day befor...</td>\n      <td>weeks ex cbi director alok verma told departme...</td>\n      <td>sostoken govt directs alok verma to join work ...</td>\n      <td>govt directs alok verma to join work day befor...</td>\n    </tr>\n    <tr>\n      <th>8</th>\n      <td>called pm modi sir times to satisfy his ego an...</td>\n      <td>andhra pradesh cm chandrababu naidu said met u...</td>\n      <td>sostoken called pm modi sir times to satisfy h...</td>\n      <td>called pm modi sir times to satisfy his ego an...</td>\n    </tr>\n  </tbody>\n</table>\n</div>"
     },
     "metadata": {},
     "execution_count": 68
    }
   ],
   "source": [
    "data['decoder_input'] = data['headlines'].apply(lambda x : 'sostoken '+ x)\n",
    "data['decoder_target'] = data['headlines'].apply(lambda x : x + ' eostoken')\n",
    "data.head()"
   ]
  },
  {
   "cell_type": "code",
   "execution_count": 69,
   "metadata": {},
   "outputs": [],
   "source": [
    "encoder_input = np.array(data['text']) # 인코더의 입력\n",
    "decoder_input = np.array(data['decoder_input']) # 디코더의 입력\n",
    "decoder_target = np.array(data['decoder_target']) # 디코더의 레이블"
   ]
  },
  {
   "source": [
    "데이터 분리   \n",
    "sklearn 에서 제공하는 모듈 등을 사용해도 되겠지만, 노드에서 진행한 것처럼 직접 해본다."
   ],
   "cell_type": "markdown",
   "metadata": {}
  },
  {
   "cell_type": "code",
   "execution_count": 70,
   "metadata": {},
   "outputs": [
    {
     "output_type": "stream",
     "name": "stdout",
     "text": [
      "[46267 38601 39965 ... 42342 41834 54999]\n"
     ]
    }
   ],
   "source": [
    "indices = np.arange(encoder_input.shape[0])\n",
    "np.random.shuffle(indices)\n",
    "print(indices)"
   ]
  },
  {
   "cell_type": "code",
   "execution_count": 71,
   "metadata": {},
   "outputs": [],
   "source": [
    "encoder_input = encoder_input[indices]\n",
    "decoder_input = decoder_input[indices]\n",
    "decoder_target = decoder_target[indices]"
   ]
  },
  {
   "cell_type": "code",
   "execution_count": 72,
   "metadata": {},
   "outputs": [
    {
     "output_type": "stream",
     "name": "stdout",
     "text": [
      "테스트 데이터의 수 : 15150\n"
     ]
    }
   ],
   "source": [
    "n_of_val = int(len(encoder_input)*0.2)\n",
    "print('테스트 데이터의 수 :',n_of_val)"
   ]
  },
  {
   "cell_type": "code",
   "execution_count": 73,
   "metadata": {},
   "outputs": [
    {
     "output_type": "stream",
     "name": "stdout",
     "text": [
      "훈련 데이터의 개수 : 60604\n훈련 레이블의 개수 : 60604\n테스트 데이터의 개수 : 15150\n테스트 레이블의 개수 : 15150\n"
     ]
    }
   ],
   "source": [
    "# n_of_val = int(len(encoder_input)*0.8) 로 놓고,\n",
    "# encoder_input_train = encoder_input[:n_of_val]\n",
    "# encoder_input_test = encoder_input[n_of_val:]\n",
    "# 이렇게 하는거랑 같음.\n",
    "\n",
    "encoder_input_train = encoder_input[:-n_of_val]\n",
    "decoder_input_train = decoder_input[:-n_of_val]\n",
    "decoder_target_train = decoder_target[:-n_of_val]\n",
    "\n",
    "encoder_input_test = encoder_input[-n_of_val:]\n",
    "decoder_input_test = decoder_input[-n_of_val:]\n",
    "decoder_target_test = decoder_target[-n_of_val:]\n",
    "\n",
    "print('훈련 데이터의 개수 :', len(encoder_input_train))\n",
    "print('훈련 레이블의 개수 :',len(decoder_input_train))\n",
    "print('테스트 데이터의 개수 :',len(encoder_input_test))\n",
    "print('테스트 레이블의 개수 :',len(decoder_input_test))"
   ]
  },
  {
   "source": [
    "### 정수 인코딩"
   ],
   "cell_type": "markdown",
   "metadata": {}
  },
  {
   "cell_type": "code",
   "execution_count": 74,
   "metadata": {},
   "outputs": [],
   "source": [
    "# 단어집합 만들기\n",
    "src_tokenizer = Tokenizer() # 토크나이저 정의\n",
    "src_tokenizer.fit_on_texts(encoder_input_train) # 입력된 데이터로부터 단어 집합 생성"
   ]
  },
  {
   "cell_type": "code",
   "execution_count": 80,
   "metadata": {},
   "outputs": [
    {
     "output_type": "stream",
     "name": "stdout",
     "text": [
      "단어 집합(vocabulary)의 크기 : 60320\n등장 빈도가 6번 이하인 희귀 단어의 수: 41272\n단어 집합에서 희귀 단어를 제외시킬 경우의 단어 집합의 크기 19048\n단어 집합에서 희귀 단어의 비율: 68.42175066312997\n전체 등장 빈도에서 희귀 단어 등장 빈도 비율: 4.091182318398298\n"
     ]
    }
   ],
   "source": [
    "threshold = 7\n",
    "total_cnt = len(src_tokenizer.word_index) # 단어의 수\n",
    "rare_cnt = 0 # 등장 빈도수가 threshold보다 작은 단어의 개수를 카운트\n",
    "total_freq = 0 # 훈련 데이터의 전체 단어 빈도수 총 합\n",
    "rare_freq = 0 # 등장 빈도수가 threshold보다 작은 단어의 등장 빈도수의 총 합\n",
    "\n",
    "# 단어와 빈도수의 쌍(pair)을 key와 value로 받는다.\n",
    "for key, value in src_tokenizer.word_counts.items():\n",
    "    total_freq = total_freq + value\n",
    "\n",
    "    # 단어의 등장 빈도수가 threshold보다 작으면\n",
    "    if(value < threshold):\n",
    "        rare_cnt = rare_cnt + 1\n",
    "        rare_freq = rare_freq + value\n",
    "\n",
    "print('단어 집합(vocabulary)의 크기 :',total_cnt)\n",
    "print('등장 빈도가 %s번 이하인 희귀 단어의 수: %s'%(threshold - 1, rare_cnt))\n",
    "print('단어 집합에서 희귀 단어를 제외시킬 경우의 단어 집합의 크기 %s'%(total_cnt - rare_cnt))\n",
    "print(\"단어 집합에서 희귀 단어의 비율:\", (rare_cnt / total_cnt)*100)\n",
    "print(\"전체 등장 빈도에서 희귀 단어 등장 빈도 비율:\", (rare_freq / total_freq)*100)"
   ]
  },
  {
   "source": [
    "encoder input에서 등장 빈도가 7회 미만인 희귀 단어가 단어 집합에서 차지하는 비중이 68%정도, 전체 데이터에서 희귀 데이터가 등장하는 빈도는 약 4% 밖에 되지 않음."
   ],
   "cell_type": "markdown",
   "metadata": {}
  },
  {
   "cell_type": "code",
   "execution_count": 81,
   "metadata": {},
   "outputs": [],
   "source": [
    "# 19048 을 어림잡아 19000\n",
    "src_vocab = 19000\n",
    "src_tokenizer = Tokenizer(num_words = src_vocab) # 단어 집합의 크기 제한\n",
    "src_tokenizer.fit_on_texts(encoder_input_train) # 단어 집합 재생성."
   ]
  },
  {
   "cell_type": "code",
   "execution_count": 82,
   "metadata": {},
   "outputs": [
    {
     "output_type": "stream",
     "name": "stdout",
     "text": [
      "[[823, 57, 3567, 10, 3190, 137, 6702, 824, 2509, 31, 45, 824, 908, 812, 7604, 323, 6226, 447, 2679, 672, 2199, 169, 11579, 7604, 6, 7449, 3604, 1985, 3692, 575], [32, 2471, 1970, 3746, 5973, 5271, 37, 229, 169, 1410, 398, 81, 1788, 720, 3747, 8790, 3568, 2471, 1970, 5973, 6, 37, 326, 3747, 169, 662, 9641, 5974, 2, 2490, 2148, 2471, 1970, 2890, 2149, 747, 492], [1828, 57, 51, 15, 4806, 383, 2932, 66, 40, 497, 2813, 2037, 981, 111, 1305, 635, 2148, 939, 1005, 2813, 2354, 16665, 4901, 7724, 12019, 162, 4213, 60, 4700, 11188, 570, 2037, 94, 981]]\n"
     ]
    }
   ],
   "source": [
    "# 텍스트 시퀀스를 정수 시퀀스로 변환\n",
    "encoder_input_train = src_tokenizer.texts_to_sequences(encoder_input_train) \n",
    "encoder_input_test = src_tokenizer.texts_to_sequences(encoder_input_test)\n",
    "\n",
    "#잘 진행되었는지 샘플 출력\n",
    "print(encoder_input_train[:3])\n",
    "\n",
    "# Summary 데이터에 대해서도 적용.\n",
    "tar_tokenizer = Tokenizer()\n",
    "tar_tokenizer.fit_on_texts(decoder_input_train)"
   ]
  },
  {
   "cell_type": "code",
   "execution_count": 90,
   "metadata": {},
   "outputs": [
    {
     "output_type": "stream",
     "name": "stdout",
     "text": [
      "단어 집합(vocabulary)의 크기 : 27066\n등장 빈도가 5번 이하인 희귀 단어의 수: 18025\n단어 집합에서 희귀 단어를 제외시킬 경우의 단어 집합의 크기 9041\n단어 집합에서 희귀 단어의 비율: 66.59646789329786\n전체 등장 빈도에서 희귀 단어 등장 빈도 비율: 5.617810942031347\n"
     ]
    }
   ],
   "source": [
    "threshold = 6\n",
    "total_cnt = len(tar_tokenizer.word_index) # 단어의 수\n",
    "rare_cnt = 0 # 등장 빈도수가 threshold보다 작은 단어의 개수를 카운트\n",
    "total_freq = 0 # 훈련 데이터의 전체 단어 빈도수 총 합\n",
    "rare_freq = 0 # 등장 빈도수가 threshold보다 작은 단어의 등장 빈도수의 총 합\n",
    "\n",
    "# 단어와 빈도수의 쌍(pair)을 key와 value로 받는다.\n",
    "for key, value in tar_tokenizer.word_counts.items():\n",
    "    total_freq = total_freq + value\n",
    "\n",
    "    # 단어의 등장 빈도수가 threshold보다 작으면\n",
    "    if(value < threshold):\n",
    "        rare_cnt = rare_cnt + 1\n",
    "        rare_freq = rare_freq + value\n",
    "\n",
    "print('단어 집합(vocabulary)의 크기 :',total_cnt)\n",
    "print('등장 빈도가 %s번 이하인 희귀 단어의 수: %s'%(threshold - 1, rare_cnt))\n",
    "print('단어 집합에서 희귀 단어를 제외시킬 경우의 단어 집합의 크기 %s'%(total_cnt - rare_cnt))\n",
    "print(\"단어 집합에서 희귀 단어의 비율:\", (rare_cnt / total_cnt)*100)\n",
    "print(\"전체 등장 빈도에서 희귀 단어 등장 빈도 비율:\", (rare_freq / total_freq)*100)"
   ]
  },
  {
   "source": [
    "decoder input에서 등장빈도 5회 이하 단어들이 단어 집합에서 약 67%를 차지, 하지만 전체 데이터에서 차지하는 비율은 약 6%"
   ],
   "cell_type": "markdown",
   "metadata": {}
  },
  {
   "cell_type": "code",
   "execution_count": 91,
   "metadata": {},
   "outputs": [
    {
     "output_type": "stream",
     "name": "stdout",
     "text": [
      "input\ninput  [[1, 317, 393, 2395, 79, 45, 2291, 103, 3872, 1133], [1, 495, 178, 3, 1688, 2139, 176, 1097, 687, 159, 5774, 3873], [1, 819, 38, 144, 34, 412, 3, 12, 1658, 41, 1359], [1, 133, 1424, 81, 12, 7020, 508, 4346, 3, 2013], [1, 902, 941, 872, 14, 58, 4, 4020, 6, 6115]]\ntarget\ndecoder  [[317, 393, 2395, 79, 45, 2291, 103, 3872, 1133, 2], [495, 178, 3, 1688, 2139, 176, 1097, 687, 159, 5774, 3873, 2], [819, 38, 144, 34, 412, 3, 12, 1658, 41, 1359, 2], [133, 1424, 81, 12, 7020, 508, 4346, 3, 2013, 2], [902, 941, 872, 14, 58, 4, 4020, 6, 6115, 2]]\n"
     ]
    }
   ],
   "source": [
    "# 9041을 어림잡아 9000\n",
    "tar_vocab = 9000\n",
    "tar_tokenizer = Tokenizer(num_words = tar_vocab) \n",
    "tar_tokenizer.fit_on_texts(decoder_input_train)\n",
    "tar_tokenizer.fit_on_texts(decoder_target_train)\n",
    "\n",
    "# 텍스트 시퀀스를 정수 시퀀스로 변환\n",
    "decoder_input_train = tar_tokenizer.texts_to_sequences(decoder_input_train) \n",
    "decoder_target_train = tar_tokenizer.texts_to_sequences(decoder_target_train)\n",
    "decoder_input_test = tar_tokenizer.texts_to_sequences(decoder_input_test)\n",
    "decoder_target_test = tar_tokenizer.texts_to_sequences(decoder_target_test)\n",
    "\n",
    "#잘 변환되었는지 확인\n",
    "print('input')\n",
    "print('input ',decoder_input_train[:5])\n",
    "print('target')\n",
    "print('decoder ',decoder_target_train[:5])"
   ]
  },
  {
   "source": [
    "길이가 비교적 긴 text는 문제가 없겠지만, headlines의 경우, 빈도수가 낮은 단어만으로 구성된 샘플은 빈 샘플이 되었을 가능성이 있음.\n",
    "단, decoder_input에는 시작, 끝 토큰이 추가된 상태 => 빈 샘플이어도 실제 길이는 1   \n",
    "\n",
    "text는 문제가 없겠다고 언급하기는 했지만, 혹시 모르니 확인은 한 번 해본다."
   ],
   "cell_type": "markdown",
   "metadata": {}
  },
  {
   "cell_type": "code",
   "execution_count": 94,
   "metadata": {},
   "outputs": [
    {
     "output_type": "stream",
     "name": "stdout",
     "text": [
      "삭제할 ecoder 훈련 데이터의 개수 : 0\n삭제할 encoder 테스트 데이터의 개수 : 0\n"
     ]
    }
   ],
   "source": [
    "drop_endocer_train = [index for index, sentence in enumerate(encoder_input_train) if len(sentence) == 0]\n",
    "drop_endocer_test = [index for index, sentence in enumerate(encoder_input_test) if len(sentence) == 0]\n",
    "\n",
    "print('삭제할 ecoder 훈련 데이터의 개수 :',len(drop_endocer_train))\n",
    "print('삭제할 encoder 테스트 데이터의 개수 :',len(drop_endocer_test))"
   ]
  },
  {
   "cell_type": "code",
   "execution_count": 95,
   "metadata": {},
   "outputs": [
    {
     "output_type": "stream",
     "name": "stdout",
     "text": [
      "삭제할 decoder 훈련 데이터의 개수 : 1\n삭제할 decoder 테스트 데이터의 개수 : 0\n훈련 데이터의 개수 : 60603\n훈련 레이블의 개수 : 60603\n테스트 데이터의 개수 : 15150\n테스트 레이블의 개수 : 15150\n"
     ]
    }
   ],
   "source": [
    "drop_train = [index for index, sentence in enumerate(decoder_input_train) if len(sentence) == 1]\n",
    "drop_test = [index for index, sentence in enumerate(decoder_input_test) if len(sentence) == 1]\n",
    "\n",
    "print('삭제할 decoder 훈련 데이터의 개수 :',len(drop_train))\n",
    "print('삭제할 decoder 테스트 데이터의 개수 :',len(drop_test))\n",
    "\n",
    "encoder_input_train = np.delete(encoder_input_train, drop_train, axis=0)\n",
    "decoder_input_train = np.delete(decoder_input_train, drop_train, axis=0)\n",
    "decoder_target_train = np.delete(decoder_target_train, drop_train, axis=0)\n",
    "\n",
    "encoder_input_test = np.delete(encoder_input_test, drop_test, axis=0)\n",
    "decoder_input_test = np.delete(decoder_input_test, drop_test, axis=0)\n",
    "decoder_target_test = np.delete(decoder_target_test, drop_test, axis=0)\n",
    "\n",
    "print('훈련 데이터의 개수 :', len(encoder_input_train))\n",
    "print('훈련 레이블의 개수 :',len(decoder_input_train))\n",
    "print('테스트 데이터의 개수 :',len(encoder_input_test))\n",
    "print('테스트 레이블의 개수 :',len(decoder_input_test))"
   ]
  },
  {
   "source": [
    "패딩하기. post 패딩. 이게 더 낫다고 예전에 배웠음"
   ],
   "cell_type": "markdown",
   "metadata": {}
  },
  {
   "cell_type": "code",
   "execution_count": 96,
   "metadata": {},
   "outputs": [],
   "source": [
    "encoder_input_train = pad_sequences(encoder_input_train, maxlen = text_max_len, padding='post')\n",
    "encoder_input_test = pad_sequences(encoder_input_test, maxlen = text_max_len, padding='post')\n",
    "decoder_input_train = pad_sequences(decoder_input_train, maxlen = summary_max_len, padding='post')\n",
    "decoder_target_train = pad_sequences(decoder_target_train, maxlen = summary_max_len, padding='post')\n",
    "decoder_input_test = pad_sequences(decoder_input_test, maxlen = summary_max_len, padding='post')\n",
    "decoder_target_test = pad_sequences(decoder_target_test, maxlen = summary_max_len, padding='post')"
   ]
  },
  {
   "source": [
    "## 어텐션 메커니즘 사용하기(추상적 요약)\n",
    "\n",
    "일반적인 seq2seq보다는 어텐션 메커니즘을 사용한 seq2seq를 사용하는 것이 더 나은 성능을 얻을 수 있어요. 실습 내용을 참고하여 어텐션 메커니즘을 사용한 seq2seq를 설계해 보세요."
   ],
   "cell_type": "markdown",
   "metadata": {}
  },
  {
   "source": [
    "### 모델 설계 시작 (일단 기본 seq2seq)"
   ],
   "cell_type": "markdown",
   "metadata": {}
  },
  {
   "cell_type": "code",
   "execution_count": 97,
   "metadata": {},
   "outputs": [
    {
     "output_type": "stream",
     "name": "stdout",
     "text": [
      "WARNING:tensorflow:Layer lstm will not use cuDNN kernel since it doesn't meet the cuDNN kernel criteria. It will use generic GPU kernel as fallback when running on GPU\n",
      "WARNING:tensorflow:Layer lstm_1 will not use cuDNN kernel since it doesn't meet the cuDNN kernel criteria. It will use generic GPU kernel as fallback when running on GPU\n",
      "WARNING:tensorflow:Layer lstm_2 will not use cuDNN kernel since it doesn't meet the cuDNN kernel criteria. It will use generic GPU kernel as fallback when running on GPU\n"
     ]
    }
   ],
   "source": [
    "from tensorflow.keras.layers import Input, LSTM, Embedding, Dense, Concatenate\n",
    "from tensorflow.keras.models import Model\n",
    "from tensorflow.keras.callbacks import EarlyStopping, ModelCheckpoint\n",
    "\n",
    "# 인코더 설계 시작\n",
    "embedding_dim = 128\n",
    "hidden_size = 256\n",
    "\n",
    "# 인코더\n",
    "encoder_inputs = Input(shape=(text_max_len,))\n",
    "\n",
    "# 인코더의 임베딩 층\n",
    "enc_emb = Embedding(src_vocab, embedding_dim)(encoder_inputs)\n",
    "\n",
    "# 인코더의 LSTM 1\n",
    "encoder_lstm1 = LSTM(hidden_size, return_sequences=True, return_state=True ,dropout = 0.4, recurrent_dropout = 0.4)\n",
    "encoder_output1, state_h1, state_c1 = encoder_lstm1(enc_emb)\n",
    "\n",
    "# 인코더의 LSTM 2\n",
    "encoder_lstm2 = LSTM(hidden_size, return_sequences=True, return_state=True, dropout=0.4, recurrent_dropout=0.4)\n",
    "encoder_output2, state_h2, state_c2 = encoder_lstm2(encoder_output1)\n",
    "\n",
    "# 인코더의 LSTM 3\n",
    "encoder_lstm3 = LSTM(hidden_size, return_state=True, return_sequences=True, dropout=0.4, recurrent_dropout=0.4)\n",
    "encoder_outputs, state_h, state_c= encoder_lstm3(encoder_output2)"
   ]
  },
  {
   "cell_type": "code",
   "execution_count": 98,
   "metadata": {},
   "outputs": [
    {
     "output_type": "stream",
     "name": "stdout",
     "text": [
      "WARNING:tensorflow:Layer lstm_3 will not use cuDNN kernel since it doesn't meet the cuDNN kernel criteria. It will use generic GPU kernel as fallback when running on GPU\n"
     ]
    }
   ],
   "source": [
    "# 디코더 설계\n",
    "decoder_inputs = Input(shape=(None,))\n",
    "\n",
    "# 디코더의 임베딩 층\n",
    "dec_emb_layer = Embedding(tar_vocab, embedding_dim)\n",
    "dec_emb = dec_emb_layer(decoder_inputs)\n",
    "\n",
    "# 디코더의 LSTM\n",
    "decoder_lstm = LSTM(hidden_size, return_sequences = True, return_state = True, dropout = 0.4, recurrent_dropout=0.2)\n",
    "# state_h, state_c 는 인코더에서 나온 hidden state와 cell state를 의미한다.\n",
    "decoder_outputs, _, _ = decoder_lstm(dec_emb, initial_state = [state_h, state_c])"
   ]
  },
  {
   "cell_type": "code",
   "execution_count": 99,
   "metadata": {},
   "outputs": [
    {
     "output_type": "stream",
     "name": "stdout",
     "text": [
      "Model: \"model\"\n__________________________________________________________________________________________________\nLayer (type)                    Output Shape         Param #     Connected to                     \n==================================================================================================\ninput_1 (InputLayer)            [(None, 38)]         0                                            \n__________________________________________________________________________________________________\nembedding (Embedding)           (None, 38, 128)      2432000     input_1[0][0]                    \n__________________________________________________________________________________________________\nlstm (LSTM)                     [(None, 38, 256), (N 394240      embedding[0][0]                  \n__________________________________________________________________________________________________\ninput_2 (InputLayer)            [(None, None)]       0                                            \n__________________________________________________________________________________________________\nlstm_1 (LSTM)                   [(None, 38, 256), (N 525312      lstm[0][0]                       \n__________________________________________________________________________________________________\nembedding_1 (Embedding)         (None, None, 128)    1152000     input_2[0][0]                    \n__________________________________________________________________________________________________\nlstm_2 (LSTM)                   [(None, 38, 256), (N 525312      lstm_1[0][0]                     \n__________________________________________________________________________________________________\nlstm_3 (LSTM)                   [(None, None, 256),  394240      embedding_1[0][0]                \n                                                                 lstm_2[0][1]                     \n                                                                 lstm_2[0][2]                     \n__________________________________________________________________________________________________\ndense (Dense)                   (None, None, 9000)   2313000     lstm_3[0][0]                     \n==================================================================================================\nTotal params: 7,736,104\nTrainable params: 7,736,104\nNon-trainable params: 0\n__________________________________________________________________________________________________\n"
     ]
    }
   ],
   "source": [
    "# 디코더의 출력층\n",
    "# tar_vocab : 단어 집합 갯수 9000개로 제한 걸었잖아 위에서.\n",
    "decoder_softmax_layer = Dense(tar_vocab, activation = 'softmax')\n",
    "decoder_softmax_outputs = decoder_softmax_layer(decoder_outputs) \n",
    "\n",
    "# 모델 정의\n",
    "model = Model([encoder_inputs, decoder_inputs], decoder_softmax_outputs)\n",
    "model.summary()"
   ]
  },
  {
   "source": [
    "### 어텐션 메커니즘 적용"
   ],
   "cell_type": "markdown",
   "metadata": {}
  },
  {
   "cell_type": "code",
   "execution_count": 100,
   "metadata": {},
   "outputs": [],
   "source": [
    "urllib.request.urlretrieve(\"https://raw.githubusercontent.com/thushv89/attention_keras/master/src/layers/attention.py\", filename=\"attention.py\")\n",
    "from attention import AttentionLayer"
   ]
  },
  {
   "cell_type": "code",
   "execution_count": 101,
   "metadata": {},
   "outputs": [
    {
     "output_type": "stream",
     "name": "stdout",
     "text": [
      "Model: \"model_1\"\n__________________________________________________________________________________________________\nLayer (type)                    Output Shape         Param #     Connected to                     \n==================================================================================================\ninput_1 (InputLayer)            [(None, 38)]         0                                            \n__________________________________________________________________________________________________\nembedding (Embedding)           (None, 38, 128)      2432000     input_1[0][0]                    \n__________________________________________________________________________________________________\nlstm (LSTM)                     [(None, 38, 256), (N 394240      embedding[0][0]                  \n__________________________________________________________________________________________________\ninput_2 (InputLayer)            [(None, None)]       0                                            \n__________________________________________________________________________________________________\nlstm_1 (LSTM)                   [(None, 38, 256), (N 525312      lstm[0][0]                       \n__________________________________________________________________________________________________\nembedding_1 (Embedding)         (None, None, 128)    1152000     input_2[0][0]                    \n__________________________________________________________________________________________________\nlstm_2 (LSTM)                   [(None, 38, 256), (N 525312      lstm_1[0][0]                     \n__________________________________________________________________________________________________\nlstm_3 (LSTM)                   [(None, None, 256),  394240      embedding_1[0][0]                \n                                                                 lstm_2[0][1]                     \n                                                                 lstm_2[0][2]                     \n__________________________________________________________________________________________________\nattention_layer (AttentionLayer ((None, None, 256),  131328      lstm_2[0][0]                     \n                                                                 lstm_3[0][0]                     \n__________________________________________________________________________________________________\nconcat_layer (Concatenate)      (None, None, 512)    0           lstm_3[0][0]                     \n                                                                 attention_layer[0][0]            \n__________________________________________________________________________________________________\ndense_1 (Dense)                 (None, None, 9000)   4617000     concat_layer[0][0]               \n==================================================================================================\nTotal params: 10,171,432\nTrainable params: 10,171,432\nNon-trainable params: 0\n__________________________________________________________________________________________________\n"
     ]
    }
   ],
   "source": [
    "# 디코더 출력층 수정\n",
    "\n",
    "# 어텐션 층(어텐션 함수)\n",
    "attn_layer = AttentionLayer(name='attention_layer')\n",
    "# 인코더와 디코더의 모든 time step의 hidden state를 어텐션 층에 전달하고 결과를 리턴\n",
    "attn_out, attn_states = attn_layer([encoder_outputs, decoder_outputs])\n",
    "\n",
    "# 어텐션의 결과와 디코더의 hidden state들을 연결\n",
    "decoder_concat_input = Concatenate(axis = -1, name='concat_layer')([decoder_outputs, attn_out])\n",
    "\n",
    "# 디코더의 출력층\n",
    "decoder_softmax_layer = Dense(tar_vocab, activation='softmax')\n",
    "decoder_softmax_outputs = decoder_softmax_layer(decoder_concat_input)\n",
    "\n",
    "# 모델 정의\n",
    "model = Model([encoder_inputs, decoder_inputs], decoder_softmax_outputs)\n",
    "model.summary()"
   ]
  },
  {
   "source": [
    "## 모델 훈련"
   ],
   "cell_type": "markdown",
   "metadata": {}
  },
  {
   "cell_type": "code",
   "execution_count": 102,
   "metadata": {},
   "outputs": [
    {
     "output_type": "stream",
     "name": "stdout",
     "text": [
      "Epoch 1/50\n",
      "237/237 [==============================] - 76s 322ms/step - loss: 5.9884 - val_loss: 5.5934\n",
      "Epoch 2/50\n",
      "237/237 [==============================] - 74s 313ms/step - loss: 5.4605 - val_loss: 5.2496\n",
      "Epoch 3/50\n",
      "237/237 [==============================] - 75s 318ms/step - loss: 5.1303 - val_loss: 4.9341\n",
      "Epoch 4/50\n",
      "237/237 [==============================] - 65s 273ms/step - loss: 4.8451 - val_loss: 4.7471\n",
      "Epoch 5/50\n",
      "237/237 [==============================] - 65s 273ms/step - loss: 4.6164 - val_loss: 4.5722\n",
      "Epoch 6/50\n",
      "237/237 [==============================] - 65s 273ms/step - loss: 4.4319 - val_loss: 4.4631\n",
      "Epoch 7/50\n",
      "237/237 [==============================] - 65s 274ms/step - loss: 4.2748 - val_loss: 4.3710\n",
      "Epoch 8/50\n",
      "237/237 [==============================] - 72s 303ms/step - loss: 4.1328 - val_loss: 4.2929\n",
      "Epoch 9/50\n",
      "237/237 [==============================] - 75s 315ms/step - loss: 4.0051 - val_loss: 4.2142\n",
      "Epoch 10/50\n",
      "237/237 [==============================] - 65s 273ms/step - loss: 3.8883 - val_loss: 4.1599\n",
      "Epoch 11/50\n",
      "237/237 [==============================] - 65s 273ms/step - loss: 3.7826 - val_loss: 4.1116\n",
      "Epoch 12/50\n",
      "237/237 [==============================] - 69s 290ms/step - loss: 3.6851 - val_loss: 4.0716\n",
      "Epoch 13/50\n",
      "237/237 [==============================] - 68s 288ms/step - loss: 3.5979 - val_loss: 4.0420\n",
      "Epoch 14/50\n",
      "237/237 [==============================] - 70s 296ms/step - loss: 3.5186 - val_loss: 4.0192\n",
      "Epoch 15/50\n",
      "237/237 [==============================] - 72s 305ms/step - loss: 3.4426 - val_loss: 3.9888\n",
      "Epoch 16/50\n",
      "237/237 [==============================] - 75s 318ms/step - loss: 3.3759 - val_loss: 3.9782\n",
      "Epoch 17/50\n",
      "237/237 [==============================] - 73s 309ms/step - loss: 3.3114 - val_loss: 3.9512\n",
      "Epoch 18/50\n",
      "237/237 [==============================] - 75s 318ms/step - loss: 3.2527 - val_loss: 3.9417\n",
      "Epoch 19/50\n",
      "237/237 [==============================] - 74s 313ms/step - loss: 3.1939 - val_loss: 3.9291\n",
      "Epoch 20/50\n",
      "237/237 [==============================] - 80s 338ms/step - loss: 3.1363 - val_loss: 3.9184\n",
      "Epoch 21/50\n",
      "237/237 [==============================] - 77s 326ms/step - loss: 3.0849 - val_loss: 3.9129\n",
      "Epoch 22/50\n",
      "237/237 [==============================] - 75s 318ms/step - loss: 3.0369 - val_loss: 3.9107\n",
      "Epoch 23/50\n",
      "237/237 [==============================] - 77s 323ms/step - loss: 2.9921 - val_loss: 3.9071\n",
      "Epoch 24/50\n",
      "237/237 [==============================] - 76s 323ms/step - loss: 2.9489 - val_loss: 3.8994\n",
      "Epoch 25/50\n",
      "237/237 [==============================] - 76s 323ms/step - loss: 2.9051 - val_loss: 3.9039\n",
      "Epoch 26/50\n",
      "237/237 [==============================] - 76s 322ms/step - loss: 2.8638 - val_loss: 3.8956\n",
      "Epoch 27/50\n",
      "237/237 [==============================] - 77s 324ms/step - loss: 2.8224 - val_loss: 3.8961\n",
      "Epoch 28/50\n",
      "237/237 [==============================] - 72s 303ms/step - loss: 2.7853 - val_loss: 3.8906\n",
      "Epoch 29/50\n",
      "237/237 [==============================] - 77s 325ms/step - loss: 2.7529 - val_loss: 3.8910\n",
      "Epoch 30/50\n",
      "237/237 [==============================] - 70s 294ms/step - loss: 2.7209 - val_loss: 3.8983\n",
      "Epoch 00030: early stopping\n"
     ]
    }
   ],
   "source": [
    "model.compile(optimizer='rmsprop', loss='sparse_categorical_crossentropy')\n",
    "es = EarlyStopping(monitor='val_loss', mode='min', verbose=1, patience = 2)\n",
    "history = model.fit(x = [encoder_input_train, decoder_input_train], y = decoder_target_train, \\\n",
    "          validation_data = ([encoder_input_test, decoder_input_test], decoder_target_test),\n",
    "          batch_size = 256, callbacks=[es], epochs = 50)"
   ]
  },
  {
   "source": [
    "시각화 (training loss, val loss)"
   ],
   "cell_type": "markdown",
   "metadata": {}
  },
  {
   "cell_type": "code",
   "execution_count": 103,
   "metadata": {},
   "outputs": [
    {
     "output_type": "display_data",
     "data": {
      "text/plain": "<Figure size 432x288 with 1 Axes>",
      "image/svg+xml": "<?xml version=\"1.0\" encoding=\"utf-8\" standalone=\"no\"?>\n<!DOCTYPE svg PUBLIC \"-//W3C//DTD SVG 1.1//EN\"\n  \"http://www.w3.org/Graphics/SVG/1.1/DTD/svg11.dtd\">\n<!-- Created with matplotlib (https://matplotlib.org/) -->\n<svg height=\"248.518125pt\" version=\"1.1\" viewBox=\"0 0 373.742741 248.518125\" width=\"373.742741pt\" xmlns=\"http://www.w3.org/2000/svg\" xmlns:xlink=\"http://www.w3.org/1999/xlink\">\n <defs>\n  <style type=\"text/css\">\n*{stroke-linecap:butt;stroke-linejoin:round;}\n  </style>\n </defs>\n <g id=\"figure_1\">\n  <g id=\"patch_1\">\n   <path d=\"M 0 248.518125 \nL 373.742741 248.518125 \nL 373.742741 0 \nL 0 0 \nz\n\" style=\"fill:none;\"/>\n  </g>\n  <g id=\"axes_1\">\n   <g id=\"patch_2\">\n    <path d=\"M 30.103125 224.64 \nL 364.903125 224.64 \nL 364.903125 7.2 \nL 30.103125 7.2 \nz\n\" style=\"fill:#ffffff;\"/>\n   </g>\n   <g id=\"matplotlib.axis_1\">\n    <g id=\"xtick_1\">\n     <g id=\"line2d_1\">\n      <defs>\n       <path d=\"M 0 0 \nL 0 3.5 \n\" id=\"m3821c1e5e7\" style=\"stroke:#000000;stroke-width:0.8;\"/>\n      </defs>\n      <g>\n       <use style=\"stroke:#000000;stroke-width:0.8;\" x=\"45.321307\" xlink:href=\"#m3821c1e5e7\" y=\"224.64\"/>\n      </g>\n     </g>\n     <g id=\"text_1\">\n      <!-- 0 -->\n      <defs>\n       <path d=\"M 31.78125 66.40625 \nQ 24.171875 66.40625 20.328125 58.90625 \nQ 16.5 51.421875 16.5 36.375 \nQ 16.5 21.390625 20.328125 13.890625 \nQ 24.171875 6.390625 31.78125 6.390625 \nQ 39.453125 6.390625 43.28125 13.890625 \nQ 47.125 21.390625 47.125 36.375 \nQ 47.125 51.421875 43.28125 58.90625 \nQ 39.453125 66.40625 31.78125 66.40625 \nz\nM 31.78125 74.21875 \nQ 44.046875 74.21875 50.515625 64.515625 \nQ 56.984375 54.828125 56.984375 36.375 \nQ 56.984375 17.96875 50.515625 8.265625 \nQ 44.046875 -1.421875 31.78125 -1.421875 \nQ 19.53125 -1.421875 13.0625 8.265625 \nQ 6.59375 17.96875 6.59375 36.375 \nQ 6.59375 54.828125 13.0625 64.515625 \nQ 19.53125 74.21875 31.78125 74.21875 \nz\n\" id=\"DejaVuSans-48\"/>\n      </defs>\n      <g transform=\"translate(42.140057 239.238437)scale(0.1 -0.1)\">\n       <use xlink:href=\"#DejaVuSans-48\"/>\n      </g>\n     </g>\n    </g>\n    <g id=\"xtick_2\">\n     <g id=\"line2d_2\">\n      <g>\n       <use style=\"stroke:#000000;stroke-width:0.8;\" x=\"97.797796\" xlink:href=\"#m3821c1e5e7\" y=\"224.64\"/>\n      </g>\n     </g>\n     <g id=\"text_2\">\n      <!-- 5 -->\n      <defs>\n       <path d=\"M 10.796875 72.90625 \nL 49.515625 72.90625 \nL 49.515625 64.59375 \nL 19.828125 64.59375 \nL 19.828125 46.734375 \nQ 21.96875 47.46875 24.109375 47.828125 \nQ 26.265625 48.1875 28.421875 48.1875 \nQ 40.625 48.1875 47.75 41.5 \nQ 54.890625 34.8125 54.890625 23.390625 \nQ 54.890625 11.625 47.5625 5.09375 \nQ 40.234375 -1.421875 26.90625 -1.421875 \nQ 22.3125 -1.421875 17.546875 -0.640625 \nQ 12.796875 0.140625 7.71875 1.703125 \nL 7.71875 11.625 \nQ 12.109375 9.234375 16.796875 8.0625 \nQ 21.484375 6.890625 26.703125 6.890625 \nQ 35.15625 6.890625 40.078125 11.328125 \nQ 45.015625 15.765625 45.015625 23.390625 \nQ 45.015625 31 40.078125 35.4375 \nQ 35.15625 39.890625 26.703125 39.890625 \nQ 22.75 39.890625 18.8125 39.015625 \nQ 14.890625 38.140625 10.796875 36.28125 \nz\n\" id=\"DejaVuSans-53\"/>\n      </defs>\n      <g transform=\"translate(94.616546 239.238437)scale(0.1 -0.1)\">\n       <use xlink:href=\"#DejaVuSans-53\"/>\n      </g>\n     </g>\n    </g>\n    <g id=\"xtick_3\">\n     <g id=\"line2d_3\">\n      <g>\n       <use style=\"stroke:#000000;stroke-width:0.8;\" x=\"150.274285\" xlink:href=\"#m3821c1e5e7\" y=\"224.64\"/>\n      </g>\n     </g>\n     <g id=\"text_3\">\n      <!-- 10 -->\n      <defs>\n       <path d=\"M 12.40625 8.296875 \nL 28.515625 8.296875 \nL 28.515625 63.921875 \nL 10.984375 60.40625 \nL 10.984375 69.390625 \nL 28.421875 72.90625 \nL 38.28125 72.90625 \nL 38.28125 8.296875 \nL 54.390625 8.296875 \nL 54.390625 0 \nL 12.40625 0 \nz\n\" id=\"DejaVuSans-49\"/>\n      </defs>\n      <g transform=\"translate(143.911785 239.238437)scale(0.1 -0.1)\">\n       <use xlink:href=\"#DejaVuSans-49\"/>\n       <use x=\"63.623047\" xlink:href=\"#DejaVuSans-48\"/>\n      </g>\n     </g>\n    </g>\n    <g id=\"xtick_4\">\n     <g id=\"line2d_4\">\n      <g>\n       <use style=\"stroke:#000000;stroke-width:0.8;\" x=\"202.750774\" xlink:href=\"#m3821c1e5e7\" y=\"224.64\"/>\n      </g>\n     </g>\n     <g id=\"text_4\">\n      <!-- 15 -->\n      <g transform=\"translate(196.388274 239.238437)scale(0.1 -0.1)\">\n       <use xlink:href=\"#DejaVuSans-49\"/>\n       <use x=\"63.623047\" xlink:href=\"#DejaVuSans-53\"/>\n      </g>\n     </g>\n    </g>\n    <g id=\"xtick_5\">\n     <g id=\"line2d_5\">\n      <g>\n       <use style=\"stroke:#000000;stroke-width:0.8;\" x=\"255.227263\" xlink:href=\"#m3821c1e5e7\" y=\"224.64\"/>\n      </g>\n     </g>\n     <g id=\"text_5\">\n      <!-- 20 -->\n      <defs>\n       <path d=\"M 19.1875 8.296875 \nL 53.609375 8.296875 \nL 53.609375 0 \nL 7.328125 0 \nL 7.328125 8.296875 \nQ 12.9375 14.109375 22.625 23.890625 \nQ 32.328125 33.6875 34.8125 36.53125 \nQ 39.546875 41.84375 41.421875 45.53125 \nQ 43.3125 49.21875 43.3125 52.78125 \nQ 43.3125 58.59375 39.234375 62.25 \nQ 35.15625 65.921875 28.609375 65.921875 \nQ 23.96875 65.921875 18.8125 64.3125 \nQ 13.671875 62.703125 7.8125 59.421875 \nL 7.8125 69.390625 \nQ 13.765625 71.78125 18.9375 73 \nQ 24.125 74.21875 28.421875 74.21875 \nQ 39.75 74.21875 46.484375 68.546875 \nQ 53.21875 62.890625 53.21875 53.421875 \nQ 53.21875 48.921875 51.53125 44.890625 \nQ 49.859375 40.875 45.40625 35.40625 \nQ 44.1875 33.984375 37.640625 27.21875 \nQ 31.109375 20.453125 19.1875 8.296875 \nz\n\" id=\"DejaVuSans-50\"/>\n      </defs>\n      <g transform=\"translate(248.864763 239.238437)scale(0.1 -0.1)\">\n       <use xlink:href=\"#DejaVuSans-50\"/>\n       <use x=\"63.623047\" xlink:href=\"#DejaVuSans-48\"/>\n      </g>\n     </g>\n    </g>\n    <g id=\"xtick_6\">\n     <g id=\"line2d_6\">\n      <g>\n       <use style=\"stroke:#000000;stroke-width:0.8;\" x=\"307.703752\" xlink:href=\"#m3821c1e5e7\" y=\"224.64\"/>\n      </g>\n     </g>\n     <g id=\"text_6\">\n      <!-- 25 -->\n      <g transform=\"translate(301.341252 239.238437)scale(0.1 -0.1)\">\n       <use xlink:href=\"#DejaVuSans-50\"/>\n       <use x=\"63.623047\" xlink:href=\"#DejaVuSans-53\"/>\n      </g>\n     </g>\n    </g>\n    <g id=\"xtick_7\">\n     <g id=\"line2d_7\">\n      <g>\n       <use style=\"stroke:#000000;stroke-width:0.8;\" x=\"360.180241\" xlink:href=\"#m3821c1e5e7\" y=\"224.64\"/>\n      </g>\n     </g>\n     <g id=\"text_7\">\n      <!-- 30 -->\n      <defs>\n       <path d=\"M 40.578125 39.3125 \nQ 47.65625 37.796875 51.625 33 \nQ 55.609375 28.21875 55.609375 21.1875 \nQ 55.609375 10.40625 48.1875 4.484375 \nQ 40.765625 -1.421875 27.09375 -1.421875 \nQ 22.515625 -1.421875 17.65625 -0.515625 \nQ 12.796875 0.390625 7.625 2.203125 \nL 7.625 11.71875 \nQ 11.71875 9.328125 16.59375 8.109375 \nQ 21.484375 6.890625 26.8125 6.890625 \nQ 36.078125 6.890625 40.9375 10.546875 \nQ 45.796875 14.203125 45.796875 21.1875 \nQ 45.796875 27.640625 41.28125 31.265625 \nQ 36.765625 34.90625 28.71875 34.90625 \nL 20.21875 34.90625 \nL 20.21875 43.015625 \nL 29.109375 43.015625 \nQ 36.375 43.015625 40.234375 45.921875 \nQ 44.09375 48.828125 44.09375 54.296875 \nQ 44.09375 59.90625 40.109375 62.90625 \nQ 36.140625 65.921875 28.71875 65.921875 \nQ 24.65625 65.921875 20.015625 65.03125 \nQ 15.375 64.15625 9.8125 62.3125 \nL 9.8125 71.09375 \nQ 15.4375 72.65625 20.34375 73.4375 \nQ 25.25 74.21875 29.59375 74.21875 \nQ 40.828125 74.21875 47.359375 69.109375 \nQ 53.90625 64.015625 53.90625 55.328125 \nQ 53.90625 49.265625 50.4375 45.09375 \nQ 46.96875 40.921875 40.578125 39.3125 \nz\n\" id=\"DejaVuSans-51\"/>\n      </defs>\n      <g transform=\"translate(353.817741 239.238437)scale(0.1 -0.1)\">\n       <use xlink:href=\"#DejaVuSans-51\"/>\n       <use x=\"63.623047\" xlink:href=\"#DejaVuSans-48\"/>\n      </g>\n     </g>\n    </g>\n   </g>\n   <g id=\"matplotlib.axis_2\">\n    <g id=\"ytick_1\">\n     <g id=\"line2d_8\">\n      <defs>\n       <path d=\"M 0 0 \nL -3.5 0 \n\" id=\"md93a332cde\" style=\"stroke:#000000;stroke-width:0.8;\"/>\n      </defs>\n      <g>\n       <use style=\"stroke:#000000;stroke-width:0.8;\" x=\"30.103125\" xlink:href=\"#md93a332cde\" y=\"197.873132\"/>\n      </g>\n     </g>\n     <g id=\"text_8\">\n      <!-- 3.0 -->\n      <defs>\n       <path d=\"M 10.6875 12.40625 \nL 21 12.40625 \nL 21 0 \nL 10.6875 0 \nz\n\" id=\"DejaVuSans-46\"/>\n      </defs>\n      <g transform=\"translate(7.2 201.672351)scale(0.1 -0.1)\">\n       <use xlink:href=\"#DejaVuSans-51\"/>\n       <use x=\"63.623047\" xlink:href=\"#DejaVuSans-46\"/>\n       <use x=\"95.410156\" xlink:href=\"#DejaVuSans-48\"/>\n      </g>\n     </g>\n    </g>\n    <g id=\"ytick_2\">\n     <g id=\"line2d_9\">\n      <g>\n       <use style=\"stroke:#000000;stroke-width:0.8;\" x=\"30.103125\" xlink:href=\"#md93a332cde\" y=\"167.62454\"/>\n      </g>\n     </g>\n     <g id=\"text_9\">\n      <!-- 3.5 -->\n      <g transform=\"translate(7.2 171.423759)scale(0.1 -0.1)\">\n       <use xlink:href=\"#DejaVuSans-51\"/>\n       <use x=\"63.623047\" xlink:href=\"#DejaVuSans-46\"/>\n       <use x=\"95.410156\" xlink:href=\"#DejaVuSans-53\"/>\n      </g>\n     </g>\n    </g>\n    <g id=\"ytick_3\">\n     <g id=\"line2d_10\">\n      <g>\n       <use style=\"stroke:#000000;stroke-width:0.8;\" x=\"30.103125\" xlink:href=\"#md93a332cde\" y=\"137.375948\"/>\n      </g>\n     </g>\n     <g id=\"text_10\">\n      <!-- 4.0 -->\n      <defs>\n       <path d=\"M 37.796875 64.3125 \nL 12.890625 25.390625 \nL 37.796875 25.390625 \nz\nM 35.203125 72.90625 \nL 47.609375 72.90625 \nL 47.609375 25.390625 \nL 58.015625 25.390625 \nL 58.015625 17.1875 \nL 47.609375 17.1875 \nL 47.609375 0 \nL 37.796875 0 \nL 37.796875 17.1875 \nL 4.890625 17.1875 \nL 4.890625 26.703125 \nz\n\" id=\"DejaVuSans-52\"/>\n      </defs>\n      <g transform=\"translate(7.2 141.175167)scale(0.1 -0.1)\">\n       <use xlink:href=\"#DejaVuSans-52\"/>\n       <use x=\"63.623047\" xlink:href=\"#DejaVuSans-46\"/>\n       <use x=\"95.410156\" xlink:href=\"#DejaVuSans-48\"/>\n      </g>\n     </g>\n    </g>\n    <g id=\"ytick_4\">\n     <g id=\"line2d_11\">\n      <g>\n       <use style=\"stroke:#000000;stroke-width:0.8;\" x=\"30.103125\" xlink:href=\"#md93a332cde\" y=\"107.127356\"/>\n      </g>\n     </g>\n     <g id=\"text_11\">\n      <!-- 4.5 -->\n      <g transform=\"translate(7.2 110.926574)scale(0.1 -0.1)\">\n       <use xlink:href=\"#DejaVuSans-52\"/>\n       <use x=\"63.623047\" xlink:href=\"#DejaVuSans-46\"/>\n       <use x=\"95.410156\" xlink:href=\"#DejaVuSans-53\"/>\n      </g>\n     </g>\n    </g>\n    <g id=\"ytick_5\">\n     <g id=\"line2d_12\">\n      <g>\n       <use style=\"stroke:#000000;stroke-width:0.8;\" x=\"30.103125\" xlink:href=\"#md93a332cde\" y=\"76.878764\"/>\n      </g>\n     </g>\n     <g id=\"text_12\">\n      <!-- 5.0 -->\n      <g transform=\"translate(7.2 80.677982)scale(0.1 -0.1)\">\n       <use xlink:href=\"#DejaVuSans-53\"/>\n       <use x=\"63.623047\" xlink:href=\"#DejaVuSans-46\"/>\n       <use x=\"95.410156\" xlink:href=\"#DejaVuSans-48\"/>\n      </g>\n     </g>\n    </g>\n    <g id=\"ytick_6\">\n     <g id=\"line2d_13\">\n      <g>\n       <use style=\"stroke:#000000;stroke-width:0.8;\" x=\"30.103125\" xlink:href=\"#md93a332cde\" y=\"46.630172\"/>\n      </g>\n     </g>\n     <g id=\"text_13\">\n      <!-- 5.5 -->\n      <g transform=\"translate(7.2 50.42939)scale(0.1 -0.1)\">\n       <use xlink:href=\"#DejaVuSans-53\"/>\n       <use x=\"63.623047\" xlink:href=\"#DejaVuSans-46\"/>\n       <use x=\"95.410156\" xlink:href=\"#DejaVuSans-53\"/>\n      </g>\n     </g>\n    </g>\n    <g id=\"ytick_7\">\n     <g id=\"line2d_14\">\n      <g>\n       <use style=\"stroke:#000000;stroke-width:0.8;\" x=\"30.103125\" xlink:href=\"#md93a332cde\" y=\"16.381579\"/>\n      </g>\n     </g>\n     <g id=\"text_14\">\n      <!-- 6.0 -->\n      <defs>\n       <path d=\"M 33.015625 40.375 \nQ 26.375 40.375 22.484375 35.828125 \nQ 18.609375 31.296875 18.609375 23.390625 \nQ 18.609375 15.53125 22.484375 10.953125 \nQ 26.375 6.390625 33.015625 6.390625 \nQ 39.65625 6.390625 43.53125 10.953125 \nQ 47.40625 15.53125 47.40625 23.390625 \nQ 47.40625 31.296875 43.53125 35.828125 \nQ 39.65625 40.375 33.015625 40.375 \nz\nM 52.59375 71.296875 \nL 52.59375 62.3125 \nQ 48.875 64.0625 45.09375 64.984375 \nQ 41.3125 65.921875 37.59375 65.921875 \nQ 27.828125 65.921875 22.671875 59.328125 \nQ 17.53125 52.734375 16.796875 39.40625 \nQ 19.671875 43.65625 24.015625 45.921875 \nQ 28.375 48.1875 33.59375 48.1875 \nQ 44.578125 48.1875 50.953125 41.515625 \nQ 57.328125 34.859375 57.328125 23.390625 \nQ 57.328125 12.15625 50.6875 5.359375 \nQ 44.046875 -1.421875 33.015625 -1.421875 \nQ 20.359375 -1.421875 13.671875 8.265625 \nQ 6.984375 17.96875 6.984375 36.375 \nQ 6.984375 53.65625 15.1875 63.9375 \nQ 23.390625 74.21875 37.203125 74.21875 \nQ 40.921875 74.21875 44.703125 73.484375 \nQ 48.484375 72.75 52.59375 71.296875 \nz\n\" id=\"DejaVuSans-54\"/>\n      </defs>\n      <g transform=\"translate(7.2 20.180798)scale(0.1 -0.1)\">\n       <use xlink:href=\"#DejaVuSans-54\"/>\n       <use x=\"63.623047\" xlink:href=\"#DejaVuSans-46\"/>\n       <use x=\"95.410156\" xlink:href=\"#DejaVuSans-48\"/>\n      </g>\n     </g>\n    </g>\n   </g>\n   <g id=\"line2d_15\">\n    <path clip-path=\"url(#pcea3b760a6)\" d=\"M 45.321307 17.083636 \nL 55.816605 49.017517 \nL 66.311902 68.998314 \nL 76.8072 86.247878 \nL 87.302498 100.08844 \nL 97.797796 111.248136 \nL 108.293094 120.748678 \nL 118.788391 129.343473 \nL 129.283689 137.066618 \nL 139.778987 144.13379 \nL 150.274285 150.525949 \nL 160.769583 156.42691 \nL 171.26488 161.704525 \nL 181.760178 166.50111 \nL 192.255476 171.096486 \nL 202.750774 175.133191 \nL 213.246072 179.033534 \nL 223.74137 182.586512 \nL 234.236667 186.143169 \nL 244.731965 189.627837 \nL 255.227263 192.734792 \nL 265.722561 195.637783 \nL 276.217859 198.35155 \nL 286.713156 200.964294 \nL 297.208454 203.612361 \nL 307.703752 206.113148 \nL 318.19905 208.616604 \nL 328.694348 210.863276 \nL 339.189645 212.824979 \nL 349.684943 214.756364 \n\" style=\"fill:none;stroke:#1f77b4;stroke-linecap:square;stroke-width:1.5;\"/>\n   </g>\n   <g id=\"line2d_16\">\n    <path clip-path=\"url(#pcea3b760a6)\" d=\"M 45.321307 40.981898 \nL 55.816605 61.776969 \nL 66.311902 80.866788 \nL 76.8072 92.181105 \nL 87.302498 102.757681 \nL 97.797796 109.361753 \nL 108.293094 114.930263 \nL 118.788391 119.656981 \nL 129.283689 124.417046 \nL 139.778987 127.705321 \nL 150.274285 130.627178 \nL 160.769583 133.047092 \nL 171.26488 134.833173 \nL 181.760178 136.215709 \nL 192.255476 138.056355 \nL 202.750774 138.694443 \nL 213.246072 140.32609 \nL 223.74137 140.905358 \nL 234.236667 141.666855 \nL 244.731965 142.310525 \nL 255.227263 142.645701 \nL 265.722561 142.779149 \nL 276.217859 142.996066 \nL 286.713156 143.459354 \nL 297.208454 143.192012 \nL 307.703752 143.6927 \nL 318.19905 143.659872 \nL 328.694348 143.993664 \nL 339.189645 143.97275 \nL 349.684943 143.527217 \n\" style=\"fill:none;stroke:#ff7f0e;stroke-linecap:square;stroke-width:1.5;\"/>\n   </g>\n   <g id=\"patch_3\">\n    <path d=\"M 30.103125 224.64 \nL 30.103125 7.2 \n\" style=\"fill:none;stroke:#000000;stroke-linecap:square;stroke-linejoin:miter;stroke-width:0.8;\"/>\n   </g>\n   <g id=\"patch_4\">\n    <path d=\"M 364.903125 224.64 \nL 364.903125 7.2 \n\" style=\"fill:none;stroke:#000000;stroke-linecap:square;stroke-linejoin:miter;stroke-width:0.8;\"/>\n   </g>\n   <g id=\"patch_5\">\n    <path d=\"M 30.103125 224.64 \nL 364.903125 224.64 \n\" style=\"fill:none;stroke:#000000;stroke-linecap:square;stroke-linejoin:miter;stroke-width:0.8;\"/>\n   </g>\n   <g id=\"patch_6\">\n    <path d=\"M 30.103125 7.2 \nL 364.903125 7.2 \n\" style=\"fill:none;stroke:#000000;stroke-linecap:square;stroke-linejoin:miter;stroke-width:0.8;\"/>\n   </g>\n   <g id=\"legend_1\">\n    <g id=\"patch_7\">\n     <path d=\"M 302.628125 44.55625 \nL 357.903125 44.55625 \nQ 359.903125 44.55625 359.903125 42.55625 \nL 359.903125 14.2 \nQ 359.903125 12.2 357.903125 12.2 \nL 302.628125 12.2 \nQ 300.628125 12.2 300.628125 14.2 \nL 300.628125 42.55625 \nQ 300.628125 44.55625 302.628125 44.55625 \nz\n\" style=\"fill:#ffffff;opacity:0.8;stroke:#cccccc;stroke-linejoin:miter;\"/>\n    </g>\n    <g id=\"line2d_17\">\n     <path d=\"M 304.628125 20.298437 \nL 324.628125 20.298437 \n\" style=\"fill:none;stroke:#1f77b4;stroke-linecap:square;stroke-width:1.5;\"/>\n    </g>\n    <g id=\"line2d_18\"/>\n    <g id=\"text_15\">\n     <!-- train -->\n     <defs>\n      <path d=\"M 18.3125 70.21875 \nL 18.3125 54.6875 \nL 36.8125 54.6875 \nL 36.8125 47.703125 \nL 18.3125 47.703125 \nL 18.3125 18.015625 \nQ 18.3125 11.328125 20.140625 9.421875 \nQ 21.96875 7.515625 27.59375 7.515625 \nL 36.8125 7.515625 \nL 36.8125 0 \nL 27.59375 0 \nQ 17.1875 0 13.234375 3.875 \nQ 9.28125 7.765625 9.28125 18.015625 \nL 9.28125 47.703125 \nL 2.6875 47.703125 \nL 2.6875 54.6875 \nL 9.28125 54.6875 \nL 9.28125 70.21875 \nz\n\" id=\"DejaVuSans-116\"/>\n      <path d=\"M 41.109375 46.296875 \nQ 39.59375 47.171875 37.8125 47.578125 \nQ 36.03125 48 33.890625 48 \nQ 26.265625 48 22.1875 43.046875 \nQ 18.109375 38.09375 18.109375 28.8125 \nL 18.109375 0 \nL 9.078125 0 \nL 9.078125 54.6875 \nL 18.109375 54.6875 \nL 18.109375 46.1875 \nQ 20.953125 51.171875 25.484375 53.578125 \nQ 30.03125 56 36.53125 56 \nQ 37.453125 56 38.578125 55.875 \nQ 39.703125 55.765625 41.0625 55.515625 \nz\n\" id=\"DejaVuSans-114\"/>\n      <path d=\"M 34.28125 27.484375 \nQ 23.390625 27.484375 19.1875 25 \nQ 14.984375 22.515625 14.984375 16.5 \nQ 14.984375 11.71875 18.140625 8.90625 \nQ 21.296875 6.109375 26.703125 6.109375 \nQ 34.1875 6.109375 38.703125 11.40625 \nQ 43.21875 16.703125 43.21875 25.484375 \nL 43.21875 27.484375 \nz\nM 52.203125 31.203125 \nL 52.203125 0 \nL 43.21875 0 \nL 43.21875 8.296875 \nQ 40.140625 3.328125 35.546875 0.953125 \nQ 30.953125 -1.421875 24.3125 -1.421875 \nQ 15.921875 -1.421875 10.953125 3.296875 \nQ 6 8.015625 6 15.921875 \nQ 6 25.140625 12.171875 29.828125 \nQ 18.359375 34.515625 30.609375 34.515625 \nL 43.21875 34.515625 \nL 43.21875 35.40625 \nQ 43.21875 41.609375 39.140625 45 \nQ 35.0625 48.390625 27.6875 48.390625 \nQ 23 48.390625 18.546875 47.265625 \nQ 14.109375 46.140625 10.015625 43.890625 \nL 10.015625 52.203125 \nQ 14.9375 54.109375 19.578125 55.046875 \nQ 24.21875 56 28.609375 56 \nQ 40.484375 56 46.34375 49.84375 \nQ 52.203125 43.703125 52.203125 31.203125 \nz\n\" id=\"DejaVuSans-97\"/>\n      <path d=\"M 9.421875 54.6875 \nL 18.40625 54.6875 \nL 18.40625 0 \nL 9.421875 0 \nz\nM 9.421875 75.984375 \nL 18.40625 75.984375 \nL 18.40625 64.59375 \nL 9.421875 64.59375 \nz\n\" id=\"DejaVuSans-105\"/>\n      <path d=\"M 54.890625 33.015625 \nL 54.890625 0 \nL 45.90625 0 \nL 45.90625 32.71875 \nQ 45.90625 40.484375 42.875 44.328125 \nQ 39.84375 48.1875 33.796875 48.1875 \nQ 26.515625 48.1875 22.3125 43.546875 \nQ 18.109375 38.921875 18.109375 30.90625 \nL 18.109375 0 \nL 9.078125 0 \nL 9.078125 54.6875 \nL 18.109375 54.6875 \nL 18.109375 46.1875 \nQ 21.34375 51.125 25.703125 53.5625 \nQ 30.078125 56 35.796875 56 \nQ 45.21875 56 50.046875 50.171875 \nQ 54.890625 44.34375 54.890625 33.015625 \nz\n\" id=\"DejaVuSans-110\"/>\n     </defs>\n     <g transform=\"translate(332.628125 23.798437)scale(0.1 -0.1)\">\n      <use xlink:href=\"#DejaVuSans-116\"/>\n      <use x=\"39.208984\" xlink:href=\"#DejaVuSans-114\"/>\n      <use x=\"80.322266\" xlink:href=\"#DejaVuSans-97\"/>\n      <use x=\"141.601562\" xlink:href=\"#DejaVuSans-105\"/>\n      <use x=\"169.384766\" xlink:href=\"#DejaVuSans-110\"/>\n     </g>\n    </g>\n    <g id=\"line2d_19\">\n     <path d=\"M 304.628125 34.976562 \nL 324.628125 34.976562 \n\" style=\"fill:none;stroke:#ff7f0e;stroke-linecap:square;stroke-width:1.5;\"/>\n    </g>\n    <g id=\"line2d_20\"/>\n    <g id=\"text_16\">\n     <!-- test -->\n     <defs>\n      <path d=\"M 56.203125 29.59375 \nL 56.203125 25.203125 \nL 14.890625 25.203125 \nQ 15.484375 15.921875 20.484375 11.0625 \nQ 25.484375 6.203125 34.421875 6.203125 \nQ 39.59375 6.203125 44.453125 7.46875 \nQ 49.3125 8.734375 54.109375 11.28125 \nL 54.109375 2.78125 \nQ 49.265625 0.734375 44.1875 -0.34375 \nQ 39.109375 -1.421875 33.890625 -1.421875 \nQ 20.796875 -1.421875 13.15625 6.1875 \nQ 5.515625 13.8125 5.515625 26.8125 \nQ 5.515625 40.234375 12.765625 48.109375 \nQ 20.015625 56 32.328125 56 \nQ 43.359375 56 49.78125 48.890625 \nQ 56.203125 41.796875 56.203125 29.59375 \nz\nM 47.21875 32.234375 \nQ 47.125 39.59375 43.09375 43.984375 \nQ 39.0625 48.390625 32.421875 48.390625 \nQ 24.90625 48.390625 20.390625 44.140625 \nQ 15.875 39.890625 15.1875 32.171875 \nz\n\" id=\"DejaVuSans-101\"/>\n      <path d=\"M 44.28125 53.078125 \nL 44.28125 44.578125 \nQ 40.484375 46.53125 36.375 47.5 \nQ 32.28125 48.484375 27.875 48.484375 \nQ 21.1875 48.484375 17.84375 46.4375 \nQ 14.5 44.390625 14.5 40.28125 \nQ 14.5 37.15625 16.890625 35.375 \nQ 19.28125 33.59375 26.515625 31.984375 \nL 29.59375 31.296875 \nQ 39.15625 29.25 43.1875 25.515625 \nQ 47.21875 21.78125 47.21875 15.09375 \nQ 47.21875 7.46875 41.1875 3.015625 \nQ 35.15625 -1.421875 24.609375 -1.421875 \nQ 20.21875 -1.421875 15.453125 -0.5625 \nQ 10.6875 0.296875 5.421875 2 \nL 5.421875 11.28125 \nQ 10.40625 8.6875 15.234375 7.390625 \nQ 20.0625 6.109375 24.8125 6.109375 \nQ 31.15625 6.109375 34.5625 8.28125 \nQ 37.984375 10.453125 37.984375 14.40625 \nQ 37.984375 18.0625 35.515625 20.015625 \nQ 33.0625 21.96875 24.703125 23.78125 \nL 21.578125 24.515625 \nQ 13.234375 26.265625 9.515625 29.90625 \nQ 5.8125 33.546875 5.8125 39.890625 \nQ 5.8125 47.609375 11.28125 51.796875 \nQ 16.75 56 26.8125 56 \nQ 31.78125 56 36.171875 55.265625 \nQ 40.578125 54.546875 44.28125 53.078125 \nz\n\" id=\"DejaVuSans-115\"/>\n     </defs>\n     <g transform=\"translate(332.628125 38.476562)scale(0.1 -0.1)\">\n      <use xlink:href=\"#DejaVuSans-116\"/>\n      <use x=\"39.208984\" xlink:href=\"#DejaVuSans-101\"/>\n      <use x=\"100.732422\" xlink:href=\"#DejaVuSans-115\"/>\n      <use x=\"152.832031\" xlink:href=\"#DejaVuSans-116\"/>\n     </g>\n    </g>\n   </g>\n  </g>\n </g>\n <defs>\n  <clipPath id=\"pcea3b760a6\">\n   <rect height=\"217.44\" width=\"334.8\" x=\"30.103125\" y=\"7.2\"/>\n  </clipPath>\n </defs>\n</svg>\n",
      "image/png": "[encoded data removed]"
     },
     "metadata": {
      "needs_background": "light"
     }
    }
   ],
   "source": [
    "plt.plot(history.history['loss'], label='train')\n",
    "plt.plot(history.history['val_loss'], label='test')\n",
    "plt.legend()\n",
    "plt.show()"
   ]
  },
  {
   "source": [
    "## 인퍼런스 모델 구현"
   ],
   "cell_type": "markdown",
   "metadata": {}
  },
  {
   "cell_type": "code",
   "execution_count": 104,
   "metadata": {},
   "outputs": [],
   "source": [
    "src_index_to_word = src_tokenizer.index_word # 원문 단어 집합에서 정수 -> 단어를 얻음\n",
    "tar_word_to_index = tar_tokenizer.word_index # 요약 단어 집합에서 단어 -> 정수를 얻음\n",
    "tar_index_to_word = tar_tokenizer.index_word # 요약 단어 집합에서 정수 -> 단어를 얻음"
   ]
  },
  {
   "source": [
    "### 우선, 인코더 설계"
   ],
   "cell_type": "markdown",
   "metadata": {}
  },
  {
   "cell_type": "code",
   "execution_count": 105,
   "metadata": {},
   "outputs": [],
   "source": [
    "# 인코더 설계\n",
    "encoder_model = Model(inputs=encoder_inputs, outputs=[encoder_outputs, state_h, state_c])\n",
    "\n",
    "# 이전 시점의 상태들을 저장하는 텐서\n",
    "decoder_state_input_h = Input(shape=(hidden_size,))\n",
    "decoder_state_input_c = Input(shape=(hidden_size,))\n",
    "\n",
    "# 디코더 임베딩 레이어2\n",
    "dec_emb2 = dec_emb_layer(decoder_inputs)\n",
    "# 문장의 다음 단어를 예측하기 위해서 ***초기 상태(initial_state)를 이전 시점의 상태로 사용***\n",
    "# 이는 뒤의 함수 decode_sequence()에 구현\n",
    "# 훈련 과정에서와 달리 LSTM의 리턴하는 은닉 상태와 셀 상태인 state_h와 state_c를 버리지 않음.\n",
    "# 훈련 과정에서는 _ 로 버렸었음.\n",
    "decoder_outputs2, state_h2, state_c2 = decoder_lstm(dec_emb2, initial_state=[decoder_state_input_h, decoder_state_input_c])"
   ]
  },
  {
   "source": [
    "### 어텐션 메커니즘을 사용하는 출력층"
   ],
   "cell_type": "markdown",
   "metadata": {}
  },
  {
   "cell_type": "code",
   "execution_count": 107,
   "metadata": {},
   "outputs": [],
   "source": [
    "# 어텐션 함수\n",
    "decoder_hidden_state_input = Input(shape=(text_max_len, hidden_size))\n",
    "# inf : inference\n",
    "# 현재 스텝에서 들어오는 input과 현재 스텝에서 내는 output 을 대상으로 attention 매커니즘 적용\n",
    "attn_out_inf, attn_states_inf = attn_layer([decoder_hidden_state_input, decoder_outputs2])\n",
    "# attention 매커니즘의 결과와 현재 스텝에서 내는 output을 합친다.\n",
    "decoder_inf_concat = Concatenate(axis=-1, name='concat')([decoder_outputs2, attn_out_inf])\n",
    "\n",
    "# 디코더의 출력층\n",
    "# 위에서 attention 매커니즘의 결과와 현재 스텝에서 내는 output을 합친 결과를 토대로 최종 추론값을 내놓는다.\n",
    "decoder_outputs2 = decoder_softmax_layer(decoder_inf_concat) \n",
    "\n",
    "# 최종 디코더 모델\n",
    "decoder_model = Model(\n",
    "    # state_input_h, state_input_c 는 이전 state의 값들을 참조하기 위함임.\n",
    "    # decoder_inputs 는 디코더에 맨 처음에 들어오는 input을 의미하는거겠지?\n",
    "    [decoder_inputs] + [decoder_hidden_state_input,decoder_state_input_h, decoder_state_input_c],\n",
    "    [decoder_outputs2] + [state_h2, state_c2])"
   ]
  },
  {
   "source": [
    "### 인퍼런스 단계에서 단어 시퀀스를 완성하는 함수"
   ],
   "cell_type": "markdown",
   "metadata": {}
  },
  {
   "cell_type": "code",
   "execution_count": 108,
   "metadata": {},
   "outputs": [],
   "source": [
    "def decode_sequence(input_seq):\n",
    "    # 입력으로부터 인코더의 상태를 얻음\n",
    "    e_out, e_h, e_c = encoder_model.predict(input_seq)\n",
    "\n",
    "     # <SOS>에 해당하는 토큰 생성\n",
    "     # 시작 토큰을 지정해주는거임 ㅇㅇ 처음에는 target_seq를 시작 토큰으로 놓고 시작.\n",
    "    target_seq = np.zeros((1,1))\n",
    "    target_seq[0, 0] = tar_word_to_index['sostoken']\n",
    "\n",
    "    stop_condition = False\n",
    "    decoded_sentence = ''\n",
    "    # 인퍼런스 단계는 하나의 time step 을 넘어가는 과정을 반복적으로 돌려야 하기 때문\n",
    "    while not stop_condition: # stop_condition이 True가 될 때까지 루프 반복\n",
    "\n",
    "        # 마지막으로 뽑힌 토큰과 인코더에서 나온 값들을 토대로 predict 한다.\n",
    "        # 단, 위에 어탠션 메커니즘을 정의한 내용이 적용되는거겠지.\n",
    "        # 인코더에서 각 time step 마다 내놓은 결과와 state를 참조하는거임 ㅇㅇ\n",
    "        output_tokens, h, c = decoder_model.predict([target_seq] + [e_out, e_h, e_c])\n",
    "        sampled_token_index = np.argmax(output_tokens[0, -1, :])\n",
    "        sampled_token = tar_index_to_word[sampled_token_index]\n",
    "\n",
    "        # eostoken에 도달하지 않았으면, 추출된 토큰을 문장 결과값 string에 이어붙인다.\n",
    "        if(sampled_token!='eostoken'):\n",
    "            decoded_sentence += ' '+sampled_token\n",
    "\n",
    "        #  <eos>에 도달하거나 최대 길이를 넘으면 중단.\n",
    "        if (sampled_token == 'eostoken'  or len(decoded_sentence.split()) >= (summary_max_len-1)):\n",
    "            stop_condition = True\n",
    "\n",
    "        # 길이가 1인 타겟 시퀀스를 업데이트\n",
    "        target_seq = np.zeros((1,1))\n",
    "        # 현재 마지막으로 뽑힌 token을 지정해주는것.\n",
    "        target_seq[0, 0] = sampled_token_index\n",
    "\n",
    "        # 상태를 업데이트 합니다.\n",
    "        e_h, e_c = h, c\n",
    "\n",
    "    return decoded_sentence"
   ]
  },
  {
   "source": [
    "## 실제 결과와 요약문 비교하기(추상적 요약) _ 모델 테스트\n",
    "\n",
    "원래의 요약문(headlines 열)과 학습을 통해 얻은 추상적 요약의 결과를 비교해보세요."
   ],
   "cell_type": "markdown",
   "metadata": {}
  },
  {
   "cell_type": "code",
   "execution_count": 109,
   "metadata": {},
   "outputs": [],
   "source": [
    "# 원문의 정수 시퀀스를 텍스트 시퀀스로 변환\n",
    "def seq2text(input_seq):\n",
    "    temp=''\n",
    "    for i in input_seq:\n",
    "# padding에 해당하는 0 제외\n",
    "        if(i!=0):\n",
    "            temp = temp + src_index_to_word[i]+' '\n",
    "    return temp\n",
    "\n",
    "# 요약문의 정수 시퀀스를 텍스트 시퀀스로 변환\n",
    "def seq2summary(input_seq):\n",
    "    temp=''\n",
    "    for i in input_seq:\n",
    "# padding에 해당하는 0, 시작 토큰 인덱스, 종료 토큰 인덱스 출력에서 제외.\n",
    "        if((i!=0 and i!=tar_word_to_index['sostoken']) and i!=tar_word_to_index['eostoken']):\n",
    "            temp = temp + tar_index_to_word[i] + ' '\n",
    "    return temp"
   ]
  },
  {
   "cell_type": "code",
   "execution_count": 110,
   "metadata": {},
   "outputs": [
    {
     "output_type": "stream",
     "name": "stdout",
     "text": [
      "원문 : mumbai taj mahal palace hotel recreated celebratory indo french dinner served eve independence august executive chef amit chowdhury recreated menu help served kitchen years ago menu variations also served properties kolkata hyderabad london chennai \n",
      "실제 요약 : mumbai taj mahal hotel independence eve dinner \n",
      "예측 요약 :  kolkata cm yogi singh named as india\n",
      "\n",
      "\n",
      "원문 : ibm monday unveiled artificial intelligence system called project debate humans real time ai debate topics four minute opening statement two minute closing statement development six years internal newspapers journals sources draw arguments \n",
      "실제 요약 : ibm unveils ai that can debate with humans in real time \n",
      "예측 요약 :  ibm unveils ai that can be used for mars\n",
      "\n",
      "\n",
      "원문 : discussing use abusive words film kareena kapoor khan said saif ali khan villain bad lot awards film talking upcoming film veere di wedding kareena added film requires lines words words used forcefully \n",
      "실제 요약 : saif used words in and won awards kareena \n",
      "예측 요약 :  kareena and are the best kareena on kareena debut\n",
      "\n",
      "\n",
      "원문 : church sweden fired priest placing ad dating website wherein said looking relationship sex dates nude priest described good looking man wrote looking someone wants expand sexual \n",
      "실제 요약 : priest fired over online dating ad for sex nude \n",
      "예측 요약 :  church apologises for calling kids to be sex\n",
      "\n",
      "\n",
      "원문 : swag new song starring tiger shroff nawazuddin siddiqui upcoming film munna michael released song composed vocals brijesh lyrics kumaar khan directed khan film scheduled release july \n",
      "실제 요약 : song starring tiger nawazuddin from munna michael out \n",
      "예측 요약 :  song from tiger shroff starrer tiger released\n",
      "\n",
      "\n",
      "원문 : three four electric buses mumbai years started plying routes around chhatrapati shivaji maharaj terminus churchgate station monday onwards emission free buses launched brihanmumbai electric supply transport capacity passengers buses expected reduce operational maintenance costs \n",
      "실제 요약 : eco friendly buses start services in mumbai \n",
      "예측 요약 :  mumbai buses to get mumbai sanitary system\n",
      "\n",
      "\n",
      "원문 : bjp spokesperson gvl narasimha rao thursday called kerala solar scam biggest sex cum bribe scandal shocked nation demanding state ensure custodial interrogation accused added scam tainted kerala go far beyond state right delhi \n",
      "실제 요약 : bjp solar scam as biggest sex bribe scandal \n",
      "예측 요약 :  bjp leader who killed in kerala for sex abuse\n",
      "\n",
      "\n",
      "원문 : censor board passed film behen teri cuts reportedly retaining scene actor rajkummar rao dressed lord shiva people earlier protested people come wish respect censor board government appointed body say film said film producer \n",
      "실제 요약 : censor board passes with no cuts \n",
      "예측 요약 :  censor board cuts cuts for hanuman in film\n",
      "\n",
      "\n",
      "원문 : constable employed railway police force wednesday suspended video touching woman inappropriately went viral social media constable posted kalyan police station mumbai constable started back woman sitting bench station \n",
      "실제 요약 : railway cop suspended after video of him molesting woman goes viral \n",
      "예측 요약 :  cop suspended for cop with wife at delhi station\n",
      "\n",
      "\n",
      "원문 : addressing professionals wednesday pm narendra modi said become fashion country abuse businessmen industrialists agree line thought defending corporates pm modi said excellent social work urging employees contribute society \n",
      "실제 요약 : do not agree with fashion of abusing pm modi \n",
      "예측 요약 :  most beautiful word by pm modi on metoo\n",
      "\n",
      "\n",
      "원문 : around million smartphone units shipped india first quarter leading year year growth according idc per data xiaomi maintained lead market followed samsung oppo online channel accounted facilitating sales march quarter report added \n",
      "실제 요약 : million smartphones in india in report \n",
      "예측 요약 :  india revenue revenue at billion in\n",
      "\n",
      "\n",
      "원문 : irrfan khan named best actor star screen awards hindi medium shared picture captioned se hindi medium tak villain se popular hero tak irrfan said amazing award best villain best actor \n",
      "실제 요약 : villain se hero irrfan on best actor star screen award \n",
      "예측 요약 :  irrfan khan to make debut at koffee with karan\n",
      "\n",
      "\n",
      "원문 : bahrain court tuesday revoked citizenship people awarded life sentences others mass terrorism trial prosecutors said accused detonated bombs received weapons training attempted kill police officers bahrain claimed iran helped accused set militant group called \n",
      "실제 요약 : bahrain revokes citizenship of people on terror charges \n",
      "예측 요약 :  un court refuses to probe crimes in terror cases\n",
      "\n",
      "\n",
      "원문 : reliance industries chairman mukesh ambani daughter isha ambani featured cover february edition vogue india dressed white shirt dress black skirt australian designer look ring cover story isha spoken work life marriage \n",
      "실제 요약 : isha ambani features on february cover of vogue magazine \n",
      "예측 요약 :  mukesh ambani ambani features on vogue india cover\n",
      "\n",
      "\n",
      "원문 : hindu jagran manch rss affiliated group planned marry muslim girls hindu men campaign titled beti bachao bahu counter love jihad group plans facilitate marriages muslim women wish marry hindu men also support financially provide security \n",
      "실제 요약 : rss linked group launches muslim campaign \n",
      "예측 요약 :  rss leader demands dalit national awards for women\n",
      "\n",
      "\n",
      "원문 : ferrari president sergio marchionne said team would consider quitting formula changes proposed new owners liberty media implemented marchionne said supported cost cutting issues like new engine design could force ferrari consider racing elsewhere ferrari team participated world championships \n",
      "실제 요약 : ferrari may quit after years team president \n",
      "예측 요약 :  prez urges to introduce law to fight niti aayog\n",
      "\n",
      "\n",
      "원문 : delhi government announced plans grade around government private schools initiative help parents choose school kids based reliable information schools infrastructure teaching learning facilities safety among others evaluation process begin august grades awarded announced children day \n",
      "실제 요약 : delhi schools to be on infrastructure \n",
      "예측 요약 :  delhi to get schools to schools schools\n",
      "\n",
      "\n",
      "원문 : mit researchers built sensor equipped bacteria diagnose stomach bleeding sensor successfully tested pigs converts bacterial response wireless signal read smartphone researchers estimate battery could power inch long device months continuous use \n",
      "실제 요약 : mit designs sensor to detect bleeding in stomach \n",
      "예측 요약 :  mit creates system that can detect objects from light\n",
      "\n",
      "\n",
      "원문 : former army officer lt col verma made new record highest jump india performing jump noida building feet height verma credit completed also received national adventure award \n",
      "실제 요약 : ex army man records india highest jump from noida building \n",
      "예측 요약 :  army chief rawat myanmar to be auctioned for\n",
      "\n",
      "\n",
      "원문 : per reports sanjay dutt starring opposite madhuri dixit karan johar next production directed abhishek last seen opposite madhuri replaced actress sridevi following demise february year film earlier titled \n",
      "실제 요약 : sanjay to star with madhuri in johar production reports \n",
      "예측 요약 :  sanjay dutt to star in johar film reports\n",
      "\n",
      "\n",
      "원문 : brazilian legend ronaldo discharged hospital spain spending four days receiving treatment pneumonia year old also reported intensive care took twitter thank doctors nurses girlfriend support two time ballon winner holiday taken ill \n",
      "실제 요약 : brazil legend ronaldo discharged after four days in hospital \n",
      "예측 요약 :  ronaldo hospitalised after months at hospital\n",
      "\n",
      "\n",
      "원문 : delhi high court friday pulled central reserve police force promoting woman officer pregnancy describing discrimination stating discrimination violates principle equality court said unlawful treat lady exercised right choice mother \n",
      "실제 요약 : hc raps crpf for not promoting woman officer over pregnancy \n",
      "예측 요약 :  delhi hc refuses to divorce gandhi divorce\n",
      "\n",
      "\n",
      "원문 : condemning caste system india tibetan spiritual leader dalai lama monday said discontinued india home world major religious traditions something proud added said tibetan language preserved india ancient knowledge \n",
      "실제 요약 : india should caste system dalai lama \n",
      "예측 요약 :  dalai lama should be dalai lama\n",
      "\n",
      "\n",
      "원문 : woman us state kentucky charged trafficking controlled substance offered provide three people drugs waiting judge courtroom right hearing year old earlier charged making threats overheard security officer making offer \n",
      "실제 요약 : us woman tries to sell drugs in before her hearing \n",
      "예측 요약 :  us woman jailed for using detention to assassinate people\n",
      "\n",
      "\n",
      "원문 : death toll magnitude earthquake tsunami hit indonesia friday risen indonesia national disaster agency said least people seriously injured hospitalised earthquake hit island sulawesi following tsunami waves swept away homes coastal city home people \n",
      "실제 요약 : confirmed dead due to earthquake tsunami in indonesia \n",
      "예측 요약 :  death toll rises to death in earthquake\n",
      "\n",
      "\n",
      "원문 : according reports akshay kumar replace salman khan sequel film entry titled entry mein entry talking project producer boney kapoor earlier said going meet salman soon discuss sequel cannot explore possibilities entry starred anil kapoor khan \n",
      "실제 요약 : akshay kumar to replace salman in no entry sequel report \n",
      "예측 요약 :  akshay to release in salman khan in tubelight report\n",
      "\n",
      "\n",
      "원문 : facebook friday night revealed million accounts directly compromised due security bug accounts affected include facebook creator ceo mark zuckerberg coo sheryl sandberg per new york times facebook logged additional million users used view feature exploited unknown hackers \n",
      "실제 요약 : facebook ceo zuckerberg account among million attacked nyt \n",
      "예측 요약 :  facebook users million users in data breach\n",
      "\n",
      "\n",
      "원문 : speaking ongoing controversy surrounding kapil sharma comedian chandan prabhakar said kapil emotional person negative articles affect referring spotboye editor vickey lalwani chandan added journalist keeps kapil negative articles chandan said kapil someone manipulate things takes things heart \n",
      "실제 요약 : kapil is emotional negative affect him \n",
      "예측 요약 :  kapil sharma show not to show kapil sharma show\n",
      "\n",
      "\n",
      "원문 : least families five tribal dominated villages returned hindu fold one month part rss christianity free block campaign jharkhand rss workers claimed claimed families hijacked christian missionaries past decade cannot call conversion bringing lost brothers sisters back claimed \n",
      "실제 요약 : rss converts christian families in jharkhand in month \n",
      "예측 요약 :  up police to give hindu riots for muslims\n",
      "\n",
      "\n",
      "원문 : cuba north korea rejected us arbitrary demands anti us meet expressing concerns tension korean peninsula slamming us nations said coercive measures us including contrary international law comes us designated north korea state sponsor terrorism \n",
      "실제 요약 : cuba korea reject us demands at anti us meet \n",
      "예측 요약 :  korea rejects us north korea\n",
      "\n",
      "\n",
      "원문 : three former workers electric carmaker tesla factory filed lawsuit company racial harassment lawsuit filed three african american men claims repeatedly subjected racial slurs drawings co workers one plaintiffs also said subjected word regularly tesla took action \n",
      "실제 요약 : tesla sued by former factory workers over racial harassment \n",
      "예측 요약 :  tesla fires accused of sexual assault by\n",
      "\n",
      "\n",
      "원문 : billion sales fiscal microsoft crossed billion milestone first time company year history comes microsoft market cap touched billion last week trailing google parent alphabet amazon apple us microsoft record revenue largely attributed commercial cloud sales contributed billion \n",
      "실제 요약 : microsoft crosses billion in annual sales for st time \n",
      "예측 요약 :  alibaba posts billion revenue from softbank in sales\n",
      "\n",
      "\n",
      "원문 : woman gave birth bridge railway station mumbai sunday following woman baby admitted nearby civil hospital earlier case three nurses helped year old woman give birth baby girl local train railway station \n",
      "실제 요약 : woman gives birth on bridge at mumbai railway station \n",
      "예측 요약 :  woman gives birth to railway station after being denied\n",
      "\n",
      "\n",
      "원문 : india pakistan match edgbaston birmingham sunday saw record turnout venue despite london twin attacks venue recorded turnout highest attendance ever odi venue following london attacks security birmingham indian team hotel put temporary lockdown \n",
      "실제 요약 : record turnout at india pakistan match despite london attack \n",
      "예측 요약 :  pakistan desh to hold st ever in rain\n",
      "\n",
      "\n",
      "원문 : female worker district disability rehabilitation centre laboratory kerala kochi city reportedly attacked youth blade city main road refusing marry admitted hospital undergoing treatment injuries neck police taken accused custody \n",
      "실제 요약 : female attacked with blade for refusing marriage proposal \n",
      "예측 요약 :  man arrested for kerala floods on train\n",
      "\n",
      "\n",
      "원문 : marathi film sairat song recreated hindi adaptation dhadak feature lead stars ishaan khatter janhvi kapoor choreographer farah khan took social media share making song captioning keeping directed shashank khaitan film release july \n",
      "실제 요약 : song to be for ishaan janhvi dhadak \n",
      "예측 요약 :  bhumi song from film on fanney khan\n",
      "\n",
      "\n",
      "원문 : new note printed new design note printed central government rbi bharat sarkar notes also signatures economic affairs secretary shaktikanta das rajiv mehrishi finance secretary printing started \n",
      "실제 요약 : how is the new note different from other notes \n",
      "예측 요약 :  zomato note ban on rbi new notes\n",
      "\n",
      "\n",
      "원문 : ultimate fighting championship fighter anthony johnson revealed retired mixed martial arts set medical marijuana business johnson former top ranked light heavyweight contender ufc rankings said tired getting punched rolling around ground guys added retiring since also concerned health \n",
      "실제 요약 : ufc fighter retires to get into weed business \n",
      "예측 요약 :  ufc champs to be world no for olympics\n",
      "\n",
      "\n",
      "원문 : cab hailing startup uber us based rival lyft wednesday raised additional million series financing round led fidelity management research company taking valuation billion startup value doubled past months founded lyft raised billion since inception \n",
      "실제 요약 : uber rival lyft raises million at billion valuation \n",
      "예측 요약 :  uber rival lyft raises mn funding at bn valuation\n",
      "\n",
      "\n",
      "원문 : isis released image threatening launch terror attacks fifa world cup russia image shows rifle carrying isis fighter along bomb front football stadium also includes tournament official logo tournament played across cities russia june july \n",
      "실제 요약 : isis threatens attack during fifa world cup in russia \n",
      "예측 요약 :  isis attack on trump wc final final\n",
      "\n",
      "\n",
      "원문 : google wednesday launched two new android oreo powered smartphones pixel pixel xl starting price respectively phones water resistant come built google lens recognise phone numbers addresses even art pre booking phones begin october india \n",
      "실제 요약 : google launches pixel pixel xl phones starting at \n",
      "예측 요약 :  google launches google for android security in india\n",
      "\n",
      "\n",
      "원문 : bcci friday took twitter share video former indian captain mahendra singh dhoni slamming similar shot like world cup winning six nets wankhede stadium msdhoni hits big one wankhede stadium takes us back famous six read caption \n",
      "실제 요약 : dhoni hits six similar to wc winning shot in nets \n",
      "예측 요약 :  bcci ceo dhoni gets picture with ms dhoni\n",
      "\n",
      "\n",
      "원문 : sonam kapoor confirmed starring film based chauhan novel zoya factor novel revolves around advertising professional falls love captain indian cricket team turns lucky charm players film directed filmmaker abhishek sharma \n",
      "실제 요약 : sonam to star in film based on the \n",
      "예측 요약 :  sonam kapoor to play in upcoming film reports\n",
      "\n",
      "\n",
      "원문 : world premiere ali fazal starrer victoria abdul held th venice international film festival directed stephen drama revolves around real life relationship queen victoria indian servant abdul karim film also screened toronto international film festival \n",
      "실제 요약 : ali victoria and abdul at venice film fest \n",
      "예측 요약 :  wins first film festival to oscars\n",
      "\n",
      "\n",
      "원문 : finance minister arun jaitley said composition rbi panel formed address issue reserves finalised urjit patel still governor panel announced december two weeks shaktikanta das took charge new governor six member panel headed former rbi governor bimal jalan \n",
      "실제 요약 : rbi reserves panel finalised when patel was still guv jaitley \n",
      "예측 요약 :  rbi to rbi arun jaitley\n",
      "\n",
      "\n",
      "원문 : retired indian air force officer mukul chandra joshi known traffic baba passed away sunday residence noida age spent last years spreading road safety awareness among motorists wearing white gowns traffic advisories printed often helped traffic police managing traffic \n",
      "실제 요약 : noida traffic baba passes away at \n",
      "예측 요약 :  iaf officer commits suicide after being caught\n",
      "\n",
      "\n",
      "원문 : statue mahatma gandhi porbandar chowk gujarat missing past three days according reports similar incident ashram maharashtra reported gandhi glasses among personal belongings missing cabinet kept display \n",
      "실제 요약 : mahatma gandhi go missing from his statue in gujarat \n",
      "예측 요약 :  mahatma gandhi who was missing by assam\n",
      "\n",
      "\n",
      "원문 : aap government termed delhi metro fare hike anti people centre asked state government pay crore annually firm operating delhi metro five years stop hike delhi metro fare remained unchanged since till may year electricity costs gone since \n",
      "실제 요약 : pay cr to stop metro fare hike centre to delhi govt \n",
      "예측 요약 :  aap metro fares hiked to delhi metro fare hike\n",
      "\n",
      "\n",
      "원문 : uk court denied bail underworld dawood ibrahim aide second time arrested hotel london last month described uk court proceedings top lieutenant company us filed extradition case money laundering extortion charges \n",
      "실제 요약 : uk court denies bail to dawood ibrahim aide \n",
      "예측 요약 :  uk court dismisses dawood accused of sexual harassment\n",
      "\n",
      "\n",
      "원문 : economic affairs secretary subhash chandra garg said regulations cryptocurrencies end fiscal exchanges operating currently regulated legal requirements conducting kyc added government budget said take measures eliminate use cryptocurrencies illegal activities \n",
      "실제 요약 : government to regulate cryptocurrencies by march end \n",
      "예측 요약 :  cryptocurrencies not to be used to cryptocurrencies finance ministry\n",
      "\n",
      "\n"
     ]
    }
   ],
   "source": [
    "for i in range(50, 100):\n",
    "    print(\"원문 :\", seq2text(encoder_input_test[i]))\n",
    "    print(\"실제 요약 :\", seq2summary(decoder_input_test[i]))\n",
    "    print(\"예측 요약 :\", decode_sequence(encoder_input_test[i].reshape(1, text_max_len)))\n",
    "    print(\"\\n\")"
   ]
  },
  {
   "source": [
    "## Summa를 이용하여 추출적 요약해보기\n",
    "\n",
    "추상적 요약은 추출적 요약과는 달리 문장의 표현력을 다양하게 가져갈 수 있지만, 추출적 요약에 비해서 난이도가 높아요.   \n",
    "반대로 말하면 추출적 요약은 추상적 요약에 비해 난이도가 낮고 기존 문장에서 문장을 꺼내오는 것이므로 잘못된 요약이 나올 가능성이 낮아요.\n",
    "\n",
    "Summa의 summarize를 사용하여 추출적 요약을 해보세요."
   ],
   "cell_type": "markdown",
   "metadata": {}
  },
  {
   "cell_type": "code",
   "execution_count": 132,
   "metadata": {},
   "outputs": [],
   "source": [
    "import requests\n",
    "from summa.summarizer import summarize"
   ]
  },
  {
   "cell_type": "code",
   "execution_count": 133,
   "metadata": {},
   "outputs": [
    {
     "output_type": "execute_result",
     "data": {
      "text/plain": [
       "'said year numbers mehul odi year hrithik wrote '"
      ]
     },
     "metadata": {},
     "execution_count": 133
    }
   ],
   "source": [
    "seq2text(decoder_input_test[0])"
   ]
  },
  {
   "cell_type": "code",
   "execution_count": 135,
   "metadata": {},
   "outputs": [
    {
     "output_type": "execute_result",
     "data": {
      "text/plain": [
       "''"
      ]
     },
     "metadata": {},
     "execution_count": 135
    }
   ],
   "source": [
    "summarize(seq2text(decoder_input_test[0]),words=10)"
   ]
  },
  {
   "cell_type": "code",
   "execution_count": 137,
   "metadata": {},
   "outputs": [
    {
     "output_type": "stream",
     "name": "stdout",
     "text": [
      "원문 : mumbai taj mahal palace hotel recreated celebratory indo french dinner served eve independence august executive chef amit chowdhury recreated menu help served kitchen years ago menu variations also served properties kolkata hyderabad london chennai \n",
      "실제 요약 : \n",
      "예측 요약 :  kolkata cm yogi singh named as india\n",
      "\n",
      "\n",
      "원문 : ibm monday unveiled artificial intelligence system called project debate humans real time ai debate topics four minute opening statement two minute closing statement development six years internal newspapers journals sources draw arguments \n",
      "실제 요약 : \n",
      "예측 요약 :  ibm unveils ai that can be used for mars\n",
      "\n",
      "\n",
      "원문 : discussing use abusive words film kareena kapoor khan said saif ali khan villain bad lot awards film talking upcoming film veere di wedding kareena added film requires lines words words used forcefully \n",
      "실제 요약 : \n",
      "예측 요약 :  kareena and are the best kareena on kareena debut\n",
      "\n",
      "\n",
      "원문 : church sweden fired priest placing ad dating website wherein said looking relationship sex dates nude priest described good looking man wrote looking someone wants expand sexual \n",
      "실제 요약 : \n",
      "예측 요약 :  church apologises for calling kids to be sex\n",
      "\n",
      "\n",
      "원문 : swag new song starring tiger shroff nawazuddin siddiqui upcoming film munna michael released song composed vocals brijesh lyrics kumaar khan directed khan film scheduled release july \n",
      "실제 요약 : \n",
      "예측 요약 :  song from tiger shroff starrer tiger released\n",
      "\n",
      "\n",
      "원문 : three four electric buses mumbai years started plying routes around chhatrapati shivaji maharaj terminus churchgate station monday onwards emission free buses launched brihanmumbai electric supply transport capacity passengers buses expected reduce operational maintenance costs \n",
      "실제 요약 : \n",
      "예측 요약 :  mumbai buses to get mumbai sanitary system\n",
      "\n",
      "\n",
      "원문 : bjp spokesperson gvl narasimha rao thursday called kerala solar scam biggest sex cum bribe scandal shocked nation demanding state ensure custodial interrogation accused added scam tainted kerala go far beyond state right delhi \n",
      "실제 요약 : \n",
      "예측 요약 :  bjp leader who killed in kerala for sex abuse\n",
      "\n",
      "\n",
      "원문 : censor board passed film behen teri cuts reportedly retaining scene actor rajkummar rao dressed lord shiva people earlier protested people come wish respect censor board government appointed body say film said film producer \n",
      "실제 요약 : \n",
      "예측 요약 :  censor board cuts cuts for hanuman in film\n",
      "\n",
      "\n",
      "원문 : constable employed railway police force wednesday suspended video touching woman inappropriately went viral social media constable posted kalyan police station mumbai constable started back woman sitting bench station \n",
      "실제 요약 : \n",
      "예측 요약 :  cop suspended for cop with wife at delhi station\n",
      "\n",
      "\n",
      "원문 : addressing professionals wednesday pm narendra modi said become fashion country abuse businessmen industrialists agree line thought defending corporates pm modi said excellent social work urging employees contribute society \n",
      "실제 요약 : \n",
      "예측 요약 :  most beautiful word by pm modi on metoo\n",
      "\n",
      "\n",
      "원문 : around million smartphone units shipped india first quarter leading year year growth according idc per data xiaomi maintained lead market followed samsung oppo online channel accounted facilitating sales march quarter report added \n",
      "실제 요약 : \n",
      "예측 요약 :  india revenue revenue at billion in\n",
      "\n",
      "\n",
      "원문 : irrfan khan named best actor star screen awards hindi medium shared picture captioned se hindi medium tak villain se popular hero tak irrfan said amazing award best villain best actor \n",
      "실제 요약 : \n",
      "예측 요약 :  irrfan khan to make debut at koffee with karan\n",
      "\n",
      "\n",
      "원문 : bahrain court tuesday revoked citizenship people awarded life sentences others mass terrorism trial prosecutors said accused detonated bombs received weapons training attempted kill police officers bahrain claimed iran helped accused set militant group called \n",
      "실제 요약 : \n",
      "예측 요약 :  un court refuses to probe crimes in terror cases\n",
      "\n",
      "\n",
      "원문 : reliance industries chairman mukesh ambani daughter isha ambani featured cover february edition vogue india dressed white shirt dress black skirt australian designer look ring cover story isha spoken work life marriage \n",
      "실제 요약 : \n",
      "예측 요약 :  mukesh ambani ambani features on vogue india cover\n",
      "\n",
      "\n",
      "원문 : hindu jagran manch rss affiliated group planned marry muslim girls hindu men campaign titled beti bachao bahu counter love jihad group plans facilitate marriages muslim women wish marry hindu men also support financially provide security \n",
      "실제 요약 : \n",
      "예측 요약 :  rss leader demands dalit national awards for women\n",
      "\n",
      "\n",
      "원문 : ferrari president sergio marchionne said team would consider quitting formula changes proposed new owners liberty media implemented marchionne said supported cost cutting issues like new engine design could force ferrari consider racing elsewhere ferrari team participated world championships \n",
      "실제 요약 : \n",
      "예측 요약 :  prez urges to introduce law to fight niti aayog\n",
      "\n",
      "\n",
      "원문 : delhi government announced plans grade around government private schools initiative help parents choose school kids based reliable information schools infrastructure teaching learning facilities safety among others evaluation process begin august grades awarded announced children day \n",
      "실제 요약 : \n",
      "예측 요약 :  delhi to get schools to schools schools\n",
      "\n",
      "\n",
      "원문 : mit researchers built sensor equipped bacteria diagnose stomach bleeding sensor successfully tested pigs converts bacterial response wireless signal read smartphone researchers estimate battery could power inch long device months continuous use \n",
      "실제 요약 : \n",
      "예측 요약 :  mit creates system that can detect objects from light\n",
      "\n",
      "\n",
      "원문 : former army officer lt col verma made new record highest jump india performing jump noida building feet height verma credit completed also received national adventure award \n",
      "실제 요약 : \n",
      "예측 요약 :  army chief rawat myanmar to be auctioned for\n",
      "\n",
      "\n",
      "원문 : per reports sanjay dutt starring opposite madhuri dixit karan johar next production directed abhishek last seen opposite madhuri replaced actress sridevi following demise february year film earlier titled \n",
      "실제 요약 : \n",
      "예측 요약 :  sanjay dutt to star in johar film reports\n",
      "\n",
      "\n",
      "원문 : brazilian legend ronaldo discharged hospital spain spending four days receiving treatment pneumonia year old also reported intensive care took twitter thank doctors nurses girlfriend support two time ballon winner holiday taken ill \n",
      "실제 요약 : \n",
      "예측 요약 :  ronaldo hospitalised after months at hospital\n",
      "\n",
      "\n",
      "원문 : delhi high court friday pulled central reserve police force promoting woman officer pregnancy describing discrimination stating discrimination violates principle equality court said unlawful treat lady exercised right choice mother \n",
      "실제 요약 : \n",
      "예측 요약 :  delhi hc refuses to divorce gandhi divorce\n",
      "\n",
      "\n",
      "원문 : condemning caste system india tibetan spiritual leader dalai lama monday said discontinued india home world major religious traditions something proud added said tibetan language preserved india ancient knowledge \n",
      "실제 요약 : \n",
      "예측 요약 :  dalai lama should be dalai lama\n",
      "\n",
      "\n",
      "원문 : woman us state kentucky charged trafficking controlled substance offered provide three people drugs waiting judge courtroom right hearing year old earlier charged making threats overheard security officer making offer \n",
      "실제 요약 : \n",
      "예측 요약 :  us woman jailed for using detention to assassinate people\n",
      "\n",
      "\n",
      "원문 : death toll magnitude earthquake tsunami hit indonesia friday risen indonesia national disaster agency said least people seriously injured hospitalised earthquake hit island sulawesi following tsunami waves swept away homes coastal city home people \n",
      "실제 요약 : \n",
      "예측 요약 :  death toll rises to death in earthquake\n",
      "\n",
      "\n",
      "원문 : according reports akshay kumar replace salman khan sequel film entry titled entry mein entry talking project producer boney kapoor earlier said going meet salman soon discuss sequel cannot explore possibilities entry starred anil kapoor khan \n",
      "실제 요약 : \n",
      "예측 요약 :  akshay to release in salman khan in tubelight report\n",
      "\n",
      "\n",
      "원문 : facebook friday night revealed million accounts directly compromised due security bug accounts affected include facebook creator ceo mark zuckerberg coo sheryl sandberg per new york times facebook logged additional million users used view feature exploited unknown hackers \n",
      "실제 요약 : \n",
      "예측 요약 :  facebook users million users in data breach\n",
      "\n",
      "\n",
      "원문 : speaking ongoing controversy surrounding kapil sharma comedian chandan prabhakar said kapil emotional person negative articles affect referring spotboye editor vickey lalwani chandan added journalist keeps kapil negative articles chandan said kapil someone manipulate things takes things heart \n",
      "실제 요약 : \n",
      "예측 요약 :  kapil sharma show not to show kapil sharma show\n",
      "\n",
      "\n",
      "원문 : least families five tribal dominated villages returned hindu fold one month part rss christianity free block campaign jharkhand rss workers claimed claimed families hijacked christian missionaries past decade cannot call conversion bringing lost brothers sisters back claimed \n",
      "실제 요약 : \n",
      "예측 요약 :  up police to give hindu riots for muslims\n",
      "\n",
      "\n",
      "원문 : cuba north korea rejected us arbitrary demands anti us meet expressing concerns tension korean peninsula slamming us nations said coercive measures us including contrary international law comes us designated north korea state sponsor terrorism \n",
      "실제 요약 : \n",
      "예측 요약 :  korea rejects us north korea\n",
      "\n",
      "\n",
      "원문 : three former workers electric carmaker tesla factory filed lawsuit company racial harassment lawsuit filed three african american men claims repeatedly subjected racial slurs drawings co workers one plaintiffs also said subjected word regularly tesla took action \n",
      "실제 요약 : \n",
      "예측 요약 :  tesla fires accused of sexual assault by\n",
      "\n",
      "\n",
      "원문 : billion sales fiscal microsoft crossed billion milestone first time company year history comes microsoft market cap touched billion last week trailing google parent alphabet amazon apple us microsoft record revenue largely attributed commercial cloud sales contributed billion \n",
      "실제 요약 : \n",
      "예측 요약 :  alibaba posts billion revenue from softbank in sales\n",
      "\n",
      "\n",
      "원문 : woman gave birth bridge railway station mumbai sunday following woman baby admitted nearby civil hospital earlier case three nurses helped year old woman give birth baby girl local train railway station \n",
      "실제 요약 : \n",
      "예측 요약 :  woman gives birth to railway station after being denied\n",
      "\n",
      "\n",
      "원문 : india pakistan match edgbaston birmingham sunday saw record turnout venue despite london twin attacks venue recorded turnout highest attendance ever odi venue following london attacks security birmingham indian team hotel put temporary lockdown \n",
      "실제 요약 : \n",
      "예측 요약 :  pakistan desh to hold st ever in rain\n",
      "\n",
      "\n",
      "원문 : female worker district disability rehabilitation centre laboratory kerala kochi city reportedly attacked youth blade city main road refusing marry admitted hospital undergoing treatment injuries neck police taken accused custody \n",
      "실제 요약 : \n",
      "예측 요약 :  man arrested for kerala floods on train\n",
      "\n",
      "\n",
      "원문 : marathi film sairat song recreated hindi adaptation dhadak feature lead stars ishaan khatter janhvi kapoor choreographer farah khan took social media share making song captioning keeping directed shashank khaitan film release july \n",
      "실제 요약 : \n",
      "예측 요약 :  bhumi song from film on fanney khan\n",
      "\n",
      "\n",
      "원문 : new note printed new design note printed central government rbi bharat sarkar notes also signatures economic affairs secretary shaktikanta das rajiv mehrishi finance secretary printing started \n",
      "실제 요약 : \n",
      "예측 요약 :  zomato note ban on rbi new notes\n",
      "\n",
      "\n",
      "원문 : ultimate fighting championship fighter anthony johnson revealed retired mixed martial arts set medical marijuana business johnson former top ranked light heavyweight contender ufc rankings said tired getting punched rolling around ground guys added retiring since also concerned health \n",
      "실제 요약 : \n",
      "예측 요약 :  ufc champs to be world no for olympics\n",
      "\n",
      "\n",
      "원문 : cab hailing startup uber us based rival lyft wednesday raised additional million series financing round led fidelity management research company taking valuation billion startup value doubled past months founded lyft raised billion since inception \n",
      "실제 요약 : \n",
      "예측 요약 :  uber rival lyft raises mn funding at bn valuation\n",
      "\n",
      "\n",
      "원문 : isis released image threatening launch terror attacks fifa world cup russia image shows rifle carrying isis fighter along bomb front football stadium also includes tournament official logo tournament played across cities russia june july \n",
      "실제 요약 : \n",
      "예측 요약 :  isis attack on trump wc final final\n",
      "\n",
      "\n",
      "원문 : google wednesday launched two new android oreo powered smartphones pixel pixel xl starting price respectively phones water resistant come built google lens recognise phone numbers addresses even art pre booking phones begin october india \n",
      "실제 요약 : \n",
      "예측 요약 :  google launches google for android security in india\n",
      "\n",
      "\n",
      "원문 : bcci friday took twitter share video former indian captain mahendra singh dhoni slamming similar shot like world cup winning six nets wankhede stadium msdhoni hits big one wankhede stadium takes us back famous six read caption \n",
      "실제 요약 : \n",
      "예측 요약 :  bcci ceo dhoni gets picture with ms dhoni\n",
      "\n",
      "\n",
      "원문 : sonam kapoor confirmed starring film based chauhan novel zoya factor novel revolves around advertising professional falls love captain indian cricket team turns lucky charm players film directed filmmaker abhishek sharma \n",
      "실제 요약 : \n",
      "예측 요약 :  sonam kapoor to play in upcoming film reports\n",
      "\n",
      "\n",
      "원문 : world premiere ali fazal starrer victoria abdul held th venice international film festival directed stephen drama revolves around real life relationship queen victoria indian servant abdul karim film also screened toronto international film festival \n",
      "실제 요약 : \n",
      "예측 요약 :  wins first film festival to oscars\n",
      "\n",
      "\n",
      "원문 : finance minister arun jaitley said composition rbi panel formed address issue reserves finalised urjit patel still governor panel announced december two weeks shaktikanta das took charge new governor six member panel headed former rbi governor bimal jalan \n",
      "실제 요약 : \n",
      "예측 요약 :  rbi to rbi arun jaitley\n",
      "\n",
      "\n",
      "원문 : retired indian air force officer mukul chandra joshi known traffic baba passed away sunday residence noida age spent last years spreading road safety awareness among motorists wearing white gowns traffic advisories printed often helped traffic police managing traffic \n",
      "실제 요약 : \n",
      "예측 요약 :  iaf officer commits suicide after being caught\n",
      "\n",
      "\n",
      "원문 : statue mahatma gandhi porbandar chowk gujarat missing past three days according reports similar incident ashram maharashtra reported gandhi glasses among personal belongings missing cabinet kept display \n",
      "실제 요약 : \n",
      "예측 요약 :  mahatma gandhi who was missing by assam\n",
      "\n",
      "\n",
      "원문 : aap government termed delhi metro fare hike anti people centre asked state government pay crore annually firm operating delhi metro five years stop hike delhi metro fare remained unchanged since till may year electricity costs gone since \n",
      "실제 요약 : \n",
      "예측 요약 :  aap metro fares hiked to delhi metro fare hike\n",
      "\n",
      "\n",
      "원문 : uk court denied bail underworld dawood ibrahim aide second time arrested hotel london last month described uk court proceedings top lieutenant company us filed extradition case money laundering extortion charges \n",
      "실제 요약 : \n",
      "예측 요약 :  uk court dismisses dawood accused of sexual harassment\n",
      "\n",
      "\n",
      "원문 : economic affairs secretary subhash chandra garg said regulations cryptocurrencies end fiscal exchanges operating currently regulated legal requirements conducting kyc added government budget said take measures eliminate use cryptocurrencies illegal activities \n",
      "실제 요약 : \n",
      "예측 요약 :  cryptocurrencies not to be used to cryptocurrencies finance ministry\n",
      "\n",
      "\n"
     ]
    }
   ],
   "source": [
    "for i in range(50, 100):\n",
    "    print(\"원문 :\", seq2text(encoder_input_test[i]))\n",
    "    print(\"실제 요약 :\", summarize(seq2text(decoder_input_test[i]),words=10))\n",
    "    print(\"예측 요약 :\", decode_sequence(encoder_input_test[i].reshape(1, text_max_len)))\n",
    "    print(\"\\n\")\n",
    "\n",
    "# # list 로 출력 받아보기\n",
    "# print('Summary:')\n",
    "# print(summarize(text, ratio=0.005, split=True))\n",
    "\n",
    "# # ratio 대신 문자 수로 제한도 가능\n",
    "# print('Summary:')\n",
    "# print(summarize(text, words=50))"
   ]
  },
  {
   "source": [
    "### 결과가 안 나온다!\n",
    "내 생각엔, 원문 텍스트의 길이가 너무 짧아서 그런 것으로 생각된다.   \n",
    "개인적으로 좋아하는 영화인 대부의 대본으로 시도하겠다."
   ],
   "cell_type": "markdown",
   "metadata": {}
  },
  {
   "cell_type": "code",
   "execution_count": 141,
   "metadata": {},
   "outputs": [],
   "source": [
    "text = requests.get('https://www.awesomefilm.com/script/THEGODFATHER.txt').text"
   ]
  },
  {
   "cell_type": "code",
   "execution_count": 145,
   "metadata": {},
   "outputs": [
    {
     "output_type": "execute_result",
     "data": {
      "text/plain": [
       "197393"
      ]
     },
     "metadata": {},
     "execution_count": 145
    }
   ],
   "source": [
    "len(text)"
   ]
  },
  {
   "cell_type": "code",
   "execution_count": 144,
   "metadata": {},
   "outputs": [
    {
     "output_type": "stream",
     "name": "stdout",
     "text": [
      "Summary:\n",
      "Where's Michael?\n",
      "MICHAEL\n",
      "MICHAEL\n",
      "MICHAEL\n",
      "MICHAEL\n",
      "MICHAEL\n",
      "MICHAEL\n",
      "MICHAEL\n",
      "MICHAEL\n",
      "MICHAEL\n",
      "MICHAEL\n",
      "Michael...\n",
      "MICHAEL\n",
      "MICHAEL\n",
      "MICHAEL\n",
      "MICHAEL\n",
      "MICHAEL\n",
      "MICHAEL\n",
      "MICHAEL\n",
      "MICHAEL\n",
      "MICHAEL\n",
      "MICHAEL\n",
      "MICHAEL\n",
      "And Michael?\n",
      "driver's seat: the DON enters the car, looks at MICHAEL, who\n",
      "MICHAEL\n",
      "MICHAEL\n",
      "MICHAEL\n",
      "The FIRST MAN opens the car door, and MICHAEL steps out.\n",
      "SONNY, MICHAEL, HAGEN, CLEMENZA and TESSIO; all exhausted,\n",
      "MICHAEL looks at the OLD MAN, his eyes are open, though he\n",
      "Inside the car: MICHAEL, FREDO, TOM HAGEN and a new man,\n"
     ]
    }
   ],
   "source": [
    "# 원문의 0.005% 만을 출력해보자.\n",
    "print('Summary:')\n",
    "print(summarize(text, ratio=0.005))\n",
    "\n",
    "# # list 로 출력 받아보기\n",
    "# print('Summary:')\n",
    "# print(summarize(text, ratio=0.005, split=True))\n",
    "\n",
    "# # ratio 대신 문자 수로 제한도 가능\n",
    "# print('Summary:')\n",
    "# print(summarize(text, words=50))"
   ]
  },
  {
   "source": [
    "마이클을 참 많이 부르긴 한다."
   ],
   "cell_type": "markdown",
   "metadata": {}
  },
  {
   "source": [
    "# 결과 보고서"
   ],
   "cell_type": "markdown",
   "metadata": {}
  },
  {
   "source": [
    "### 소감\n",
    "어디선가 얼핏 들었던 어탠션 매커니즘의 아이디어를 간단하게나마 구현해볼 수 있어서 의미있었다.   \n",
    "seq2seq 모델의 인퍼런스 모델을 따로 구현하는 과정에서, 코드를 이해하는 것에 꽤 애를 먹었다. 사실 지금도 완전히 이해했다고는 생각이 들지는 않고, 일단 덕지덕지 주석을 달아놓은 상태이니, 다시 공부해야겠다.   \n",
    "추론적 요약은 참 어렵다.\n",
    "\n",
    "### 결과\n",
    "\n",
    "***성공적 사례***\n",
    "- 원문 : cab hailing startup uber us based rival lyft wednesday raised additional million series financing round led fidelity management research company taking valuation billion startup value doubled past months founded lyft raised billion since inception   \n",
    "- 실제 요약 : uber rival lyft raises million at billion valuation \n",
    "- 예측 요약 :  uber rival lyft raises mn funding at bn valuation\n",
    "\n",
    "***실패 사레가 더 많아보임***\n",
    "성공적 사례도 분명 존재한다! 하지만, 대부분 실제 요약(headline)과는 조금 의미가 다른 내용들이 많았다. 그리고 동일 단어가 반복적으로 이어지며 문법적으로 어긋난 문장을 만들어내는 등의 양상을 보이는 경우가 많았다.\n",
    "\n",
    "- 원문 : isis released image threatening launch terror attacks fifa world cup russia image shows rifle carrying isis fighter along bomb front football stadium also includes tournament official logo tournament played across cities russia june july \n",
    "- 실제 요약 : isis threatens attack during fifa world cup in russia \n",
    "- 예측 요약 :  isis attack on trump wc final final   \n",
    "\n",
    "=> 갑자기 여기서 트럼프가 왜나오나!"
   ],
   "cell_type": "markdown",
   "metadata": {}
  }
 ]
}