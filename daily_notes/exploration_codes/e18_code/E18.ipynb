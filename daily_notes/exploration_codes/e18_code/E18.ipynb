{
 "metadata": {
  "language_info": {
   "codemirror_mode": {
    "name": "ipython",
    "version": 3
   },
   "file_extension": ".py",
   "mimetype": "text/x-python",
   "name": "python",
   "nbconvert_exporter": "python",
   "pygments_lexer": "ipython3",
   "version": "3.7.7-final"
  },
  "orig_nbformat": 2,
  "kernelspec": {
   "name": "Python 3.7.7 64-bit ('aiffel': conda)",
   "display_name": "Python 3.7.7 64-bit ('aiffel': conda)",
   "metadata": {
    "interpreter": {
     "hash": "f5a23dafa1167ad26407da34d61d47c6735277f7e3900a1acafb810bbe457929"
    }
   }
  }
 },
 "nbformat": 4,
 "nbformat_minor": 2,
 "cells": [
  {
   "source": [
    "# E-18 프로젝트: 뉴스기사 요약해보기"
   ],
   "cell_type": "markdown",
   "metadata": {}
  },
  {
   "cell_type": "code",
   "execution_count": 3,
   "metadata": {},
   "outputs": [],
   "source": [
    "import urllib.request\n",
    "import pandas as pd\n",
    "import numpy as np"
   ]
  },
  {
   "source": [
    "## 데이터 수집하기"
   ],
   "cell_type": "markdown",
   "metadata": {}
  },
  {
   "cell_type": "code",
   "execution_count": 4,
   "metadata": {},
   "outputs": [],
   "source": [
    "urllib.request.urlretrieve(\"https://raw.githubusercontent.com/sunnysai12345/News_Summary/master/news_summary_more.csv\", filename=\"news_summary_more.csv\")\n",
    "data = pd.read_csv('news_summary_more.csv', encoding='iso-8859-1')"
   ]
  },
  {
   "cell_type": "code",
   "execution_count": 5,
   "metadata": {},
   "outputs": [
    {
     "output_type": "execute_result",
     "data": {
      "text/plain": [
       "                                               headlines  \\\n",
       "54046  Delhi civic body declares 104 wards open defec...   \n",
       "15240  Krishna Raj Kapoor was an institution in livin...   \n",
       "97807  CVC rejects reports about deletion of its onli...   \n",
       "60018  Home healthcare startup Portea raises $26 mn i...   \n",
       "24011       Truckers' strike called off after eight days   \n",
       "71944  Jaguar reveals smart steering wheel for self-d...   \n",
       "94178  Sweden holds minute's silence for Stockholm at...   \n",
       "27054  Ranveer's aura is infectious: Miss World on wo...   \n",
       "519    India to soon mark presence on Moon with Chand...   \n",
       "84773  My daughter is not a player, she's a very pure...   \n",
       "\n",
       "                                                    text  \n",
       "54046  North Delhi Municipal Corporation on Monday de...  \n",
       "15240  Aamir Khan, while remembering late actor and f...  \n",
       "97807  The Central Vigilance Commission has denied re...  \n",
       "60018  Bengaluru-based home healthcare startup Portea...  \n",
       "24011  All India Motor Transport Congress called off ...  \n",
       "71944  UK-based automaker Jaguar Land Rover has revea...  \n",
       "94178  Swedes observed a minute of silence across the...  \n",
       "27054  Miss World 2017 Manushi Chhillar, while talkin...  \n",
       "519    Prime Minister Narendra Modi on Sunday said th...  \n",
       "84773  Actor Shakti Kapoor, while talking about his d...  "
      ],
      "text/html": "<div>\n<style scoped>\n    .dataframe tbody tr th:only-of-type {\n        vertical-align: middle;\n    }\n\n    .dataframe tbody tr th {\n        vertical-align: top;\n    }\n\n    .dataframe thead th {\n        text-align: right;\n    }\n</style>\n<table border=\"1\" class=\"dataframe\">\n  <thead>\n    <tr style=\"text-align: right;\">\n      <th></th>\n      <th>headlines</th>\n      <th>text</th>\n    </tr>\n  </thead>\n  <tbody>\n    <tr>\n      <th>54046</th>\n      <td>Delhi civic body declares 104 wards open defec...</td>\n      <td>North Delhi Municipal Corporation on Monday de...</td>\n    </tr>\n    <tr>\n      <th>15240</th>\n      <td>Krishna Raj Kapoor was an institution in livin...</td>\n      <td>Aamir Khan, while remembering late actor and f...</td>\n    </tr>\n    <tr>\n      <th>97807</th>\n      <td>CVC rejects reports about deletion of its onli...</td>\n      <td>The Central Vigilance Commission has denied re...</td>\n    </tr>\n    <tr>\n      <th>60018</th>\n      <td>Home healthcare startup Portea raises $26 mn i...</td>\n      <td>Bengaluru-based home healthcare startup Portea...</td>\n    </tr>\n    <tr>\n      <th>24011</th>\n      <td>Truckers' strike called off after eight days</td>\n      <td>All India Motor Transport Congress called off ...</td>\n    </tr>\n    <tr>\n      <th>71944</th>\n      <td>Jaguar reveals smart steering wheel for self-d...</td>\n      <td>UK-based automaker Jaguar Land Rover has revea...</td>\n    </tr>\n    <tr>\n      <th>94178</th>\n      <td>Sweden holds minute's silence for Stockholm at...</td>\n      <td>Swedes observed a minute of silence across the...</td>\n    </tr>\n    <tr>\n      <th>27054</th>\n      <td>Ranveer's aura is infectious: Miss World on wo...</td>\n      <td>Miss World 2017 Manushi Chhillar, while talkin...</td>\n    </tr>\n    <tr>\n      <th>519</th>\n      <td>India to soon mark presence on Moon with Chand...</td>\n      <td>Prime Minister Narendra Modi on Sunday said th...</td>\n    </tr>\n    <tr>\n      <th>84773</th>\n      <td>My daughter is not a player, she's a very pure...</td>\n      <td>Actor Shakti Kapoor, while talking about his d...</td>\n    </tr>\n  </tbody>\n</table>\n</div>"
     },
     "metadata": {},
     "execution_count": 5
    }
   ],
   "source": [
    "data.sample(10)"
   ]
  },
  {
   "source": [
    "이 데이터는 기사의 본문에 해당되는 text와 headlines 두 가지 열로 구성되어져 있습니다.\n",
    "\n",
    "추상적 요약을 하는 경우에는 text를 본문, headlines를 이미 요약된 데이터로 삼아서 모델을 학습할 수 있어요. 추출적 요약을 하는 경우에는 오직 text열만을 사용."
   ],
   "cell_type": "markdown",
   "metadata": {}
  },
  {
   "source": [
    "## 데이터 전처리하기 (추상적 요약)\n",
    "\n",
    "실습에서 사용된 전처리를 참고하여 각자 필요하다고 생각하는 전처리를 추가 사용하여 텍스트를 정규화 또는 정제해 보세요. 만약, 불용어 제거를 선택한다면 상대적으로 길이가 짧은 요약 데이터에 대해서도 불용어를 제거하는 것이 좋을지 고민해보세요."
   ],
   "cell_type": "markdown",
   "metadata": {}
  },
  {
   "cell_type": "code",
   "execution_count": null,
   "metadata": {},
   "outputs": [],
   "source": []
  },
  {
   "source": [
    "## 어텐션 메커니즘 사용하기(추상적 요약)\n",
    "\n",
    "일반적인 seq2seq보다는 어텐션 메커니즘을 사용한 seq2seq를 사용하는 것이 더 나은 성능을 얻을 수 있어요. 실습 내용을 참고하여 어텐션 메커니즘을 사용한 seq2seq를 설계해 보세요."
   ],
   "cell_type": "markdown",
   "metadata": {}
  },
  {
   "cell_type": "code",
   "execution_count": null,
   "metadata": {},
   "outputs": [],
   "source": []
  },
  {
   "source": [
    "## 실제 결과와 요약문 비교하기(추상적 요약)\n",
    "\n",
    "원래의 요약문(headlines 열)과 학습을 통해 얻은 추상적 요약의 결과를 비교해보세요."
   ],
   "cell_type": "markdown",
   "metadata": {}
  },
  {
   "cell_type": "code",
   "execution_count": null,
   "metadata": {},
   "outputs": [],
   "source": []
  },
  {
   "source": [
    "## Summa를 이용하여 추출적 요약해보기\n",
    "\n",
    "추상적 요약은 추출적 요약과는 달리 문장의 표현력을 다양하게 가져갈 수 있지만, 추출적 요약에 비해서 난이도가 높아요.   \n",
    "반대로 말하면 추출적 요약은 추상적 요약에 비해 난이도가 낮고 기존 문장에서 문장을 꺼내오는 것이므로 잘못된 요약이 나올 가능성이 낮아요.\n",
    "\n",
    "Summa의 summarize를 사용하여 추출적 요약을 해보세요."
   ],
   "cell_type": "markdown",
   "metadata": {}
  },
  {
   "cell_type": "code",
   "execution_count": null,
   "metadata": {},
   "outputs": [],
   "source": []
  },
  {
   "source": [
    "# 결과 보고서"
   ],
   "cell_type": "markdown",
   "metadata": {}
  },
  {
   "cell_type": "code",
   "execution_count": null,
   "metadata": {},
   "outputs": [],
   "source": []
  }
 ]
}