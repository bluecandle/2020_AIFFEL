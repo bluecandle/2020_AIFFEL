{
 "metadata": {
  "language_info": {
   "codemirror_mode": {
    "name": "ipython",
    "version": 3
   },
   "file_extension": ".py",
   "mimetype": "text/x-python",
   "name": "python",
   "nbconvert_exporter": "python",
   "pygments_lexer": "ipython3",
   "version": "3.7.7-final"
  },
  "orig_nbformat": 2,
  "kernelspec": {
   "name": "aiffel",
   "display_name": "aiffel"
  }
 },
 "nbformat": 4,
 "nbformat_minor": 2,
 "cells": [
  {
   "source": [
    "# 프로젝트: Face2Emoji 모바일 웹앱"
   ],
   "cell_type": "markdown",
   "metadata": {}
  },
  {
   "source": [
    "## Step 1 표정 데이터로 MobileNet 학습하기"
   ],
   "cell_type": "markdown",
   "metadata": {}
  },
  {
   "cell_type": "code",
   "execution_count": 1,
   "metadata": {},
   "outputs": [],
   "source": [
    "import numpy as np\n",
    "import tqdm\n",
    "import os\n",
    "\n",
    "import tensorflow as tf"
   ]
  },
  {
   "source": [
    "얼굴 흑백 픽셀값 pixels 컬럼을 X 항목으로, 감정 번호 emotion 컬럼을 y 항목으로 삼으려고 합니다. X항목은 48x48 pixel의 grayscale images(채널 1개)로 알려져 있습니다. 그리고 grayscale은 0~255의 정수로 표현되어 있습니다. 우리는 X 항목을 (48, 48, 1)로 reshape하고, 255로 나누어 정규화하려고 합니다."
   ],
   "cell_type": "markdown",
   "metadata": {}
  },
  {
   "cell_type": "code",
   "execution_count": 2,
   "metadata": {
    "tags": []
   },
   "outputs": [
    {
     "output_type": "stream",
     "name": "stderr",
     "text": "100%|██████████| 35887/35887 [00:28<00:00, 1251.08it/s]train : 32298, eval :3589\n\n"
    }
   ],
   "source": [
    "\n",
    "train_x = []\n",
    "train_y = []\n",
    "eval_x = []\n",
    "eval_y = []\n",
    "\n",
    "csv_path = os.getenv('HOME')+'/aiffel/tfjs_mobile/data/fer2013.csv'\n",
    "\n",
    "with open(csv_path) as f:\n",
    "  for line in tqdm.tqdm(f.read().splitlines()[1:]):\n",
    "    emotion, pixels, usage = line.split(',')\n",
    "    \n",
    "    x = np.array(pixels.split(' ')).astype(float).reshape(48, 48, 1) / 255\n",
    "    y = int(emotion)\n",
    "\n",
    "    if usage == 'PrivateTest':\n",
    "      eval_x.append(x)\n",
    "      eval_y.append(y)\n",
    "    else:\n",
    "      train_x.append(x)\n",
    "      train_y.append(y)\n",
    "\n",
    "print('train : {}, eval :{}'.format(len(train_x), len(eval_x)))"
   ]
  },
  {
   "cell_type": "code",
   "execution_count": 3,
   "metadata": {},
   "outputs": [
    {
     "output_type": "execute_result",
     "data": {
      "text/plain": "32298"
     },
     "metadata": {},
     "execution_count": 3
    }
   ],
   "source": [
    "# 48x48x1 행렬이 32298 개 있는거.\n",
    "len(train_x)"
   ]
  },
  {
   "cell_type": "code",
   "execution_count": 4,
   "metadata": {
    "tags": []
   },
   "outputs": [
    {
     "output_type": "stream",
     "name": "stdout",
     "text": "Angry\n"
    },
    {
     "output_type": "execute_result",
     "data": {
      "text/plain": "<matplotlib.image.AxesImage at 0x7fec066c7510>"
     },
     "metadata": {},
     "execution_count": 4
    },
    {
     "output_type": "display_data",
     "data": {
      "text/plain": "<Figure size 432x288 with 1 Axes>",
      "image/svg+xml": "<?xml version=\"1.0\" encoding=\"utf-8\" standalone=\"no\"?>\n<!DOCTYPE svg PUBLIC \"-//W3C//DTD SVG 1.1//EN\"\n  \"http://www.w3.org/Graphics/SVG/1.1/DTD/svg11.dtd\">\n<!-- Created with matplotlib (https://matplotlib.org/) -->\n<svg height=\"250.052344pt\" version=\"1.1\" viewBox=\"0 0 251.565 250.052344\" width=\"251.565pt\" xmlns=\"http://www.w3.org/2000/svg\" xmlns:xlink=\"http://www.w3.org/1999/xlink\">\n <defs>\n  <style type=\"text/css\">\n*{stroke-linecap:butt;stroke-linejoin:round;}\n  </style>\n </defs>\n <g id=\"figure_1\">\n  <g id=\"patch_1\">\n   <path d=\"M 0 250.052344 \nL 251.565 250.052344 \nL 251.565 0 \nL 0 0 \nz\n\" style=\"fill:none;\"/>\n  </g>\n  <g id=\"axes_1\">\n   <g id=\"patch_2\">\n    <path d=\"M 26.925 226.174219 \nL 244.365 226.174219 \nL 244.365 8.734219 \nL 26.925 8.734219 \nz\n\" style=\"fill:#ffffff;\"/>\n   </g>\n   <g clip-path=\"url(#pd779e74a80)\">\n    <image height=\"218\" id=\"image1129061f8f\" transform=\"scale(1 -1)translate(0 -218)\" width=\"218\" x=\"26.925\" xlink:href=\"data:image/png;base64,\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\" y=\"-8.174219\"/>\n   </g>\n   <g id=\"matplotlib.axis_1\">\n    <g id=\"xtick_1\">\n     <g id=\"line2d_1\">\n      <defs>\n       <path d=\"M 0 0 \nL 0 3.5 \n\" id=\"m3e48d409dc\" style=\"stroke:#000000;stroke-width:0.8;\"/>\n      </defs>\n      <g>\n       <use style=\"stroke:#000000;stroke-width:0.8;\" x=\"29.19\" xlink:href=\"#m3e48d409dc\" y=\"226.174219\"/>\n      </g>\n     </g>\n     <g id=\"text_1\">\n      <!-- 0 -->\n      <defs>\n       <path d=\"M 31.78125 66.40625 \nQ 24.171875 66.40625 20.328125 58.90625 \nQ 16.5 51.421875 16.5 36.375 \nQ 16.5 21.390625 20.328125 13.890625 \nQ 24.171875 6.390625 31.78125 6.390625 \nQ 39.453125 6.390625 43.28125 13.890625 \nQ 47.125 21.390625 47.125 36.375 \nQ 47.125 51.421875 43.28125 58.90625 \nQ 39.453125 66.40625 31.78125 66.40625 \nz\nM 31.78125 74.21875 \nQ 44.046875 74.21875 50.515625 64.515625 \nQ 56.984375 54.828125 56.984375 36.375 \nQ 56.984375 17.96875 50.515625 8.265625 \nQ 44.046875 -1.421875 31.78125 -1.421875 \nQ 19.53125 -1.421875 13.0625 8.265625 \nQ 6.59375 17.96875 6.59375 36.375 \nQ 6.59375 54.828125 13.0625 64.515625 \nQ 19.53125 74.21875 31.78125 74.21875 \nz\n\" id=\"DejaVuSans-48\"/>\n      </defs>\n      <g transform=\"translate(26.00875 240.772656)scale(0.1 -0.1)\">\n       <use xlink:href=\"#DejaVuSans-48\"/>\n      </g>\n     </g>\n    </g>\n    <g id=\"xtick_2\">\n     <g id=\"line2d_2\">\n      <g>\n       <use style=\"stroke:#000000;stroke-width:0.8;\" x=\"74.49\" xlink:href=\"#m3e48d409dc\" y=\"226.174219\"/>\n      </g>\n     </g>\n     <g id=\"text_2\">\n      <!-- 10 -->\n      <defs>\n       <path d=\"M 12.40625 8.296875 \nL 28.515625 8.296875 \nL 28.515625 63.921875 \nL 10.984375 60.40625 \nL 10.984375 69.390625 \nL 28.421875 72.90625 \nL 38.28125 72.90625 \nL 38.28125 8.296875 \nL 54.390625 8.296875 \nL 54.390625 0 \nL 12.40625 0 \nz\n\" id=\"DejaVuSans-49\"/>\n      </defs>\n      <g transform=\"translate(68.1275 240.772656)scale(0.1 -0.1)\">\n       <use xlink:href=\"#DejaVuSans-49\"/>\n       <use x=\"63.623047\" xlink:href=\"#DejaVuSans-48\"/>\n      </g>\n     </g>\n    </g>\n    <g id=\"xtick_3\">\n     <g id=\"line2d_3\">\n      <g>\n       <use style=\"stroke:#000000;stroke-width:0.8;\" x=\"119.79\" xlink:href=\"#m3e48d409dc\" y=\"226.174219\"/>\n      </g>\n     </g>\n     <g id=\"text_3\">\n      <!-- 20 -->\n      <defs>\n       <path d=\"M 19.1875 8.296875 \nL 53.609375 8.296875 \nL 53.609375 0 \nL 7.328125 0 \nL 7.328125 8.296875 \nQ 12.9375 14.109375 22.625 23.890625 \nQ 32.328125 33.6875 34.8125 36.53125 \nQ 39.546875 41.84375 41.421875 45.53125 \nQ 43.3125 49.21875 43.3125 52.78125 \nQ 43.3125 58.59375 39.234375 62.25 \nQ 35.15625 65.921875 28.609375 65.921875 \nQ 23.96875 65.921875 18.8125 64.3125 \nQ 13.671875 62.703125 7.8125 59.421875 \nL 7.8125 69.390625 \nQ 13.765625 71.78125 18.9375 73 \nQ 24.125 74.21875 28.421875 74.21875 \nQ 39.75 74.21875 46.484375 68.546875 \nQ 53.21875 62.890625 53.21875 53.421875 \nQ 53.21875 48.921875 51.53125 44.890625 \nQ 49.859375 40.875 45.40625 35.40625 \nQ 44.1875 33.984375 37.640625 27.21875 \nQ 31.109375 20.453125 19.1875 8.296875 \nz\n\" id=\"DejaVuSans-50\"/>\n      </defs>\n      <g transform=\"translate(113.4275 240.772656)scale(0.1 -0.1)\">\n       <use xlink:href=\"#DejaVuSans-50\"/>\n       <use x=\"63.623047\" xlink:href=\"#DejaVuSans-48\"/>\n      </g>\n     </g>\n    </g>\n    <g id=\"xtick_4\">\n     <g id=\"line2d_4\">\n      <g>\n       <use style=\"stroke:#000000;stroke-width:0.8;\" x=\"165.09\" xlink:href=\"#m3e48d409dc\" y=\"226.174219\"/>\n      </g>\n     </g>\n     <g id=\"text_4\">\n      <!-- 30 -->\n      <defs>\n       <path d=\"M 40.578125 39.3125 \nQ 47.65625 37.796875 51.625 33 \nQ 55.609375 28.21875 55.609375 21.1875 \nQ 55.609375 10.40625 48.1875 4.484375 \nQ 40.765625 -1.421875 27.09375 -1.421875 \nQ 22.515625 -1.421875 17.65625 -0.515625 \nQ 12.796875 0.390625 7.625 2.203125 \nL 7.625 11.71875 \nQ 11.71875 9.328125 16.59375 8.109375 \nQ 21.484375 6.890625 26.8125 6.890625 \nQ 36.078125 6.890625 40.9375 10.546875 \nQ 45.796875 14.203125 45.796875 21.1875 \nQ 45.796875 27.640625 41.28125 31.265625 \nQ 36.765625 34.90625 28.71875 34.90625 \nL 20.21875 34.90625 \nL 20.21875 43.015625 \nL 29.109375 43.015625 \nQ 36.375 43.015625 40.234375 45.921875 \nQ 44.09375 48.828125 44.09375 54.296875 \nQ 44.09375 59.90625 40.109375 62.90625 \nQ 36.140625 65.921875 28.71875 65.921875 \nQ 24.65625 65.921875 20.015625 65.03125 \nQ 15.375 64.15625 9.8125 62.3125 \nL 9.8125 71.09375 \nQ 15.4375 72.65625 20.34375 73.4375 \nQ 25.25 74.21875 29.59375 74.21875 \nQ 40.828125 74.21875 47.359375 69.109375 \nQ 53.90625 64.015625 53.90625 55.328125 \nQ 53.90625 49.265625 50.4375 45.09375 \nQ 46.96875 40.921875 40.578125 39.3125 \nz\n\" id=\"DejaVuSans-51\"/>\n      </defs>\n      <g transform=\"translate(158.7275 240.772656)scale(0.1 -0.1)\">\n       <use xlink:href=\"#DejaVuSans-51\"/>\n       <use x=\"63.623047\" xlink:href=\"#DejaVuSans-48\"/>\n      </g>\n     </g>\n    </g>\n    <g id=\"xtick_5\">\n     <g id=\"line2d_5\">\n      <g>\n       <use style=\"stroke:#000000;stroke-width:0.8;\" x=\"210.39\" xlink:href=\"#m3e48d409dc\" y=\"226.174219\"/>\n      </g>\n     </g>\n     <g id=\"text_5\">\n      <!-- 40 -->\n      <defs>\n       <path d=\"M 37.796875 64.3125 \nL 12.890625 25.390625 \nL 37.796875 25.390625 \nz\nM 35.203125 72.90625 \nL 47.609375 72.90625 \nL 47.609375 25.390625 \nL 58.015625 25.390625 \nL 58.015625 17.1875 \nL 47.609375 17.1875 \nL 47.609375 0 \nL 37.796875 0 \nL 37.796875 17.1875 \nL 4.890625 17.1875 \nL 4.890625 26.703125 \nz\n\" id=\"DejaVuSans-52\"/>\n      </defs>\n      <g transform=\"translate(204.0275 240.772656)scale(0.1 -0.1)\">\n       <use xlink:href=\"#DejaVuSans-52\"/>\n       <use x=\"63.623047\" xlink:href=\"#DejaVuSans-48\"/>\n      </g>\n     </g>\n    </g>\n   </g>\n   <g id=\"matplotlib.axis_2\">\n    <g id=\"ytick_1\">\n     <g id=\"line2d_6\">\n      <defs>\n       <path d=\"M 0 0 \nL -3.5 0 \n\" id=\"m4340ae3df3\" style=\"stroke:#000000;stroke-width:0.8;\"/>\n      </defs>\n      <g>\n       <use style=\"stroke:#000000;stroke-width:0.8;\" x=\"26.925\" xlink:href=\"#m4340ae3df3\" y=\"10.999219\"/>\n      </g>\n     </g>\n     <g id=\"text_6\">\n      <!-- 0 -->\n      <g transform=\"translate(13.5625 14.798437)scale(0.1 -0.1)\">\n       <use xlink:href=\"#DejaVuSans-48\"/>\n      </g>\n     </g>\n    </g>\n    <g id=\"ytick_2\">\n     <g id=\"line2d_7\">\n      <g>\n       <use style=\"stroke:#000000;stroke-width:0.8;\" x=\"26.925\" xlink:href=\"#m4340ae3df3\" y=\"56.299219\"/>\n      </g>\n     </g>\n     <g id=\"text_7\">\n      <!-- 10 -->\n      <g transform=\"translate(7.2 60.098437)scale(0.1 -0.1)\">\n       <use xlink:href=\"#DejaVuSans-49\"/>\n       <use x=\"63.623047\" xlink:href=\"#DejaVuSans-48\"/>\n      </g>\n     </g>\n    </g>\n    <g id=\"ytick_3\">\n     <g id=\"line2d_8\">\n      <g>\n       <use style=\"stroke:#000000;stroke-width:0.8;\" x=\"26.925\" xlink:href=\"#m4340ae3df3\" y=\"101.599219\"/>\n      </g>\n     </g>\n     <g id=\"text_8\">\n      <!-- 20 -->\n      <g transform=\"translate(7.2 105.398437)scale(0.1 -0.1)\">\n       <use xlink:href=\"#DejaVuSans-50\"/>\n       <use x=\"63.623047\" xlink:href=\"#DejaVuSans-48\"/>\n      </g>\n     </g>\n    </g>\n    <g id=\"ytick_4\">\n     <g id=\"line2d_9\">\n      <g>\n       <use style=\"stroke:#000000;stroke-width:0.8;\" x=\"26.925\" xlink:href=\"#m4340ae3df3\" y=\"146.899219\"/>\n      </g>\n     </g>\n     <g id=\"text_9\">\n      <!-- 30 -->\n      <g transform=\"translate(7.2 150.698437)scale(0.1 -0.1)\">\n       <use xlink:href=\"#DejaVuSans-51\"/>\n       <use x=\"63.623047\" xlink:href=\"#DejaVuSans-48\"/>\n      </g>\n     </g>\n    </g>\n    <g id=\"ytick_5\">\n     <g id=\"line2d_10\">\n      <g>\n       <use style=\"stroke:#000000;stroke-width:0.8;\" x=\"26.925\" xlink:href=\"#m4340ae3df3\" y=\"192.199219\"/>\n      </g>\n     </g>\n     <g id=\"text_10\">\n      <!-- 40 -->\n      <g transform=\"translate(7.2 195.998437)scale(0.1 -0.1)\">\n       <use xlink:href=\"#DejaVuSans-52\"/>\n       <use x=\"63.623047\" xlink:href=\"#DejaVuSans-48\"/>\n      </g>\n     </g>\n    </g>\n   </g>\n   <g id=\"patch_3\">\n    <path d=\"M 26.925 226.174219 \nL 26.925 8.734219 \n\" style=\"fill:none;stroke:#000000;stroke-linecap:square;stroke-linejoin:miter;stroke-width:0.8;\"/>\n   </g>\n   <g id=\"patch_4\">\n    <path d=\"M 244.365 226.174219 \nL 244.365 8.734219 \n\" style=\"fill:none;stroke:#000000;stroke-linecap:square;stroke-linejoin:miter;stroke-width:0.8;\"/>\n   </g>\n   <g id=\"patch_5\">\n    <path d=\"M 26.925 226.174219 \nL 244.365 226.174219 \n\" style=\"fill:none;stroke:#000000;stroke-linecap:square;stroke-linejoin:miter;stroke-width:0.8;\"/>\n   </g>\n   <g id=\"patch_6\">\n    <path d=\"M 26.925 8.734219 \nL 244.365 8.734219 \n\" style=\"fill:none;stroke:#000000;stroke-linecap:square;stroke-linejoin:miter;stroke-width:0.8;\"/>\n   </g>\n  </g>\n </g>\n <defs>\n  <clipPath id=\"pd779e74a80\">\n   <rect height=\"217.44\" width=\"217.44\" x=\"26.925\" y=\"8.734219\"/>\n  </clipPath>\n </defs>\n</svg>\n",
      "image/png": "[encoded data removed]"
     },
     "metadata": {
      "needs_background": "light"
     }
    }
   ],
   "source": [
    "from matplotlib import pyplot as plt\n",
    "\n",
    "LABELS = ['Angry', 'Disgust', 'Fear', 'Happy', 'Sad', 'Surprise', 'Neutral']\n",
    "\n",
    "print(LABELS[train_y[0]])\n",
    "plt.imshow(train_x[0].reshape([48, 48]), cmap='gray')"
   ]
  },
  {
   "source": [
    "### MobileNet 모델 학습하기"
   ],
   "cell_type": "markdown",
   "metadata": {}
  },
  {
   "cell_type": "code",
   "execution_count": 5,
   "metadata": {
    "tags": []
   },
   "outputs": [],
   "source": [
    "# tf.test.is_gpu_available(\n",
    "#     cuda_only=False, min_cuda_compute_capability=None\n",
    "# )"
   ]
  },
  {
   "cell_type": "code",
   "execution_count": 6,
   "metadata": {},
   "outputs": [
    {
     "output_type": "execute_result",
     "data": {
      "text/plain": "[PhysicalDevice(name='/physical_device:GPU:0', device_type='GPU')]"
     },
     "metadata": {},
     "execution_count": 6
    }
   ],
   "source": [
    "tf.config.list_physical_devices('GPU')"
   ]
  },
  {
   "cell_type": "code",
   "execution_count": 7,
   "metadata": {
    "tags": []
   },
   "outputs": [
    {
     "output_type": "stream",
     "name": "stdout",
     "text": "[name: \"/device:CPU:0\"\ndevice_type: \"CPU\"\nmemory_limit: 268435456\nlocality {\n}\nincarnation: 4406299453463833585\n, name: \"/device:XLA_CPU:0\"\ndevice_type: \"XLA_CPU\"\nmemory_limit: 17179869184\nlocality {\n}\nincarnation: 12746455998474311230\nphysical_device_desc: \"device: XLA_CPU device\"\n, name: \"/device:XLA_GPU:0\"\ndevice_type: \"XLA_GPU\"\nmemory_limit: 17179869184\nlocality {\n}\nincarnation: 11135101403780631053\nphysical_device_desc: \"device: XLA_GPU device\"\n, name: \"/device:GPU:0\"\ndevice_type: \"GPU\"\nmemory_limit: 7016061344\nlocality {\n  bus_id: 1\n  links {\n  }\n}\nincarnation: 11601108222511753443\nphysical_device_desc: \"device: 0, name: GeForce RTX 2070, pci bus id: 0000:01:00.0, compute capability: 7.5\"\n]\nDefault GPU Device: /device:GPU:0\n"
    }
   ],
   "source": [
    "from tensorflow.python.client import device_lib\n",
    "print(device_lib.list_local_devices())\n",
    "\n",
    "if tf.test.gpu_device_name():\n",
    "    print('Default GPU Device: {}'.format(tf.test.gpu_device_name()))\n",
    "else:\n",
    "    print(\"Please install GPU version of TF\")"
   ]
  },
  {
   "cell_type": "code",
   "execution_count": 8,
   "metadata": {
    "tags": []
   },
   "outputs": [
    {
     "output_type": "stream",
     "name": "stdout",
     "text": "Epoch 1/100\n64/64 [==============================] - 54s 842ms/step - loss: 1.8243 - categorical_accuracy: 0.2454 - val_loss: 1.9281 - val_categorical_accuracy: 0.2449\nEpoch 2/100\n64/64 [==============================] - 7s 105ms/step - loss: 1.6778 - categorical_accuracy: 0.3306 - val_loss: 1.9233 - val_categorical_accuracy: 0.1655\nEpoch 3/100\n64/64 [==============================] - 7s 106ms/step - loss: 1.5766 - categorical_accuracy: 0.3881 - val_loss: 1.9258 - val_categorical_accuracy: 0.1655\nEpoch 4/100\n64/64 [==============================] - 7s 106ms/step - loss: 1.4799 - categorical_accuracy: 0.4294 - val_loss: 1.9312 - val_categorical_accuracy: 0.1655\nEpoch 5/100\n64/64 [==============================] - 7s 106ms/step - loss: 1.4002 - categorical_accuracy: 0.4648 - val_loss: 1.9410 - val_categorical_accuracy: 0.1655\nEpoch 6/100\n64/64 [==============================] - 7s 106ms/step - loss: 1.3281 - categorical_accuracy: 0.4959 - val_loss: 1.9440 - val_categorical_accuracy: 0.1655\nEpoch 7/100\n64/64 [==============================] - 7s 106ms/step - loss: 1.2633 - categorical_accuracy: 0.5238 - val_loss: 1.9477 - val_categorical_accuracy: 0.1655\nEpoch 8/100\n64/64 [==============================] - 7s 107ms/step - loss: 1.2012 - categorical_accuracy: 0.5508 - val_loss: 1.9546 - val_categorical_accuracy: 0.1655\nEpoch 9/100\n64/64 [==============================] - 7s 107ms/step - loss: 1.1547 - categorical_accuracy: 0.5667 - val_loss: 1.9557 - val_categorical_accuracy: 0.1655\nEpoch 10/100\n64/64 [==============================] - 7s 108ms/step - loss: 1.0805 - categorical_accuracy: 0.6043 - val_loss: 1.9541 - val_categorical_accuracy: 0.1655\nEpoch 11/100\n64/64 [==============================] - 7s 106ms/step - loss: 1.0107 - categorical_accuracy: 0.6281 - val_loss: 1.9612 - val_categorical_accuracy: 0.1655\nEpoch 12/100\n64/64 [==============================] - 7s 105ms/step - loss: 0.9658 - categorical_accuracy: 0.6451 - val_loss: 1.9582 - val_categorical_accuracy: 0.1655\nEpoch 13/100\n64/64 [==============================] - 7s 105ms/step - loss: 0.8914 - categorical_accuracy: 0.6755 - val_loss: 1.9596 - val_categorical_accuracy: 0.1655\nEpoch 14/100\n64/64 [==============================] - 7s 105ms/step - loss: 0.8527 - categorical_accuracy: 0.6890 - val_loss: 1.9778 - val_categorical_accuracy: 0.1655\nEpoch 15/100\n64/64 [==============================] - 7s 104ms/step - loss: 0.8204 - categorical_accuracy: 0.7014 - val_loss: 1.9932 - val_categorical_accuracy: 0.1655\nEpoch 16/100\n64/64 [==============================] - 7s 104ms/step - loss: 0.7484 - categorical_accuracy: 0.7304 - val_loss: 2.0016 - val_categorical_accuracy: 0.1655\nEpoch 17/100\n64/64 [==============================] - 7s 104ms/step - loss: 0.7066 - categorical_accuracy: 0.7476 - val_loss: 1.9986 - val_categorical_accuracy: 0.1655\nEpoch 18/100\n64/64 [==============================] - 7s 105ms/step - loss: 0.6724 - categorical_accuracy: 0.7581 - val_loss: 2.0110 - val_categorical_accuracy: 0.1655\nEpoch 19/100\n64/64 [==============================] - 7s 104ms/step - loss: 0.6973 - categorical_accuracy: 0.7498 - val_loss: 2.0507 - val_categorical_accuracy: 0.1655\nEpoch 20/100\n64/64 [==============================] - 7s 105ms/step - loss: 0.6282 - categorical_accuracy: 0.7730 - val_loss: 2.0317 - val_categorical_accuracy: 0.1655\nEpoch 21/100\n64/64 [==============================] - 7s 105ms/step - loss: 0.5332 - categorical_accuracy: 0.8092 - val_loss: 2.0593 - val_categorical_accuracy: 0.1655\nEpoch 22/100\n64/64 [==============================] - 7s 105ms/step - loss: 0.5161 - categorical_accuracy: 0.8152 - val_loss: 2.0477 - val_categorical_accuracy: 0.1655\nEpoch 23/100\n64/64 [==============================] - 7s 105ms/step - loss: 0.4657 - categorical_accuracy: 0.8333 - val_loss: 2.0715 - val_categorical_accuracy: 0.1655\nEpoch 24/100\n64/64 [==============================] - 7s 104ms/step - loss: 0.5648 - categorical_accuracy: 0.7972 - val_loss: 2.0555 - val_categorical_accuracy: 0.1655\nEpoch 25/100\n64/64 [==============================] - 7s 106ms/step - loss: 0.4517 - categorical_accuracy: 0.8380 - val_loss: 2.0815 - val_categorical_accuracy: 0.1655\nEpoch 26/100\n64/64 [==============================] - 7s 106ms/step - loss: 0.3725 - categorical_accuracy: 0.8676 - val_loss: 2.1074 - val_categorical_accuracy: 0.1655\nEpoch 27/100\n64/64 [==============================] - 7s 106ms/step - loss: 0.3664 - categorical_accuracy: 0.8700 - val_loss: 2.1342 - val_categorical_accuracy: 0.1655\nEpoch 28/100\n64/64 [==============================] - 7s 105ms/step - loss: 0.3652 - categorical_accuracy: 0.8689 - val_loss: 2.1110 - val_categorical_accuracy: 0.1655\nEpoch 29/100\n64/64 [==============================] - 7s 105ms/step - loss: 0.3132 - categorical_accuracy: 0.8879 - val_loss: 2.1291 - val_categorical_accuracy: 0.1655\nEpoch 30/100\n64/64 [==============================] - 7s 106ms/step - loss: 0.3188 - categorical_accuracy: 0.8858 - val_loss: 2.2092 - val_categorical_accuracy: 0.1655\nEpoch 31/100\n64/64 [==============================] - 7s 107ms/step - loss: 0.2744 - categorical_accuracy: 0.9008 - val_loss: 2.2140 - val_categorical_accuracy: 0.1655\nEpoch 32/100\n64/64 [==============================] - 7s 107ms/step - loss: 0.2891 - categorical_accuracy: 0.8982 - val_loss: 2.2748 - val_categorical_accuracy: 0.1655\nEpoch 33/100\n64/64 [==============================] - 7s 107ms/step - loss: 0.2438 - categorical_accuracy: 0.9141 - val_loss: 2.2581 - val_categorical_accuracy: 0.1655\nEpoch 34/100\n64/64 [==============================] - 7s 106ms/step - loss: 0.3054 - categorical_accuracy: 0.8949 - val_loss: 2.2663 - val_categorical_accuracy: 0.1655\nEpoch 35/100\n64/64 [==============================] - 7s 108ms/step - loss: 0.2503 - categorical_accuracy: 0.9105 - val_loss: 2.3096 - val_categorical_accuracy: 0.1655\nEpoch 36/100\n64/64 [==============================] - 7s 105ms/step - loss: 0.2658 - categorical_accuracy: 0.9071 - val_loss: 2.2945 - val_categorical_accuracy: 0.1655\nEpoch 37/100\n64/64 [==============================] - 7s 108ms/step - loss: 0.2323 - categorical_accuracy: 0.9186 - val_loss: 2.3481 - val_categorical_accuracy: 0.1655\nEpoch 38/100\n64/64 [==============================] - 7s 107ms/step - loss: 0.3192 - categorical_accuracy: 0.8858 - val_loss: 2.3365 - val_categorical_accuracy: 0.1655\nEpoch 39/100\n64/64 [==============================] - 7s 107ms/step - loss: 0.2779 - categorical_accuracy: 0.9019 - val_loss: 2.3478 - val_categorical_accuracy: 0.1655\nEpoch 40/100\n64/64 [==============================] - 7s 107ms/step - loss: 0.2898 - categorical_accuracy: 0.8990 - val_loss: 2.3882 - val_categorical_accuracy: 0.1655\nEpoch 41/100\n64/64 [==============================] - 7s 108ms/step - loss: 0.2006 - categorical_accuracy: 0.9291 - val_loss: 2.4262 - val_categorical_accuracy: 0.1655\nEpoch 42/100\n64/64 [==============================] - 7s 108ms/step - loss: 0.3154 - categorical_accuracy: 0.8871 - val_loss: 2.3599 - val_categorical_accuracy: 0.1655\nEpoch 43/100\n64/64 [==============================] - 7s 108ms/step - loss: 0.1622 - categorical_accuracy: 0.9434 - val_loss: 2.4556 - val_categorical_accuracy: 0.1655\nEpoch 44/100\n64/64 [==============================] - 7s 108ms/step - loss: 0.1333 - categorical_accuracy: 0.9537 - val_loss: 2.4741 - val_categorical_accuracy: 0.1655\nEpoch 45/100\n64/64 [==============================] - 7s 106ms/step - loss: 0.2151 - categorical_accuracy: 0.9270 - val_loss: 2.4198 - val_categorical_accuracy: 0.1655\nEpoch 46/100\n64/64 [==============================] - 7s 106ms/step - loss: 0.2111 - categorical_accuracy: 0.9264 - val_loss: 2.4610 - val_categorical_accuracy: 0.1655\nEpoch 47/100\n64/64 [==============================] - 7s 106ms/step - loss: 0.1348 - categorical_accuracy: 0.9542 - val_loss: 2.4765 - val_categorical_accuracy: 0.1655\nEpoch 48/100\n64/64 [==============================] - 7s 104ms/step - loss: 0.1407 - categorical_accuracy: 0.9520 - val_loss: 2.4715 - val_categorical_accuracy: 0.1655\nEpoch 49/100\n64/64 [==============================] - 7s 105ms/step - loss: 0.1688 - categorical_accuracy: 0.9424 - val_loss: 2.5734 - val_categorical_accuracy: 0.1655\nEpoch 50/100\n64/64 [==============================] - 7s 104ms/step - loss: 0.1894 - categorical_accuracy: 0.9359 - val_loss: 2.5394 - val_categorical_accuracy: 0.1655\nEpoch 51/100\n64/64 [==============================] - 7s 106ms/step - loss: 0.1293 - categorical_accuracy: 0.9550 - val_loss: 2.5903 - val_categorical_accuracy: 0.1655\nEpoch 52/100\n64/64 [==============================] - 7s 105ms/step - loss: 0.1407 - categorical_accuracy: 0.9512 - val_loss: 2.5105 - val_categorical_accuracy: 0.1655\nEpoch 53/100\n64/64 [==============================] - 7s 105ms/step - loss: 0.0936 - categorical_accuracy: 0.9677 - val_loss: 2.6855 - val_categorical_accuracy: 0.1655\nEpoch 54/100\n64/64 [==============================] - 7s 106ms/step - loss: 0.0863 - categorical_accuracy: 0.9707 - val_loss: 2.6782 - val_categorical_accuracy: 0.1655\nEpoch 55/100\n64/64 [==============================] - 7s 106ms/step - loss: 0.2079 - categorical_accuracy: 0.9286 - val_loss: 2.5966 - val_categorical_accuracy: 0.1655\nEpoch 56/100\n64/64 [==============================] - 7s 105ms/step - loss: 0.1706 - categorical_accuracy: 0.9410 - val_loss: 2.6453 - val_categorical_accuracy: 0.1655\nEpoch 57/100\n64/64 [==============================] - 7s 105ms/step - loss: 0.1552 - categorical_accuracy: 0.9449 - val_loss: 2.7265 - val_categorical_accuracy: 0.1655\nEpoch 58/100\n64/64 [==============================] - 7s 105ms/step - loss: 0.1210 - categorical_accuracy: 0.9580 - val_loss: 2.8515 - val_categorical_accuracy: 0.1655\nEpoch 59/100\n64/64 [==============================] - 7s 106ms/step - loss: 0.1269 - categorical_accuracy: 0.9552 - val_loss: 2.8405 - val_categorical_accuracy: 0.1655\nEpoch 60/100\n64/64 [==============================] - 7s 105ms/step - loss: 0.1351 - categorical_accuracy: 0.9531 - val_loss: 2.8362 - val_categorical_accuracy: 0.1655\nEpoch 61/100\n64/64 [==============================] - 7s 105ms/step - loss: 0.0986 - categorical_accuracy: 0.9667 - val_loss: 2.8862 - val_categorical_accuracy: 0.1655\nEpoch 62/100\n64/64 [==============================] - 7s 106ms/step - loss: 0.2477 - categorical_accuracy: 0.9127 - val_loss: 2.6587 - val_categorical_accuracy: 0.1658\nEpoch 63/100\n64/64 [==============================] - 7s 106ms/step - loss: 0.1341 - categorical_accuracy: 0.9541 - val_loss: 3.0111 - val_categorical_accuracy: 0.1655\nEpoch 64/100\n64/64 [==============================] - 7s 106ms/step - loss: 0.1275 - categorical_accuracy: 0.9581 - val_loss: 3.0146 - val_categorical_accuracy: 0.1661\nEpoch 65/100\n64/64 [==============================] - 7s 106ms/step - loss: 0.2009 - categorical_accuracy: 0.9308 - val_loss: 3.0055 - val_categorical_accuracy: 0.1672\nEpoch 66/100\n64/64 [==============================] - 7s 106ms/step - loss: 0.1392 - categorical_accuracy: 0.9523 - val_loss: 3.2490 - val_categorical_accuracy: 0.1694\nEpoch 67/100\n64/64 [==============================] - 7s 107ms/step - loss: 0.0746 - categorical_accuracy: 0.9759 - val_loss: 3.3816 - val_categorical_accuracy: 0.1700\nEpoch 68/100\n64/64 [==============================] - 7s 107ms/step - loss: 0.1537 - categorical_accuracy: 0.9478 - val_loss: 3.3743 - val_categorical_accuracy: 0.1733\nEpoch 69/100\n64/64 [==============================] - 7s 105ms/step - loss: 0.1925 - categorical_accuracy: 0.9328 - val_loss: 2.6906 - val_categorical_accuracy: 0.2232\nEpoch 70/100\n64/64 [==============================] - 7s 106ms/step - loss: 0.0999 - categorical_accuracy: 0.9656 - val_loss: 2.8288 - val_categorical_accuracy: 0.2363\nEpoch 71/100\n64/64 [==============================] - 7s 106ms/step - loss: 0.0901 - categorical_accuracy: 0.9694 - val_loss: 3.0349 - val_categorical_accuracy: 0.2249\nEpoch 72/100\n64/64 [==============================] - 7s 107ms/step - loss: 0.1500 - categorical_accuracy: 0.9487 - val_loss: 3.1369 - val_categorical_accuracy: 0.2290\nEpoch 73/100\n64/64 [==============================] - 7s 107ms/step - loss: 0.1004 - categorical_accuracy: 0.9657 - val_loss: 3.1451 - val_categorical_accuracy: 0.2510\nEpoch 74/100\n64/64 [==============================] - 7s 108ms/step - loss: 0.0757 - categorical_accuracy: 0.9744 - val_loss: 2.9728 - val_categorical_accuracy: 0.2719\nEpoch 75/100\n64/64 [==============================] - 7s 108ms/step - loss: 0.0987 - categorical_accuracy: 0.9672 - val_loss: 2.9402 - val_categorical_accuracy: 0.3137\nEpoch 76/100\n64/64 [==============================] - 7s 107ms/step - loss: 0.1473 - categorical_accuracy: 0.9501 - val_loss: 3.0047 - val_categorical_accuracy: 0.3204\nEpoch 77/100\n64/64 [==============================] - 7s 108ms/step - loss: 0.1070 - categorical_accuracy: 0.9627 - val_loss: 3.1439 - val_categorical_accuracy: 0.3182\nEpoch 78/100\n64/64 [==============================] - 7s 107ms/step - loss: 0.1675 - categorical_accuracy: 0.9426 - val_loss: 3.2658 - val_categorical_accuracy: 0.3383\nEpoch 79/100\n64/64 [==============================] - 7s 106ms/step - loss: 0.1239 - categorical_accuracy: 0.9558 - val_loss: 3.3063 - val_categorical_accuracy: 0.3461\nEpoch 80/100\n64/64 [==============================] - 7s 106ms/step - loss: 0.1333 - categorical_accuracy: 0.9545 - val_loss: 3.3310 - val_categorical_accuracy: 0.3689\nEpoch 81/100\n64/64 [==============================] - 7s 105ms/step - loss: 0.1039 - categorical_accuracy: 0.9638 - val_loss: 3.6366 - val_categorical_accuracy: 0.3658\nEpoch 82/100\n64/64 [==============================] - 7s 105ms/step - loss: 0.0988 - categorical_accuracy: 0.9663 - val_loss: 3.6080 - val_categorical_accuracy: 0.3569\nEpoch 83/100\n64/64 [==============================] - 7s 105ms/step - loss: 0.0899 - categorical_accuracy: 0.9688 - val_loss: 3.6144 - val_categorical_accuracy: 0.3703\nEpoch 84/100\n64/64 [==============================] - 7s 104ms/step - loss: 0.1934 - categorical_accuracy: 0.9338 - val_loss: 3.9336 - val_categorical_accuracy: 0.3923\nEpoch 85/100\n64/64 [==============================] - 7s 104ms/step - loss: 0.2071 - categorical_accuracy: 0.9310 - val_loss: 3.7195 - val_categorical_accuracy: 0.4126\nEpoch 86/100\n64/64 [==============================] - 7s 106ms/step - loss: 0.1075 - categorical_accuracy: 0.9631 - val_loss: 4.2573 - val_categorical_accuracy: 0.3915\nEpoch 87/100\n64/64 [==============================] - 7s 105ms/step - loss: 0.0638 - categorical_accuracy: 0.9793 - val_loss: 4.0124 - val_categorical_accuracy: 0.4099\nEpoch 88/100\n64/64 [==============================] - 7s 104ms/step - loss: 0.0983 - categorical_accuracy: 0.9669 - val_loss: 4.1792 - val_categorical_accuracy: 0.4104\nEpoch 89/100\n64/64 [==============================] - 7s 102ms/step - loss: 0.1189 - categorical_accuracy: 0.9593 - val_loss: 4.5016 - val_categorical_accuracy: 0.4232\nEpoch 90/100\n64/64 [==============================] - 6s 100ms/step - loss: 0.0748 - categorical_accuracy: 0.9749 - val_loss: 4.3288 - val_categorical_accuracy: 0.4305\nEpoch 91/100\n64/64 [==============================] - 6s 101ms/step - loss: 0.1360 - categorical_accuracy: 0.9538 - val_loss: 4.7222 - val_categorical_accuracy: 0.4188\nEpoch 92/100\n64/64 [==============================] - 6s 100ms/step - loss: 0.1372 - categorical_accuracy: 0.9523 - val_loss: 5.4149 - val_categorical_accuracy: 0.3881\nEpoch 93/100\n64/64 [==============================] - 6s 101ms/step - loss: 0.1204 - categorical_accuracy: 0.9584 - val_loss: 4.8324 - val_categorical_accuracy: 0.4057\nEpoch 94/100\n64/64 [==============================] - 6s 100ms/step - loss: 0.1117 - categorical_accuracy: 0.9622 - val_loss: 5.2606 - val_categorical_accuracy: 0.4238\nEpoch 95/100\n64/64 [==============================] - 6s 101ms/step - loss: 0.0661 - categorical_accuracy: 0.9778 - val_loss: 5.3265 - val_categorical_accuracy: 0.4099\nEpoch 96/100\n64/64 [==============================] - 7s 104ms/step - loss: 0.1337 - categorical_accuracy: 0.9550 - val_loss: 5.1693 - val_categorical_accuracy: 0.4043\nEpoch 97/100\n64/64 [==============================] - 7s 103ms/step - loss: 0.1029 - categorical_accuracy: 0.9632 - val_loss: 5.3190 - val_categorical_accuracy: 0.4291\nEpoch 98/100\n64/64 [==============================] - 7s 103ms/step - loss: 0.0884 - categorical_accuracy: 0.9699 - val_loss: 5.7462 - val_categorical_accuracy: 0.4274\nEpoch 99/100\n64/64 [==============================] - 7s 104ms/step - loss: 0.1434 - categorical_accuracy: 0.9496 - val_loss: 5.6413 - val_categorical_accuracy: 0.4244\nEpoch 100/100\n64/64 [==============================] - 7s 102ms/step - loss: 0.1159 - categorical_accuracy: 0.9598 - val_loss: 5.8588 - val_categorical_accuracy: 0.4257\n"
    },
    {
     "output_type": "execute_result",
     "data": {
      "text/plain": "<tensorflow.python.keras.callbacks.History at 0x7feb98339050>"
     },
     "metadata": {},
     "execution_count": 8
    }
   ],
   "source": [
    "# tf.debugging.set_log_device_placement(True)\n",
    "\n",
    "\n",
    "model = tf.keras.applications.MobileNetV2(\n",
    "    input_shape=(48,48,1),\n",
    "    weights=None,\n",
    "    classes=7\n",
    ")\n",
    "\n",
    "model.compile(optimizer=tf.keras.optimizers.Adam(),\n",
    "            loss=tf.keras.losses.CategoricalCrossentropy(),\n",
    "            metrics=[tf.keras.metrics.CategoricalAccuracy()])\n",
    "\n",
    "model.fit(np.stack(train_x),\n",
    "        tf.keras.utils.to_categorical(train_y),\n",
    "        epochs=100,\n",
    "        # epochs=5,\n",
    "        batch_size=512,\n",
    "        validation_data=(np.stack(eval_x),\n",
    "                        tf.keras.utils.to_categorical(eval_y)))"
   ]
  },
  {
   "source": [
    "## Step 2 학습된 모델을 Tensorflow.js 형식으로 변환하기\n",
    "\n",
    "학습 완료시, 케라스의 경우 모델을 HDF5(.h5) 형식으로 저장.\n",
    "또는 Tensorflow.js converter에서 지원하는 다른 형식으로 저장해도 무관. "
   ],
   "cell_type": "markdown",
   "metadata": {}
  },
  {
   "cell_type": "code",
   "execution_count": 12,
   "metadata": {},
   "outputs": [
    {
     "output_type": "error",
     "ename": "NameError",
     "evalue": "name 'model' is not defined",
     "traceback": [
      "\u001b[0;31m---------------------------------------------------------------------------\u001b[0m",
      "\u001b[0;31mNameError\u001b[0m                                 Traceback (most recent call last)",
      "\u001b[0;32m<ipython-input-12-31a169440279>\u001b[0m in \u001b[0;36m<module>\u001b[0;34m\u001b[0m\n\u001b[1;32m      1\u001b[0m \u001b[0mmodel_path\u001b[0m \u001b[0;34m=\u001b[0m \u001b[0mos\u001b[0m\u001b[0;34m.\u001b[0m\u001b[0mgetenv\u001b[0m\u001b[0;34m(\u001b[0m\u001b[0;34m'HOME'\u001b[0m\u001b[0;34m)\u001b[0m\u001b[0;34m+\u001b[0m\u001b[0;34m'/aiffel/tfjs_mobile/model.h5'\u001b[0m\u001b[0;34m\u001b[0m\u001b[0;34m\u001b[0m\u001b[0m\n\u001b[0;32m----> 2\u001b[0;31m \u001b[0mmodel\u001b[0m\u001b[0;34m.\u001b[0m\u001b[0msave\u001b[0m\u001b[0;34m(\u001b[0m\u001b[0mmodel_path\u001b[0m\u001b[0;34m)\u001b[0m\u001b[0;34m\u001b[0m\u001b[0;34m\u001b[0m\u001b[0m\n\u001b[0m\u001b[1;32m      3\u001b[0m \u001b[0;32mdel\u001b[0m \u001b[0mmodel\u001b[0m\u001b[0;34m\u001b[0m\u001b[0;34m\u001b[0m\u001b[0m\n",
      "\u001b[0;31mNameError\u001b[0m: name 'model' is not defined"
     ]
    }
   ],
   "source": [
    "model_path = os.getenv('HOME')+'/aiffel/tfjs_mobile/model.h5'\n",
    "model.save(model_path)\n"
   ]
  },
  {
   "cell_type": "code",
   "execution_count": null,
   "metadata": {},
   "outputs": [],
   "source": [
    "loaded_model = tf.keras.models.load_model(model_path)\n"
   ]
  },
  {
   "source": [
    "그리고 저장한 모델을 tensorflow.js 로 변환\n",
    "터미널에서 tensorflowjs_converter 명령어 실행.\n",
    "\n",
    " - cd ~/aiffel/tfjs_mobile   \n",
    " - tensorflowjs_converter --input_format=keras model.h5 model\n",
    " "
   ],
   "cell_type": "markdown",
   "metadata": {}
  },
  {
   "source": [
    "## Step 3 카메라에서 가져온 영상 전처리하기"
   ],
   "cell_type": "markdown",
   "metadata": {}
  },
  {
   "source": [
    "## Step 4 MobileNet 추론 결과 표시하기"
   ],
   "cell_type": "markdown",
   "metadata": {}
  },
  {
   "source": [
    "## Step 5 github page 에 배포\n",
    "\n",
    "https://bluecandle.github.io/tfjs_mobile_practice/\n",
    "\n",
    "오류나서 오류 내용 살펴보니... 모델 load 가 안됨!"
   ],
   "cell_type": "markdown",
   "metadata": {}
  },
  {
   "cell_type": "code",
   "execution_count": null,
   "metadata": {},
   "outputs": [],
   "source": []
  }
 ]
}