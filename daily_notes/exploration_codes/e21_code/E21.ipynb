{
 "metadata": {
  "language_info": {
   "codemirror_mode": {
    "name": "ipython",
    "version": 3
   },
   "file_extension": ".py",
   "mimetype": "text/x-python",
   "name": "python",
   "nbconvert_exporter": "python",
   "pygments_lexer": "ipython3",
   "version": 3
  },
  "orig_nbformat": 2
 },
 "nbformat": 4,
 "nbformat_minor": 2,
 "cells": [
  {
   "source": [
    "# E21 프로젝트: 한국어 데이터로 챗봇 만들기"
   ],
   "cell_type": "markdown",
   "metadata": {}
  },
  {
   "source": [
    "## 데이터 수집\n",
    "\n",
    "[송영숙님 챗봇 데이터 활용](https://github.com/songys/Chatbot_data/blob/master/ChatbotData%20.csv)"
   ],
   "cell_type": "markdown",
   "metadata": {}
  },
  {
   "cell_type": "code",
   "execution_count": null,
   "metadata": {},
   "outputs": [],
   "source": []
  },
  {
   "source": [
    "## 데이터 전처리하기\n",
    "영어 데이터에 사용했던 전처리와 일부 동일한 전처리도 필요하겠지만, 전체적으로 다른 전처리를 수행해야 할 수도 있다!"
   ],
   "cell_type": "markdown",
   "metadata": {}
  },
  {
   "cell_type": "code",
   "execution_count": null,
   "metadata": {},
   "outputs": [],
   "source": []
  },
  {
   "source": [
    "## SubwordTextEncoder 사용하기\n",
    "한국어는 형태소 분석기를 사용해서 토크나이징을 해야한다고 많이들 이야기 하지만, 실습에서 사용한 SubwordTextEncoder를 사용해보자."
   ],
   "cell_type": "markdown",
   "metadata": {}
  },
  {
   "cell_type": "code",
   "execution_count": null,
   "metadata": {},
   "outputs": [],
   "source": []
  },
  {
   "source": [
    "## 모델 구성하기"
   ],
   "cell_type": "markdown",
   "metadata": {}
  },
  {
   "cell_type": "code",
   "execution_count": null,
   "metadata": {},
   "outputs": [],
   "source": []
  },
  {
   "source": [
    "## 모델 평가하기\n",
    "랜덤하게 10개정도 추출해보고 판단해보자."
   ],
   "cell_type": "markdown",
   "metadata": {}
  },
  {
   "cell_type": "code",
   "execution_count": null,
   "metadata": {},
   "outputs": [],
   "source": []
  }
 ]
}