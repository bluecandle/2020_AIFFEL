{
 "metadata": {
  "language_info": {
   "codemirror_mode": {
    "name": "ipython",
    "version": 3
   },
   "file_extension": ".py",
   "mimetype": "text/x-python",
   "name": "python",
   "nbconvert_exporter": "python",
   "pygments_lexer": "ipython3",
   "version": 3
  },
  "orig_nbformat": 2
 },
 "nbformat": 4,
 "nbformat_minor": 2,
 "cells": [
  {
   "source": [
    "# E20 프로젝트: 다른 시계열 데이터에서 이상치를 찾아보자"
   ],
   "cell_type": "markdown",
   "metadata": {}
  },
  {
   "source": [
    "## 데이터 구하기\n",
    "나스닥으로 해봅시다."
   ],
   "cell_type": "markdown",
   "metadata": {}
  },
  {
   "cell_type": "code",
   "execution_count": null,
   "metadata": {},
   "outputs": [],
   "source": []
  },
  {
   "cell_type": "code",
   "execution_count": null,
   "metadata": {},
   "outputs": [],
   "source": []
  },
  {
   "source": [
    "## 기본 통계분석으로 이상치 찾기\n",
    "\n",
    "- 데이터의 분포를 그려보기\n",
    "- z-test로 정규분포를 만족하는지 확인하기\n",
    "- (정규분포를 만족하지 않으면) Time series decompose 수행후 residual로 분석하기\n",
    "\n",
    "### 한 단계 더 나아가기\n",
    "- 왜 이상치로 분류됐는지 해석해보기\n",
    "- 탐지해낸 이상치(Anomalies)는 극단치(Outlier) 인지, 특이치(Novelties)인지 생각해보기\n",
    "- 이상치들을 제거/교정해야할지 내버려둘지 고민하기"
   ],
   "cell_type": "markdown",
   "metadata": {}
  },
  {
   "cell_type": "code",
   "execution_count": null,
   "metadata": {},
   "outputs": [],
   "source": []
  },
  {
   "cell_type": "code",
   "execution_count": null,
   "metadata": {},
   "outputs": [],
   "source": []
  },
  {
   "source": [
    "## Step 3. Unsupervised Clustering 으로 이상치 찾기\n",
    "- k-means로 분석하기\n",
    "- DBSCAN으로 분석하기\n",
    "\n",
    "### 한 단계 더 나아가기\n",
    "- 왜 이상치로 분류됐는지 해석해보기\n",
    "- 탐지해낸 이상치(Anomalies)는 극단치(Outlier) 인지, 특이치(Novelties)인지 생각해보기\n",
    "- 이 이상치를 제거/교정해야할지 내버려둘지 고민하기"
   ],
   "cell_type": "markdown",
   "metadata": {}
  },
  {
   "cell_type": "code",
   "execution_count": null,
   "metadata": {},
   "outputs": [],
   "source": []
  },
  {
   "cell_type": "code",
   "execution_count": null,
   "metadata": {},
   "outputs": [],
   "source": []
  },
  {
   "source": [
    "## Step 4. LSTM 오토인코더로 이상치 찾기\n",
    "\n",
    "- 딥러닝을 위한 데이터셋 만들기\n",
    "- 오토인코더 모델 생성하기\n",
    "- 학습이 정상적으로 수행됐는지 확인하기\n",
    "\n",
    "### 한 단계 더 나아가기\n",
    "- 앞선 두가지 방법과 비교하기\n",
    "- 다른 이유가 뭔지 확인해보기\n",
    "- 더 나은 형태의 오토인코더 모델을 만들어보기"
   ],
   "cell_type": "markdown",
   "metadata": {}
  },
  {
   "cell_type": "code",
   "execution_count": null,
   "metadata": {},
   "outputs": [],
   "source": []
  },
  {
   "cell_type": "code",
   "execution_count": null,
   "metadata": {},
   "outputs": [],
   "source": []
  },
  {
   "source": [
    "# 결과보고서"
   ],
   "cell_type": "markdown",
   "metadata": {}
  },
  {
   "cell_type": "code",
   "execution_count": null,
   "metadata": {},
   "outputs": [],
   "source": []
  },
  {
   "cell_type": "code",
   "execution_count": null,
   "metadata": {},
   "outputs": [],
   "source": []
  }
 ]
}