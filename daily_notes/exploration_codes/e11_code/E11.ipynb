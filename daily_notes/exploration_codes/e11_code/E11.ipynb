{
 "metadata": {
  "language_info": {
   "codemirror_mode": {
    "name": "ipython",
    "version": 3
   },
   "file_extension": ".py",
   "mimetype": "text/x-python",
   "name": "python",
   "nbconvert_exporter": "python",
   "pygments_lexer": "ipython3",
   "version": "3.7.7-final"
  },
  "orig_nbformat": 2,
  "kernelspec": {
   "name": "aiffel",
   "display_name": "aiffel"
  }
 },
 "nbformat": 4,
 "nbformat_minor": 2,
 "cells": [
  {
   "cell_type": "markdown",
   "metadata": {},
   "source": [
    "# E11 프로젝트: 멋진 작사가 만들기"
   ]
  },
  {
   "cell_type": "markdown",
   "metadata": {},
   "source": [
    "## 데이터 읽어오기"
   ]
  },
  {
   "cell_type": "code",
   "execution_count": 1,
   "metadata": {
    "tags": []
   },
   "outputs": [
    {
     "output_type": "stream",
     "name": "stdout",
     "text": "데이터 크기: 187088\nExamples:\n ['The Cat in the Hat', 'By Dr. Seuss', 'The sun did not shine.']\n"
    }
   ],
   "source": [
    "import glob\n",
    "import os\n",
    "\n",
    "txt_file_path = os.getenv('HOME')+'/aiffel/lyricist/data/lyrics/*'\n",
    "\n",
    "txt_list = glob.glob(txt_file_path)\n",
    "\n",
    "raw_corpus = []\n",
    "\n",
    "# 여러개의 txt 파일을 모두 읽어서 raw_corpus 에 담습니다.\n",
    "for txt_file in txt_list:\n",
    "    with open(txt_file, \"r\") as f:\n",
    "        raw = f.read().splitlines()\n",
    "        raw_corpus.extend(raw)\n",
    "\n",
    "print(\"데이터 크기:\", len(raw_corpus))\n",
    "print(\"Examples:\\n\", raw_corpus[:3])"
   ]
  },
  {
   "cell_type": "markdown",
   "metadata": {},
   "source": [
    "## 데이터 정제\n",
    "- preprocess_sentence()\n",
    "- 토큰화 했을 때 토큰의 개수가 15개를 넘어가면 잘라내자."
   ]
  },
  {
   "cell_type": "code",
   "execution_count": 2,
   "metadata": {
    "tags": []
   },
   "outputs": [
    {
     "output_type": "stream",
     "name": "stdout",
     "text": "The Cat in the Hat\nBy Dr. Seuss\nThe sun did not shine.\nIt was too wet to play.\nSo we sat in the house\nAll that cold cold wet day.\nI sat there with Sally.\nWe sat there we two.\nAnd I said How I wish\nWe had something to do!\n"
    }
   ],
   "source": [
    "for idx, sentence in enumerate(raw_corpus):\n",
    "    if len(sentence) == 0: continue   # 길이가 0인 문장은 건너뜁니다.\n",
    "    # if sentence[-1] == \":\": continue  # 문장의 끝이 : 인 문장은 건너뜁니다.\n",
    "\n",
    "    if idx > 9: break   # 일단 문장 10개만 확인해 볼 겁니다.\n",
    "        \n",
    "    print(sentence)"
   ]
  },
  {
   "cell_type": "markdown",
   "metadata": {},
   "source": [
    "1. 띄어쓰기 기준으로 토큰화"
   ]
  },
  {
   "cell_type": "code",
   "execution_count": 3,
   "metadata": {
    "tags": []
   },
   "outputs": [
    {
     "output_type": "stream",
     "name": "stdout",
     "text": "<start> this is sample sentence . <end>\n"
    }
   ],
   "source": [
    "import re\n",
    "def preprocess_sentence(sentence):\n",
    "    sentence = sentence.lower().strip()       # 소문자로 바꾸고 양쪽 공백을 삭제\n",
    "  \n",
    "    # 아래 3단계를 거쳐 sentence는 스페이스 1개를 delimeter로 하는 소문자 단어 시퀀스로 바뀝니다.\n",
    "    sentence = re.sub(r\"([?.!,¿])\", r\" \\1 \", sentence)        # 패턴의 특수문자를 만나면 특수문자 양쪽에 공백을 추가\n",
    "    sentence = re.sub(r'[\" \"]+', \" \", sentence)                  # 공백 패턴을 만나면 스페이스 1개로 치환\n",
    "    sentence = re.sub(r\"[^a-zA-Z?.!,¿]+\", \" \", sentence)  # a-zA-Z?.!,¿ 패턴을 제외한 모든 문자(공백문자까지도)를 스페이스 1개로 치환\n",
    "\n",
    "    sentence = sentence.strip()\n",
    "\n",
    "    sentence = '<start> ' + sentence + ' <end>'      # 이전 스텝에서 본 것처럼 문장 앞뒤로 <start>와 <end>를 단어처럼 붙여 줍니다\n",
    "    \n",
    "    return sentence\n",
    "\n",
    "print(preprocess_sentence(\"This @_is ;;;sample        sentence.\"))   # 이 문장이 어떻게 필터링되는지 확인해 보세요."
   ]
  },
  {
   "cell_type": "code",
   "execution_count": 4,
   "metadata": {
    "tags": []
   },
   "outputs": [],
   "source": [
    "corpus = []\n",
    "\n",
    "for sentence in raw_corpus:\n",
    "    if len(sentence) == 0: continue\n",
    "    # if sentence[-1] == \":\": continue\n",
    "    \n",
    "    prep = preprocess_sentence(sentence)\n",
    "    if len(prep.split(' '))<=15:\n",
    "        corpus.append(prep)        "
   ]
  },
  {
   "cell_type": "markdown",
   "metadata": {},
   "source": [
    "2. maxlen = 15 로 하여 tensor 생성"
   ]
  },
  {
   "cell_type": "code",
   "execution_count": 5,
   "metadata": {
    "tags": []
   },
   "outputs": [
    {
     "output_type": "stream",
     "name": "stdout",
     "text": "[[   2    6  824 ...    0    0    0]\n [   2  115 2805 ...    0    0    0]\n [   2    6  286 ...    0    0    0]\n ...\n [   2 2412   13 ...    0    0    0]\n [   2  716   27 ...    0    0    0]\n [   2  716   27 ...    0    0    0]] <keras_preprocessing.text.Tokenizer object at 0x7f4b4c2913d0>\n"
    }
   ],
   "source": [
    "import tensorflow as tf\n",
    "def tokenize(corpus):\n",
    "    # 텐서플로우에서 제공하는 Tokenizer 패키지를 생성\n",
    "    tokenizer = tf.keras.preprocessing.text.Tokenizer(\n",
    "        num_words=12000,  # 전체 단어의 개수 \n",
    "        filters=' ',    # 별도로 전처리 로직을 추가할 수 있습니다. 이번에는 사용하지 않겠습니다.\n",
    "        oov_token=\"<unk>\"  # out-of-vocabulary, 사전에 없었던 단어는 어떤 토큰으로 대체할지\n",
    "    )\n",
    "    tokenizer.fit_on_texts(corpus)   # 우리가 구축한 corpus로부터 Tokenizer가 사전을 자동구축하게 됩니다.\n",
    "\n",
    "    # 이후 tokenizer를 활용하여 모델에 입력할 데이터셋을 구축하게 됩니다.\n",
    "    tensor = tokenizer.texts_to_sequences(corpus)   # tokenizer는 구축한 사전으로부터 corpus를 해석해 Tensor로 변환합니다.\n",
    "\n",
    "    # 입력 데이터의 시퀀스 길이를 일정하게 맞추기 위한 padding  메소드를 제공합니다.\n",
    "    # maxlen의 디폴트값은 None입니다. 이 경우 corpus의 가장 긴 문장을 기준으로 시퀀스 길이가 맞춰집니다.\n",
    "    # maxlen 15로 지정하자\n",
    "    tensor = tf.keras.preprocessing.sequence.pad_sequences(tensor, padding='post')  \n",
    "\n",
    "    print(tensor,tokenizer)\n",
    "    return tensor, tokenizer\n",
    "\n",
    "tensor, tokenizer = tokenize(corpus)"
   ]
  },
  {
   "cell_type": "code",
   "execution_count": 6,
   "metadata": {
    "tags": []
   },
   "outputs": [
    {
     "output_type": "stream",
     "name": "stdout",
     "text": "[   2    6  824   14    6 1209    3    0    0    0    0    0    0    0]\n[   6  824   14    6 1209    3    0    0    0    0    0    0    0    0]\n"
    }
   ],
   "source": [
    "src_input = tensor[:, :-1]  # tensor에서 마지막 토큰을 잘라내서 소스 문장을 생성합니다. 마지막 토큰은 <END>가 아니라 <pad>일 가능성이 높습니다.\n",
    "tgt_input = tensor[:, 1:]    # tensor에서 <START>를 잘라내서 타겟 문장을 생성합니다.\n",
    "\n",
    "print(src_input[0])\n",
    "print(tgt_input[0])"
   ]
  },
  {
   "cell_type": "markdown",
   "metadata": {},
   "source": [
    "## 평가 데이터셋 분리"
   ]
  },
  {
   "cell_type": "code",
   "execution_count": 7,
   "metadata": {},
   "outputs": [],
   "source": [
    "from sklearn.model_selection import train_test_split\n",
    "enc_train, enc_val, dec_train, dec_val = train_test_split(src_input,tgt_input,test_size=0.2)"
   ]
  },
  {
   "cell_type": "code",
   "execution_count": 8,
   "metadata": {
    "tags": []
   },
   "outputs": [
    {
     "output_type": "stream",
     "name": "stdout",
     "text": "Source Train: (124981, 14)\nTarget Train: (124981, 14)\n"
    }
   ],
   "source": [
    "print(\"Source Train:\", enc_train.shape)\n",
    "print(\"Target Train:\", dec_train.shape)"
   ]
  },
  {
   "cell_type": "code",
   "execution_count": 9,
   "metadata": {
    "tags": []
   },
   "outputs": [
    {
     "output_type": "stream",
     "name": "stdout",
     "text": "12001\n"
    },
    {
     "output_type": "execute_result",
     "data": {
      "text/plain": "<BatchDataset shapes: ((256, 14), (256, 14)), types: (tf.int32, tf.int32)>"
     },
     "metadata": {},
     "execution_count": 9
    }
   ],
   "source": [
    "BUFFER_SIZE = len(src_input)\n",
    "BATCH_SIZE = 256\n",
    "steps_per_epoch = len(src_input) // BATCH_SIZE\n",
    "\n",
    "VOCAB_SIZE = tokenizer.num_words + 1\n",
    "print(VOCAB_SIZE)\n",
    "\n",
    "dataset = tf.data.Dataset.from_tensor_slices((src_input, tgt_input)).shuffle(BUFFER_SIZE)\n",
    "dataset = dataset.batch(BATCH_SIZE, drop_remainder=True)\n",
    "dataset"
   ]
  },
  {
   "cell_type": "markdown",
   "metadata": {},
   "source": [
    "## 인공지능 만들기\n",
    "모델의 Embedding Size와 Hidden Size를 조절하며 10 Epoch 안에 val_loss 값을 2.2 수준으로 줄일 수 있는 모델을 설계하세요! (Loss는 아래 제시된 Loss 함수를 그대로 사용!)"
   ]
  },
  {
   "cell_type": "code",
   "execution_count": 10,
   "metadata": {},
   "outputs": [],
   "source": [
    "loss = tf.keras.losses.SparseCategoricalCrossentropy(\n",
    "    from_logits=True, reduction='none')"
   ]
  },
  {
   "cell_type": "code",
   "execution_count": 11,
   "metadata": {},
   "outputs": [],
   "source": [
    "class TextGenerator(tf.keras.Model):\n",
    "    def __init__(self, vocab_size, embedding_size, hidden_size):\n",
    "        super(TextGenerator, self).__init__()\n",
    "        \n",
    "        self.embedding = tf.keras.layers.Embedding(vocab_size, embedding_size)\n",
    "        self.rnn_1 = tf.keras.layers.LSTM(hidden_size, return_sequences=True)\n",
    "        self.rnn_2 = tf.keras.layers.LSTM(hidden_size, return_sequences=True)\n",
    "        self.linear = tf.keras.layers.Dense(vocab_size)\n",
    "        \n",
    "    def call(self, x):\n",
    "        out = self.embedding(x)\n",
    "        out = self.rnn_1(out)\n",
    "        out = self.rnn_2(out)\n",
    "        out = self.linear(out)\n",
    "        \n",
    "        return out\n",
    "\n",
    "multiple = 2\n",
    "embedding_size = 256 * multiple\n",
    "hidden_size = 1024 * multiple\n",
    "model = TextGenerator(tokenizer.num_words + 1, embedding_size , hidden_size)"
   ]
  },
  {
   "cell_type": "code",
   "execution_count": 12,
   "metadata": {},
   "outputs": [
    {
     "output_type": "execute_result",
     "data": {
      "text/plain": "<tf.Tensor: shape=(256, 14, 12001), dtype=float32, numpy=\narray([[[-2.4145293e-04, -2.2230083e-04, -2.2298426e-04, ...,\n         -7.9608762e-05, -4.1591557e-04,  1.1673890e-04],\n        [-5.7389680e-04, -7.7440991e-04, -4.9101381e-04, ...,\n         -9.1878297e-05, -8.5207570e-04,  3.7151860e-04],\n        [-1.0029168e-03, -7.9492264e-04, -3.1775786e-04, ...,\n         -5.9604099e-05, -1.1516783e-03,  4.5345229e-04],\n        ...,\n        [-8.4610906e-04, -7.2197625e-05,  1.1607988e-03, ...,\n          3.0409748e-04, -3.8626671e-04, -1.5511442e-04],\n        [-7.3114445e-04, -1.9803632e-04,  8.0136000e-04, ...,\n          3.2026775e-04, -3.7355153e-04, -3.8446535e-04],\n        [-5.7485909e-04, -3.1245730e-04,  3.7922186e-04, ...,\n          3.2996864e-04, -3.8595372e-04, -5.5515964e-04]],\n\n       [[-2.4145293e-04, -2.2230083e-04, -2.2298426e-04, ...,\n         -7.9608762e-05, -4.1591557e-04,  1.1673890e-04],\n        [-5.3746527e-04, -5.4031861e-04, -7.0467613e-05, ...,\n          4.5282723e-05, -6.7725847e-04,  4.5089357e-04],\n        [-1.7923328e-04, -5.3276058e-04,  1.8766308e-04, ...,\n          4.8229209e-05, -3.8083005e-04,  7.2740432e-04],\n        ...,\n        [ 3.6433048e-04, -1.1780336e-04,  6.7521539e-04, ...,\n         -8.8972988e-04, -2.4270438e-04, -1.3152162e-04],\n        [ 4.3146993e-04, -2.6208223e-04,  1.9867784e-04, ...,\n         -8.1451412e-04, -3.2387278e-04, -2.4410039e-04],\n        [ 5.4728123e-04, -4.1614642e-04, -2.7636878e-04, ...,\n         -7.3980057e-04, -4.2887067e-04, -3.4438612e-04]],\n\n       [[-2.4145293e-04, -2.2230083e-04, -2.2298426e-04, ...,\n         -7.9608762e-05, -4.1591557e-04,  1.1673890e-04],\n        [-3.3111704e-04, -2.4540070e-04, -5.4099924e-05, ...,\n         -3.1941896e-04, -6.3778937e-04,  2.3246616e-04],\n        [-5.0623354e-04, -3.2436897e-04,  1.0481741e-04, ...,\n          9.4614501e-05, -3.6565564e-04,  5.3357413e-05],\n        ...,\n        [ 8.0807920e-05, -7.3965930e-04, -3.7014816e-04, ...,\n          4.4425315e-04, -9.4480405e-04,  2.0538987e-06],\n        [ 2.4409908e-04, -8.4552530e-04, -6.7684712e-04, ...,\n          4.5024228e-04, -1.0091589e-03, -8.9927948e-05],\n        [ 4.3949723e-04, -9.4934489e-04, -9.9686487e-04, ...,\n          4.5087782e-04, -1.0781928e-03, -1.8592515e-04]],\n\n       ...,\n\n       [[-2.4145293e-04, -2.2230083e-04, -2.2298426e-04, ...,\n         -7.9608762e-05, -4.1591557e-04,  1.1673890e-04],\n        [-2.4276278e-04, -5.9833541e-04, -2.4319305e-04, ...,\n         -1.5160492e-04, -6.0228299e-04,  4.3131920e-04],\n        [-4.6953585e-04, -9.5408893e-04, -4.8738110e-04, ...,\n         -8.3310217e-05, -6.8608596e-04,  1.0216406e-03],\n        ...,\n        [ 1.4063811e-03, -1.2209367e-03,  3.0814153e-05, ...,\n         -4.0303301e-05, -9.3024370e-04,  1.5276662e-03],\n        [ 1.3894223e-03, -1.2166819e-03, -9.5669544e-05, ...,\n          9.7538425e-05, -1.0524376e-03,  1.1761585e-03],\n        [ 1.3481014e-03, -1.2073604e-03, -3.4301734e-04, ...,\n          2.3560185e-04, -1.1499873e-03,  8.3918648e-04]],\n\n       [[-2.4145293e-04, -2.2230083e-04, -2.2298426e-04, ...,\n         -7.9608762e-05, -4.1591557e-04,  1.1673890e-04],\n        [-6.8303605e-04, -4.5733328e-04, -3.3542956e-04, ...,\n         -1.3460957e-04, -4.1717003e-04,  4.0500177e-04],\n        [-1.2207504e-03, -3.1187793e-04, -2.0087497e-04, ...,\n         -4.6962869e-05, -6.2985421e-04,  4.8468931e-04],\n        ...,\n        [ 1.5569407e-05, -3.6899018e-04,  1.5310419e-04, ...,\n         -3.0531600e-04, -1.4955195e-03, -3.3762542e-05],\n        [-5.3777594e-06, -5.5099034e-04, -3.6197998e-05, ...,\n         -3.1157178e-04, -1.5176694e-03, -1.2220374e-04],\n        [ 3.4353197e-05, -7.0128543e-04, -3.0410106e-04, ...,\n         -3.1112021e-04, -1.5031414e-03, -2.0792132e-04]],\n\n       [[-2.4145293e-04, -2.2230083e-04, -2.2298426e-04, ...,\n         -7.9608762e-05, -4.1591557e-04,  1.1673890e-04],\n        [-7.1514241e-04, -4.5046967e-04, -3.7887000e-04, ...,\n          3.1732378e-04, -5.9770083e-04,  3.0214363e-04],\n        [-8.5446873e-04, -3.8955847e-04, -3.3266420e-04, ...,\n          1.0216357e-04, -4.9050123e-04,  1.3053151e-04],\n        ...,\n        [ 5.1725679e-04, -1.2322135e-03, -1.8856146e-03, ...,\n          3.9541791e-04, -7.2535372e-04, -3.3524449e-04],\n        [ 7.4161869e-04, -1.3024607e-03, -2.1272770e-03, ...,\n          4.0077057e-04, -7.9054915e-04, -3.7686119e-04],\n        [ 9.6796604e-04, -1.3695918e-03, -2.3455585e-03, ...,\n          4.1229281e-04, -8.6458656e-04, -4.2168587e-04]]], dtype=float32)>"
     },
     "metadata": {},
     "execution_count": 12
    }
   ],
   "source": [
    "for src_sample, tgt_sample in dataset.take(1): break\n",
    "model(src_sample)"
   ]
  },
  {
   "cell_type": "code",
   "execution_count": 13,
   "metadata": {
    "tags": []
   },
   "outputs": [
    {
     "output_type": "stream",
     "name": "stdout",
     "text": "Model: \"text_generator\"\n_________________________________________________________________\nLayer (type)                 Output Shape              Param #   \n=================================================================\nembedding (Embedding)        multiple                  6144512   \n_________________________________________________________________\nlstm (LSTM)                  multiple                  20979712  \n_________________________________________________________________\nlstm_1 (LSTM)                multiple                  33562624  \n_________________________________________________________________\ndense (Dense)                multiple                  24590049  \n=================================================================\nTotal params: 85,276,897\nTrainable params: 85,276,897\nNon-trainable params: 0\n_________________________________________________________________\n"
    }
   ],
   "source": [
    "model.summary()"
   ]
  },
  {
   "cell_type": "code",
   "execution_count": 14,
   "metadata": {
    "tags": []
   },
   "outputs": [
    {
     "output_type": "stream",
     "name": "stdout",
     "text": "Epoch 1/10\n610/610 - 324s - loss: 3.2797 - val_loss: 2.8068\nEpoch 2/10\n610/610 - 332s - loss: 2.6848 - val_loss: 2.4113\nEpoch 3/10\n610/610 - 326s - loss: 2.3493 - val_loss: 2.0652\nEpoch 4/10\n610/610 - 310s - loss: 2.0381 - val_loss: 1.7591\nEpoch 5/10\n610/610 - 316s - loss: 1.7554 - val_loss: 1.4979\nEpoch 6/10\n610/610 - 311s - loss: 1.5141 - val_loss: 1.2945\nEpoch 7/10\n610/610 - 306s - loss: 1.3218 - val_loss: 1.1460\nEpoch 8/10\n610/610 - 306s - loss: 1.1791 - val_loss: 1.0470\nEpoch 9/10\n610/610 - 305s - loss: 1.0836 - val_loss: 0.9872\nEpoch 10/10\n610/610 - 304s - loss: 1.0265 - val_loss: 0.9554\n"
    },
    {
     "output_type": "execute_result",
     "data": {
      "text/plain": "<tensorflow.python.keras.callbacks.History at 0x7f4a900ae7d0>"
     },
     "metadata": {},
     "execution_count": 14
    }
   ],
   "source": [
    "optimizer = tf.keras.optimizers.Adam()\n",
    "\n",
    "loss = tf.keras.losses.SparseCategoricalCrossentropy(\n",
    "    from_logits=True, reduction='none')\n",
    "\n",
    "model.compile(loss=loss, optimizer=optimizer)\n",
    "model.fit(dataset, epochs=10, validation_data=(enc_val, dec_val), verbose=2)"
   ]
  },
  {
   "cell_type": "code",
   "execution_count": 15,
   "metadata": {},
   "outputs": [],
   "source": [
    "def generate_text(model, tokenizer, init_sentence=\"<start>\", max_len=20):\n",
    "    # 테스트를 위해서 입력받은 init_sentence도 일단 텐서로 변환합니다.\n",
    "    test_input = tokenizer.texts_to_sequences([init_sentence])\n",
    "    test_tensor = tf.convert_to_tensor(test_input, dtype=tf.int64)\n",
    "    end_token = tokenizer.word_index[\"<end>\"]\n",
    "\n",
    "    # 텍스트를 실제로 생성할때는 루프를 돌면서 단어 하나씩 생성해야 합니다. \n",
    "    while True:\n",
    "        predict = model(test_tensor)  # 입력받은 문장의 텐서를 입력합니다. \n",
    "        predict_word = tf.argmax(tf.nn.softmax(predict, axis=-1), axis=-1)[:, -1]   # 우리 모델이 예측한 마지막 단어가 바로 새롭게 생성한 단어가 됩니다. \n",
    "\n",
    "        # 우리 모델이 새롭게 예측한 단어를 입력 문장의 뒤에 붙여 줍니다. \n",
    "        test_tensor = tf.concat([test_tensor, \n",
    "\t\t\t\t\t\t\t\t\t\t\t\t\t\t\t\t tf.expand_dims(predict_word, axis=0)], axis=-1)\n",
    "\n",
    "        # 우리 모델이 <END>를 예측했거나, max_len에 도달하지 않았다면  while 루프를 또 돌면서 다음 단어를 예측해야 합니다.\n",
    "        if predict_word.numpy()[0] == end_token: break\n",
    "        if test_tensor.shape[1] >= max_len: break\n",
    "\n",
    "    generated = \"\"\n",
    "    # 생성된 tensor 안에 있는 word index를 tokenizer.index_word 사전을 통해 실제 단어로 하나씩 변환합니다. \n",
    "    for word_index in test_tensor[0].numpy():\n",
    "        generated += tokenizer.index_word[word_index] + \" \"\n",
    "\n",
    "    return generated   # 이것이 최종적으로 모델이 생성한 자연어 문장입니다."
   ]
  },
  {
   "cell_type": "code",
   "execution_count": 16,
   "metadata": {},
   "outputs": [
    {
     "output_type": "execute_result",
     "data": {
      "text/plain": "'<start> i love you <end> '"
     },
     "metadata": {},
     "execution_count": 16
    }
   ],
   "source": [
    "generate_text(model, tokenizer, init_sentence=\"<start> i love\", max_len=20)"
   ]
  },
  {
   "cell_type": "code",
   "execution_count": null,
   "metadata": {},
   "outputs": [],
   "source": []
  }
 ]
}