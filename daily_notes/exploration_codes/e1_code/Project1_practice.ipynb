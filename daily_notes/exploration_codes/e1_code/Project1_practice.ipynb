{
 "cells": [
  {
   "cell_type": "markdown",
   "metadata": {},
   "source": [
    "# 데이터 준비하기"
   ]
  },
  {
   "cell_type": "code",
   "execution_count": 2,
   "metadata": {
    "tags": []
   },
   "outputs": [
    {
     "output_type": "stream",
     "name": "stdout",
     "text": "Requirement already satisfied: pillow in /home/aiffel0042/anaconda3/lib/python3.7/site-packages (7.0.0)\n학습데이터(x_train)의 이미지 개수는 900 입니다.\nx_train_norm shape: (900, 28, 28, 3)\ny_train shape: (900,)\n"
    }
   ],
   "source": [
    "!pip install pillow   \n",
    "\n",
    "from PIL import Image\n",
    "import os, glob\n",
    "\n",
    "import tensorflow as tf\n",
    "from tensorflow import keras\n",
    "\n",
    "import numpy as np\n",
    "import matplotlib.pyplot as plt\n",
    "\n",
    "def load_data(img_path):\n",
    "    # 가위 : 0, 바위 : 1, 보 : 2\n",
    "    number_of_data=900   # 가위바위보 이미지 개수 총합에 주의하세요.\n",
    "    img_size=28\n",
    "    color=3\n",
    "    #이미지 데이터와 라벨(가위 : 0, 바위 : 1, 보 : 2) 데이터를 담을 행렬(matrix) 영역을 생성합니다.\n",
    "    imgs=np.zeros(number_of_data*img_size*img_size*color,dtype=np.int32).reshape(number_of_data,img_size,img_size,color)\n",
    "    labels=np.zeros(number_of_data,dtype=np.int32)\n",
    "\n",
    "    idx=0\n",
    "    for file in glob.iglob(img_path+'/scissor/*.jpg'):\n",
    "        img = np.array(Image.open(file),dtype=np.int32)\n",
    "        imgs[idx,:,:,:]=img    # 데이터 영역에 이미지 행렬을 복사\n",
    "        labels[idx]=0   # 가위 : 0\n",
    "        idx=idx+1\n",
    "\n",
    "    for file in glob.iglob(img_path+'/rock/*.jpg'):\n",
    "        img = np.array(Image.open(file),dtype=np.int32)\n",
    "        imgs[idx,:,:,:]=img    # 데이터 영역에 이미지 행렬을 복사\n",
    "        labels[idx]=1   # 바위 : 1\n",
    "        idx=idx+1       \n",
    "    \n",
    "    for file in glob.iglob(img_path+'/paper/*.jpg'):\n",
    "        img = np.array(Image.open(file),dtype=np.int32)\n",
    "        imgs[idx,:,:,:]=img    # 데이터 영역에 이미지 행렬을 복사\n",
    "        labels[idx]=2   # 보 : 2\n",
    "        idx=idx+1\n",
    "        \n",
    "    print(\"학습데이터(x_train)의 이미지 개수는\",idx,\"입니다.\")\n",
    "    return imgs, labels\n",
    "\n",
    "image_dir_path = os.getenv(\"HOME\") + \"/aiffel/rock_scissor_paper\"\n",
    "(x_train, y_train)=load_data(image_dir_path)\n",
    "x_train_norm = x_train/255.0   # 입력은 0~1 사이의 값으로 정규화\n",
    "\n",
    "print(\"x_train_norm shape: {}\".format(x_train_norm.shape))\n",
    "print(\"y_train shape: {}\".format(y_train.shape))"
   ]
  },
  {
   "cell_type": "markdown",
   "metadata": {},
   "source": [
    "# 딥러닝 네트워크 설계하기\n"
   ]
  },
  {
   "cell_type": "code",
   "execution_count": 3,
   "metadata": {
    "tags": []
   },
   "outputs": [
    {
     "output_type": "stream",
     "name": "stdout",
     "text": "Model: \"sequential\"\n_________________________________________________________________\nLayer (type)                 Output Shape              Param #   \n=================================================================\nconv2d (Conv2D)              (None, 26, 26, 32)        896       \n_________________________________________________________________\nmax_pooling2d (MaxPooling2D) (None, 13, 13, 32)        0         \n_________________________________________________________________\nconv2d_1 (Conv2D)            (None, 11, 11, 64)        18496     \n_________________________________________________________________\nmax_pooling2d_1 (MaxPooling2 (None, 5, 5, 64)          0         \n_________________________________________________________________\nflatten (Flatten)            (None, 1600)              0         \n_________________________________________________________________\ndense (Dense)                (None, 32)                51232     \n_________________________________________________________________\ndense_1 (Dense)              (None, 3)                 99        \n=================================================================\nTotal params: 70,723\nTrainable params: 70,723\nNon-trainable params: 0\n_________________________________________________________________\n"
    }
   ],
   "source": [
    "n_channel_1=32\n",
    "n_channel_2=64\n",
    "n_dense=32\n",
    "n_train_epoch=15\n",
    "\n",
    "n_image_channel = 3\n",
    "n_classes = 3\n",
    "\n",
    "model=keras.models.Sequential()\n",
    "model.add(keras.layers.Conv2D(n_channel_1, (3,3), activation='relu', input_shape=(28,28,n_image_channel)))\n",
    "model.add(keras.layers.MaxPool2D(2,2))\n",
    "model.add(keras.layers.Conv2D(n_channel_2, (3,3), activation='relu'))\n",
    "model.add(keras.layers.MaxPooling2D((2,2)))\n",
    "model.add(keras.layers.Flatten())\n",
    "model.add(keras.layers.Dense(n_dense, activation='relu'))\n",
    "model.add(keras.layers.Dense(n_classes, activation='softmax'))\n",
    "\n",
    "model.summary()"
   ]
  },
  {
   "cell_type": "markdown",
   "metadata": {},
   "source": [
    "# 딥러닝 네트워크 학습시키기 "
   ]
  },
  {
   "cell_type": "code",
   "execution_count": 4,
   "metadata": {
    "tags": []
   },
   "outputs": [
    {
     "output_type": "stream",
     "name": "stdout",
     "text": "Epoch 1/15\n29/29 [==============================] - 5s 163ms/step - loss: 1.0798 - accuracy: 0.4200\nEpoch 2/15\n29/29 [==============================] - 0s 2ms/step - loss: 0.9334 - accuracy: 0.7022\nEpoch 3/15\n29/29 [==============================] - 0s 2ms/step - loss: 0.5303 - accuracy: 0.8689\nEpoch 4/15\n29/29 [==============================] - 0s 1ms/step - loss: 0.3005 - accuracy: 0.8967\nEpoch 5/15\n29/29 [==============================] - 0s 2ms/step - loss: 0.1945 - accuracy: 0.9367\nEpoch 6/15\n29/29 [==============================] - 0s 2ms/step - loss: 0.1289 - accuracy: 0.9633\nEpoch 7/15\n29/29 [==============================] - 0s 2ms/step - loss: 0.0988 - accuracy: 0.9756\nEpoch 8/15\n29/29 [==============================] - 0s 1ms/step - loss: 0.0571 - accuracy: 0.9933\nEpoch 9/15\n29/29 [==============================] - 0s 1ms/step - loss: 0.0429 - accuracy: 0.9944\nEpoch 10/15\n29/29 [==============================] - 0s 1ms/step - loss: 0.0266 - accuracy: 1.0000\nEpoch 11/15\n29/29 [==============================] - 0s 1ms/step - loss: 0.0212 - accuracy: 1.0000\nEpoch 12/15\n29/29 [==============================] - 0s 1ms/step - loss: 0.0175 - accuracy: 0.9989\nEpoch 13/15\n29/29 [==============================] - 0s 1ms/step - loss: 0.0110 - accuracy: 1.0000\nEpoch 14/15\n29/29 [==============================] - 0s 2ms/step - loss: 0.0081 - accuracy: 1.0000\nEpoch 15/15\n29/29 [==============================] - 0s 1ms/step - loss: 0.0063 - accuracy: 1.0000\n"
    },
    {
     "output_type": "execute_result",
     "data": {
      "text/plain": "<tensorflow.python.keras.callbacks.History at 0x7fe8d0199490>"
     },
     "metadata": {},
     "execution_count": 4
    }
   ],
   "source": [
    "# 모델 훈련\n",
    "model.compile(optimizer='adam',\n",
    "             loss='sparse_categorical_crossentropy',\n",
    "             metrics=['accuracy'])\n",
    "\n",
    "\n",
    "model.fit(x_train_norm, y_train, epochs=n_train_epoch)"
   ]
  },
  {
   "cell_type": "markdown",
   "metadata": {},
   "source": [
    "# 테스트 데이터 만들기"
   ]
  },
  {
   "cell_type": "code",
   "execution_count": 10,
   "metadata": {
    "tags": []
   },
   "outputs": [
    {
     "output_type": "stream",
     "name": "stdout",
     "text": "이미지 디렉토리 경로:  /home/aiffel0042/aiffel/rock_scissor_paper/scissor_test\n가위_test 이미지 resize 완료!\n이미지 디렉토리 경로:  /home/aiffel0042/aiffel/rock_scissor_paper/rock_test\n바위_test 이미지 resize 완료!\n이미지 디렉토리 경로:  /home/aiffel0042/aiffel/rock_scissor_paper/paper_test\n보_test 이미지 resize 완료!\n"
    }
   ],
   "source": [
    "# 가위 이미지가 저장된 디렉토리 아래의 모든 jpg 파일을 읽어들여서\n",
    "image_dir_path = os.getenv(\"HOME\") + \"/aiffel/rock_scissor_paper/scissor_test\"\n",
    "print(\"이미지 디렉토리 경로: \", image_dir_path)\n",
    "\n",
    "images=glob.glob(image_dir_path + \"/*.jpg\")  \n",
    "\n",
    "# 파일마다 모두 28x28 사이즈로 바꾸어 저장합니다.\n",
    "target_size=(28,28)\n",
    "for img in images:\n",
    "    old_img=Image.open(img)\n",
    "    new_img=old_img.resize(target_size,Image.ANTIALIAS)\n",
    "    new_img.save(img,\"JPEG\")\n",
    "\n",
    "print(\"가위_test 이미지 resize 완료!\")\n",
    "\n",
    "# 바위 이미지가 저장된 디렉토리 아래의 모든 jpg 파일을 읽어들여서\n",
    "image_dir_path = os.getenv(\"HOME\") + \"/aiffel/rock_scissor_paper/rock_test\"\n",
    "print(\"이미지 디렉토리 경로: \", image_dir_path)\n",
    "\n",
    "images=glob.glob(image_dir_path + \"/*.jpg\")  \n",
    "\n",
    "# 파일마다 모두 28x28 사이즈로 바꾸어 저장합니다.\n",
    "target_size=(28,28)\n",
    "for img in images:\n",
    "    old_img=Image.open(img)\n",
    "    new_img=old_img.resize(target_size,Image.ANTIALIAS)\n",
    "    new_img.save(img,\"JPEG\")\n",
    "\n",
    "print(\"바위_test 이미지 resize 완료!\")\n",
    "\n",
    "# 보 이미지가 저장된 디렉토리 아래의 모든 jpg 파일을 읽어들여서\n",
    "image_dir_path = os.getenv(\"HOME\") + \"/aiffel/rock_scissor_paper/paper_test\"\n",
    "print(\"이미지 디렉토리 경로: \", image_dir_path)\n",
    "\n",
    "images=glob.glob(image_dir_path + \"/*.jpg\")  \n",
    "\n",
    "# 파일마다 모두 28x28 사이즈로 바꾸어 저장합니다.\n",
    "target_size=(28,28)\n",
    "for img in images:\n",
    "    old_img=Image.open(img)\n",
    "    new_img=old_img.resize(target_size,Image.ANTIALIAS)\n",
    "    new_img.save(img,\"JPEG\")\n",
    "\n",
    "print(\"보_test 이미지 resize 완료!\")"
   ]
  },
  {
   "cell_type": "code",
   "execution_count": 15,
   "metadata": {
    "tags": []
   },
   "outputs": [
    {
     "output_type": "stream",
     "name": "stdout",
     "text": "Requirement already satisfied: pillow in /home/aiffel0042/anaconda3/lib/python3.7/site-packages (7.0.0)\n테스트(x_test)의 이미지 개수는 2100 입니다.\nx_test_norm shape: (2100, 28, 28, 3)\ny_test shape: (2100,)\n"
    }
   ],
   "source": [
    "!pip install pillow   \n",
    "\n",
    "from PIL import Image\n",
    "import os, glob\n",
    "import numpy as np\n",
    "\n",
    "def load_test_data(img_path):\n",
    "    # 가위 : 0, 바위 : 1, 보 : 2\n",
    "    number_of_data=2100   # 가위바위보 이미지 개수 총합에 주의하세요.\n",
    "    img_size=28\n",
    "    color=3\n",
    "    #이미지 데이터와 라벨(가위 : 0, 바위 : 1, 보 : 2) 데이터를 담을 행렬(matrix) 영역을 생성합니다.\n",
    "    imgs=np.zeros(number_of_data*img_size*img_size*color,dtype=np.int32).reshape(number_of_data,img_size,img_size,color)\n",
    "    labels=np.zeros(number_of_data,dtype=np.int32)\n",
    "\n",
    "    idx=0\n",
    "    for file in glob.iglob(img_path+'/scissor_test/*.jpg'):\n",
    "        img = np.array(Image.open(file),dtype=np.int32)\n",
    "        imgs[idx,:,:,:]=img    # 데이터 영역에 이미지 행렬을 복사\n",
    "        labels[idx]=0   # 가위 : 0\n",
    "        idx=idx+1\n",
    "\n",
    "    for file in glob.iglob(img_path+'/rock_test/*.jpg'):\n",
    "        img = np.array(Image.open(file),dtype=np.int32)\n",
    "        imgs[idx,:,:,:]=img    # 데이터 영역에 이미지 행렬을 복사\n",
    "        labels[idx]=1   # 바위 : 1\n",
    "        idx=idx+1       \n",
    "    \n",
    "    for file in glob.iglob(img_path+'/paper_test/*.jpg'):\n",
    "        img = np.array(Image.open(file),dtype=np.int32)\n",
    "        imgs[idx,:,:,:]=img    # 데이터 영역에 이미지 행렬을 복사\n",
    "        labels[idx]=2   # 보 : 2\n",
    "        idx=idx+1\n",
    "        \n",
    "    print(\"테스트(x_test)의 이미지 개수는\",idx,\"입니다.\")\n",
    "    return imgs, labels\n",
    "\n",
    "image_dir_path = os.getenv(\"HOME\") + \"/aiffel/rock_scissor_paper\"\n",
    "(x_test, y_test)=load_test_data(image_dir_path)\n",
    "x_test_norm = x_test/255.0   # 입력은 0~1 사이의 값으로 정규화\n",
    "\n",
    "print(\"x_test_norm shape: {}\".format(x_test_norm.shape))\n",
    "print(\"y_test shape: {}\".format(y_test.shape))"
   ]
  },
  {
   "cell_type": "markdown",
   "metadata": {},
   "source": [
    "#  얼마나 잘 만들었는지 확인하기"
   ]
  },
  {
   "cell_type": "code",
   "execution_count": 12,
   "metadata": {
    "tags": []
   },
   "outputs": [
    {
     "output_type": "stream",
     "name": "stdout",
     "text": "66/66 - 0s - loss: 2.3379 - accuracy: 0.5029\ntest_loss: 2.337902545928955 \ntest_accuracy: 0.5028571486473083\nmodel.predict() 결과 :  [1.9751404e-01 8.0248570e-01 1.6703771e-07]\nmodel이 추론한 가장 가능성이 높은 결과 :  1\n실제 데이터의 라벨 :  0\n"
    }
   ],
   "source": [
    "test_loss, test_accuracy = model.evaluate(x_test_norm,y_test, verbose=2)\n",
    "print(\"test_loss: {} \".format(test_loss))\n",
    "print(\"test_accuracy: {}\".format(test_accuracy))\n",
    "\n",
    "predicted_result = model.predict(x_test_norm)  # model이 추론한 확률값. \n",
    "predicted_labels = np.argmax(predicted_result, axis=1)\n",
    "\n",
    "idx=0  #1번째 x_test를 살펴보자. \n",
    "print('model.predict() 결과 : ', predicted_result[idx])\n",
    "print('model이 추론한 가장 가능성이 높은 결과 : ', predicted_labels[idx])\n",
    "print('실제 데이터의 라벨 : ', y_test[idx])"
   ]
  },
  {
   "cell_type": "markdown",
   "metadata": {},
   "source": [
    "# 더 좋은 네트워크 만들어보기"
   ]
  },
  {
   "cell_type": "code",
   "execution_count": 14,
   "metadata": {
    "tags": []
   },
   "outputs": [
    {
     "output_type": "stream",
     "name": "stdout",
     "text": "Model: \"sequential_5\"\n_________________________________________________________________\nLayer (type)                 Output Shape              Param #   \n=================================================================\nconv2d_10 (Conv2D)           (None, 26, 26, 32)        896       \n_________________________________________________________________\nmax_pooling2d_10 (MaxPooling (None, 13, 13, 32)        0         \n_________________________________________________________________\nconv2d_11 (Conv2D)           (None, 11, 11, 64)        18496     \n_________________________________________________________________\nmax_pooling2d_11 (MaxPooling (None, 5, 5, 64)          0         \n_________________________________________________________________\nflatten_5 (Flatten)          (None, 1600)              0         \n_________________________________________________________________\ndense_10 (Dense)             (None, 256)               409856    \n_________________________________________________________________\ndense_11 (Dense)             (None, 3)                 771       \n=================================================================\nTotal params: 430,019\nTrainable params: 430,019\nNon-trainable params: 0\n_________________________________________________________________\nEpoch 1/30\n29/29 [==============================] - 0s 2ms/step - loss: 1.0540 - accuracy: 0.4744\nEpoch 2/30\n29/29 [==============================] - 0s 2ms/step - loss: 0.6194 - accuracy: 0.8500\nEpoch 3/30\n29/29 [==============================] - 0s 2ms/step - loss: 0.2530 - accuracy: 0.9333\nEpoch 4/30\n29/29 [==============================] - 0s 2ms/step - loss: 0.1302 - accuracy: 0.9589\nEpoch 5/30\n29/29 [==============================] - 0s 2ms/step - loss: 0.0754 - accuracy: 0.9778\nEpoch 6/30\n29/29 [==============================] - 0s 1ms/step - loss: 0.0470 - accuracy: 0.9933\nEpoch 7/30\n29/29 [==============================] - 0s 1ms/step - loss: 0.0323 - accuracy: 0.9956\nEpoch 8/30\n29/29 [==============================] - 0s 1ms/step - loss: 0.0168 - accuracy: 0.9989\nEpoch 9/30\n29/29 [==============================] - 0s 2ms/step - loss: 0.0113 - accuracy: 1.0000\nEpoch 10/30\n29/29 [==============================] - 0s 1ms/step - loss: 0.0155 - accuracy: 0.9989\nEpoch 11/30\n29/29 [==============================] - 0s 1ms/step - loss: 0.0074 - accuracy: 1.0000\nEpoch 12/30\n29/29 [==============================] - 0s 1ms/step - loss: 0.0043 - accuracy: 1.0000\nEpoch 13/30\n29/29 [==============================] - 0s 1ms/step - loss: 0.0034 - accuracy: 1.0000\nEpoch 14/30\n29/29 [==============================] - 0s 1ms/step - loss: 0.0027 - accuracy: 1.0000\nEpoch 15/30\n29/29 [==============================] - 0s 2ms/step - loss: 0.0024 - accuracy: 1.0000\nEpoch 16/30\n29/29 [==============================] - 0s 1ms/step - loss: 0.0021 - accuracy: 1.0000\nEpoch 17/30\n29/29 [==============================] - 0s 1ms/step - loss: 0.0018 - accuracy: 1.0000\nEpoch 18/30\n29/29 [==============================] - 0s 1ms/step - loss: 0.0015 - accuracy: 1.0000\nEpoch 19/30\n29/29 [==============================] - 0s 1ms/step - loss: 0.0014 - accuracy: 1.0000\nEpoch 20/30\n29/29 [==============================] - 0s 1ms/step - loss: 0.0014 - accuracy: 1.0000\nEpoch 21/30\n29/29 [==============================] - 0s 1ms/step - loss: 0.0011 - accuracy: 1.0000\nEpoch 22/30\n29/29 [==============================] - 0s 2ms/step - loss: 9.2139e-04 - accuracy: 1.0000\nEpoch 23/30\n29/29 [==============================] - 0s 1ms/step - loss: 8.2827e-04 - accuracy: 1.0000\nEpoch 24/30\n29/29 [==============================] - 0s 2ms/step - loss: 7.3650e-04 - accuracy: 1.0000\nEpoch 25/30\n29/29 [==============================] - 0s 1ms/step - loss: 6.8578e-04 - accuracy: 1.0000\nEpoch 26/30\n29/29 [==============================] - 0s 1ms/step - loss: 6.2234e-04 - accuracy: 1.0000\nEpoch 27/30\n29/29 [==============================] - 0s 1ms/step - loss: 5.8812e-04 - accuracy: 1.0000\nEpoch 28/30\n29/29 [==============================] - 0s 1ms/step - loss: 5.3326e-04 - accuracy: 1.0000\nEpoch 29/30\n29/29 [==============================] - 0s 1ms/step - loss: 4.7749e-04 - accuracy: 1.0000\nEpoch 30/30\n29/29 [==============================] - 0s 1ms/step - loss: 4.3098e-04 - accuracy: 1.0000\n66/66 - 0s - loss: 2.3520 - accuracy: 0.5219\n==============result===============\nn_channel_1: 32\nn_channel_2: 64\nn_dense: 256\nn_train_epoch: 30\ntest_loss: 2.351999044418335\ntest_accuracy: 0.5219047665596008     \n"
    }
   ],
   "source": [
    "n_channel_1=32\n",
    "n_channel_2=64\n",
    "n_dense=256\n",
    "n_train_epoch=30\n",
    "\n",
    "n_image_channel = 3\n",
    "n_classes = 3\n",
    "\n",
    "# 모델 설계\n",
    "model=keras.models.Sequential()\n",
    "model.add(keras.layers.Conv2D(n_channel_1, (3,3), activation='relu', input_shape=(28,28,n_image_channel)))\n",
    "model.add(keras.layers.MaxPool2D(2,2))\n",
    "model.add(keras.layers.Conv2D(n_channel_2, (3,3), activation='relu'))\n",
    "model.add(keras.layers.MaxPooling2D((2,2)))\n",
    "model.add(keras.layers.Flatten())\n",
    "model.add(keras.layers.Dense(n_dense, activation='relu'))\n",
    "model.add(keras.layers.Dense(n_classes, activation='softmax'))\n",
    "\n",
    "model.summary()\n",
    "\n",
    "# 모델 훈련\n",
    "model.compile(optimizer='adam',\n",
    "             loss='sparse_categorical_crossentropy',\n",
    "             metrics=['accuracy'])\n",
    "\n",
    "model.fit(x_train_norm, y_train, epochs=n_train_epoch)\n",
    "\n",
    "# print(x_train_norm.shape)\n",
    "# print(y_train.shape)\n",
    "# print(x_test.shape)\n",
    "# print(y_test.shape)\n",
    "# 모델 시험\n",
    "test_loss, test_accuracy = model.evaluate(x_test_norm, y_test, verbose=2)\n",
    "print('==============result===============')\n",
    "print(\"n_channel_1: {}\".format(n_channel_1))\n",
    "print(\"n_channel_2: {}\".format(n_channel_2))\n",
    "print(\"n_dense: {}\".format(n_dense))\n",
    "print(\"n_train_epoch: {}\".format(n_train_epoch))\n",
    "print(\"test_loss: {}\".format(test_loss))\n",
    "print(\"test_accuracy: {}     \".format(test_accuracy))"
   ]
  },
  {
   "cell_type": "markdown",
   "metadata": {},
   "source": []
  }
 ],
 "metadata": {
  "kernelspec": {
   "display_name": "aiffel",
   "language": "python",
   "name": "aiffel"
  },
  "language_info": {
   "codemirror_mode": {
    "name": "ipython",
    "version": 3
   },
   "file_extension": ".py",
   "mimetype": "text/x-python",
   "name": "python",
   "nbconvert_exporter": "python",
   "pygments_lexer": "ipython3",
   "version": "3.7.6-final"
  }
 },
 "nbformat": 4,
 "nbformat_minor": 4
}