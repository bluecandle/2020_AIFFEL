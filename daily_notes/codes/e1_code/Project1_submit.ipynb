{
 "cells": [
  {
   "cell_type": "markdown",
   "metadata": {},
   "source": [
    "# 데이터 준비하기"
   ]
  },
  {
   "cell_type": "code",
   "execution_count": 1,
   "metadata": {
    "tags": []
   },
   "outputs": [
    {
     "output_type": "stream",
     "name": "stdout",
     "text": "Requirement already satisfied: pillow in /home/aiffel0042/anaconda3/lib/python3.7/site-packages (7.0.0)\n"
    }
   ],
   "source": [
    "# PIL 라이브러리가 설치되어 있지 않다면 설치\n",
    "!pip install pillow   \n",
    "\n",
    "# 필요한 라이브러리 가져오기\n",
    "from PIL import Image\n",
    "import os, glob\n",
    "import matplotlib.pyplot as plt\n",
    "import tensorflow as tf\n",
    "from tensorflow import keras\n",
    "import numpy as np"
   ]
  },
  {
   "cell_type": "code",
   "execution_count": 24,
   "metadata": {
    "tags": []
   },
   "outputs": [
    {
     "output_type": "stream",
     "name": "stdout",
     "text": "이미지 디렉토리 경로:  /home/aiffel0042/aiffel/rock_scissor_paper/rcp_all/scissor_all\nscissor_all 이미지 resize 완료!\n이미지 디렉토리 경로:  /home/aiffel0042/aiffel/rock_scissor_paper/rcp_all/rock_all\nrock_all 이미지 resize 완료!\n이미지 디렉토리 경로:  /home/aiffel0042/aiffel/rock_scissor_paper/rcp_all/paper_all\npaper_all 이미지 resize 완료!\n이미지 디렉토리 경로:  /home/aiffel0042/aiffel/rock_scissor_paper/rcp_all/scissor_test\nscissor_test 이미지 resize 완료!\n이미지 디렉토리 경로:  /home/aiffel0042/aiffel/rock_scissor_paper/rcp_all/rock_test\nrock_test 이미지 resize 완료!\n이미지 디렉토리 경로:  /home/aiffel0042/aiffel/rock_scissor_paper/rcp_all/paper_test\npaper_test 이미지 resize 완료!\n"
    }
   ],
   "source": [
    "\n",
    "def convertImageSize(name):\n",
    "    image_dir_path = os.getenv(\"HOME\") + \"/aiffel/rock_scissor_paper/rcp_all/\"+name\n",
    "    print(\"이미지 디렉토리 경로: \", image_dir_path)\n",
    "\n",
    "    images=glob.glob(image_dir_path + \"/*.jpg\")  \n",
    "\n",
    "    img_size = 28\n",
    "    # 파일마다 모두 28x28 사이즈로 바꾸어 저장합니다.\n",
    "    target_size=(img_size,img_size)\n",
    "    for img in images:\n",
    "        old_img=Image.open(img)\n",
    "        new_img=old_img.resize(target_size,Image.ANTIALIAS)\n",
    "        new_img.save(img,\"JPEG\")\n",
    "\n",
    "    print(\"{} 이미지 resize 완료!\".format(name))\n",
    "\n",
    "dirs = ['scissor_all','rock_all','paper_all','scissor_test','rock_test','paper_test']\n",
    "for c in dirs:\n",
    "    convertImageSize(c)"
   ]
  },
  {
   "cell_type": "markdown",
   "metadata": {},
   "source": [
    "## 데이터 전부 불러오고, ~~train/test 데이터 분리~~\n",
    "[데이터 분리 참조](https://rfriend.tistory.com/519)\n",
    "\n",
    "앞서 언급한대로, 분리는 진행하지 않고, 별도의 test 데이터( 슬랙에 올라온 다른 분의 데이터) 를 사용한다."
   ]
  },
  {
   "cell_type": "code",
   "execution_count": 25,
   "metadata": {
    "tags": []
   },
   "outputs": [
    {
     "output_type": "stream",
     "name": "stdout",
     "text": "all 이미지 개수는 6300 입니다.\nx_train shape: (6300, 28, 28, 3)\ny_train shape: (6300,)\ntest 이미지 개수는 300 입니다.\nx_test shape: (300, 28, 28, 3)\ny_test shape: (300,)\n"
    }
   ],
   "source": [
    "def load_data(isTest,img_path):\n",
    "    # 가위 : 0, 바위 : 1, 보 : 2\n",
    "    number_of_data=2100*3   # 데이터는 2100개씩 있음\n",
    "    if(isTest):\n",
    "        number_of_data= 100 * 3\n",
    "    img_size=28\n",
    "    color=3\n",
    "    #이미지 데이터와 라벨(가위 : 0, 바위 : 1, 보 : 2) 데이터를 담을 행렬(matrix) 영역을 생성합니다.\n",
    "    imgs=np.zeros(number_of_data*img_size*img_size*color,dtype=np.int32).reshape(number_of_data,img_size,img_size,color)\n",
    "    labels=np.zeros(number_of_data,dtype=np.int32)\n",
    "\n",
    "    idx=0\n",
    "    suffix = 'all'\n",
    "    if(isTest):\n",
    "        suffix = 'test'\n",
    "        \n",
    "    for file in glob.iglob(img_path+'/scissor_{}/*.jpg'.format(suffix)):\n",
    "        img = np.array(Image.open(file),dtype=np.int32)\n",
    "        imgs[idx,:,:,:]=img    # 데이터 영역에 이미지 행렬을 복사\n",
    "        labels[idx]=0   # 가위 : 0\n",
    "        idx=idx+1\n",
    "\n",
    "    for file in glob.iglob(img_path+'/rock_{}/*.jpg'.format(suffix)):\n",
    "        img = np.array(Image.open(file),dtype=np.int32)\n",
    "        imgs[idx,:,:,:]=img    # 데이터 영역에 이미지 행렬을 복사\n",
    "        labels[idx]=1   # 바위 : 1\n",
    "        idx=idx+1       \n",
    "    \n",
    "    for file in glob.iglob(img_path+'/paper_{}/*.jpg'.format(suffix)):\n",
    "        img = np.array(Image.open(file),dtype=np.int32)\n",
    "        imgs[idx,:,:,:]=img    # 데이터 영역에 이미지 행렬을 복사\n",
    "        labels[idx]=2   # 보 : 2\n",
    "        idx=idx+1\n",
    "        \n",
    "    print(\"{} 이미지 개수는\".format(suffix),idx,\"입니다.\")\n",
    "    return imgs, labels\n",
    "\n",
    "image_dir_path = os.getenv(\"HOME\") + \"/aiffel/rock_scissor_paper/rcp_all/\"\n",
    "(x_train, y_train)=load_data(False,image_dir_path)\n",
    "\n",
    "x_train_norm = x_train/255.0   # 입력은 0~1 사이의 값으로 정규화\n",
    "\n",
    "print(\"x_train shape: {}\".format(x_train.shape))\n",
    "print(\"y_train shape: {}\".format(y_train.shape))\n",
    "\n",
    "(x_test, y_test)=load_data(True,image_dir_path)\n",
    "\n",
    "x_test_norm = x_test/255.0   # 입력은 0~1 사이의 값으로 정규화\n",
    "\n",
    "print(\"x_test shape: {}\".format(x_test.shape))\n",
    "print(\"y_test shape: {}\".format(y_test.shape))\n",
    "\n",
    "\n",
    "## train,test 구분하여 사용할 때 사용하였음\n",
    "# from sklearn.model_selection import train_test_split\n",
    "\n",
    "# x_train, x_test, y_train, y_test = train_test_split(x_whole,y_whole, test_size=0.1, shuffle=True, random_state=500)\n",
    "# print(\"x_train shape: {}\".format(x_train.shape))\n",
    "# print(\"x_test shape: {}\".format(x_test.shape))\n",
    "# print(\"y_train shape: {}\".format(y_train.shape))\n",
    "# print(\"y_test shape: {}\".format(y_test.shape))\n",
    "# x_train_norm = x_train/255.0   # 입력은 0~1 사이의 값으로 정규화\n",
    "# x_test_norm = x_test/255.0   # 입력은 0~1 사이의 값으로 정규화\n"
   ]
  },
  {
   "cell_type": "markdown",
   "metadata": {},
   "source": [
    "# 이미지 살펴보기"
   ]
  },
  {
   "cell_type": "code",
   "execution_count": 26,
   "metadata": {
    "tags": []
   },
   "outputs": [
    {
     "output_type": "stream",
     "name": "stdout",
     "text": "라벨:  2\n"
    },
    {
     "output_type": "display_data",
     "data": {
      "text/plain": "<Figure size 432x288 with 1 Axes>",
      "image/svg+xml": "<?xml version=\"1.0\" encoding=\"utf-8\" standalone=\"no\"?>\n<!DOCTYPE svg PUBLIC \"-//W3C//DTD SVG 1.1//EN\"\n  \"http://www.w3.org/Graphics/SVG/1.1/DTD/svg11.dtd\">\n<!-- Created with matplotlib (https://matplotlib.org/) -->\n<svg height=\"248.518125pt\" version=\"1.1\" viewBox=\"0 0 251.565 248.518125\" width=\"251.565pt\" xmlns=\"http://www.w3.org/2000/svg\" xmlns:xlink=\"http://www.w3.org/1999/xlink\">\n <defs>\n  <style type=\"text/css\">\n*{stroke-linecap:butt;stroke-linejoin:round;}\n  </style>\n </defs>\n <g id=\"figure_1\">\n  <g id=\"patch_1\">\n   <path d=\"M 0 248.518125 \nL 251.565 248.518125 \nL 251.565 0 \nL 0 0 \nz\n\" style=\"fill:none;\"/>\n  </g>\n  <g id=\"axes_1\">\n   <g id=\"patch_2\">\n    <path d=\"M 26.925 224.64 \nL 244.365 224.64 \nL 244.365 7.2 \nL 26.925 7.2 \nz\n\" style=\"fill:#ffffff;\"/>\n   </g>\n   <g clip-path=\"url(#p1630509aa7)\">\n    <image height=\"218\" id=\"image7121cd37c3\" transform=\"scale(1 -1)translate(0 -218)\" width=\"218\" x=\"26.925\" xlink:href=\"data:image/png;base64,\niVBORw0KGgoAAAANSUhEUgAAANoAAADaCAYAAADAHVzbAAAABHNCSVQICAgIfAhkiAAADUVJREFUeJzt3UlvHNcVxfFb1dUD2aRIStFoeYhtyEOmRYJMnyxIPlfgZJ3EWQTOaCM2Ensh26IkSuIgdbPZQ1UWyfadY7jCiwT4/7ZXr3pgHxVQF/e96uc/+0UXPXRVuVZVohgR7oXd+j42m42s1+a1K/PmBzEo1kbNUK4d1uW1ERHLiwtZPz8/l/Xu8ZfF2mii31sz0vXR9pas33jpZrH28jdfk2v3r1+T9arR39svf/VrWW/Fj3mjfugR0cpqRG3qAP4LCBqQgKABCQgakICgAQkIGpCAoAEJmr5Z0/0k0wezbbLL66O5Ll5lvpe61u+tFu/d9QfbVndl1uu1rC+XS1mfDMqvP51O9Wu3uv/oenjjcbnPdvfuK3LtYr2S9b98+DdZ78zftBV/M9NGi2jd7wHApSNoQAKCBiQgaEACggYkIGhAAoIGJGh8g6CHnjNdbr2faCura9Mnq1z963821yfbrF2vaibrs9lzWd8WtdWF7sFFo7+X3d1dWT84OCjWXH/x4eMjWf/kH5/K+nhLffKIPr8nhzsakICgAQkIGpCAoAEJCBqQgKABCXqPyfiNtr4+9/i/E4+Dq86NwZixBvOoeWBHeMqP6N3nWq/1I/blQm83t5zrUZV2VK6dnZzItdO9K7J+59ZtWd/fu1qsHT58LNd+9tlnsv7ixVzWh1t6BEh2uswYjBvp4o4GJCBoQAKCBiQgaEACggYkIGhAAoIGJGhWK72FV9M0pl4+xqerdI/NjYu4ump1VWYMZjwSzaSIWMxeyHptvpf9aXlc5OJ8Idc+fXYo6y9Oz2R9bN7b6qLcb2pGY7nWbWU3n+te1mBQPlrpk48+lmufHB/L+vUb5SOhIiJWpn8pO2EDMzZlrs0dDUhA0IAEBA1IQNCABAQNSEDQgAQEDUjQjEw/SfU9IiJUu6qr9Fp/fJHedk3NjDVmu7hqo48+2hrq76Uz68+ePS3Wzp/rPtjGHH00NLN2nemNri7K82y2t7nUf9MnT57J+oMHD4q109NT/dqt/tx1rd9bbPTvqTO/mT64owEJCBqQgKABCQgakICgAQkIGpCAoAEJmsYcw2OjqHphpt9Tm63y3EzZQByzU5vNEzdmrmrLzGW1G3191RNyfbSB6Rc1ZjZqs9I9vu3t8vFF9VDPsp2ba5+d6c92dFTuL87NfpWDrS1ZHw4nsr7u9Bxg1fW475jfMnc0IAFBAxIQNCABQQMSEDQgAUEDEhA0IEHTil5URESYno5uo7kzyrS6c/s6ij6aPOwqYjLW82bVRs90LeYzWV/Ny/tCNuY73buyI+sHu/qMsuGwvNdmRMSgK/fCVuY7P36u97tcmHm25br8vbr5xNHI9cnM7yX0vFrb47bDvo7A/wCCBiQgaEACggYkIGhAAoIGJGjaMI9EzWNL9ZC+Ms88a/OAf2Ae9zbq8qa1MDCPgi/Mlm/dhR6z2ZuWR1Gu7ZaPdIqIeOnGLV2/c0fWr+7ty/r9w/vF2twcKTU5OZH1s4VePx6Xx4+axrRczHjQ+Vz/zQZj3R7oc9dxrSjuaEACggYkIGhAAoIGJCBoQAKCBiQgaECCxuzoZqkt49wxOo3Zb871umJTrtfmyKdnT/XxQntma7O7r7ys6zduFGu3r39Drr22uyfr26YfNGzMOEhV/m7OZnr8Z2J6gCemj7ZpyiM8z1wfrNbjP13o7ercGI7qvLqRLjeCwx0NSEDQgAQEDUhA0IAEBA1IQNCABAQNSNDUPRtpaubMH8ukZ8a6ta636/JM2Hqlt4vbFfNiERH3Xn9d1t99856s3z44KNamE90Hi1ofnRRmZuz8rHxkVITejk7Ni0VEXDX1xhyHdSqOZjKtzxia3+rEfK+t64aJspvLVFsfRnBHA1IQNCABQQMSEDQgAUEDEhA0IAFBAxI0rWstdKa5IY5H6syRUK05vqjb6J7MWvRsWtGviYj48U9/Iuvfuaf7ZDeuXZP1i5OzYu3FabkWEbGzNZV11w6qzdzVTMycLUwfrDFzek2je4CrVfnYp/l8LtfWpk/mesLu93aZuKMBCQgakICgAQkIGpCAoAEJCBqQoNlZ67EHS8zCbEK3BlYr/Sh5MNSPc+++drdYu3OzvN1bRMSbb78l6795/31Zf/T557L+w+9+r1h794035NpW71wWtem4PDJb6Y3X5b+ZG1Vp1rq+NdGP/4/XT4q1m7tmfCj0i89Ma2JgWg9tV77viC7Wf+h7Fnc0IAFBAxIQNCABQQMSEDQgAUEDEhA0IEGzNL0H1z+QW5dt6R7d7p4+Amh7W/dVDq6Wjzfa2dmRa9977z1Zn53qLdvGnR65OHz0sFhzx1HtjExv80Jvpff0SblXFRFRieO0bty+Jde++sabsh4j3at6cHJcrJ2a73xlxmCmB/uybg4Bu1Tc0YAEBA1IQNCABAQNSEDQgAQEDUhA0IAEzc4V3ctameOPVpvyANOFmTdbbfS1z2Z6W7ZHjw+LtdptdbfU29FNzfFEk4EeGnt6XJ4J2x6Ve48REXsvvSzrtXntW3dfkvXxpLydndt+8NgcCbUy/3VPxHFZt+/qz310diLr9VD38Kq16aSJbfrsOJr5F9zRgAQEDUhA0IAEBA1IQNCABAQNSEDQgATNxsxV2RmeQXl9V+kcd2JPyK/y4qqH1651D29/xxyNZL6X+cVC1ttFuX7rxk25dmk2Vzx/Xj76KCJiYubZmmn5e//8wZdy7cMnT2X9xVJ/L5Mr5TnBnf3yfGFExMniXNafneg+2/SKvn4le2H97knc0YAEBA1IQNCABAQNSEDQgAQEDUhA0IAEzcLMZdVmL71QddMn052qiLrRc1djcX5aFSO5dmVmkzozSzeu3ExYebZq79pVufbwSO/LePilPpvN9dG298uvX5m/98HN67J++uALWVefbffagVxbmT0jJ1O9l6f7vV0m7mhAAoIGJCBoQAKCBiQgaEACggYkaGKgs1a5LbzELMtybbaqM4/Q3ZxMJbcH02u3zOcamS3hplM9ZnPvW++Ur23+f7t//76sT3b0FoG3b9+W9Udiy7iDPf2I/e1vvyvrrTlq6w9/+mOx1lyYLQDNUVy7V3Vb4+hIj/ioI8oqd36ZwR0NSEDQgAQEDUhA0IAEBA1IQNCABAQNSNBsurX8B3oLroiBOEKoCd2rGpixh5GpD+vya7fmc83M8UODgX7t86XuAQ7G5X7S8dGRXPvF48ey/qPv/0DW771T7uFFRBx98EGxdnisR3TuXOgt36qh7j/O1FjW+VyunZgRnnqtt+lzY1uq6nJQmRkc7mhAAoIGJCBoQAKCBiQgaEACggYkIGhAgmZg5rLcdnPq2Kd1a+bJZDVivda9sGVb7mWtTL9nPNSzS67HtzKzdrXow71Y6bWnM91PGu/qebRqbHpZYg7wy8eP5Nq3zPaE0wN9NNK2ODqpE/OFERELM6/Wul6Xuf5l4o4GJCBoQAKCBiQgaEACggYkIGhAAoIGJGhUHywiot3oGR/Vmxg0Zs9I09cwb02un0z0/oKuPzibzWT9ijki6K9//6h87bPncu3ugd5b8f6jQ1l/9Y3XZX0u+pPTvX259re/+72sd2bmazQu9y+XS9031V3ZiKbRvc+N+y13l3ff4Y4GJCBoQAKCBiQgaEACggYkIGhAAoIGJNCNh576zv/49aLe6v9D3KxbVZt5tFb3ZI5Pzoq1xVzPyq1Nx+jZqd6T8s8ffijrC9GvWq3053J9V7e/YSfOGbN/b1c26+so7wPqru8+l3tv3NGABAQNSEDQgAQEDUhA0IAEBA1I0PR+BN8jqvZxrHukqi9urq0f9Y63Rvry5r3NzsXWaJ1+fD/ansr6fKm3q/v4n5/K+kp8N26UpDOP92vTFtHMsUz26CT3Y3RjMmZ5D9zRgAQEDUhA0IAEBA1IQNCABAQNSEDQgARNHWbswfSjVO+hx5DLV9JnfWW2m7P9IDMmI6/d6B7dyGyV15rjsObnegxnMFSv77YIlGXbZ1O/pz6/tYiIaE2Pz87ZmOura5v3xh0NSEDQgAQEDUhA0IAEBA1IQNCABAQNSHCp283ZvkWPY5n+rTxT1vWcPVqbmS9H9uFM02W57vfazWgo65WYxavMsUuO66OpemW22avctdf6b+6O6rpM3NGABAQNSEDQgAQEDUhA0IAEBA1IQNCABE3fXlfdY1/IPmudynyuZqhbiO5YJ6duyr0qN0+2WunXHgz0npSj0VjWN6vy6/ftNblelmqFVZX+XJ1pfm42S1nvu4dpH9zRgAQEDUhA0IAEBA1IQNCABAQNSGDHZPo8Er3sh6l62kT/H+LGOZpGfzVufWvqfV7b7fm2Me2D2JTfm2+5mEfsZrV6Qu9e232j7timPr/Hvic6cUcDEhA0IAFBAxIQNCABQQMSEDQgAUEDEvTebu4ye2UDc/WuR3djea5HKoYTvWWb66NdrMrXd73JsTm2yVksFrI+7Mp/djcm4957tzE9vD7X7tGb7LuePhrwf4CgAQkIGpCAoAEJCBqQgKABCQgakOBfwERYhzgarKMAAAAASUVORK5CYII=\" y=\"-6.64\"/>\n   </g>\n   <g id=\"matplotlib.axis_1\">\n    <g id=\"xtick_1\">\n     <g id=\"line2d_1\">\n      <defs>\n       <path d=\"M 0 0 \nL 0 3.5 \n\" id=\"ma8815de0f2\" style=\"stroke:#000000;stroke-width:0.8;\"/>\n      </defs>\n      <g>\n       <use style=\"stroke:#000000;stroke-width:0.8;\" x=\"30.807857\" xlink:href=\"#ma8815de0f2\" y=\"224.64\"/>\n      </g>\n     </g>\n     <g id=\"text_1\">\n      <!-- 0 -->\n      <defs>\n       <path d=\"M 31.78125 66.40625 \nQ 24.171875 66.40625 20.328125 58.90625 \nQ 16.5 51.421875 16.5 36.375 \nQ 16.5 21.390625 20.328125 13.890625 \nQ 24.171875 6.390625 31.78125 6.390625 \nQ 39.453125 6.390625 43.28125 13.890625 \nQ 47.125 21.390625 47.125 36.375 \nQ 47.125 51.421875 43.28125 58.90625 \nQ 39.453125 66.40625 31.78125 66.40625 \nz\nM 31.78125 74.21875 \nQ 44.046875 74.21875 50.515625 64.515625 \nQ 56.984375 54.828125 56.984375 36.375 \nQ 56.984375 17.96875 50.515625 8.265625 \nQ 44.046875 -1.421875 31.78125 -1.421875 \nQ 19.53125 -1.421875 13.0625 8.265625 \nQ 6.59375 17.96875 6.59375 36.375 \nQ 6.59375 54.828125 13.0625 64.515625 \nQ 19.53125 74.21875 31.78125 74.21875 \nz\n\" id=\"DejaVuSans-48\"/>\n      </defs>\n      <g transform=\"translate(27.626607 239.238437)scale(0.1 -0.1)\">\n       <use xlink:href=\"#DejaVuSans-48\"/>\n      </g>\n     </g>\n    </g>\n    <g id=\"xtick_2\">\n     <g id=\"line2d_2\">\n      <g>\n       <use style=\"stroke:#000000;stroke-width:0.8;\" x=\"69.636429\" xlink:href=\"#ma8815de0f2\" y=\"224.64\"/>\n      </g>\n     </g>\n     <g id=\"text_2\">\n      <!-- 5 -->\n      <defs>\n       <path d=\"M 10.796875 72.90625 \nL 49.515625 72.90625 \nL 49.515625 64.59375 \nL 19.828125 64.59375 \nL 19.828125 46.734375 \nQ 21.96875 47.46875 24.109375 47.828125 \nQ 26.265625 48.1875 28.421875 48.1875 \nQ 40.625 48.1875 47.75 41.5 \nQ 54.890625 34.8125 54.890625 23.390625 \nQ 54.890625 11.625 47.5625 5.09375 \nQ 40.234375 -1.421875 26.90625 -1.421875 \nQ 22.3125 -1.421875 17.546875 -0.640625 \nQ 12.796875 0.140625 7.71875 1.703125 \nL 7.71875 11.625 \nQ 12.109375 9.234375 16.796875 8.0625 \nQ 21.484375 6.890625 26.703125 6.890625 \nQ 35.15625 6.890625 40.078125 11.328125 \nQ 45.015625 15.765625 45.015625 23.390625 \nQ 45.015625 31 40.078125 35.4375 \nQ 35.15625 39.890625 26.703125 39.890625 \nQ 22.75 39.890625 18.8125 39.015625 \nQ 14.890625 38.140625 10.796875 36.28125 \nz\n\" id=\"DejaVuSans-53\"/>\n      </defs>\n      <g transform=\"translate(66.455179 239.238437)scale(0.1 -0.1)\">\n       <use xlink:href=\"#DejaVuSans-53\"/>\n      </g>\n     </g>\n    </g>\n    <g id=\"xtick_3\">\n     <g id=\"line2d_3\">\n      <g>\n       <use style=\"stroke:#000000;stroke-width:0.8;\" x=\"108.465\" xlink:href=\"#ma8815de0f2\" y=\"224.64\"/>\n      </g>\n     </g>\n     <g id=\"text_3\">\n      <!-- 10 -->\n      <defs>\n       <path d=\"M 12.40625 8.296875 \nL 28.515625 8.296875 \nL 28.515625 63.921875 \nL 10.984375 60.40625 \nL 10.984375 69.390625 \nL 28.421875 72.90625 \nL 38.28125 72.90625 \nL 38.28125 8.296875 \nL 54.390625 8.296875 \nL 54.390625 0 \nL 12.40625 0 \nz\n\" id=\"DejaVuSans-49\"/>\n      </defs>\n      <g transform=\"translate(102.1025 239.238437)scale(0.1 -0.1)\">\n       <use xlink:href=\"#DejaVuSans-49\"/>\n       <use x=\"63.623047\" xlink:href=\"#DejaVuSans-48\"/>\n      </g>\n     </g>\n    </g>\n    <g id=\"xtick_4\">\n     <g id=\"line2d_4\">\n      <g>\n       <use style=\"stroke:#000000;stroke-width:0.8;\" x=\"147.293571\" xlink:href=\"#ma8815de0f2\" y=\"224.64\"/>\n      </g>\n     </g>\n     <g id=\"text_4\">\n      <!-- 15 -->\n      <g transform=\"translate(140.931071 239.238437)scale(0.1 -0.1)\">\n       <use xlink:href=\"#DejaVuSans-49\"/>\n       <use x=\"63.623047\" xlink:href=\"#DejaVuSans-53\"/>\n      </g>\n     </g>\n    </g>\n    <g id=\"xtick_5\">\n     <g id=\"line2d_5\">\n      <g>\n       <use style=\"stroke:#000000;stroke-width:0.8;\" x=\"186.122143\" xlink:href=\"#ma8815de0f2\" y=\"224.64\"/>\n      </g>\n     </g>\n     <g id=\"text_5\">\n      <!-- 20 -->\n      <defs>\n       <path d=\"M 19.1875 8.296875 \nL 53.609375 8.296875 \nL 53.609375 0 \nL 7.328125 0 \nL 7.328125 8.296875 \nQ 12.9375 14.109375 22.625 23.890625 \nQ 32.328125 33.6875 34.8125 36.53125 \nQ 39.546875 41.84375 41.421875 45.53125 \nQ 43.3125 49.21875 43.3125 52.78125 \nQ 43.3125 58.59375 39.234375 62.25 \nQ 35.15625 65.921875 28.609375 65.921875 \nQ 23.96875 65.921875 18.8125 64.3125 \nQ 13.671875 62.703125 7.8125 59.421875 \nL 7.8125 69.390625 \nQ 13.765625 71.78125 18.9375 73 \nQ 24.125 74.21875 28.421875 74.21875 \nQ 39.75 74.21875 46.484375 68.546875 \nQ 53.21875 62.890625 53.21875 53.421875 \nQ 53.21875 48.921875 51.53125 44.890625 \nQ 49.859375 40.875 45.40625 35.40625 \nQ 44.1875 33.984375 37.640625 27.21875 \nQ 31.109375 20.453125 19.1875 8.296875 \nz\n\" id=\"DejaVuSans-50\"/>\n      </defs>\n      <g transform=\"translate(179.759643 239.238437)scale(0.1 -0.1)\">\n       <use xlink:href=\"#DejaVuSans-50\"/>\n       <use x=\"63.623047\" xlink:href=\"#DejaVuSans-48\"/>\n      </g>\n     </g>\n    </g>\n    <g id=\"xtick_6\">\n     <g id=\"line2d_6\">\n      <g>\n       <use style=\"stroke:#000000;stroke-width:0.8;\" x=\"224.950714\" xlink:href=\"#ma8815de0f2\" y=\"224.64\"/>\n      </g>\n     </g>\n     <g id=\"text_6\">\n      <!-- 25 -->\n      <g transform=\"translate(218.588214 239.238437)scale(0.1 -0.1)\">\n       <use xlink:href=\"#DejaVuSans-50\"/>\n       <use x=\"63.623047\" xlink:href=\"#DejaVuSans-53\"/>\n      </g>\n     </g>\n    </g>\n   </g>\n   <g id=\"matplotlib.axis_2\">\n    <g id=\"ytick_1\">\n     <g id=\"line2d_7\">\n      <defs>\n       <path d=\"M 0 0 \nL -3.5 0 \n\" id=\"m02242f4886\" style=\"stroke:#000000;stroke-width:0.8;\"/>\n      </defs>\n      <g>\n       <use style=\"stroke:#000000;stroke-width:0.8;\" x=\"26.925\" xlink:href=\"#m02242f4886\" y=\"11.082857\"/>\n      </g>\n     </g>\n     <g id=\"text_7\">\n      <!-- 0 -->\n      <g transform=\"translate(13.5625 14.882076)scale(0.1 -0.1)\">\n       <use xlink:href=\"#DejaVuSans-48\"/>\n      </g>\n     </g>\n    </g>\n    <g id=\"ytick_2\">\n     <g id=\"line2d_8\">\n      <g>\n       <use style=\"stroke:#000000;stroke-width:0.8;\" x=\"26.925\" xlink:href=\"#m02242f4886\" y=\"49.911429\"/>\n      </g>\n     </g>\n     <g id=\"text_8\">\n      <!-- 5 -->\n      <g transform=\"translate(13.5625 53.710647)scale(0.1 -0.1)\">\n       <use xlink:href=\"#DejaVuSans-53\"/>\n      </g>\n     </g>\n    </g>\n    <g id=\"ytick_3\">\n     <g id=\"line2d_9\">\n      <g>\n       <use style=\"stroke:#000000;stroke-width:0.8;\" x=\"26.925\" xlink:href=\"#m02242f4886\" y=\"88.74\"/>\n      </g>\n     </g>\n     <g id=\"text_9\">\n      <!-- 10 -->\n      <g transform=\"translate(7.2 92.539219)scale(0.1 -0.1)\">\n       <use xlink:href=\"#DejaVuSans-49\"/>\n       <use x=\"63.623047\" xlink:href=\"#DejaVuSans-48\"/>\n      </g>\n     </g>\n    </g>\n    <g id=\"ytick_4\">\n     <g id=\"line2d_10\">\n      <g>\n       <use style=\"stroke:#000000;stroke-width:0.8;\" x=\"26.925\" xlink:href=\"#m02242f4886\" y=\"127.568571\"/>\n      </g>\n     </g>\n     <g id=\"text_10\">\n      <!-- 15 -->\n      <g transform=\"translate(7.2 131.36779)scale(0.1 -0.1)\">\n       <use xlink:href=\"#DejaVuSans-49\"/>\n       <use x=\"63.623047\" xlink:href=\"#DejaVuSans-53\"/>\n      </g>\n     </g>\n    </g>\n    <g id=\"ytick_5\">\n     <g id=\"line2d_11\">\n      <g>\n       <use style=\"stroke:#000000;stroke-width:0.8;\" x=\"26.925\" xlink:href=\"#m02242f4886\" y=\"166.397143\"/>\n      </g>\n     </g>\n     <g id=\"text_11\">\n      <!-- 20 -->\n      <g transform=\"translate(7.2 170.196362)scale(0.1 -0.1)\">\n       <use xlink:href=\"#DejaVuSans-50\"/>\n       <use x=\"63.623047\" xlink:href=\"#DejaVuSans-48\"/>\n      </g>\n     </g>\n    </g>\n    <g id=\"ytick_6\">\n     <g id=\"line2d_12\">\n      <g>\n       <use style=\"stroke:#000000;stroke-width:0.8;\" x=\"26.925\" xlink:href=\"#m02242f4886\" y=\"205.225714\"/>\n      </g>\n     </g>\n     <g id=\"text_12\">\n      <!-- 25 -->\n      <g transform=\"translate(7.2 209.024933)scale(0.1 -0.1)\">\n       <use xlink:href=\"#DejaVuSans-50\"/>\n       <use x=\"63.623047\" xlink:href=\"#DejaVuSans-53\"/>\n      </g>\n     </g>\n    </g>\n   </g>\n   <g id=\"patch_3\">\n    <path d=\"M 26.925 224.64 \nL 26.925 7.2 \n\" style=\"fill:none;stroke:#000000;stroke-linecap:square;stroke-linejoin:miter;stroke-width:0.8;\"/>\n   </g>\n   <g id=\"patch_4\">\n    <path d=\"M 244.365 224.64 \nL 244.365 7.2 \n\" style=\"fill:none;stroke:#000000;stroke-linecap:square;stroke-linejoin:miter;stroke-width:0.8;\"/>\n   </g>\n   <g id=\"patch_5\">\n    <path d=\"M 26.925 224.64 \nL 244.365 224.64 \n\" style=\"fill:none;stroke:#000000;stroke-linecap:square;stroke-linejoin:miter;stroke-width:0.8;\"/>\n   </g>\n   <g id=\"patch_6\">\n    <path d=\"M 26.925 7.2 \nL 244.365 7.2 \n\" style=\"fill:none;stroke:#000000;stroke-linecap:square;stroke-linejoin:miter;stroke-width:0.8;\"/>\n   </g>\n  </g>\n </g>\n <defs>\n  <clipPath id=\"p1630509aa7\">\n   <rect height=\"217.44\" width=\"217.44\" x=\"26.925\" y=\"7.2\"/>\n  </clipPath>\n </defs>\n</svg>\n",
      "image/png": "[encoded data removed]"
     },
     "metadata": {
      "needs_background": "light"
     }
    }
   ],
   "source": [
    "import matplotlib.pyplot as plt\n",
    "# plt.imshow(x_train[601])\n",
    "# print('라벨: ', y_train[601])\n",
    "plt.imshow(x_test[201])\n",
    "print('라벨: ', y_test[201])\n"
   ]
  },
  {
   "cell_type": "markdown",
   "metadata": {},
   "source": [
    "# 딥러닝 네트워크 설계하기"
   ]
  },
  {
   "cell_type": "code",
   "execution_count": 27,
   "metadata": {
    "tags": []
   },
   "outputs": [
    {
     "output_type": "stream",
     "name": "stdout",
     "text": "Model에 추가된 Layer 개수:  7\nModel: \"sequential_24\"\n_________________________________________________________________\nLayer (type)                 Output Shape              Param #   \n=================================================================\nconv2d_48 (Conv2D)           (None, 26, 26, 32)        896       \n_________________________________________________________________\nmax_pooling2d_48 (MaxPooling (None, 13, 13, 32)        0         \n_________________________________________________________________\nconv2d_49 (Conv2D)           (None, 11, 11, 64)        18496     \n_________________________________________________________________\nmax_pooling2d_49 (MaxPooling (None, 5, 5, 64)          0         \n_________________________________________________________________\nflatten_24 (Flatten)         (None, 1600)              0         \n_________________________________________________________________\ndense_48 (Dense)             (None, 64)                102464    \n_________________________________________________________________\ndense_49 (Dense)             (None, 3)                 195       \n=================================================================\nTotal params: 122,051\nTrainable params: 122,051\nNon-trainable params: 0\n_________________________________________________________________\n"
    }
   ],
   "source": [
    "n_channel_1=32\n",
    "n_channel_2=64\n",
    "n_dense=64\n",
    "n_train_epoch=20\n",
    "\n",
    "n_image_channel = 3\n",
    "n_classes = 3\n",
    "\n",
    "model=keras.models.Sequential()\n",
    "model.add(keras.layers.Conv2D(n_channel_1, (3,3), activation='relu', input_shape=(28,28,n_image_channel)))\n",
    "model.add(keras.layers.MaxPool2D(2,2))\n",
    "model.add(keras.layers.Conv2D(n_channel_2, (3,3), activation='relu'))\n",
    "model.add(keras.layers.MaxPooling2D((2,2)))\n",
    "model.add(keras.layers.Flatten())\n",
    "model.add(keras.layers.Dense(n_dense, activation='relu'))\n",
    "model.add(keras.layers.Dense(n_classes, activation='softmax'))\n",
    "print('Model에 추가된 Layer 개수: ', len(model.layers))\n",
    "\n",
    "\n",
    "model.summary()"
   ]
  },
  {
   "cell_type": "markdown",
   "metadata": {},
   "source": [
    "# 딥러닝 네트워크 학습시키기"
   ]
  },
  {
   "cell_type": "code",
   "execution_count": 28,
   "metadata": {
    "tags": []
   },
   "outputs": [
    {
     "output_type": "stream",
     "name": "stdout",
     "text": "Epoch 1/20\n197/197 [==============================] - 0s 1ms/step - loss: 0.7600 - accuracy: 0.6586\nEpoch 2/20\n197/197 [==============================] - 0s 1ms/step - loss: 0.3378 - accuracy: 0.8760\nEpoch 3/20\n197/197 [==============================] - 0s 1ms/step - loss: 0.1915 - accuracy: 0.9341\nEpoch 4/20\n197/197 [==============================] - 0s 1ms/step - loss: 0.1048 - accuracy: 0.9694\nEpoch 5/20\n197/197 [==============================] - 0s 1ms/step - loss: 0.0598 - accuracy: 0.9840\nEpoch 6/20\n197/197 [==============================] - 0s 1ms/step - loss: 0.0473 - accuracy: 0.9871\nEpoch 7/20\n197/197 [==============================] - 0s 1ms/step - loss: 0.0325 - accuracy: 0.9916\nEpoch 8/20\n197/197 [==============================] - 0s 1ms/step - loss: 0.0189 - accuracy: 0.9962\nEpoch 9/20\n197/197 [==============================] - 0s 1ms/step - loss: 0.0134 - accuracy: 0.9975\nEpoch 10/20\n197/197 [==============================] - 0s 1ms/step - loss: 0.0098 - accuracy: 0.9984\nEpoch 11/20\n197/197 [==============================] - 0s 1ms/step - loss: 0.0101 - accuracy: 0.9971\nEpoch 12/20\n197/197 [==============================] - 0s 1ms/step - loss: 0.0092 - accuracy: 0.9981\nEpoch 13/20\n197/197 [==============================] - 0s 1ms/step - loss: 0.0052 - accuracy: 0.9990\nEpoch 14/20\n197/197 [==============================] - 0s 1ms/step - loss: 0.0024 - accuracy: 0.9997\nEpoch 15/20\n197/197 [==============================] - 0s 1ms/step - loss: 0.0049 - accuracy: 0.9994\nEpoch 16/20\n197/197 [==============================] - 0s 1ms/step - loss: 0.0318 - accuracy: 0.9900\nEpoch 17/20\n197/197 [==============================] - 0s 1ms/step - loss: 0.0217 - accuracy: 0.9938\nEpoch 18/20\n197/197 [==============================] - 0s 1ms/step - loss: 0.0039 - accuracy: 0.9997\nEpoch 19/20\n197/197 [==============================] - 0s 1ms/step - loss: 9.0833e-04 - accuracy: 1.0000\nEpoch 20/20\n197/197 [==============================] - 0s 1ms/step - loss: 4.8791e-04 - accuracy: 1.0000\n"
    },
    {
     "output_type": "execute_result",
     "data": {
      "text/plain": "<tensorflow.python.keras.callbacks.History at 0x7f38e822b450>"
     },
     "metadata": {},
     "execution_count": 28
    }
   ],
   "source": [
    "# 모델 훈련\n",
    "model.compile(optimizer='adam',\n",
    "             loss='sparse_categorical_crossentropy',\n",
    "             metrics=['accuracy'])\n",
    "\n",
    "model.fit(x_train_norm, y_train, epochs=n_train_epoch)"
   ]
  },
  {
   "cell_type": "markdown",
   "metadata": {},
   "source": [
    "# 테스트\n",
    "테스트 데이터는 이미 만들어져 있음"
   ]
  },
  {
   "cell_type": "code",
   "execution_count": 29,
   "metadata": {
    "tags": []
   },
   "outputs": [
    {
     "output_type": "stream",
     "name": "stdout",
     "text": "x_test shape: (300, 28, 28, 3)\ny_test shape: (300,)\n"
    }
   ],
   "source": [
    "print(\"x_test shape: {}\".format(x_test.shape))\n",
    "print(\"y_test shape: {}\".format(y_test.shape))"
   ]
  },
  {
   "cell_type": "markdown",
   "metadata": {},
   "source": [
    "## loss, accuracy 측정"
   ]
  },
  {
   "cell_type": "code",
   "execution_count": 32,
   "metadata": {
    "tags": []
   },
   "outputs": [
    {
     "output_type": "stream",
     "name": "stdout",
     "text": "10/10 - 0s - loss: 1.4166 - accuracy: 0.7633\ntest_loss: 1.4165854454040527 \ntest_accuracy: 0.7633333206176758\nmodel.predict() 결과 :  [2.5858601e-05 9.8492265e-01 1.5051498e-02]\nmodel이 추론한 가장 가능성이 높은 결과 :  1\n실제 데이터의 라벨 :  0\n"
    }
   ],
   "source": [
    "\n",
    "test_loss, test_accuracy = model.evaluate(x_test_norm,y_test, verbose=2)\n",
    "print(\"test_loss: {} \".format(test_loss))\n",
    "print(\"test_accuracy: {}\".format(test_accuracy))\n",
    "\n",
    "predicted_result = model.predict(x_test_norm)  # model이 추론한 확률값. \n",
    "predicted_labels = np.argmax(predicted_result, axis=1)\n",
    "\n",
    "idx=3  #4번째 x_test를 살펴보자. \n",
    "print('model.predict() 결과 : ', predicted_result[idx])\n",
    "print('model이 추론한 가장 가능성이 높은 결과 : ', predicted_labels[idx])\n",
    "print('실제 데이터의 라벨 : ', y_test[idx])"
   ]
  },
  {
   "cell_type": "markdown",
   "metadata": {},
   "source": [
    "# 더 좋은 네트워크 만들어보기"
   ]
  },
  {
   "cell_type": "code",
   "execution_count": 33,
   "metadata": {
    "tags": []
   },
   "outputs": [
    {
     "output_type": "stream",
     "name": "stdout",
     "text": "Model에 추가된 Layer 개수:  8\nModel: \"sequential_25\"\n_________________________________________________________________\nLayer (type)                 Output Shape              Param #   \n=================================================================\nconv2d_50 (Conv2D)           (None, 26, 26, 64)        1792      \n_________________________________________________________________\nmax_pooling2d_50 (MaxPooling (None, 13, 13, 64)        0         \n_________________________________________________________________\nconv2d_51 (Conv2D)           (None, 11, 11, 128)       73856     \n_________________________________________________________________\nmax_pooling2d_51 (MaxPooling (None, 5, 5, 128)         0         \n_________________________________________________________________\ndropout_5 (Dropout)          (None, 5, 5, 128)         0         \n_________________________________________________________________\nflatten_25 (Flatten)         (None, 3200)              0         \n_________________________________________________________________\ndense_50 (Dense)             (None, 128)               409728    \n_________________________________________________________________\ndense_51 (Dense)             (None, 3)                 387       \n=================================================================\nTotal params: 485,763\nTrainable params: 485,763\nNon-trainable params: 0\n_________________________________________________________________\nEpoch 1/20\n197/197 [==============================] - 0s 2ms/step - loss: 0.7698 - accuracy: 0.6324\nEpoch 2/20\n197/197 [==============================] - 0s 2ms/step - loss: 0.3841 - accuracy: 0.8478\nEpoch 3/20\n197/197 [==============================] - 0s 2ms/step - loss: 0.2357 - accuracy: 0.9113\nEpoch 4/20\n197/197 [==============================] - 0s 2ms/step - loss: 0.1584 - accuracy: 0.9425\nEpoch 5/20\n197/197 [==============================] - 0s 2ms/step - loss: 0.1083 - accuracy: 0.9624\nEpoch 6/20\n197/197 [==============================] - 0s 2ms/step - loss: 0.0726 - accuracy: 0.9759\nEpoch 7/20\n197/197 [==============================] - 0s 2ms/step - loss: 0.0651 - accuracy: 0.9789\nEpoch 8/20\n197/197 [==============================] - 0s 2ms/step - loss: 0.0515 - accuracy: 0.9838\nEpoch 9/20\n197/197 [==============================] - 0s 2ms/step - loss: 0.0370 - accuracy: 0.9883\nEpoch 10/20\n197/197 [==============================] - 0s 2ms/step - loss: 0.0340 - accuracy: 0.9879\nEpoch 11/20\n197/197 [==============================] - 0s 2ms/step - loss: 0.0309 - accuracy: 0.9900\nEpoch 12/20\n197/197 [==============================] - 0s 2ms/step - loss: 0.0188 - accuracy: 0.9951\nEpoch 13/20\n197/197 [==============================] - 0s 2ms/step - loss: 0.0302 - accuracy: 0.9887\nEpoch 14/20\n197/197 [==============================] - 0s 2ms/step - loss: 0.0270 - accuracy: 0.9919\nEpoch 15/20\n197/197 [==============================] - 0s 2ms/step - loss: 0.0177 - accuracy: 0.9935\nEpoch 16/20\n197/197 [==============================] - 0s 2ms/step - loss: 0.0227 - accuracy: 0.9925\nEpoch 17/20\n197/197 [==============================] - 0s 2ms/step - loss: 0.0186 - accuracy: 0.9932\nEpoch 18/20\n197/197 [==============================] - 0s 2ms/step - loss: 0.0245 - accuracy: 0.9906\nEpoch 19/20\n197/197 [==============================] - 0s 2ms/step - loss: 0.0190 - accuracy: 0.9937\nEpoch 20/20\n197/197 [==============================] - 0s 2ms/step - loss: 0.0160 - accuracy: 0.9956\n10/10 - 0s - loss: 0.8455 - accuracy: 0.7667\n===================== result ================== \nn_channel_1: 64\nn_channel_2: 128\nn_dense: 128\nn_train_epoch: 20\ntest_loss: 0.8454890847206116 \ntest_accuracy: 0.7666666507720947\n"
    }
   ],
   "source": [
    "n_channel_1= 64\n",
    "n_channel_2= 128\n",
    "n_dense= 128\n",
    "n_train_epoch= 20\n",
    "\n",
    "n_image_channel = 3\n",
    "n_classes = 3\n",
    "# 모델 설계\n",
    "model=keras.models.Sequential()\n",
    "model.add(keras.layers.Conv2D(n_channel_1, (3,3), activation='relu', input_shape=(28,28,n_image_channel)))\n",
    "model.add(keras.layers.MaxPool2D(2,2))\n",
    "model.add(keras.layers.Conv2D(n_channel_2, (3,3), activation='relu'))\n",
    "model.add(keras.layers.MaxPooling2D((2,2)))\n",
    "model.add(keras.layers.Dropout(0.5))\n",
    "model.add(keras.layers.Flatten())\n",
    "model.add(keras.layers.Dense(n_dense, activation='relu'))\n",
    "model.add(keras.layers.Dense(n_classes, activation='softmax'))\n",
    "print('Model에 추가된 Layer 개수: ', len(model.layers))\n",
    "\n",
    "model.summary()\n",
    "\n",
    "# 모델 훈련\n",
    "model.compile(optimizer='adam',\n",
    "            loss='sparse_categorical_crossentropy',\n",
    "            metrics=['accuracy'])\n",
    "\n",
    "model.fit(x_train_norm, y_train, epochs=n_train_epoch)\n",
    "\n",
    "# 모델 테스트\n",
    "test_loss, test_accuracy = model.evaluate(x_test_norm,y_test, verbose=2)\n",
    "print(\"===================== result ================== \")\n",
    "print(\"n_channel_1: {}\".format(n_channel_1))\n",
    "print(\"n_channel_2: {}\".format(n_channel_2))\n",
    "print(\"n_dense: {}\".format(n_dense))\n",
    "print(\"n_train_epoch: {}\".format(n_train_epoch))\n",
    "\n",
    "print(\"test_loss: {} \".format(test_loss))\n",
    "print(\"test_accuracy: {}\".format(test_accuracy))\n",
    "\n",
    "\n",
    "# predicted_result = model.predict(x_test_norm)  # model이 추론한 확률값. \n",
    "# predicted_labels = np.argmax(predicted_result, axis=1)\n",
    "\n",
    "# idx=3  #4번째 x_test를 살펴보자. \n",
    "# print('model.predict() 결과 : ', predicted_result[idx])\n",
    "# print('model이 추론한 가장 가능성이 높은 결과 : ', predicted_labels[idx])\n",
    "# print('실제 데이터의 라벨 : ', y_test[idx])"
   ]
  },
  {
   "cell_type": "markdown",
   "metadata": {},
   "source": [
    "# 가장 높은 정확도 결과\n",
    "\n",
    "n_channel_1: 64\n",
    "n_channel_2: 128\n",
    "n_dense: 128\n",
    "n_train_epoch: 20\n",
    "test_loss: 0.8454890847206116 \n",
    "test_accuracy: 0.7666666507720947"
   ]
  }
 ],
 "metadata": {
  "kernelspec": {
   "display_name": "aiffel",
   "language": "python",
   "name": "aiffel"
  },
  "language_info": {
   "codemirror_mode": {
    "name": "ipython",
    "version": 3
   },
   "file_extension": ".py",
   "mimetype": "text/x-python",
   "name": "python",
   "nbconvert_exporter": "python",
   "pygments_lexer": "ipython3",
   "version": "3.7.6-final"
  }
 },
 "nbformat": 4,
 "nbformat_minor": 4
}