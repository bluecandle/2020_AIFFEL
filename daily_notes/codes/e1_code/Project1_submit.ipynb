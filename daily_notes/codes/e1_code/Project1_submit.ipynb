{
 "cells": [
  {
   "cell_type": "markdown",
   "metadata": {},
   "source": [
    "# 데이터 준비하기"
   ]
  },
  {
   "cell_type": "code",
   "execution_count": 2,
   "metadata": {
    "tags": []
   },
   "outputs": [
    {
     "output_type": "stream",
     "name": "stdout",
     "text": "Requirement already satisfied: pillow in /home/aiffel0042/anaconda3/lib/python3.7/site-packages (7.0.0)\n"
    }
   ],
   "source": [
    "# PIL 라이브러리가 설치되어 있지 않다면 설치\n",
    "!pip install pillow   \n",
    "\n",
    "# 필요한 라이브러리 가져오기\n",
    "from PIL import Image\n",
    "import os, glob\n",
    "import matplotlib.pyplot as plt\n",
    "import tensorflow as tf\n",
    "from tensorflow import keras\n",
    "import numpy as np"
   ]
  },
  {
   "cell_type": "markdown",
   "metadata": {},
   "source": [
    "# 가위, 바위, 보 파일 크기 변환\n",
    "\n",
    "5조에서 모인 모든 데이터를 사용하기로 함.\n",
    "모든 데이터를 train, test set 으로 나누어서 사용."
   ]
  },
  {
   "cell_type": "code",
   "execution_count": 22,
   "metadata": {
    "tags": []
   },
   "outputs": [
    {
     "output_type": "stream",
     "name": "stdout",
     "text": "이미지 디렉토리 경로:  /home/aiffel0042/aiffel/rock_scissor_paper/rcp_all/scissor_all\nscissor_all 이미지 resize 완료!\n이미지 디렉토리 경로:  /home/aiffel0042/aiffel/rock_scissor_paper/rcp_all/rock_all\nrock_all 이미지 resize 완료!\n이미지 디렉토리 경로:  /home/aiffel0042/aiffel/rock_scissor_paper/rcp_all/paper_all\npaper_all 이미지 resize 완료!\n"
    }
   ],
   "source": [
    "\n",
    "\n",
    "def convertImageSize(name):\n",
    "    image_dir_path = os.getenv(\"HOME\") + \"/aiffel/rock_scissor_paper/rcp_all/\"+name\n",
    "    print(\"이미지 디렉토리 경로: \", image_dir_path)\n",
    "\n",
    "    images=glob.glob(image_dir_path + \"/*.jpg\")  \n",
    "\n",
    "    img_size = 28\n",
    "    # 파일마다 모두 28x28 사이즈로 바꾸어 저장합니다.\n",
    "    target_size=(img_size,img_size)\n",
    "    for img in images:\n",
    "        old_img=Image.open(img)\n",
    "        new_img=old_img.resize(target_size,Image.ANTIALIAS)\n",
    "        new_img.save(img,\"JPEG\")\n",
    "\n",
    "    print(\"{} 이미지 resize 완료!\".format(name))\n",
    "\n",
    "classes_train = ['scissor_all','rock_all','paper_all']\n",
    "for c in classes_train:\n",
    "    convertImageSize(c)"
   ]
  },
  {
   "cell_type": "markdown",
   "metadata": {},
   "source": [
    "## 데이터 전부 불러오고, train/test 데이터 분리"
   ]
  },
  {
   "cell_type": "code",
   "execution_count": 26,
   "metadata": {
    "tags": []
   },
   "outputs": [
    {
     "output_type": "error",
     "ename": "SyntaxError",
     "evalue": "invalid syntax (<ipython-input-26-b053d1a7e755>, line 42)",
     "traceback": [
      "\u001b[0;36m  File \u001b[0;32m\"<ipython-input-26-b053d1a7e755>\"\u001b[0;36m, line \u001b[0;32m42\u001b[0m\n\u001b[0;31m    x_train, x_test, y_train, y_test = train_test_split(x_whole,y_whole test_size=0.2, shuffle=True, random_state=1000)\u001b[0m\n\u001b[0m                                                                                ^\u001b[0m\n\u001b[0;31mSyntaxError\u001b[0m\u001b[0;31m:\u001b[0m invalid syntax\n"
     ]
    }
   ],
   "source": [
    "def load_data(img_path):\n",
    "    # 가위 : 0, 바위 : 1, 보 : 2\n",
    "    number_of_data=2100*3   # 데이터는 2100개씩 있음\n",
    "    img_size=28\n",
    "    color=3\n",
    "    #이미지 데이터와 라벨(가위 : 0, 바위 : 1, 보 : 2) 데이터를 담을 행렬(matrix) 영역을 생성합니다.\n",
    "    imgs=np.zeros(number_of_data*img_size*img_size*color,dtype=np.int32).reshape(number_of_data,img_size,img_size,color)\n",
    "    labels=np.zeros(number_of_data,dtype=np.int32)\n",
    "\n",
    "    idx=0\n",
    "    for file in glob.iglob(img_path+'/scissor_all/*.jpg'):\n",
    "        img = np.array(Image.open(file),dtype=np.int32)\n",
    "        imgs[idx,:,:,:]=img    # 데이터 영역에 이미지 행렬을 복사\n",
    "        labels[idx]=0   # 가위 : 0\n",
    "        idx=idx+1\n",
    "\n",
    "    for file in glob.iglob(img_path+'/rock_all/*.jpg'):\n",
    "        img = np.array(Image.open(file),dtype=np.int32)\n",
    "        imgs[idx,:,:,:]=img    # 데이터 영역에 이미지 행렬을 복사\n",
    "        labels[idx]=1   # 바위 : 1\n",
    "        idx=idx+1       \n",
    "    \n",
    "    for file in glob.iglob(img_path+'/paper_all/*.jpg'):\n",
    "        img = np.array(Image.open(file),dtype=np.int32)\n",
    "        imgs[idx,:,:,:]=img    # 데이터 영역에 이미지 행렬을 복사\n",
    "        labels[idx]=2   # 보 : 2\n",
    "        idx=idx+1\n",
    "        \n",
    "    print(\"전체(x_whole) 이미지 개수는\",idx,\"입니다.\")\n",
    "    return imgs, labels\n",
    "\n",
    "image_dir_path = os.getenv(\"HOME\") + \"/aiffel/rock_scissor_paper/rcp_all/\"\n",
    "(x_whole, y_whole)=load_data(image_dir_path)\n",
    "\n",
    "# x_whole_norm = x_whole/255.0   # 입력은 0~1 사이의 값으로 정규화\n",
    "\n",
    "print(\"x_whole shape: {}\".format(x_whole.shape))\n",
    "print(\"y_whole shape: {}\".format(y_whole.shape))\n",
    "\n",
    "from sklearn.model_selection import train_test_split\n",
    "\n",
    "x_train, x_test, y_train, y_test = train_test_split(x_whole,y_whole, test_size=0.2, shuffle=True, random_state=1000)\n",
    "print(x_train.shape)\n",
    "print(x_test.shape)\n",
    "print(y_train.shape)\n",
    "print(y_test.shape)\n"
   ]
  },
  {
   "cell_type": "markdown",
   "metadata": {},
   "source": [
    "# 이미지 살펴보기"
   ]
  },
  {
   "cell_type": "code",
   "execution_count": 24,
   "metadata": {
    "tags": []
   },
   "outputs": [
    {
     "output_type": "stream",
     "name": "stdout",
     "text": "라벨:  2\n"
    },
    {
     "output_type": "display_data",
     "data": {
      "text/plain": "<Figure size 432x288 with 1 Axes>",
      "image/svg+xml": "<?xml version=\"1.0\" encoding=\"utf-8\" standalone=\"no\"?>\n<!DOCTYPE svg PUBLIC \"-//W3C//DTD SVG 1.1//EN\"\n  \"http://www.w3.org/Graphics/SVG/1.1/DTD/svg11.dtd\">\n<!-- Created with matplotlib (https://matplotlib.org/) -->\n<svg height=\"248.518125pt\" version=\"1.1\" viewBox=\"0 0 251.565 248.518125\" width=\"251.565pt\" xmlns=\"http://www.w3.org/2000/svg\" xmlns:xlink=\"http://www.w3.org/1999/xlink\">\n <defs>\n  <style type=\"text/css\">\n*{stroke-linecap:butt;stroke-linejoin:round;}\n  </style>\n </defs>\n <g id=\"figure_1\">\n  <g id=\"patch_1\">\n   <path d=\"M 0 248.518125 \nL 251.565 248.518125 \nL 251.565 0 \nL 0 0 \nz\n\" style=\"fill:none;\"/>\n  </g>\n  <g id=\"axes_1\">\n   <g id=\"patch_2\">\n    <path d=\"M 26.925 224.64 \nL 244.365 224.64 \nL 244.365 7.2 \nL 26.925 7.2 \nz\n\" style=\"fill:#ffffff;\"/>\n   </g>\n   <g clip-path=\"url(#p7d15b56ee6)\">\n    <image height=\"218\" id=\"image3ab5fe9cf0\" transform=\"scale(1 -1)translate(0 -218)\" width=\"218\" x=\"26.925\" xlink:href=\"data:image/png;base64,\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\" y=\"-6.64\"/>\n   </g>\n   <g id=\"matplotlib.axis_1\">\n    <g id=\"xtick_1\">\n     <g id=\"line2d_1\">\n      <defs>\n       <path d=\"M 0 0 \nL 0 3.5 \n\" id=\"mc0c0a9a16a\" style=\"stroke:#000000;stroke-width:0.8;\"/>\n      </defs>\n      <g>\n       <use style=\"stroke:#000000;stroke-width:0.8;\" x=\"30.807857\" xlink:href=\"#mc0c0a9a16a\" y=\"224.64\"/>\n      </g>\n     </g>\n     <g id=\"text_1\">\n      <!-- 0 -->\n      <defs>\n       <path d=\"M 31.78125 66.40625 \nQ 24.171875 66.40625 20.328125 58.90625 \nQ 16.5 51.421875 16.5 36.375 \nQ 16.5 21.390625 20.328125 13.890625 \nQ 24.171875 6.390625 31.78125 6.390625 \nQ 39.453125 6.390625 43.28125 13.890625 \nQ 47.125 21.390625 47.125 36.375 \nQ 47.125 51.421875 43.28125 58.90625 \nQ 39.453125 66.40625 31.78125 66.40625 \nz\nM 31.78125 74.21875 \nQ 44.046875 74.21875 50.515625 64.515625 \nQ 56.984375 54.828125 56.984375 36.375 \nQ 56.984375 17.96875 50.515625 8.265625 \nQ 44.046875 -1.421875 31.78125 -1.421875 \nQ 19.53125 -1.421875 13.0625 8.265625 \nQ 6.59375 17.96875 6.59375 36.375 \nQ 6.59375 54.828125 13.0625 64.515625 \nQ 19.53125 74.21875 31.78125 74.21875 \nz\n\" id=\"DejaVuSans-48\"/>\n      </defs>\n      <g transform=\"translate(27.626607 239.238437)scale(0.1 -0.1)\">\n       <use xlink:href=\"#DejaVuSans-48\"/>\n      </g>\n     </g>\n    </g>\n    <g id=\"xtick_2\">\n     <g id=\"line2d_2\">\n      <g>\n       <use style=\"stroke:#000000;stroke-width:0.8;\" x=\"69.636429\" xlink:href=\"#mc0c0a9a16a\" y=\"224.64\"/>\n      </g>\n     </g>\n     <g id=\"text_2\">\n      <!-- 5 -->\n      <defs>\n       <path d=\"M 10.796875 72.90625 \nL 49.515625 72.90625 \nL 49.515625 64.59375 \nL 19.828125 64.59375 \nL 19.828125 46.734375 \nQ 21.96875 47.46875 24.109375 47.828125 \nQ 26.265625 48.1875 28.421875 48.1875 \nQ 40.625 48.1875 47.75 41.5 \nQ 54.890625 34.8125 54.890625 23.390625 \nQ 54.890625 11.625 47.5625 5.09375 \nQ 40.234375 -1.421875 26.90625 -1.421875 \nQ 22.3125 -1.421875 17.546875 -0.640625 \nQ 12.796875 0.140625 7.71875 1.703125 \nL 7.71875 11.625 \nQ 12.109375 9.234375 16.796875 8.0625 \nQ 21.484375 6.890625 26.703125 6.890625 \nQ 35.15625 6.890625 40.078125 11.328125 \nQ 45.015625 15.765625 45.015625 23.390625 \nQ 45.015625 31 40.078125 35.4375 \nQ 35.15625 39.890625 26.703125 39.890625 \nQ 22.75 39.890625 18.8125 39.015625 \nQ 14.890625 38.140625 10.796875 36.28125 \nz\n\" id=\"DejaVuSans-53\"/>\n      </defs>\n      <g transform=\"translate(66.455179 239.238437)scale(0.1 -0.1)\">\n       <use xlink:href=\"#DejaVuSans-53\"/>\n      </g>\n     </g>\n    </g>\n    <g id=\"xtick_3\">\n     <g id=\"line2d_3\">\n      <g>\n       <use style=\"stroke:#000000;stroke-width:0.8;\" x=\"108.465\" xlink:href=\"#mc0c0a9a16a\" y=\"224.64\"/>\n      </g>\n     </g>\n     <g id=\"text_3\">\n      <!-- 10 -->\n      <defs>\n       <path d=\"M 12.40625 8.296875 \nL 28.515625 8.296875 \nL 28.515625 63.921875 \nL 10.984375 60.40625 \nL 10.984375 69.390625 \nL 28.421875 72.90625 \nL 38.28125 72.90625 \nL 38.28125 8.296875 \nL 54.390625 8.296875 \nL 54.390625 0 \nL 12.40625 0 \nz\n\" id=\"DejaVuSans-49\"/>\n      </defs>\n      <g transform=\"translate(102.1025 239.238437)scale(0.1 -0.1)\">\n       <use xlink:href=\"#DejaVuSans-49\"/>\n       <use x=\"63.623047\" xlink:href=\"#DejaVuSans-48\"/>\n      </g>\n     </g>\n    </g>\n    <g id=\"xtick_4\">\n     <g id=\"line2d_4\">\n      <g>\n       <use style=\"stroke:#000000;stroke-width:0.8;\" x=\"147.293571\" xlink:href=\"#mc0c0a9a16a\" y=\"224.64\"/>\n      </g>\n     </g>\n     <g id=\"text_4\">\n      <!-- 15 -->\n      <g transform=\"translate(140.931071 239.238437)scale(0.1 -0.1)\">\n       <use xlink:href=\"#DejaVuSans-49\"/>\n       <use x=\"63.623047\" xlink:href=\"#DejaVuSans-53\"/>\n      </g>\n     </g>\n    </g>\n    <g id=\"xtick_5\">\n     <g id=\"line2d_5\">\n      <g>\n       <use style=\"stroke:#000000;stroke-width:0.8;\" x=\"186.122143\" xlink:href=\"#mc0c0a9a16a\" y=\"224.64\"/>\n      </g>\n     </g>\n     <g id=\"text_5\">\n      <!-- 20 -->\n      <defs>\n       <path d=\"M 19.1875 8.296875 \nL 53.609375 8.296875 \nL 53.609375 0 \nL 7.328125 0 \nL 7.328125 8.296875 \nQ 12.9375 14.109375 22.625 23.890625 \nQ 32.328125 33.6875 34.8125 36.53125 \nQ 39.546875 41.84375 41.421875 45.53125 \nQ 43.3125 49.21875 43.3125 52.78125 \nQ 43.3125 58.59375 39.234375 62.25 \nQ 35.15625 65.921875 28.609375 65.921875 \nQ 23.96875 65.921875 18.8125 64.3125 \nQ 13.671875 62.703125 7.8125 59.421875 \nL 7.8125 69.390625 \nQ 13.765625 71.78125 18.9375 73 \nQ 24.125 74.21875 28.421875 74.21875 \nQ 39.75 74.21875 46.484375 68.546875 \nQ 53.21875 62.890625 53.21875 53.421875 \nQ 53.21875 48.921875 51.53125 44.890625 \nQ 49.859375 40.875 45.40625 35.40625 \nQ 44.1875 33.984375 37.640625 27.21875 \nQ 31.109375 20.453125 19.1875 8.296875 \nz\n\" id=\"DejaVuSans-50\"/>\n      </defs>\n      <g transform=\"translate(179.759643 239.238437)scale(0.1 -0.1)\">\n       <use xlink:href=\"#DejaVuSans-50\"/>\n       <use x=\"63.623047\" xlink:href=\"#DejaVuSans-48\"/>\n      </g>\n     </g>\n    </g>\n    <g id=\"xtick_6\">\n     <g id=\"line2d_6\">\n      <g>\n       <use style=\"stroke:#000000;stroke-width:0.8;\" x=\"224.950714\" xlink:href=\"#mc0c0a9a16a\" y=\"224.64\"/>\n      </g>\n     </g>\n     <g id=\"text_6\">\n      <!-- 25 -->\n      <g transform=\"translate(218.588214 239.238437)scale(0.1 -0.1)\">\n       <use xlink:href=\"#DejaVuSans-50\"/>\n       <use x=\"63.623047\" xlink:href=\"#DejaVuSans-53\"/>\n      </g>\n     </g>\n    </g>\n   </g>\n   <g id=\"matplotlib.axis_2\">\n    <g id=\"ytick_1\">\n     <g id=\"line2d_7\">\n      <defs>\n       <path d=\"M 0 0 \nL -3.5 0 \n\" id=\"mcaafdf6a1b\" style=\"stroke:#000000;stroke-width:0.8;\"/>\n      </defs>\n      <g>\n       <use style=\"stroke:#000000;stroke-width:0.8;\" x=\"26.925\" xlink:href=\"#mcaafdf6a1b\" y=\"11.082857\"/>\n      </g>\n     </g>\n     <g id=\"text_7\">\n      <!-- 0 -->\n      <g transform=\"translate(13.5625 14.882076)scale(0.1 -0.1)\">\n       <use xlink:href=\"#DejaVuSans-48\"/>\n      </g>\n     </g>\n    </g>\n    <g id=\"ytick_2\">\n     <g id=\"line2d_8\">\n      <g>\n       <use style=\"stroke:#000000;stroke-width:0.8;\" x=\"26.925\" xlink:href=\"#mcaafdf6a1b\" y=\"49.911429\"/>\n      </g>\n     </g>\n     <g id=\"text_8\">\n      <!-- 5 -->\n      <g transform=\"translate(13.5625 53.710647)scale(0.1 -0.1)\">\n       <use xlink:href=\"#DejaVuSans-53\"/>\n      </g>\n     </g>\n    </g>\n    <g id=\"ytick_3\">\n     <g id=\"line2d_9\">\n      <g>\n       <use style=\"stroke:#000000;stroke-width:0.8;\" x=\"26.925\" xlink:href=\"#mcaafdf6a1b\" y=\"88.74\"/>\n      </g>\n     </g>\n     <g id=\"text_9\">\n      <!-- 10 -->\n      <g transform=\"translate(7.2 92.539219)scale(0.1 -0.1)\">\n       <use xlink:href=\"#DejaVuSans-49\"/>\n       <use x=\"63.623047\" xlink:href=\"#DejaVuSans-48\"/>\n      </g>\n     </g>\n    </g>\n    <g id=\"ytick_4\">\n     <g id=\"line2d_10\">\n      <g>\n       <use style=\"stroke:#000000;stroke-width:0.8;\" x=\"26.925\" xlink:href=\"#mcaafdf6a1b\" y=\"127.568571\"/>\n      </g>\n     </g>\n     <g id=\"text_10\">\n      <!-- 15 -->\n      <g transform=\"translate(7.2 131.36779)scale(0.1 -0.1)\">\n       <use xlink:href=\"#DejaVuSans-49\"/>\n       <use x=\"63.623047\" xlink:href=\"#DejaVuSans-53\"/>\n      </g>\n     </g>\n    </g>\n    <g id=\"ytick_5\">\n     <g id=\"line2d_11\">\n      <g>\n       <use style=\"stroke:#000000;stroke-width:0.8;\" x=\"26.925\" xlink:href=\"#mcaafdf6a1b\" y=\"166.397143\"/>\n      </g>\n     </g>\n     <g id=\"text_11\">\n      <!-- 20 -->\n      <g transform=\"translate(7.2 170.196362)scale(0.1 -0.1)\">\n       <use xlink:href=\"#DejaVuSans-50\"/>\n       <use x=\"63.623047\" xlink:href=\"#DejaVuSans-48\"/>\n      </g>\n     </g>\n    </g>\n    <g id=\"ytick_6\">\n     <g id=\"line2d_12\">\n      <g>\n       <use style=\"stroke:#000000;stroke-width:0.8;\" x=\"26.925\" xlink:href=\"#mcaafdf6a1b\" y=\"205.225714\"/>\n      </g>\n     </g>\n     <g id=\"text_12\">\n      <!-- 25 -->\n      <g transform=\"translate(7.2 209.024933)scale(0.1 -0.1)\">\n       <use xlink:href=\"#DejaVuSans-50\"/>\n       <use x=\"63.623047\" xlink:href=\"#DejaVuSans-53\"/>\n      </g>\n     </g>\n    </g>\n   </g>\n   <g id=\"patch_3\">\n    <path d=\"M 26.925 224.64 \nL 26.925 7.2 \n\" style=\"fill:none;stroke:#000000;stroke-linecap:square;stroke-linejoin:miter;stroke-width:0.8;\"/>\n   </g>\n   <g id=\"patch_4\">\n    <path d=\"M 244.365 224.64 \nL 244.365 7.2 \n\" style=\"fill:none;stroke:#000000;stroke-linecap:square;stroke-linejoin:miter;stroke-width:0.8;\"/>\n   </g>\n   <g id=\"patch_5\">\n    <path d=\"M 26.925 224.64 \nL 244.365 224.64 \n\" style=\"fill:none;stroke:#000000;stroke-linecap:square;stroke-linejoin:miter;stroke-width:0.8;\"/>\n   </g>\n   <g id=\"patch_6\">\n    <path d=\"M 26.925 7.2 \nL 244.365 7.2 \n\" style=\"fill:none;stroke:#000000;stroke-linecap:square;stroke-linejoin:miter;stroke-width:0.8;\"/>\n   </g>\n  </g>\n </g>\n <defs>\n  <clipPath id=\"p7d15b56ee6\">\n   <rect height=\"217.44\" width=\"217.44\" x=\"26.925\" y=\"7.2\"/>\n  </clipPath>\n </defs>\n</svg>\n",
      "image/png": "[encoded data removed]"
     },
     "metadata": {
      "needs_background": "light"
     }
    }
   ],
   "source": [
    "import matplotlib.pyplot as plt\n",
    "plt.imshow(x_train[600])\n",
    "print('라벨: ', y_train[600])"
   ]
  },
  {
   "cell_type": "markdown",
   "metadata": {},
   "source": [
    "# 딥러닝 네트워크 설계하기"
   ]
  },
  {
   "cell_type": "code",
   "execution_count": 7,
   "metadata": {
    "tags": []
   },
   "outputs": [
    {
     "output_type": "stream",
     "name": "stdout",
     "text": "Model에 추가된 Layer 개수:  7\nModel: \"sequential\"\n_________________________________________________________________\nLayer (type)                 Output Shape              Param #   \n=================================================================\nconv2d (Conv2D)              (None, 26, 26, 32)        896       \n_________________________________________________________________\nmax_pooling2d (MaxPooling2D) (None, 13, 13, 32)        0         \n_________________________________________________________________\nconv2d_1 (Conv2D)            (None, 11, 11, 64)        18496     \n_________________________________________________________________\nmax_pooling2d_1 (MaxPooling2 (None, 5, 5, 64)          0         \n_________________________________________________________________\nflatten (Flatten)            (None, 1600)              0         \n_________________________________________________________________\ndense (Dense)                (None, 64)                102464    \n_________________________________________________________________\ndense_1 (Dense)              (None, 3)                 195       \n=================================================================\nTotal params: 122,051\nTrainable params: 122,051\nNon-trainable params: 0\n_________________________________________________________________\n"
    }
   ],
   "source": [
    "n_channel_1=32\n",
    "n_channel_2=64\n",
    "n_dense=64\n",
    "n_train_epoch=20\n",
    "\n",
    "n_image_channel = 3\n",
    "n_classes = 3\n",
    "\n",
    "model=keras.models.Sequential()\n",
    "model.add(keras.layers.Conv2D(n_channel_1, (3,3), activation='relu', input_shape=(28,28,n_image_channel)))\n",
    "model.add(keras.layers.MaxPool2D(2,2))\n",
    "model.add(keras.layers.Conv2D(n_channel_2, (3,3), activation='relu'))\n",
    "model.add(keras.layers.MaxPooling2D((2,2)))\n",
    "model.add(keras.layers.Flatten())\n",
    "model.add(keras.layers.Dense(n_dense, activation='relu'))\n",
    "model.add(keras.layers.Dense(n_classes, activation='softmax'))\n",
    "print('Model에 추가된 Layer 개수: ', len(model.layers))\n",
    "\n",
    "\n",
    "model.summary()"
   ]
  },
  {
   "cell_type": "markdown",
   "metadata": {},
   "source": [
    "# 딥러닝 네트워크 학습시키기"
   ]
  },
  {
   "cell_type": "code",
   "execution_count": 9,
   "metadata": {
    "tags": []
   },
   "outputs": [
    {
     "output_type": "stream",
     "name": "stdout",
     "text": "Epoch 1/20\n29/29 [==============================] - 0s 1ms/step - loss: 0.1372 - accuracy: 0.9544\nEpoch 2/20\n29/29 [==============================] - 0s 1ms/step - loss: 0.0115 - accuracy: 0.9989\nEpoch 3/20\n29/29 [==============================] - 0s 1ms/step - loss: 0.0037 - accuracy: 1.0000\nEpoch 4/20\n29/29 [==============================] - 0s 1ms/step - loss: 0.0022 - accuracy: 1.0000\nEpoch 5/20\n29/29 [==============================] - 0s 1ms/step - loss: 0.0018 - accuracy: 1.0000\nEpoch 6/20\n29/29 [==============================] - 0s 1ms/step - loss: 0.0016 - accuracy: 1.0000\nEpoch 7/20\n29/29 [==============================] - 0s 1ms/step - loss: 0.0016 - accuracy: 1.0000\nEpoch 8/20\n29/29 [==============================] - 0s 1ms/step - loss: 0.0012 - accuracy: 1.0000\nEpoch 9/20\n29/29 [==============================] - 0s 1ms/step - loss: 0.0012 - accuracy: 1.0000\nEpoch 10/20\n29/29 [==============================] - 0s 1ms/step - loss: 0.0011 - accuracy: 1.0000\nEpoch 11/20\n29/29 [==============================] - 0s 1ms/step - loss: 0.0011 - accuracy: 1.0000\nEpoch 12/20\n29/29 [==============================] - 0s 1ms/step - loss: 8.5452e-04 - accuracy: 1.0000\nEpoch 13/20\n29/29 [==============================] - 0s 1ms/step - loss: 7.9163e-04 - accuracy: 1.0000\nEpoch 14/20\n29/29 [==============================] - 0s 1ms/step - loss: 7.0906e-04 - accuracy: 1.0000\nEpoch 15/20\n29/29 [==============================] - 0s 1ms/step - loss: 6.9054e-04 - accuracy: 1.0000\nEpoch 16/20\n29/29 [==============================] - 0s 1ms/step - loss: 5.9524e-04 - accuracy: 1.0000\nEpoch 17/20\n29/29 [==============================] - 0s 1ms/step - loss: 5.6368e-04 - accuracy: 1.0000\nEpoch 18/20\n29/29 [==============================] - 0s 1ms/step - loss: 5.1462e-04 - accuracy: 1.0000\nEpoch 19/20\n29/29 [==============================] - 0s 1ms/step - loss: 4.9635e-04 - accuracy: 1.0000\nEpoch 20/20\n29/29 [==============================] - 0s 1ms/step - loss: 4.9871e-04 - accuracy: 1.0000\n"
    },
    {
     "output_type": "execute_result",
     "data": {
      "text/plain": "<tensorflow.python.keras.callbacks.History at 0x7fd1580ee610>"
     },
     "metadata": {},
     "execution_count": 9
    }
   ],
   "source": [
    "# 모델 훈련\n",
    "model.compile(optimizer='adam',\n",
    "             loss='sparse_categorical_crossentropy',\n",
    "             metrics=['accuracy'])\n",
    "\n",
    "model.fit(x_train_norm, y_train, epochs=n_train_epoch)"
   ]
  },
  {
   "cell_type": "markdown",
   "metadata": {},
   "source": [
    "# 테스트\n",
    "## 테스트 데이터 만들기"
   ]
  },
  {
   "cell_type": "code",
   "execution_count": 10,
   "metadata": {
    "tags": []
   },
   "outputs": [
    {
     "output_type": "stream",
     "name": "stdout",
     "text": "테스트(x_test)의 이미지 개수는 2100 입니다.\nx_test shape: (2100, 28, 28, 3)\ny_test shape: (2100,)\n"
    }
   ],
   "source": [
    "def load_test_data(img_path):\n",
    "    # 가위 : 0, 바위 : 1, 보 : 2\n",
    "    number_of_data=2100   # 테스트 이미지 2100개\n",
    "    img_size=28\n",
    "    color=3\n",
    "    #이미지 데이터와 라벨(가위 : 0, 바위 : 1, 보 : 2) 데이터를 담을 행렬(matrix) 영역을 생성합니다.\n",
    "    imgs=np.zeros(number_of_data*img_size*img_size*color,dtype=np.int32).reshape(number_of_data,img_size,img_size,color)\n",
    "    labels=np.zeros(number_of_data,dtype=np.int32)\n",
    "\n",
    "    idx=0\n",
    "    for file in glob.iglob(img_path+'/scissor_test/*.jpg'):\n",
    "        img = np.array(Image.open(file),dtype=np.int32)\n",
    "        imgs[idx,:,:,:]=img    # 데이터 영역에 이미지 행렬을 복사\n",
    "        labels[idx]=0   # 가위 : 0\n",
    "        idx=idx+1\n",
    "\n",
    "    for file in glob.iglob(img_path+'/rock_test/*.jpg'):\n",
    "        img = np.array(Image.open(file),dtype=np.int32)\n",
    "        imgs[idx,:,:,:]=img    # 데이터 영역에 이미지 행렬을 복사\n",
    "        labels[idx]=1   # 바위 : 1\n",
    "        idx=idx+1       \n",
    "    \n",
    "    for file in glob.iglob(img_path+'/paper_test/*.jpg'):\n",
    "        img = np.array(Image.open(file),dtype=np.int32)\n",
    "        imgs[idx,:,:,:]=img    # 데이터 영역에 이미지 행렬을 복사\n",
    "        labels[idx]=2   # 보 : 2\n",
    "        idx=idx+1\n",
    "        \n",
    "    print(\"테스트(x_test)의 이미지 개수는\",idx,\"입니다.\")\n",
    "    return imgs, labels\n",
    "\n",
    "image_dir_path = os.getenv(\"HOME\") + \"/aiffel/rock_scissor_paper\"\n",
    "(x_test, y_test)=load_test_data(image_dir_path)\n",
    "x_test_norm = x_test/255.0   # 입력은 0~1 사이의 값으로 정규화\n",
    "\n",
    "print(\"x_test shape: {}\".format(x_test.shape))\n",
    "print(\"y_test shape: {}\".format(y_test.shape))"
   ]
  },
  {
   "cell_type": "markdown",
   "metadata": {},
   "source": [
    "## loss, accuracy 측정"
   ]
  },
  {
   "cell_type": "code",
   "execution_count": 21,
   "metadata": {
    "tags": []
   },
   "outputs": [
    {
     "output_type": "stream",
     "name": "stdout",
     "text": "66/66 - 0s - loss: 3.1693 - accuracy: 0.5348\ntest_loss: 3.169252634048462 \ntest_accuracy: 0.534761905670166\nmodel.predict() 결과 :  [9.9517941e-01 4.8190230e-03 1.5865819e-06]\nmodel이 추론한 가장 가능성이 높은 결과 :  0\n실제 데이터의 라벨 :  0\n"
    }
   ],
   "source": [
    "\n",
    "test_loss, test_accuracy = model.evaluate(x_test_norm,y_test, verbose=2)\n",
    "print(\"test_loss: {} \".format(test_loss))\n",
    "print(\"test_accuracy: {}\".format(test_accuracy))\n",
    "\n",
    "predicted_result = model.predict(x_test_norm)  # model이 추론한 확률값. \n",
    "predicted_labels = np.argmax(predicted_result, axis=1)\n",
    "\n",
    "idx=3  #4번째 x_test를 살펴보자. \n",
    "print('model.predict() 결과 : ', predicted_result[idx])\n",
    "print('model이 추론한 가장 가능성이 높은 결과 : ', predicted_labels[idx])\n",
    "print('실제 데이터의 라벨 : ', y_test[idx])"
   ]
  },
  {
   "cell_type": "code",
   "execution_count": null,
   "metadata": {},
   "outputs": [],
   "source": []
  }
 ],
 "metadata": {
  "kernelspec": {
   "display_name": "aiffel",
   "language": "python",
   "name": "aiffel"
  },
  "language_info": {
   "codemirror_mode": {
    "name": "ipython",
    "version": 3
   },
   "file_extension": ".py",
   "mimetype": "text/x-python",
   "name": "python",
   "nbconvert_exporter": "python",
   "pygments_lexer": "ipython3",
   "version": "3.7.6-final"
  }
 },
 "nbformat": 4,
 "nbformat_minor": 4
}