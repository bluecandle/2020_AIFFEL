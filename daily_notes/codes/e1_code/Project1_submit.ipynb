{
 "cells": [
  {
   "cell_type": "markdown",
   "metadata": {},
   "source": [
    "# 데이터 준비하기"
   ]
  },
  {
   "cell_type": "code",
   "execution_count": 56,
   "metadata": {
    "tags": []
   },
   "outputs": [
    {
     "output_type": "stream",
     "name": "stdout",
     "text": "Requirement already satisfied: pillow in /home/aiffel0042/anaconda3/lib/python3.7/site-packages (7.0.0)\n"
    }
   ],
   "source": [
    "# PIL 라이브러리가 설치되어 있지 않다면 설치\n",
    "!pip install pillow   \n",
    "\n",
    "# 필요한 라이브러리 가져오기\n",
    "from PIL import Image\n",
    "import os, glob\n",
    "import matplotlib.pyplot as plt\n",
    "import tensorflow as tf\n",
    "from tensorflow import keras\n",
    "import numpy as np"
   ]
  },
  {
   "cell_type": "markdown",
   "metadata": {},
   "source": [
    "# 가위, 바위, 보 파일 크기 변환\n",
    "\n",
    "정확도를 상승시키기 위해 5조에서 모인 모든 데이터를 사용하기로 함.(2100장씩 6300장)\n",
    "모든 데이터를 train, test set 으로 나누어서 사용."
   ]
  },
  {
   "cell_type": "code",
   "execution_count": 57,
   "metadata": {
    "tags": []
   },
   "outputs": [
    {
     "output_type": "stream",
     "name": "stdout",
     "text": "이미지 디렉토리 경로:  /home/aiffel0042/aiffel/rock_scissor_paper/rcp_all/scissor_all\nscissor_all 이미지 resize 완료!\n이미지 디렉토리 경로:  /home/aiffel0042/aiffel/rock_scissor_paper/rcp_all/rock_all\nrock_all 이미지 resize 완료!\n이미지 디렉토리 경로:  /home/aiffel0042/aiffel/rock_scissor_paper/rcp_all/paper_all\npaper_all 이미지 resize 완료!\n"
    }
   ],
   "source": [
    "\n",
    "\n",
    "def convertImageSize(name):\n",
    "    image_dir_path = os.getenv(\"HOME\") + \"/aiffel/rock_scissor_paper/rcp_all/\"+name\n",
    "    print(\"이미지 디렉토리 경로: \", image_dir_path)\n",
    "\n",
    "    images=glob.glob(image_dir_path + \"/*.jpg\")  \n",
    "\n",
    "    img_size = 28\n",
    "    # 파일마다 모두 28x28 사이즈로 바꾸어 저장합니다.\n",
    "    target_size=(img_size,img_size)\n",
    "    for img in images:\n",
    "        old_img=Image.open(img)\n",
    "        new_img=old_img.resize(target_size,Image.ANTIALIAS)\n",
    "        new_img.save(img,\"JPEG\")\n",
    "\n",
    "    print(\"{} 이미지 resize 완료!\".format(name))\n",
    "\n",
    "classes_train = ['scissor_all','rock_all','paper_all']\n",
    "for c in classes_train:\n",
    "    convertImageSize(c)"
   ]
  },
  {
   "cell_type": "markdown",
   "metadata": {},
   "source": [
    "## 데이터 전부 불러오고, train/test 데이터 분리\n",
    "[데이터 분리 참조](https://rfriend.tistory.com/519)"
   ]
  },
  {
   "cell_type": "code",
   "execution_count": 58,
   "metadata": {
    "tags": []
   },
   "outputs": [
    {
     "output_type": "stream",
     "name": "stdout",
     "text": "전체(x_whole) 이미지 개수는 6300 입니다.\nx_whole shape: (6300, 28, 28, 3)\ny_whole shape: (6300,)\nx_train shape: (5040, 28, 28, 3)\nx_test shape: (1260, 28, 28, 3)\ny_train shape: (5040,)\ny_test shape: (1260,)\n"
    }
   ],
   "source": [
    "def load_data(img_path):\n",
    "    # 가위 : 0, 바위 : 1, 보 : 2\n",
    "    number_of_data=2100*3   # 데이터는 2100개씩 있음\n",
    "    img_size=28\n",
    "    color=3\n",
    "    #이미지 데이터와 라벨(가위 : 0, 바위 : 1, 보 : 2) 데이터를 담을 행렬(matrix) 영역을 생성합니다.\n",
    "    imgs=np.zeros(number_of_data*img_size*img_size*color,dtype=np.int32).reshape(number_of_data,img_size,img_size,color)\n",
    "    labels=np.zeros(number_of_data,dtype=np.int32)\n",
    "\n",
    "    idx=0\n",
    "    for file in glob.iglob(img_path+'/scissor_all/*.jpg'):\n",
    "        img = np.array(Image.open(file),dtype=np.int32)\n",
    "        imgs[idx,:,:,:]=img    # 데이터 영역에 이미지 행렬을 복사\n",
    "        labels[idx]=0   # 가위 : 0\n",
    "        idx=idx+1\n",
    "\n",
    "    for file in glob.iglob(img_path+'/rock_all/*.jpg'):\n",
    "        img = np.array(Image.open(file),dtype=np.int32)\n",
    "        imgs[idx,:,:,:]=img    # 데이터 영역에 이미지 행렬을 복사\n",
    "        labels[idx]=1   # 바위 : 1\n",
    "        idx=idx+1       \n",
    "    \n",
    "    for file in glob.iglob(img_path+'/paper_all/*.jpg'):\n",
    "        img = np.array(Image.open(file),dtype=np.int32)\n",
    "        imgs[idx,:,:,:]=img    # 데이터 영역에 이미지 행렬을 복사\n",
    "        labels[idx]=2   # 보 : 2\n",
    "        idx=idx+1\n",
    "        \n",
    "    print(\"전체(x_whole) 이미지 개수는\",idx,\"입니다.\")\n",
    "    return imgs, labels\n",
    "\n",
    "image_dir_path = os.getenv(\"HOME\") + \"/aiffel/rock_scissor_paper/rcp_all/\"\n",
    "(x_whole, y_whole)=load_data(image_dir_path)\n",
    "\n",
    "# x_whole_norm = x_whole/255.0   # 입력은 0~1 사이의 값으로 정규화\n",
    "\n",
    "print(\"x_whole shape: {}\".format(x_whole.shape))\n",
    "print(\"y_whole shape: {}\".format(y_whole.shape))\n",
    "\n",
    "from sklearn.model_selection import train_test_split\n",
    "\n",
    "x_train, x_test, y_train, y_test = train_test_split(x_whole,y_whole, test_size=0.2, shuffle=True, random_state=500)\n",
    "print(\"x_train shape: {}\".format(x_train.shape))\n",
    "print(\"x_test shape: {}\".format(x_test.shape))\n",
    "print(\"y_train shape: {}\".format(y_train.shape))\n",
    "print(\"y_test shape: {}\".format(y_test.shape))\n",
    "x_train_norm = x_train/255.0   # 입력은 0~1 사이의 값으로 정규화\n",
    "x_test_norm = x_test/255.0   # 입력은 0~1 사이의 값으로 정규화\n"
   ]
  },
  {
   "cell_type": "markdown",
   "metadata": {},
   "source": [
    "# 이미지 살펴보기"
   ]
  },
  {
   "cell_type": "code",
   "execution_count": 59,
   "metadata": {
    "tags": []
   },
   "outputs": [
    {
     "output_type": "stream",
     "name": "stdout",
     "text": "라벨:  2\n"
    },
    {
     "output_type": "display_data",
     "data": {
      "text/plain": "<Figure size 432x288 with 1 Axes>",
      "image/svg+xml": "<?xml version=\"1.0\" encoding=\"utf-8\" standalone=\"no\"?>\n<!DOCTYPE svg PUBLIC \"-//W3C//DTD SVG 1.1//EN\"\n  \"http://www.w3.org/Graphics/SVG/1.1/DTD/svg11.dtd\">\n<!-- Created with matplotlib (https://matplotlib.org/) -->\n<svg height=\"248.518125pt\" version=\"1.1\" viewBox=\"0 0 251.565 248.518125\" width=\"251.565pt\" xmlns=\"http://www.w3.org/2000/svg\" xmlns:xlink=\"http://www.w3.org/1999/xlink\">\n <defs>\n  <style type=\"text/css\">\n*{stroke-linecap:butt;stroke-linejoin:round;}\n  </style>\n </defs>\n <g id=\"figure_1\">\n  <g id=\"patch_1\">\n   <path d=\"M 0 248.518125 \nL 251.565 248.518125 \nL 251.565 0 \nL 0 0 \nz\n\" style=\"fill:none;\"/>\n  </g>\n  <g id=\"axes_1\">\n   <g id=\"patch_2\">\n    <path d=\"M 26.925 224.64 \nL 244.365 224.64 \nL 244.365 7.2 \nL 26.925 7.2 \nz\n\" style=\"fill:#ffffff;\"/>\n   </g>\n   <g clip-path=\"url(#p93f11bac14)\">\n    <image height=\"218\" id=\"imagede29ff94ee\" transform=\"scale(1 -1)translate(0 -218)\" width=\"218\" x=\"26.925\" xlink:href=\"data:image/png;base64,\niVBORw0KGgoAAAANSUhEUgAAANoAAADaCAYAAADAHVzbAAAABHNCSVQICAgIfAhkiAAAC65JREFUeJzt3cuOG8kRheHIqiTZ3ZIFaTD2ZmxgvPLL2Qu/szGLgW3d+kLWLb3QeJnnCF1itAb4v212FatJHhZQgYgs//j7P1sI7969U8sxTXN37enpUR5bYpPrf/3pT3L9bz//pf/an/4tj3368KtcXy/62i+Xi1x/uCzdtfeP/bWIiIelyPV2fC3Xj3d/kOvnx09yXdli0H8wjM8+dxR97Bb6fXFak191aQh9rPsum3cNwLdA0IAEBA1IQNCABAQNSEDQgAQEDUhQ3R+s62r+ol9fOB6P8sh5Osv1h/snvS7qdMXUTDbzb7Vmalnu/Fu/rtLWfu0xImKZzLmbrjeVUX+squbTzG/vYOpF9n0rz/9td7UsV2crRa/vuesU89rc0YAEBA1IQNCABAQNSEDQgAQEDUhA0IAEdSi6NuHraH2Hw0GuX8665+vDZ9039fHjx+7a64P+Dfl0/1muD+sk17dN95S1tV9vMm+5LfJts6nDnR/keq39OttWdJ0smn5fizl+U/+7qXP5Gp9+Y10Nr8jjTY2OOhrw8ggakICgAQkIGpCAoAEJCBqQoLrWgWYeY5eh/6h4GHSOXavJ46Nuk/n80F8/vtYtOqo0EBFxCP2IfRyf/yjaHBqj+flrxZRcRIvOb2forgym9GAf/8eOcXOGK4uYDh37vrtH+PpIHu8DL46gAQkIGpCAoAEJCBqQgKABCQgakKDenW7kH8ymZUPV2dTItYiI0+kk10vVtYmHh347yKuqX/vNmzdy/WQKSgdT7FIj32ZTa3qrS5fxOOtrm8z6Ki798VG3Lg2mTaa5Npml/8+NB/19qEfTdjWZ1qUd2zZ5+tzc0YAEBA1IQNCABAQNSEDQgAQEDUhA0IAEdTDtQ4PNYn+9mH60aHp7Idc/dDz2a4C3N6/kseWi60Vj6JFuB/O+FfHGDsVsq2ROfjzp42dTL7o/X/qv3XRdNcwXZlnd+ELRY2jqrq4f7VD1921zDWs70I8GfAcIGpCAoAEJCBqQgKABCQgakICgAQmq69EZQtc2mpkLKY91/UGDPncV20Ld3N3KY8/3Zgsg03cV5n1RNR83t/EotlWKiKimDndbdN/W6bZfKzvbni79mTyd9XZXF9GPJrd0ighXlrUzJRe3rZM7fx91NOA7QNCABAQNSEDQgAQEDUhA0IAEBA1IUNuq6yautqHqaG6K3mr6j0bTgKT2X6umFnV14trdr1trpkZnZk5upsb36vZOvHZ/VmZExLTsu7Yqvi+LKWS5OaHzqtfdd0LtaecUU3fljgYkIGhAAoIGJCBoQAKCBiQgaECCWlyby46tbty5/bo+v2qz2Uxdwr32UMzjWnNtVRy/ublpTW+VZSoy0UL/wXzpX/zD/Wd57GXSY/hmM25OqQfzu2/et8uir62ItqovpxelKvN5uw4b7mhAAoIGJCBoQAKCBiQgaEACggYkIGhAgjqOekSXa7nYRAXBbdtka1mm0UbVyi6X/tZEERGrafdYTC0qinlfRKvLaqoui2m5cOurW6/9a3t81NtZzYuu8ZXRjLo79ltV6k2/fee3k8vlZtb1J3Zd3NGABAQNSEDQgAQEDUhA0IAEBA1IQNCABFWNbIuIKKbe1ESta9jZjxabrtmcp36t7NO9PrXrs1tM01dbde9TEz1lZvegWM32Q5vZtqkN+vhZfKRupFs15y5upJvo03PfxWHU5z4ej3L96aK3lIrof2bNbePltpwyrwzgGyBoQAKCBiQgaEACggYkIGhAAoIGJKhqNmKEr6uoMX5lMFv8mDqae+1p6tc9Hh50Heztycz4K7pOFpvZ7kr0yrlRmaMZGjmaelIztaz7h379sdnZiLpW5b5P09yvZQ26bBpR9Xt+mUwPoZ2+eD3c0YAEBA1IQNCABAQNSEDQgAQEDUhQL2Yn+zjoR6JHtT1S0yPf3Di5wWzTozpV3otH/xERy3Ij1394+6Nc/+U//5Lr43Dqrt2d9CPyjx/ey/Xbk35fXLvINvVbXY7jG3msanOJiFjM4/1VfJ0uppyzbbr0MJiSzey+66IVZjD7NrmduLijAQkIGpCAoAEJCBqQgKABCQgakICgAQlsm8xgWzb6WXXnbqbVxLXRnES96HjQY9Gms9meaNY1G9fCo3phFrGl05dj3bZMpnVp1TXE47FfQ2zmt1fVwf5/BkWNlBtMG4vbdsl+Ji+IOxqQgKABCQgakICgAQkIGpCAoAEJCBqQQM8li4hithBSO+24usbm6mymrqJqMq4ny9XRVtN/VM35Q/zvh0O/Vy0i4nSn64uDG1dXzbWN/dd3NbplMWP29CtHEXXZwfS6FVdnM9+nYs6vxtG513blRe5oQAKCBiQgaEACggYkIGhAAoIGJCBoQIKqalERvidMbdvk9idyNbrNDMub135N5+nsrtut64rQYGpV2yK2Jxr1/31zcyfXp6l/7oiIMNs6hahltcXMZbS1T1Pka+J/N72PrpYVbvai+S5TRwN+5wgakICgAQkIGpCAoAEJCBqQgKABCWoRcxkjIjazp5Sa3TgMul50vNH7Wbk5fyHmQp7PZ3nouujZh+cnXatyvXbnqX9tt2bu4mjet9lc+zC6fcb6xy/m3IvrMXQ9X6JWVor+v4up0dkq2fZy9xXuaEACggYkIGhAAoIGJCBoQAKCBiSoLmtb6Me9qhXGteC4sWvm8Fgm0e5hHqGHa/9xo+5GXZpYt355YVWtIhFxvNHvS7vXo/LKoNtk5rn/iL6ZVpMwpYfBvK/bjt/2wW1nZYbd+TYZefSOVe5oQAqCBiQgaEACggYkIGhAAoIGJCBoQILqaguDqck0MxJOmV27yPb8kXDNtFyYf8tuGVXMuDk1tW0ztaqx3sj1zdSy3Li5de6/76Wa2qepH5qPLDbxmW2b/i6pYyP8tkxqyyinuPqiKz8++5UBfDWCBiQgaEACggYkIGhAAoIGJCBoQILq+rLcFkNNjB9zo8nmp4tcD9NfNIprt71H+tQxLGbbJtMsN81iFN7SX4uIuDUj/iaztVI1603U4WrVdbJS3Ug4/b4sy9y/rtZf+7KuP1O3ZZS9q7ha2Y5zc0cDEhA0IAFBAxIQNCABQQMSEDQgAUEDElRT6voK/ay6uYz+D7QdrXB22yXX03W80T1jP/355+7aPOv64f2T3nLqhx//KNdvzLX9+t+P3bXJbdNl1ldTy2rqt931ENp9mfTytpptn8Txri5r+zrlKoBvgqABCQgakICgAQkIGpCAoAEJCBqQwEw33EfWTL6Cq5Op5WIaztw+XW724iRmIzpu67Ym9pyLiNiKPsHcJv36Zv7hHu7ar8r2k73ctXFHAxIQNCABQQMSEDQgAUEDEhA0IEHdXG/BDsPOx6k7pn9FNP0bMpptlzbzCHw2Wwypx9zm0Bh2lhYW0w7itqS6Jvmv7Xz6bu8abgShOvTZR37BHQ1IQNCABAQNSEDQgAQEDUhA0IAEBA1IUO32Rjvsrdfs+hUwL12r6RDaUSeL0CWhwYyys+1B5rUXd+3jNT/z3y+Vhb054Y4GJCBoQAKCBiQgaEACggYkIGhAAoIGJLjquLm9/I5SO34nTL/a1sy4OlOrKqKfTa1FhN2fqLgantmSavdOXeq1TSVtUMvXHlVXrvefs20T8B0gaEACggYkIGhAAoIGJCBoQAKCBiSormazj86x67u6pmld5LrffsjMjRQDDE2Zy44fdJfWzFzIJotZO5lTb+LSrv19KDGav7henY07GpCAoAEJCBqQgKABCQgakICgAQnqS2Zt17ZMsfdxsCk97Lw29aC4mRYcO7PNtPi4NpxNvMDeJ/+uTaZctUlHcx9pEX+h1iL8R8YdDUhA0IAEBA1IQNCABAQNSEDQgAQEDUjwXY+bc2QdztSaBjfSzRTS3Lpqs1kXXXXZTB+Nq/H5LYb6r6/aWCL219nUb/tW1iu/tqO+M268IOPmgBdH0IAEBA1IQNCABAQNSEDQgAQEDUjwP6X3Y4EaLc1zAAAAAElFTkSuQmCC\" y=\"-6.64\"/>\n   </g>\n   <g id=\"matplotlib.axis_1\">\n    <g id=\"xtick_1\">\n     <g id=\"line2d_1\">\n      <defs>\n       <path d=\"M 0 0 \nL 0 3.5 \n\" id=\"m6aa084b44b\" style=\"stroke:#000000;stroke-width:0.8;\"/>\n      </defs>\n      <g>\n       <use style=\"stroke:#000000;stroke-width:0.8;\" x=\"30.807857\" xlink:href=\"#m6aa084b44b\" y=\"224.64\"/>\n      </g>\n     </g>\n     <g id=\"text_1\">\n      <!-- 0 -->\n      <defs>\n       <path d=\"M 31.78125 66.40625 \nQ 24.171875 66.40625 20.328125 58.90625 \nQ 16.5 51.421875 16.5 36.375 \nQ 16.5 21.390625 20.328125 13.890625 \nQ 24.171875 6.390625 31.78125 6.390625 \nQ 39.453125 6.390625 43.28125 13.890625 \nQ 47.125 21.390625 47.125 36.375 \nQ 47.125 51.421875 43.28125 58.90625 \nQ 39.453125 66.40625 31.78125 66.40625 \nz\nM 31.78125 74.21875 \nQ 44.046875 74.21875 50.515625 64.515625 \nQ 56.984375 54.828125 56.984375 36.375 \nQ 56.984375 17.96875 50.515625 8.265625 \nQ 44.046875 -1.421875 31.78125 -1.421875 \nQ 19.53125 -1.421875 13.0625 8.265625 \nQ 6.59375 17.96875 6.59375 36.375 \nQ 6.59375 54.828125 13.0625 64.515625 \nQ 19.53125 74.21875 31.78125 74.21875 \nz\n\" id=\"DejaVuSans-48\"/>\n      </defs>\n      <g transform=\"translate(27.626607 239.238437)scale(0.1 -0.1)\">\n       <use xlink:href=\"#DejaVuSans-48\"/>\n      </g>\n     </g>\n    </g>\n    <g id=\"xtick_2\">\n     <g id=\"line2d_2\">\n      <g>\n       <use style=\"stroke:#000000;stroke-width:0.8;\" x=\"69.636429\" xlink:href=\"#m6aa084b44b\" y=\"224.64\"/>\n      </g>\n     </g>\n     <g id=\"text_2\">\n      <!-- 5 -->\n      <defs>\n       <path d=\"M 10.796875 72.90625 \nL 49.515625 72.90625 \nL 49.515625 64.59375 \nL 19.828125 64.59375 \nL 19.828125 46.734375 \nQ 21.96875 47.46875 24.109375 47.828125 \nQ 26.265625 48.1875 28.421875 48.1875 \nQ 40.625 48.1875 47.75 41.5 \nQ 54.890625 34.8125 54.890625 23.390625 \nQ 54.890625 11.625 47.5625 5.09375 \nQ 40.234375 -1.421875 26.90625 -1.421875 \nQ 22.3125 -1.421875 17.546875 -0.640625 \nQ 12.796875 0.140625 7.71875 1.703125 \nL 7.71875 11.625 \nQ 12.109375 9.234375 16.796875 8.0625 \nQ 21.484375 6.890625 26.703125 6.890625 \nQ 35.15625 6.890625 40.078125 11.328125 \nQ 45.015625 15.765625 45.015625 23.390625 \nQ 45.015625 31 40.078125 35.4375 \nQ 35.15625 39.890625 26.703125 39.890625 \nQ 22.75 39.890625 18.8125 39.015625 \nQ 14.890625 38.140625 10.796875 36.28125 \nz\n\" id=\"DejaVuSans-53\"/>\n      </defs>\n      <g transform=\"translate(66.455179 239.238437)scale(0.1 -0.1)\">\n       <use xlink:href=\"#DejaVuSans-53\"/>\n      </g>\n     </g>\n    </g>\n    <g id=\"xtick_3\">\n     <g id=\"line2d_3\">\n      <g>\n       <use style=\"stroke:#000000;stroke-width:0.8;\" x=\"108.465\" xlink:href=\"#m6aa084b44b\" y=\"224.64\"/>\n      </g>\n     </g>\n     <g id=\"text_3\">\n      <!-- 10 -->\n      <defs>\n       <path d=\"M 12.40625 8.296875 \nL 28.515625 8.296875 \nL 28.515625 63.921875 \nL 10.984375 60.40625 \nL 10.984375 69.390625 \nL 28.421875 72.90625 \nL 38.28125 72.90625 \nL 38.28125 8.296875 \nL 54.390625 8.296875 \nL 54.390625 0 \nL 12.40625 0 \nz\n\" id=\"DejaVuSans-49\"/>\n      </defs>\n      <g transform=\"translate(102.1025 239.238437)scale(0.1 -0.1)\">\n       <use xlink:href=\"#DejaVuSans-49\"/>\n       <use x=\"63.623047\" xlink:href=\"#DejaVuSans-48\"/>\n      </g>\n     </g>\n    </g>\n    <g id=\"xtick_4\">\n     <g id=\"line2d_4\">\n      <g>\n       <use style=\"stroke:#000000;stroke-width:0.8;\" x=\"147.293571\" xlink:href=\"#m6aa084b44b\" y=\"224.64\"/>\n      </g>\n     </g>\n     <g id=\"text_4\">\n      <!-- 15 -->\n      <g transform=\"translate(140.931071 239.238437)scale(0.1 -0.1)\">\n       <use xlink:href=\"#DejaVuSans-49\"/>\n       <use x=\"63.623047\" xlink:href=\"#DejaVuSans-53\"/>\n      </g>\n     </g>\n    </g>\n    <g id=\"xtick_5\">\n     <g id=\"line2d_5\">\n      <g>\n       <use style=\"stroke:#000000;stroke-width:0.8;\" x=\"186.122143\" xlink:href=\"#m6aa084b44b\" y=\"224.64\"/>\n      </g>\n     </g>\n     <g id=\"text_5\">\n      <!-- 20 -->\n      <defs>\n       <path d=\"M 19.1875 8.296875 \nL 53.609375 8.296875 \nL 53.609375 0 \nL 7.328125 0 \nL 7.328125 8.296875 \nQ 12.9375 14.109375 22.625 23.890625 \nQ 32.328125 33.6875 34.8125 36.53125 \nQ 39.546875 41.84375 41.421875 45.53125 \nQ 43.3125 49.21875 43.3125 52.78125 \nQ 43.3125 58.59375 39.234375 62.25 \nQ 35.15625 65.921875 28.609375 65.921875 \nQ 23.96875 65.921875 18.8125 64.3125 \nQ 13.671875 62.703125 7.8125 59.421875 \nL 7.8125 69.390625 \nQ 13.765625 71.78125 18.9375 73 \nQ 24.125 74.21875 28.421875 74.21875 \nQ 39.75 74.21875 46.484375 68.546875 \nQ 53.21875 62.890625 53.21875 53.421875 \nQ 53.21875 48.921875 51.53125 44.890625 \nQ 49.859375 40.875 45.40625 35.40625 \nQ 44.1875 33.984375 37.640625 27.21875 \nQ 31.109375 20.453125 19.1875 8.296875 \nz\n\" id=\"DejaVuSans-50\"/>\n      </defs>\n      <g transform=\"translate(179.759643 239.238437)scale(0.1 -0.1)\">\n       <use xlink:href=\"#DejaVuSans-50\"/>\n       <use x=\"63.623047\" xlink:href=\"#DejaVuSans-48\"/>\n      </g>\n     </g>\n    </g>\n    <g id=\"xtick_6\">\n     <g id=\"line2d_6\">\n      <g>\n       <use style=\"stroke:#000000;stroke-width:0.8;\" x=\"224.950714\" xlink:href=\"#m6aa084b44b\" y=\"224.64\"/>\n      </g>\n     </g>\n     <g id=\"text_6\">\n      <!-- 25 -->\n      <g transform=\"translate(218.588214 239.238437)scale(0.1 -0.1)\">\n       <use xlink:href=\"#DejaVuSans-50\"/>\n       <use x=\"63.623047\" xlink:href=\"#DejaVuSans-53\"/>\n      </g>\n     </g>\n    </g>\n   </g>\n   <g id=\"matplotlib.axis_2\">\n    <g id=\"ytick_1\">\n     <g id=\"line2d_7\">\n      <defs>\n       <path d=\"M 0 0 \nL -3.5 0 \n\" id=\"m184afa1eec\" style=\"stroke:#000000;stroke-width:0.8;\"/>\n      </defs>\n      <g>\n       <use style=\"stroke:#000000;stroke-width:0.8;\" x=\"26.925\" xlink:href=\"#m184afa1eec\" y=\"11.082857\"/>\n      </g>\n     </g>\n     <g id=\"text_7\">\n      <!-- 0 -->\n      <g transform=\"translate(13.5625 14.882076)scale(0.1 -0.1)\">\n       <use xlink:href=\"#DejaVuSans-48\"/>\n      </g>\n     </g>\n    </g>\n    <g id=\"ytick_2\">\n     <g id=\"line2d_8\">\n      <g>\n       <use style=\"stroke:#000000;stroke-width:0.8;\" x=\"26.925\" xlink:href=\"#m184afa1eec\" y=\"49.911429\"/>\n      </g>\n     </g>\n     <g id=\"text_8\">\n      <!-- 5 -->\n      <g transform=\"translate(13.5625 53.710647)scale(0.1 -0.1)\">\n       <use xlink:href=\"#DejaVuSans-53\"/>\n      </g>\n     </g>\n    </g>\n    <g id=\"ytick_3\">\n     <g id=\"line2d_9\">\n      <g>\n       <use style=\"stroke:#000000;stroke-width:0.8;\" x=\"26.925\" xlink:href=\"#m184afa1eec\" y=\"88.74\"/>\n      </g>\n     </g>\n     <g id=\"text_9\">\n      <!-- 10 -->\n      <g transform=\"translate(7.2 92.539219)scale(0.1 -0.1)\">\n       <use xlink:href=\"#DejaVuSans-49\"/>\n       <use x=\"63.623047\" xlink:href=\"#DejaVuSans-48\"/>\n      </g>\n     </g>\n    </g>\n    <g id=\"ytick_4\">\n     <g id=\"line2d_10\">\n      <g>\n       <use style=\"stroke:#000000;stroke-width:0.8;\" x=\"26.925\" xlink:href=\"#m184afa1eec\" y=\"127.568571\"/>\n      </g>\n     </g>\n     <g id=\"text_10\">\n      <!-- 15 -->\n      <g transform=\"translate(7.2 131.36779)scale(0.1 -0.1)\">\n       <use xlink:href=\"#DejaVuSans-49\"/>\n       <use x=\"63.623047\" xlink:href=\"#DejaVuSans-53\"/>\n      </g>\n     </g>\n    </g>\n    <g id=\"ytick_5\">\n     <g id=\"line2d_11\">\n      <g>\n       <use style=\"stroke:#000000;stroke-width:0.8;\" x=\"26.925\" xlink:href=\"#m184afa1eec\" y=\"166.397143\"/>\n      </g>\n     </g>\n     <g id=\"text_11\">\n      <!-- 20 -->\n      <g transform=\"translate(7.2 170.196362)scale(0.1 -0.1)\">\n       <use xlink:href=\"#DejaVuSans-50\"/>\n       <use x=\"63.623047\" xlink:href=\"#DejaVuSans-48\"/>\n      </g>\n     </g>\n    </g>\n    <g id=\"ytick_6\">\n     <g id=\"line2d_12\">\n      <g>\n       <use style=\"stroke:#000000;stroke-width:0.8;\" x=\"26.925\" xlink:href=\"#m184afa1eec\" y=\"205.225714\"/>\n      </g>\n     </g>\n     <g id=\"text_12\">\n      <!-- 25 -->\n      <g transform=\"translate(7.2 209.024933)scale(0.1 -0.1)\">\n       <use xlink:href=\"#DejaVuSans-50\"/>\n       <use x=\"63.623047\" xlink:href=\"#DejaVuSans-53\"/>\n      </g>\n     </g>\n    </g>\n   </g>\n   <g id=\"patch_3\">\n    <path d=\"M 26.925 224.64 \nL 26.925 7.2 \n\" style=\"fill:none;stroke:#000000;stroke-linecap:square;stroke-linejoin:miter;stroke-width:0.8;\"/>\n   </g>\n   <g id=\"patch_4\">\n    <path d=\"M 244.365 224.64 \nL 244.365 7.2 \n\" style=\"fill:none;stroke:#000000;stroke-linecap:square;stroke-linejoin:miter;stroke-width:0.8;\"/>\n   </g>\n   <g id=\"patch_5\">\n    <path d=\"M 26.925 224.64 \nL 244.365 224.64 \n\" style=\"fill:none;stroke:#000000;stroke-linecap:square;stroke-linejoin:miter;stroke-width:0.8;\"/>\n   </g>\n   <g id=\"patch_6\">\n    <path d=\"M 26.925 7.2 \nL 244.365 7.2 \n\" style=\"fill:none;stroke:#000000;stroke-linecap:square;stroke-linejoin:miter;stroke-width:0.8;\"/>\n   </g>\n  </g>\n </g>\n <defs>\n  <clipPath id=\"p93f11bac14\">\n   <rect height=\"217.44\" width=\"217.44\" x=\"26.925\" y=\"7.2\"/>\n  </clipPath>\n </defs>\n</svg>\n",
      "image/png": "[encoded data removed]"
     },
     "metadata": {
      "needs_background": "light"
     }
    }
   ],
   "source": [
    "import matplotlib.pyplot as plt\n",
    "plt.imshow(x_train[601])\n",
    "print('라벨: ', y_train[601])"
   ]
  },
  {
   "cell_type": "markdown",
   "metadata": {},
   "source": [
    "# 딥러닝 네트워크 설계하기"
   ]
  },
  {
   "cell_type": "code",
   "execution_count": 60,
   "metadata": {
    "tags": []
   },
   "outputs": [
    {
     "output_type": "stream",
     "name": "stdout",
     "text": "Model에 추가된 Layer 개수:  7\nModel: \"sequential_8\"\n_________________________________________________________________\nLayer (type)                 Output Shape              Param #   \n=================================================================\nconv2d_16 (Conv2D)           (None, 26, 26, 32)        896       \n_________________________________________________________________\nmax_pooling2d_16 (MaxPooling (None, 13, 13, 32)        0         \n_________________________________________________________________\nconv2d_17 (Conv2D)           (None, 11, 11, 64)        18496     \n_________________________________________________________________\nmax_pooling2d_17 (MaxPooling (None, 5, 5, 64)          0         \n_________________________________________________________________\nflatten_8 (Flatten)          (None, 1600)              0         \n_________________________________________________________________\ndense_16 (Dense)             (None, 64)                102464    \n_________________________________________________________________\ndense_17 (Dense)             (None, 3)                 195       \n=================================================================\nTotal params: 122,051\nTrainable params: 122,051\nNon-trainable params: 0\n_________________________________________________________________\n"
    }
   ],
   "source": [
    "n_channel_1=32\n",
    "n_channel_2=64\n",
    "n_dense=64\n",
    "n_train_epoch=20\n",
    "\n",
    "n_image_channel = 3\n",
    "n_classes = 3\n",
    "\n",
    "model=keras.models.Sequential()\n",
    "model.add(keras.layers.Conv2D(n_channel_1, (3,3), activation='relu', input_shape=(28,28,n_image_channel)))\n",
    "model.add(keras.layers.MaxPool2D(2,2))\n",
    "model.add(keras.layers.Conv2D(n_channel_2, (3,3), activation='relu'))\n",
    "model.add(keras.layers.MaxPooling2D((2,2)))\n",
    "model.add(keras.layers.Flatten())\n",
    "model.add(keras.layers.Dense(n_dense, activation='relu'))\n",
    "model.add(keras.layers.Dense(n_classes, activation='softmax'))\n",
    "print('Model에 추가된 Layer 개수: ', len(model.layers))\n",
    "\n",
    "\n",
    "model.summary()"
   ]
  },
  {
   "cell_type": "markdown",
   "metadata": {},
   "source": [
    "# 딥러닝 네트워크 학습시키기"
   ]
  },
  {
   "cell_type": "code",
   "execution_count": 61,
   "metadata": {
    "tags": []
   },
   "outputs": [
    {
     "output_type": "stream",
     "name": "stdout",
     "text": "Epoch 1/20\n158/158 [==============================] - 0s 1ms/step - loss: 0.7722 - accuracy: 0.6486\nEpoch 2/20\n158/158 [==============================] - 0s 1ms/step - loss: 0.3651 - accuracy: 0.8540\nEpoch 3/20\n158/158 [==============================] - 0s 1ms/step - loss: 0.2398 - accuracy: 0.9129\nEpoch 4/20\n158/158 [==============================] - 0s 1ms/step - loss: 0.1400 - accuracy: 0.9546\nEpoch 5/20\n158/158 [==============================] - 0s 1ms/step - loss: 0.0945 - accuracy: 0.9702\nEpoch 6/20\n158/158 [==============================] - 0s 1ms/step - loss: 0.0613 - accuracy: 0.9813\nEpoch 7/20\n158/158 [==============================] - 0s 1ms/step - loss: 0.0413 - accuracy: 0.9897\nEpoch 8/20\n158/158 [==============================] - 0s 1ms/step - loss: 0.0345 - accuracy: 0.9921\nEpoch 9/20\n158/158 [==============================] - 0s 1ms/step - loss: 0.0226 - accuracy: 0.9942\nEpoch 10/20\n158/158 [==============================] - 0s 1ms/step - loss: 0.0219 - accuracy: 0.9948\nEpoch 11/20\n158/158 [==============================] - 0s 1ms/step - loss: 0.0140 - accuracy: 0.9976\nEpoch 12/20\n158/158 [==============================] - 0s 1ms/step - loss: 0.0076 - accuracy: 0.9990\nEpoch 13/20\n158/158 [==============================] - 0s 1ms/step - loss: 0.0070 - accuracy: 0.9984\nEpoch 14/20\n158/158 [==============================] - 0s 1ms/step - loss: 0.0099 - accuracy: 0.9982\nEpoch 15/20\n158/158 [==============================] - 0s 1ms/step - loss: 0.0024 - accuracy: 0.9998\nEpoch 16/20\n158/158 [==============================] - 0s 1ms/step - loss: 0.0016 - accuracy: 1.0000\nEpoch 17/20\n158/158 [==============================] - 0s 1ms/step - loss: 0.0010 - accuracy: 1.0000\nEpoch 18/20\n158/158 [==============================] - 0s 1ms/step - loss: 0.0011 - accuracy: 1.0000\nEpoch 19/20\n158/158 [==============================] - 0s 1ms/step - loss: 7.7379e-04 - accuracy: 1.0000\nEpoch 20/20\n158/158 [==============================] - 0s 1ms/step - loss: 6.5595e-04 - accuracy: 1.0000\n"
    },
    {
     "output_type": "execute_result",
     "data": {
      "text/plain": "<tensorflow.python.keras.callbacks.History at 0x7fd0800fa290>"
     },
     "metadata": {},
     "execution_count": 61
    }
   ],
   "source": [
    "# 모델 훈련\n",
    "model.compile(optimizer='adam',\n",
    "             loss='sparse_categorical_crossentropy',\n",
    "             metrics=['accuracy'])\n",
    "\n",
    "model.fit(x_train_norm, y_train, epochs=n_train_epoch)"
   ]
  },
  {
   "cell_type": "markdown",
   "metadata": {},
   "source": [
    "# 테스트\n",
    "테스트 데이터는 이미 만들어져 있음"
   ]
  },
  {
   "cell_type": "code",
   "execution_count": 62,
   "metadata": {
    "tags": []
   },
   "outputs": [
    {
     "output_type": "stream",
     "name": "stdout",
     "text": "x_test shape: (1260, 28, 28, 3)\ny_test shape: (1260,)\n"
    }
   ],
   "source": [
    "print(\"x_test shape: {}\".format(x_test.shape))\n",
    "print(\"y_test shape: {}\".format(y_test.shape))"
   ]
  },
  {
   "cell_type": "markdown",
   "metadata": {},
   "source": [
    "## loss, accuracy 측정"
   ]
  },
  {
   "cell_type": "code",
   "execution_count": 63,
   "metadata": {
    "tags": []
   },
   "outputs": [
    {
     "output_type": "stream",
     "name": "stdout",
     "text": "40/40 - 0s - loss: 0.0233 - accuracy: 0.9968\ntest_loss: 0.023316219449043274 \ntest_accuracy: 0.9968253970146179\nmodel.predict() 결과 :  [5.5876913e-05 2.5492906e-07 9.9994385e-01]\nmodel이 추론한 가장 가능성이 높은 결과 :  2\n실제 데이터의 라벨 :  2\n"
    }
   ],
   "source": [
    "\n",
    "test_loss, test_accuracy = model.evaluate(x_test_norm,y_test, verbose=2)\n",
    "print(\"test_loss: {} \".format(test_loss))\n",
    "print(\"test_accuracy: {}\".format(test_accuracy))\n",
    "\n",
    "predicted_result = model.predict(x_test_norm)  # model이 추론한 확률값. \n",
    "predicted_labels = np.argmax(predicted_result, axis=1)\n",
    "\n",
    "idx=3  #4번째 x_test를 살펴보자. \n",
    "print('model.predict() 결과 : ', predicted_result[idx])\n",
    "print('model이 추론한 가장 가능성이 높은 결과 : ', predicted_labels[idx])\n",
    "print('실제 데이터의 라벨 : ', y_test[idx])"
   ]
  },
  {
   "cell_type": "markdown",
   "metadata": {},
   "source": [
    "# 더 좋은 네트워크 만들어보기"
   ]
  },
  {
   "cell_type": "code",
   "execution_count": 64,
   "metadata": {
    "tags": []
   },
   "outputs": [
    {
     "output_type": "stream",
     "name": "stdout",
     "text": "Model에 추가된 Layer 개수:  7\nModel: \"sequential_9\"\n_________________________________________________________________\nLayer (type)                 Output Shape              Param #   \n=================================================================\nconv2d_18 (Conv2D)           (None, 26, 26, 32)        896       \n_________________________________________________________________\nmax_pooling2d_18 (MaxPooling (None, 13, 13, 32)        0         \n_________________________________________________________________\nconv2d_19 (Conv2D)           (None, 11, 11, 64)        18496     \n_________________________________________________________________\nmax_pooling2d_19 (MaxPooling (None, 5, 5, 64)          0         \n_________________________________________________________________\nflatten_9 (Flatten)          (None, 1600)              0         \n_________________________________________________________________\ndense_18 (Dense)             (None, 256)               409856    \n_________________________________________________________________\ndense_19 (Dense)             (None, 3)                 771       \n=================================================================\nTotal params: 430,019\nTrainable params: 430,019\nNon-trainable params: 0\n_________________________________________________________________\nEpoch 1/20\n158/158 [==============================] - 0s 1ms/step - loss: 0.7435 - accuracy: 0.6645\nEpoch 2/20\n158/158 [==============================] - 0s 1ms/step - loss: 0.3839 - accuracy: 0.8504\nEpoch 3/20\n158/158 [==============================] - 0s 1ms/step - loss: 0.2218 - accuracy: 0.9222\nEpoch 4/20\n158/158 [==============================] - 0s 1ms/step - loss: 0.1312 - accuracy: 0.9623\nEpoch 5/20\n158/158 [==============================] - 0s 1ms/step - loss: 0.0728 - accuracy: 0.9810\nEpoch 6/20\n158/158 [==============================] - 0s 1ms/step - loss: 0.0491 - accuracy: 0.9885\nEpoch 7/20\n158/158 [==============================] - 0s 1ms/step - loss: 0.0274 - accuracy: 0.9933\nEpoch 8/20\n158/158 [==============================] - 0s 1ms/step - loss: 0.0248 - accuracy: 0.9946\nEpoch 9/20\n158/158 [==============================] - 0s 1ms/step - loss: 0.0138 - accuracy: 0.9970\nEpoch 10/20\n158/158 [==============================] - 0s 1ms/step - loss: 0.0053 - accuracy: 0.9998\nEpoch 11/20\n158/158 [==============================] - 0s 1ms/step - loss: 0.0031 - accuracy: 1.0000\nEpoch 12/20\n158/158 [==============================] - 0s 1ms/step - loss: 0.0016 - accuracy: 1.0000\nEpoch 13/20\n158/158 [==============================] - 0s 1ms/step - loss: 0.0014 - accuracy: 1.0000\nEpoch 14/20\n158/158 [==============================] - 0s 1ms/step - loss: 0.0012 - accuracy: 1.0000\nEpoch 15/20\n158/158 [==============================] - 0s 1ms/step - loss: 8.2333e-04 - accuracy: 1.0000\nEpoch 16/20\n158/158 [==============================] - 0s 1ms/step - loss: 6.9008e-04 - accuracy: 1.0000\nEpoch 17/20\n158/158 [==============================] - 0s 1ms/step - loss: 5.9227e-04 - accuracy: 1.0000\nEpoch 18/20\n158/158 [==============================] - 0s 1ms/step - loss: 4.6734e-04 - accuracy: 1.0000\nEpoch 19/20\n158/158 [==============================] - 0s 1ms/step - loss: 3.9874e-04 - accuracy: 1.0000\nEpoch 20/20\n158/158 [==============================] - 0s 1ms/step - loss: 3.3530e-04 - accuracy: 1.0000\n40/40 - 0s - loss: 0.0417 - accuracy: 0.9968\ntest_loss: 0.04170287773013115 \ntest_accuracy: 0.9968253970146179\nmodel.predict() 결과 :  [1.6245680e-06 3.2254487e-08 9.9999833e-01]\nmodel이 추론한 가장 가능성이 높은 결과 :  2\n실제 데이터의 라벨 :  2\n"
    }
   ],
   "source": [
    "# 모델 설계\n",
    "n_channel_1=32\n",
    "n_channel_2=64\n",
    "n_dense=256\n",
    "n_train_epoch=20\n",
    "\n",
    "n_image_channel = 3\n",
    "n_classes = 3\n",
    "\n",
    "model=keras.models.Sequential()\n",
    "model.add(keras.layers.Conv2D(n_channel_1, (3,3), activation='relu', input_shape=(28,28,n_image_channel)))\n",
    "model.add(keras.layers.MaxPool2D(2,2))\n",
    "model.add(keras.layers.Conv2D(n_channel_2, (3,3), activation='relu'))\n",
    "model.add(keras.layers.MaxPooling2D((2,2)))\n",
    "model.add(keras.layers.Flatten())\n",
    "model.add(keras.layers.Dense(n_dense, activation='relu'))\n",
    "model.add(keras.layers.Dense(n_classes, activation='softmax'))\n",
    "print('Model에 추가된 Layer 개수: ', len(model.layers))\n",
    "\n",
    "\n",
    "model.summary()\n",
    "\n",
    "# 모델 훈련\n",
    "model.compile(optimizer='adam',\n",
    "             loss='sparse_categorical_crossentropy',\n",
    "             metrics=['accuracy'])\n",
    "\n",
    "model.fit(x_train_norm, y_train, epochs=n_train_epoch)\n",
    "\n",
    "# 모델 테스트\n",
    "test_loss, test_accuracy = model.evaluate(x_test_norm,y_test, verbose=2)\n",
    "print(\"test_loss: {} \".format(test_loss))\n",
    "print(\"test_accuracy: {}\".format(test_accuracy))\n",
    "\n",
    "predicted_result = model.predict(x_test_norm)  # model이 추론한 확률값. \n",
    "predicted_labels = np.argmax(predicted_result, axis=1)\n",
    "\n",
    "idx=3  #4번째 x_test를 살펴보자. \n",
    "print('model.predict() 결과 : ', predicted_result[idx])\n",
    "print('model이 추론한 가장 가능성이 높은 결과 : ', predicted_labels[idx])\n",
    "print('실제 데이터의 라벨 : ', y_test[idx])"
   ]
  },
  {
   "cell_type": "code",
   "execution_count": null,
   "metadata": {},
   "outputs": [],
   "source": []
  }
 ],
 "metadata": {
  "kernelspec": {
   "display_name": "aiffel",
   "language": "python",
   "name": "aiffel"
  },
  "language_info": {
   "codemirror_mode": {
    "name": "ipython",
    "version": 3
   },
   "file_extension": ".py",
   "mimetype": "text/x-python",
   "name": "python",
   "nbconvert_exporter": "python",
   "pygments_lexer": "ipython3",
   "version": "3.7.6-final"
  }
 },
 "nbformat": 4,
 "nbformat_minor": 4
}