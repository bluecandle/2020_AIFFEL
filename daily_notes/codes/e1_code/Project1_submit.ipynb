{
 "cells": [
  {
   "cell_type": "markdown",
   "metadata": {},
   "source": [
    "# 데이터 준비하기"
   ]
  },
  {
   "cell_type": "code",
   "execution_count": 1,
   "metadata": {
    "tags": []
   },
   "outputs": [
    {
     "output_type": "stream",
     "name": "stdout",
     "text": "Requirement already satisfied: pillow in /home/aiffel0042/anaconda3/lib/python3.7/site-packages (7.0.0)\n"
    }
   ],
   "source": [
    "# PIL 라이브러리가 설치되어 있지 않다면 설치\n",
    "!pip install pillow   \n",
    "\n",
    "# 필요한 라이브러리 가져오기\n",
    "from PIL import Image\n",
    "import os, glob\n",
    "import matplotlib.pyplot as plt\n",
    "import tensorflow as tf\n",
    "from tensorflow import keras\n",
    "import numpy as np"
   ]
  },
  {
   "cell_type": "markdown",
   "metadata": {},
   "source": [
    "# 가위, 바위, 보 파일 크기 변환\n",
    "\n",
    "정확도를 상승시키기 위해 5조에서 모인 모든 데이터를 사용하기로 함.(2100장씩 6300장)   \n",
    "~~해당 데이터셋을 train, test set 으로 나누어서 사용.~~     \n",
    "(=>이미지가 서로 비슷하기 때문에, 실험 결과 비정상적으로 높은 정확도(약 99%)가 나온다)     \n",
    "그래서, 5조에서 모인 데이터는 학습용으로 사용하고, 노트북을 지급받을 때 있었던 데이터를 테스트 데이터로 사용한다.\n"
   ]
  },
  {
   "cell_type": "code",
   "execution_count": 2,
   "metadata": {
    "tags": []
   },
   "outputs": [
    {
     "output_type": "stream",
     "name": "stdout",
     "text": "이미지 디렉토리 경로:  /home/aiffel0042/aiffel/rock_scissor_paper/rcp_all/scissor_all\nscissor_all 이미지 resize 완료!\n이미지 디렉토리 경로:  /home/aiffel0042/aiffel/rock_scissor_paper/rcp_all/rock_all\nrock_all 이미지 resize 완료!\n이미지 디렉토리 경로:  /home/aiffel0042/aiffel/rock_scissor_paper/rcp_all/paper_all\npaper_all 이미지 resize 완료!\n이미지 디렉토리 경로:  /home/aiffel0042/aiffel/rock_scissor_paper/rcp_all/scissor_test\nscissor_test 이미지 resize 완료!\n이미지 디렉토리 경로:  /home/aiffel0042/aiffel/rock_scissor_paper/rcp_all/rock_test\nrock_test 이미지 resize 완료!\n이미지 디렉토리 경로:  /home/aiffel0042/aiffel/rock_scissor_paper/rcp_all/paper_test\npaper_test 이미지 resize 완료!\n"
    }
   ],
   "source": [
    "\n",
    "def convertImageSize(name):\n",
    "    image_dir_path = os.getenv(\"HOME\") + \"/aiffel/rock_scissor_paper/rcp_all/\"+name\n",
    "    print(\"이미지 디렉토리 경로: \", image_dir_path)\n",
    "\n",
    "    images=glob.glob(image_dir_path + \"/*.jpg\")  \n",
    "\n",
    "    img_size = 28\n",
    "    # 파일마다 모두 28x28 사이즈로 바꾸어 저장합니다.\n",
    "    target_size=(img_size,img_size)\n",
    "    for img in images:\n",
    "        old_img=Image.open(img)\n",
    "        new_img=old_img.resize(target_size,Image.ANTIALIAS)\n",
    "        new_img.save(img,\"JPEG\")\n",
    "\n",
    "    print(\"{} 이미지 resize 완료!\".format(name))\n",
    "\n",
    "dirs = ['scissor_all','rock_all','paper_all','scissor_test','rock_test','paper_test']\n",
    "for c in dirs:\n",
    "    convertImageSize(c)"
   ]
  },
  {
   "cell_type": "markdown",
   "metadata": {},
   "source": [
    "## 데이터 전부 불러오고, ~~train/test 데이터 분리~~\n",
    "[데이터 분리 참조](https://rfriend.tistory.com/519)\n",
    "\n",
    "앞서 언급한대로, 분리는 진행하지 않고, 별도의 test 데이터(노트북 지급받을 때 저장되어있던 testset) 를 사용한다."
   ]
  },
  {
   "cell_type": "code",
   "execution_count": 3,
   "metadata": {
    "tags": []
   },
   "outputs": [
    {
     "output_type": "stream",
     "name": "stdout",
     "text": "all 이미지 개수는 6300 입니다.\nx_train shape: (6300, 28, 28, 3)\ny_train shape: (6300,)\ntest 이미지 개수는 300 입니다.\nx_test shape: (300, 28, 28, 3)\ny_test shape: (300,)\n"
    }
   ],
   "source": [
    "def load_data(isTest,img_path):\n",
    "    # 가위 : 0, 바위 : 1, 보 : 2\n",
    "    number_of_data=2100*3   # 데이터는 2100개씩 있음\n",
    "    if(isTest):\n",
    "        number_of_data= 100 * 3\n",
    "    img_size=28\n",
    "    color=3\n",
    "    #이미지 데이터와 라벨(가위 : 0, 바위 : 1, 보 : 2) 데이터를 담을 행렬(matrix) 영역을 생성합니다.\n",
    "    imgs=np.zeros(number_of_data*img_size*img_size*color,dtype=np.int32).reshape(number_of_data,img_size,img_size,color)\n",
    "    labels=np.zeros(number_of_data,dtype=np.int32)\n",
    "\n",
    "    idx=0\n",
    "    suffix = 'all'\n",
    "    if(isTest):\n",
    "        suffix = 'test'\n",
    "        \n",
    "    for file in glob.iglob(img_path+'/scissor_{}/*.jpg'.format(suffix)):\n",
    "        img = np.array(Image.open(file),dtype=np.int32)\n",
    "        imgs[idx,:,:,:]=img    # 데이터 영역에 이미지 행렬을 복사\n",
    "        labels[idx]=0   # 가위 : 0\n",
    "        idx=idx+1\n",
    "\n",
    "    for file in glob.iglob(img_path+'/rock_{}/*.jpg'.format(suffix)):\n",
    "        img = np.array(Image.open(file),dtype=np.int32)\n",
    "        imgs[idx,:,:,:]=img    # 데이터 영역에 이미지 행렬을 복사\n",
    "        labels[idx]=1   # 바위 : 1\n",
    "        idx=idx+1       \n",
    "    \n",
    "    for file in glob.iglob(img_path+'/paper_{}/*.jpg'.format(suffix)):\n",
    "        img = np.array(Image.open(file),dtype=np.int32)\n",
    "        imgs[idx,:,:,:]=img    # 데이터 영역에 이미지 행렬을 복사\n",
    "        labels[idx]=2   # 보 : 2\n",
    "        idx=idx+1\n",
    "        \n",
    "    print(\"{} 이미지 개수는\".format(suffix),idx,\"입니다.\")\n",
    "    return imgs, labels\n",
    "\n",
    "image_dir_path = os.getenv(\"HOME\") + \"/aiffel/rock_scissor_paper/rcp_all/\"\n",
    "(x_train, y_train)=load_data(False,image_dir_path)\n",
    "\n",
    "x_train_norm = x_train/255.0   # 입력은 0~1 사이의 값으로 정규화\n",
    "\n",
    "print(\"x_train shape: {}\".format(x_train.shape))\n",
    "print(\"y_train shape: {}\".format(y_train.shape))\n",
    "\n",
    "(x_test, y_test)=load_data(True,image_dir_path)\n",
    "\n",
    "x_test_norm = x_test/255.0   # 입력은 0~1 사이의 값으로 정규화\n",
    "\n",
    "print(\"x_test shape: {}\".format(x_test.shape))\n",
    "print(\"y_test shape: {}\".format(y_test.shape))\n",
    "\n",
    "\n",
    "## train,test 구분하여 사용할 때 사용하였음\n",
    "# from sklearn.model_selection import train_test_split\n",
    "\n",
    "# x_train, x_test, y_train, y_test = train_test_split(x_whole,y_whole, test_size=0.1, shuffle=True, random_state=500)\n",
    "# print(\"x_train shape: {}\".format(x_train.shape))\n",
    "# print(\"x_test shape: {}\".format(x_test.shape))\n",
    "# print(\"y_train shape: {}\".format(y_train.shape))\n",
    "# print(\"y_test shape: {}\".format(y_test.shape))\n",
    "# x_train_norm = x_train/255.0   # 입력은 0~1 사이의 값으로 정규화\n",
    "# x_test_norm = x_test/255.0   # 입력은 0~1 사이의 값으로 정규화\n"
   ]
  },
  {
   "cell_type": "markdown",
   "metadata": {},
   "source": [
    "# 이미지 살펴보기"
   ]
  },
  {
   "cell_type": "code",
   "execution_count": 4,
   "metadata": {
    "tags": []
   },
   "outputs": [
    {
     "output_type": "stream",
     "name": "stdout",
     "text": "라벨:  0\n"
    },
    {
     "output_type": "display_data",
     "data": {
      "text/plain": "<Figure size 432x288 with 1 Axes>",
      "image/svg+xml": "<?xml version=\"1.0\" encoding=\"utf-8\" standalone=\"no\"?>\n<!DOCTYPE svg PUBLIC \"-//W3C//DTD SVG 1.1//EN\"\n  \"http://www.w3.org/Graphics/SVG/1.1/DTD/svg11.dtd\">\n<!-- Created with matplotlib (https://matplotlib.org/) -->\n<svg height=\"248.518125pt\" version=\"1.1\" viewBox=\"0 0 251.565 248.518125\" width=\"251.565pt\" xmlns=\"http://www.w3.org/2000/svg\" xmlns:xlink=\"http://www.w3.org/1999/xlink\">\n <defs>\n  <style type=\"text/css\">\n*{stroke-linecap:butt;stroke-linejoin:round;}\n  </style>\n </defs>\n <g id=\"figure_1\">\n  <g id=\"patch_1\">\n   <path d=\"M 0 248.518125 \nL 251.565 248.518125 \nL 251.565 0 \nL 0 0 \nz\n\" style=\"fill:none;\"/>\n  </g>\n  <g id=\"axes_1\">\n   <g id=\"patch_2\">\n    <path d=\"M 26.925 224.64 \nL 244.365 224.64 \nL 244.365 7.2 \nL 26.925 7.2 \nz\n\" style=\"fill:#ffffff;\"/>\n   </g>\n   <g clip-path=\"url(#p2327d768d0)\">\n    <image height=\"218\" id=\"image53f83b3865\" transform=\"scale(1 -1)translate(0 -218)\" width=\"218\" x=\"26.925\" xlink:href=\"data:image/png;base64,\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\" y=\"-6.64\"/>\n   </g>\n   <g id=\"matplotlib.axis_1\">\n    <g id=\"xtick_1\">\n     <g id=\"line2d_1\">\n      <defs>\n       <path d=\"M 0 0 \nL 0 3.5 \n\" id=\"m6fed2ab407\" style=\"stroke:#000000;stroke-width:0.8;\"/>\n      </defs>\n      <g>\n       <use style=\"stroke:#000000;stroke-width:0.8;\" x=\"30.807857\" xlink:href=\"#m6fed2ab407\" y=\"224.64\"/>\n      </g>\n     </g>\n     <g id=\"text_1\">\n      <!-- 0 -->\n      <defs>\n       <path d=\"M 31.78125 66.40625 \nQ 24.171875 66.40625 20.328125 58.90625 \nQ 16.5 51.421875 16.5 36.375 \nQ 16.5 21.390625 20.328125 13.890625 \nQ 24.171875 6.390625 31.78125 6.390625 \nQ 39.453125 6.390625 43.28125 13.890625 \nQ 47.125 21.390625 47.125 36.375 \nQ 47.125 51.421875 43.28125 58.90625 \nQ 39.453125 66.40625 31.78125 66.40625 \nz\nM 31.78125 74.21875 \nQ 44.046875 74.21875 50.515625 64.515625 \nQ 56.984375 54.828125 56.984375 36.375 \nQ 56.984375 17.96875 50.515625 8.265625 \nQ 44.046875 -1.421875 31.78125 -1.421875 \nQ 19.53125 -1.421875 13.0625 8.265625 \nQ 6.59375 17.96875 6.59375 36.375 \nQ 6.59375 54.828125 13.0625 64.515625 \nQ 19.53125 74.21875 31.78125 74.21875 \nz\n\" id=\"DejaVuSans-48\"/>\n      </defs>\n      <g transform=\"translate(27.626607 239.238437)scale(0.1 -0.1)\">\n       <use xlink:href=\"#DejaVuSans-48\"/>\n      </g>\n     </g>\n    </g>\n    <g id=\"xtick_2\">\n     <g id=\"line2d_2\">\n      <g>\n       <use style=\"stroke:#000000;stroke-width:0.8;\" x=\"69.636429\" xlink:href=\"#m6fed2ab407\" y=\"224.64\"/>\n      </g>\n     </g>\n     <g id=\"text_2\">\n      <!-- 5 -->\n      <defs>\n       <path d=\"M 10.796875 72.90625 \nL 49.515625 72.90625 \nL 49.515625 64.59375 \nL 19.828125 64.59375 \nL 19.828125 46.734375 \nQ 21.96875 47.46875 24.109375 47.828125 \nQ 26.265625 48.1875 28.421875 48.1875 \nQ 40.625 48.1875 47.75 41.5 \nQ 54.890625 34.8125 54.890625 23.390625 \nQ 54.890625 11.625 47.5625 5.09375 \nQ 40.234375 -1.421875 26.90625 -1.421875 \nQ 22.3125 -1.421875 17.546875 -0.640625 \nQ 12.796875 0.140625 7.71875 1.703125 \nL 7.71875 11.625 \nQ 12.109375 9.234375 16.796875 8.0625 \nQ 21.484375 6.890625 26.703125 6.890625 \nQ 35.15625 6.890625 40.078125 11.328125 \nQ 45.015625 15.765625 45.015625 23.390625 \nQ 45.015625 31 40.078125 35.4375 \nQ 35.15625 39.890625 26.703125 39.890625 \nQ 22.75 39.890625 18.8125 39.015625 \nQ 14.890625 38.140625 10.796875 36.28125 \nz\n\" id=\"DejaVuSans-53\"/>\n      </defs>\n      <g transform=\"translate(66.455179 239.238437)scale(0.1 -0.1)\">\n       <use xlink:href=\"#DejaVuSans-53\"/>\n      </g>\n     </g>\n    </g>\n    <g id=\"xtick_3\">\n     <g id=\"line2d_3\">\n      <g>\n       <use style=\"stroke:#000000;stroke-width:0.8;\" x=\"108.465\" xlink:href=\"#m6fed2ab407\" y=\"224.64\"/>\n      </g>\n     </g>\n     <g id=\"text_3\">\n      <!-- 10 -->\n      <defs>\n       <path d=\"M 12.40625 8.296875 \nL 28.515625 8.296875 \nL 28.515625 63.921875 \nL 10.984375 60.40625 \nL 10.984375 69.390625 \nL 28.421875 72.90625 \nL 38.28125 72.90625 \nL 38.28125 8.296875 \nL 54.390625 8.296875 \nL 54.390625 0 \nL 12.40625 0 \nz\n\" id=\"DejaVuSans-49\"/>\n      </defs>\n      <g transform=\"translate(102.1025 239.238437)scale(0.1 -0.1)\">\n       <use xlink:href=\"#DejaVuSans-49\"/>\n       <use x=\"63.623047\" xlink:href=\"#DejaVuSans-48\"/>\n      </g>\n     </g>\n    </g>\n    <g id=\"xtick_4\">\n     <g id=\"line2d_4\">\n      <g>\n       <use style=\"stroke:#000000;stroke-width:0.8;\" x=\"147.293571\" xlink:href=\"#m6fed2ab407\" y=\"224.64\"/>\n      </g>\n     </g>\n     <g id=\"text_4\">\n      <!-- 15 -->\n      <g transform=\"translate(140.931071 239.238437)scale(0.1 -0.1)\">\n       <use xlink:href=\"#DejaVuSans-49\"/>\n       <use x=\"63.623047\" xlink:href=\"#DejaVuSans-53\"/>\n      </g>\n     </g>\n    </g>\n    <g id=\"xtick_5\">\n     <g id=\"line2d_5\">\n      <g>\n       <use style=\"stroke:#000000;stroke-width:0.8;\" x=\"186.122143\" xlink:href=\"#m6fed2ab407\" y=\"224.64\"/>\n      </g>\n     </g>\n     <g id=\"text_5\">\n      <!-- 20 -->\n      <defs>\n       <path d=\"M 19.1875 8.296875 \nL 53.609375 8.296875 \nL 53.609375 0 \nL 7.328125 0 \nL 7.328125 8.296875 \nQ 12.9375 14.109375 22.625 23.890625 \nQ 32.328125 33.6875 34.8125 36.53125 \nQ 39.546875 41.84375 41.421875 45.53125 \nQ 43.3125 49.21875 43.3125 52.78125 \nQ 43.3125 58.59375 39.234375 62.25 \nQ 35.15625 65.921875 28.609375 65.921875 \nQ 23.96875 65.921875 18.8125 64.3125 \nQ 13.671875 62.703125 7.8125 59.421875 \nL 7.8125 69.390625 \nQ 13.765625 71.78125 18.9375 73 \nQ 24.125 74.21875 28.421875 74.21875 \nQ 39.75 74.21875 46.484375 68.546875 \nQ 53.21875 62.890625 53.21875 53.421875 \nQ 53.21875 48.921875 51.53125 44.890625 \nQ 49.859375 40.875 45.40625 35.40625 \nQ 44.1875 33.984375 37.640625 27.21875 \nQ 31.109375 20.453125 19.1875 8.296875 \nz\n\" id=\"DejaVuSans-50\"/>\n      </defs>\n      <g transform=\"translate(179.759643 239.238437)scale(0.1 -0.1)\">\n       <use xlink:href=\"#DejaVuSans-50\"/>\n       <use x=\"63.623047\" xlink:href=\"#DejaVuSans-48\"/>\n      </g>\n     </g>\n    </g>\n    <g id=\"xtick_6\">\n     <g id=\"line2d_6\">\n      <g>\n       <use style=\"stroke:#000000;stroke-width:0.8;\" x=\"224.950714\" xlink:href=\"#m6fed2ab407\" y=\"224.64\"/>\n      </g>\n     </g>\n     <g id=\"text_6\">\n      <!-- 25 -->\n      <g transform=\"translate(218.588214 239.238437)scale(0.1 -0.1)\">\n       <use xlink:href=\"#DejaVuSans-50\"/>\n       <use x=\"63.623047\" xlink:href=\"#DejaVuSans-53\"/>\n      </g>\n     </g>\n    </g>\n   </g>\n   <g id=\"matplotlib.axis_2\">\n    <g id=\"ytick_1\">\n     <g id=\"line2d_7\">\n      <defs>\n       <path d=\"M 0 0 \nL -3.5 0 \n\" id=\"m651b859e5d\" style=\"stroke:#000000;stroke-width:0.8;\"/>\n      </defs>\n      <g>\n       <use style=\"stroke:#000000;stroke-width:0.8;\" x=\"26.925\" xlink:href=\"#m651b859e5d\" y=\"11.082857\"/>\n      </g>\n     </g>\n     <g id=\"text_7\">\n      <!-- 0 -->\n      <g transform=\"translate(13.5625 14.882076)scale(0.1 -0.1)\">\n       <use xlink:href=\"#DejaVuSans-48\"/>\n      </g>\n     </g>\n    </g>\n    <g id=\"ytick_2\">\n     <g id=\"line2d_8\">\n      <g>\n       <use style=\"stroke:#000000;stroke-width:0.8;\" x=\"26.925\" xlink:href=\"#m651b859e5d\" y=\"49.911429\"/>\n      </g>\n     </g>\n     <g id=\"text_8\">\n      <!-- 5 -->\n      <g transform=\"translate(13.5625 53.710647)scale(0.1 -0.1)\">\n       <use xlink:href=\"#DejaVuSans-53\"/>\n      </g>\n     </g>\n    </g>\n    <g id=\"ytick_3\">\n     <g id=\"line2d_9\">\n      <g>\n       <use style=\"stroke:#000000;stroke-width:0.8;\" x=\"26.925\" xlink:href=\"#m651b859e5d\" y=\"88.74\"/>\n      </g>\n     </g>\n     <g id=\"text_9\">\n      <!-- 10 -->\n      <g transform=\"translate(7.2 92.539219)scale(0.1 -0.1)\">\n       <use xlink:href=\"#DejaVuSans-49\"/>\n       <use x=\"63.623047\" xlink:href=\"#DejaVuSans-48\"/>\n      </g>\n     </g>\n    </g>\n    <g id=\"ytick_4\">\n     <g id=\"line2d_10\">\n      <g>\n       <use style=\"stroke:#000000;stroke-width:0.8;\" x=\"26.925\" xlink:href=\"#m651b859e5d\" y=\"127.568571\"/>\n      </g>\n     </g>\n     <g id=\"text_10\">\n      <!-- 15 -->\n      <g transform=\"translate(7.2 131.36779)scale(0.1 -0.1)\">\n       <use xlink:href=\"#DejaVuSans-49\"/>\n       <use x=\"63.623047\" xlink:href=\"#DejaVuSans-53\"/>\n      </g>\n     </g>\n    </g>\n    <g id=\"ytick_5\">\n     <g id=\"line2d_11\">\n      <g>\n       <use style=\"stroke:#000000;stroke-width:0.8;\" x=\"26.925\" xlink:href=\"#m651b859e5d\" y=\"166.397143\"/>\n      </g>\n     </g>\n     <g id=\"text_11\">\n      <!-- 20 -->\n      <g transform=\"translate(7.2 170.196362)scale(0.1 -0.1)\">\n       <use xlink:href=\"#DejaVuSans-50\"/>\n       <use x=\"63.623047\" xlink:href=\"#DejaVuSans-48\"/>\n      </g>\n     </g>\n    </g>\n    <g id=\"ytick_6\">\n     <g id=\"line2d_12\">\n      <g>\n       <use style=\"stroke:#000000;stroke-width:0.8;\" x=\"26.925\" xlink:href=\"#m651b859e5d\" y=\"205.225714\"/>\n      </g>\n     </g>\n     <g id=\"text_12\">\n      <!-- 25 -->\n      <g transform=\"translate(7.2 209.024933)scale(0.1 -0.1)\">\n       <use xlink:href=\"#DejaVuSans-50\"/>\n       <use x=\"63.623047\" xlink:href=\"#DejaVuSans-53\"/>\n      </g>\n     </g>\n    </g>\n   </g>\n   <g id=\"patch_3\">\n    <path d=\"M 26.925 224.64 \nL 26.925 7.2 \n\" style=\"fill:none;stroke:#000000;stroke-linecap:square;stroke-linejoin:miter;stroke-width:0.8;\"/>\n   </g>\n   <g id=\"patch_4\">\n    <path d=\"M 244.365 224.64 \nL 244.365 7.2 \n\" style=\"fill:none;stroke:#000000;stroke-linecap:square;stroke-linejoin:miter;stroke-width:0.8;\"/>\n   </g>\n   <g id=\"patch_5\">\n    <path d=\"M 26.925 224.64 \nL 244.365 224.64 \n\" style=\"fill:none;stroke:#000000;stroke-linecap:square;stroke-linejoin:miter;stroke-width:0.8;\"/>\n   </g>\n   <g id=\"patch_6\">\n    <path d=\"M 26.925 7.2 \nL 244.365 7.2 \n\" style=\"fill:none;stroke:#000000;stroke-linecap:square;stroke-linejoin:miter;stroke-width:0.8;\"/>\n   </g>\n  </g>\n </g>\n <defs>\n  <clipPath id=\"p2327d768d0\">\n   <rect height=\"217.44\" width=\"217.44\" x=\"26.925\" y=\"7.2\"/>\n  </clipPath>\n </defs>\n</svg>\n",
      "image/png": "[encoded data removed]"
     },
     "metadata": {
      "needs_background": "light"
     }
    }
   ],
   "source": [
    "import matplotlib.pyplot as plt\n",
    "plt.imshow(x_train[601])\n",
    "print('라벨: ', y_train[601])\n",
    "# plt.imshow(x_test[201])\n",
    "# print('라벨: ', y_test[201])\n"
   ]
  },
  {
   "cell_type": "markdown",
   "metadata": {},
   "source": [
    "# 딥러닝 네트워크 설계하기"
   ]
  },
  {
   "cell_type": "code",
   "execution_count": 5,
   "metadata": {
    "tags": []
   },
   "outputs": [
    {
     "output_type": "stream",
     "name": "stdout",
     "text": "Model에 추가된 Layer 개수:  7\nModel: \"sequential\"\n_________________________________________________________________\nLayer (type)                 Output Shape              Param #   \n=================================================================\nconv2d (Conv2D)              (None, 26, 26, 32)        896       \n_________________________________________________________________\nmax_pooling2d (MaxPooling2D) (None, 13, 13, 32)        0         \n_________________________________________________________________\nconv2d_1 (Conv2D)            (None, 11, 11, 64)        18496     \n_________________________________________________________________\nmax_pooling2d_1 (MaxPooling2 (None, 5, 5, 64)          0         \n_________________________________________________________________\nflatten (Flatten)            (None, 1600)              0         \n_________________________________________________________________\ndense (Dense)                (None, 64)                102464    \n_________________________________________________________________\ndense_1 (Dense)              (None, 3)                 195       \n=================================================================\nTotal params: 122,051\nTrainable params: 122,051\nNon-trainable params: 0\n_________________________________________________________________\n"
    }
   ],
   "source": [
    "n_channel_1=32\n",
    "n_channel_2=64\n",
    "n_dense=64\n",
    "n_train_epoch=20\n",
    "\n",
    "n_image_channel = 3\n",
    "n_classes = 3\n",
    "\n",
    "model=keras.models.Sequential()\n",
    "model.add(keras.layers.Conv2D(n_channel_1, (3,3), activation='relu', input_shape=(28,28,n_image_channel)))\n",
    "model.add(keras.layers.MaxPool2D(2,2))\n",
    "model.add(keras.layers.Conv2D(n_channel_2, (3,3), activation='relu'))\n",
    "model.add(keras.layers.MaxPooling2D((2,2)))\n",
    "model.add(keras.layers.Flatten())\n",
    "model.add(keras.layers.Dense(n_dense, activation='relu'))\n",
    "model.add(keras.layers.Dense(n_classes, activation='softmax'))\n",
    "print('Model에 추가된 Layer 개수: ', len(model.layers))\n",
    "\n",
    "\n",
    "model.summary()"
   ]
  },
  {
   "cell_type": "markdown",
   "metadata": {},
   "source": [
    "# 딥러닝 네트워크 학습시키기"
   ]
  },
  {
   "cell_type": "code",
   "execution_count": 6,
   "metadata": {
    "tags": []
   },
   "outputs": [
    {
     "output_type": "stream",
     "name": "stdout",
     "text": "Epoch 1/20\n197/197 [==============================] - 5s 24ms/step - loss: 0.7767 - accuracy: 0.6513\nEpoch 2/20\n197/197 [==============================] - 0s 2ms/step - loss: 0.3729 - accuracy: 0.8598\nEpoch 3/20\n197/197 [==============================] - 0s 2ms/step - loss: 0.2097 - accuracy: 0.9311\nEpoch 4/20\n197/197 [==============================] - 0s 2ms/step - loss: 0.1295 - accuracy: 0.9613\nEpoch 5/20\n197/197 [==============================] - 0s 2ms/step - loss: 0.0872 - accuracy: 0.9763\nEpoch 6/20\n197/197 [==============================] - 0s 2ms/step - loss: 0.0541 - accuracy: 0.9863\nEpoch 7/20\n197/197 [==============================] - 0s 2ms/step - loss: 0.0383 - accuracy: 0.9913\nEpoch 8/20\n197/197 [==============================] - 0s 2ms/step - loss: 0.0276 - accuracy: 0.9944\nEpoch 9/20\n197/197 [==============================] - 0s 2ms/step - loss: 0.0200 - accuracy: 0.9957\nEpoch 10/20\n197/197 [==============================] - 0s 2ms/step - loss: 0.0123 - accuracy: 0.9975\nEpoch 11/20\n197/197 [==============================] - 0s 2ms/step - loss: 0.0089 - accuracy: 0.9992\nEpoch 12/20\n197/197 [==============================] - 0s 2ms/step - loss: 0.0054 - accuracy: 0.9998\nEpoch 13/20\n197/197 [==============================] - 0s 2ms/step - loss: 0.0031 - accuracy: 1.0000\nEpoch 14/20\n197/197 [==============================] - 0s 2ms/step - loss: 0.0021 - accuracy: 1.0000\nEpoch 15/20\n197/197 [==============================] - 0s 2ms/step - loss: 0.0016 - accuracy: 1.0000\nEpoch 16/20\n197/197 [==============================] - 0s 2ms/step - loss: 0.0012 - accuracy: 1.0000\nEpoch 17/20\n197/197 [==============================] - 0s 2ms/step - loss: 0.0010 - accuracy: 1.0000\nEpoch 18/20\n197/197 [==============================] - 0s 2ms/step - loss: 8.1384e-04 - accuracy: 1.0000\nEpoch 19/20\n197/197 [==============================] - 0s 2ms/step - loss: 7.6145e-04 - accuracy: 1.0000\nEpoch 20/20\n197/197 [==============================] - 0s 2ms/step - loss: 5.7148e-04 - accuracy: 1.0000\n"
    },
    {
     "output_type": "execute_result",
     "data": {
      "text/plain": "<tensorflow.python.keras.callbacks.History at 0x7f39c0456310>"
     },
     "metadata": {},
     "execution_count": 6
    }
   ],
   "source": [
    "# 모델 훈련\n",
    "model.compile(optimizer='adam',\n",
    "             loss='sparse_categorical_crossentropy',\n",
    "             metrics=['accuracy'])\n",
    "\n",
    "model.fit(x_train_norm, y_train, epochs=n_train_epoch)"
   ]
  },
  {
   "cell_type": "markdown",
   "metadata": {},
   "source": [
    "# 테스트\n",
    "테스트 데이터는 이미 만들어져 있음"
   ]
  },
  {
   "cell_type": "code",
   "execution_count": 7,
   "metadata": {
    "tags": []
   },
   "outputs": [
    {
     "output_type": "stream",
     "name": "stdout",
     "text": "x_test shape: (300, 28, 28, 3)\ny_test shape: (300,)\n"
    }
   ],
   "source": [
    "print(\"x_test shape: {}\".format(x_test.shape))\n",
    "print(\"y_test shape: {}\".format(y_test.shape))"
   ]
  },
  {
   "cell_type": "markdown",
   "metadata": {},
   "source": [
    "## loss, accuracy 측정"
   ]
  },
  {
   "cell_type": "code",
   "execution_count": 8,
   "metadata": {
    "tags": []
   },
   "outputs": [
    {
     "output_type": "stream",
     "name": "stdout",
     "text": "10/10 - 2s - loss: 14.9496 - accuracy: 0.3567\ntest_loss: 14.949614524841309 \ntest_accuracy: 0.3566666543483734\nmodel.predict() 결과 :  [2.6992468e-16 4.8711492e-08 1.0000000e+00]\nmodel이 추론한 가장 가능성이 높은 결과 :  2\n실제 데이터의 라벨 :  0\n"
    }
   ],
   "source": [
    "\n",
    "test_loss, test_accuracy = model.evaluate(x_test_norm,y_test, verbose=2)\n",
    "print(\"test_loss: {} \".format(test_loss))\n",
    "print(\"test_accuracy: {}\".format(test_accuracy))\n",
    "\n",
    "predicted_result = model.predict(x_test_norm)  # model이 추론한 확률값. \n",
    "predicted_labels = np.argmax(predicted_result, axis=1)\n",
    "\n",
    "idx=3  #4번째 x_test를 살펴보자. \n",
    "print('model.predict() 결과 : ', predicted_result[idx])\n",
    "print('model이 추론한 가장 가능성이 높은 결과 : ', predicted_labels[idx])\n",
    "print('실제 데이터의 라벨 : ', y_test[idx])"
   ]
  },
  {
   "cell_type": "markdown",
   "metadata": {},
   "source": [
    "# 더 좋은 네트워크 만들어보기"
   ]
  },
  {
   "cell_type": "code",
   "execution_count": 12,
   "metadata": {
    "tags": []
   },
   "outputs": [
    {
     "output_type": "stream",
     "name": "stdout",
     "text": "Model에 추가된 Layer 개수:  8\nModel: \"sequential_19\"\n_________________________________________________________________\nLayer (type)                 Output Shape              Param #   \n=================================================================\nconv2d_38 (Conv2D)           (None, 26, 26, 64)        1792      \n_________________________________________________________________\nmax_pooling2d_38 (MaxPooling (None, 13, 13, 64)        0         \n_________________________________________________________________\nconv2d_39 (Conv2D)           (None, 11, 11, 128)       73856     \n_________________________________________________________________\nmax_pooling2d_39 (MaxPooling (None, 5, 5, 128)         0         \n_________________________________________________________________\ndropout_1 (Dropout)          (None, 5, 5, 128)         0         \n_________________________________________________________________\nflatten_19 (Flatten)         (None, 3200)              0         \n_________________________________________________________________\ndense_38 (Dense)             (None, 128)               409728    \n_________________________________________________________________\ndense_39 (Dense)             (None, 3)                 387       \n=================================================================\nTotal params: 485,763\nTrainable params: 485,763\nNon-trainable params: 0\n_________________________________________________________________\nEpoch 1/30\n197/197 [==============================] - 0s 2ms/step - loss: 0.7813 - accuracy: 0.6325\nEpoch 2/30\n197/197 [==============================] - 0s 2ms/step - loss: 0.3986 - accuracy: 0.8378\nEpoch 3/30\n197/197 [==============================] - 0s 2ms/step - loss: 0.2415 - accuracy: 0.9076\nEpoch 4/30\n197/197 [==============================] - 0s 2ms/step - loss: 0.1538 - accuracy: 0.9495\nEpoch 5/30\n197/197 [==============================] - 0s 2ms/step - loss: 0.0974 - accuracy: 0.9673\nEpoch 6/30\n197/197 [==============================] - 0s 2ms/step - loss: 0.0690 - accuracy: 0.9765\nEpoch 7/30\n197/197 [==============================] - 0s 2ms/step - loss: 0.0517 - accuracy: 0.9843\nEpoch 8/30\n197/197 [==============================] - 0s 2ms/step - loss: 0.0462 - accuracy: 0.9848\nEpoch 9/30\n197/197 [==============================] - 0s 2ms/step - loss: 0.0367 - accuracy: 0.9881\nEpoch 10/30\n197/197 [==============================] - 0s 2ms/step - loss: 0.0267 - accuracy: 0.9906\nEpoch 11/30\n197/197 [==============================] - 0s 2ms/step - loss: 0.0229 - accuracy: 0.9917\nEpoch 12/30\n197/197 [==============================] - 0s 2ms/step - loss: 0.0227 - accuracy: 0.9924\nEpoch 13/30\n197/197 [==============================] - 0s 2ms/step - loss: 0.0264 - accuracy: 0.9919\nEpoch 14/30\n197/197 [==============================] - 0s 2ms/step - loss: 0.0205 - accuracy: 0.9937\nEpoch 15/30\n197/197 [==============================] - 0s 2ms/step - loss: 0.0188 - accuracy: 0.9940\nEpoch 16/30\n197/197 [==============================] - 0s 2ms/step - loss: 0.0126 - accuracy: 0.9957\nEpoch 17/30\n197/197 [==============================] - 0s 2ms/step - loss: 0.0178 - accuracy: 0.9932\nEpoch 18/30\n197/197 [==============================] - 0s 2ms/step - loss: 0.0342 - accuracy: 0.9900\nEpoch 19/30\n197/197 [==============================] - 0s 2ms/step - loss: 0.0149 - accuracy: 0.9951\nEpoch 20/30\n197/197 [==============================] - 0s 2ms/step - loss: 0.0142 - accuracy: 0.9956\nEpoch 21/30\n197/197 [==============================] - 0s 2ms/step - loss: 0.0156 - accuracy: 0.9949\nEpoch 22/30\n197/197 [==============================] - 0s 2ms/step - loss: 0.0121 - accuracy: 0.9956\nEpoch 23/30\n197/197 [==============================] - 0s 2ms/step - loss: 0.0121 - accuracy: 0.9965\nEpoch 24/30\n197/197 [==============================] - 0s 2ms/step - loss: 0.0081 - accuracy: 0.9975\nEpoch 25/30\n197/197 [==============================] - 0s 2ms/step - loss: 0.0119 - accuracy: 0.9962\nEpoch 26/30\n197/197 [==============================] - 0s 2ms/step - loss: 0.0127 - accuracy: 0.9954\nEpoch 27/30\n197/197 [==============================] - 0s 2ms/step - loss: 0.0142 - accuracy: 0.9956\nEpoch 28/30\n197/197 [==============================] - 0s 2ms/step - loss: 0.0183 - accuracy: 0.9946\nEpoch 29/30\n197/197 [==============================] - 0s 2ms/step - loss: 0.0062 - accuracy: 0.9983\nEpoch 30/30\n197/197 [==============================] - 0s 2ms/step - loss: 0.0103 - accuracy: 0.9968\n10/10 - 0s - loss: 14.1536 - accuracy: 0.4767\n===================== result ================== \nn_channel_1: 64\nn_channel_2: 128\nn_dense: 128\nn_train_epoch: 30\ntest_loss: 14.153580665588379 \ntest_accuracy: 0.476666659116745\n"
    }
   ],
   "source": [
    "n_channel_1= 64\n",
    "n_channel_2= 128\n",
    "n_dense= 128\n",
    "n_train_epoch= 20\n",
    "\n",
    "n_image_channel = 3\n",
    "n_classes = 3\n",
    "# 모델 설계\n",
    "model=keras.models.Sequential()\n",
    "model.add(keras.layers.Conv2D(n_channel_1, (3,3), activation='relu', input_shape=(28,28,n_image_channel)))\n",
    "model.add(keras.layers.MaxPool2D(2,2))\n",
    "model.add(keras.layers.Conv2D(n_channel_2, (3,3), activation='relu'))\n",
    "model.add(keras.layers.MaxPooling2D((2,2)))\n",
    "model.add(keras.layers.Dropout(0.5))\n",
    "model.add(keras.layers.Flatten())\n",
    "model.add(keras.layers.Dense(n_dense, activation='relu'))\n",
    "model.add(keras.layers.Dense(n_classes, activation='softmax'))\n",
    "print('Model에 추가된 Layer 개수: ', len(model.layers))\n",
    "\n",
    "model.summary()\n",
    "\n",
    "# 모델 훈련\n",
    "model.compile(optimizer='adam',\n",
    "            loss='sparse_categorical_crossentropy',\n",
    "            metrics=['accuracy'])\n",
    "\n",
    "model.fit(x_train_norm, y_train, epochs=n_train_epoch)\n",
    "\n",
    "# 모델 테스트\n",
    "test_loss, test_accuracy = model.evaluate(x_test_norm,y_test, verbose=2)\n",
    "print(\"===================== result ================== \")\n",
    "print(\"n_channel_1: {}\".format(n_channel_1))\n",
    "print(\"n_channel_2: {}\".format(n_channel_2))\n",
    "print(\"n_dense: {}\".format(n_dense))\n",
    "print(\"n_train_epoch: {}\".format(n_train_epoch))\n",
    "\n",
    "print(\"test_loss: {} \".format(test_loss))\n",
    "print(\"test_accuracy: {}\".format(test_accuracy))\n",
    "\n",
    "\n",
    "# predicted_result = model.predict(x_test_norm)  # model이 추론한 확률값. \n",
    "# predicted_labels = np.argmax(predicted_result, axis=1)\n",
    "\n",
    "# idx=3  #4번째 x_test를 살펴보자. \n",
    "# print('model.predict() 결과 : ', predicted_result[idx])\n",
    "# print('model이 추론한 가장 가능성이 높은 결과 : ', predicted_labels[idx])\n",
    "# print('실제 데이터의 라벨 : ', y_test[idx])"
   ]
  },
  {
   "cell_type": "markdown",
   "metadata": {},
   "source": [
    "# 가장 높은 정확도 결과\n",
    "\n"
   ]
  }
 ],
 "metadata": {
  "kernelspec": {
   "display_name": "aiffel",
   "language": "python",
   "name": "aiffel"
  },
  "language_info": {
   "codemirror_mode": {
    "name": "ipython",
    "version": 3
   },
   "file_extension": ".py",
   "mimetype": "text/x-python",
   "name": "python",
   "nbconvert_exporter": "python",
   "pygments_lexer": "ipython3",
   "version": "3.7.6-final"
  }
 },
 "nbformat": 4,
 "nbformat_minor": 4
}