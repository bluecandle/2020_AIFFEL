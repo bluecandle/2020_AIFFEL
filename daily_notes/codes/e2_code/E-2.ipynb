{
 "cells": [
  {
   "cell_type": "code",
   "execution_count": 316,
   "metadata": {},
   "outputs": [],
   "source": [
    "### 모듈 import \n",
    "from sklearn.datasets import load_digits\n",
    "from sklearn.model_selection import train_test_split\n",
    "from sklearn.metrics import classification_report\n",
    "from sklearn.metrics import accuracy_score\n",
    "from sklearn.metrics import confusion_matrix\n",
    "from sklearn.metrics import precision_score\n",
    "\n",
    "### models\n",
    "from sklearn.tree import DecisionTreeClassifier\n",
    "from sklearn.ensemble import RandomForestClassifier\n",
    "from sklearn.svm import SVC\n",
    "from sklearn.linear_model import SGDClassifier\n",
    "from sklearn.linear_model import LogisticRegression"
   ]
  },
  {
   "cell_type": "markdown",
   "metadata": {},
   "source": [
    "---\n",
    "# 프로젝트 (1) load_digits : 손글씨를 분류해 봅시다\n",
    "\n",
    "### 모델 성능 판단 기준치에 대한 생각\n",
    "\n",
    "각 글씨를 정확하게 판별하는 것, 즉 해당 글씨를 다른 글씨로 판단하지 않는 것이 가장 중요하다고 생각하기 때문에, <b>precision 의 평균</b>을 성능을 판단하는 기준치로 사용하는 것이 좋다고 생각한다."
   ]
  },
  {
   "cell_type": "code",
   "execution_count": 317,
   "metadata": {},
   "outputs": [],
   "source": [
    "### 데이터 불러오기\n",
    "digits = load_digits()\n",
    "digit_data = digits.data\n",
    "digit_label = digits.target"
   ]
  },
  {
   "cell_type": "code",
   "execution_count": 318,
   "metadata": {},
   "outputs": [
    {
     "name": "stdout",
     "output_type": "stream",
     "text": [
      "(1797, 64)\n",
      "[[ 0.  0.  5. ...  0.  0.  0.]\n",
      " [ 0.  0.  0. ... 10.  0.  0.]\n",
      " [ 0.  0.  0. ... 16.  9.  0.]\n",
      " ...\n",
      " [ 0.  0.  1. ...  6.  0.  0.]\n",
      " [ 0.  0.  2. ... 12.  0.  0.]\n",
      " [ 0.  0. 10. ... 12.  1.  0.]]\n",
      "(1797,)\n",
      "[0 1 2 ... 8 9 8]\n",
      ".. _digits_dataset:\n",
      "\n",
      "Optical recognition of handwritten digits dataset\n",
      "--------------------------------------------------\n",
      "\n",
      "**Data Set Characteristics:**\n",
      "\n",
      "    :Number of Instances: 5620\n",
      "    :Number of Attributes: 64\n",
      "    :Attribute Information: 8x8 image of integer pixels in the range 0..16.\n",
      "    :Missing Attribute Values: None\n",
      "    :Creator: E. Alpaydin (alpaydin '@' boun.edu.tr)\n",
      "    :Date: July; 1998\n",
      "\n",
      "This is a copy of the test set of the UCI ML hand-written digits datasets\n",
      "https://archive.ics.uci.edu/ml/datasets/Optical+Recognition+of+Handwritten+Digits\n",
      "\n",
      "The data set contains images of hand-written digits: 10 classes where\n",
      "each class refers to a digit.\n",
      "\n",
      "Preprocessing programs made available by NIST were used to extract\n",
      "normalized bitmaps of handwritten digits from a preprinted form. From a\n",
      "total of 43 people, 30 contributed to the training set and different 13\n",
      "to the test set. 32x32 bitmaps are divided into nonoverlapping blocks of\n",
      "4x4 and the number of on pixels are counted in each block. This generates\n",
      "an input matrix of 8x8 where each element is an integer in the range\n",
      "0..16. This reduces dimensionality and gives invariance to small\n",
      "distortions.\n",
      "\n",
      "For info on NIST preprocessing routines, see M. D. Garris, J. L. Blue, G.\n",
      "T. Candela, D. L. Dimmick, J. Geist, P. J. Grother, S. A. Janet, and C.\n",
      "L. Wilson, NIST Form-Based Handprint Recognition System, NISTIR 5469,\n",
      "1994.\n",
      "\n",
      ".. topic:: References\n",
      "\n",
      "  - C. Kaynak (1995) Methods of Combining Multiple Classifiers and Their\n",
      "    Applications to Handwritten Digit Recognition, MSc Thesis, Institute of\n",
      "    Graduate Studies in Science and Engineering, Bogazici University.\n",
      "  - E. Alpaydin, C. Kaynak (1998) Cascading Classifiers, Kybernetika.\n",
      "  - Ken Tang and Ponnuthurai N. Suganthan and Xi Yao and A. Kai Qin.\n",
      "    Linear dimensionalityreduction using relevance weighted LDA. School of\n",
      "    Electrical and Electronic Engineering Nanyang Technological University.\n",
      "    2005.\n",
      "  - Claudio Gentile. A New Approximate Maximal Margin Classification\n",
      "    Algorithm. NIPS. 2000.\n"
     ]
    }
   ],
   "source": [
    "### 데이터 이해하기\n",
    "print(digit_data.shape)\n",
    "print(digit_data)\n",
    "print(digit_label.shape)\n",
    "print(digit_label)\n",
    "# 64개의 feature( 8x8 => 64픽셀 ) 를 가진 1797개의 데이터\n",
    "print(digits.DESCR)"
   ]
  },
  {
   "cell_type": "code",
   "execution_count": 319,
   "metadata": {},
   "outputs": [
    {
     "name": "stdout",
     "output_type": "stream",
     "text": [
      "(1437, 64)\n",
      "(360, 64)\n"
     ]
    }
   ],
   "source": [
    "### train, test 데이터 분리\n",
    "X_train, X_test, y_train, y_test = train_test_split(digit_data, \n",
    "                                                    digit_label, \n",
    "                                                    test_size=0.2, \n",
    "                                                    random_state=10)\n",
    "# print(X_train)\n",
    "# print(X_test)\n",
    "print(X_train.shape)\n",
    "print(X_test.shape)"
   ]
  },
  {
   "cell_type": "markdown",
   "metadata": {},
   "source": [
    "## 다양한 모델로 학습시켜보기"
   ]
  },
  {
   "cell_type": "code",
   "execution_count": 320,
   "metadata": {},
   "outputs": [
    {
     "name": "stdout",
     "output_type": "stream",
     "text": [
      "프로젝트 (1) 손글씨를 분류해 봅시다\n",
      "DecisionTreeClassifier accuracy : 0.8527777777777777\n",
      "DecisionTreeClassifier classification\n",
      "              precision    recall  f1-score   support\n",
      "\n",
      "           0       0.94      0.92      0.93        37\n",
      "           1       0.91      0.91      0.91        34\n",
      "           2       0.81      0.88      0.85        34\n",
      "           3       0.79      0.85      0.82        40\n",
      "           4       0.73      0.79      0.76        34\n",
      "           5       0.91      0.91      0.91        32\n",
      "           6       0.94      0.92      0.93        37\n",
      "           7       0.95      0.88      0.91        40\n",
      "           8       0.74      0.70      0.72        33\n",
      "           9       0.81      0.77      0.79        39\n",
      "\n",
      "    accuracy                           0.85       360\n",
      "   macro avg       0.85      0.85      0.85       360\n",
      "weighted avg       0.86      0.85      0.85       360\n",
      "\n"
     ]
    }
   ],
   "source": [
    "### Decision tree\n",
    "decision_tree = DecisionTreeClassifier(random_state=10)\n",
    "decision_tree.fit(X_train,y_train)\n",
    "y_pred = decision_tree.predict(X_test)\n",
    "accuracy = accuracy_score(y_test, y_pred)\n",
    "classification = classification_report(y_test,y_pred)\n",
    "print('프로젝트 (1) 손글씨를 분류해 봅시다')\n",
    "print('DecisionTreeClassifier ' 'accuracy : {}'.format(accuracy))\n",
    "print('DecisionTreeClassifier ' 'classification')\n",
    "print(classification)"
   ]
  },
  {
   "cell_type": "code",
   "execution_count": 321,
   "metadata": {},
   "outputs": [
    {
     "name": "stdout",
     "output_type": "stream",
     "text": [
      "프로젝트 (1) 손글씨를 분류해 봅시다\n",
      "RandomForestClassifier accuracy : 0.9666666666666667\n",
      "RandomForestClassifier classification\n",
      "              precision    recall  f1-score   support\n",
      "\n",
      "           0       1.00      0.97      0.99        37\n",
      "           1       0.94      0.91      0.93        34\n",
      "           2       0.97      1.00      0.99        34\n",
      "           3       0.97      0.97      0.97        40\n",
      "           4       0.97      0.94      0.96        34\n",
      "           5       0.94      1.00      0.97        32\n",
      "           6       1.00      1.00      1.00        37\n",
      "           7       0.93      1.00      0.96        40\n",
      "           8       0.94      0.91      0.92        33\n",
      "           9       1.00      0.95      0.97        39\n",
      "\n",
      "    accuracy                           0.97       360\n",
      "   macro avg       0.97      0.97      0.97       360\n",
      "weighted avg       0.97      0.97      0.97       360\n",
      "\n"
     ]
    }
   ],
   "source": [
    "### Random Forest\n",
    "random_forest = RandomForestClassifier(random_state = 10)\n",
    "random_forest.fit(X_train,y_train)\n",
    "y_pred = random_forest.predict(X_test)\n",
    "accuracy = accuracy_score(y_test, y_pred)\n",
    "classification = classification_report(y_test,y_pred)\n",
    "print('프로젝트 (1) 손글씨를 분류해 봅시다')\n",
    "print('RandomForestClassifier ' 'accuracy : {}'.format(accuracy))\n",
    "print('RandomForestClassifier ' 'classification')\n",
    "print(classification)"
   ]
  },
  {
   "cell_type": "code",
   "execution_count": 322,
   "metadata": {},
   "outputs": [
    {
     "name": "stdout",
     "output_type": "stream",
     "text": [
      "프로젝트 (1) 손글씨를 분류해 봅시다\n",
      "SVM accuracy : 0.9833333333333333\n",
      "SVM classification\n",
      "              precision    recall  f1-score   support\n",
      "\n",
      "           0       1.00      1.00      1.00        37\n",
      "           1       0.97      1.00      0.99        34\n",
      "           2       0.97      1.00      0.99        34\n",
      "           3       1.00      0.97      0.99        40\n",
      "           4       1.00      0.94      0.97        34\n",
      "           5       0.97      1.00      0.98        32\n",
      "           6       1.00      1.00      1.00        37\n",
      "           7       1.00      1.00      1.00        40\n",
      "           8       0.91      0.97      0.94        33\n",
      "           9       1.00      0.95      0.97        39\n",
      "\n",
      "    accuracy                           0.98       360\n",
      "   macro avg       0.98      0.98      0.98       360\n",
      "weighted avg       0.98      0.98      0.98       360\n",
      "\n"
     ]
    }
   ],
   "source": [
    "### SVM\n",
    "svm = SVC()\n",
    "svm.fit(X_train,y_train)\n",
    "y_pred = svm.predict(X_test)\n",
    "accuracy = accuracy_score(y_test, y_pred)\n",
    "classification = classification_report(y_test,y_pred)\n",
    "print('프로젝트 (1) 손글씨를 분류해 봅시다')\n",
    "print('SVM ' 'accuracy : {}'.format(accuracy))\n",
    "print('SVM ' 'classification')\n",
    "print(classification)"
   ]
  },
  {
   "cell_type": "code",
   "execution_count": 323,
   "metadata": {},
   "outputs": [
    {
     "name": "stdout",
     "output_type": "stream",
     "text": [
      "프로젝트 (1) 손글씨를 분류해 봅시다\n",
      "SGD accuracy : 0.9583333333333334\n",
      "SGD classification\n",
      "              precision    recall  f1-score   support\n",
      "\n",
      "           0       1.00      0.97      0.99        37\n",
      "           1       0.86      0.94      0.90        34\n",
      "           2       1.00      1.00      1.00        34\n",
      "           3       1.00      0.97      0.99        40\n",
      "           4       0.94      0.91      0.93        34\n",
      "           5       0.94      0.97      0.95        32\n",
      "           6       1.00      1.00      1.00        37\n",
      "           7       0.98      1.00      0.99        40\n",
      "           8       0.86      0.91      0.88        33\n",
      "           9       1.00      0.90      0.95        39\n",
      "\n",
      "    accuracy                           0.96       360\n",
      "   macro avg       0.96      0.96      0.96       360\n",
      "weighted avg       0.96      0.96      0.96       360\n",
      "\n"
     ]
    }
   ],
   "source": [
    "### SGD\n",
    "sgd = SGDClassifier(random_state = 10)\n",
    "sgd.fit(X_train,y_train)\n",
    "y_pred = sgd.predict(X_test)\n",
    "accuracy = accuracy_score(y_test, y_pred)\n",
    "classification = classification_report(y_test,y_pred)\n",
    "print('프로젝트 (1) 손글씨를 분류해 봅시다')\n",
    "print('SGD ' 'accuracy : {}'.format(accuracy))\n",
    "print('SGD ' 'classification')\n",
    "print(classification)"
   ]
  },
  {
   "cell_type": "code",
   "execution_count": 324,
   "metadata": {},
   "outputs": [
    {
     "name": "stdout",
     "output_type": "stream",
     "text": [
      "프로젝트 (1) 손글씨를 분류해 봅시다\n",
      "LogisticRegression accuracy : 0.9527777777777777\n",
      "LogisticRegression classification\n",
      "              precision    recall  f1-score   support\n",
      "\n",
      "           0       1.00      1.00      1.00        37\n",
      "           1       0.91      0.91      0.91        34\n",
      "           2       0.92      1.00      0.96        34\n",
      "           3       0.97      0.95      0.96        40\n",
      "           4       0.94      0.94      0.94        34\n",
      "           5       0.94      0.94      0.94        32\n",
      "           6       0.97      0.97      0.97        37\n",
      "           7       0.97      0.95      0.96        40\n",
      "           8       0.89      0.94      0.91        33\n",
      "           9       1.00      0.92      0.96        39\n",
      "\n",
      "    accuracy                           0.95       360\n",
      "   macro avg       0.95      0.95      0.95       360\n",
      "weighted avg       0.95      0.95      0.95       360\n",
      "\n"
     ]
    }
   ],
   "source": [
    "### Logistic Regression\n",
    "lreg = LogisticRegression( max_iter=10000 )\n",
    "lreg.fit(X_train,y_train)\n",
    "y_pred = lreg.predict(X_test)\n",
    "accuracy = accuracy_score(y_test, y_pred)\n",
    "classification = classification_report(y_test,y_pred)\n",
    "print('프로젝트 (1) 손글씨를 분류해 봅시다')\n",
    "print('LogisticRegression ' 'accuracy : {}'.format(accuracy))\n",
    "print('LogisticRegression ' 'classification')\n",
    "print(classification)"
   ]
  },
  {
   "cell_type": "markdown",
   "metadata": {},
   "source": [
    "# 프로젝트 (1) '손글씨 분류' 결론\n",
    "\n",
    "\n",
    "각 모델의 precision 평균 값을 비교하자면, (가중평균기준)    \n",
    "- DecisionTreeClassifier : 0.86\n",
    "- RandomForestClassifier : 0.97\n",
    "- SVM : 0.98\n",
    "- SGD : 0.96\n",
    "- LogisticRegression : 0.95\n",
    "\n",
    "SVM 의 precision 평균 값이 가장 높은 것을 알 수 있다.\n",
    "\n",
    "### 따라서, 프로젝트 1에서 가장 성능이 우수한 모델은 SVM 이라고 할 수 있다."
   ]
  },
  {
   "cell_type": "markdown",
   "metadata": {},
   "source": [
    "---\n",
    "# 프로젝트 (2) load_wine : 와인을 분류해 봅시다\n",
    "\n",
    "### 모델 성능 판단 기준치에 대한 생각\n",
    "\n",
    "각 와인의 종류를 잘 분류하는 것이 목표이기 대문에, 전체적인 분류 성공도를 나타낼 수 있는 <b>accuracy</b>를 기준으로 판단하는 것이 좋다고 생각한다.   "
   ]
  },
  {
   "cell_type": "code",
   "execution_count": 325,
   "metadata": {},
   "outputs": [],
   "source": [
    "from sklearn.datasets import load_wine\n",
    "wines = load_wine()\n",
    "wine_data = wines.data\n",
    "wine_label = wines.target"
   ]
  },
  {
   "cell_type": "code",
   "execution_count": 326,
   "metadata": {},
   "outputs": [
    {
     "name": "stdout",
     "output_type": "stream",
     "text": [
      "(178, 13)\n",
      "[[1.423e+01 1.710e+00 2.430e+00 ... 1.040e+00 3.920e+00 1.065e+03]\n",
      " [1.320e+01 1.780e+00 2.140e+00 ... 1.050e+00 3.400e+00 1.050e+03]\n",
      " [1.316e+01 2.360e+00 2.670e+00 ... 1.030e+00 3.170e+00 1.185e+03]\n",
      " ...\n",
      " [1.327e+01 4.280e+00 2.260e+00 ... 5.900e-01 1.560e+00 8.350e+02]\n",
      " [1.317e+01 2.590e+00 2.370e+00 ... 6.000e-01 1.620e+00 8.400e+02]\n",
      " [1.413e+01 4.100e+00 2.740e+00 ... 6.100e-01 1.600e+00 5.600e+02]]\n",
      "(178,)\n",
      "[0 0 0 0 0 0 0 0 0 0 0 0 0 0 0 0 0 0 0 0 0 0 0 0 0 0 0 0 0 0 0 0 0 0 0 0 0\n",
      " 0 0 0 0 0 0 0 0 0 0 0 0 0 0 0 0 0 0 0 0 0 0 1 1 1 1 1 1 1 1 1 1 1 1 1 1 1\n",
      " 1 1 1 1 1 1 1 1 1 1 1 1 1 1 1 1 1 1 1 1 1 1 1 1 1 1 1 1 1 1 1 1 1 1 1 1 1\n",
      " 1 1 1 1 1 1 1 1 1 1 1 1 1 1 1 1 1 1 1 2 2 2 2 2 2 2 2 2 2 2 2 2 2 2 2 2 2\n",
      " 2 2 2 2 2 2 2 2 2 2 2 2 2 2 2 2 2 2 2 2 2 2 2 2 2 2 2 2 2 2]\n",
      ".. _digits_dataset:\n",
      "\n",
      "Optical recognition of handwritten digits dataset\n",
      "--------------------------------------------------\n",
      "\n",
      "**Data Set Characteristics:**\n",
      "\n",
      "    :Number of Instances: 5620\n",
      "    :Number of Attributes: 64\n",
      "    :Attribute Information: 8x8 image of integer pixels in the range 0..16.\n",
      "    :Missing Attribute Values: None\n",
      "    :Creator: E. Alpaydin (alpaydin '@' boun.edu.tr)\n",
      "    :Date: July; 1998\n",
      "\n",
      "This is a copy of the test set of the UCI ML hand-written digits datasets\n",
      "https://archive.ics.uci.edu/ml/datasets/Optical+Recognition+of+Handwritten+Digits\n",
      "\n",
      "The data set contains images of hand-written digits: 10 classes where\n",
      "each class refers to a digit.\n",
      "\n",
      "Preprocessing programs made available by NIST were used to extract\n",
      "normalized bitmaps of handwritten digits from a preprinted form. From a\n",
      "total of 43 people, 30 contributed to the training set and different 13\n",
      "to the test set. 32x32 bitmaps are divided into nonoverlapping blocks of\n",
      "4x4 and the number of on pixels are counted in each block. This generates\n",
      "an input matrix of 8x8 where each element is an integer in the range\n",
      "0..16. This reduces dimensionality and gives invariance to small\n",
      "distortions.\n",
      "\n",
      "For info on NIST preprocessing routines, see M. D. Garris, J. L. Blue, G.\n",
      "T. Candela, D. L. Dimmick, J. Geist, P. J. Grother, S. A. Janet, and C.\n",
      "L. Wilson, NIST Form-Based Handprint Recognition System, NISTIR 5469,\n",
      "1994.\n",
      "\n",
      ".. topic:: References\n",
      "\n",
      "  - C. Kaynak (1995) Methods of Combining Multiple Classifiers and Their\n",
      "    Applications to Handwritten Digit Recognition, MSc Thesis, Institute of\n",
      "    Graduate Studies in Science and Engineering, Bogazici University.\n",
      "  - E. Alpaydin, C. Kaynak (1998) Cascading Classifiers, Kybernetika.\n",
      "  - Ken Tang and Ponnuthurai N. Suganthan and Xi Yao and A. Kai Qin.\n",
      "    Linear dimensionalityreduction using relevance weighted LDA. School of\n",
      "    Electrical and Electronic Engineering Nanyang Technological University.\n",
      "    2005.\n",
      "  - Claudio Gentile. A New Approximate Maximal Margin Classification\n",
      "    Algorithm. NIPS. 2000.\n"
     ]
    }
   ],
   "source": [
    "print(wine_data.shape)\n",
    "print(wine_data)\n",
    "print(wine_label.shape)\n",
    "print(wine_label)\n",
    "print(digits.DESCR)\n",
    "# 13개의 feature를 가진 178개의 데이터"
   ]
  },
  {
   "cell_type": "code",
   "execution_count": 327,
   "metadata": {},
   "outputs": [
    {
     "name": "stdout",
     "output_type": "stream",
     "text": [
      "(142, 13)\n",
      "(36, 13)\n"
     ]
    }
   ],
   "source": [
    "### train, test 데이터 분리\n",
    "X_train, X_test, y_train, y_test = train_test_split(wine_data, \n",
    "                                                    wine_label, \n",
    "                                                    test_size=0.2, \n",
    "                                                    random_state=7)\n",
    "# print(X_train)\n",
    "# print(X_test)\n",
    "print(X_train.shape)\n",
    "print(X_test.shape)"
   ]
  },
  {
   "cell_type": "code",
   "execution_count": 328,
   "metadata": {},
   "outputs": [
    {
     "name": "stdout",
     "output_type": "stream",
     "text": [
      "프로젝트 (2) 와인을 분류해 봅시다\n",
      "DecisionTreeClassifier accuracy : 0.9444444444444444\n",
      "DecisionTreeClassifier confusion_matrix\n",
      "[[ 7  0  0]\n",
      " [ 0 17  0]\n",
      " [ 1  1 10]]\n",
      "DecisionTreeClassifier classification\n",
      "              precision    recall  f1-score   support\n",
      "\n",
      "           0       0.88      1.00      0.93         7\n",
      "           1       0.94      1.00      0.97        17\n",
      "           2       1.00      0.83      0.91        12\n",
      "\n",
      "    accuracy                           0.94        36\n",
      "   macro avg       0.94      0.94      0.94        36\n",
      "weighted avg       0.95      0.94      0.94        36\n",
      "\n"
     ]
    }
   ],
   "source": [
    "### Decision tree\n",
    "decision_tree = DecisionTreeClassifier(random_state=10)\n",
    "decision_tree.fit(X_train,y_train)\n",
    "y_pred = decision_tree.predict(X_test)\n",
    "# print(y_test,y_pred)\n",
    "accuracy = accuracy_score(y_test, y_pred)\n",
    "cm = confusion_matrix(y_test,y_pred)\n",
    "classification = classification_report(y_test,y_pred)\n",
    "print('프로젝트 (2) 와인을 분류해 봅시다')\n",
    "print('DecisionTreeClassifier ' 'accuracy : {}'.format(accuracy))\n",
    "print('DecisionTreeClassifier ' 'confusion_matrix')\n",
    "print(cm)\n",
    "print('DecisionTreeClassifier ' 'classification')\n",
    "print(classification)"
   ]
  },
  {
   "cell_type": "code",
   "execution_count": 329,
   "metadata": {},
   "outputs": [
    {
     "name": "stdout",
     "output_type": "stream",
     "text": [
      "프로젝트 (2) 와인을 분류해 봅시다\n",
      "RandomForestClassifier accuracy : 1.0\n",
      "RandomForestClassifier confusion_matrix\n",
      "[[ 7  0  0]\n",
      " [ 0 17  0]\n",
      " [ 0  0 12]]\n",
      "RandomForestClassifier classification\n",
      "              precision    recall  f1-score   support\n",
      "\n",
      "           0       1.00      1.00      1.00         7\n",
      "           1       1.00      1.00      1.00        17\n",
      "           2       1.00      1.00      1.00        12\n",
      "\n",
      "    accuracy                           1.00        36\n",
      "   macro avg       1.00      1.00      1.00        36\n",
      "weighted avg       1.00      1.00      1.00        36\n",
      "\n"
     ]
    }
   ],
   "source": [
    "### Random Forest\n",
    "random_forest = RandomForestClassifier(random_state = 10)\n",
    "random_forest.fit(X_train,y_train)\n",
    "y_pred = random_forest.predict(X_test)\n",
    "# print(y_test,y_pred)\n",
    "accuracy = accuracy_score(y_test, y_pred)\n",
    "cm = confusion_matrix(y_test,y_pred)\n",
    "classification = classification_report(y_test,y_pred)\n",
    "print('프로젝트 (2) 와인을 분류해 봅시다')\n",
    "print('RandomForestClassifier ' 'accuracy : {}'.format(accuracy))\n",
    "print('RandomForestClassifier ' 'confusion_matrix')\n",
    "print(cm)\n",
    "print('RandomForestClassifier ' 'classification')\n",
    "print(classification)"
   ]
  },
  {
   "cell_type": "code",
   "execution_count": 330,
   "metadata": {},
   "outputs": [
    {
     "name": "stdout",
     "output_type": "stream",
     "text": [
      "프로젝트 (2) 와인을 분류해 봅시다\n",
      "SVM accuracy : 0.6111111111111112\n",
      "SVM confusion_matrix\n",
      "[[ 6  0  1]\n",
      " [ 1 15  1]\n",
      " [ 0 11  1]]\n",
      "SVM classification\n",
      "              precision    recall  f1-score   support\n",
      "\n",
      "           0       0.86      0.86      0.86         7\n",
      "           1       0.58      0.88      0.70        17\n",
      "           2       0.33      0.08      0.13        12\n",
      "\n",
      "    accuracy                           0.61        36\n",
      "   macro avg       0.59      0.61      0.56        36\n",
      "weighted avg       0.55      0.61      0.54        36\n",
      "\n"
     ]
    }
   ],
   "source": [
    "### SVM\n",
    "svm = SVC()\n",
    "svm.fit(X_train,y_train)\n",
    "y_pred = svm.predict(X_test)\n",
    "# print(y_test,y_pred)\n",
    "accuracy = accuracy_score(y_test, y_pred)\n",
    "cm = confusion_matrix(y_test,y_pred)\n",
    "classification = classification_report(y_test,y_pred)\n",
    "print('프로젝트 (2) 와인을 분류해 봅시다')\n",
    "print('SVM ' 'accuracy : {}'.format(accuracy))\n",
    "print('SVM ' 'confusion_matrix')\n",
    "print(cm)\n",
    "# 실제 0인 7개에 대해 0이라고 한 경우(정답)는 6번, 2라고 한 경우(오답)은 1번 => 0의 Recall = 6/(6+1)\n",
    "# 실제 2인 12개에 대해 2라고 한 경우(정답)는 1번, 1이라고 한 경우(오답)은 11번 => 2의 Recall = 1/(1+11)\n",
    "# 2번이라고 판단한 경우 3번, 그 중 진짜 2번인 경우는 1번 => 2의 Precision = 1/(3)\n",
    "print('SVM ' 'classification')\n",
    "print(classification)"
   ]
  },
  {
   "cell_type": "markdown",
   "metadata": {},
   "source": [
    "프로젝트 (2) 와인분류에서 SVM 을 사용하면 비교적 낮은 정확도를 얻는 것을 알 수 있는데,\n",
    "classification report, confusion_matrix 를 살펴보면\n",
    "그 이유는 모델이 실제로 2번에 해당하는 데이터를 1번으로 인식하도록 학습되었기 때문이라고 생각할 수 있다."
   ]
  },
  {
   "cell_type": "code",
   "execution_count": 331,
   "metadata": {},
   "outputs": [
    {
     "name": "stdout",
     "output_type": "stream",
     "text": [
      "프로젝트 (2) 와인을 분류해 봅시다\n",
      "SGD accuracy : 0.5833333333333334\n",
      "SGD confusion_matrix\n",
      "[[ 7  0  0]\n",
      " [ 3 14  0]\n",
      " [ 6  6  0]]\n",
      "SGD classification\n",
      "              precision    recall  f1-score   support\n",
      "\n",
      "           0       0.44      1.00      0.61         7\n",
      "           1       0.70      0.82      0.76        17\n",
      "           2       1.00      0.00      0.00        12\n",
      "\n",
      "    accuracy                           0.58        36\n",
      "   macro avg       0.71      0.61      0.46        36\n",
      "weighted avg       0.75      0.58      0.48        36\n",
      "\n"
     ]
    }
   ],
   "source": [
    "### SGD\n",
    "sgd = SGDClassifier( random_state = 10)\n",
    "sgd.fit(X_train,y_train)\n",
    "y_pred = sgd.predict(X_test)\n",
    "accuracy = accuracy_score(y_test, y_pred)\n",
    "\n",
    "cm = confusion_matrix(y_test,y_pred)\n",
    "# classification = classification_report(y_test,y_pred)\n",
    "# f1_score 를 계산하는 과정에서 0/0, zero division 경고가 발생한다.\n",
    "# 실제로, confusion_matrix 를 살펴보면, 2의 precision 을 구해보면 0/0 꼴이 된다.\n",
    "# 만약, zero_division 경고를 무시하고 싶다면, 무시 옵션을 넣어서 무시할 수 있다.\n",
    "classification = classification_report(y_test,y_pred, zero_division=1)\n",
    "# 단, 이렇게 할 경우, 2번의 precision 이 1로 표시되는 것을 알 수 있는데, 그런 의미에서 주의해야 할 것 같다!\n",
    "\n",
    "print('프로젝트 (2) 와인을 분류해 봅시다')\n",
    "print('SGD ' 'accuracy : {}'.format(accuracy))\n",
    "print('SGD ' 'confusion_matrix')\n",
    "print(cm)\n",
    "print('SGD ' 'classification')\n",
    "print(classification)"
   ]
  },
  {
   "cell_type": "markdown",
   "metadata": {},
   "source": [
    "프로젝트 (2) 와인분류에서 SGD 를 사용하면 비교적 낮은 정확도를 얻는 것을 알 수 있는데,\n",
    "classification report, confusion_matrix 를 살펴보면\n",
    "그 이유는 모델이 실제로 2번에 해당하는 데이터를 0번, 1번으로 인식하도록 학습되었기 때문이라고 생각할 수 있다."
   ]
  },
  {
   "cell_type": "code",
   "execution_count": 332,
   "metadata": {},
   "outputs": [
    {
     "name": "stdout",
     "output_type": "stream",
     "text": [
      "프로젝트 (2) 와인을 분류해 봅시다\n",
      "LogisticRegression accuracy : 0.9722222222222222\n",
      "LogisticRegression confusion_matrix\n",
      "[[ 7  0  0]\n",
      " [ 0 17  0]\n",
      " [ 0  1 11]]\n",
      "LogisticRegression classification\n",
      "              precision    recall  f1-score   support\n",
      "\n",
      "           0       1.00      1.00      1.00         7\n",
      "           1       0.94      1.00      0.97        17\n",
      "           2       1.00      0.92      0.96        12\n",
      "\n",
      "    accuracy                           0.97        36\n",
      "   macro avg       0.98      0.97      0.98        36\n",
      "weighted avg       0.97      0.97      0.97        36\n",
      "\n"
     ]
    }
   ],
   "source": [
    "### Logistic Regression\n",
    "lreg = LogisticRegression(max_iter = 10000)\n",
    "lreg.fit(X_train,y_train)\n",
    "y_pred = lreg.predict(X_test)\n",
    "accuracy = accuracy_score(y_test, y_pred)\n",
    "cm = confusion_matrix(y_test,y_pred)\n",
    "classification = classification_report(y_test,y_pred)\n",
    "print('프로젝트 (2) 와인을 분류해 봅시다')\n",
    "print('LogisticRegression ' 'accuracy : {}'.format(accuracy))\n",
    "print('LogisticRegression ' 'confusion_matrix')\n",
    "print(cm)\n",
    "print('LogisticRegression ' 'classification')\n",
    "print(classification)"
   ]
  },
  {
   "cell_type": "markdown",
   "metadata": {},
   "source": [
    "# 프로젝트 (2) '와인 분류' 결론\n",
    "\n",
    "정확도를 기준으로 각 모델의 성능을 비교하자면,   \n",
    "- DecisionTreeClassifier accuracy : 0.9444444444444444\n",
    "- RandomForestClassifier accuracy : 1.0\n",
    "- SVM accuracy : 0.6111111111111112\n",
    "- SGD accuracy : 0.5833333333333334\n",
    "- LogisticRegression accuracy : 0.9722222222222222\n",
    "\n",
    "RandomForest 의 정확도가 가장 높은 것을 알 수 있다.\n",
    "\n",
    "### 따라서, 프로젝트 2에서 가장 성능이 좋은 모델은 RandomForest 라고 할 수 있다.\n"
   ]
  },
  {
   "cell_type": "markdown",
   "metadata": {},
   "source": [
    "---\n",
    "# 프로젝트 (3) load_breast_cancer : 유방암 여부를 진단해 봅시다\n",
    "\n",
    "### 모델 성능 판단 기준치에 대한 생각\n",
    "\n",
    "암 진단의 경우, 실제로 양성인 환자를 음성으로 진단하는 경우의 수 (FN, False Negative)의 경우를 최대한 줄여야 한다.\n",
    "따라서, Recall = TP / (TP+FN) 인 점을 생각했을 때,\n",
    "<b>실제 환자(1)에 대한 Recall 값</b>을 제 1 기준으로 모델을 평가하고,\n",
    "Recall 값이 동일한 경우, 전체 accuracy를 기준으로 모델을 평가하는 것이 좋을 것으로 생각된다."
   ]
  },
  {
   "cell_type": "code",
   "execution_count": 333,
   "metadata": {},
   "outputs": [],
   "source": [
    "from sklearn.datasets import load_breast_cancer\n",
    "bc = load_breast_cancer()\n",
    "bc_data = bc.data\n",
    "bc_label = bc.target"
   ]
  },
  {
   "cell_type": "code",
   "execution_count": 334,
   "metadata": {},
   "outputs": [
    {
     "name": "stdout",
     "output_type": "stream",
     "text": [
      "(569, 30)\n",
      "[[1.799e+01 1.038e+01 1.228e+02 ... 2.654e-01 4.601e-01 1.189e-01]\n",
      " [2.057e+01 1.777e+01 1.329e+02 ... 1.860e-01 2.750e-01 8.902e-02]\n",
      " [1.969e+01 2.125e+01 1.300e+02 ... 2.430e-01 3.613e-01 8.758e-02]\n",
      " ...\n",
      " [1.660e+01 2.808e+01 1.083e+02 ... 1.418e-01 2.218e-01 7.820e-02]\n",
      " [2.060e+01 2.933e+01 1.401e+02 ... 2.650e-01 4.087e-01 1.240e-01]\n",
      " [7.760e+00 2.454e+01 4.792e+01 ... 0.000e+00 2.871e-01 7.039e-02]]\n",
      "(569,)\n",
      "[0 0 0 0 0 0 0 0 0 0 0 0 0 0 0 0 0 0 0 1 1 1 0 0 0 0 0 0 0 0 0 0 0 0 0 0 0\n",
      " 1 0 0 0 0 0 0 0 0 1 0 1 1 1 1 1 0 0 1 0 0 1 1 1 1 0 1 0 0 1 1 1 1 0 1 0 0\n",
      " 1 0 1 0 0 1 1 1 0 0 1 0 0 0 1 1 1 0 1 1 0 0 1 1 1 0 0 1 1 1 1 0 1 1 0 1 1\n",
      " 1 1 1 1 1 1 0 0 0 1 0 0 1 1 1 0 0 1 0 1 0 0 1 0 0 1 1 0 1 1 0 1 1 1 1 0 1\n",
      " 1 1 1 1 1 1 1 1 0 1 1 1 1 0 0 1 0 1 1 0 0 1 1 0 0 1 1 1 1 0 1 1 0 0 0 1 0\n",
      " 1 0 1 1 1 0 1 1 0 0 1 0 0 0 0 1 0 0 0 1 0 1 0 1 1 0 1 0 0 0 0 1 1 0 0 1 1\n",
      " 1 0 1 1 1 1 1 0 0 1 1 0 1 1 0 0 1 0 1 1 1 1 0 1 1 1 1 1 0 1 0 0 0 0 0 0 0\n",
      " 0 0 0 0 0 0 0 1 1 1 1 1 1 0 1 0 1 1 0 1 1 0 1 0 0 1 1 1 1 1 1 1 1 1 1 1 1\n",
      " 1 0 1 1 0 1 0 1 1 1 1 1 1 1 1 1 1 1 1 1 1 0 1 1 1 0 1 0 1 1 1 1 0 0 0 1 1\n",
      " 1 1 0 1 0 1 0 1 1 1 0 1 1 1 1 1 1 1 0 0 0 1 1 1 1 1 1 1 1 1 1 1 0 0 1 0 0\n",
      " 0 1 0 0 1 1 1 1 1 0 1 1 1 1 1 0 1 1 1 0 1 1 0 0 1 1 1 1 1 1 0 1 1 1 1 1 1\n",
      " 1 0 1 1 1 1 1 0 1 1 0 1 1 1 1 1 1 1 1 1 1 1 1 0 1 0 0 1 0 1 1 1 1 1 0 1 1\n",
      " 0 1 0 1 1 0 1 0 1 1 1 1 1 1 1 1 0 0 1 1 1 1 1 1 0 1 1 1 1 1 1 1 1 1 1 0 1\n",
      " 1 1 1 1 1 1 0 1 0 1 1 0 1 1 1 1 1 0 0 1 0 1 0 1 1 1 1 1 0 1 1 0 1 0 1 0 0\n",
      " 1 1 1 0 1 1 1 1 1 1 1 1 1 1 1 0 1 0 0 1 1 1 1 1 1 1 1 1 1 1 1 1 1 1 1 1 1\n",
      " 1 1 1 1 1 1 1 0 0 0 0 0 0 1]\n",
      ".. _breast_cancer_dataset:\n",
      "\n",
      "Breast cancer wisconsin (diagnostic) dataset\n",
      "--------------------------------------------\n",
      "\n",
      "**Data Set Characteristics:**\n",
      "\n",
      "    :Number of Instances: 569\n",
      "\n",
      "    :Number of Attributes: 30 numeric, predictive attributes and the class\n",
      "\n",
      "    :Attribute Information:\n",
      "        - radius (mean of distances from center to points on the perimeter)\n",
      "        - texture (standard deviation of gray-scale values)\n",
      "        - perimeter\n",
      "        - area\n",
      "        - smoothness (local variation in radius lengths)\n",
      "        - compactness (perimeter^2 / area - 1.0)\n",
      "        - concavity (severity of concave portions of the contour)\n",
      "        - concave points (number of concave portions of the contour)\n",
      "        - symmetry\n",
      "        - fractal dimension (\"coastline approximation\" - 1)\n",
      "\n",
      "        The mean, standard error, and \"worst\" or largest (mean of the three\n",
      "        worst/largest values) of these features were computed for each image,\n",
      "        resulting in 30 features.  For instance, field 0 is Mean Radius, field\n",
      "        10 is Radius SE, field 20 is Worst Radius.\n",
      "\n",
      "        - class:\n",
      "                - WDBC-Malignant\n",
      "                - WDBC-Benign\n",
      "\n",
      "    :Summary Statistics:\n",
      "\n",
      "    ===================================== ====== ======\n",
      "                                           Min    Max\n",
      "    ===================================== ====== ======\n",
      "    radius (mean):                        6.981  28.11\n",
      "    texture (mean):                       9.71   39.28\n",
      "    perimeter (mean):                     43.79  188.5\n",
      "    area (mean):                          143.5  2501.0\n",
      "    smoothness (mean):                    0.053  0.163\n",
      "    compactness (mean):                   0.019  0.345\n",
      "    concavity (mean):                     0.0    0.427\n",
      "    concave points (mean):                0.0    0.201\n",
      "    symmetry (mean):                      0.106  0.304\n",
      "    fractal dimension (mean):             0.05   0.097\n",
      "    radius (standard error):              0.112  2.873\n",
      "    texture (standard error):             0.36   4.885\n",
      "    perimeter (standard error):           0.757  21.98\n",
      "    area (standard error):                6.802  542.2\n",
      "    smoothness (standard error):          0.002  0.031\n",
      "    compactness (standard error):         0.002  0.135\n",
      "    concavity (standard error):           0.0    0.396\n",
      "    concave points (standard error):      0.0    0.053\n",
      "    symmetry (standard error):            0.008  0.079\n",
      "    fractal dimension (standard error):   0.001  0.03\n",
      "    radius (worst):                       7.93   36.04\n",
      "    texture (worst):                      12.02  49.54\n",
      "    perimeter (worst):                    50.41  251.2\n",
      "    area (worst):                         185.2  4254.0\n",
      "    smoothness (worst):                   0.071  0.223\n",
      "    compactness (worst):                  0.027  1.058\n",
      "    concavity (worst):                    0.0    1.252\n",
      "    concave points (worst):               0.0    0.291\n",
      "    symmetry (worst):                     0.156  0.664\n",
      "    fractal dimension (worst):            0.055  0.208\n",
      "    ===================================== ====== ======\n",
      "\n",
      "    :Missing Attribute Values: None\n",
      "\n",
      "    :Class Distribution: 212 - Malignant, 357 - Benign\n",
      "\n",
      "    :Creator:  Dr. William H. Wolberg, W. Nick Street, Olvi L. Mangasarian\n",
      "\n",
      "    :Donor: Nick Street\n",
      "\n",
      "    :Date: November, 1995\n",
      "\n",
      "This is a copy of UCI ML Breast Cancer Wisconsin (Diagnostic) datasets.\n",
      "https://goo.gl/U2Uwz2\n",
      "\n",
      "Features are computed from a digitized image of a fine needle\n",
      "aspirate (FNA) of a breast mass.  They describe\n",
      "characteristics of the cell nuclei present in the image.\n",
      "\n",
      "Separating plane described above was obtained using\n",
      "Multisurface Method-Tree (MSM-T) [K. P. Bennett, \"Decision Tree\n",
      "Construction Via Linear Programming.\" Proceedings of the 4th\n",
      "Midwest Artificial Intelligence and Cognitive Science Society,\n",
      "pp. 97-101, 1992], a classification method which uses linear\n",
      "programming to construct a decision tree.  Relevant features\n",
      "were selected using an exhaustive search in the space of 1-4\n",
      "features and 1-3 separating planes.\n",
      "\n",
      "The actual linear program used to obtain the separating plane\n",
      "in the 3-dimensional space is that described in:\n",
      "[K. P. Bennett and O. L. Mangasarian: \"Robust Linear\n",
      "Programming Discrimination of Two Linearly Inseparable Sets\",\n",
      "Optimization Methods and Software 1, 1992, 23-34].\n",
      "\n",
      "This database is also available through the UW CS ftp server:\n",
      "\n",
      "ftp ftp.cs.wisc.edu\n",
      "cd math-prog/cpo-dataset/machine-learn/WDBC/\n",
      "\n",
      ".. topic:: References\n",
      "\n",
      "   - W.N. Street, W.H. Wolberg and O.L. Mangasarian. Nuclear feature extraction \n",
      "     for breast tumor diagnosis. IS&T/SPIE 1993 International Symposium on \n",
      "     Electronic Imaging: Science and Technology, volume 1905, pages 861-870,\n",
      "     San Jose, CA, 1993.\n",
      "   - O.L. Mangasarian, W.N. Street and W.H. Wolberg. Breast cancer diagnosis and \n",
      "     prognosis via linear programming. Operations Research, 43(4), pages 570-577, \n",
      "     July-August 1995.\n",
      "   - W.H. Wolberg, W.N. Street, and O.L. Mangasarian. Machine learning techniques\n",
      "     to diagnose breast cancer from fine-needle aspirates. Cancer Letters 77 (1994) \n",
      "     163-171.\n"
     ]
    }
   ],
   "source": [
    "print(bc_data.shape)\n",
    "print(bc_data)\n",
    "print(bc_label.shape)\n",
    "print(bc_label)\n",
    "print(bc.DESCR)"
   ]
  },
  {
   "cell_type": "code",
   "execution_count": 335,
   "metadata": {},
   "outputs": [
    {
     "name": "stdout",
     "output_type": "stream",
     "text": [
      "(455, 30)\n",
      "(114, 30)\n"
     ]
    }
   ],
   "source": [
    "### train, test 데이터 분리\n",
    "X_train, X_test, y_train, y_test = train_test_split(bc_data, \n",
    "                                                    bc_label, \n",
    "                                                    test_size=0.2, \n",
    "                                                    random_state=7)\n",
    "# print(X_train)\n",
    "# print(X_test)\n",
    "print(X_train.shape)\n",
    "print(X_test.shape)\n",
    "# 30개의 feature 를 가진 569개의 데이터"
   ]
  },
  {
   "cell_type": "code",
   "execution_count": 336,
   "metadata": {},
   "outputs": [
    {
     "name": "stdout",
     "output_type": "stream",
     "text": [
      "프로젝트 (3) 유방암 여부를 진단해 봅시다\n",
      "DecisionTreeClassifier accuracy : 0.9385964912280702\n",
      "DecisionTreeClassifier confusion_matrix\n",
      "[[36  4]\n",
      " [ 3 71]]\n",
      "DecisionTreeClassifier classification\n",
      "              precision    recall  f1-score   support\n",
      "\n",
      "           0       0.92      0.90      0.91        40\n",
      "           1       0.95      0.96      0.95        74\n",
      "\n",
      "    accuracy                           0.94       114\n",
      "   macro avg       0.93      0.93      0.93       114\n",
      "weighted avg       0.94      0.94      0.94       114\n",
      "\n",
      "DecisionTreeClassifier positive_recall_score : 0.9594594594594594\n"
     ]
    }
   ],
   "source": [
    "### Decision tree\n",
    "decision_tree = DecisionTreeClassifier(random_state=10)\n",
    "decision_tree.fit(X_train,y_train)\n",
    "y_pred = decision_tree.predict(X_test)\n",
    "# print(y_test,y_pred)\n",
    "accuracy = accuracy_score(y_test, y_pred)\n",
    "cm = confusion_matrix(y_test,y_pred)\n",
    "classification = classification_report(y_test,y_pred)\n",
    "\n",
    "# 양성에 대한 recall 값\n",
    "positive_recall_score = cm[1,1]/(cm[1,1] + cm[1,0])\n",
    "\n",
    "print('프로젝트 (3) 유방암 여부를 진단해 봅시다')\n",
    "print('DecisionTreeClassifier ' 'accuracy : {}'.format(accuracy))\n",
    "print('DecisionTreeClassifier ' 'confusion_matrix')\n",
    "print(cm)\n",
    "print('DecisionTreeClassifier ' 'classification')\n",
    "print(classification)\n",
    "print('DecisionTreeClassifier ' 'positive_recall_score : {}'.format(positive_recall_score))"
   ]
  },
  {
   "cell_type": "code",
   "execution_count": 337,
   "metadata": {},
   "outputs": [
    {
     "name": "stdout",
     "output_type": "stream",
     "text": [
      "프로젝트 (3) 유방암 여부를 진단해 봅시다\n",
      "RandomForestClassifier accuracy : 0.9736842105263158\n",
      "RandomForestClassifier confusion_matrix\n",
      "[[37  3]\n",
      " [ 0 74]]\n",
      "RandomForestClassifier classification\n",
      "              precision    recall  f1-score   support\n",
      "\n",
      "           0       1.00      0.93      0.96        40\n",
      "           1       0.96      1.00      0.98        74\n",
      "\n",
      "    accuracy                           0.97       114\n",
      "   macro avg       0.98      0.96      0.97       114\n",
      "weighted avg       0.97      0.97      0.97       114\n",
      "\n",
      "RandomForestClassifier positive_recall_score : 1.0\n"
     ]
    }
   ],
   "source": [
    "### Random Forest\n",
    "random_forest = RandomForestClassifier(random_state = 10)\n",
    "random_forest.fit(X_train,y_train)\n",
    "y_pred = random_forest.predict(X_test)\n",
    "# print(y_test,y_pred)\n",
    "accuracy = accuracy_score(y_test, y_pred)\n",
    "cm = confusion_matrix(y_test,y_pred)\n",
    "classification = classification_report(y_test,y_pred)\n",
    "\n",
    "\n",
    "# 양성에 대한 recall 값\n",
    "positive_recall_score = cm[1,1]/(cm[1,1] + cm[1,0])\n",
    "\n",
    "print('프로젝트 (3) 유방암 여부를 진단해 봅시다')\n",
    "print('RandomForestClassifier ' 'accuracy : {}'.format(accuracy))\n",
    "print('RandomForestClassifier ' 'confusion_matrix')\n",
    "print(cm)\n",
    "print('RandomForestClassifier ' 'classification')\n",
    "print(classification)\n",
    "print('RandomForestClassifier ' 'positive_recall_score : {}'.format(positive_recall_score))"
   ]
  },
  {
   "cell_type": "code",
   "execution_count": 338,
   "metadata": {},
   "outputs": [
    {
     "name": "stdout",
     "output_type": "stream",
     "text": [
      "프로젝트 (3) 유방암 여부를 진단해 봅시다\n",
      "SVM accuracy : 0.9035087719298246\n",
      "SVM confusion_matrix\n",
      "[[29 11]\n",
      " [ 0 74]]\n",
      "SVM classification\n",
      "              precision    recall  f1-score   support\n",
      "\n",
      "           0       1.00      0.72      0.84        40\n",
      "           1       0.87      1.00      0.93        74\n",
      "\n",
      "    accuracy                           0.90       114\n",
      "   macro avg       0.94      0.86      0.89       114\n",
      "weighted avg       0.92      0.90      0.90       114\n",
      "\n",
      "SVM positive_recall_score : 1.0\n"
     ]
    }
   ],
   "source": [
    "### SVM\n",
    "svm = SVC()\n",
    "svm.fit(X_train,y_train)\n",
    "y_pred = svm.predict(X_test)\n",
    "# print(y_test,y_pred)\n",
    "accuracy = accuracy_score(y_test, y_pred)\n",
    "cm = confusion_matrix(y_test,y_pred)\n",
    "classification = classification_report(y_test,y_pred)\n",
    "\n",
    "# 양성에 대한 recall 값\n",
    "positive_recall_score = cm[1,1]/(cm[1,1] + cm[1,0])\n",
    "\n",
    "print('프로젝트 (3) 유방암 여부를 진단해 봅시다')\n",
    "print('SVM ' 'accuracy : {}'.format(accuracy))\n",
    "print('SVM ' 'confusion_matrix')\n",
    "print(cm)\n",
    "print('SVM ' 'classification')\n",
    "print(classification)\n",
    "\n",
    "print('SVM ' 'positive_recall_score : {}'.format(positive_recall_score))"
   ]
  },
  {
   "cell_type": "code",
   "execution_count": 339,
   "metadata": {},
   "outputs": [
    {
     "name": "stdout",
     "output_type": "stream",
     "text": [
      "프로젝트 (3) 유방암 여부를 진단해 봅시다\n",
      "SGD accuracy : 0.8070175438596491\n",
      "SGD confusion_matrix\n",
      "[[18 22]\n",
      " [ 0 74]]\n",
      "SGD classification\n",
      "              precision    recall  f1-score   support\n",
      "\n",
      "           0       1.00      0.45      0.62        40\n",
      "           1       0.77      1.00      0.87        74\n",
      "\n",
      "    accuracy                           0.81       114\n",
      "   macro avg       0.89      0.72      0.75       114\n",
      "weighted avg       0.85      0.81      0.78       114\n",
      "\n",
      "SGD positive_recall_score : 1.0\n"
     ]
    }
   ],
   "source": [
    "### SGD\n",
    "sgd = SGDClassifier( random_state = 10)\n",
    "sgd.fit(X_train,y_train)\n",
    "y_pred = sgd.predict(X_test)\n",
    "\n",
    "accuracy = accuracy_score(y_test, y_pred)\n",
    "cm = confusion_matrix(y_test,y_pred)\n",
    "classification = classification_report(y_test,y_pred)\n",
    "\n",
    "# 양성에 대한 recall 값\n",
    "positive_recall_score = cm[1,1]/(cm[1,1] + cm[1,0])\n",
    "\n",
    "print('프로젝트 (3) 유방암 여부를 진단해 봅시다')\n",
    "print('SGD ' 'accuracy : {}'.format(accuracy))\n",
    "print('SGD ' 'confusion_matrix')\n",
    "print(cm)\n",
    "print('SGD ' 'classification')\n",
    "print(classification)\n",
    "\n",
    "print('SGD ' 'positive_recall_score : {}'.format(positive_recall_score))"
   ]
  },
  {
   "cell_type": "code",
   "execution_count": 340,
   "metadata": {},
   "outputs": [
    {
     "name": "stdout",
     "output_type": "stream",
     "text": [
      "프로젝트 (3) 유방암 여부를 진단해 봅시다\n",
      "LogisticRegression accuracy : 0.9473684210526315\n",
      "LogisticRegression confusion_matrix\n",
      "[[34  6]\n",
      " [ 0 74]]\n",
      "LogisticRegression classification\n",
      "              precision    recall  f1-score   support\n",
      "\n",
      "           0       1.00      0.85      0.92        40\n",
      "           1       0.93      1.00      0.96        74\n",
      "\n",
      "    accuracy                           0.95       114\n",
      "   macro avg       0.96      0.93      0.94       114\n",
      "weighted avg       0.95      0.95      0.95       114\n",
      "\n",
      "LogisticRegression positive_recall_score : 1.0\n"
     ]
    }
   ],
   "source": [
    "### Logistic Regression\n",
    "lreg = LogisticRegression(max_iter = 10000)\n",
    "lreg.fit(X_train,y_train)\n",
    "y_pred = lreg.predict(X_test)\n",
    "accuracy = accuracy_score(y_test, y_pred)\n",
    "cm = confusion_matrix(y_test,y_pred)\n",
    "classification = classification_report(y_test,y_pred)\n",
    "\n",
    "# 양성에 대한 recall 값\n",
    "positive_recall_score = cm[1,1]/(cm[1,1] + cm[1,0])\n",
    "\n",
    "print('프로젝트 (3) 유방암 여부를 진단해 봅시다')\n",
    "print('LogisticRegression ' 'accuracy : {}'.format(accuracy))\n",
    "print('LogisticRegression ' 'confusion_matrix')\n",
    "print(cm)\n",
    "print('LogisticRegression ' 'classification')\n",
    "print(classification)\n",
    "\n",
    "print('LogisticRegression ' 'positive_recall_score : {}'.format(positive_recall_score))"
   ]
  },
  {
   "cell_type": "markdown",
   "metadata": {},
   "source": [
    "# 프로젝트 (3) '유방암 여부 진단' 결론\n",
    "제 1기준으로 생각하였던 실제 환자(1) 에 대한 Recall 값을 비교해보자면,\n",
    "\n",
    "- DecisionTreeClassifier positive_recall_score : 0.9594594594594594    \n",
    "- RandomForestClassifier positive_recall_score : 1.0   \n",
    "- SVM positive_recall_score : 1.0   \n",
    "- SGD positive_recall_score : 1.0    \n",
    "- LogisticRegression positive_recall_score : 1.0    \n",
    "\n",
    "DecisionTree를 제외하고 모두 1.0, 즉 양성인 환자를 모두 걸러내는 결과를 보여주었기 대문에, 제 1 기준에는 4개 모델이 동일하게 우수하다.\n",
    "\n",
    "전체 정확도를 비교해보자면,    \n",
    "- DecisionTreeClassifier accuracy : 0.9385964912280702    \n",
    "- RandomForestClassifier accuracy : 0.9736842105263158    \n",
    "- SVM accuracy : 0.9035087719298246     \n",
    "- SGD accuracy : 0.8070175438596491    \n",
    "- LogisticRegression accuracy : 0.9473684210526315   \n",
    "\n",
    "제 1 기준에서 동등하게 좋은 성능을 보여준 4개의 모델 중 RandomForest가 가장 높은 정확도를 보여주는 것을 알 수 있다.   \n",
    "### 따라서, 프로젝트 3에서 가장 성능이 좋은 모델은 RandomForest라고 할 수 있다."
   ]
  },
  {
   "cell_type": "markdown",
   "metadata": {},
   "source": [
    "---\n",
    "# 결과 보고서\n",
    "\n",
    "지도 학습에서 분류 문제를 해결할 수 있는 모델에 대해 알아보고, scikit-learn 라이브러리를 통해 사용해보았다.\n",
    "scikit-learn 에서 모델을 생성하는 함수 외에도, 모델을 통해 얻어낸 예측 값을 실제 값과 비교하는 것을 유용하게 해주는 함수들도 사용해보았다.\n",
    "\n",
    "사용해보는 과정에서, 예상치 못한 경고 문구 두 가지를 마주했었다.\n",
    "- Linear Regression 에서 iteration 수가 부족하여 convergence가 이루어지지 않았다는 경고\n",
    "- classification report 생성 시, 특정 클래스의 precision 값이 0/0 꼴이라는 경고\n",
    "\n",
    "각각 모델 생성 시 iteration 의 횟수 제한을 늘리고, zero_divide를 허용하는 옵션을 부여하는 방법으로 해결해봤었다.\n",
    "다만, zero_divide를 허용하는 경우, precision 의 값이 1로 나타나는 것을 발견하였는데, 사실 해당 클래스에 대한 예측이 한 번도 일어나지 않았기 때문에 1이라고 보는 것이 어렵다는 생각이 들었다. 이런 맥락에서 scikit-leran 라이브러리에서 경고를 발생시켜 주는 것이라는 생각이 들었다.\n",
    "\n",
    "### 모델 비교 기준에 대한 고민\n",
    "\n",
    "그리고, 풀고자 하는 문제 상황에서 더 좋은 성능을 발휘하는 모델을 선정하는 비교 기준에 대해 고민해볼 수 있었다.\n",
    "단순히 모데"
   ]
  }
 ],
 "metadata": {
  "kernelspec": {
   "display_name": "aiffel",
   "language": "python",
   "name": "aiffel"
  },
  "language_info": {
   "codemirror_mode": {
    "name": "ipython",
    "version": 3
   },
   "file_extension": ".py",
   "mimetype": "text/x-python",
   "name": "python",
   "nbconvert_exporter": "python",
   "pygments_lexer": "ipython3",
   "version": "3.7.6"
  }
 },
 "nbformat": 4,
 "nbformat_minor": 4
}
