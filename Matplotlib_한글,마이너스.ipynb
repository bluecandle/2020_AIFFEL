{
 "cells": [
  {
   "cell_type": "markdown",
   "metadata": {},
   "source": [
    "# matplotlib 에 한글 글꼴 추가하기"
   ]
  },
  {
   "cell_type": "code",
   "execution_count": 20,
   "metadata": {
    "ExecuteTime": {
     "end_time": "2020-08-04T02:31:56.531642Z",
     "start_time": "2020-08-04T02:31:56.527297Z"
    }
   },
   "outputs": [
    {
     "data": {
      "text/plain": [
       "'Linux-5.4.0-42-generic-x86_64-with-debian-buster-sid'"
      ]
     },
     "execution_count": 20,
     "metadata": {},
     "output_type": "execute_result"
    }
   ],
   "source": [
    "import platform\n",
    "platform.platform()"
   ]
  },
  {
   "cell_type": "code",
   "execution_count": 21,
   "metadata": {
    "ExecuteTime": {
     "end_time": "2020-08-04T02:31:56.537183Z",
     "start_time": "2020-08-04T02:31:56.533460Z"
    }
   },
   "outputs": [
    {
     "data": {
      "text/plain": [
       "sys.version_info(major=3, minor=7, micro=7, releaselevel='final', serial=0)"
      ]
     },
     "execution_count": 21,
     "metadata": {},
     "output_type": "execute_result"
    }
   ],
   "source": [
    "import sys\n",
    "sys.version_info"
   ]
  },
  {
   "cell_type": "code",
   "execution_count": 22,
   "metadata": {
    "ExecuteTime": {
     "end_time": "2020-08-04T02:31:56.541487Z",
     "start_time": "2020-08-04T02:31:56.538087Z"
    }
   },
   "outputs": [
    {
     "name": "stdout",
     "output_type": "stream",
     "text": [
      "버전:  3.2.2\n",
      "설치위치:  /home/aiffel0042/anaconda3/envs/aiffel/lib/python3.7/site-packages/matplotlib/__init__.py\n",
      "설정:  /home/aiffel0042/.config/matplotlib\n",
      "캐시:  /home/aiffel0042/.cache/matplotlib\n"
     ]
    }
   ],
   "source": [
    "import matplotlib\n",
    "\n",
    "print ('버전: ', matplotlib.__version__)\n",
    "print ('설치위치: ', matplotlib.__file__)\n",
    "print ('설정: ', matplotlib.get_configdir())\n",
    "print ('캐시: ', matplotlib.get_cachedir())"
   ]
  },
  {
   "cell_type": "code",
   "execution_count": 23,
   "metadata": {
    "ExecuteTime": {
     "end_time": "2020-08-04T02:31:56.546178Z",
     "start_time": "2020-08-04T02:31:56.542250Z"
    }
   },
   "outputs": [],
   "source": [
    "%matplotlib inline\n",
    "import matplotlib.pyplot as plt\n",
    "\n",
    "plt.rcParams[\"axes.grid\"] = True\n",
    "plt.rcParams[\"figure.figsize\"] = (14,4)"
   ]
  },
  {
   "cell_type": "markdown",
   "metadata": {},
   "source": [
    "# 결국 그냥 사용할 때마다 지정해주는게 편하다."
   ]
  },
  {
   "cell_type": "code",
   "execution_count": 24,
   "metadata": {
    "ExecuteTime": {
     "end_time": "2020-08-04T02:31:56.552235Z",
     "start_time": "2020-08-04T02:31:56.547091Z"
    }
   },
   "outputs": [
    {
     "data": {
      "text/plain": [
       "array([  30,  -39, -128,  -60, -156,  -85,   12,  -53, -128, -223, -288,\n",
       "       -224, -176, -222, -290, -316, -312, -213, -126,  -47,   39,  -11,\n",
       "        -89, -144, -127, -181, -257, -278, -208, -115,  -33,   50,   12,\n",
       "         43,  113,  129,   68,  130,   75,   57,   53,   20,   52,  132,\n",
       "        173,  227,  132,   47,   83,   23])"
      ]
     },
     "execution_count": 24,
     "metadata": {},
     "output_type": "execute_result"
    }
   ],
   "source": [
    "import numpy as np\n",
    "import matplotlib as plt\n",
    "plt.rc('font', family='NanumGothic') \n",
    "matplotlib.rcParams['axes.unicode_minus'] = False\n",
    "data = np.random.randint(-100, 100, 50).cumsum()\n",
    "data"
   ]
  },
  {
   "cell_type": "code",
   "execution_count": 25,
   "metadata": {
    "ExecuteTime": {
     "end_time": "2020-08-04T02:31:56.641809Z",
     "start_time": "2020-08-04T02:31:56.553076Z"
    }
   },
   "outputs": [
    {
     "data": {
      "text/plain": [
       "Text(0, 0.5, '가격')"
      ]
     },
     "execution_count": 25,
     "metadata": {},
     "output_type": "execute_result"
    },
    {
     "data": {
      "image/png": "[encoded data removed]",
      "text/plain": [
       "<Figure size 1008x288 with 1 Axes>"
      ]
     },
     "metadata": {
      "needs_background": "light"
     },
     "output_type": "display_data"
    }
   ],
   "source": [
    "plt.plot(range(50), data, 'r')\n",
    "plt.title('가격변동 추이')\n",
    "plt.ylabel('가격')"
   ]
  },
  {
   "cell_type": "code",
   "execution_count": 26,
   "metadata": {
    "ExecuteTime": {
     "end_time": "2020-08-04T02:31:56.645235Z",
     "start_time": "2020-08-04T02:31:56.642808Z"
    }
   },
   "outputs": [
    {
     "name": "stdout",
     "output_type": "stream",
     "text": [
      "NanumGothic\n"
     ]
    }
   ],
   "source": [
    "from matplotlib import font_manager\n",
    "\n",
    "font_fname = '/usr/share/fonts/truetype/nanum/NanumGothic.ttf'\n",
    "font_family = font_manager.FontProperties(fname=font_fname).get_name()\n",
    "\n",
    "print(font_family)"
   ]
  },
  {
   "cell_type": "code",
   "execution_count": 27,
   "metadata": {
    "ExecuteTime": {
     "end_time": "2020-08-04T02:31:56.658040Z",
     "start_time": "2020-08-04T02:31:56.646317Z"
    }
   },
   "outputs": [
    {
     "name": "stdout",
     "output_type": "stream",
     "text": [
      "사용가능한 TTF 폰트 개수: 266\n"
     ]
    }
   ],
   "source": [
    "font_list = font_manager.findSystemFonts(fontpaths=None, fontext='ttf')\n",
    "\n",
    "print('사용가능한 TTF 폰트 개수:', len(font_list))"
   ]
  },
  {
   "cell_type": "code",
   "execution_count": 28,
   "metadata": {
    "ExecuteTime": {
     "end_time": "2020-08-04T02:31:56.660835Z",
     "start_time": "2020-08-04T02:31:56.658851Z"
    }
   },
   "outputs": [
    {
     "name": "stdout",
     "output_type": "stream",
     "text": [
      "['/usr/share/fonts/truetype/fonts-kalapi/Kalapi.ttf', '/usr/share/fonts/truetype/tlwg/TlwgTypo-BoldOblique.ttf', '/usr/share/fonts/truetype/liberation/LiberationMono-Bold.ttf', '/usr/share/fonts/truetype/kacst/mry_KacstQurn.ttf', '/usr/share/fonts/truetype/tlwg/Sawasdee-Oblique.ttf', '/usr/share/fonts/truetype/tlwg/Norasi-Oblique.ttf', '/usr/share/fonts/truetype/liberation2/LiberationMono-Italic.ttf', '/usr/share/fonts/truetype/padauk/Padauk-Regular.ttf', '/usr/share/fonts/truetype/tlwg/Umpush-LightOblique.ttf', '/usr/share/fonts/truetype/nanum/NanumMyeongjoEco.ttf', '/usr/share/fonts/truetype/ubuntu/Ubuntu-R.ttf', '/usr/share/fonts/truetype/kacst/KacstQurn.ttf', '/usr/share/fonts/truetype/ubuntu/UbuntuMono-B.ttf', '/usr/share/fonts/truetype/malayalam/Uroob.ttf', '/usr/share/fonts/truetype/samyak-fonts/Samyak-Malayalam.ttf', '/usr/share/fonts/truetype/tlwg/Waree-Oblique.ttf', '/usr/share/fonts/truetype/lato/Lato-Heavy.ttf', '/usr/share/fonts/truetype/nanum/NanumMyeongjoBold.ttf', '/usr/share/fonts/truetype/ubuntu/Ubuntu-L.ttf', '/usr/share/fonts/truetype/liberation2/LiberationSerif-Regular.ttf', '/usr/share/fonts/truetype/tlwg/TlwgTypewriter-BoldOblique.ttf', '/usr/share/fonts/truetype/fonts-gujr-extra/padmaa.ttf', '/usr/share/fonts/truetype/liberation2/LiberationSans-BoldItalic.ttf', '/usr/share/fonts/truetype/tlwg/Kinnari-Bold.ttf', '/usr/share/fonts/truetype/tlwg/TlwgTypo.ttf', '/usr/share/fonts/truetype/fonts-orya-extra/utkal.ttf', '/usr/share/fonts/truetype/tlwg/Umpush-BoldOblique.ttf', '/usr/share/fonts/truetype/fonts-beng-extra/JamrulNormal.ttf', '/usr/share/fonts/truetype/lato/Lato-Light.ttf', '/usr/share/fonts/truetype/tlwg/TlwgTypo-Bold.ttf', '/usr/share/fonts/truetype/liberation/LiberationSerif-Regular.ttf', '/usr/share/fonts/truetype/tlwg/TlwgMono-BoldOblique.ttf', '/usr/share/fonts/truetype/lohit-telugu/Lohit-Telugu.ttf', '/usr/share/fonts/truetype/dejavu/DejaVuSansMono.ttf', '/usr/share/fonts/truetype/malayalam/Chilanka-Regular.ttf', '/usr/share/fonts/truetype/kacst/KacstFarsi.ttf', '/usr/share/fonts/truetype/liberation2/LiberationMono-Regular.ttf', '/usr/share/fonts/truetype/tlwg/TlwgTypist-BoldOblique.ttf', '/usr/share/fonts/truetype/tlwg/Laksaman.ttf', '/usr/share/fonts/truetype/fonts-deva-extra/kalimati.ttf', '/usr/share/fonts/truetype/nanum/NanumBarunpenR.ttf', '/usr/share/fonts/truetype/tlwg/Garuda-Oblique.ttf', '/usr/share/fonts/truetype/nanum/NanumBarunGothicLight.ttf', '/usr/share/fonts/opentype/noto/NotoSerifCJK-ExtraLight.ttc', '/usr/share/fonts/opentype/noto/NotoSerifCJK-Medium.ttc', '/usr/share/fonts/truetype/lao/Phetsarath_OT.ttf', '/usr/share/fonts/truetype/freefont/FreeMonoBoldOblique.ttf', '/usr/share/fonts/truetype/lato/Lato-SemiboldItalic.ttf', '/usr/share/fonts/truetype/tlwg/TlwgTypewriter.ttf', '/usr/share/fonts/truetype/samyak/Samyak-Devanagari.ttf', '/usr/share/fonts/truetype/Sarai/Sarai.ttf', '/usr/share/fonts/truetype/fonts-beng-extra/mitra.ttf', '/usr/share/fonts/truetype/kacst/KacstBook.ttf', '/usr/share/fonts/truetype/nanum/NanumSquareEB.ttf', '/usr/share/fonts/truetype/tlwg/Waree-BoldOblique.ttf', '/usr/share/fonts/truetype/nanum/NanumGothic.ttf', '/usr/share/fonts/truetype/liberation2/LiberationSerif-Italic.ttf', '/usr/share/fonts/truetype/ubuntu/Ubuntu-M.ttf', '/usr/share/fonts/truetype/tlwg/Waree-Bold.ttf', '/usr/share/fonts/truetype/lato/Lato-HairlineItalic.ttf', '/usr/share/fonts/truetype/fonts-gujr-extra/aakar-medium.ttf', '/usr/share/fonts/truetype/liberation2/LiberationSans-Regular.ttf', '/usr/share/fonts/truetype/dejavu/DejaVuSans.ttf', '/usr/share/fonts/truetype/tlwg/Purisa.ttf', '/usr/share/fonts/truetype/ubuntu/Ubuntu-LI.ttf', '/usr/share/fonts/truetype/freefont/FreeSansOblique.ttf', '/usr/share/fonts/truetype/liberation/LiberationSans-BoldItalic.ttf', '/usr/share/fonts/truetype/tlwg/Sawasdee-BoldOblique.ttf', '/usr/share/fonts/truetype/nanum/NanumSquareRoundEB.ttf', '/usr/share/fonts/truetype/tlwg/Laksaman-Italic.ttf', '/usr/share/fonts/truetype/tlwg/Norasi.ttf', '/usr/share/fonts/truetype/malayalam/Keraleeyam.ttf', '/usr/share/fonts/truetype/lato/Lato-BlackItalic.ttf', '/usr/share/fonts/truetype/Gubbi/Gubbi.ttf', '/usr/share/fonts/truetype/nanum/NanumMyeongjoEcoBold.ttf', '/usr/share/fonts/truetype/tlwg/Loma-Bold.ttf', '/usr/share/fonts/truetype/liberation/LiberationSans-Regular.ttf', '/usr/share/fonts/truetype/liberation/LiberationSansNarrow-Bold.ttf', '/usr/share/fonts/truetype/Navilu/Navilu.ttf', '/usr/share/fonts/truetype/malayalam/Rachana-Regular.ttf', '/usr/share/fonts/truetype/freefont/FreeSerifBold.ttf', '/usr/share/fonts/truetype/tlwg/TlwgMono-Bold.ttf', '/usr/share/fonts/truetype/malayalam/AnjaliOldLipi.ttf', '/usr/share/fonts/truetype/lohit-gujarati/Lohit-Gujarati.ttf', '/usr/share/fonts/truetype/nanum/NanumGothicLight.ttf', '/usr/share/fonts/truetype/lato/Lato-BoldItalic.ttf', '/usr/share/fonts/truetype/lato/Lato-Black.ttf', '/usr/share/fonts/opentype/malayalam/Manjari-Regular.otf', '/usr/share/fonts/opentype/noto/NotoSerifCJK-Bold.ttc', '/usr/share/fonts/truetype/freefont/FreeMonoBold.ttf', '/usr/share/fonts/truetype/malayalam/Dyuthi.ttf', '/usr/share/fonts/truetype/padauk/PadaukBook-Regular.ttf', '/usr/share/fonts/truetype/kacst/KacstTitle.ttf', '/usr/share/fonts/truetype/tlwg/Sawasdee.ttf', '/usr/share/fonts/truetype/nanum/NanumSquareB.ttf', '/usr/share/fonts/truetype/tlwg/Waree.ttf', '/usr/share/fonts/truetype/fonts-gujr-extra/Rekha.ttf', '/usr/share/fonts/truetype/nanum/NanumSquareRoundB.ttf', '/usr/share/fonts/truetype/tlwg/Laksaman-Bold.ttf', '/usr/share/fonts/opentype/noto/NotoSerifCJK-Light.ttc', '/usr/share/fonts/truetype/kacst/KacstPoster.ttf', '/usr/share/fonts/truetype/liberation/LiberationSansNarrow-BoldItalic.ttf', '/usr/share/fonts/truetype/kacst/KacstDigital.ttf', '/usr/share/fonts/truetype/tlwg/TlwgTypewriter-Bold.ttf', '/usr/share/fonts/truetype/tlwg/Norasi-Italic.ttf', '/usr/share/fonts/truetype/liberation/LiberationSans-Italic.ttf', '/usr/share/fonts/truetype/ubuntu/Ubuntu-BI.ttf', '/usr/share/fonts/truetype/nanum/NanumGothicCoding.ttf', '/usr/share/fonts/truetype/nanum/NanumBarunGothicUltraLight.ttf', '/usr/share/fonts/truetype/malayalam/Rachana-Bold.ttf', '/usr/share/fonts/truetype/tlwg/Garuda-BoldOblique.ttf', '/usr/share/fonts/opentype/noto/NotoSerifCJK-Black.ttc', '/usr/share/fonts/truetype/freefont/FreeSerifBoldItalic.ttf', '/usr/share/fonts/truetype/fonts-beng-extra/LikhanNormal.ttf', '/usr/share/fonts/truetype/dejavu/DejaVuSerif-Bold.ttf', '/usr/share/fonts/truetype/liberation2/LiberationSerif-BoldItalic.ttf', '/usr/share/fonts/truetype/ttf-khmeros-core/KhmerOS.ttf', '/usr/share/fonts/truetype/nanum/NanumSquareRoundL.ttf', '/usr/share/fonts/truetype/lato/Lato-ThinItalic.ttf', '/usr/share/fonts/truetype/tlwg/TlwgTypist-Bold.ttf', '/usr/share/fonts/truetype/kacst/KacstPen.ttf', '/usr/share/fonts/truetype/nanum/NanumPen.ttf', '/usr/share/fonts/truetype/lohit-oriya/Lohit-Odia.ttf', '/usr/share/fonts/truetype/liberation/LiberationSansNarrow-Regular.ttf', '/usr/share/fonts/opentype/malayalam/Manjari-Bold.otf', '/usr/share/fonts/truetype/freefont/FreeSansBold.ttf', '/usr/share/fonts/truetype/tlwg/Laksaman-BoldItalic.ttf', '/usr/share/fonts/truetype/lato/Lato-Italic.ttf', '/usr/share/fonts/truetype/kacst/KacstArt.ttf', '/usr/share/fonts/truetype/lohit-assamese/Lohit-Assamese.ttf', '/usr/share/fonts/truetype/freefont/FreeSans.ttf', '/usr/share/fonts/truetype/lato/Lato-Medium.ttf', '/usr/share/fonts/truetype/tlwg/Garuda-Bold.ttf', '/usr/share/fonts/truetype/nanum/NanumGothicEcoBold.ttf', '/usr/share/fonts/truetype/padauk/Padauk-Bold.ttf', '/usr/share/fonts/truetype/lato/Lato-HeavyItalic.ttf', '/usr/share/fonts/truetype/kacst/KacstOffice.ttf', '/usr/share/fonts/truetype/lato/Lato-Hairline.ttf', '/usr/share/fonts/truetype/tibetan-machine/TibetanMachineUni.ttf', '/usr/share/fonts/truetype/liberation/LiberationMono-Regular.ttf', '/usr/share/fonts/truetype/nanum/NanumGothicExtraBold.ttf', '/usr/share/fonts/truetype/lohit-bengali/Lohit-Bengali.ttf', '/usr/share/fonts/truetype/fonts-beng-extra/MuktiNarrowBold.ttf', '/usr/share/fonts/truetype/lohit-tamil/Lohit-Tamil.ttf', '/usr/share/fonts/truetype/abyssinica/AbyssinicaSIL-R.ttf', '/usr/share/fonts/truetype/ubuntu/UbuntuMono-RI.ttf', '/usr/share/fonts/truetype/tlwg/Umpush-Oblique.ttf', '/usr/share/fonts/truetype/lohit-malayalam/Lohit-Malayalam.ttf', '/usr/share/fonts/truetype/noto/NotoColorEmoji.ttf', '/usr/share/fonts/truetype/tlwg/Loma-BoldOblique.ttf', '/usr/share/fonts/truetype/fonts-telu-extra/vemana2000.ttf', '/usr/share/fonts/truetype/fonts-beng-extra/ani.ttf', '/usr/share/fonts/truetype/ubuntu/Ubuntu-MI.ttf', '/usr/share/fonts/truetype/fonts-gujr-extra/padmaa-Medium-0.5.ttf', '/usr/share/fonts/truetype/liberation2/LiberationSans-Bold.ttf', '/usr/share/fonts/truetype/lato/Lato-MediumItalic.ttf', '/usr/share/fonts/truetype/tlwg/Umpush.ttf', '/usr/share/fonts/truetype/liberation/LiberationSans-Bold.ttf', '/usr/share/fonts/truetype/tlwg/TlwgTypewriter-Oblique.ttf', '/usr/share/fonts/truetype/malayalam/RaghuMalayalamSans-Regular.ttf', '/usr/share/fonts/truetype/tlwg/TlwgTypist-Oblique.ttf', '/usr/share/fonts/truetype/fonts-beng-extra/MuktiNarrow.ttf', '/usr/share/fonts/truetype/liberation/LiberationMono-Italic.ttf', '/usr/share/fonts/truetype/lato/Lato-Semibold.ttf', '/usr/share/fonts/truetype/nanum/NanumSquareR.ttf', '/usr/share/fonts/truetype/nanum/NanumGothicCoding-Bold.ttf', '/usr/share/fonts/truetype/tlwg/Kinnari-Oblique.ttf', '/usr/share/fonts/truetype/nanum/NanumSquareL.ttf', '/usr/share/fonts/truetype/liberation2/LiberationMono-Bold.ttf', '/usr/share/fonts/truetype/ubuntu/Ubuntu-RI.ttf', '/usr/share/fonts/truetype/tlwg/Norasi-Bold.ttf', '/usr/share/fonts/truetype/nanum/NanumBrush.ttf', '/usr/share/fonts/truetype/sinhala/lklug.ttf', '/usr/share/fonts/opentype/noto/NotoSansCJK-Black.ttc', '/usr/share/fonts/truetype/kacst-one/KacstOne-Bold.ttf', '/usr/share/fonts/truetype/ubuntu/Ubuntu-B.ttf', '/usr/share/fonts/truetype/ubuntu/UbuntuMono-R.ttf', '/usr/share/fonts/truetype/tlwg/Norasi-BoldItalic.ttf', '/usr/share/fonts/truetype/ubuntu/UbuntuMono-BI.ttf', '/usr/share/fonts/truetype/liberation/LiberationMono-BoldItalic.ttf', '/usr/share/fonts/truetype/tlwg/TlwgTypist.ttf', '/usr/share/fonts/truetype/nanum/NanumBarunGothic.ttf', '/usr/share/fonts/truetype/nanum/NanumBarunGothicBold.ttf', '/usr/share/fonts/truetype/pagul/Pagul.ttf', '/usr/share/fonts/truetype/tlwg/TlwgTypo-Oblique.ttf', '/usr/share/fonts/truetype/tlwg/Purisa-Oblique.ttf', '/usr/share/fonts/truetype/tlwg/Kinnari.ttf', '/usr/share/fonts/truetype/tlwg/Kinnari-BoldOblique.ttf', '/usr/share/fonts/truetype/fonts-deva-extra/samanata.ttf', '/usr/share/fonts/truetype/droid/DroidSansFallbackFull.ttf', '/usr/share/fonts/truetype/lohit-tamil-classical/Lohit-Tamil-Classical.ttf', '/usr/share/fonts/truetype/kacst/KacstTitleL.ttf', '/usr/share/fonts/truetype/freefont/FreeMono.ttf', '/usr/share/fonts/truetype/fonts-deva-extra/chandas1-2.ttf', '/usr/share/fonts/truetype/nanum/NanumMyeongjoEcoExtraBold.ttf', '/usr/share/fonts/truetype/liberation/LiberationSansNarrow-Italic.ttf', '/usr/share/fonts/truetype/liberation2/LiberationSerif-Bold.ttf', '/usr/share/fonts/truetype/nanum/NanumBarunpenB.ttf', '/usr/share/fonts/truetype/lato/Lato-Regular.ttf', '/usr/share/fonts/opentype/noto/NotoSansCJK-Thin.ttc', '/usr/share/fonts/truetype/malayalam/Meera.ttf', '/usr/share/fonts/opentype/noto/NotoSansCJK-Medium.ttc', '/usr/share/fonts/truetype/nanum/NanumMyeongjo.ttf', '/usr/share/fonts/truetype/noto/NotoMono-Regular.ttf', '/usr/share/fonts/truetype/tlwg/Loma.ttf', '/usr/share/fonts/truetype/fonts-telu-extra/Pothana2000.ttf', '/usr/share/fonts/truetype/tlwg/Kinnari-BoldItalic.ttf', '/usr/share/fonts/truetype/nanum/NanumSquareRoundR.ttf', '/usr/share/fonts/truetype/kacst-one/KacstOne.ttf', '/usr/share/fonts/truetype/freefont/FreeSansBoldOblique.ttf', '/usr/share/fonts/opentype/noto/NotoSansCJK-Bold.ttc', '/usr/share/fonts/opentype/noto/NotoSansCJK-Regular.ttc', '/usr/share/fonts/truetype/malayalam/Suruma.ttf', '/usr/share/fonts/truetype/liberation2/LiberationSans-Italic.ttf', '/usr/share/fonts/truetype/tlwg/Umpush-Bold.ttf', '/usr/share/fonts/opentype/noto/NotoSerifCJK-Regular.ttc', '/usr/share/fonts/truetype/ubuntu/Ubuntu-C.ttf', '/usr/share/fonts/truetype/tlwg/Purisa-BoldOblique.ttf', '/usr/share/fonts/truetype/lato/Lato-Thin.ttf', '/usr/share/fonts/truetype/tlwg/Purisa-Bold.ttf', '/usr/share/fonts/truetype/samyak-fonts/Samyak-Tamil.ttf', '/usr/share/fonts/truetype/nanum/NanumMyeongjoExtraBold.ttf', '/usr/share/fonts/opentype/noto/NotoSerifCJK-SemiBold.ttc', '/usr/share/fonts/truetype/freefont/FreeSerifItalic.ttf', '/usr/share/fonts/truetype/liberation2/LiberationMono-BoldItalic.ttf', '/usr/share/fonts/truetype/kacst/KacstScreen.ttf', '/usr/share/fonts/truetype/tlwg/Norasi-BoldOblique.ttf', '/usr/share/fonts/truetype/kacst/KacstLetter.ttf', '/usr/share/fonts/truetype/dejavu/DejaVuSans-Bold.ttf', '/usr/share/fonts/truetype/liberation/LiberationSerif-BoldItalic.ttf', '/usr/share/fonts/truetype/dejavu/DejaVuSerif.ttf', '/usr/share/fonts/truetype/malayalam/Karumbi.ttf', '/usr/share/fonts/truetype/samyak-fonts/Samyak-Gujarati.ttf', '/usr/share/fonts/opentype/noto/NotoSansCJK-Light.ttc', '/usr/share/fonts/truetype/freefont/FreeSerif.ttf', '/usr/share/fonts/truetype/lohit-devanagari/Lohit-Devanagari.ttf', '/usr/share/fonts/truetype/kacst/KacstNaskh.ttf', '/usr/share/fonts/truetype/nanum/NanumGothicEcoExtraBold.ttf', '/usr/share/fonts/truetype/tlwg/TlwgMono-Oblique.ttf', '/usr/share/fonts/truetype/tlwg/TlwgMono.ttf', '/usr/share/fonts/truetype/liberation/LiberationSerif-Italic.ttf', '/usr/share/fonts/truetype/openoffice/opens___.ttf', '/usr/share/fonts/truetype/tlwg/Kinnari-Italic.ttf', '/usr/share/fonts/truetype/tlwg/Loma-Oblique.ttf', '/usr/share/fonts/truetype/Nakula/nakula.ttf', '/usr/share/fonts/truetype/tlwg/Garuda.ttf', '/usr/share/fonts/truetype/dejavu/DejaVuSansMono-Bold.ttf', '/usr/share/fonts/truetype/nanum/NanumGothicBold.ttf', '/usr/share/fonts/truetype/padauk/PadaukBook-Bold.ttf', '/usr/share/fonts/truetype/freefont/FreeMonoOblique.ttf', '/usr/share/fonts/truetype/tlwg/Sawasdee-Bold.ttf', '/usr/share/fonts/truetype/fonts-guru-extra/Saab.ttf', '/usr/share/fonts/opentype/noto/NotoSansCJK-DemiLight.ttc', '/usr/share/fonts/opentype/malayalam/Manjari-Thin.otf', '/usr/share/fonts/truetype/Sahadeva/sahadeva.ttf', '/usr/share/fonts/truetype/lohit-kannada/Lohit-Kannada.ttf', '/usr/share/fonts/truetype/fonts-gujr-extra/padmaa-Bold.1.1.ttf', '/usr/share/fonts/truetype/nanum/NanumGothicEco.ttf', '/usr/share/fonts/truetype/lato/Lato-LightItalic.ttf', '/usr/share/fonts/truetype/tlwg/Umpush-Light.ttf', '/usr/share/fonts/truetype/liberation/LiberationSerif-Bold.ttf', '/usr/share/fonts/truetype/kacst/KacstDecorative.ttf', '/usr/share/fonts/truetype/ttf-khmeros-core/KhmerOSsys.ttf', '/usr/share/fonts/truetype/lato/Lato-Bold.ttf', '/usr/share/fonts/truetype/lohit-punjabi/Lohit-Gurmukhi.ttf', '/usr/share/fonts/truetype/Gargi/Gargi.ttf']\n"
     ]
    }
   ],
   "source": [
    "print(font_list)"
   ]
  },
  {
   "cell_type": "code",
   "execution_count": 29,
   "metadata": {
    "ExecuteTime": {
     "end_time": "2020-08-04T02:31:56.664929Z",
     "start_time": "2020-08-04T02:31:56.661531Z"
    }
   },
   "outputs": [
    {
     "data": {
      "text/plain": [
       "'/home/aiffel0042/.cache/matplotlib'"
      ]
     },
     "execution_count": 29,
     "metadata": {},
     "output_type": "execute_result"
    }
   ],
   "source": [
    "matplotlib.get_cachedir()"
   ]
  },
  {
   "cell_type": "code",
   "execution_count": 30,
   "metadata": {
    "ExecuteTime": {
     "end_time": "2020-08-04T02:31:56.668983Z",
     "start_time": "2020-08-04T02:31:56.665713Z"
    }
   },
   "outputs": [
    {
     "data": {
      "text/plain": [
       "'/home/aiffel0042/anaconda3/envs/aiffel/lib/python3.7/site-packages/matplotlib/mpl-data/matplotlibrc'"
      ]
     },
     "execution_count": 30,
     "metadata": {},
     "output_type": "execute_result"
    }
   ],
   "source": [
    "matplotlib.matplotlib_fname()"
   ]
  },
  {
   "cell_type": "code",
   "execution_count": null,
   "metadata": {},
   "outputs": [],
   "source": []
  },
  {
   "cell_type": "code",
   "execution_count": null,
   "metadata": {},
   "outputs": [],
   "source": []
  }
 ],
 "metadata": {
  "kernelspec": {
   "display_name": "aiffel",
   "language": "python",
   "name": "aiffel"
  },
  "language_info": {
   "codemirror_mode": {
    "name": "ipython",
    "version": 3
   },
   "file_extension": ".py",
   "mimetype": "text/x-python",
   "name": "python",
   "nbconvert_exporter": "python",
   "pygments_lexer": "ipython3",
   "version": "3.7.7"
  },
  "toc": {
   "base_numbering": 1,
   "nav_menu": {},
   "number_sections": true,
   "sideBar": true,
   "skip_h1_title": false,
   "title_cell": "Table of Contents",
   "title_sidebar": "Contents",
   "toc_cell": false,
   "toc_position": {},
   "toc_section_display": true,
   "toc_window_display": false
  }
 },
 "nbformat": 4,
 "nbformat_minor": 4
}